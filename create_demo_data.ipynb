{
  "nbformat": 4,
  "nbformat_minor": 0,
  "metadata": {
    "kernelspec": {
      "display_name": "Python 3",
      "language": "python",
      "name": "python3"
    },
    "language_info": {
      "codemirror_mode": {
        "name": "ipython",
        "version": 3
      },
      "file_extension": ".py",
      "mimetype": "text/x-python",
      "name": "python",
      "nbconvert_exporter": "python",
      "pygments_lexer": "ipython3",
      "version": "3.7.3"
    },
    "colab": {
      "name": "eda.ipynb",
      "provenance": []
    }
  },
  "cells": [
    {
      "cell_type": "code",
      "metadata": {
        "id": "eBNuWj1E19wF",
        "colab_type": "code",
        "colab": {}
      },
      "source": [
        "import os\n",
        "import numpy as np\n",
        "import pandas as pd\n",
        "import matplotlib.pyplot as plt\n",
        "\n",
        "from copy import deepcopy"
      ],
      "execution_count": 1,
      "outputs": []
    },
    {
      "cell_type": "code",
      "metadata": {
        "id": "DbycjxQ62Pw8",
        "colab_type": "code",
        "colab": {
          "base_uri": "https://localhost:8080/",
          "height": 139
        },
        "outputId": "55a17f40-cb00-40da-f463-d350315d8c79"
      },
      "source": [
        "from google.colab import drive\n",
        "drive.mount('/content/gdrive')\n",
        "os.listdir('/content/gdrive/My Drive/vc_modeling')"
      ],
      "execution_count": 2,
      "outputs": [
        {
          "output_type": "stream",
          "text": [
            "Go to this URL in a browser: https://accounts.google.com/o/oauth2/auth?client_id=947318989803-6bn6qk8qdgf4n4g3pfee6491hc0brc4i.apps.googleusercontent.com&redirect_uri=urn%3aietf%3awg%3aoauth%3a2.0%3aoob&scope=email%20https%3a%2f%2fwww.googleapis.com%2fauth%2fdocs.test%20https%3a%2f%2fwww.googleapis.com%2fauth%2fdrive%20https%3a%2f%2fwww.googleapis.com%2fauth%2fdrive.photos.readonly%20https%3a%2f%2fwww.googleapis.com%2fauth%2fpeopleapi.readonly&response_type=code\n",
            "\n",
            "Enter your authorization code:\n",
            "··········\n",
            "Mounted at /content/gdrive\n"
          ],
          "name": "stdout"
        },
        {
          "output_type": "execute_result",
          "data": {
            "text/plain": [
              "['data', 'regression_targets', 'feature_extraction']"
            ]
          },
          "metadata": {
            "tags": []
          },
          "execution_count": 2
        }
      ]
    },
    {
      "cell_type": "code",
      "metadata": {
        "id": "IKGzv0KDVbnh",
        "colab_type": "code",
        "colab": {
          "base_uri": "https://localhost:8080/",
          "height": 233
        },
        "outputId": "1de9046f-6395-4c5d-f5c6-4f755bd24245"
      },
      "source": [
        "orgs = pd.read_csv(\"/content/gdrive/My Drive/vc_modeling/data/crunchbase_bulk_export/organizations.csv\")\n",
        "orgs.head(2)"
      ],
      "execution_count": 4,
      "outputs": [
        {
          "output_type": "execute_result",
          "data": {
            "text/html": [
              "<div>\n",
              "<style scoped>\n",
              "    .dataframe tbody tr th:only-of-type {\n",
              "        vertical-align: middle;\n",
              "    }\n",
              "\n",
              "    .dataframe tbody tr th {\n",
              "        vertical-align: top;\n",
              "    }\n",
              "\n",
              "    .dataframe thead th {\n",
              "        text-align: right;\n",
              "    }\n",
              "</style>\n",
              "<table border=\"1\" class=\"dataframe\">\n",
              "  <thead>\n",
              "    <tr style=\"text-align: right;\">\n",
              "      <th></th>\n",
              "      <th>uuid</th>\n",
              "      <th>name</th>\n",
              "      <th>type</th>\n",
              "      <th>permalink</th>\n",
              "      <th>cb_url</th>\n",
              "      <th>rank</th>\n",
              "      <th>created_at</th>\n",
              "      <th>updated_at</th>\n",
              "      <th>legal_name</th>\n",
              "      <th>roles</th>\n",
              "      <th>domain</th>\n",
              "      <th>homepage_url</th>\n",
              "      <th>country_code</th>\n",
              "      <th>state_code</th>\n",
              "      <th>region</th>\n",
              "      <th>city</th>\n",
              "      <th>address</th>\n",
              "      <th>postal_code</th>\n",
              "      <th>status</th>\n",
              "      <th>short_description</th>\n",
              "      <th>category_list</th>\n",
              "      <th>category_groups_list</th>\n",
              "      <th>num_funding_rounds</th>\n",
              "      <th>total_funding_usd</th>\n",
              "      <th>total_funding</th>\n",
              "      <th>total_funding_currency_code</th>\n",
              "      <th>founded_on</th>\n",
              "      <th>last_funding_on</th>\n",
              "      <th>closed_on</th>\n",
              "      <th>employee_count</th>\n",
              "      <th>email</th>\n",
              "      <th>phone</th>\n",
              "      <th>facebook_url</th>\n",
              "      <th>linkedin_url</th>\n",
              "      <th>twitter_url</th>\n",
              "      <th>logo_url</th>\n",
              "      <th>alias1</th>\n",
              "      <th>alias2</th>\n",
              "      <th>alias3</th>\n",
              "      <th>primary_role</th>\n",
              "      <th>num_exits</th>\n",
              "    </tr>\n",
              "  </thead>\n",
              "  <tbody>\n",
              "    <tr>\n",
              "      <th>0</th>\n",
              "      <td>e1393508-30ea-8a36-3f96-dd3226033abd</td>\n",
              "      <td>Wetpaint</td>\n",
              "      <td>organization</td>\n",
              "      <td>wetpaint</td>\n",
              "      <td>https://www.crunchbase.com/organization/wetpaint</td>\n",
              "      <td>123607.0</td>\n",
              "      <td>2007-05-25 13:51:27</td>\n",
              "      <td>2019-06-24 22:19:25</td>\n",
              "      <td>NaN</td>\n",
              "      <td>company</td>\n",
              "      <td>wetpaint.com</td>\n",
              "      <td>http://www.wetpaint.com/</td>\n",
              "      <td>USA</td>\n",
              "      <td>NY</td>\n",
              "      <td>New York</td>\n",
              "      <td>New York</td>\n",
              "      <td>902 Broadway 11th Floor New</td>\n",
              "      <td>10010</td>\n",
              "      <td>acquired</td>\n",
              "      <td>Wetpaint offers an online social publishing pl...</td>\n",
              "      <td>Publishing,Social Media,Social Media Management</td>\n",
              "      <td>Content and Publishing,Internet Services,Media...</td>\n",
              "      <td>3.0</td>\n",
              "      <td>39750000.0</td>\n",
              "      <td>39750000.0</td>\n",
              "      <td>USD</td>\n",
              "      <td>2005-06-01</td>\n",
              "      <td>2008-05-19</td>\n",
              "      <td>NaN</td>\n",
              "      <td>51-100</td>\n",
              "      <td>info@wetpaint.com</td>\n",
              "      <td>206-859-6300</td>\n",
              "      <td>https://www.facebook.com/Wetpaint</td>\n",
              "      <td>https://www.linkedin.com/company/wetpaint</td>\n",
              "      <td>https://twitter.com/wetpainttv</td>\n",
              "      <td>https://crunchbase-production-res.cloudinary.c...</td>\n",
              "      <td>NaN</td>\n",
              "      <td>NaN</td>\n",
              "      <td>NaN</td>\n",
              "      <td>company</td>\n",
              "      <td>NaN</td>\n",
              "    </tr>\n",
              "    <tr>\n",
              "      <th>1</th>\n",
              "      <td>bf4d7b0e-b34d-2fd8-d292-6049c4f7efc7</td>\n",
              "      <td>Zoho</td>\n",
              "      <td>organization</td>\n",
              "      <td>zoho</td>\n",
              "      <td>https://www.crunchbase.com/organization/zoho</td>\n",
              "      <td>8777.0</td>\n",
              "      <td>2007-05-26 02:30:28</td>\n",
              "      <td>2018-10-27 00:29:49</td>\n",
              "      <td>NaN</td>\n",
              "      <td>investor,company</td>\n",
              "      <td>zoho.com</td>\n",
              "      <td>https://www.zoho.com/</td>\n",
              "      <td>USA</td>\n",
              "      <td>CA</td>\n",
              "      <td>California</td>\n",
              "      <td>Pleasanton</td>\n",
              "      <td>4141 Hacienda Drive</td>\n",
              "      <td>94588</td>\n",
              "      <td>operating</td>\n",
              "      <td>Zoho offers a suite of business, collaboration...</td>\n",
              "      <td>Cloud Computing,Collaboration,CRM,Developer To...</td>\n",
              "      <td>Information Technology,Internet Services,Priva...</td>\n",
              "      <td>NaN</td>\n",
              "      <td>NaN</td>\n",
              "      <td>NaN</td>\n",
              "      <td>NaN</td>\n",
              "      <td>1996-09-15</td>\n",
              "      <td>NaN</td>\n",
              "      <td>NaN</td>\n",
              "      <td>1001-5000</td>\n",
              "      <td>info@zohocorp.com</td>\n",
              "      <td>NaN</td>\n",
              "      <td>http://www.facebook.com/zoho</td>\n",
              "      <td>http://www.linkedin.com/company/zoho-corporati...</td>\n",
              "      <td>http://twitter.com/zoho</td>\n",
              "      <td>https://crunchbase-production-res.cloudinary.c...</td>\n",
              "      <td>NaN</td>\n",
              "      <td>NaN</td>\n",
              "      <td>NaN</td>\n",
              "      <td>company</td>\n",
              "      <td>1.0</td>\n",
              "    </tr>\n",
              "  </tbody>\n",
              "</table>\n",
              "</div>"
            ],
            "text/plain": [
              "                                   uuid      name  ... primary_role num_exits\n",
              "0  e1393508-30ea-8a36-3f96-dd3226033abd  Wetpaint  ...      company       NaN\n",
              "1  bf4d7b0e-b34d-2fd8-d292-6049c4f7efc7      Zoho  ...      company       1.0\n",
              "\n",
              "[2 rows x 41 columns]"
            ]
          },
          "metadata": {
            "tags": []
          },
          "execution_count": 4
        }
      ]
    },
    {
      "cell_type": "code",
      "metadata": {
        "id": "g97IbeYlV98E",
        "colab_type": "code",
        "colab": {
          "base_uri": "https://localhost:8080/",
          "height": 34
        },
        "outputId": "13a3b7f6-f709-40ec-d374-6e86fd38812d"
      },
      "source": [
        "len(orgs['uuid'].unique())"
      ],
      "execution_count": 8,
      "outputs": [
        {
          "output_type": "execute_result",
          "data": {
            "text/plain": [
              "1089733"
            ]
          },
          "metadata": {
            "tags": []
          },
          "execution_count": 8
        }
      ]
    },
    {
      "cell_type": "code",
      "metadata": {
        "id": "kFmtxxuEWT4C",
        "colab_type": "code",
        "colab": {
          "base_uri": "https://localhost:8080/",
          "height": 233
        },
        "outputId": "b20c6f41-a965-4041-a14d-76ac3cab9ea6"
      },
      "source": [
        "f = pd.read_csv(\"/content/gdrive/My Drive/vc_modeling/data/crunchbase_bulk_export/funding_rounds.csv\")\n",
        "f.head(2)"
      ],
      "execution_count": 5,
      "outputs": [
        {
          "output_type": "execute_result",
          "data": {
            "text/html": [
              "<div>\n",
              "<style scoped>\n",
              "    .dataframe tbody tr th:only-of-type {\n",
              "        vertical-align: middle;\n",
              "    }\n",
              "\n",
              "    .dataframe tbody tr th {\n",
              "        vertical-align: top;\n",
              "    }\n",
              "\n",
              "    .dataframe thead th {\n",
              "        text-align: right;\n",
              "    }\n",
              "</style>\n",
              "<table border=\"1\" class=\"dataframe\">\n",
              "  <thead>\n",
              "    <tr style=\"text-align: right;\">\n",
              "      <th></th>\n",
              "      <th>uuid</th>\n",
              "      <th>name</th>\n",
              "      <th>type</th>\n",
              "      <th>permalink</th>\n",
              "      <th>cb_url</th>\n",
              "      <th>rank</th>\n",
              "      <th>created_at</th>\n",
              "      <th>updated_at</th>\n",
              "      <th>country_code</th>\n",
              "      <th>state_code</th>\n",
              "      <th>region</th>\n",
              "      <th>city</th>\n",
              "      <th>investment_type</th>\n",
              "      <th>announced_on</th>\n",
              "      <th>raised_amount_usd</th>\n",
              "      <th>raised_amount</th>\n",
              "      <th>raised_amount_currency_code</th>\n",
              "      <th>post_money_valuation_usd</th>\n",
              "      <th>post_money_valuation</th>\n",
              "      <th>post_money_valuation_currency_code</th>\n",
              "      <th>investor_count</th>\n",
              "      <th>org_uuid</th>\n",
              "      <th>org_name</th>\n",
              "      <th>lead_investor_uuids</th>\n",
              "    </tr>\n",
              "  </thead>\n",
              "  <tbody>\n",
              "    <tr>\n",
              "      <th>0</th>\n",
              "      <td>8a945939-18e0-cc9d-27b9-bf33817b2818</td>\n",
              "      <td>Angel Round - Facebook</td>\n",
              "      <td>funding_round</td>\n",
              "      <td>facebook-angel--8a945939</td>\n",
              "      <td>https://www.crunchbase.com/funding_round/faceb...</td>\n",
              "      <td>143236.0</td>\n",
              "      <td>2007-05-27 06:08:18</td>\n",
              "      <td>2018-02-12 23:05:39</td>\n",
              "      <td>USA</td>\n",
              "      <td>CA</td>\n",
              "      <td>California</td>\n",
              "      <td>Menlo Park</td>\n",
              "      <td>angel</td>\n",
              "      <td>2004-09-01</td>\n",
              "      <td>500000.0</td>\n",
              "      <td>500000.0</td>\n",
              "      <td>USD</td>\n",
              "      <td>NaN</td>\n",
              "      <td>NaN</td>\n",
              "      <td>USD</td>\n",
              "      <td>4.0</td>\n",
              "      <td>df662812-7f97-0b43-9d3e-12f64f504fbb</td>\n",
              "      <td>Facebook</td>\n",
              "      <td>3f47be49-2e32-8118-01a0-31685a4d0fd7</td>\n",
              "    </tr>\n",
              "    <tr>\n",
              "      <th>1</th>\n",
              "      <td>d950d7a5-79ff-fb93-ca87-13386b0e2feb</td>\n",
              "      <td>Series A - Facebook</td>\n",
              "      <td>funding_round</td>\n",
              "      <td>facebook-series-a--d950d7a5</td>\n",
              "      <td>https://www.crunchbase.com/funding_round/faceb...</td>\n",
              "      <td>145939.0</td>\n",
              "      <td>2007-05-27 06:09:10</td>\n",
              "      <td>2018-02-12 23:52:16</td>\n",
              "      <td>USA</td>\n",
              "      <td>CA</td>\n",
              "      <td>California</td>\n",
              "      <td>Menlo Park</td>\n",
              "      <td>series_a</td>\n",
              "      <td>2005-05-01</td>\n",
              "      <td>12700000.0</td>\n",
              "      <td>12700000.0</td>\n",
              "      <td>USD</td>\n",
              "      <td>98000000.0</td>\n",
              "      <td>98000000.0</td>\n",
              "      <td>USD</td>\n",
              "      <td>4.0</td>\n",
              "      <td>df662812-7f97-0b43-9d3e-12f64f504fbb</td>\n",
              "      <td>Facebook</td>\n",
              "      <td>b08efc27-da40-505a-6f9d-c9e14247bf36</td>\n",
              "    </tr>\n",
              "  </tbody>\n",
              "</table>\n",
              "</div>"
            ],
            "text/plain": [
              "                                   uuid  ...                   lead_investor_uuids\n",
              "0  8a945939-18e0-cc9d-27b9-bf33817b2818  ...  3f47be49-2e32-8118-01a0-31685a4d0fd7\n",
              "1  d950d7a5-79ff-fb93-ca87-13386b0e2feb  ...  b08efc27-da40-505a-6f9d-c9e14247bf36\n",
              "\n",
              "[2 rows x 24 columns]"
            ]
          },
          "metadata": {
            "tags": []
          },
          "execution_count": 5
        }
      ]
    },
    {
      "cell_type": "code",
      "metadata": {
        "id": "u7rct74vWCX5",
        "colab_type": "code",
        "colab": {
          "base_uri": "https://localhost:8080/",
          "height": 111
        },
        "outputId": "9aea4ffd-75ca-4ad4-d684-590050fb0aea"
      },
      "source": [
        "round_counts = f[['org_uuid', 'uuid']].groupby('org_uuid').count().reset_index().rename({'uuid': 'funding_round_counts'}, axis=1)\n",
        "round_counts.head(2)"
      ],
      "execution_count": 14,
      "outputs": [
        {
          "output_type": "execute_result",
          "data": {
            "text/html": [
              "<div>\n",
              "<style scoped>\n",
              "    .dataframe tbody tr th:only-of-type {\n",
              "        vertical-align: middle;\n",
              "    }\n",
              "\n",
              "    .dataframe tbody tr th {\n",
              "        vertical-align: top;\n",
              "    }\n",
              "\n",
              "    .dataframe thead th {\n",
              "        text-align: right;\n",
              "    }\n",
              "</style>\n",
              "<table border=\"1\" class=\"dataframe\">\n",
              "  <thead>\n",
              "    <tr style=\"text-align: right;\">\n",
              "      <th></th>\n",
              "      <th>org_uuid</th>\n",
              "      <th>funding_round_counts</th>\n",
              "    </tr>\n",
              "  </thead>\n",
              "  <tbody>\n",
              "    <tr>\n",
              "      <th>0</th>\n",
              "      <td>00000aa4-ba42-9b68-a9c3-040c9f3bf9b9</td>\n",
              "      <td>1</td>\n",
              "    </tr>\n",
              "    <tr>\n",
              "      <th>1</th>\n",
              "      <td>000014da-0c46-b9cb-0941-3a93c027b119</td>\n",
              "      <td>7</td>\n",
              "    </tr>\n",
              "  </tbody>\n",
              "</table>\n",
              "</div>"
            ],
            "text/plain": [
              "                               org_uuid  funding_round_counts\n",
              "0  00000aa4-ba42-9b68-a9c3-040c9f3bf9b9                     1\n",
              "1  000014da-0c46-b9cb-0941-3a93c027b119                     7"
            ]
          },
          "metadata": {
            "tags": []
          },
          "execution_count": 14
        }
      ]
    },
    {
      "cell_type": "code",
      "metadata": {
        "id": "az1qZwp2WkYA",
        "colab_type": "code",
        "colab": {
          "base_uri": "https://localhost:8080/",
          "height": 34
        },
        "outputId": "ece8e7d5-a1dc-4a0b-bce9-6a01b0f96143"
      },
      "source": [
        "funded_2plus = round_counts[round_counts['funding_round_counts']>=2]\n",
        "len(funded_2plus)"
      ],
      "execution_count": 15,
      "outputs": [
        {
          "output_type": "execute_result",
          "data": {
            "text/plain": [
              "68914"
            ]
          },
          "metadata": {
            "tags": []
          },
          "execution_count": 15
        }
      ]
    },
    {
      "cell_type": "code",
      "metadata": {
        "id": "DTYrAvuPYAl1",
        "colab_type": "code",
        "colab": {
          "base_uri": "https://localhost:8080/",
          "height": 153
        },
        "outputId": "ee9ed405-b367-494a-f03f-2d1f45f63ebd"
      },
      "source": [
        "f.investment_type.unique()"
      ],
      "execution_count": 16,
      "outputs": [
        {
          "output_type": "execute_result",
          "data": {
            "text/plain": [
              "array(['angel', 'series_a', 'series_b', 'seed', 'series_c', 'series_d',\n",
              "       'series_unknown', 'debt_financing', 'series_e', 'private_equity',\n",
              "       'series_f', 'undisclosed', 'pre_seed', 'grant', 'convertible_note',\n",
              "       'post_ipo_equity', 'post_ipo_debt', 'non_equity_assistance',\n",
              "       'corporate_round', 'series_i', 'series_g', 'secondary_market',\n",
              "       'initial_coin_offering', 'series_h', 'product_crowdfunding',\n",
              "       'equity_crowdfunding', 'series_j', 'post_ipo_secondary'],\n",
              "      dtype=object)"
            ]
          },
          "metadata": {
            "tags": []
          },
          "execution_count": 16
        }
      ]
    },
    {
      "cell_type": "code",
      "metadata": {
        "id": "6jHKbEEMWkaW",
        "colab_type": "code",
        "colab": {}
      },
      "source": [
        "use_stages = ['seed', 'series_a', 'series_b', 'series_c', 'series_d', 'series_e', 'series_f']\n",
        "use_f = f[f['investment_type'].isin(use_stages)]"
      ],
      "execution_count": 21,
      "outputs": []
    },
    {
      "cell_type": "code",
      "metadata": {
        "id": "y3o7X12vXjeI",
        "colab_type": "code",
        "colab": {
          "base_uri": "https://localhost:8080/",
          "height": 111
        },
        "outputId": "7856f2e4-981b-4620-9018-59345ba6e801"
      },
      "source": [
        "use_round_counts = use_f[['org_uuid', 'uuid']].groupby('org_uuid').count().reset_index().rename({'uuid': 'funding_round_counts'}, axis=1)\n",
        "use_round_counts.head(2)"
      ],
      "execution_count": 22,
      "outputs": [
        {
          "output_type": "execute_result",
          "data": {
            "text/html": [
              "<div>\n",
              "<style scoped>\n",
              "    .dataframe tbody tr th:only-of-type {\n",
              "        vertical-align: middle;\n",
              "    }\n",
              "\n",
              "    .dataframe tbody tr th {\n",
              "        vertical-align: top;\n",
              "    }\n",
              "\n",
              "    .dataframe thead th {\n",
              "        text-align: right;\n",
              "    }\n",
              "</style>\n",
              "<table border=\"1\" class=\"dataframe\">\n",
              "  <thead>\n",
              "    <tr style=\"text-align: right;\">\n",
              "      <th></th>\n",
              "      <th>org_uuid</th>\n",
              "      <th>funding_round_counts</th>\n",
              "    </tr>\n",
              "  </thead>\n",
              "  <tbody>\n",
              "    <tr>\n",
              "      <th>0</th>\n",
              "      <td>00002470-bff7-6226-5800-0ca1b3787b6f</td>\n",
              "      <td>4</td>\n",
              "    </tr>\n",
              "    <tr>\n",
              "      <th>1</th>\n",
              "      <td>0000d497-c93a-eea3-eeb0-a943dfb4f71e</td>\n",
              "      <td>1</td>\n",
              "    </tr>\n",
              "  </tbody>\n",
              "</table>\n",
              "</div>"
            ],
            "text/plain": [
              "                               org_uuid  funding_round_counts\n",
              "0  00002470-bff7-6226-5800-0ca1b3787b6f                     4\n",
              "1  0000d497-c93a-eea3-eeb0-a943dfb4f71e                     1"
            ]
          },
          "metadata": {
            "tags": []
          },
          "execution_count": 22
        }
      ]
    },
    {
      "cell_type": "code",
      "metadata": {
        "id": "aLJemNrDXjgq",
        "colab_type": "code",
        "colab": {
          "base_uri": "https://localhost:8080/",
          "height": 34
        },
        "outputId": "41993d06-8721-429f-b514-07923e6dedf7"
      },
      "source": [
        "use_funded_2plus = use_round_counts[use_round_counts['funding_round_counts']>=2]\n",
        "len(use_funded_2plus)"
      ],
      "execution_count": 23,
      "outputs": [
        {
          "output_type": "execute_result",
          "data": {
            "text/plain": [
              "37191"
            ]
          },
          "metadata": {
            "tags": []
          },
          "execution_count": 23
        }
      ]
    },
    {
      "cell_type": "code",
      "metadata": {
        "id": "4_92dCgUXjjQ",
        "colab_type": "code",
        "colab": {
          "base_uri": "https://localhost:8080/",
          "height": 128
        },
        "outputId": "b43f7d2f-a948-4cd6-8093-d28f65aa00ba"
      },
      "source": [
        "use_orgs = use_funded_2plus.org_uuid.unique()\n",
        "demo_data = orgs[(orgs['uuid'].isin(use_orgs)) & (orgs['founded_on'] > '2018-01-01')][['name', 'founded_on']].dropna()\n",
        "print(len(demo_data))\n",
        "demo_data.head(2)"
      ],
      "execution_count": 44,
      "outputs": [
        {
          "output_type": "stream",
          "text": [
            "741\n"
          ],
          "name": "stdout"
        },
        {
          "output_type": "execute_result",
          "data": {
            "text/html": [
              "<div>\n",
              "<style scoped>\n",
              "    .dataframe tbody tr th:only-of-type {\n",
              "        vertical-align: middle;\n",
              "    }\n",
              "\n",
              "    .dataframe tbody tr th {\n",
              "        vertical-align: top;\n",
              "    }\n",
              "\n",
              "    .dataframe thead th {\n",
              "        text-align: right;\n",
              "    }\n",
              "</style>\n",
              "<table border=\"1\" class=\"dataframe\">\n",
              "  <thead>\n",
              "    <tr style=\"text-align: right;\">\n",
              "      <th></th>\n",
              "      <th>name</th>\n",
              "      <th>founded_on</th>\n",
              "    </tr>\n",
              "  </thead>\n",
              "  <tbody>\n",
              "    <tr>\n",
              "      <th>181</th>\n",
              "      <td>Kosiso - store</td>\n",
              "      <td>2020-06-06</td>\n",
              "    </tr>\n",
              "    <tr>\n",
              "      <th>75725</th>\n",
              "      <td>Cloudsnap</td>\n",
              "      <td>2018-09-01</td>\n",
              "    </tr>\n",
              "  </tbody>\n",
              "</table>\n",
              "</div>"
            ],
            "text/plain": [
              "                 name  founded_on\n",
              "181    Kosiso - store  2020-06-06\n",
              "75725       Cloudsnap  2018-09-01"
            ]
          },
          "metadata": {
            "tags": []
          },
          "execution_count": 44
        }
      ]
    },
    {
      "cell_type": "code",
      "metadata": {
        "id": "sqrm1OmzWCal",
        "colab_type": "code",
        "colab": {}
      },
      "source": [
        "demo_data.to_csv(\"/content/gdrive/My Drive/vc_modeling/data/demo_data.csv\", index=False)"
      ],
      "execution_count": 45,
      "outputs": []
    },
    {
      "cell_type": "code",
      "metadata": {
        "id": "JGYWEPXNk4BT",
        "colab_type": "code",
        "colab": {}
      },
      "source": [
        ""
      ],
      "execution_count": null,
      "outputs": []
    }
  ]
}