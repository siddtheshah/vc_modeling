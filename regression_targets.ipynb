{
  "nbformat": 4,
  "nbformat_minor": 0,
  "metadata": {
    "colab": {
      "name": "regression_targets.ipynb",
      "provenance": [],
      "authorship_tag": "ABX9TyMM3envco+9/3W2tHMZvI8r",
      "include_colab_link": true
    },
    "kernelspec": {
      "name": "python3",
      "display_name": "Python 3"
    }
  },
  "cells": [
    {
      "cell_type": "markdown",
      "metadata": {
        "id": "view-in-github",
        "colab_type": "text"
      },
      "source": [
        "<a href=\"https://colab.research.google.com/github/siddtheshah/vc_modeling/blob/master/regression_targets.ipynb\" target=\"_parent\"><img src=\"https://colab.research.google.com/assets/colab-badge.svg\" alt=\"Open In Colab\"/></a>"
      ]
    },
    {
      "cell_type": "code",
      "metadata": {
        "id": "_-pY4jSsgm_K",
        "colab_type": "code",
        "colab": {
          "base_uri": "https://localhost:8080/",
          "height": 36
        },
        "outputId": "98f220b9-e89a-45e7-f2b3-0fde913857fe"
      },
      "source": [
        "import os\n",
        "import numpy as np\n",
        "import pandas as pd\n",
        "import matplotlib.pyplot as plt\n",
        "\n",
        "!pip install cityhash\n",
        "import cityhash\n",
        "from copy import deepcopy"
      ],
      "execution_count": 1,
      "outputs": [
        {
          "output_type": "stream",
          "text": [
            "Requirement already satisfied: cityhash in /usr/local/lib/python3.6/dist-packages (0.2.3.post9)\n"
          ],
          "name": "stdout"
        }
      ]
    },
    {
      "cell_type": "code",
      "metadata": {
        "id": "UfZWKIoJgxTF",
        "colab_type": "code",
        "colab": {
          "base_uri": "https://localhost:8080/",
          "height": 36
        },
        "outputId": "40bf35ea-0342-4f31-f267-31e170d77ed8"
      },
      "source": [
        "from google.colab import drive\n",
        "drive.mount('/content/gdrive')"
      ],
      "execution_count": 2,
      "outputs": [
        {
          "output_type": "stream",
          "text": [
            "Drive already mounted at /content/gdrive; to attempt to forcibly remount, call drive.mount(\"/content/gdrive\", force_remount=True).\n"
          ],
          "name": "stdout"
        }
      ]
    },
    {
      "cell_type": "code",
      "metadata": {
        "id": "WDnCUjqjg4Z7",
        "colab_type": "code",
        "colab": {
          "base_uri": "https://localhost:8080/",
          "height": 74
        },
        "outputId": "04bf70d2-2347-4808-8371-4969c0161d39"
      },
      "source": [
        "file_names = os.listdir(\"/content/gdrive/My Drive/vc_modeling/data/crunchbase_bulk_export/\")\n",
        "df_names = [x[:-4] for x in file_names]\n",
        "print(df_names)\n",
        "\n",
        "dfs = [pd.read_csv(\"/content/gdrive/My Drive/vc_modeling/data/crunchbase_bulk_export/\"+x) for x in file_names]\n",
        "df_dict = dict(zip(df_names, dfs))\n",
        "print(df_dict.keys())"
      ],
      "execution_count": 3,
      "outputs": [
        {
          "output_type": "stream",
          "text": [
            "['category_groups', 'funding_rounds', 'people', 'checksum', 'people_descriptions', 'investors', 'organization_descriptions', 'investment_partners', 'event_appearances', 'organizations', 'org_parents', 'jobs', 'acquisitions', 'funds', 'ipos', 'degrees', 'investments', 'events']\n",
            "dict_keys(['category_groups', 'funding_rounds', 'people', 'checksum', 'people_descriptions', 'investors', 'organization_descriptions', 'investment_partners', 'event_appearances', 'organizations', 'org_parents', 'jobs', 'acquisitions', 'funds', 'ipos', 'degrees', 'investments', 'events'])\n"
          ],
          "name": "stdout"
        }
      ]
    },
    {
      "cell_type": "code",
      "metadata": {
        "id": "NO4Q0t2v3fRo",
        "colab_type": "code",
        "colab": {}
      },
      "source": [
        "df_dict[\"organizations\"][:200]"
      ],
      "execution_count": null,
      "outputs": []
    },
    {
      "cell_type": "markdown",
      "metadata": {
        "id": "LxzwlcftGFrg",
        "colab_type": "text"
      },
      "source": [
        "### Validation"
      ]
    },
    {
      "cell_type": "code",
      "metadata": {
        "id": "jmQxPCr2gIpW",
        "colab_type": "code",
        "colab": {
          "base_uri": "https://localhost:8080/",
          "height": 542
        },
        "outputId": "eeb8cdb0-2bc7-4c21-83de-8f56a79d99de"
      },
      "source": [
        "print(np.shape(df_dict['organizations']))\n",
        "print(np.shape(df_dict['funding_rounds']))\n",
        "\n",
        "fr = df_dict['funding_rounds']['org_uuid'].apply(cityhash.CityHash64)\n",
        "orgs = df_dict['organizations']['uuid'].apply(cityhash.CityHash64)\n",
        "print(fr, orgs)\n",
        "\n",
        "frogs = fr[fr.isin(orgs)]\n",
        "print(frogs[0])\n",
        "print(np.shape(frogs))\n",
        "\n",
        "orgfrs = orgs[orgs.isin(fr)]\n",
        "print(np.shape(orgfrs))"
      ],
      "execution_count": 71,
      "outputs": [
        {
          "output_type": "stream",
          "text": [
            "(1089733, 41)\n",
            "(333176, 24)\n",
            "0          5087506707876194815\n",
            "1          5087506707876194815\n",
            "2          5087506707876194815\n",
            "3          1053843699762228743\n",
            "4         17418110891307706341\n",
            "                  ...         \n",
            "333171     1693115704498827940\n",
            "333172    11932824214984234785\n",
            "333173    11932824214984234785\n",
            "333174    11939097437904463371\n",
            "333175     9204522222235410490\n",
            "Name: org_uuid, Length: 333176, dtype: uint64 0          13685534557686295101\n",
            "1            764015621929367586\n",
            "2          10846552445983457719\n",
            "3          10693046220981818130\n",
            "4           5087506707876194815\n",
            "                   ...         \n",
            "1089728     7648380604111671063\n",
            "1089729    15062640940509416191\n",
            "1089730     9929788675484222851\n",
            "1089731     2009917061565156091\n",
            "1089732    12539503581336717831\n",
            "Name: uuid, Length: 1089733, dtype: uint64\n",
            "5087506707876194815\n",
            "(333176,)\n",
            "(177522,)\n"
          ],
          "name": "stdout"
        }
      ]
    },
    {
      "cell_type": "code",
      "metadata": {
        "id": "m1CgKQh7JUiN",
        "colab_type": "code",
        "colab": {
          "base_uri": "https://localhost:8080/",
          "height": 73
        },
        "outputId": "97d05ded-6f58-4f16-e46a-4443e24bbcfe"
      },
      "source": [
        "def maybe_add_funding_estimates(row):\n",
        "  # print(row)\n",
        "  # print(\"Row printed\")\n",
        "  # print(np.isnan(row['post_money_valuation_usd']))\n",
        "  if np.isnan(row['post_money_valuation_usd']) and not np.isnan(row['raised_amount_usd']):\n",
        "    if row['raised_amount_usd'] < 1:\n",
        "      row['post_money_valuation_usd'] = 10000\n",
        "    else:\n",
        "      # print(\"Replaced: \", row['post_money_valuation_usd'], \" \", row['raised_amount_usd']*3)\n",
        "      row['post_money_valuation_usd'] = row['raised_amount_usd']*5\n",
        "  return row['post_money_valuation_usd']\n",
        "\n",
        "df = pd.DataFrame(list(zip([np.nan, np.nan], ['1000', '1000'])) ,columns =['post_money_valuation_usd', 'raised_amount_usd']).astype(np.float32)\n",
        "df['post_money_valuation_usd'] = df.apply(maybe_add_funding_estimates, axis=1)\n",
        "print(df)"
      ],
      "execution_count": 9,
      "outputs": [
        {
          "output_type": "stream",
          "text": [
            "   post_money_valuation_usd  raised_amount_usd\n",
            "0                    5000.0             1000.0\n",
            "1                    5000.0             1000.0\n"
          ],
          "name": "stdout"
        }
      ]
    },
    {
      "cell_type": "code",
      "metadata": {
        "id": "6HAoap-5JjIQ",
        "colab_type": "code",
        "colab": {}
      },
      "source": [
        "imputed_funding_rounds = deepcopy(df_dict[\"funding_rounds\"])\n",
        "# print(imputed_funding_rounds)\n",
        "imputed_funding_rounds['post_money_valuation_usd'] = imputed_funding_rounds.apply(maybe_add_funding_estimates, axis=1)\n",
        "# print(imputed_funding_rounds[['post_money_valuation_usd', 'raised_amount_usd']])"
      ],
      "execution_count": 10,
      "outputs": []
    },
    {
      "cell_type": "code",
      "metadata": {
        "id": "odiyosZig9Wx",
        "colab_type": "code",
        "colab": {
          "base_uri": "https://localhost:8080/",
          "height": 167
        },
        "outputId": "1a03b88e-694c-4c4e-874a-b069c94e0a67"
      },
      "source": [
        "print(imputed_funding_rounds.head())\n",
        "\n",
        "funding_data = imputed_funding_rounds[['org_uuid', 'announced_on', 'post_money_valuation_usd']].rename(\n",
        "    columns={\"announced_on\": \"date\", \"post_money_valuation_usd\": \"valuation\"})\n",
        "\n",
        "acquisitions_data = deepcopy(df_dict[\"acquisitions\"][['acquiree_uuid', 'acquired_on', 'price_usd']]).rename(\n",
        "    columns={\"acquiree_uuid\": \"org_uuid\", \"acquired_on\": \"date\", \"price_usd\": \"valuation\"})\n",
        "ipos_data = deepcopy(df_dict[\"ipos\"][['org_uuid', 'went_public_on', 'valuation_price_usd']]).rename(\n",
        "    columns={\"went_public_on\": \"date\", \"valuation_price_usd\": \"valuation\"})\n",
        "\n",
        "types = df_dict[\"acquisitions\"][['type']].values\n",
        "acquisition_types = df_dict[\"acquisitions\"][['acquisition_type']].values\n",
        "acquisitions_data['event'] = [types[x][0] if not isinstance(acquisition_types[x][0], str) \n",
        "                              else acquisition_types[x][0] for x in range(len(acquisitions_data))]\n",
        "funding_data['event'] = pd.Series([x[0] for x in df_dict[\"funding_rounds\"]['name'].str.split(\" - \")])\n",
        "ipos_data['event'] = df_dict['ipos']['stock_exchange_symbol']\n",
        "\n"
      ],
      "execution_count": 12,
      "outputs": [
        {
          "output_type": "stream",
          "text": [
            "                                   uuid  ...                                lead_investor_uuids\n",
            "0  8a945939-18e0-cc9d-27b9-bf33817b2818  ...               3f47be49-2e32-8118-01a0-31685a4d0fd7\n",
            "1  d950d7a5-79ff-fb93-ca87-13386b0e2feb  ...               b08efc27-da40-505a-6f9d-c9e14247bf36\n",
            "2  6fae3958-a001-27c0-fb7e-666266aedd78  ...  e2006571-6b7a-e477-002a-f7014f48a7e3,8d5c7e48-...\n",
            "3  bcd5a63d-ed99-6963-0dd2-e36f6582f846  ...                                                NaN\n",
            "4  60e6afd9-1215-465a-dd17-0ed600d4e29b  ...               fb2f8884-ec07-895a-48d7-d9a9d4d7175c\n",
            "\n",
            "[5 rows x 24 columns]\n"
          ],
          "name": "stdout"
        }
      ]
    },
    {
      "cell_type": "code",
      "metadata": {
        "id": "l63FPX5i4m41",
        "colab_type": "code",
        "colab": {
          "base_uri": "https://localhost:8080/",
          "height": 382
        },
        "outputId": "56304d29-7f6f-4e8d-d17f-77c5e86919f7"
      },
      "source": [
        "imputed_funding_rounds.head()"
      ],
      "execution_count": 86,
      "outputs": [
        {
          "output_type": "execute_result",
          "data": {
            "text/html": [
              "<div>\n",
              "<style scoped>\n",
              "    .dataframe tbody tr th:only-of-type {\n",
              "        vertical-align: middle;\n",
              "    }\n",
              "\n",
              "    .dataframe tbody tr th {\n",
              "        vertical-align: top;\n",
              "    }\n",
              "\n",
              "    .dataframe thead th {\n",
              "        text-align: right;\n",
              "    }\n",
              "</style>\n",
              "<table border=\"1\" class=\"dataframe\">\n",
              "  <thead>\n",
              "    <tr style=\"text-align: right;\">\n",
              "      <th></th>\n",
              "      <th>uuid</th>\n",
              "      <th>name</th>\n",
              "      <th>type</th>\n",
              "      <th>permalink</th>\n",
              "      <th>cb_url</th>\n",
              "      <th>rank</th>\n",
              "      <th>created_at</th>\n",
              "      <th>updated_at</th>\n",
              "      <th>country_code</th>\n",
              "      <th>state_code</th>\n",
              "      <th>region</th>\n",
              "      <th>city</th>\n",
              "      <th>investment_type</th>\n",
              "      <th>announced_on</th>\n",
              "      <th>raised_amount_usd</th>\n",
              "      <th>raised_amount</th>\n",
              "      <th>raised_amount_currency_code</th>\n",
              "      <th>post_money_valuation_usd</th>\n",
              "      <th>post_money_valuation</th>\n",
              "      <th>post_money_valuation_currency_code</th>\n",
              "      <th>investor_count</th>\n",
              "      <th>org_uuid</th>\n",
              "      <th>org_name</th>\n",
              "      <th>lead_investor_uuids</th>\n",
              "    </tr>\n",
              "  </thead>\n",
              "  <tbody>\n",
              "    <tr>\n",
              "      <th>0</th>\n",
              "      <td>8a945939-18e0-cc9d-27b9-bf33817b2818</td>\n",
              "      <td>Angel Round - Facebook</td>\n",
              "      <td>funding_round</td>\n",
              "      <td>facebook-angel--8a945939</td>\n",
              "      <td>https://www.crunchbase.com/funding_round/faceb...</td>\n",
              "      <td>143236.0</td>\n",
              "      <td>2007-05-27 06:08:18</td>\n",
              "      <td>2018-02-12 23:05:39</td>\n",
              "      <td>USA</td>\n",
              "      <td>CA</td>\n",
              "      <td>California</td>\n",
              "      <td>Menlo Park</td>\n",
              "      <td>angel</td>\n",
              "      <td>2004-09-01</td>\n",
              "      <td>500000.0</td>\n",
              "      <td>500000.0</td>\n",
              "      <td>USD</td>\n",
              "      <td>2500000.0</td>\n",
              "      <td>NaN</td>\n",
              "      <td>USD</td>\n",
              "      <td>4.0</td>\n",
              "      <td>df662812-7f97-0b43-9d3e-12f64f504fbb</td>\n",
              "      <td>Facebook</td>\n",
              "      <td>3f47be49-2e32-8118-01a0-31685a4d0fd7</td>\n",
              "    </tr>\n",
              "    <tr>\n",
              "      <th>1</th>\n",
              "      <td>d950d7a5-79ff-fb93-ca87-13386b0e2feb</td>\n",
              "      <td>Series A - Facebook</td>\n",
              "      <td>funding_round</td>\n",
              "      <td>facebook-series-a--d950d7a5</td>\n",
              "      <td>https://www.crunchbase.com/funding_round/faceb...</td>\n",
              "      <td>145939.0</td>\n",
              "      <td>2007-05-27 06:09:10</td>\n",
              "      <td>2018-02-12 23:52:16</td>\n",
              "      <td>USA</td>\n",
              "      <td>CA</td>\n",
              "      <td>California</td>\n",
              "      <td>Menlo Park</td>\n",
              "      <td>series_a</td>\n",
              "      <td>2005-05-01</td>\n",
              "      <td>12700000.0</td>\n",
              "      <td>12700000.0</td>\n",
              "      <td>USD</td>\n",
              "      <td>98000000.0</td>\n",
              "      <td>98000000.0</td>\n",
              "      <td>USD</td>\n",
              "      <td>4.0</td>\n",
              "      <td>df662812-7f97-0b43-9d3e-12f64f504fbb</td>\n",
              "      <td>Facebook</td>\n",
              "      <td>b08efc27-da40-505a-6f9d-c9e14247bf36</td>\n",
              "    </tr>\n",
              "    <tr>\n",
              "      <th>2</th>\n",
              "      <td>6fae3958-a001-27c0-fb7e-666266aedd78</td>\n",
              "      <td>Series B - Facebook</td>\n",
              "      <td>funding_round</td>\n",
              "      <td>facebook-series-b--6fae3958</td>\n",
              "      <td>https://www.crunchbase.com/funding_round/faceb...</td>\n",
              "      <td>273250.0</td>\n",
              "      <td>2007-05-27 06:09:36</td>\n",
              "      <td>2018-02-12 23:30:46</td>\n",
              "      <td>USA</td>\n",
              "      <td>CA</td>\n",
              "      <td>California</td>\n",
              "      <td>Menlo Park</td>\n",
              "      <td>series_b</td>\n",
              "      <td>2006-04-01</td>\n",
              "      <td>27500000.0</td>\n",
              "      <td>27500000.0</td>\n",
              "      <td>USD</td>\n",
              "      <td>502500000.0</td>\n",
              "      <td>502500000.0</td>\n",
              "      <td>USD</td>\n",
              "      <td>5.0</td>\n",
              "      <td>df662812-7f97-0b43-9d3e-12f64f504fbb</td>\n",
              "      <td>Facebook</td>\n",
              "      <td>e2006571-6b7a-e477-002a-f7014f48a7e3,8d5c7e48-...</td>\n",
              "    </tr>\n",
              "    <tr>\n",
              "      <th>3</th>\n",
              "      <td>bcd5a63d-ed99-6963-0dd2-e36f6582f846</td>\n",
              "      <td>Series B - Photobucket</td>\n",
              "      <td>funding_round</td>\n",
              "      <td>photobucket-series-b--bcd5a63d</td>\n",
              "      <td>https://www.crunchbase.com/funding_round/photo...</td>\n",
              "      <td>149479.0</td>\n",
              "      <td>2007-05-29 11:05:59</td>\n",
              "      <td>2018-02-12 23:27:36</td>\n",
              "      <td>USA</td>\n",
              "      <td>CO</td>\n",
              "      <td>Colorado</td>\n",
              "      <td>Denver</td>\n",
              "      <td>series_b</td>\n",
              "      <td>2006-05-01</td>\n",
              "      <td>10500000.0</td>\n",
              "      <td>10500000.0</td>\n",
              "      <td>USD</td>\n",
              "      <td>52500000.0</td>\n",
              "      <td>NaN</td>\n",
              "      <td>USD</td>\n",
              "      <td>2.0</td>\n",
              "      <td>f53cb4de-236e-0b1b-dee8-7104a8b018f9</td>\n",
              "      <td>Photobucket</td>\n",
              "      <td>NaN</td>\n",
              "    </tr>\n",
              "    <tr>\n",
              "      <th>4</th>\n",
              "      <td>60e6afd9-1215-465a-dd17-0ed600d4e29b</td>\n",
              "      <td>Series A - Geni</td>\n",
              "      <td>funding_round</td>\n",
              "      <td>geni-series-a--60e6afd9</td>\n",
              "      <td>https://www.crunchbase.com/funding_round/geni-...</td>\n",
              "      <td>313010.0</td>\n",
              "      <td>2007-05-31 20:19:28</td>\n",
              "      <td>2018-02-12 23:41:29</td>\n",
              "      <td>USA</td>\n",
              "      <td>CA</td>\n",
              "      <td>California</td>\n",
              "      <td>West Hollywood</td>\n",
              "      <td>series_a</td>\n",
              "      <td>2007-01-17</td>\n",
              "      <td>NaN</td>\n",
              "      <td>NaN</td>\n",
              "      <td>NaN</td>\n",
              "      <td>10000000.0</td>\n",
              "      <td>10000000.0</td>\n",
              "      <td>USD</td>\n",
              "      <td>1.0</td>\n",
              "      <td>4111dc8b-c0df-2d24-ed33-30cd137b3098</td>\n",
              "      <td>Geni</td>\n",
              "      <td>fb2f8884-ec07-895a-48d7-d9a9d4d7175c</td>\n",
              "    </tr>\n",
              "  </tbody>\n",
              "</table>\n",
              "</div>"
            ],
            "text/plain": [
              "                                   uuid  ...                                lead_investor_uuids\n",
              "0  8a945939-18e0-cc9d-27b9-bf33817b2818  ...               3f47be49-2e32-8118-01a0-31685a4d0fd7\n",
              "1  d950d7a5-79ff-fb93-ca87-13386b0e2feb  ...               b08efc27-da40-505a-6f9d-c9e14247bf36\n",
              "2  6fae3958-a001-27c0-fb7e-666266aedd78  ...  e2006571-6b7a-e477-002a-f7014f48a7e3,8d5c7e48-...\n",
              "3  bcd5a63d-ed99-6963-0dd2-e36f6582f846  ...                                                NaN\n",
              "4  60e6afd9-1215-465a-dd17-0ed600d4e29b  ...               fb2f8884-ec07-895a-48d7-d9a9d4d7175c\n",
              "\n",
              "[5 rows x 24 columns]"
            ]
          },
          "metadata": {
            "tags": []
          },
          "execution_count": 86
        }
      ]
    },
    {
      "cell_type": "code",
      "metadata": {
        "id": "V-tkT_7y4ld7",
        "colab_type": "code",
        "colab": {}
      },
      "source": [
        "timelines = pd.concat([funding_data, acquisitions_data, ipos_data])\n",
        "\n",
        "# Normalize dates\n",
        "\n",
        "timelines.sort_values(by=['org_uuid', 'date'], inplace=True)\n",
        "timelines.reset_index(inplace=True, drop=True)\n",
        "\n",
        "timelines.set_index(['org_uuid'])\n",
        "grouped_timelines = timelines.groupby(['org_uuid'])"
      ],
      "execution_count": 19,
      "outputs": []
    },
    {
      "cell_type": "code",
      "metadata": {
        "id": "W_I50jGCOvgm",
        "colab_type": "code",
        "colab": {
          "base_uri": "https://localhost:8080/",
          "height": 362
        },
        "outputId": "3cc6ef8a-1460-428f-ef87-5882c2406f68"
      },
      "source": [
        "grouped_timelines.head()\n",
        "print(grouped_timelines['org_uuid'])"
      ],
      "execution_count": 32,
      "outputs": [
        {
          "output_type": "stream",
          "text": [
            "<pandas.core.groupby.generic.SeriesGroupBy object at 0x7f41298c8d68>\n"
          ],
          "name": "stdout"
        },
        {
          "output_type": "error",
          "ename": "AttributeError",
          "evalue": "ignored",
          "traceback": [
            "\u001b[0;31m---------------------------------------------------------------------------\u001b[0m",
            "\u001b[0;31mAttributeError\u001b[0m                            Traceback (most recent call last)",
            "\u001b[0;32m<ipython-input-32-46a36221931d>\u001b[0m in \u001b[0;36m<module>\u001b[0;34m()\u001b[0m\n\u001b[1;32m      1\u001b[0m \u001b[0mgrouped_timelines\u001b[0m\u001b[0;34m.\u001b[0m\u001b[0mhead\u001b[0m\u001b[0;34m(\u001b[0m\u001b[0;34m)\u001b[0m\u001b[0;34m\u001b[0m\u001b[0;34m\u001b[0m\u001b[0m\n\u001b[1;32m      2\u001b[0m \u001b[0mprint\u001b[0m\u001b[0;34m(\u001b[0m\u001b[0mgrouped_timelines\u001b[0m\u001b[0;34m[\u001b[0m\u001b[0;34m'org_uuid'\u001b[0m\u001b[0;34m]\u001b[0m\u001b[0;34m)\u001b[0m\u001b[0;34m\u001b[0m\u001b[0;34m\u001b[0m\u001b[0m\n\u001b[0;32m----> 3\u001b[0;31m \u001b[0mprint\u001b[0m\u001b[0;34m(\u001b[0m\u001b[0mnp\u001b[0m\u001b[0;34m.\u001b[0m\u001b[0mcount_nonzero\u001b[0m\u001b[0;34m(\u001b[0m\u001b[0mgrouped_timelines\u001b[0m\u001b[0;34m[\u001b[0m\u001b[0;34m'org_uuid'\u001b[0m\u001b[0;34m]\u001b[0m\u001b[0;34m.\u001b[0m\u001b[0misin\u001b[0m\u001b[0;34m(\u001b[0m\u001b[0mimputed_funding_rounds\u001b[0m\u001b[0;34m[\u001b[0m\u001b[0;34m'org_uuid'\u001b[0m\u001b[0;34m]\u001b[0m\u001b[0;34m)\u001b[0m\u001b[0;34m)\u001b[0m\u001b[0;34m)\u001b[0m\u001b[0;34m\u001b[0m\u001b[0;34m\u001b[0m\u001b[0m\n\u001b[0m",
            "\u001b[0;32m/usr/local/lib/python3.6/dist-packages/pandas/core/groupby/groupby.py\u001b[0m in \u001b[0;36m__getattr__\u001b[0;34m(self, attr)\u001b[0m\n\u001b[1;32m    579\u001b[0m \u001b[0;34m\u001b[0m\u001b[0m\n\u001b[1;32m    580\u001b[0m         raise AttributeError(\n\u001b[0;32m--> 581\u001b[0;31m             \u001b[0;34mf\"'{type(self).__name__}' object has no attribute '{attr}'\"\u001b[0m\u001b[0;34m\u001b[0m\u001b[0;34m\u001b[0m\u001b[0m\n\u001b[0m\u001b[1;32m    582\u001b[0m         )\n\u001b[1;32m    583\u001b[0m \u001b[0;34m\u001b[0m\u001b[0m\n",
            "\u001b[0;31mAttributeError\u001b[0m: 'SeriesGroupBy' object has no attribute 'isin'"
          ]
        }
      ]
    },
    {
      "cell_type": "code",
      "metadata": {
        "id": "UoIEv1XxUGQy",
        "colab_type": "code",
        "colab": {
          "base_uri": "https://localhost:8080/",
          "height": 206
        },
        "outputId": "3026382b-3d00-4851-c56f-bea8450a3114"
      },
      "source": [
        "inspect_id = 'ffffabce-6d4a-b3d1-13c0-4e90cedf5270'\n",
        "funding_data[funding_data['org_uuid'] == inspect_id].head()\n",
        "# organizations[organizations['uuid'] == inspect_id].head()"
      ],
      "execution_count": 21,
      "outputs": [
        {
          "output_type": "execute_result",
          "data": {
            "text/html": [
              "<div>\n",
              "<style scoped>\n",
              "    .dataframe tbody tr th:only-of-type {\n",
              "        vertical-align: middle;\n",
              "    }\n",
              "\n",
              "    .dataframe tbody tr th {\n",
              "        vertical-align: top;\n",
              "    }\n",
              "\n",
              "    .dataframe thead th {\n",
              "        text-align: right;\n",
              "    }\n",
              "</style>\n",
              "<table border=\"1\" class=\"dataframe\">\n",
              "  <thead>\n",
              "    <tr style=\"text-align: right;\">\n",
              "      <th></th>\n",
              "      <th>org_uuid</th>\n",
              "      <th>date</th>\n",
              "      <th>valuation</th>\n",
              "      <th>event</th>\n",
              "    </tr>\n",
              "  </thead>\n",
              "  <tbody>\n",
              "    <tr>\n",
              "      <th>132839</th>\n",
              "      <td>ffffabce-6d4a-b3d1-13c0-4e90cedf5270</td>\n",
              "      <td>2015-05-01</td>\n",
              "      <td>400000.0</td>\n",
              "      <td>Angel Round</td>\n",
              "    </tr>\n",
              "    <tr>\n",
              "      <th>132840</th>\n",
              "      <td>ffffabce-6d4a-b3d1-13c0-4e90cedf5270</td>\n",
              "      <td>2015-01-01</td>\n",
              "      <td>75000.0</td>\n",
              "      <td>Grant</td>\n",
              "    </tr>\n",
              "    <tr>\n",
              "      <th>132841</th>\n",
              "      <td>ffffabce-6d4a-b3d1-13c0-4e90cedf5270</td>\n",
              "      <td>2015-09-15</td>\n",
              "      <td>410000.0</td>\n",
              "      <td>Product Crowdfunding</td>\n",
              "    </tr>\n",
              "    <tr>\n",
              "      <th>132842</th>\n",
              "      <td>ffffabce-6d4a-b3d1-13c0-4e90cedf5270</td>\n",
              "      <td>2016-05-15</td>\n",
              "      <td>1050000.0</td>\n",
              "      <td>Seed Round</td>\n",
              "    </tr>\n",
              "    <tr>\n",
              "      <th>150066</th>\n",
              "      <td>ffffabce-6d4a-b3d1-13c0-4e90cedf5270</td>\n",
              "      <td>2017-02-09</td>\n",
              "      <td>3500000.0</td>\n",
              "      <td>Seed Round</td>\n",
              "    </tr>\n",
              "  </tbody>\n",
              "</table>\n",
              "</div>"
            ],
            "text/plain": [
              "                                    org_uuid  ...                 event\n",
              "132839  ffffabce-6d4a-b3d1-13c0-4e90cedf5270  ...           Angel Round\n",
              "132840  ffffabce-6d4a-b3d1-13c0-4e90cedf5270  ...                 Grant\n",
              "132841  ffffabce-6d4a-b3d1-13c0-4e90cedf5270  ...  Product Crowdfunding\n",
              "132842  ffffabce-6d4a-b3d1-13c0-4e90cedf5270  ...            Seed Round\n",
              "150066  ffffabce-6d4a-b3d1-13c0-4e90cedf5270  ...            Seed Round\n",
              "\n",
              "[5 rows x 4 columns]"
            ]
          },
          "metadata": {
            "tags": []
          },
          "execution_count": 21
        }
      ]
    },
    {
      "cell_type": "code",
      "metadata": {
        "id": "PUxeCM3gkyEj",
        "colab_type": "code",
        "colab": {
          "base_uri": "https://localhost:8080/",
          "height": 54
        },
        "outputId": "d0c3840a-db36-44c1-815e-dc4c25768401"
      },
      "source": [
        "import datetime\n",
        "company_timelines = {}\n",
        "\n",
        "milli_per_day = 86400  # Used for converting Unix time\n",
        "dropped = 0\n",
        "\n",
        "for company_id in timelines['org_uuid']:\n",
        "  timeline = grouped_timelines.get_group(company_id)\n",
        "  timeline = timeline[timeline['valuation'].notnull()]               # We only care about times at which there is a valuation of the company.\n",
        "  if timeline.empty:\n",
        "    dropped += 1\n",
        "    continue\n",
        "  \n",
        "  timeline = timeline.copy()\n",
        "  timeline.reset_index(inplace=True, drop=True)\n",
        "\n",
        "  day_zero = datetime.datetime.strptime(timeline['date'].iloc[0], '%Y-%m-%d').timestamp()\n",
        "  parsed_dates = pd.Series([datetime.datetime.strptime(x, '%Y-%m-%d').timestamp() for x in timeline['date']])\n",
        "  norm_dates = (parsed_dates - day_zero)/milli_per_day\n",
        "  timeline['norm_dates'] = norm_dates\n",
        "  company_timelines[company_id] = timeline\n",
        "\n",
        "print(\"Retained: \", len(company_timelines))\n",
        "print(\"Dropped: \", dropped)"
      ],
      "execution_count": 22,
      "outputs": [
        {
          "output_type": "stream",
          "text": [
            "Retained:  144569\n",
            "Dropped:  152322\n"
          ],
          "name": "stdout"
        }
      ]
    },
    {
      "cell_type": "code",
      "metadata": {
        "id": "ZWv_AKNIWPK4",
        "colab_type": "code",
        "colab": {
          "base_uri": "https://localhost:8080/",
          "height": 129
        },
        "outputId": "26c669bf-b8a8-43f0-810a-865b381fb2e7"
      },
      "source": [
        "iter = 0\n",
        "for x, y in company_timelines.items():\n",
        "  print(x)\n",
        "  iter += 1\n",
        "  if iter > 5:\n",
        "    break"
      ],
      "execution_count": 44,
      "outputs": [
        {
          "output_type": "stream",
          "text": [
            "00000aa4-ba42-9b68-a9c3-040c9f3bf9b9\n",
            "00002470-bff7-6226-5800-0ca1b3787b6f\n",
            "000095de-8e2b-82f1-32a7-c222ba3d5682\n",
            "0000d497-c93a-eea3-eeb0-a943dfb4f71e\n",
            "0001a8cc-0cdc-4a30-b4d3-da1b425069e1\n",
            "0001eae7-077d-4d0b-a717-f67bcf2a09fa\n"
          ],
          "name": "stdout"
        }
      ]
    },
    {
      "cell_type": "markdown",
      "metadata": {
        "id": "4VTvBMkQGNwx",
        "colab_type": "text"
      },
      "source": [
        "### Validation"
      ]
    },
    {
      "cell_type": "code",
      "metadata": {
        "id": "wgY_1taME3Gw",
        "colab_type": "code",
        "colab": {
          "base_uri": "https://localhost:8080/",
          "height": 223
        },
        "outputId": "873fb2c4-8e0b-41b7-f2b3-890e1f386666"
      },
      "source": [
        "check_val = '00002470-bff7-6226-5800-0ca1b3787b6f'\n",
        "print(company_timelines[check_val])\n",
        "fr_data = df_dict['funding_rounds']\n",
        "view = fr_data[fr_data['org_uuid'] == check_val]\n",
        "print(np.shape(view))\n",
        "hash_val = cityhash.CityHash64(check_val)\n",
        "print(\"Hash Value: \", hash_val)\n",
        "orgfrs_view = orgfrs[orgfrs == hash_val]\n",
        "print(orgfrs_view)\n",
        "print(orgfrs.eq(hash_val).any())"
      ],
      "execution_count": 64,
      "outputs": [
        {
          "output_type": "stream",
          "text": [
            "                               org_uuid  ... norm_valuations\n",
            "0  00002470-bff7-6226-5800-0ca1b3787b6f  ...        0.000000\n",
            "1  00002470-bff7-6226-5800-0ca1b3787b6f  ...        0.693147\n",
            "2  00002470-bff7-6226-5800-0ca1b3787b6f  ...        0.980829\n",
            "\n",
            "[3 rows x 7 columns]\n",
            "(5, 24)\n",
            "Hash Value:  13360469805707984821\n",
            "130002    13360469805707984821\n",
            "Name: uuid, dtype: uint64\n",
            "True\n"
          ],
          "name": "stdout"
        }
      ]
    },
    {
      "cell_type": "code",
      "metadata": {
        "id": "kvMFwBjokziL",
        "colab_type": "code",
        "colab": {
          "base_uri": "https://localhost:8080/",
          "height": 92
        },
        "outputId": "74dec30c-db91-48f7-9b7c-59e4a98b0eef"
      },
      "source": [
        "for company_id, timeline in company_timelines.items():\n",
        "  initial_valuation = timeline['valuation'].iloc[0]\n",
        "  timeline['initial_val'] = initial_valuation.tolist()\n",
        "  norm_valuations = pd.Series([np.log(value/initial_valuation) for value in timeline['valuation']])\n",
        "  timeline['norm_valuations'] = norm_valuations"
      ],
      "execution_count": 26,
      "outputs": [
        {
          "output_type": "stream",
          "text": [
            "/usr/local/lib/python3.6/dist-packages/ipykernel_launcher.py:4: RuntimeWarning: invalid value encountered in double_scalars\n",
            "  after removing the cwd from sys.path.\n",
            "/usr/local/lib/python3.6/dist-packages/ipykernel_launcher.py:4: RuntimeWarning: divide by zero encountered in log\n",
            "  after removing the cwd from sys.path.\n"
          ],
          "name": "stderr"
        }
      ]
    },
    {
      "cell_type": "code",
      "metadata": {
        "id": "uMz97LRqhF5Y",
        "colab_type": "code",
        "colab": {}
      },
      "source": [
        "from scipy import interpolate\n",
        "from google.colab import files\n",
        "\n",
        "def get_valuation_interpolations(timelines, day):\n",
        "  company_hashes = []\n",
        "  regression_targets = []\n",
        "  initial_valuations = []\n",
        "  for company, timeline in timelines.items():\n",
        "    x = timeline['norm_dates'].tolist()\n",
        "    y = timeline['norm_valuations'].tolist()\n",
        "\n",
        "    if len(x) < 2 or len(y) < 2:\n",
        "      regression_targets.append(0)     # Single point timeline. Leave decision to drop for downstream.\n",
        "      continue\n",
        "    \n",
        "    if day > x[-1]:\n",
        "      regression_targets.append(y[-1])  # Don't extrapolate the data at all.\n",
        "      continue\n",
        "\n",
        "    interpolator = interpolate.interp1d(x, y)\n",
        "    regression_target = interpolator(day)\n",
        "    # print(company)\n",
        "    hash = cityhash.CityHash64(company)\n",
        "    # print(frogs)\n",
        "    if not orgfrs.eq(hash_val).any():\n",
        "      print(\"Bad Hash\")\n",
        "      break\n",
        "    company_hashes.append(hash)\n",
        "    regression_targets.append(regression_target)\n",
        "    initial_valuations.append(timeline['initial_val'].tolist()[0])\n",
        "\n",
        "  return pd.DataFrame(list(zip(company_hashes, initial_valuations, regression_targets)), columns=[\"hash\", \"initial_valuation\", \"log_valuation_factor\"])\n"
      ],
      "execution_count": 69,
      "outputs": []
    },
    {
      "cell_type": "code",
      "metadata": {
        "id": "Z5DxVI4okw6U",
        "colab_type": "code",
        "colab": {
          "base_uri": "https://localhost:8080/",
          "height": 298
        },
        "outputId": "54197bf0-e6ec-422f-d105-e1b784efd7ba"
      },
      "source": [
        "# for day in [200, 500, 1000, 2000]:\n",
        "for day in [200]:\n",
        "  frame = get_valuation_interpolations(company_timelines, day)\n",
        "  print(frame)\n",
        "  print(np.count_nonzero(frame['log_valuation_factor']))\n",
        "  frame.to_pickle('/' + str(day) + '.pkl')\n"
      ],
      "execution_count": 70,
      "outputs": [
        {
          "output_type": "stream",
          "text": [
            "                       hash  initial_valuation  log_valuation_factor\n",
            "0      13360469805707984821          3000000.0                     0\n",
            "1       7551169957279540846         45000000.0    0.2665950694461328\n",
            "2      17638643441008354186          2280520.0                     0\n",
            "3      14753292511968607343          3000000.0                     0\n",
            "4      18303053280205650499         20400150.0                     0\n",
            "...                     ...                ...                   ...\n",
            "49484   1328871151505778773           600000.0     0.183442214772801\n",
            "49485  16862606919743425243           162360.0                     0\n",
            "49486  14711304329054892014         65500000.0   0.34439256698059867\n",
            "49487  17393885764651115266         20000000.0  -0.18929482403648876\n",
            "49488  12723450708549610702            75000.0                     0\n",
            "\n",
            "[49489 rows x 3 columns]\n",
            "18291\n"
          ],
          "name": "stdout"
        }
      ]
    },
    {
      "cell_type": "code",
      "metadata": {
        "id": "Ck_YnFzva9oO",
        "colab_type": "code",
        "colab": {}
      },
      "source": [
        ""
      ],
      "execution_count": null,
      "outputs": []
    }
  ]
}