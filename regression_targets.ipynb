{
  "nbformat": 4,
  "nbformat_minor": 0,
  "metadata": {
    "colab": {
      "name": "regression_targets.ipynb",
      "provenance": [],
      "authorship_tag": "ABX9TyM01DG2LiYVZ94GSduOWuTp",
      "include_colab_link": true
    },
    "kernelspec": {
      "name": "python3",
      "display_name": "Python 3"
    }
  },
  "cells": [
    {
      "cell_type": "markdown",
      "metadata": {
        "id": "view-in-github",
        "colab_type": "text"
      },
      "source": [
        "<a href=\"https://colab.research.google.com/github/siddtheshah/vc_modeling/blob/master/regression_targets.ipynb\" target=\"_parent\"><img src=\"https://colab.research.google.com/assets/colab-badge.svg\" alt=\"Open In Colab\"/></a>"
      ]
    },
    {
      "cell_type": "code",
      "metadata": {
        "id": "_-pY4jSsgm_K",
        "colab_type": "code",
        "colab": {
          "base_uri": "https://localhost:8080/",
          "height": 35
        },
        "outputId": "6db76b3c-c185-4190-bde6-48d81fd4232c"
      },
      "source": [
        "import os\n",
        "import numpy as np\n",
        "import pandas as pd\n",
        "import matplotlib.pyplot as plt\n",
        "\n",
        "!pip install cityhash\n",
        "import cityhash\n",
        "from copy import deepcopy"
      ],
      "execution_count": 1,
      "outputs": [
        {
          "output_type": "stream",
          "text": [
            "Requirement already satisfied: cityhash in /usr/local/lib/python3.6/dist-packages (0.2.3.post9)\n"
          ],
          "name": "stdout"
        }
      ]
    },
    {
      "cell_type": "code",
      "metadata": {
        "id": "UfZWKIoJgxTF",
        "colab_type": "code",
        "colab": {
          "base_uri": "https://localhost:8080/",
          "height": 55
        },
        "outputId": "51500c9a-cdcd-40e2-cf13-57f56fa6e0ce"
      },
      "source": [
        "from google.colab import drive\n",
        "drive.mount('/content/gdrive')"
      ],
      "execution_count": 2,
      "outputs": [
        {
          "output_type": "stream",
          "text": [
            "Drive already mounted at /content/gdrive; to attempt to forcibly remount, call drive.mount(\"/content/gdrive\", force_remount=True).\n"
          ],
          "name": "stdout"
        }
      ]
    },
    {
      "cell_type": "code",
      "metadata": {
        "id": "WDnCUjqjg4Z7",
        "colab_type": "code",
        "colab": {
          "base_uri": "https://localhost:8080/",
          "height": 74
        },
        "outputId": "7733f3c5-2d9e-4b89-a194-76a8ab55705f"
      },
      "source": [
        "file_names = os.listdir(\"/content/gdrive/My Drive/vc_modeling/data/crunchbase_bulk_export/\")\n",
        "df_names = [x[:-4] for x in file_names]\n",
        "print(df_names)\n",
        "\n",
        "dfs = [pd.read_csv(\"/content/gdrive/My Drive/vc_modeling/data/crunchbase_bulk_export/\"+x) for x in file_names]\n",
        "df_dict = dict(zip(df_names, dfs))\n",
        "print(df_dict.keys())"
      ],
      "execution_count": 3,
      "outputs": [
        {
          "output_type": "stream",
          "text": [
            "['category_groups', 'funding_rounds', 'people', 'checksum', 'people_descriptions', 'investors', 'organization_descriptions', 'investment_partners', 'event_appearances', 'organizations', 'org_parents', 'jobs', 'acquisitions', 'funds', 'ipos', 'degrees', 'investments', 'events']\n",
            "dict_keys(['category_groups', 'funding_rounds', 'people', 'checksum', 'people_descriptions', 'investors', 'organization_descriptions', 'investment_partners', 'event_appearances', 'organizations', 'org_parents', 'jobs', 'acquisitions', 'funds', 'ipos', 'degrees', 'investments', 'events'])\n"
          ],
          "name": "stdout"
        }
      ]
    },
    {
      "cell_type": "code",
      "metadata": {
        "id": "NO4Q0t2v3fRo",
        "colab_type": "code",
        "colab": {
          "base_uri": "https://localhost:8080/",
          "height": 773
        },
        "outputId": "4383b919-e8c1-4baa-f7f2-713fc35f2e16"
      },
      "source": [
        "df_dict[\"funding_rounds\"][:200]"
      ],
      "execution_count": 4,
      "outputs": [
        {
          "output_type": "execute_result",
          "data": {
            "text/html": [
              "<div>\n",
              "<style scoped>\n",
              "    .dataframe tbody tr th:only-of-type {\n",
              "        vertical-align: middle;\n",
              "    }\n",
              "\n",
              "    .dataframe tbody tr th {\n",
              "        vertical-align: top;\n",
              "    }\n",
              "\n",
              "    .dataframe thead th {\n",
              "        text-align: right;\n",
              "    }\n",
              "</style>\n",
              "<table border=\"1\" class=\"dataframe\">\n",
              "  <thead>\n",
              "    <tr style=\"text-align: right;\">\n",
              "      <th></th>\n",
              "      <th>uuid</th>\n",
              "      <th>name</th>\n",
              "      <th>type</th>\n",
              "      <th>permalink</th>\n",
              "      <th>cb_url</th>\n",
              "      <th>rank</th>\n",
              "      <th>created_at</th>\n",
              "      <th>updated_at</th>\n",
              "      <th>country_code</th>\n",
              "      <th>state_code</th>\n",
              "      <th>region</th>\n",
              "      <th>city</th>\n",
              "      <th>investment_type</th>\n",
              "      <th>announced_on</th>\n",
              "      <th>raised_amount_usd</th>\n",
              "      <th>raised_amount</th>\n",
              "      <th>raised_amount_currency_code</th>\n",
              "      <th>post_money_valuation_usd</th>\n",
              "      <th>post_money_valuation</th>\n",
              "      <th>post_money_valuation_currency_code</th>\n",
              "      <th>investor_count</th>\n",
              "      <th>org_uuid</th>\n",
              "      <th>org_name</th>\n",
              "      <th>lead_investor_uuids</th>\n",
              "    </tr>\n",
              "  </thead>\n",
              "  <tbody>\n",
              "    <tr>\n",
              "      <th>0</th>\n",
              "      <td>8a945939-18e0-cc9d-27b9-bf33817b2818</td>\n",
              "      <td>Angel Round - Facebook</td>\n",
              "      <td>funding_round</td>\n",
              "      <td>facebook-angel--8a945939</td>\n",
              "      <td>https://www.crunchbase.com/funding_round/faceb...</td>\n",
              "      <td>143236.0</td>\n",
              "      <td>2007-05-27 06:08:18</td>\n",
              "      <td>2018-02-12 23:05:39</td>\n",
              "      <td>USA</td>\n",
              "      <td>CA</td>\n",
              "      <td>California</td>\n",
              "      <td>Menlo Park</td>\n",
              "      <td>angel</td>\n",
              "      <td>2004-09-01</td>\n",
              "      <td>500000.0</td>\n",
              "      <td>500000.0</td>\n",
              "      <td>USD</td>\n",
              "      <td>NaN</td>\n",
              "      <td>NaN</td>\n",
              "      <td>USD</td>\n",
              "      <td>4.0</td>\n",
              "      <td>df662812-7f97-0b43-9d3e-12f64f504fbb</td>\n",
              "      <td>Facebook</td>\n",
              "      <td>3f47be49-2e32-8118-01a0-31685a4d0fd7</td>\n",
              "    </tr>\n",
              "    <tr>\n",
              "      <th>1</th>\n",
              "      <td>d950d7a5-79ff-fb93-ca87-13386b0e2feb</td>\n",
              "      <td>Series A - Facebook</td>\n",
              "      <td>funding_round</td>\n",
              "      <td>facebook-series-a--d950d7a5</td>\n",
              "      <td>https://www.crunchbase.com/funding_round/faceb...</td>\n",
              "      <td>145939.0</td>\n",
              "      <td>2007-05-27 06:09:10</td>\n",
              "      <td>2018-02-12 23:52:16</td>\n",
              "      <td>USA</td>\n",
              "      <td>CA</td>\n",
              "      <td>California</td>\n",
              "      <td>Menlo Park</td>\n",
              "      <td>series_a</td>\n",
              "      <td>2005-05-01</td>\n",
              "      <td>12700000.0</td>\n",
              "      <td>12700000.0</td>\n",
              "      <td>USD</td>\n",
              "      <td>98000000.0</td>\n",
              "      <td>98000000.0</td>\n",
              "      <td>USD</td>\n",
              "      <td>4.0</td>\n",
              "      <td>df662812-7f97-0b43-9d3e-12f64f504fbb</td>\n",
              "      <td>Facebook</td>\n",
              "      <td>b08efc27-da40-505a-6f9d-c9e14247bf36</td>\n",
              "    </tr>\n",
              "    <tr>\n",
              "      <th>2</th>\n",
              "      <td>6fae3958-a001-27c0-fb7e-666266aedd78</td>\n",
              "      <td>Series B - Facebook</td>\n",
              "      <td>funding_round</td>\n",
              "      <td>facebook-series-b--6fae3958</td>\n",
              "      <td>https://www.crunchbase.com/funding_round/faceb...</td>\n",
              "      <td>273250.0</td>\n",
              "      <td>2007-05-27 06:09:36</td>\n",
              "      <td>2018-02-12 23:30:46</td>\n",
              "      <td>USA</td>\n",
              "      <td>CA</td>\n",
              "      <td>California</td>\n",
              "      <td>Menlo Park</td>\n",
              "      <td>series_b</td>\n",
              "      <td>2006-04-01</td>\n",
              "      <td>27500000.0</td>\n",
              "      <td>27500000.0</td>\n",
              "      <td>USD</td>\n",
              "      <td>502500000.0</td>\n",
              "      <td>502500000.0</td>\n",
              "      <td>USD</td>\n",
              "      <td>5.0</td>\n",
              "      <td>df662812-7f97-0b43-9d3e-12f64f504fbb</td>\n",
              "      <td>Facebook</td>\n",
              "      <td>e2006571-6b7a-e477-002a-f7014f48a7e3,8d5c7e48-...</td>\n",
              "    </tr>\n",
              "    <tr>\n",
              "      <th>3</th>\n",
              "      <td>bcd5a63d-ed99-6963-0dd2-e36f6582f846</td>\n",
              "      <td>Series B - Photobucket</td>\n",
              "      <td>funding_round</td>\n",
              "      <td>photobucket-series-b--bcd5a63d</td>\n",
              "      <td>https://www.crunchbase.com/funding_round/photo...</td>\n",
              "      <td>149479.0</td>\n",
              "      <td>2007-05-29 11:05:59</td>\n",
              "      <td>2018-02-12 23:27:36</td>\n",
              "      <td>USA</td>\n",
              "      <td>CO</td>\n",
              "      <td>Colorado</td>\n",
              "      <td>Denver</td>\n",
              "      <td>series_b</td>\n",
              "      <td>2006-05-01</td>\n",
              "      <td>10500000.0</td>\n",
              "      <td>10500000.0</td>\n",
              "      <td>USD</td>\n",
              "      <td>NaN</td>\n",
              "      <td>NaN</td>\n",
              "      <td>USD</td>\n",
              "      <td>2.0</td>\n",
              "      <td>f53cb4de-236e-0b1b-dee8-7104a8b018f9</td>\n",
              "      <td>Photobucket</td>\n",
              "      <td>NaN</td>\n",
              "    </tr>\n",
              "    <tr>\n",
              "      <th>4</th>\n",
              "      <td>60e6afd9-1215-465a-dd17-0ed600d4e29b</td>\n",
              "      <td>Series A - Geni</td>\n",
              "      <td>funding_round</td>\n",
              "      <td>geni-series-a--60e6afd9</td>\n",
              "      <td>https://www.crunchbase.com/funding_round/geni-...</td>\n",
              "      <td>313010.0</td>\n",
              "      <td>2007-05-31 20:19:28</td>\n",
              "      <td>2018-02-12 23:41:29</td>\n",
              "      <td>USA</td>\n",
              "      <td>CA</td>\n",
              "      <td>California</td>\n",
              "      <td>West Hollywood</td>\n",
              "      <td>series_a</td>\n",
              "      <td>2007-01-17</td>\n",
              "      <td>NaN</td>\n",
              "      <td>NaN</td>\n",
              "      <td>NaN</td>\n",
              "      <td>10000000.0</td>\n",
              "      <td>10000000.0</td>\n",
              "      <td>USD</td>\n",
              "      <td>1.0</td>\n",
              "      <td>4111dc8b-c0df-2d24-ed33-30cd137b3098</td>\n",
              "      <td>Geni</td>\n",
              "      <td>fb2f8884-ec07-895a-48d7-d9a9d4d7175c</td>\n",
              "    </tr>\n",
              "    <tr>\n",
              "      <th>...</th>\n",
              "      <td>...</td>\n",
              "      <td>...</td>\n",
              "      <td>...</td>\n",
              "      <td>...</td>\n",
              "      <td>...</td>\n",
              "      <td>...</td>\n",
              "      <td>...</td>\n",
              "      <td>...</td>\n",
              "      <td>...</td>\n",
              "      <td>...</td>\n",
              "      <td>...</td>\n",
              "      <td>...</td>\n",
              "      <td>...</td>\n",
              "      <td>...</td>\n",
              "      <td>...</td>\n",
              "      <td>...</td>\n",
              "      <td>...</td>\n",
              "      <td>...</td>\n",
              "      <td>...</td>\n",
              "      <td>...</td>\n",
              "      <td>...</td>\n",
              "      <td>...</td>\n",
              "      <td>...</td>\n",
              "      <td>...</td>\n",
              "    </tr>\n",
              "    <tr>\n",
              "      <th>195</th>\n",
              "      <td>45e3988d-85dc-d98e-2738-00ecd8958cc4</td>\n",
              "      <td>Series B - Going</td>\n",
              "      <td>funding_round</td>\n",
              "      <td>going-series-b--45e3988d</td>\n",
              "      <td>https://www.crunchbase.com/funding_round/going...</td>\n",
              "      <td>320247.0</td>\n",
              "      <td>2007-07-25 10:43:40</td>\n",
              "      <td>2018-02-12 23:47:25</td>\n",
              "      <td>USA</td>\n",
              "      <td>MA</td>\n",
              "      <td>Massachusetts</td>\n",
              "      <td>Boston</td>\n",
              "      <td>series_b</td>\n",
              "      <td>2007-07-25</td>\n",
              "      <td>5000000.0</td>\n",
              "      <td>5000000.0</td>\n",
              "      <td>USD</td>\n",
              "      <td>NaN</td>\n",
              "      <td>NaN</td>\n",
              "      <td>USD</td>\n",
              "      <td>2.0</td>\n",
              "      <td>e95cf6be-d512-3d4a-0a28-2a1e7f46c20b</td>\n",
              "      <td>Going</td>\n",
              "      <td>34a9bb66-0984-8de0-e7fb-13e976b4a135,b51ff078-...</td>\n",
              "    </tr>\n",
              "    <tr>\n",
              "      <th>196</th>\n",
              "      <td>5c3c2595-5bd3-8cd8-e254-e6a877cca6bc</td>\n",
              "      <td>Series A - eBuddy</td>\n",
              "      <td>funding_round</td>\n",
              "      <td>ebuddy-series-a--5c3c2595</td>\n",
              "      <td>https://www.crunchbase.com/funding_round/ebudd...</td>\n",
              "      <td>96837.0</td>\n",
              "      <td>2007-07-25 11:54:44</td>\n",
              "      <td>2018-02-12 22:50:11</td>\n",
              "      <td>USA</td>\n",
              "      <td>CA</td>\n",
              "      <td>California</td>\n",
              "      <td>San Francisco</td>\n",
              "      <td>series_a</td>\n",
              "      <td>2006-10-26</td>\n",
              "      <td>6338871.0</td>\n",
              "      <td>5000000.0</td>\n",
              "      <td>EUR</td>\n",
              "      <td>NaN</td>\n",
              "      <td>NaN</td>\n",
              "      <td>USD</td>\n",
              "      <td>1.0</td>\n",
              "      <td>84a47fd6-8612-e375-0101-70e9e13cb56a</td>\n",
              "      <td>eBuddy</td>\n",
              "      <td>1371e6ae-921d-4346-5815-788c87e01e15</td>\n",
              "    </tr>\n",
              "    <tr>\n",
              "      <th>197</th>\n",
              "      <td>e514c980-5fd2-f154-65cc-d3e3f0a7d2d5</td>\n",
              "      <td>Seed Round - Jaxtr</td>\n",
              "      <td>funding_round</td>\n",
              "      <td>jaxtr-seed--e514c980</td>\n",
              "      <td>https://www.crunchbase.com/funding_round/jaxtr...</td>\n",
              "      <td>277460.0</td>\n",
              "      <td>2007-07-26 06:01:01</td>\n",
              "      <td>2020-06-19 08:24:19</td>\n",
              "      <td>USA</td>\n",
              "      <td>CA</td>\n",
              "      <td>California</td>\n",
              "      <td>Menlo Park</td>\n",
              "      <td>seed</td>\n",
              "      <td>2007-07-01</td>\n",
              "      <td>1500000.0</td>\n",
              "      <td>1500000.0</td>\n",
              "      <td>USD</td>\n",
              "      <td>NaN</td>\n",
              "      <td>NaN</td>\n",
              "      <td>USD</td>\n",
              "      <td>4.0</td>\n",
              "      <td>edbfbb52-4487-1d7c-1960-7d95f2e6809e</td>\n",
              "      <td>Jaxtr</td>\n",
              "      <td>NaN</td>\n",
              "    </tr>\n",
              "    <tr>\n",
              "      <th>198</th>\n",
              "      <td>27ba6606-2845-1abd-9d49-e90c7be92eb2</td>\n",
              "      <td>Series A - Kiptronic</td>\n",
              "      <td>funding_round</td>\n",
              "      <td>kiptronic-series-a--27ba6606</td>\n",
              "      <td>https://www.crunchbase.com/funding_round/kiptr...</td>\n",
              "      <td>197298.0</td>\n",
              "      <td>2007-07-26 06:07:04</td>\n",
              "      <td>2018-02-12 23:43:33</td>\n",
              "      <td>USA</td>\n",
              "      <td>CA</td>\n",
              "      <td>California</td>\n",
              "      <td>San Francisco</td>\n",
              "      <td>series_a</td>\n",
              "      <td>2006-12-01</td>\n",
              "      <td>4000000.0</td>\n",
              "      <td>4000000.0</td>\n",
              "      <td>USD</td>\n",
              "      <td>NaN</td>\n",
              "      <td>NaN</td>\n",
              "      <td>USD</td>\n",
              "      <td>2.0</td>\n",
              "      <td>0fc2d002-8102-1ecc-59dc-06ef55f6c7f0</td>\n",
              "      <td>Kiptronic</td>\n",
              "      <td>1a3fa9b2-a5a7-0b47-15af-5984cbb0b9a9,fcc72760-...</td>\n",
              "    </tr>\n",
              "    <tr>\n",
              "      <th>199</th>\n",
              "      <td>3e6a78bc-a7cd-d3bd-933f-a4e7ed658808</td>\n",
              "      <td>Series A - PeerMe</td>\n",
              "      <td>funding_round</td>\n",
              "      <td>peerme-series-a--3e6a78bc</td>\n",
              "      <td>https://www.crunchbase.com/funding_round/peerm...</td>\n",
              "      <td>181139.0</td>\n",
              "      <td>2007-07-26 06:35:56</td>\n",
              "      <td>2018-02-12 23:19:48</td>\n",
              "      <td>USA</td>\n",
              "      <td>CA</td>\n",
              "      <td>California</td>\n",
              "      <td>Mountain View</td>\n",
              "      <td>series_a</td>\n",
              "      <td>2005-01-01</td>\n",
              "      <td>5000000.0</td>\n",
              "      <td>5000000.0</td>\n",
              "      <td>USD</td>\n",
              "      <td>NaN</td>\n",
              "      <td>NaN</td>\n",
              "      <td>USD</td>\n",
              "      <td>3.0</td>\n",
              "      <td>28d6cc0c-4f39-e45e-ac20-bf61cf1b3935</td>\n",
              "      <td>PeerMe</td>\n",
              "      <td>NaN</td>\n",
              "    </tr>\n",
              "  </tbody>\n",
              "</table>\n",
              "<p>200 rows × 24 columns</p>\n",
              "</div>"
            ],
            "text/plain": [
              "                                     uuid  ...                                lead_investor_uuids\n",
              "0    8a945939-18e0-cc9d-27b9-bf33817b2818  ...               3f47be49-2e32-8118-01a0-31685a4d0fd7\n",
              "1    d950d7a5-79ff-fb93-ca87-13386b0e2feb  ...               b08efc27-da40-505a-6f9d-c9e14247bf36\n",
              "2    6fae3958-a001-27c0-fb7e-666266aedd78  ...  e2006571-6b7a-e477-002a-f7014f48a7e3,8d5c7e48-...\n",
              "3    bcd5a63d-ed99-6963-0dd2-e36f6582f846  ...                                                NaN\n",
              "4    60e6afd9-1215-465a-dd17-0ed600d4e29b  ...               fb2f8884-ec07-895a-48d7-d9a9d4d7175c\n",
              "..                                    ...  ...                                                ...\n",
              "195  45e3988d-85dc-d98e-2738-00ecd8958cc4  ...  34a9bb66-0984-8de0-e7fb-13e976b4a135,b51ff078-...\n",
              "196  5c3c2595-5bd3-8cd8-e254-e6a877cca6bc  ...               1371e6ae-921d-4346-5815-788c87e01e15\n",
              "197  e514c980-5fd2-f154-65cc-d3e3f0a7d2d5  ...                                                NaN\n",
              "198  27ba6606-2845-1abd-9d49-e90c7be92eb2  ...  1a3fa9b2-a5a7-0b47-15af-5984cbb0b9a9,fcc72760-...\n",
              "199  3e6a78bc-a7cd-d3bd-933f-a4e7ed658808  ...                                                NaN\n",
              "\n",
              "[200 rows x 24 columns]"
            ]
          },
          "metadata": {
            "tags": []
          },
          "execution_count": 4
        }
      ]
    },
    {
      "cell_type": "code",
      "metadata": {
        "id": "m1CgKQh7JUiN",
        "colab_type": "code",
        "colab": {}
      },
      "source": [
        "def maybe_add_funding_estimates(row):\n",
        "  # print(row)\n",
        "  # print(\"Row printed\")\n",
        "  # print(np.isnan(row['post_money_valuation_usd']))\n",
        "  if np.isnan(row['post_money_valuation_usd']) and not np.isnan(row['raised_amount_usd']):\n",
        "    if row['raised_amount_usd'] < 1:\n",
        "      row['post_money_valuation_usd'] = 10000\n",
        "    else:\n",
        "      # print(\"Replaced: \", row['post_money_valuation_usd'], \" \", row['raised_amount_usd']*3)\n",
        "      row['post_money_valuation_usd'] = row['raised_amount_usd']*5\n",
        "  return row['post_money_valuation_usd']\n",
        "\n",
        "df = pd.DataFrame(list(zip([np.nan, np.nan], ['1000', '1000'])) ,columns =['post_money_valuation_usd', 'raised_amount_usd']).astype(np.float32)\n",
        "df['post_money_valuation_usd'] = df.apply(maybe_add_funding_estimates, axis=1)"
      ],
      "execution_count": 38,
      "outputs": []
    },
    {
      "cell_type": "code",
      "metadata": {
        "id": "6HAoap-5JjIQ",
        "colab_type": "code",
        "colab": {}
      },
      "source": [
        "imputed_funding_rounds = deepcopy(df_dict[\"funding_rounds\"])\n",
        "# print(imputed_funding_rounds)\n",
        "imputed_funding_rounds['post_money_valuation_usd'] = imputed_funding_rounds.apply(maybe_add_funding_estimates, axis=1)\n",
        "# print(imputed_funding_rounds[['post_money_valuation_usd', 'raised_amount_usd']])"
      ],
      "execution_count": 46,
      "outputs": []
    },
    {
      "cell_type": "code",
      "metadata": {
        "id": "odiyosZig9Wx",
        "colab_type": "code",
        "colab": {
          "base_uri": "https://localhost:8080/",
          "height": 165
        },
        "outputId": "3f0a0f68-1208-4cd2-f210-c1338e3dbecf"
      },
      "source": [
        "print(imputed_funding_rounds.head())\n",
        "\n",
        "funding_data = imputed_funding_rounds[['org_uuid', 'announced_on', 'post_money_valuation_usd']].rename(\n",
        "    columns={\"announced_on\": \"date\", \"post_money_valuation_usd\": \"valuation\"})\n",
        "\n",
        "acquisitions_data = deepcopy(df_dict[\"acquisitions\"][['acquiree_uuid', 'acquired_on', 'price_usd']]).rename(\n",
        "    columns={\"acquiree_uuid\": \"org_uuid\", \"acquired_on\": \"date\", \"price_usd\": \"valuation\"})\n",
        "ipos_data = deepcopy(df_dict[\"ipos\"][['org_uuid', 'went_public_on', 'valuation_price_usd']]).rename(\n",
        "    columns={\"went_public_on\": \"date\", \"valuation_price_usd\": \"valuation\"})\n",
        "\n",
        "types = df_dict[\"acquisitions\"][['type']].values\n",
        "acquisition_types = df_dict[\"acquisitions\"][['acquisition_type']].values\n",
        "acquisitions_data['event'] = [types[x][0] if not isinstance(acquisition_types[x][0], str) \n",
        "                              else acquisition_types[x][0] for x in range(len(acquisitions_data))]\n",
        "funding_data['event'] = pd.Series([x[0] for x in df_dict[\"funding_rounds\"]['name'].str.split(\" - \")])\n",
        "ipos_data['event'] = df_dict['ipos']['stock_exchange_symbol']\n",
        "\n"
      ],
      "execution_count": 47,
      "outputs": [
        {
          "output_type": "stream",
          "text": [
            "                                   uuid  ...                                lead_investor_uuids\n",
            "0  8a945939-18e0-cc9d-27b9-bf33817b2818  ...               3f47be49-2e32-8118-01a0-31685a4d0fd7\n",
            "1  d950d7a5-79ff-fb93-ca87-13386b0e2feb  ...               b08efc27-da40-505a-6f9d-c9e14247bf36\n",
            "2  6fae3958-a001-27c0-fb7e-666266aedd78  ...  e2006571-6b7a-e477-002a-f7014f48a7e3,8d5c7e48-...\n",
            "3  bcd5a63d-ed99-6963-0dd2-e36f6582f846  ...                                                NaN\n",
            "4  60e6afd9-1215-465a-dd17-0ed600d4e29b  ...               fb2f8884-ec07-895a-48d7-d9a9d4d7175c\n",
            "\n",
            "[5 rows x 24 columns]\n"
          ],
          "name": "stdout"
        }
      ]
    },
    {
      "cell_type": "code",
      "metadata": {
        "id": "l63FPX5i4m41",
        "colab_type": "code",
        "colab": {
          "base_uri": "https://localhost:8080/",
          "height": 206
        },
        "outputId": "6ff5ef13-2e0a-4d50-f913-a97dd8c667a9"
      },
      "source": [
        "funding_data.head()"
      ],
      "execution_count": 48,
      "outputs": [
        {
          "output_type": "execute_result",
          "data": {
            "text/html": [
              "<div>\n",
              "<style scoped>\n",
              "    .dataframe tbody tr th:only-of-type {\n",
              "        vertical-align: middle;\n",
              "    }\n",
              "\n",
              "    .dataframe tbody tr th {\n",
              "        vertical-align: top;\n",
              "    }\n",
              "\n",
              "    .dataframe thead th {\n",
              "        text-align: right;\n",
              "    }\n",
              "</style>\n",
              "<table border=\"1\" class=\"dataframe\">\n",
              "  <thead>\n",
              "    <tr style=\"text-align: right;\">\n",
              "      <th></th>\n",
              "      <th>org_uuid</th>\n",
              "      <th>date</th>\n",
              "      <th>valuation</th>\n",
              "      <th>event</th>\n",
              "    </tr>\n",
              "  </thead>\n",
              "  <tbody>\n",
              "    <tr>\n",
              "      <th>0</th>\n",
              "      <td>df662812-7f97-0b43-9d3e-12f64f504fbb</td>\n",
              "      <td>2004-09-01</td>\n",
              "      <td>2500000.0</td>\n",
              "      <td>Angel Round</td>\n",
              "    </tr>\n",
              "    <tr>\n",
              "      <th>1</th>\n",
              "      <td>df662812-7f97-0b43-9d3e-12f64f504fbb</td>\n",
              "      <td>2005-05-01</td>\n",
              "      <td>98000000.0</td>\n",
              "      <td>Series A</td>\n",
              "    </tr>\n",
              "    <tr>\n",
              "      <th>2</th>\n",
              "      <td>df662812-7f97-0b43-9d3e-12f64f504fbb</td>\n",
              "      <td>2006-04-01</td>\n",
              "      <td>502500000.0</td>\n",
              "      <td>Series B</td>\n",
              "    </tr>\n",
              "    <tr>\n",
              "      <th>3</th>\n",
              "      <td>f53cb4de-236e-0b1b-dee8-7104a8b018f9</td>\n",
              "      <td>2006-05-01</td>\n",
              "      <td>52500000.0</td>\n",
              "      <td>Series B</td>\n",
              "    </tr>\n",
              "    <tr>\n",
              "      <th>4</th>\n",
              "      <td>4111dc8b-c0df-2d24-ed33-30cd137b3098</td>\n",
              "      <td>2007-01-17</td>\n",
              "      <td>10000000.0</td>\n",
              "      <td>Series A</td>\n",
              "    </tr>\n",
              "  </tbody>\n",
              "</table>\n",
              "</div>"
            ],
            "text/plain": [
              "                               org_uuid        date    valuation        event\n",
              "0  df662812-7f97-0b43-9d3e-12f64f504fbb  2004-09-01    2500000.0  Angel Round\n",
              "1  df662812-7f97-0b43-9d3e-12f64f504fbb  2005-05-01   98000000.0     Series A\n",
              "2  df662812-7f97-0b43-9d3e-12f64f504fbb  2006-04-01  502500000.0     Series B\n",
              "3  f53cb4de-236e-0b1b-dee8-7104a8b018f9  2006-05-01   52500000.0     Series B\n",
              "4  4111dc8b-c0df-2d24-ed33-30cd137b3098  2007-01-17   10000000.0     Series A"
            ]
          },
          "metadata": {
            "tags": []
          },
          "execution_count": 48
        }
      ]
    },
    {
      "cell_type": "code",
      "metadata": {
        "id": "V-tkT_7y4ld7",
        "colab_type": "code",
        "colab": {}
      },
      "source": [
        "timelines = pd.concat([funding_data, acquisitions_data, ipos_data])\n",
        "\n",
        "# Normalize dates\n",
        "\n",
        "timelines.sort_values(by=['org_uuid', 'date'], inplace=True)\n",
        "timelines.reset_index(inplace=True, drop=True)\n",
        "\n",
        "timelines.set_index(['org_uuid'])\n",
        "grouped_timelines = timelines.groupby(['org_uuid'])"
      ],
      "execution_count": 52,
      "outputs": []
    },
    {
      "cell_type": "code",
      "metadata": {
        "id": "W_I50jGCOvgm",
        "colab_type": "code",
        "colab": {
          "base_uri": "https://localhost:8080/",
          "height": 424
        },
        "outputId": "b0e9770d-e435-48c7-c959-793e27544368"
      },
      "source": [
        "grouped_timelines.head()"
      ],
      "execution_count": 53,
      "outputs": [
        {
          "output_type": "execute_result",
          "data": {
            "text/html": [
              "<div>\n",
              "<style scoped>\n",
              "    .dataframe tbody tr th:only-of-type {\n",
              "        vertical-align: middle;\n",
              "    }\n",
              "\n",
              "    .dataframe tbody tr th {\n",
              "        vertical-align: top;\n",
              "    }\n",
              "\n",
              "    .dataframe thead th {\n",
              "        text-align: right;\n",
              "    }\n",
              "</style>\n",
              "<table border=\"1\" class=\"dataframe\">\n",
              "  <thead>\n",
              "    <tr style=\"text-align: right;\">\n",
              "      <th></th>\n",
              "      <th>org_uuid</th>\n",
              "      <th>date</th>\n",
              "      <th>valuation</th>\n",
              "      <th>event</th>\n",
              "    </tr>\n",
              "  </thead>\n",
              "  <tbody>\n",
              "    <tr>\n",
              "      <th>0</th>\n",
              "      <td>00000aa4-ba42-9b68-a9c3-040c9f3bf9b9</td>\n",
              "      <td>2013-02-25</td>\n",
              "      <td>NaN</td>\n",
              "      <td>lbo</td>\n",
              "    </tr>\n",
              "    <tr>\n",
              "      <th>1</th>\n",
              "      <td>00000aa4-ba42-9b68-a9c3-040c9f3bf9b9</td>\n",
              "      <td>2017-05-12</td>\n",
              "      <td>NaN</td>\n",
              "      <td>acquisition</td>\n",
              "    </tr>\n",
              "    <tr>\n",
              "      <th>2</th>\n",
              "      <td>00000aa4-ba42-9b68-a9c3-040c9f3bf9b9</td>\n",
              "      <td>2017-07-17</td>\n",
              "      <td>413036820.0</td>\n",
              "      <td>Venture Round</td>\n",
              "    </tr>\n",
              "    <tr>\n",
              "      <th>3</th>\n",
              "      <td>000014da-0c46-b9cb-0941-3a93c027b119</td>\n",
              "      <td>2016-11-01</td>\n",
              "      <td>NaN</td>\n",
              "      <td>Pre Seed Round</td>\n",
              "    </tr>\n",
              "    <tr>\n",
              "      <th>4</th>\n",
              "      <td>000014da-0c46-b9cb-0941-3a93c027b119</td>\n",
              "      <td>2017-01-01</td>\n",
              "      <td>NaN</td>\n",
              "      <td>Grant</td>\n",
              "    </tr>\n",
              "    <tr>\n",
              "      <th>...</th>\n",
              "      <td>...</td>\n",
              "      <td>...</td>\n",
              "      <td>...</td>\n",
              "      <td>...</td>\n",
              "    </tr>\n",
              "    <tr>\n",
              "      <th>470726</th>\n",
              "      <td>ffffabce-6d4a-b3d1-13c0-4e90cedf5270</td>\n",
              "      <td>2016-05-15</td>\n",
              "      <td>1050000.0</td>\n",
              "      <td>Seed Round</td>\n",
              "    </tr>\n",
              "    <tr>\n",
              "      <th>470727</th>\n",
              "      <td>ffffabce-6d4a-b3d1-13c0-4e90cedf5270</td>\n",
              "      <td>2017-02-09</td>\n",
              "      <td>3500000.0</td>\n",
              "      <td>Seed Round</td>\n",
              "    </tr>\n",
              "    <tr>\n",
              "      <th>470729</th>\n",
              "      <td>ffffae3e-fc62-68e7-7b49-f6843c3662f4</td>\n",
              "      <td>2015-04-22</td>\n",
              "      <td>NaN</td>\n",
              "      <td>acquisition</td>\n",
              "    </tr>\n",
              "    <tr>\n",
              "      <th>470730</th>\n",
              "      <td>ffffae3e-fc62-68e7-7b49-f6843c3662f4</td>\n",
              "      <td>2017-11-07</td>\n",
              "      <td>NaN</td>\n",
              "      <td>acquisition</td>\n",
              "    </tr>\n",
              "    <tr>\n",
              "      <th>470731</th>\n",
              "      <td>ffffc67f-b861-1787-18c6-f0dff47e9a9c</td>\n",
              "      <td>2012-07-03</td>\n",
              "      <td>NaN</td>\n",
              "      <td>acquisition</td>\n",
              "    </tr>\n",
              "  </tbody>\n",
              "</table>\n",
              "<p>449109 rows × 4 columns</p>\n",
              "</div>"
            ],
            "text/plain": [
              "                                    org_uuid  ...           event\n",
              "0       00000aa4-ba42-9b68-a9c3-040c9f3bf9b9  ...             lbo\n",
              "1       00000aa4-ba42-9b68-a9c3-040c9f3bf9b9  ...     acquisition\n",
              "2       00000aa4-ba42-9b68-a9c3-040c9f3bf9b9  ...   Venture Round\n",
              "3       000014da-0c46-b9cb-0941-3a93c027b119  ...  Pre Seed Round\n",
              "4       000014da-0c46-b9cb-0941-3a93c027b119  ...           Grant\n",
              "...                                      ...  ...             ...\n",
              "470726  ffffabce-6d4a-b3d1-13c0-4e90cedf5270  ...      Seed Round\n",
              "470727  ffffabce-6d4a-b3d1-13c0-4e90cedf5270  ...      Seed Round\n",
              "470729  ffffae3e-fc62-68e7-7b49-f6843c3662f4  ...     acquisition\n",
              "470730  ffffae3e-fc62-68e7-7b49-f6843c3662f4  ...     acquisition\n",
              "470731  ffffc67f-b861-1787-18c6-f0dff47e9a9c  ...     acquisition\n",
              "\n",
              "[449109 rows x 4 columns]"
            ]
          },
          "metadata": {
            "tags": []
          },
          "execution_count": 53
        }
      ]
    },
    {
      "cell_type": "code",
      "metadata": {
        "id": "UoIEv1XxUGQy",
        "colab_type": "code",
        "colab": {
          "base_uri": "https://localhost:8080/",
          "height": 206
        },
        "outputId": "212c5f3c-c7bc-4ba1-8dcd-509812458b08"
      },
      "source": [
        "inspect_id = '000014da-0c46-b9cb-0941-3a93c027b119'\n",
        "organizations = df_dict['organizations']\n",
        "funding_data[funding_data['org_uuid'] == inspect_id].head()\n",
        "# organizations[organizations['uuid'] == inspect_id].head()"
      ],
      "execution_count": 54,
      "outputs": [
        {
          "output_type": "execute_result",
          "data": {
            "text/html": [
              "<div>\n",
              "<style scoped>\n",
              "    .dataframe tbody tr th:only-of-type {\n",
              "        vertical-align: middle;\n",
              "    }\n",
              "\n",
              "    .dataframe tbody tr th {\n",
              "        vertical-align: top;\n",
              "    }\n",
              "\n",
              "    .dataframe thead th {\n",
              "        text-align: right;\n",
              "    }\n",
              "</style>\n",
              "<table border=\"1\" class=\"dataframe\">\n",
              "  <thead>\n",
              "    <tr style=\"text-align: right;\">\n",
              "      <th></th>\n",
              "      <th>org_uuid</th>\n",
              "      <th>date</th>\n",
              "      <th>valuation</th>\n",
              "      <th>event</th>\n",
              "    </tr>\n",
              "  </thead>\n",
              "  <tbody>\n",
              "    <tr>\n",
              "      <th>162921</th>\n",
              "      <td>000014da-0c46-b9cb-0941-3a93c027b119</td>\n",
              "      <td>2016-11-01</td>\n",
              "      <td>NaN</td>\n",
              "      <td>Pre Seed Round</td>\n",
              "    </tr>\n",
              "    <tr>\n",
              "      <th>162922</th>\n",
              "      <td>000014da-0c46-b9cb-0941-3a93c027b119</td>\n",
              "      <td>2017-01-01</td>\n",
              "      <td>NaN</td>\n",
              "      <td>Grant</td>\n",
              "    </tr>\n",
              "    <tr>\n",
              "      <th>176451</th>\n",
              "      <td>000014da-0c46-b9cb-0941-3a93c027b119</td>\n",
              "      <td>2017-06-15</td>\n",
              "      <td>NaN</td>\n",
              "      <td>Grant</td>\n",
              "    </tr>\n",
              "    <tr>\n",
              "      <th>176816</th>\n",
              "      <td>000014da-0c46-b9cb-0941-3a93c027b119</td>\n",
              "      <td>2017-09-07</td>\n",
              "      <td>NaN</td>\n",
              "      <td>Convertible Note</td>\n",
              "    </tr>\n",
              "    <tr>\n",
              "      <th>181152</th>\n",
              "      <td>000014da-0c46-b9cb-0941-3a93c027b119</td>\n",
              "      <td>2018-02-23</td>\n",
              "      <td>NaN</td>\n",
              "      <td>Pre Seed Round</td>\n",
              "    </tr>\n",
              "  </tbody>\n",
              "</table>\n",
              "</div>"
            ],
            "text/plain": [
              "                                    org_uuid  ...             event\n",
              "162921  000014da-0c46-b9cb-0941-3a93c027b119  ...    Pre Seed Round\n",
              "162922  000014da-0c46-b9cb-0941-3a93c027b119  ...             Grant\n",
              "176451  000014da-0c46-b9cb-0941-3a93c027b119  ...             Grant\n",
              "176816  000014da-0c46-b9cb-0941-3a93c027b119  ...  Convertible Note\n",
              "181152  000014da-0c46-b9cb-0941-3a93c027b119  ...    Pre Seed Round\n",
              "\n",
              "[5 rows x 4 columns]"
            ]
          },
          "metadata": {
            "tags": []
          },
          "execution_count": 54
        }
      ]
    },
    {
      "cell_type": "code",
      "metadata": {
        "id": "PUxeCM3gkyEj",
        "colab_type": "code",
        "colab": {
          "base_uri": "https://localhost:8080/",
          "height": 54
        },
        "outputId": "ca6d767c-faee-42d2-e8a1-7643feac4076"
      },
      "source": [
        "import datetime\n",
        "company_timelines = {}\n",
        "\n",
        "milli_per_day = 86400  # Used for converting Unix time\n",
        "dropped = 0\n",
        "\n",
        "for company_id in timelines['org_uuid']:\n",
        "  timeline = grouped_timelines.get_group(company_id)\n",
        "  timeline = timeline[timeline['valuation'].notnull()]               # We only care about times at which there is a valuation of the company.\n",
        "  if timeline.empty:\n",
        "    dropped += 1\n",
        "    continue\n",
        "  \n",
        "  timeline = timeline.copy()\n",
        "  timeline.reset_index(inplace=True, drop=True)\n",
        "\n",
        "  day_zero = datetime.datetime.strptime(timeline['date'].iloc[0], '%Y-%m-%d').timestamp()\n",
        "  parsed_dates = pd.Series([datetime.datetime.strptime(x, '%Y-%m-%d').timestamp() for x in timeline['date']])\n",
        "  norm_dates = (parsed_dates - day_zero)/milli_per_day\n",
        "  timeline['norm_dates'] = norm_dates\n",
        "  company_timelines[company_id] = timeline\n",
        "\n",
        "print(\"Retained: \", len(company_timelines))\n",
        "print(\"Dropped: \", dropped)"
      ],
      "execution_count": 55,
      "outputs": [
        {
          "output_type": "stream",
          "text": [
            "Retained:  144569\n",
            "Dropped:  152322\n"
          ],
          "name": "stdout"
        }
      ]
    },
    {
      "cell_type": "code",
      "metadata": {
        "id": "6QycMPkpO8GV",
        "colab_type": "code",
        "colab": {
          "base_uri": "https://localhost:8080/",
          "height": 173
        },
        "outputId": "e1a937ed-e32e-4f83-87ad-b4867d236110"
      },
      "source": [
        "print(company_timelines['45e3988d-85dc-d98e-2738-00ecd8958cc4'])"
      ],
      "execution_count": 56,
      "outputs": [
        {
          "output_type": "error",
          "ename": "KeyError",
          "evalue": "ignored",
          "traceback": [
            "\u001b[0;31m---------------------------------------------------------------------------\u001b[0m",
            "\u001b[0;31mKeyError\u001b[0m                                  Traceback (most recent call last)",
            "\u001b[0;32m<ipython-input-56-5c59896d98bf>\u001b[0m in \u001b[0;36m<module>\u001b[0;34m()\u001b[0m\n\u001b[0;32m----> 1\u001b[0;31m \u001b[0mprint\u001b[0m\u001b[0;34m(\u001b[0m\u001b[0mcompany_timelines\u001b[0m\u001b[0;34m[\u001b[0m\u001b[0;34m'45e3988d-85dc-d98e-2738-00ecd8958cc4'\u001b[0m\u001b[0;34m]\u001b[0m\u001b[0;34m)\u001b[0m\u001b[0;34m\u001b[0m\u001b[0;34m\u001b[0m\u001b[0m\n\u001b[0m",
            "\u001b[0;31mKeyError\u001b[0m: '45e3988d-85dc-d98e-2738-00ecd8958cc4'"
          ]
        }
      ]
    },
    {
      "cell_type": "code",
      "metadata": {
        "id": "kvMFwBjokziL",
        "colab_type": "code",
        "colab": {
          "base_uri": "https://localhost:8080/",
          "height": 111
        },
        "outputId": "638fdb28-d762-480b-e4a4-fb6486158e19"
      },
      "source": [
        "for company_id, timeline in company_timelines.items():\n",
        "  initial_valuation = timeline['valuation'].iloc[0]\n",
        "  timeline['initial_val'] = initial_valuation.tolist()\n",
        "  norm_valuations = pd.Series([np.log(value/initial_valuation) for value in timeline['valuation']])\n",
        "  timeline['norm_valuations'] = norm_valuations"
      ],
      "execution_count": 57,
      "outputs": [
        {
          "output_type": "stream",
          "text": [
            "/usr/local/lib/python3.6/dist-packages/ipykernel_launcher.py:4: RuntimeWarning: invalid value encountered in double_scalars\n",
            "  after removing the cwd from sys.path.\n",
            "/usr/local/lib/python3.6/dist-packages/ipykernel_launcher.py:4: RuntimeWarning: divide by zero encountered in log\n",
            "  after removing the cwd from sys.path.\n"
          ],
          "name": "stderr"
        }
      ]
    },
    {
      "cell_type": "code",
      "metadata": {
        "id": "uMz97LRqhF5Y",
        "colab_type": "code",
        "colab": {}
      },
      "source": [
        "from scipy import interpolate\n",
        "from google.colab import files\n",
        "\n",
        "def get_valuation_interpolations(timelines, day):\n",
        "  company_hashes = []\n",
        "  regression_targets = []\n",
        "  initial_valuations = []\n",
        "  for company, timeline in timelines.items():\n",
        "    x = timeline['norm_dates'].tolist()\n",
        "    y = timeline['norm_valuations'].tolist()\n",
        "\n",
        "    if len(x) < 2 or len(y) < 2:\n",
        "      regression_targets.append(0)     # Single point timeline. Leave decision to drop for downstream.\n",
        "      continue\n",
        "    \n",
        "    if day > x[-1]:\n",
        "      regression_targets.append(y[-1])  # Don't extrapolate the data at all.\n",
        "      continue\n",
        "\n",
        "    interpolator = interpolate.interp1d(x, y)\n",
        "    regression_target = interpolator(day)\n",
        "\n",
        "    company_hashes.append(cityhash.CityHash64(company))\n",
        "    regression_targets.append(regression_target)\n",
        "    initial_valuations.append(timeline['initial_val'].tolist()[0])\n",
        "\n",
        "  return pd.DataFrame(list(zip(company_hashes, initial_valuations, regression_targets)), columns=[\"hash\", \"initial_valuation\", \"log_valuation_factor\"])\n"
      ],
      "execution_count": 58,
      "outputs": []
    },
    {
      "cell_type": "code",
      "metadata": {
        "id": "Z5DxVI4okw6U",
        "colab_type": "code",
        "colab": {
          "base_uri": "https://localhost:8080/",
          "height": 91
        },
        "outputId": "abcdf1f6-e5af-4534-a484-92ab626fef9d"
      },
      "source": [
        "for day in [200, 500, 1000, 2000]:\n",
        "  frame = get_valuation_interpolations(company_timelines, day)\n",
        "  print(np.shape(frame))\n",
        "  frame.to_csv('/' + str(day) + '.csv')\n"
      ],
      "execution_count": 59,
      "outputs": [
        {
          "output_type": "stream",
          "text": [
            "(49489, 3)\n",
            "(38340, 3)\n",
            "(23740, 3)\n",
            "(9156, 3)\n"
          ],
          "name": "stdout"
        }
      ]
    },
    {
      "cell_type": "code",
      "metadata": {
        "id": "Ck_YnFzva9oO",
        "colab_type": "code",
        "colab": {}
      },
      "source": [
        ""
      ],
      "execution_count": null,
      "outputs": []
    }
  ]
}