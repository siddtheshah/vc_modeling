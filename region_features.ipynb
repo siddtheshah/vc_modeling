{
  "nbformat": 4,
  "nbformat_minor": 0,
  "metadata": {
    "colab": {
      "name": "category_features.ipynb",
      "provenance": [],
      "authorship_tag": "ABX9TyOxz+pir1OO6e7MWxc66tu4",
      "include_colab_link": true
    },
    "kernelspec": {
      "name": "python3",
      "display_name": "Python 3"
    }
  },
  "cells": [
    {
      "cell_type": "markdown",
      "metadata": {
        "id": "view-in-github",
        "colab_type": "text"
      },
      "source": [
        "<a href=\"https://colab.research.google.com/github/siddtheshah/vc_modeling/blob/master/region_features.ipynb\" target=\"_parent\"><img src=\"https://colab.research.google.com/assets/colab-badge.svg\" alt=\"Open In Colab\"/></a>"
      ]
    },
    {
      "cell_type": "code",
      "metadata": {
        "id": "LLj02yHu8Fm5",
        "colab_type": "code",
        "colab": {
          "base_uri": "https://localhost:8080/",
          "height": 222
        },
        "outputId": "955749ba-02fa-48c2-bc9f-689d15c31978"
      },
      "source": [
        "import os\n",
        "import numpy as np\n",
        "import pandas as pd\n",
        "import matplotlib.pyplot as plt\n",
        "!pip install cityhash\n",
        "import cityhash\n",
        "\n",
        "from copy import deepcopy"
      ],
      "execution_count": 1,
      "outputs": [
        {
          "output_type": "stream",
          "text": [
            "Collecting cityhash\n",
            "\u001b[?25l  Downloading https://files.pythonhosted.org/packages/25/67/65ad3755997c066766750525fdf3045609f5ee892fa5b037e7fc066505a4/cityhash-0.2.3.post9.tar.gz (48kB)\n",
            "\r\u001b[K     |██████▊                         | 10kB 16.9MB/s eta 0:00:01\r\u001b[K     |█████████████▍                  | 20kB 2.8MB/s eta 0:00:01\r\u001b[K     |████████████████████            | 30kB 3.7MB/s eta 0:00:01\r\u001b[K     |██████████████████████████▊     | 40kB 4.1MB/s eta 0:00:01\r\u001b[K     |████████████████████████████████| 51kB 2.3MB/s \n",
            "\u001b[?25hBuilding wheels for collected packages: cityhash\n",
            "  Building wheel for cityhash (setup.py) ... \u001b[?25l\u001b[?25hdone\n",
            "  Created wheel for cityhash: filename=cityhash-0.2.3.post9-cp36-cp36m-linux_x86_64.whl size=82874 sha256=89b815c1f1b655e74d6424b9740ea0eddb3ca6a392c5a6176e97710ffad869e3\n",
            "  Stored in directory: /root/.cache/pip/wheels/a4/4d/ae/cf0f1f8058ca2738fe972c69291083a0a06765271fb1047edd\n",
            "Successfully built cityhash\n",
            "Installing collected packages: cityhash\n",
            "Successfully installed cityhash-0.2.3.post9\n"
          ],
          "name": "stdout"
        }
      ]
    },
    {
      "cell_type": "code",
      "metadata": {
        "id": "DNCUUReS8P_O",
        "colab_type": "code",
        "colab": {
          "base_uri": "https://localhost:8080/",
          "height": 129
        },
        "outputId": "01eb4f8e-aba0-4003-b37c-c39eaddf6728"
      },
      "source": [
        "from google.colab import drive\n",
        "drive.mount('/content/gdrive')"
      ],
      "execution_count": 2,
      "outputs": [
        {
          "output_type": "stream",
          "text": [
            "Go to this URL in a browser: https://accounts.google.com/o/oauth2/auth?client_id=947318989803-6bn6qk8qdgf4n4g3pfee6491hc0brc4i.apps.googleusercontent.com&redirect_uri=urn%3aietf%3awg%3aoauth%3a2.0%3aoob&scope=email%20https%3a%2f%2fwww.googleapis.com%2fauth%2fdocs.test%20https%3a%2f%2fwww.googleapis.com%2fauth%2fdrive%20https%3a%2f%2fwww.googleapis.com%2fauth%2fdrive.photos.readonly%20https%3a%2f%2fwww.googleapis.com%2fauth%2fpeopleapi.readonly&response_type=code\n",
            "\n",
            "Enter your authorization code:\n",
            "··········\n",
            "Mounted at /content/gdrive\n"
          ],
          "name": "stdout"
        }
      ]
    },
    {
      "cell_type": "code",
      "metadata": {
        "id": "Mi6F1Vm85jtx",
        "colab_type": "code",
        "colab": {
          "base_uri": "https://localhost:8080/",
          "height": 54
        },
        "outputId": "4d4631f8-41b6-4274-dcf4-3be77d7d3f73"
      },
      "source": [
        "org_info = pd.read_csv('/content/gdrive/My Drive/vc_modeling/data/crunchbase_bulk_export/organizations.csv')\n",
        "print(np.shape(org_info))\n",
        "# Filter down the data purely to investees\n",
        "org_info = org_info[org_info['primary_role'] == 'company']\n",
        "print(np.shape(org_info))"
      ],
      "execution_count": 4,
      "outputs": [
        {
          "output_type": "stream",
          "text": [
            "(1089733, 41)\n",
            "(1025256, 41)\n"
          ],
          "name": "stdout"
        }
      ]
    },
    {
      "cell_type": "code",
      "metadata": {
        "id": "aTkfMfnE8Xl6",
        "colab_type": "code",
        "colab": {
          "base_uri": "https://localhost:8080/",
          "height": 240
        },
        "outputId": "72702fef-e7c7-42d3-b36b-1f5dec4cefd6"
      },
      "source": [
        "import collections\n",
        "\n",
        "# Select organization data\n",
        "# Clean the df\n",
        "\n",
        "org_info_selected = org_info[['uuid', 'region']]\n",
        "org_info_selected = org_info_selected.dropna()\n",
        "org_info_selected = org_info_selected.reset_index(drop=True)\n",
        "print(\"Rows after NA drop: \", np.shape(org_info_selected)[0])\n",
        "\n",
        "regions = collections.Counter()\n",
        "\n",
        "iter = 0\n",
        "test_stop = -1\n",
        "total_rows = np.shape(org_info_selected)[0]\n",
        "print(\"Processing \", total_rows, \" rows.\")\n",
        "for (i, row) in org_info_selected.iterrows():\n",
        "  if iter == test_stop:\n",
        "    break\n",
        "  iter += 1\n",
        "  if iter % 100000 == 0:\n",
        "    print(iter, \" of \", total_rows)\n",
        "\n",
        "  region = row['region']  \n",
        "  regions[region] += 1\n",
        "\n",
        "# Filter low count regions\n",
        "low_count_threshold = 15\n",
        "keys_to_remove = []\n",
        "for region, count in regions.items():\n",
        "  if count < low_count_threshold:\n",
        "    keys_to_remove.append(region)\n",
        "\n",
        "for key in keys_to_remove:\n",
        "  del regions[key]\n",
        "\n",
        "# Create index to word mapping\n",
        "region_to_index = {}\n",
        "# Start at 1 so we can put hashed uuid at 0.\n",
        "region_index = 1\n",
        "for region, count in regions.items():\n",
        "  region_to_index[region] = region_index\n",
        "  region_index += 1\n",
        "\n",
        "print(region_to_index)\n",
        "region_size = region_index"
      ],
      "execution_count": 8,
      "outputs": [
        {
          "output_type": "stream",
          "text": [
            "Rows after NA drop:  842699\n",
            "Processing  842699  rows.\n",
            "100000  of  842699\n",
            "200000  of  842699\n",
            "300000  of  842699\n",
            "400000  of  842699\n",
            "500000  of  842699\n",
            "600000  of  842699\n",
            "700000  of  842699\n",
            "800000  of  842699\n",
            "{'New York': 1, 'California': 2, 'Illinois': 3, 'Hong Kong Island': 4, 'Dublin': 5, 'Virginia': 6, 'Zurich': 7, 'Texas': 8, 'Florida': 9, 'Arizona': 10, 'Tel Aviv': 11, 'Connecticut': 12, 'Leeds': 13, 'Oxfordshire': 14, 'Washington': 15, 'Luxembourg': 16, 'British Columbia': 17, 'Moscow City': 18, 'Berlin': 19, 'North Carolina': 20, 'Ile-de-France': 21, 'Southern Finland': 22, 'Ontario': 23, 'England': 24, 'Nevada': 25, 'Georgia': 26, 'Colorado': 27, 'Massachusetts': 28, 'Pennsylvania': 29, 'Geneve': 30, 'Goa': 31, 'Tennessee': 32, \"Seoul-t'ukpyolsi\": 33, 'Sachsen': 34, 'Oklahoma': 35, 'Alabama': 36, 'Central Region': 37, 'Stockholms Lan': 38, 'Ohio': 39, 'Tokyo': 40, 'Zuid-Holland': 41, 'Karnataka': 42, 'Baden-Wurttemberg': 43, 'Surrey': 44, 'Minnesota': 45, 'Maryland': 46, 'New South Wales': 47, 'Michigan': 48, 'East Sussex': 49, 'Indiana': 50, 'NA - Venezuela': 51, 'Madrid': 52, 'Hamburg': 53, 'Yerushalayim': 54, 'Hovedstaden': 55, 'Zhejiang': 56, 'Manila': 57, 'Bath and North East Somerset': 58, 'Limerick': 59, 'Victoria': 60, 'Ticino': 61, 'Jakarta Raya': 62, 'NA - South Africa': 63, 'Shanghai': 64, 'Saarland': 65, 'Missouri': 66, 'Rhode Island': 67, 'New Jersey': 68, 'Catalonia': 69, 'Quebec': 70, 'Rio de Janeiro': 71, 'District of Columbia': 72, 'Brussels Hoofdstedelijk Gewest': 73, 'Rhone-Alpes': 74, 'Oregon': 75, 'Cambridgeshire': 76, 'Niedersachsen': 77, 'Idaho': 78, 'Hlavni mesto Praha': 79, 'Vermont': 80, 'Midi-Pyrenees': 81, 'Skane Lan': 82, 'Wisconsin': 83, 'HaMerkaz': 84, 'Overijssel': 85, 'Alberta': 86, 'Utah': 87, 'Wellington': 88, 'Nottingham': 89, 'Dolnoslaskie': 90, 'New Mexico': 91, 'Schleswig-Holstein': 92, 'Phuket': 93, 'Distrito Federal': 94, 'Harjumaa': 95, 'Noord-Holland': 96, 'Dorset': 97, 'Merton': 98, 'Wien': 99, 'Reading': 100, 'Sao Paulo': 101, 'Southampton': 102, 'Beijing': 103, 'South Carolina': 104, 'Hessen': 105, 'Maharashtra': 106, 'Northamptonshire': 107, 'Nebraska': 108, 'Canakkale': 109, 'Kowloon': 110, 'Buckinghamshire': 111, 'Comunidad Valenciana': 112, 'Guangdong': 113, 'Mississippi': 114, 'Edinburgh, City of': 115, 'Hampshire': 116, 'Flevoland': 117, 'Sligo': 118, 'Western Australia': 119, 'Delaware': 120, 'Pays de la Loire': 121, 'Norfolk': 122, 'Jihomoravsky kraj': 123, 'Delhi': 124, 'Uttar Pradesh': 125, 'West Bengal': 126, 'Ostergotlands Lan': 127, 'Bayern': 128, 'Emilia-Romagna': 129, 'Kentucky': 130, 'New Hampshire': 131, 'Kansas': 132, 'Coventry': 133, 'Maramures': 134, 'Hawaii': 135, 'Al Qahirah': 136, 'Nova Scotia': 137, 'Islas Baleares': 138, 'Ad Dawhah': 139, 'Jawa Barat': 140, 'Nicosia': 141, 'Suffolk': 142, 'York': 143, 'Utrecht': 144, 'Pomorskie': 145, 'Hubei': 146, 'Sibiu': 147, 'Manchester': 148, 'Nord-Pas-de-Calais': 149, 'Maine': 150, \"Provence-Alpes-Cote d'Azur\": 151, 'Liaoning': 152, 'Saint Patrick': 153, 'Dubai': 154, 'Worcestershire': 155, 'Western Finland': 156, 'Tamil Nadu': 157, 'Selangor': 158, 'Nordrhein-Westfalen': 159, 'Rhondda Cynon Taff': 160, 'Kent': 161, 'Cork': 162, 'Oslo': 163, 'HaZafon': 164, 'Lisboa': 165, 'Gujarat': 166, 'Moskva': 167, \"T'ai-pei\": 168, 'Queensland': 169, 'Lazio': 170, 'Toscana': 171, 'Kilkenny': 172, 'Sichuan': 173, 'Inverclyde': 174, 'South Lanarkshire': 175, 'Bedfordshire': 176, 'Vastra Gotaland': 177, 'Saint Petersburg City': 178, 'Dolj': 179, 'Grad Sofiya': 180, 'Andhra Pradesh': 181, 'Jilin': 182, 'Iowa': 183, 'Larnaca': 184, 'West Berkshire': 185, \"T'ai-wan\": 186, 'Sindh': 187, 'Louisiana': 188, 'Warrington': 189, 'Birmingham': 190, 'Istanbul': 191, 'Lorraine': 192, 'Bucuresti': 193, 'Sheffield': 194, 'NA - Vietnam': 195, 'Brighton and Hove': 196, 'Leiria': 197, 'Beyrouth': 198, 'Port Louis': 199, 'Vaud': 200, 'Newfoundland': 201, 'Highland': 202, 'Dundee City': 203, 'Essex': 204, 'Antwerpen': 205, 'Andalucia': 206, 'Oost-Vlaanderen': 207, 'Lombardia': 208, 'Hertford': 209, 'Wiltshire': 210, 'Canterbury': 211, 'Bristol, City of': 212, 'Region Metropolitana': 213, \"Odes'ka Oblast'\": 214, 'Ljubljana Urban Commune': 215, 'Hounslow': 216, 'North Yorkshire': 217, 'Madeira': 218, 'Kingston upon Thames': 219, 'Falkirk': 220, 'Bretagne': 221, 'Ceredigion': 222, 'Yerevan': 223, 'Haryana': 224, 'Udmurt': 225, 'Gloucestershire': 226, 'Budapest': 227, 'Glasgow City': 228, 'Auckland': 229, 'South Australia': 230, 'West Sussex': 231, 'Brasov': 232, 'Limburg': 233, 'Aquitaine': 234, 'Vasternorrlands Lan': 235, 'Nottinghamshire': 236, 'Swansea': 237, 'Alsace': 238, 'NA - Isle of Man': 239, 'Cheju-do': 240, 'Bremen': 241, 'Gibraltar': 242, 'Newcastle upon Tyne': 243, 'Cornwall': 244, 'Tunis': 245, 'Vasterbottens Lan': 246, 'Mazowieckie': 247, 'Nordjylland': 248, 'Canarias': 249, 'Basel-Stadt': 250, 'Lancashire': 251, 'Piemonte': 252, 'Liverpool': 253, 'Saint Michael': 254, 'Osaka': 255, 'Montana': 256, 'Vastmanlands Lan': 257, 'Krung Thep': 258, 'Midtjylland': 259, 'Attiki': 260, 'San Jose': 261, \"Tyumen'\": 262, 'Languedoc-Roussillon': 263, 'Sjelland': 264, 'Gullbringusysla': 265, 'Kronobergs Lan': 266, 'Shandong': 267, 'Warwickshire': 268, 'Zacatecas': 269, 'Lima': 270, 'Derby': 271, 'Punjab': 272, 'Wielkopolskie': 273, 'Veneto': 274, 'Inner-Rhoden': 275, 'Prince Edward Island': 276, 'Iasi': 277, 'Wokingham': 278, 'Riga': 279, 'Quintana Roo': 280, 'Richmond upon Thames': 281, 'Croydon': 282, 'Windsor and Maidenhead': 283, 'Devon': 284, 'Nairobi Area': 285, 'Schaffhausen': 286, 'Kerala': 287, 'Cumbria': 288, 'Pais Vasco': 289, 'Groningen': 290, 'NA - Malta': 291, 'Dhaka': 292, 'North Dakota': 293, 'Steiermark': 294, 'Minas Gerais': 295, 'Castelo Branco': 296, 'South Tyneside': 297, 'Leicester': 298, 'Aland': 299, 'Rizal': 300, \"Hawke's Bay\": 301, 'Braga': 302, 'NA - Uruguay': 303, 'Vlaams-Brabant': 304, 'Rajasthan': 305, 'Ostfold': 306, 'North Somerset': 307, 'Bromley': 308, 'Adis Abeba': 309, 'Campania': 310, 'Zug': 311, 'Blackpool': 312, 'Mures': 313, 'Thessaloniki': 314, 'Niederosterreich': 315, 'Louth': 316, 'Distrito Nacional': 317, 'Australian Capital Territory': 318, 'Malopolskie': 319, 'Gelderland': 320, 'Al Iskandariyah': 321, 'Sachsen-Anhalt': 322, 'Tartumaa': 323, \"Kirovohrads'ka Oblast'\": 324, 'Buenos Aires': 325, 'Hefa': 326, 'Arkansas': 327, 'Amman': 328, 'Midland': 329, 'Wrexham': 330, 'Belfast': 331, 'Vilniaus Apskritis': 332, 'Noord-Brabant': 333, 'Grad Zagreb': 334, 'Cardiff': 335, 'Amazonas': 336, 'Staffordshire': 337, 'Knowsley': 338, 'Wyoming': 339, 'Karpos': 340, 'Donegal': 341, 'Opolskie': 342, 'Durham': 343, 'Aust-Agder': 344, 'Zagrebacka': 345, 'Federation of Bosnia and Herzegovina': 346, 'Limassol': 347, 'Kuala Lumpur': 348, 'Puglia': 349, 'Manitoba': 350, 'Lagunes': 351, 'Kanagawa': 352, 'Cholla-bukto': 353, 'Leicestershire': 354, 'Uppsala Lan': 355, 'Chandigarh': 356, 'Friesland': 357, 'Souss-Massa-Dr,a': 358, 'Madhya Pradesh': 359, 'Hamilton': 360, 'Dumfries and Galloway': 361, 'Tatarstan': 362, 'Lagos': 363, \"L'vivs'ka Oblast'\": 364, 'Abruzzi': 365, 'Ankara': 366, 'Akershus': 367, 'Kabol': 368, \"Khersons'ka Oblast'\": 369, 'Iraklion': 370, 'Santa Catarina': 371, 'Enfield': 372, 'Gateshead': 373, 'Rochdale': 374, 'Centre': 375, 'Aberdeen City': 376, 'Galway': 377, 'Fujian': 378, 'Kildare': 379, 'Vojvodina': 380, 'Fukushima': 381, 'West-Vlaanderen': 382, 'Kyonggi-do': 383, 'Slaskie': 384, 'Stirling': 385, 'Baki': 386, 'Waterford': 387, 'Distrito Especial': 388, 'Brabant Wallon': 389, 'Brent': 390, 'Friuli-Venezia Giulia': 391, \"Kyyivs'ka Oblast'\": 392, 'Carlow': 393, \"Khmel'nyts'ka Oblast'\": 394, 'Kayseri': 395, 'Timis': 396, 'Denbighshire': 397, 'Syddanmark': 398, 'Toyama': 399, 'Bracknell Forest': 400, 'Hunan': 401, 'Westminster': 402, 'Blekinge Lan': 403, 'Cheshire East': 404, 'Western': 405, 'Harrow': 406, 'Monmouthshire': 407, 'Minsk': 408, 'Bishkek': 409, 'Ash Sharqiyah': 410, 'Plovdiv': 411, 'Dalarnas Lan': 412, 'Khorasan': 413, 'Drenthe': 414, 'Yamanashi': 415, 'Goias': 416, 'Picardie': 417, 'Otago': 418, 'Valais': 419, 'Cheshire': 420, 'Izmir': 421, 'Cavite': 422, 'Nelson': 423, 'Quezon City': 424, 'Oulu': 425, 'Milton Keynes': 426, 'Bournemouth': 427, 'Kyyiv': 428, 'Angus': 429, 'Wakefield': 430, 'Hainaut': 431, 'Lincolnshire': 432, 'Alaska': 433, 'Thuringen': 434, 'Oppland': 435, 'Tipperary': 436, 'Guayas': 437, 'Rheinland-Pfalz': 438, 'North Ayrshire': 439, 'Asturias': 440, 'Mendoza': 441, 'Cordoba': 442, 'Mayo': 443, 'Northumberland': 444, 'Cantabria': 445, \"Sums'ka Oblast'\": 446, 'Ar Riyad': 447, 'Guanajuato': 448, 'East Lothian': 449, 'More og Romsdal': 450, 'West Virginia': 451, 'Middlesbrough': 452, 'Haute-Normandie': 453, 'Al Jizah': 454, 'Aragon': 455, 'Castilla y Leon': 456, 'La Rioja': 457, 'Chiba': 458, 'Hokkaido': 459, 'Vorarlberg': 460, 'New Territories': 461, \"Dnipropetrovs'ka Oblast'\": 462, 'Bohinj Commune': 463, 'Namur': 464, 'Luzern': 465, 'Paraiba': 466, 'Salzburg': 467, 'Puducherry': 468, 'Sverdlovsk': 469, 'Splitsko-Dalmatinska': 470, 'Cagayan': 471, 'Bihor': 472, 'Schwyz': 473, 'Basel-Landschaft': 474, 'Jura': 475, 'Galicia': 476, 'Derry': 477, 'Astana': 478, 'Gwynedd': 479, 'Chiapas': 480, 'Uttarakhand': 481, 'Cluj': 482, 'Bern': 483, 'Plymouth': 484, 'Aargau': 485, 'Bursa': 486, 'Nuevo Leon': 487, 'Tasmania': 488, 'Redbridge': 489, 'North Lanarkshire': 490, 'Sardegna': 491, 'Coahuila de Zaragoza': 492, 'Navarra': 493, 'Tirane': 494, 'Central': 495, 'Waikato': 496, 'Troms': 497, 'Kyoto': 498, 'West Lothian': 499, 'Halton': 500, 'Wolverhampton': 501, 'Brandenburg': 502, 'Cavan': 503, 'NA - Uzbekistan': 504, 'Carmarthenshire': 505, 'Grand Casablanca': 506, \"Kharkivs'ka Oblast'\": 507, 'Peterborough': 508, 'Jawa Tengah': 509, 'Porto': 510, 'Herefordshire': 511, 'Castilla-La Mancha': 512, 'Islamabad': 513, 'Liege': 514, 'Stoke-on-Trent': 515, 'Auvergne': 516, 'Al Kuwayt': 517, 'Bourgogne': 518, 'Anhui': 519, 'Kalmar Lan': 520, 'Nordland': 521, 'Greater Accra': 522, 'NA - Jersey': 523, 'Debrecen': 524, 'Setubal': 525, 'Barnsley': 526, 'Basse-Normandie': 527, 'Baghdad': 528, 'Konya': 529, 'Brezovica Commune': 530, 'Santa Fe': 531, 'Hillingdon': 532, 'Saskatchewan': 533, 'Molise': 534, 'Shaanxi': 535, 'Abu Dhabi': 536, 'Vest-Agder': 537, 'Rutland': 538, 'Stockport': 539, 'Fribourg': 540, 'Yogyakarta': 541, 'Ealing': 542, 'Oldham': 543, 'Vestfold': 544, 'Bridgend': 545, 'Jiangsu': 546, 'North-West Frontier': 547, 'Kampala': 548, 'Evora': 549, 'Mecklenburg-Vorpommern': 550, 'Clare': 551, 'Karnten': 552, 'Franche-Comte': 553, 'Himachal Pradesh': 554, 'Sergipe': 555, 'Lodzkie': 556, 'Plaines Wilhems': 557, 'Rogaland': 558, 'East Riding of Yorkshire': 559, 'Chon Buri': 560, 'St. Helens': 561, 'Oberosterreich': 562, 'Poitou-Charentes': 563, 'New Brunswick': 564, 'Panama': 565, 'Hartlepool': 566, 'Parana': 567, 'Tehran': 568, 'Champagne-Ardenne': 569, 'Sor-Trondelag': 570, 'Solihull': 571, 'Kirklees': 572, 'Limousin': 573, 'Sefton': 574, 'Aichi': 575, 'Misiones': 576, 'Thurgau': 577, 'San Salvador': 578, 'Durango': 579, 'Tirol': 580, 'South Dakota': 581, 'Klaipedos Apskritis': 582, 'North Tyneside': 583, 'Shropshire': 584, 'Orissa': 585, 'Ibaraki': 586, 'Somerset': 587, 'HaDarom': 588, 'Taejon-jikhalsi': 589, \"Ch'ungch'ong-namdo\": 590, 'Davao City': 591, 'Bratislava': 592, 'Sonora': 593, 'Hebei': 594, \"Dushet'is Raioni\": 595, 'Mexico': 596, 'Renfrewshire': 597, 'Chisinau': 598, 'Marche': 599, 'Oita': 600, 'Bagmati': 601, 'Meath': 602, 'Acre': 603, 'Kauno Apskritis': 604, 'Saint Andrew': 605, \"Ch'ungch'ong-bukto\": 606, 'Eastern Finland': 607, 'Murcia': 608, 'Down': 609, 'Kyongsang-bukto': 610, 'Caerphilly': 611, 'Istarska': 612, 'Kujawsko-Pomorskie': 613, 'Calabria': 614, 'Antioquia': 615, 'Jalisco': 616, 'Sicilia': 617, 'Ishikawa': 618, 'Vale of Glamorgan, The': 619, 'Sodermanlands Lan': 620, 'NA - Puerto Rico': 621, 'Calderdale': 622, 'Perth and Kinross': 623, 'Bradford': 624, 'Buskerud': 625, 'Ausser-Rhoden': 626, 'Plzensky kraj': 627, 'Scottish Borders, The': 628, \"Ternopil's'ka Oblast'\": 629, 'Stockton-on-Tees': 630, 'Pernambuco': 631, 'Grevenmacher': 632, 'Rotherham': 633, 'Newport': 634, 'Newry and Mourne': 635, 'Oaxaca': 636, 'Norrbottens Lan': 637, 'Bali': 638, 'Zachodniopomorskie': 639, 'Omagh': 640, 'Negeri Sembilan': 641, 'Federal Capital Territory': 642, 'Makkah': 643, 'Northern Territory': 644, 'Pulau Pinang': 645, 'Presov': 646, 'Telemark': 647, 'Umbria': 648, 'Wirral': 649, 'Fukuoka': 650, 'Argyll and Bute': 651, 'Torbay': 652, 'Barnet': 653, 'Aveiro': 654, 'Trentino-Alto Adige': 655, 'Krym': 656, 'Valparaiso': 657, 'Rondonia': 658, 'Nidwalden': 659, 'Pest': 660, 'Fife': 661, 'Osjecko-Baranjska': 662, 'Sankt Gallen': 663, 'Evvoia': 664, 'Extremadura': 665, 'Offaly': 666, 'Westmeath': 667, 'Jonkopings Lan': 668, 'Isle of Anglesey': 669, 'Rayong': 670, 'Coimbra': 671, 'Telford and Wrekin': 672, 'Wexford': 673, \"Inch'on-jikhalsi\": 674, 'Isabela': 675, 'NA - Guernsey': 676, 'Hallands Lan': 677, \"Ul'yanovsk\": 678, 'Jawa Timur': 679, 'Kerry': 680, 'Maale': 681, 'Nizhegorod': 682, 'Novosibirsk': 683, 'Mie': 684, 'Hordaland': 685, 'Melaka': 686, \"Sevastopol'\": 687, 'Kralovehradecky kraj': 688, 'Kingston upon Hull, City of': 689, 'Krasnodar': 690, 'Belize': 691, 'Flintshire': 692, \"Primor'ye\": 693, 'Sud-Ouest': 694, 'Mont-Liban': 695, 'Kaliningrad': 696, 'Rio Grande do Sul': 697, 'Coleraine': 698, 'Newtownabbey': 699, 'Rio Grande do Norte': 700, 'Kagoshima': 701, 'Saint George': 702, \"Donets'ka Oblast'\": 703, 'Cebu City': 704, 'Licko-Senjska': 705, 'Doncaster': 706, 'Baja California': 707, 'Queretaro de Arteaga': 708, 'Dungannon': 709, 'Warminsko-Mazurskie': 710, 'Burgas': 711, 'Bay of Plenty': 712, 'Ceara': 713, 'Omsk': 714, 'Santarem': 715, 'Varna': 716, \"Cherkas'ka Oblast'\": 717, 'Ras Al Khaimah': 718, 'Valle del Cauca': 719, 'Liguria': 720, 'Shizuoka': 721, 'Cheshire West and Chester': 722, 'Varmlands Lan': 723, 'Chhattisgarh': 724, 'Stredocesky kraj': 725, 'Bahia': 726, 'Wicklow': 727, 'Al Manamah': 728, 'Corse': 729, 'Greenwich': 730, 'Antalya': 731, 'Dudley': 732, 'Podkarpackie': 733, 'Sogn og Fjordane': 734, 'Powys': 735, 'Maribor Commune': 736, 'Luanda': 737, 'Bexley': 738, 'Khulna': 739, 'Chiang Mai': 740, 'Coast': 741, 'Derbyshire': 742, 'Antrim': 743, 'Medway': 744, 'Mugla': 745, 'Hainan': 746, 'Sutton': 747, 'Xizang': 748, 'Lisburn': 749, 'Arusha': 750, 'Nonthaburi': 751, 'Southend-on-Sea': 752, 'Lubelskie': 753, 'Gisborne': 754, 'Bihar': 755, 'Perak': 756, 'Jammu and Kashmir': 757, 'Alagoas': 758, 'NA - Zimbabwe': 759, 'Alger': 760, 'Butare': 761, 'Guarda': 762, 'Ulaanbaatar': 763, 'Havering': 764, 'Para': 765, 'Thurrock': 766, 'Vaduz': 767, 'Rigas': 768, 'Mato Grosso do Sul': 769, 'Pahang': 770, 'Enugu': 771, 'Samara': 772, 'Almaty City': 773, 'Paphos': 774, 'Kocaeli': 775, 'Hyogo': 776, 'Tomsk': 777, 'Banska Bystrica': 778, 'Vas': 779, 'Tottori': 780, 'Neuchatel': 781, 'Solothurn': 782, 'Chongqing': 783, 'Alajuela': 784, 'Swietokrzyskie': 785, 'Littoral': 786, 'Moray': 787, 'Kosice': 788, 'Rivers': 789, 'Obwalden': 790, 'Rabat-Sale-Zemmour-Zaer': 791, 'Barking and Dagenham': 792, 'Atlantico': 793, 'Hedmark': 794, 'Assam': 795, 'Marlborough': 796, 'Samut Prakan': 797, 'Pichincha': 798, 'North Lincolnshire': 799, \"Zaporiz'ka Oblast'\": 800, 'Arbil': 801, 'Sinaloa': 802, 'Heilongjiang': 803, 'Port-of-Spain': 804, 'Kangwon-do': 805, 'Taegu-jikhalsi': 806, 'Henan': 807, 'Puebla': 808, 'Podlaskie': 809, 'West Bank': 810, 'North East Lincolnshire': 811, 'Oyo': 812, 'Guatemala': 813, 'Chihuahua': 814, 'Ustecky kraj': 815, 'New Providence': 816, 'South-East': 817, 'Beja': 818, 'Islington': 819, 'Beau Vallon': 820, 'Burgenland': 821, 'Aberdeenshire': 822, 'Yucatan': 823, 'Camden': 824, 'Rajshahi': 825, 'Lapland': 826, 'Anambra': 827, 'Cundinamarca': 828, 'Lubuskie': 829, 'Saitama': 830, 'Isle of Wight': 831, 'Trencin': 832, 'Ioannina': 833, 'Craigavon': 834, 'Faro': 835, 'Gyor': 836, 'Gavleborgs Lan': 837, 'Hammersmith and Fulham': 838, 'Masqat': 839, 'Gyor-Moson-Sopron': 840, 'Windhoek': 841, 'Guizhou': 842, 'Nitra': 843, 'Phnum Penh': 844, 'Jharkhand': 845, 'NA - Zambia': 846, 'Jihocesky kraj': 847, \"Chernihivs'ka Oblast'\": 848, 'Shiga': 849, 'Pasay': 850, 'Conwy': 851, 'Tameside': 852, 'Kirov': 853, 'Midlothian': 854, 'Moravskoslezsky kraj': 855, 'Miskolc': 856, \"Zhytomyrs'ka Oblast'\": 857, 'Pardubicky kraj': 858, 'Shanxi': 859, 'Permskiy Kray': 860, 'Eskisehir': 861, 'Sharjah': 862, 'Eastern': 863, 'Nagano': 864, 'Ballymena': 865, 'Sandwell': 866, 'South Gloucestershire': 867, 'Volgograd': 868, 'Walsall': 869, 'Ajman': 870, 'Gansu': 871, 'Yangon': 872, 'Liberecky kraj': 873, 'Rostov': 874, 'Veszprem': 875, 'Zeeland': 876, 'Kwangju-jikhalsi': 877, 'Volta': 878, 'Saratov': 879, 'Sulawesi Selatan': 880, \"Ha'il\": 881, 'Wandsworth': 882, 'Johor': 883, 'Kensington and Chelsea': 884, 'San Luis Potosi': 885, 'Marrakech-Tensift-Al Haouz': 886, 'Wigan': 887, 'Yamaguchi': 888, 'Prahova': 889, 'North Region': 890, 'Nagasaki': 891, 'Maritime': 892, 'Usulutan': 893, 'Tochigi': 894, 'Zlinsky kraj': 895, 'Laguna': 896, 'Sarawak': 897, 'Espirito Santo': 898, 'Zilina': 899, 'Ilhas': 900, 'Tabasco': 901, 'South Ayrshire': 902, 'Redcar and Cleveland': 903, 'Ilfov': 904, \"Yaroslavl'\": 905, 'Chelyabinsk': 906, 'Pembrokeshire': 907, 'Karlovarsky kraj': 908, 'Sunderland': 909, 'Guangxi': 910, 'Graubunden': 911, 'Cholla-namdo': 912, 'Kigali': 913, 'Voronezh': 914, 'Sabah': 915, 'Miyagi': 916, 'Akhaia': 917, 'Hidalgo': 918, 'Puntarenas': 919, 'Dakar': 920, 'Maputo': 921, 'Vila Real': 922, 'Viseu': 923, \"Ivano-Frankivs'ka Oblast'\": 924, 'Edo': 925, 'Kedah': 926, 'Jiangxi': 927, 'Yunnan': 928, 'Ebonyi': 929, 'Nord-Trondelag': 930, 'Okinawa': 931, 'Hackney': 932, 'Pecs': 933, 'Chittagong': 934, 'Barisal': 935, 'Maranhao': 936, 'Colima': 937, 'Gotlands Lan': 938, 'Manisa': 939, 'Krasnoyarskiy Kray': 940, 'Gaziantep': 941, 'Denizli': 942, 'Basilicata': 943, 'Blantyre': 944, 'Okayama': 945, 'Neath Port Talbot': 946, 'Constanta': 947, 'Pusan-jikhalsi': 948, 'Michoacan de Ocampo': 949, 'Nei Mongol': 950, 'Xinjiang': 951, 'Taranaki': 952, \"Tver'\": 953, 'Kemerovo': 954, 'Irkutsk': 955, 'Malatya': 956, 'Aguascalientes': 957, 'Tokushima': 958, 'Csongrad': 959, 'Fujairah': 960, 'Kumamoto': 961, 'Dar es Salaam': 962, 'Ogun': 963, 'Heves': 964, 'Szeged': 965, 'Siauliu Apskritis': 966, 'Bekes': 967, 'Viana do Castelo': 968, \"Volyns'ka Oblast'\": 969, 'Morelos': 970, 'Borsod-Abauj-Zemplen': 971, 'Kyongsang-namdo': 972, 'Gifu': 973, 'Armagh': 974, 'Bolton': 975, 'Jamtlands Lan': 976, 'Sumatera Utara': 977, 'Bacs-Kiskun': 978, 'Fejer': 979, 'Bashkortostan': 980, 'Western Area': 981, \"Chernivets'ka Oblast'\": 982, 'Liepaja': 983, 'East Ayrshire': 984, 'Lambeth': 985, 'Azores': 986, 'Yamagata': 987, 'Tocantins': 988, 'Mato Grosso': 989, 'Piaui': 990, 'Antananarivo': 991, 'Komarom-Esztergom': 992, 'Niigata': 993, 'Ashanti': 994, 'Ehime': 995, 'Veracruz-Llave': 996, 'Glarus': 997, 'Bamako': 998, \"Poltavs'ka Oblast'\": 999, 'Olomoucky kraj': 1000, 'Santa Cruz': 1001, 'Somogy': 1002, 'West Region': 1003, 'Orebro Lan': 1004, 'West Dunbartonshire': 1005, 'Trnava': 1006, 'Uri': 1007, 'Akwa Ibom': 1008, 'Jasz-Nagykun-Szolnok': 1009, 'Khabarovsk': 1010, \"Zakarpats'ka Oblast'\": 1011, 'Kinshasa': 1012, \"Vinnyts'ka Oblast'\": 1013, 'Gumma': 1014, 'Hiroshima': 1015, 'Kurgan': 1016, 'Kagawa': 1017, 'Szabolcs-Szatmar-Bereg': 1018, 'Tianjin': 1019, \"Rivnens'ka Oblast'\": 1020, 'Vysocina': 1021, 'Qinghai': 1022, 'North-East Region': 1023, 'Iwate': 1024, 'Ningxia': 1025, 'Zala': 1026, 'Tolna': 1027, 'Wakayama': 1028, 'Fukui': 1029, 'Miyazaki': 1030, 'East Region': 1031}\n"
          ],
          "name": "stdout"
        }
      ]
    },
    {
      "cell_type": "code",
      "metadata": {
        "id": "orrwJ1sn9lBM",
        "colab_type": "code",
        "colab": {
          "base_uri": "https://localhost:8080/",
          "height": 55
        },
        "outputId": "08daf127-7933-4d58-88ee-0008cea1188c"
      },
      "source": [
        "# Print some info about our top regions\n",
        "print(regions.most_common())"
      ],
      "execution_count": null,
      "outputs": [
        {
          "output_type": "stream",
          "text": [
            "[('California', 82659), ('New York', 36883), ('England', 28046), ('Texas', 23375), ('Florida', 19495), ('Ontario', 16690), ('Massachusetts', 15068), ('Illinois', 14298), ('Ile-de-France', 11933), ('Tokyo', 10536), ('Pennsylvania', 10094), ('Maharashtra', 9325), ('Washington', 9143), ('Georgia', 9122), ('Colorado', 8962), ('New Jersey', 8499), ('Virginia', 8101), ('Ohio', 7687), ('Karnataka', 7365), ('Central Region', 7294), ('Bayern', 6972), ('British Columbia', 6936), ('Delhi', 6749), ('Nordrhein-Westfalen', 6718), ('New South Wales', 6622), ('North Carolina', 6548), ('Madrid', 6428), ('Beijing', 6328), ('Michigan', 6109), ('Catalonia', 5836), ('Arizona', 5814), ('Maryland', 5609), ('Quebec', 5582), ('Berlin', 5546), ('Sao Paulo', 5321), ('Minnesota', 5258), ('Tel Aviv', 5091), ('Noord-Holland', 4979), ('Victoria', 4966), (\"Seoul-t'ukpyolsi\", 4846), ('Guangdong', 4784), ('Baden-Wurttemberg', 4579), ('Alberta', 4536), ('Zurich', 4291), ('Stockholms Lan', 4282), ('Tennessee', 4143), ('Shanghai', 4141), ('Wisconsin', 4076), ('Utah', 4027), ('Oregon', 4002), ('Missouri', 3984), ('Connecticut', 3931), ('Dublin', 3826), ('District of Columbia', 3736), ('Indiana', 3621), ('Lombardia', 3422), ('Hovedstaden', 3306), ('Gujarat', 3209), ('Hong Kong Island', 3198), ('Nevada', 3173), ('Zuid-Holland', 3129), ('Dubai', 3099), ('Moscow City', 3053), ('NA - South Africa', 3038), ('Southern Finland', 3032), ('Istanbul', 2996), ('Haryana', 2996), ('Uttar Pradesh', 2983), ('Jakarta Raya', 2917), ('Tamil Nadu', 2892), ('Andhra Pradesh', 2854), ('Hessen', 2805), ('HaMerkaz', 2438), ('Rhone-Alpes', 2409), ('South Carolina', 2361), ('Hamburg', 2335), ('Distrito Federal', 2313), ('NA - Vietnam', 2271), ('Zhejiang', 2205), ('Queensland', 2187), ('Kentucky', 2026), ('Kyyiv', 1991), ('Hlavni mesto Praha', 1962), ('Auckland', 1920), ('Manchester', 1908), ('Niedersachsen', 1865), ('Lisboa', 1817), ('Louisiana', 1813), ('Mazowieckie', 1804), ('Noord-Brabant', 1798), ('Alabama', 1770), ('Kansas', 1739), ('Comunidad Valenciana', 1734), ('Delaware', 1729), ('Jiangsu', 1718), ('Andalucia', 1655), ('Oklahoma', 1640), ('Surrey', 1525), ('Dhaka', 1504), (\"Provence-Alpes-Cote d'Azur\", 1498), ('Oslo', 1470), ('Punjab', 1467), ('Edinburgh, City of', 1457), ('Utrecht', 1450), ('Western Australia', 1448), ('Iowa', 1431), ('Vastra Gotaland', 1407), ('New Hampshire', 1390), ('Sachsen', 1371), ('Budapest', 1369), ('Lagos', 1366), ('West Bengal', 1348), ('Kyonggi-do', 1334), ('Kerala', 1320), ('Vaud', 1310), ('Rajasthan', 1304), ('Brussels Hoofdstedelijk Gewest', 1279), ('Skane Lan', 1275), ('Kuala Lumpur', 1271), ('Birmingham', 1259), ('Bern', 1257), ('Wien', 1248), ('Nebraska', 1231), ('Oxfordshire', 1224), ('Emilia-Romagna', 1222), ('Glasgow City', 1212), ('Lazio', 1198), ('Cambridgeshire', 1178), ('Kent', 1176), ('Selangor', 1171), ('Rheinland-Pfalz', 1171), (\"T'ai-pei\", 1170), ('Midtjylland', 1167), ('Veneto', 1164), ('Gelderland', 1153), ('Hampshire', 1140), ('Geneve', 1131), ('Region Metropolitana', 1128), ('Antwerpen', 1126), ('Kowloon', 1105), ('Bristol, City of', 1099), ('Western Finland', 1083), ('Harjumaa', 1072), ('Aargau', 1059), ('Arkansas', 1051), ('Minas Gerais', 1045), ('Rio de Janeiro', 1031), ('Osaka', 1015), ('Zug', 994), ('Pays de la Loire', 987), ('Idaho', 983), ('Bucuresti', 979), ('Bratislava', 977), ('Pais Vasco', 972), ('Leeds', 944), ('Attiki', 941), ('Rio Grande do Sul', 930), ('Essex', 929), ('Maine', 913), ('Piemonte', 911), ('Hertford', 909), ('Al Qahirah', 891), ('Nairobi Area', 868), ('Midi-Pyrenees', 866), ('Krung Thep', 863), ('Oost-Vlaanderen', 862), ('Nord-Pas-de-Calais', 846), ('New Mexico', 843), ('Syddanmark', 831), ('Limburg', 828), ('Lancashire', 828), ('Rhode Island', 824), ('Aquitaine', 816), ('Grad Sofiya', 790), ('Fujian', 783), ('Hefa', 782), ('Nova Scotia', 769), ('Schleswig-Holstein', 759), ('Madhya Pradesh', 750), ('Cheshire', 743), ('Buckinghamshire', 737), ('Hawaii', 724), (\"T'ai-wan\", 717), ('Kanagawa', 717), ('Bretagne', 710), ('Overijssel', 701), ('East Sussex', 695), ('Parana', 694), ('West Sussex', 676), ('Vlaams-Brabant', 662), ('Santa Catarina', 659), ('Yerushalayim', 658), ('Jihomoravsky kraj', 652), ('Languedoc-Roussillon', 646), ('Toscana', 635), ('Manila', 631), ('Distrito Especial', 628), ('Galicia', 622), ('Manitoba', 621), ('South Australia', 616), ('Luxembourg', 612), ('HaZafon', 612), ('Basel-Stadt', 611), ('Vilniaus Apskritis', 595), ('Nottingham', 591), ('Sichuan', 589), ('Malopolskie', 587), ('Gloucestershire', 585), ('Jawa Barat', 581), ('Thuringen', 570), ('Sankt Gallen', 565), ('Vermont', 563), ('Montana', 552), ('Sindh', 550), ('Luzern', 547), ('Saint Petersburg City', 543), ('Norfolk', 540), ('Shandong', 537), ('Centre', 535), ('Wellington', 523), ('York', 521), ('Riga', 520), ('Sheffield', 517), ('Belfast', 517), ('Mississippi', 515), ('New Territories', 512), ('Cardiff', 510), (\"Kyyivs'ka Oblast'\", 508), ('Newcastle upon Tyne', 501), ('Alsace', 494), ('Liverpool', 487), ('Wiltshire', 486), ('Warwickshire', 474), ('Amman', 469), ('Brandenburg', 468), (\"Kharkivs'ka Oblast'\", 467), ('Castilla y Leon', 456), ('Reading', 455), ('Hubei', 441), ('Bedfordshire', 441), ('Gullbringusysla', 441), ('Wyoming', 441), ('Devon', 435), ('Aragon', 435), ('Wielkopolskie', 425), ('Worcestershire', 424), ('Moravskoslezsky kraj', 421), ('Chandigarh', 420), ('Dolnoslaskie', 418), ('Anhui', 415), ('Nordjylland', 411), (\"L'vivs'ka Oblast'\", 410), (\"Dnipropetrovs'ka Oblast'\", 408), ('Ar Riyad', 407), ('West-Vlaanderen', 404), ('Northamptonshire', 398), ('Slaskie', 398), ('Aberdeen City', 392), ('Staffordshire', 391), ('North Dakota', 387), ('Sachsen-Anhalt', 386), ('Saskatchewan', 385), ('Aichi', 383), ('Uppsala Lan', 381), ('Ankara', 381), ('Ticino', 380), ('Asturias', 370), ('Liege', 370), ('South Dakota', 370), ('Canarias', 369), ('Lima', 369), ('Vojvodina', 366), ('Pomorskie', 362), ('Campania', 361), ('Mecklenburg-Vorpommern', 360), ('Abu Dhabi', 356), ('Hunan', 354), ('Milton Keynes', 354), ('Nottinghamshire', 351), ('Oulu', 351), ('Akershus', 348), ('Somerset', 347), ('Dorset', 346), ('Groningen', 346), ('HaDarom', 345), ('Suffolk', 342), ('Grad Zagreb', 342), ('Lorraine', 338), ('Canterbury', 336), ('Ostergotlands Lan', 331), ('North Yorkshire', 331), ('Bourgogne', 330), ('Fukuoka', 330), ('Leicester', 329), ('Leicestershire', 322), ('New Brunswick', 317), ('NA - Malta', 315), ('Cork', 314), ('West Virginia', 310), ('Kampala', 309), ('Sjelland', 308), ('Bagmati', 308), ('Murcia', 308), ('Oberosterreich', 306), ('Bahia', 306), ('Liaoning', 305), ('Rogaland', 305), ('Bremen', 302), ('Bath and North East Somerset', 298), ('Derbyshire', 298), ('Castilla-La Mancha', 297), ('Islas Baleares', 296), ('Picardie', 296), ('Haute-Normandie', 296), ('Southampton', 295), ('Coventry', 295), ('Brabant Wallon', 295), ('Goias', 295), ('Hainaut', 291), ('Lincolnshire', 291), ('Tehran', 291), ('Saarland', 290), ('Cumbria', 289), ('Rizal', 289), ('Stredocesky kraj', 284), ('Western', 283), ('Steiermark', 282), ('Greater Accra', 281), ('Porto', 280), ('Windsor and Maidenhead', 278), ('Basel-Landschaft', 277), ('Nuevo Leon', 277), ('Chiba', 276), ('Friuli-Venezia Giulia', 275), ('Ljubljana Urban Commune', 274), ('Durham', 273), ('Flevoland', 272), ('Beyrouth', 271), ('Nicosia', 268), ('Stockport', 266), ('Orissa', 266), ('Friesland', 265), (\"Odes'ka Oblast'\", 264), ('Hokkaido', 263), ('Islamabad', 259), ('Thurgau', 259), ('Alaska', 257), ('Kyoto', 257), ('Cornwall', 256), ('Hebei', 254), ('Valais', 251), ('Hordaland', 250), ('Schwyz', 247), ('Basse-Normandie', 247), ('Fribourg', 247), ('West Berkshire', 244), ('Cluj', 243), ('Jawa Timur', 242), ('Ad Dawhah', 239), ('Jalisco', 237), ('Liguria', 237), ('Poitou-Charentes', 233), ('Marche', 230), ('Minsk', 229), ('Limassol', 227), ('Makkah', 227), ('Sicilia', 226), ('Navarra', 225), ('Herefordshire', 225), ('Neuchatel', 224), ('Zlinsky kraj', 224), ('Auvergne', 223), ('Jilin', 222), ('Henan', 221), ('Sor-Trondelag', 220), ('Rio Grande do Norte', 219), ('Franche-Comte', 218), ('Champagne-Ardenne', 218), ('Newfoundland', 214), ('NA - Uruguay', 213), ('Trentino-Alto Adige', 213), ('Puglia', 211), ('Bournemouth', 211), ('Derby', 210), ('Australian Capital Territory', 210), ('Niederosterreich', 209), ('Galway', 209), ('Pest', 209), ('Braga', 203), ('Shaanxi', 203), ('Izmir', 197), ('Hallands Lan', 195), ('Solothurn', 192), ('Cheshire East', 188), ('Grand Casablanca', 188), ('Antioquia', 188), ('Federal Capital Territory', 187), ('Shropshire', 186), ('Peterborough', 184), ('Kralovehradecky kraj', 184), ('Graubunden', 184), ('Warrington', 182), ('Eastern Finland', 181), ('NA - Puerto Rico', 181), ('Zilina', 180), ('Pardubicky kraj', 179), ('Buenos Aires', 176), ('Dalarnas Lan', 175), ('Vasterbottens Lan', 173), ('Kirklees', 172), ('Taejon-jikhalsi', 172), ('Saitama', 172), ('Prince Edward Island', 171), ('Limousin', 170), (\"Inch'on-jikhalsi\", 166), ('Gavleborgs Lan', 165), ('Croydon', 163), ('West Region', 162), ('Richmond upon Thames', 161), ('Stoke-on-Trent', 161), ('Al Kuwayt', 161), ('Lodzkie', 161), ('Aveiro', 161), ('Mato Grosso do Sul', 161), ('Pulau Pinang', 160), ('Yangon', 160), ('Umbria', 158), ('Vastmanlands Lan', 157), ('Al Jizah', 157), ('Novosibirsk', 157), (\"Sums'ka Oblast'\", 156), ('Banska Bystrica', 156), ('Hamilton', 155), ('Tasmania', 155), ('Goa', 154), ('Plzensky kraj', 154), ('Bihar', 154), ('Olomoucky kraj', 154), ('Jonkopings Lan', 152), ('Quezon City', 151), ('Jihocesky kraj', 149), ('Tunis', 148), ('San Jose', 148), ('Dundee City', 147), ('Bradford', 146), ('Drenthe', 145), ('Panama', 145), ('Sharjah', 145), ('Vasternorrlands Lan', 143), ('Namur', 143), ('Kingston upon Hull, City of', 142), ('Kosice', 142), ('Hillingdon', 141), ('Shizuoka', 139), ('Midland', 138), ('Sardegna', 138), ('Sodermanlands Lan', 136), ('Hyogo', 133), ('Chongqing', 133), ('La Rioja', 132), ('St. Helens', 132), (\"Ch'ungch'ong-namdo\", 132), ('Leiria', 131), ('Schaffhausen', 131), ('Bracknell Forest', 131), ('Wolverhampton', 131), ('Heilongjiang', 131), ('Johor', 131), ('Thessaloniki', 130), ('Rotherham', 130), ('Ustecky kraj', 130), ('North-East Region', 130), ('Tatarstan', 129), ('Wokingham', 128), ('Hounslow', 127), ('Swansea', 127), ('Fife', 127), ('Extremadura', 127), ('Saint Patrick', 126), ('Waikato', 126), ('West Lothian', 126), ('Solihull', 126), ('Yerevan', 124), ('Abruzzi', 123), ('Jiangxi', 123), ('Kingston upon Thames', 122), ('Gibraltar', 122), ('Cantabria', 122), ('Liberecky kraj', 122), ('Uttarakhand', 121), ('NA - Venezuela', 120), ('Wakefield', 120), ('Kauno Apskritis', 120), ('South Lanarkshire', 119), ('Al Manamah', 119), ('Jharkhand', 119), ('Trencin', 118), ('Norrbottens Lan', 117), ('Chhattisgarh', 117), ('Northumberland', 116), ('Ash Sharqiyah', 115), ('Doncaster', 115), ('Pusan-jikhalsi', 115), ('Limerick', 114), ('Kronobergs Lan', 114), ('Harrow', 113), ('Zachodniopomorskie', 113), ('Cordoba', 112), ('Sverdlovsk', 112), ('Isabela', 111), ('Varmlands Lan', 111), ('Vysocina', 110), ('Nitra', 109), ('Yamanashi', 108), ('Salzburg', 108), ('Kalmar Lan', 108), ('Vestfold', 108), ('Tartumaa', 107), ('Yogyakarta', 107), ('Ausser-Rhoden', 107), ('Coimbra', 107), ('NA - Zimbabwe', 107), ('Highland', 106), ('Baki', 105), ('Presov', 104), ('Assam', 104), ('Gateshead', 103), ('Phnum Penh', 103), ('Kujawsko-Pomorskie', 102), ('Zeeland', 102), ('North Region', 102), (\"Dushet'is Raioni\", 101), ('Tirol', 100), ('Timis', 99), ('Plymouth', 99), ('Bali', 99), ('Newport', 98), ('Dudley', 98), ('Calabria', 97), ('Brighton and Hove', 96), ('Ostfold', 95), ('Amazonas', 95), ('North Lanarkshire', 94), ('NA - Zambia', 94), ('Kyongsang-bukto', 93), ('Tianjin', 93), ('Al Iskandariyah', 92), ('More og Romsdal', 92), ('Telford and Wrekin', 92), ('Cebu City', 92), ('Okinawa', 92), ('Nagano', 91), ('Dar es Salaam', 91), ('Hiroshima', 91), ('Middlesbrough', 90), ('Piaui', 89), ('Canakkale', 88), ('NA - Isle of Man', 88), ('Buskerud', 88), ('Bolton', 88), ('Bromley', 87), ('Lagunes', 87), ('NA - Jersey', 87), ('Mato Grosso', 87), ('Niigata', 87), ('Miyagi', 86), ('Inner-Rhoden', 85), ('Pichincha', 85), ('Wirral', 84), ('Podkarpackie', 84), ('Hainan', 83), ('Trnava', 83), ('Otago', 82), ('Monmouthshire', 81), ('Shanxi', 81), ('Stirling', 80), ('Oldham', 80), ('Moskva', 79), ('Adis Abeba', 79), ('Westminster', 79), ('Jura', 79), ('Gisborne', 79), ('Aberdeenshire', 78), ('Wigan', 78), ('Butare', 77), ('Kildare', 76), ('Chisinau', 76), ('Obwalden', 76), ('Fukushima', 75), ('Setubal', 75), ('Argyll and Bute', 75), ('Wicklow', 75), ('East Region', 75), ('Krasnodar', 74), ('Orebro Lan', 74), ('Jawa Tengah', 73), (\"Hawke's Bay\", 72), ('Blekinge Lan', 72), ('Calderdale', 72), ('Podlaskie', 72), ('Blackpool', 71), ('Himachal Pradesh', 71), ('Dakar', 71), ('Yunnan', 71), ('East Riding of Yorkshire', 70), ('Louth', 69), ('Cavite', 69), ('Vest-Agder', 69), ('Perth and Kinross', 69), ('Taegu-jikhalsi', 69), ('Rostov', 69), (\"Vinnyts'ka Oblast'\", 69), ('Karnten', 68), ('Southend-on-Sea', 68), ('Guanajuato', 66), ('Central', 66), ('Rivers', 66), ('Walsall', 66), ('Iasi', 65), ('Gansu', 65), ('Espirito Santo', 65), ('Federation of Bosnia and Herzegovina', 64), ('Stockton-on-Tees', 64), ('Lubelskie', 64), ('Jammu and Kashmir', 64), ('Phuket', 63), ('Wrexham', 63), ('Oyo', 63), ('Waterford', 62), ('Vorarlberg', 62), ('Caerphilly', 62), ('Pernambuco', 62), ('Nizhegorod', 62), ('Flintshire', 62), ('Saint George', 62), (\"Tyumen'\", 61), ('Santa Fe', 61), ('Plaines Wilhems', 61), ('Mexico', 61), ('Negeri Sembilan', 61), ('Nidwalden', 61), ('Guayas', 60), ('Karpos', 59), ('Bursa', 59), ('Troms', 59), ('Ibaraki', 59), ('Valle del Cauca', 59), ('Chelyabinsk', 59), ('Guangxi', 59), ('NA - Guernsey', 58), ('Szeged', 58), ('Paraiba', 57), ('Debrecen', 57), ('Renfrewshire', 57), ('Barnet', 57), ('Kocaeli', 57), ('North Somerset', 56), ('Scottish Borders, The', 56), ('Antalya', 56), ('Puebla', 56), ('Guatemala', 56), ('Tirane', 55), ('Nordland', 55), ('Bridgend', 55), (\"Cherkas'ka Oblast'\", 55), ('Xinjiang', 55), ('Clare', 54), ('Saint Andrew', 54), ('Kerry', 54), ('Alagoas', 54), ('Enfield', 53), ('Samara', 53), ('Littoral', 53), ('Cundinamarca', 53), ('Masqat', 53), ('Halton', 52), ('Baghdad', 52), (\"Zaporiz'ka Oblast'\", 52), ('Faro', 52), ('Guizhou', 52), ('Okayama', 52), ('Gifu', 52), ('Bacs-Kiskun', 52), ('Glarus', 52), ('Distrito Nacional', 51), ('Toyama', 51), ('Carmarthenshire', 51), ('North Tyneside', 51), ('Ishikawa', 51), ('Swietokrzyskie', 51), ('Hackney', 51), ('Jamtlands Lan', 51), ('Fejer', 51), (\"Poltavs'ka Oblast'\", 51), ('Newry and Mourne', 50), ('Rondonia', 50), ('Omsk', 50), ('Varna', 50), ('Marrakech-Tensift-Al Haouz', 50), ('Viseu', 50), ('Bohinj Commune', 49), ('Belize', 49), ('Queretaro de Arteaga', 49), ('Isle of Wight', 49), ('Opolskie', 48), ('Telemark', 48), ('Almaty City', 48), ('Permskiy Kray', 48), ('Bashkortostan', 48), ('Rhondda Cynon Taff', 47), ('Larnaca', 47), ('Brasov', 47), ('Sonora', 47), ('Quintana Roo', 46), ('Brent', 46), ('Santarem', 46), ('Ras Al Khaimah', 46), ('Havering', 46), ('Sarawak', 46), ('Karlovarsky kraj', 46), ('Ebonyi', 46), ('Donegal', 45), ('East Lothian', 45), ('Cagayan', 45), ('Ealing', 45), ('Warminsko-Mazurskie', 45), ('Gyor', 45), ('Coahuila de Zaragoza', 44), (\"Donets'ka Oblast'\", 44), ('Perak', 44), ('Ilfov', 44), ('Kumamoto', 44), ('Sumatera Utara', 44), ('Madeira', 43), ('Splitsko-Dalmatinska', 43), ('Baja California', 43), ('Alger', 43), ('Alajuela', 43), ('Hedmark', 43), ('Kyongsang-namdo', 43), ('Port Louis', 42), ('Oppland', 42), ('Davao City', 42), ('Meath', 42), ('Arbil', 42), ('South Ayrshire', 42), ('Taranaki', 42), ('Ulaanbaatar', 41), ('Rochdale', 40), ('North-West Frontier', 40), ('Oita', 40), ('Vale of Glamorgan, The', 40), ('Kagoshima', 40), ('Krasnoyarskiy Kray', 40), ('Gumma', 40), ('Kilkenny', 39), ('Falkirk', 39), ('Aust-Agder', 39), ('Maribor Commune', 39), ('Coast', 39), ('North Lincolnshire', 39), ('Lubuskie', 39), ('Shiga', 39), (\"Zhytomyrs'ka Oblast'\", 39), ('Ajman', 39), ('Tochigi', 39), ('Isle of Anglesey', 38), ('Chiang Mai', 38), ('Sutton', 38), ('Chihuahua', 38), ('Denbighshire', 37), ('Plovdiv', 37), ('Mendoza', 37), ('Derry', 37), (\"Primor'ye\", 37), ('Sogn og Fjordane', 37), ('Kangwon-do', 37), ('North East Lincolnshire', 37), ('New Providence', 37), ('Beau Vallon', 37), ('Irkutsk', 37), ('Tocantins', 37), ('Zacatecas', 36), ('Nelson', 36), ('Tipperary', 36), ('Redbridge', 36), ('South-East', 36), ('Veszprem', 36), ('Sefton', 35), ('Westmeath', 35), ('Mie', 35), ('Corse', 35), ('Antrim', 35), ('Para', 35), ('Vaduz', 35), ('Rabat-Sale-Zemmour-Zaer', 35), ('Lapland', 35), ('Cholla-namdo', 35), ('Siauliu Apskritis', 35), ('Iraklion', 34), ('Ceara', 34), ('Arusha', 34), ('Midlothian', 34), ('Volgograd', 34), ('Usulutan', 34), ('Sabah', 34), ('Sibiu', 33), ('Bihor', 33), (\"Ternopil's'ka Oblast'\", 33), ('Bay of Plenty', 33), ('Tomsk', 33), ('Yamaguchi', 33), ('Nei Mongol', 33), ('Cheju-do', 32), ('Dumfries and Galloway', 32), ('Oaxaca', 32), ('Valparaiso', 32), ('Powys', 32), ('Sandwell', 32), ('Basilicata', 32), ('Komarom-Esztergom', 32), ('Sligo', 31), ('Acre', 31), ('San Luis Potosi', 31), ('Pecs', 31), ('Chittagong', 31), (\"Chernivets'ka Oblast'\", 31), ('Bamako', 31), ('Mures', 30), ('Mayo', 30), ('Chon Buri', 30), ('Northern Territory', 30), ('Torbay', 30), ('Melaka', 30), ('Paphos', 30), ('Kwangju-jikhalsi', 30), ('Kinshasa', 30), ('Szabolcs-Szatmar-Bereg', 30), ('Merton', 29), ('Castelo Branco', 29), ('Thurrock', 29), ('West Bank', 29), ('Craigavon', 29), ('Voronezh', 29), ('Fukui', 29), ('Cholla-bukto', 28), ('Carlow', 28), (\"Khmel'nyts'ka Oblast'\", 28), ('Angus', 28), (\"Ch'ungch'ong-bukto\", 28), ('Wexford', 28), ('Licko-Senjska', 28), ('Nonthaburi', 28), ('Samut Prakan', 28), ('Gyor-Moson-Sopron', 28), ('Conwy', 28), (\"Yaroslavl'\", 28), ('Sunderland', 28), ('Maputo', 28), ('Miyazaki', 28), ('Dolj', 27), (\"Khersons'ka Oblast'\", 27), ('Yucatan', 27), ('Tameside', 27), ('Gotlands Lan', 27), ('Kabol', 26), ('North Ayrshire', 26), ('Chiapas', 26), ('Barnsley', 26), ('Rutland', 26), ('Klaipedos Apskritis', 26), ('Krym', 26), ('Mont-Liban', 26), ('Luanda', 26), ('Medway', 26), ('Atlantico', 26), ('Windhoek', 26), ('South Gloucestershire', 26), ('Tabasco', 26), ('Maranhao', 26), ('Colima', 26), ('Tokushima', 26), ('Jasz-Nagykun-Szolnok', 26), ('Kagawa', 26), ('Cavan', 25), ('Cheshire West and Chester', 25), ('Khulna', 25), ('Lisburn', 25), ('Guarda', 25), ('Rajshahi', 25), ('Ioannina', 25), ('Miskolc', 25), ('Akhaia', 25), ('Constanta', 25), (\"Rivnens'ka Oblast'\", 25), ('Saint Michael', 24), ('Sergipe', 24), ('Hartlepool', 24), ('Bexley', 24), ('Rigas', 24), ('Enugu', 24), ('Moray', 24), (\"Ha'il\", 24), ('Prahova', 24), ('Iwate', 24), ('Puducherry', 23), ('Durango', 23), ('Kaliningrad', 23), ('Newtownabbey', 23), ('Vas', 23), ('Islington', 23), ('Hammersmith and Fulham', 23), ('Eskisehir', 23), ('Redcar and Cleveland', 23), ('Nord-Trondelag', 23), ('Manisa', 23), ('Ceredigion', 22), ('South Tyneside', 22), ('Astana', 22), ('San Salvador', 22), ('Tottori', 22), ('Borsod-Abauj-Zemplen', 22), ('Kayseri', 21), ('Evora', 21), ('Down', 21), ('Burgenland', 21), ('Pembrokeshire', 21), (\"Ivano-Frankivs'ka Oblast'\", 21), ('Heves', 21), ('Antananarivo', 21), ('Tolna', 21), ('Brezovica Commune', 20), ('Osjecko-Baranjska', 20), ('Coleraine', 20), ('Burgas', 20), ('Barking and Dagenham', 20), ('Sinaloa', 20), (\"Chernihivs'ka Oblast'\", 20), ('Volta', 20), ('Blantyre', 20), ('Michoacan de Ocampo', 20), ('Bekes', 20), (\"Volyns'ka Oblast'\", 20), ('Morelos', 20), ('East Ayrshire', 20), ('Yamagata', 20), ('Ashanti', 20), ('Udmurt', 19), ('Bishkek', 19), ('Greenwich', 19), ('Xizang', 19), ('Marlborough', 19), ('Anambra', 19), ('Edo', 19), ('Neath Port Talbot', 19), ('Kemerovo', 19), ('Santa Cruz', 19), ('Somogy', 19), (\"Kirovohrads'ka Oblast'\", 18), ('Zagrebacka', 18), ('Gwynedd', 18), ('Konya', 18), ('Misiones', 18), ('Evvoia', 18), (\"Ul'yanovsk\", 18), (\"Sevastopol'\", 18), ('Sud-Ouest', 18), ('Mugla', 18), ('Saratov', 18), ('Puntarenas', 18), ('Vila Real', 18), ('Kedah', 18), ('Malatya', 18), ('Fujairah', 18), ('Ogun', 18), ('Viana do Castelo', 18), ('Armagh', 18), ('Veracruz-Llave', 18), ('West Dunbartonshire', 18), ('Khabarovsk', 18), ('Ningxia', 18), ('Souss-Massa-Dr,a', 17), ('Khorasan', 17), ('Offaly', 17), ('Maale', 17), ('Beja', 17), ('Pasay', 17), ('Ballymena', 17), ('Maritime', 17), ('Ilhas', 17), ('Barisal', 17), ('Csongrad', 17), ('Kurgan', 17), ('Maramures', 16), ('Inverclyde', 16), ('Knowsley', 16), ('NA - Uzbekistan', 16), ('Molise', 16), ('Istarska', 16), ('Dungannon', 16), ('Pahang', 16), ('Port-of-Spain', 16), ('Camden', 16), ('Kirov', 16), ('Laguna', 16), ('Gaziantep', 16), ('Denizli', 16), ('Aguascalientes', 16), ('Western Area', 16), ('Azores', 16), ('Ehime', 16), ('Qinghai', 16), ('Aland', 15), ('Grevenmacher', 15), ('Omagh', 15), ('Rayong', 15), ('Eastern', 15), ('Sulawesi Selatan', 15), ('Wandsworth', 15), ('Kensington and Chelsea', 15), ('Nagasaki', 15), ('Kigali', 15), ('Hidalgo', 15), (\"Tver'\", 15), ('Liepaja', 15), ('Lambeth', 15), ('Uri', 15), ('Akwa Ibom', 15), (\"Zakarpats'ka Oblast'\", 15), ('Zala', 15), ('Wakayama', 15)]\n"
          ],
          "name": "stdout"
        }
      ]
    },
    {
      "cell_type": "code",
      "metadata": {
        "id": "g5YFUsxk8Z3T",
        "colab_type": "code",
        "colab": {
          "base_uri": "https://localhost:8080/",
          "height": 54
        },
        "outputId": "08e9daf0-bdf0-44ee-82ec-f2875f600630"
      },
      "source": [
        "from scipy.sparse import coo_matrix\n",
        "import collections\n",
        "\n",
        "# Load our filtered region dictionary if we've saved it on disk.\n",
        "\n",
        "row_indices = []\n",
        "col_indices = []\n",
        "data_values = []\n",
        "\n",
        "lookup_index = []\n",
        "lookup_value = []\n",
        "used_hashes = set()\n",
        "\n",
        "iter = 0\n",
        "test_stop = -1\n",
        "total_rows = np.shape(org_info_selected)[0]\n",
        "print(\"Processing \", total_rows, \" rows.\")\n",
        "for (i, row) in org_info_selected.iterrows():\n",
        "  value = row['region']\n",
        "\n",
        "  uuid = row['uuid'].strip()\n",
        "  hash = cityhash.CityHash64(uuid)\n",
        "  if hash in used_hashes:  # Hash collision!\n",
        "    print(hash)\n",
        "    continue          # which shouldn't really happen\n",
        "  used_hashes.add(hash)\n",
        "\n",
        "  lookup_value.append(uuid)\n",
        "  lookup_index.append(hash)\n",
        "\n",
        "  row_indices.append(i)\n",
        "  col_indices.append(0)\n",
        "  data_values.append(hash)\n",
        "\n",
        "  if value in regions:\n",
        "    hash = cityhash.CityHash64(row['uuid'])\n",
        "\n",
        "    row_indices.append(i)\n",
        "    col_indices.append(region_to_index[value])\n",
        "    data_values.append(1)\n",
        "\n",
        "unclustered = coo_matrix((data_values, (row_indices, col_indices)))\n",
        "print(unclustered.toarray().shape)"
      ],
      "execution_count": 9,
      "outputs": [
        {
          "output_type": "stream",
          "text": [
            "Processing  842699  rows.\n",
            "(842699, 1032)\n"
          ],
          "name": "stdout"
        }
      ]
    },
    {
      "cell_type": "code",
      "metadata": {
        "id": "KJMWPc-d8oui",
        "colab_type": "code",
        "colab": {}
      },
      "source": [
        "import scipy.sparse\n",
        "\n",
        "## Generate company lookup\n",
        "lookup = pd.DataFrame.from_dict({'uuid':lookup_index, 'hash':lookup_value})\n",
        "lookup.to_csv('/lookup.csv')\n",
        "\n",
        "# category_features = pd.DataFrame.sparse.from_spmatrix(joined)\n",
        "# category_features.to_pickle('/region_features.pkl')\n",
        "\n",
        "scipy.sparse.save_npz('/region_features.npz', unclustered)\n"
      ],
      "execution_count": 13,
      "outputs": []
    },
    {
      "cell_type": "code",
      "metadata": {
        "id": "BVwC_DgmYWnZ",
        "colab_type": "code",
        "colab": {
          "base_uri": "https://localhost:8080/",
          "height": 959
        },
        "outputId": "67843c98-8fbf-4652-822c-4a981e9a6d63"
      },
      "source": [
        "print(unclustered)"
      ],
      "execution_count": 11,
      "outputs": [
        {
          "output_type": "stream",
          "text": [
            "  (0, 0)\t1.3685534557686295e+19\n",
            "  (0, 1)\t1.0\n",
            "  (1, 0)\t7.640156219293676e+17\n",
            "  (1, 2)\t1.0\n",
            "  (2, 0)\t1.0846552445983457e+19\n",
            "  (2, 1)\t1.0\n",
            "  (3, 0)\t5.087506707876194e+18\n",
            "  (3, 2)\t1.0\n",
            "  (4, 0)\t9.094535307341386e+18\n",
            "  (4, 2)\t1.0\n",
            "  (5, 0)\t1.7418110891307706e+19\n",
            "  (5, 2)\t1.0\n",
            "  (6, 0)\t7.773244737896805e+18\n",
            "  (6, 2)\t1.0\n",
            "  (7, 0)\t1.5263381640365195e+19\n",
            "  (7, 2)\t1.0\n",
            "  (8, 0)\t2.7762472306795356e+18\n",
            "  (8, 2)\t1.0\n",
            "  (9, 0)\t1.7179139454557108e+19\n",
            "  (9, 2)\t1.0\n",
            "  (10, 0)\t3.143841549007344e+18\n",
            "  (10, 1)\t1.0\n",
            "  (11, 0)\t1.0303043534068977e+18\n",
            "  (11, 2)\t1.0\n",
            "  (12, 0)\t2.4974301446054984e+18\n",
            "  :\t:\n",
            "  (842686, 359)\t1.0\n",
            "  (842687, 0)\t1.2078929441060368e+19\n",
            "  (842687, 2)\t1.0\n",
            "  (842688, 0)\t4.0054335165626184e+18\n",
            "  (842688, 9)\t1.0\n",
            "  (842689, 0)\t1.689286265119951e+19\n",
            "  (842689, 9)\t1.0\n",
            "  (842690, 0)\t7.914635032925793e+18\n",
            "  (842690, 23)\t1.0\n",
            "  (842691, 0)\t7.229716827056183e+18\n",
            "  (842691, 15)\t1.0\n",
            "  (842692, 0)\t2.723622163574792e+18\n",
            "  (842692, 41)\t1.0\n",
            "  (842693, 0)\t5.250348886890883e+18\n",
            "  (842693, 53)\t1.0\n",
            "  (842694, 0)\t4.62656412319939e+18\n",
            "  (842694, 157)\t1.0\n",
            "  (842695, 0)\t2.978566027619601e+18\n",
            "  (842695, 2)\t1.0\n",
            "  (842696, 0)\t1.7479542848556652e+18\n",
            "  (842696, 88)\t1.0\n",
            "  (842697, 0)\t9.744251496066875e+18\n",
            "  (842697, 39)\t1.0\n",
            "  (842698, 0)\t7.648380604111671e+18\n",
            "  (842698, 1)\t1.0\n"
          ],
          "name": "stdout"
        }
      ]
    },
    {
      "cell_type": "code",
      "metadata": {
        "id": "8KOwulj9mFrl",
        "colab_type": "code",
        "colab": {}
      },
      "source": [
        ""
      ],
      "execution_count": null,
      "outputs": []
    }
  ]
}