{
  "nbformat": 4,
  "nbformat_minor": 0,
  "metadata": {
    "colab": {
      "name": "category_features.ipynb",
      "provenance": [],
      "authorship_tag": "ABX9TyPERI1L1FXzXkNs6oStZAZW",
      "include_colab_link": true
    },
    "kernelspec": {
      "name": "python3",
      "display_name": "Python 3"
    }
  },
  "cells": [
    {
      "cell_type": "markdown",
      "metadata": {
        "id": "view-in-github",
        "colab_type": "text"
      },
      "source": [
        "<a href=\"https://colab.research.google.com/github/siddtheshah/vc_modeling/blob/master/region_features.ipynb\" target=\"_parent\"><img src=\"https://colab.research.google.com/assets/colab-badge.svg\" alt=\"Open In Colab\"/></a>"
      ]
    },
    {
      "cell_type": "code",
      "metadata": {
        "id": "LLj02yHu8Fm5",
        "colab_type": "code",
        "colab": {
          "base_uri": "https://localhost:8080/",
          "height": 222
        },
        "outputId": "3b7402d1-83d5-4c75-ca4d-826c99203253"
      },
      "source": [
        "import os\n",
        "import numpy as np\n",
        "import pandas as pd\n",
        "import matplotlib.pyplot as plt\n",
        "!pip install cityhash\n",
        "import cityhash\n",
        "\n",
        "from copy import deepcopy"
      ],
      "execution_count": 1,
      "outputs": [
        {
          "output_type": "stream",
          "text": [
            "Collecting cityhash\n",
            "\u001b[?25l  Downloading https://files.pythonhosted.org/packages/25/67/65ad3755997c066766750525fdf3045609f5ee892fa5b037e7fc066505a4/cityhash-0.2.3.post9.tar.gz (48kB)\n",
            "\r\u001b[K     |██████▊                         | 10kB 16.3MB/s eta 0:00:01\r\u001b[K     |█████████████▍                  | 20kB 1.7MB/s eta 0:00:01\r\u001b[K     |████████████████████            | 30kB 2.2MB/s eta 0:00:01\r\u001b[K     |██████████████████████████▊     | 40kB 2.5MB/s eta 0:00:01\r\u001b[K     |████████████████████████████████| 51kB 1.6MB/s \n",
            "\u001b[?25hBuilding wheels for collected packages: cityhash\n",
            "  Building wheel for cityhash (setup.py) ... \u001b[?25l\u001b[?25hdone\n",
            "  Created wheel for cityhash: filename=cityhash-0.2.3.post9-cp36-cp36m-linux_x86_64.whl size=82882 sha256=b90c6101ebe84addf7e401a4e7c23ed36685b91a5175af10fde72ecb2e049e3c\n",
            "  Stored in directory: /root/.cache/pip/wheels/a4/4d/ae/cf0f1f8058ca2738fe972c69291083a0a06765271fb1047edd\n",
            "Successfully built cityhash\n",
            "Installing collected packages: cityhash\n",
            "Successfully installed cityhash-0.2.3.post9\n"
          ],
          "name": "stdout"
        }
      ]
    },
    {
      "cell_type": "code",
      "metadata": {
        "id": "DNCUUReS8P_O",
        "colab_type": "code",
        "colab": {
          "base_uri": "https://localhost:8080/",
          "height": 129
        },
        "outputId": "fa81847f-2452-41a3-db86-a03eb780931f"
      },
      "source": [
        "from google.colab import drive\n",
        "drive.mount('/content/gdrive')"
      ],
      "execution_count": 2,
      "outputs": [
        {
          "output_type": "stream",
          "text": [
            "Go to this URL in a browser: https://accounts.google.com/o/oauth2/auth?client_id=947318989803-6bn6qk8qdgf4n4g3pfee6491hc0brc4i.apps.googleusercontent.com&redirect_uri=urn%3aietf%3awg%3aoauth%3a2.0%3aoob&scope=email%20https%3a%2f%2fwww.googleapis.com%2fauth%2fdocs.test%20https%3a%2f%2fwww.googleapis.com%2fauth%2fdrive%20https%3a%2f%2fwww.googleapis.com%2fauth%2fdrive.photos.readonly%20https%3a%2f%2fwww.googleapis.com%2fauth%2fpeopleapi.readonly&response_type=code\n",
            "\n",
            "Enter your authorization code:\n",
            "··········\n",
            "Mounted at /content/gdrive\n"
          ],
          "name": "stdout"
        }
      ]
    },
    {
      "cell_type": "code",
      "metadata": {
        "id": "Mi6F1Vm85jtx",
        "colab_type": "code",
        "colab": {}
      },
      "source": [
        "org_info = pd.read_csv('/content/gdrive/My Drive/vc_modeling/data/crunchbase_bulk_export/organizations.csv')"
      ],
      "execution_count": 3,
      "outputs": []
    },
    {
      "cell_type": "code",
      "metadata": {
        "id": "aTkfMfnE8Xl6",
        "colab_type": "code",
        "colab": {
          "base_uri": "https://localhost:8080/",
          "height": 222
        },
        "outputId": "0333f1eb-a057-459e-8574-aa08e52cfccf"
      },
      "source": [
        "import collections\n",
        "\n",
        "# Filter down the data purely to investees\n",
        "org_info = org_info[org_info['primary_role'] == 'company']\n",
        "\n",
        "# Select organization data\n",
        "# Clean the df\n",
        "\n",
        "org_info_selected = org_info[['uuid', 'region']]\n",
        "org_info_selected = org_info_selected.dropna()\n",
        "org_info_selected = org_info_selected.reset_index(drop=True)\n",
        "\n",
        "regions = collections.Counter()\n",
        "\n",
        "iter = 0\n",
        "test_stop = -1\n",
        "total_rows = np.shape(org_info_selected)[0]\n",
        "print(\"Processing \", total_rows, \" rows.\")\n",
        "for (i, row) in org_info_selected.iterrows():\n",
        "  if iter == test_stop:\n",
        "    break\n",
        "  iter += 1\n",
        "  if iter % 100000 == 0:\n",
        "    print(iter, \" of \", total_rows)\n",
        "\n",
        "  region = row['region']  \n",
        "  regions[region] += 1\n",
        "\n",
        "# Filter low count regions\n",
        "low_count_threshold = 15\n",
        "keys_to_remove = []\n",
        "for region, count in regions.items():\n",
        "  if count < low_count_threshold:\n",
        "    keys_to_remove.append(region)\n",
        "\n",
        "for key in keys_to_remove:\n",
        "  del regions[key]\n",
        "\n",
        "# Create index to word mapping\n",
        "region_to_index = {}\n",
        "# Start at 1 so we can put hashed uuid at 0.\n",
        "region_index = 1\n",
        "for region, count in regions.items():\n",
        "  region_to_index[region] = region_index\n",
        "  region_index += 1\n",
        "\n",
        "print(region_to_index)\n",
        "region_size = region_index"
      ],
      "execution_count": 4,
      "outputs": [
        {
          "output_type": "stream",
          "text": [
            "Processing  842699  rows.\n",
            "100000  of  842699\n",
            "200000  of  842699\n",
            "300000  of  842699\n",
            "400000  of  842699\n",
            "500000  of  842699\n",
            "600000  of  842699\n",
            "700000  of  842699\n",
            "800000  of  842699\n",
            "{'New York': 0, 'California': 1, 'Illinois': 2, 'Hong Kong Island': 3, 'Dublin': 4, 'Virginia': 5, 'Zurich': 6, 'Texas': 7, 'Florida': 8, 'Arizona': 9, 'Tel Aviv': 10, 'Connecticut': 11, 'Leeds': 12, 'Oxfordshire': 13, 'Washington': 14, 'Luxembourg': 15, 'British Columbia': 16, 'Moscow City': 17, 'Berlin': 18, 'North Carolina': 19, 'Ile-de-France': 20, 'Southern Finland': 21, 'Ontario': 22, 'England': 23, 'Nevada': 24, 'Georgia': 25, 'Colorado': 26, 'Massachusetts': 27, 'Pennsylvania': 28, 'Geneve': 29, 'Goa': 30, 'Tennessee': 31, \"Seoul-t'ukpyolsi\": 32, 'Sachsen': 33, 'Oklahoma': 34, 'Alabama': 35, 'Central Region': 36, 'Stockholms Lan': 37, 'Ohio': 38, 'Tokyo': 39, 'Zuid-Holland': 40, 'Karnataka': 41, 'Baden-Wurttemberg': 42, 'Surrey': 43, 'Minnesota': 44, 'Maryland': 45, 'New South Wales': 46, 'Michigan': 47, 'East Sussex': 48, 'Indiana': 49, 'NA - Venezuela': 50, 'Madrid': 51, 'Hamburg': 52, 'Yerushalayim': 53, 'Hovedstaden': 54, 'Zhejiang': 55, 'Manila': 56, 'Bath and North East Somerset': 57, 'Limerick': 58, 'Victoria': 59, 'Ticino': 60, 'Jakarta Raya': 61, 'NA - South Africa': 62, 'Shanghai': 63, 'Saarland': 64, 'Missouri': 65, 'Rhode Island': 66, 'New Jersey': 67, 'Catalonia': 68, 'Quebec': 69, 'Rio de Janeiro': 70, 'District of Columbia': 71, 'Brussels Hoofdstedelijk Gewest': 72, 'Rhone-Alpes': 73, 'Oregon': 74, 'Cambridgeshire': 75, 'Niedersachsen': 76, 'Idaho': 77, 'Hlavni mesto Praha': 78, 'Vermont': 79, 'Midi-Pyrenees': 80, 'Skane Lan': 81, 'Wisconsin': 82, 'HaMerkaz': 83, 'Overijssel': 84, 'Alberta': 85, 'Utah': 86, 'Wellington': 87, 'Nottingham': 88, 'Dolnoslaskie': 89, 'New Mexico': 90, 'Schleswig-Holstein': 91, 'Phuket': 92, 'Distrito Federal': 93, 'Harjumaa': 94, 'Noord-Holland': 95, 'Dorset': 96, 'Merton': 97, 'Wien': 98, 'Reading': 99, 'Sao Paulo': 100, 'Southampton': 101, 'Beijing': 102, 'South Carolina': 103, 'Hessen': 104, 'Maharashtra': 105, 'Northamptonshire': 106, 'Nebraska': 107, 'Canakkale': 108, 'Kowloon': 109, 'Buckinghamshire': 110, 'Comunidad Valenciana': 111, 'Guangdong': 112, 'Mississippi': 113, 'Edinburgh, City of': 114, 'Hampshire': 115, 'Flevoland': 116, 'Sligo': 117, 'Western Australia': 118, 'Delaware': 119, 'Pays de la Loire': 120, 'Norfolk': 121, 'Jihomoravsky kraj': 122, 'Delhi': 123, 'Uttar Pradesh': 124, 'West Bengal': 125, 'Ostergotlands Lan': 126, 'Bayern': 127, 'Emilia-Romagna': 128, 'Kentucky': 129, 'New Hampshire': 130, 'Kansas': 131, 'Coventry': 132, 'Maramures': 133, 'Hawaii': 134, 'Al Qahirah': 135, 'Nova Scotia': 136, 'Islas Baleares': 137, 'Ad Dawhah': 138, 'Jawa Barat': 139, 'Nicosia': 140, 'Suffolk': 141, 'York': 142, 'Utrecht': 143, 'Pomorskie': 144, 'Hubei': 145, 'Sibiu': 146, 'Manchester': 147, 'Nord-Pas-de-Calais': 148, 'Maine': 149, \"Provence-Alpes-Cote d'Azur\": 150, 'Liaoning': 151, 'Saint Patrick': 152, 'Dubai': 153, 'Worcestershire': 154, 'Western Finland': 155, 'Tamil Nadu': 156, 'Selangor': 157, 'Nordrhein-Westfalen': 158, 'Rhondda Cynon Taff': 159, 'Kent': 160, 'Cork': 161, 'Oslo': 162, 'HaZafon': 163, 'Lisboa': 164, 'Gujarat': 165, 'Moskva': 166, \"T'ai-pei\": 167, 'Queensland': 168, 'Lazio': 169, 'Toscana': 170, 'Kilkenny': 171, 'Sichuan': 172, 'Inverclyde': 173, 'South Lanarkshire': 174, 'Bedfordshire': 175, 'Vastra Gotaland': 176, 'Saint Petersburg City': 177, 'Dolj': 178, 'Grad Sofiya': 179, 'Andhra Pradesh': 180, 'Jilin': 181, 'Iowa': 182, 'Larnaca': 183, 'West Berkshire': 184, \"T'ai-wan\": 185, 'Sindh': 186, 'Louisiana': 187, 'Warrington': 188, 'Birmingham': 189, 'Istanbul': 190, 'Lorraine': 191, 'Bucuresti': 192, 'Sheffield': 193, 'NA - Vietnam': 194, 'Brighton and Hove': 195, 'Leiria': 196, 'Beyrouth': 197, 'Port Louis': 198, 'Vaud': 199, 'Newfoundland': 200, 'Highland': 201, 'Dundee City': 202, 'Essex': 203, 'Antwerpen': 204, 'Andalucia': 205, 'Oost-Vlaanderen': 206, 'Lombardia': 207, 'Hertford': 208, 'Wiltshire': 209, 'Canterbury': 210, 'Bristol, City of': 211, 'Region Metropolitana': 212, \"Odes'ka Oblast'\": 213, 'Ljubljana Urban Commune': 214, 'Hounslow': 215, 'North Yorkshire': 216, 'Madeira': 217, 'Kingston upon Thames': 218, 'Falkirk': 219, 'Bretagne': 220, 'Ceredigion': 221, 'Yerevan': 222, 'Haryana': 223, 'Udmurt': 224, 'Gloucestershire': 225, 'Budapest': 226, 'Glasgow City': 227, 'Auckland': 228, 'South Australia': 229, 'West Sussex': 230, 'Brasov': 231, 'Limburg': 232, 'Aquitaine': 233, 'Vasternorrlands Lan': 234, 'Nottinghamshire': 235, 'Swansea': 236, 'Alsace': 237, 'NA - Isle of Man': 238, 'Cheju-do': 239, 'Bremen': 240, 'Gibraltar': 241, 'Newcastle upon Tyne': 242, 'Cornwall': 243, 'Tunis': 244, 'Vasterbottens Lan': 245, 'Mazowieckie': 246, 'Nordjylland': 247, 'Canarias': 248, 'Basel-Stadt': 249, 'Lancashire': 250, 'Piemonte': 251, 'Liverpool': 252, 'Saint Michael': 253, 'Osaka': 254, 'Montana': 255, 'Vastmanlands Lan': 256, 'Krung Thep': 257, 'Midtjylland': 258, 'Attiki': 259, 'San Jose': 260, \"Tyumen'\": 261, 'Languedoc-Roussillon': 262, 'Sjelland': 263, 'Gullbringusysla': 264, 'Kronobergs Lan': 265, 'Shandong': 266, 'Warwickshire': 267, 'Zacatecas': 268, 'Lima': 269, 'Derby': 270, 'Punjab': 271, 'Wielkopolskie': 272, 'Veneto': 273, 'Inner-Rhoden': 274, 'Prince Edward Island': 275, 'Iasi': 276, 'Wokingham': 277, 'Riga': 278, 'Quintana Roo': 279, 'Richmond upon Thames': 280, 'Croydon': 281, 'Windsor and Maidenhead': 282, 'Devon': 283, 'Nairobi Area': 284, 'Schaffhausen': 285, 'Kerala': 286, 'Cumbria': 287, 'Pais Vasco': 288, 'Groningen': 289, 'NA - Malta': 290, 'Dhaka': 291, 'North Dakota': 292, 'Steiermark': 293, 'Minas Gerais': 294, 'Castelo Branco': 295, 'South Tyneside': 296, 'Leicester': 297, 'Aland': 298, 'Rizal': 299, \"Hawke's Bay\": 300, 'Braga': 301, 'NA - Uruguay': 302, 'Vlaams-Brabant': 303, 'Rajasthan': 304, 'Ostfold': 305, 'North Somerset': 306, 'Bromley': 307, 'Adis Abeba': 308, 'Campania': 309, 'Zug': 310, 'Blackpool': 311, 'Mures': 312, 'Thessaloniki': 313, 'Niederosterreich': 314, 'Louth': 315, 'Distrito Nacional': 316, 'Australian Capital Territory': 317, 'Malopolskie': 318, 'Gelderland': 319, 'Al Iskandariyah': 320, 'Sachsen-Anhalt': 321, 'Tartumaa': 322, \"Kirovohrads'ka Oblast'\": 323, 'Buenos Aires': 324, 'Hefa': 325, 'Arkansas': 326, 'Amman': 327, 'Midland': 328, 'Wrexham': 329, 'Belfast': 330, 'Vilniaus Apskritis': 331, 'Noord-Brabant': 332, 'Grad Zagreb': 333, 'Cardiff': 334, 'Amazonas': 335, 'Staffordshire': 336, 'Knowsley': 337, 'Wyoming': 338, 'Karpos': 339, 'Donegal': 340, 'Opolskie': 341, 'Durham': 342, 'Aust-Agder': 343, 'Zagrebacka': 344, 'Federation of Bosnia and Herzegovina': 345, 'Limassol': 346, 'Kuala Lumpur': 347, 'Puglia': 348, 'Manitoba': 349, 'Lagunes': 350, 'Kanagawa': 351, 'Cholla-bukto': 352, 'Leicestershire': 353, 'Uppsala Lan': 354, 'Chandigarh': 355, 'Friesland': 356, 'Souss-Massa-Dr,a': 357, 'Madhya Pradesh': 358, 'Hamilton': 359, 'Dumfries and Galloway': 360, 'Tatarstan': 361, 'Lagos': 362, \"L'vivs'ka Oblast'\": 363, 'Abruzzi': 364, 'Ankara': 365, 'Akershus': 366, 'Kabol': 367, \"Khersons'ka Oblast'\": 368, 'Iraklion': 369, 'Santa Catarina': 370, 'Enfield': 371, 'Gateshead': 372, 'Rochdale': 373, 'Centre': 374, 'Aberdeen City': 375, 'Galway': 376, 'Fujian': 377, 'Kildare': 378, 'Vojvodina': 379, 'Fukushima': 380, 'West-Vlaanderen': 381, 'Kyonggi-do': 382, 'Slaskie': 383, 'Stirling': 384, 'Baki': 385, 'Waterford': 386, 'Distrito Especial': 387, 'Brabant Wallon': 388, 'Brent': 389, 'Friuli-Venezia Giulia': 390, \"Kyyivs'ka Oblast'\": 391, 'Carlow': 392, \"Khmel'nyts'ka Oblast'\": 393, 'Kayseri': 394, 'Timis': 395, 'Denbighshire': 396, 'Syddanmark': 397, 'Toyama': 398, 'Bracknell Forest': 399, 'Hunan': 400, 'Westminster': 401, 'Blekinge Lan': 402, 'Cheshire East': 403, 'Western': 404, 'Harrow': 405, 'Monmouthshire': 406, 'Minsk': 407, 'Bishkek': 408, 'Ash Sharqiyah': 409, 'Plovdiv': 410, 'Dalarnas Lan': 411, 'Khorasan': 412, 'Drenthe': 413, 'Yamanashi': 414, 'Goias': 415, 'Picardie': 416, 'Otago': 417, 'Valais': 418, 'Cheshire': 419, 'Izmir': 420, 'Cavite': 421, 'Nelson': 422, 'Quezon City': 423, 'Oulu': 424, 'Milton Keynes': 425, 'Bournemouth': 426, 'Kyyiv': 427, 'Angus': 428, 'Wakefield': 429, 'Hainaut': 430, 'Lincolnshire': 431, 'Alaska': 432, 'Thuringen': 433, 'Oppland': 434, 'Tipperary': 435, 'Guayas': 436, 'Rheinland-Pfalz': 437, 'North Ayrshire': 438, 'Asturias': 439, 'Mendoza': 440, 'Cordoba': 441, 'Mayo': 442, 'Northumberland': 443, 'Cantabria': 444, \"Sums'ka Oblast'\": 445, 'Ar Riyad': 446, 'Guanajuato': 447, 'East Lothian': 448, 'More og Romsdal': 449, 'West Virginia': 450, 'Middlesbrough': 451, 'Haute-Normandie': 452, 'Al Jizah': 453, 'Aragon': 454, 'Castilla y Leon': 455, 'La Rioja': 456, 'Chiba': 457, 'Hokkaido': 458, 'Vorarlberg': 459, 'New Territories': 460, \"Dnipropetrovs'ka Oblast'\": 461, 'Bohinj Commune': 462, 'Namur': 463, 'Luzern': 464, 'Paraiba': 465, 'Salzburg': 466, 'Puducherry': 467, 'Sverdlovsk': 468, 'Splitsko-Dalmatinska': 469, 'Cagayan': 470, 'Bihor': 471, 'Schwyz': 472, 'Basel-Landschaft': 473, 'Jura': 474, 'Galicia': 475, 'Derry': 476, 'Astana': 477, 'Gwynedd': 478, 'Chiapas': 479, 'Uttarakhand': 480, 'Cluj': 481, 'Bern': 482, 'Plymouth': 483, 'Aargau': 484, 'Bursa': 485, 'Nuevo Leon': 486, 'Tasmania': 487, 'Redbridge': 488, 'North Lanarkshire': 489, 'Sardegna': 490, 'Coahuila de Zaragoza': 491, 'Navarra': 492, 'Tirane': 493, 'Central': 494, 'Waikato': 495, 'Troms': 496, 'Kyoto': 497, 'West Lothian': 498, 'Halton': 499, 'Wolverhampton': 500, 'Brandenburg': 501, 'Cavan': 502, 'NA - Uzbekistan': 503, 'Carmarthenshire': 504, 'Grand Casablanca': 505, \"Kharkivs'ka Oblast'\": 506, 'Peterborough': 507, 'Jawa Tengah': 508, 'Porto': 509, 'Herefordshire': 510, 'Castilla-La Mancha': 511, 'Islamabad': 512, 'Liege': 513, 'Stoke-on-Trent': 514, 'Auvergne': 515, 'Al Kuwayt': 516, 'Bourgogne': 517, 'Anhui': 518, 'Kalmar Lan': 519, 'Nordland': 520, 'Greater Accra': 521, 'NA - Jersey': 522, 'Debrecen': 523, 'Setubal': 524, 'Barnsley': 525, 'Basse-Normandie': 526, 'Baghdad': 527, 'Konya': 528, 'Brezovica Commune': 529, 'Santa Fe': 530, 'Hillingdon': 531, 'Saskatchewan': 532, 'Molise': 533, 'Shaanxi': 534, 'Abu Dhabi': 535, 'Vest-Agder': 536, 'Rutland': 537, 'Stockport': 538, 'Fribourg': 539, 'Yogyakarta': 540, 'Ealing': 541, 'Oldham': 542, 'Vestfold': 543, 'Bridgend': 544, 'Jiangsu': 545, 'North-West Frontier': 546, 'Kampala': 547, 'Evora': 548, 'Mecklenburg-Vorpommern': 549, 'Clare': 550, 'Karnten': 551, 'Franche-Comte': 552, 'Himachal Pradesh': 553, 'Sergipe': 554, 'Lodzkie': 555, 'Plaines Wilhems': 556, 'Rogaland': 557, 'East Riding of Yorkshire': 558, 'Chon Buri': 559, 'St. Helens': 560, 'Oberosterreich': 561, 'Poitou-Charentes': 562, 'New Brunswick': 563, 'Panama': 564, 'Hartlepool': 565, 'Parana': 566, 'Tehran': 567, 'Champagne-Ardenne': 568, 'Sor-Trondelag': 569, 'Solihull': 570, 'Kirklees': 571, 'Limousin': 572, 'Sefton': 573, 'Aichi': 574, 'Misiones': 575, 'Thurgau': 576, 'San Salvador': 577, 'Durango': 578, 'Tirol': 579, 'South Dakota': 580, 'Klaipedos Apskritis': 581, 'North Tyneside': 582, 'Shropshire': 583, 'Orissa': 584, 'Ibaraki': 585, 'Somerset': 586, 'HaDarom': 587, 'Taejon-jikhalsi': 588, \"Ch'ungch'ong-namdo\": 589, 'Davao City': 590, 'Bratislava': 591, 'Sonora': 592, 'Hebei': 593, \"Dushet'is Raioni\": 594, 'Mexico': 595, 'Renfrewshire': 596, 'Chisinau': 597, 'Marche': 598, 'Oita': 599, 'Bagmati': 600, 'Meath': 601, 'Acre': 602, 'Kauno Apskritis': 603, 'Saint Andrew': 604, \"Ch'ungch'ong-bukto\": 605, 'Eastern Finland': 606, 'Murcia': 607, 'Down': 608, 'Kyongsang-bukto': 609, 'Caerphilly': 610, 'Istarska': 611, 'Kujawsko-Pomorskie': 612, 'Calabria': 613, 'Antioquia': 614, 'Jalisco': 615, 'Sicilia': 616, 'Ishikawa': 617, 'Vale of Glamorgan, The': 618, 'Sodermanlands Lan': 619, 'NA - Puerto Rico': 620, 'Calderdale': 621, 'Perth and Kinross': 622, 'Bradford': 623, 'Buskerud': 624, 'Ausser-Rhoden': 625, 'Plzensky kraj': 626, 'Scottish Borders, The': 627, \"Ternopil's'ka Oblast'\": 628, 'Stockton-on-Tees': 629, 'Pernambuco': 630, 'Grevenmacher': 631, 'Rotherham': 632, 'Newport': 633, 'Newry and Mourne': 634, 'Oaxaca': 635, 'Norrbottens Lan': 636, 'Bali': 637, 'Zachodniopomorskie': 638, 'Omagh': 639, 'Negeri Sembilan': 640, 'Federal Capital Territory': 641, 'Makkah': 642, 'Northern Territory': 643, 'Pulau Pinang': 644, 'Presov': 645, 'Telemark': 646, 'Umbria': 647, 'Wirral': 648, 'Fukuoka': 649, 'Argyll and Bute': 650, 'Torbay': 651, 'Barnet': 652, 'Aveiro': 653, 'Trentino-Alto Adige': 654, 'Krym': 655, 'Valparaiso': 656, 'Rondonia': 657, 'Nidwalden': 658, 'Pest': 659, 'Fife': 660, 'Osjecko-Baranjska': 661, 'Sankt Gallen': 662, 'Evvoia': 663, 'Extremadura': 664, 'Offaly': 665, 'Westmeath': 666, 'Jonkopings Lan': 667, 'Isle of Anglesey': 668, 'Rayong': 669, 'Coimbra': 670, 'Telford and Wrekin': 671, 'Wexford': 672, \"Inch'on-jikhalsi\": 673, 'Isabela': 674, 'NA - Guernsey': 675, 'Hallands Lan': 676, \"Ul'yanovsk\": 677, 'Jawa Timur': 678, 'Kerry': 679, 'Maale': 680, 'Nizhegorod': 681, 'Novosibirsk': 682, 'Mie': 683, 'Hordaland': 684, 'Melaka': 685, \"Sevastopol'\": 686, 'Kralovehradecky kraj': 687, 'Kingston upon Hull, City of': 688, 'Krasnodar': 689, 'Belize': 690, 'Flintshire': 691, \"Primor'ye\": 692, 'Sud-Ouest': 693, 'Mont-Liban': 694, 'Kaliningrad': 695, 'Rio Grande do Sul': 696, 'Coleraine': 697, 'Newtownabbey': 698, 'Rio Grande do Norte': 699, 'Kagoshima': 700, 'Saint George': 701, \"Donets'ka Oblast'\": 702, 'Cebu City': 703, 'Licko-Senjska': 704, 'Doncaster': 705, 'Baja California': 706, 'Queretaro de Arteaga': 707, 'Dungannon': 708, 'Warminsko-Mazurskie': 709, 'Burgas': 710, 'Bay of Plenty': 711, 'Ceara': 712, 'Omsk': 713, 'Santarem': 714, 'Varna': 715, \"Cherkas'ka Oblast'\": 716, 'Ras Al Khaimah': 717, 'Valle del Cauca': 718, 'Liguria': 719, 'Shizuoka': 720, 'Cheshire West and Chester': 721, 'Varmlands Lan': 722, 'Chhattisgarh': 723, 'Stredocesky kraj': 724, 'Bahia': 725, 'Wicklow': 726, 'Al Manamah': 727, 'Corse': 728, 'Greenwich': 729, 'Antalya': 730, 'Dudley': 731, 'Podkarpackie': 732, 'Sogn og Fjordane': 733, 'Powys': 734, 'Maribor Commune': 735, 'Luanda': 736, 'Bexley': 737, 'Khulna': 738, 'Chiang Mai': 739, 'Coast': 740, 'Derbyshire': 741, 'Antrim': 742, 'Medway': 743, 'Mugla': 744, 'Hainan': 745, 'Sutton': 746, 'Xizang': 747, 'Lisburn': 748, 'Arusha': 749, 'Nonthaburi': 750, 'Southend-on-Sea': 751, 'Lubelskie': 752, 'Gisborne': 753, 'Bihar': 754, 'Perak': 755, 'Jammu and Kashmir': 756, 'Alagoas': 757, 'NA - Zimbabwe': 758, 'Alger': 759, 'Butare': 760, 'Guarda': 761, 'Ulaanbaatar': 762, 'Havering': 763, 'Para': 764, 'Thurrock': 765, 'Vaduz': 766, 'Rigas': 767, 'Mato Grosso do Sul': 768, 'Pahang': 769, 'Enugu': 770, 'Samara': 771, 'Almaty City': 772, 'Paphos': 773, 'Kocaeli': 774, 'Hyogo': 775, 'Tomsk': 776, 'Banska Bystrica': 777, 'Vas': 778, 'Tottori': 779, 'Neuchatel': 780, 'Solothurn': 781, 'Chongqing': 782, 'Alajuela': 783, 'Swietokrzyskie': 784, 'Littoral': 785, 'Moray': 786, 'Kosice': 787, 'Rivers': 788, 'Obwalden': 789, 'Rabat-Sale-Zemmour-Zaer': 790, 'Barking and Dagenham': 791, 'Atlantico': 792, 'Hedmark': 793, 'Assam': 794, 'Marlborough': 795, 'Samut Prakan': 796, 'Pichincha': 797, 'North Lincolnshire': 798, \"Zaporiz'ka Oblast'\": 799, 'Arbil': 800, 'Sinaloa': 801, 'Heilongjiang': 802, 'Port-of-Spain': 803, 'Kangwon-do': 804, 'Taegu-jikhalsi': 805, 'Henan': 806, 'Puebla': 807, 'Podlaskie': 808, 'West Bank': 809, 'North East Lincolnshire': 810, 'Oyo': 811, 'Guatemala': 812, 'Chihuahua': 813, 'Ustecky kraj': 814, 'New Providence': 815, 'South-East': 816, 'Beja': 817, 'Islington': 818, 'Beau Vallon': 819, 'Burgenland': 820, 'Aberdeenshire': 821, 'Yucatan': 822, 'Camden': 823, 'Rajshahi': 824, 'Lapland': 825, 'Anambra': 826, 'Cundinamarca': 827, 'Lubuskie': 828, 'Saitama': 829, 'Isle of Wight': 830, 'Trencin': 831, 'Ioannina': 832, 'Craigavon': 833, 'Faro': 834, 'Gyor': 835, 'Gavleborgs Lan': 836, 'Hammersmith and Fulham': 837, 'Masqat': 838, 'Gyor-Moson-Sopron': 839, 'Windhoek': 840, 'Guizhou': 841, 'Nitra': 842, 'Phnum Penh': 843, 'Jharkhand': 844, 'NA - Zambia': 845, 'Jihocesky kraj': 846, \"Chernihivs'ka Oblast'\": 847, 'Shiga': 848, 'Pasay': 849, 'Conwy': 850, 'Tameside': 851, 'Kirov': 852, 'Midlothian': 853, 'Moravskoslezsky kraj': 854, 'Miskolc': 855, \"Zhytomyrs'ka Oblast'\": 856, 'Pardubicky kraj': 857, 'Shanxi': 858, 'Permskiy Kray': 859, 'Eskisehir': 860, 'Sharjah': 861, 'Eastern': 862, 'Nagano': 863, 'Ballymena': 864, 'Sandwell': 865, 'South Gloucestershire': 866, 'Volgograd': 867, 'Walsall': 868, 'Ajman': 869, 'Gansu': 870, 'Yangon': 871, 'Liberecky kraj': 872, 'Rostov': 873, 'Veszprem': 874, 'Zeeland': 875, 'Kwangju-jikhalsi': 876, 'Volta': 877, 'Saratov': 878, 'Sulawesi Selatan': 879, \"Ha'il\": 880, 'Wandsworth': 881, 'Johor': 882, 'Kensington and Chelsea': 883, 'San Luis Potosi': 884, 'Marrakech-Tensift-Al Haouz': 885, 'Wigan': 886, 'Yamaguchi': 887, 'Prahova': 888, 'North Region': 889, 'Nagasaki': 890, 'Maritime': 891, 'Usulutan': 892, 'Tochigi': 893, 'Zlinsky kraj': 894, 'Laguna': 895, 'Sarawak': 896, 'Espirito Santo': 897, 'Zilina': 898, 'Ilhas': 899, 'Tabasco': 900, 'South Ayrshire': 901, 'Redcar and Cleveland': 902, 'Ilfov': 903, \"Yaroslavl'\": 904, 'Chelyabinsk': 905, 'Pembrokeshire': 906, 'Karlovarsky kraj': 907, 'Sunderland': 908, 'Guangxi': 909, 'Graubunden': 910, 'Cholla-namdo': 911, 'Kigali': 912, 'Voronezh': 913, 'Sabah': 914, 'Miyagi': 915, 'Akhaia': 916, 'Hidalgo': 917, 'Puntarenas': 918, 'Dakar': 919, 'Maputo': 920, 'Vila Real': 921, 'Viseu': 922, \"Ivano-Frankivs'ka Oblast'\": 923, 'Edo': 924, 'Kedah': 925, 'Jiangxi': 926, 'Yunnan': 927, 'Ebonyi': 928, 'Nord-Trondelag': 929, 'Okinawa': 930, 'Hackney': 931, 'Pecs': 932, 'Chittagong': 933, 'Barisal': 934, 'Maranhao': 935, 'Colima': 936, 'Gotlands Lan': 937, 'Manisa': 938, 'Krasnoyarskiy Kray': 939, 'Gaziantep': 940, 'Denizli': 941, 'Basilicata': 942, 'Blantyre': 943, 'Okayama': 944, 'Neath Port Talbot': 945, 'Constanta': 946, 'Pusan-jikhalsi': 947, 'Michoacan de Ocampo': 948, 'Nei Mongol': 949, 'Xinjiang': 950, 'Taranaki': 951, \"Tver'\": 952, 'Kemerovo': 953, 'Irkutsk': 954, 'Malatya': 955, 'Aguascalientes': 956, 'Tokushima': 957, 'Csongrad': 958, 'Fujairah': 959, 'Kumamoto': 960, 'Dar es Salaam': 961, 'Ogun': 962, 'Heves': 963, 'Szeged': 964, 'Siauliu Apskritis': 965, 'Bekes': 966, 'Viana do Castelo': 967, \"Volyns'ka Oblast'\": 968, 'Morelos': 969, 'Borsod-Abauj-Zemplen': 970, 'Kyongsang-namdo': 971, 'Gifu': 972, 'Armagh': 973, 'Bolton': 974, 'Jamtlands Lan': 975, 'Sumatera Utara': 976, 'Bacs-Kiskun': 977, 'Fejer': 978, 'Bashkortostan': 979, 'Western Area': 980, \"Chernivets'ka Oblast'\": 981, 'Liepaja': 982, 'East Ayrshire': 983, 'Lambeth': 984, 'Azores': 985, 'Yamagata': 986, 'Tocantins': 987, 'Mato Grosso': 988, 'Piaui': 989, 'Antananarivo': 990, 'Komarom-Esztergom': 991, 'Niigata': 992, 'Ashanti': 993, 'Ehime': 994, 'Veracruz-Llave': 995, 'Glarus': 996, 'Bamako': 997, \"Poltavs'ka Oblast'\": 998, 'Olomoucky kraj': 999, 'Santa Cruz': 1000, 'Somogy': 1001, 'West Region': 1002, 'Orebro Lan': 1003, 'West Dunbartonshire': 1004, 'Trnava': 1005, 'Uri': 1006, 'Akwa Ibom': 1007, 'Jasz-Nagykun-Szolnok': 1008, 'Khabarovsk': 1009, \"Zakarpats'ka Oblast'\": 1010, 'Kinshasa': 1011, \"Vinnyts'ka Oblast'\": 1012, 'Gumma': 1013, 'Hiroshima': 1014, 'Kurgan': 1015, 'Kagawa': 1016, 'Szabolcs-Szatmar-Bereg': 1017, 'Tianjin': 1018, \"Rivnens'ka Oblast'\": 1019, 'Vysocina': 1020, 'Qinghai': 1021, 'North-East Region': 1022, 'Iwate': 1023, 'Ningxia': 1024, 'Zala': 1025, 'Tolna': 1026, 'Wakayama': 1027, 'Fukui': 1028, 'Miyazaki': 1029, 'East Region': 1030}\n"
          ],
          "name": "stdout"
        }
      ]
    },
    {
      "cell_type": "code",
      "metadata": {
        "id": "orrwJ1sn9lBM",
        "colab_type": "code",
        "colab": {
          "base_uri": "https://localhost:8080/",
          "height": 55
        },
        "outputId": "08daf127-7933-4d58-88ee-0008cea1188c"
      },
      "source": [
        "# Print some info about our top regions\n",
        "\n",
        "print(regions.most_common())"
      ],
      "execution_count": 5,
      "outputs": [
        {
          "output_type": "stream",
          "text": [
            "[('California', 82659), ('New York', 36883), ('England', 28046), ('Texas', 23375), ('Florida', 19495), ('Ontario', 16690), ('Massachusetts', 15068), ('Illinois', 14298), ('Ile-de-France', 11933), ('Tokyo', 10536), ('Pennsylvania', 10094), ('Maharashtra', 9325), ('Washington', 9143), ('Georgia', 9122), ('Colorado', 8962), ('New Jersey', 8499), ('Virginia', 8101), ('Ohio', 7687), ('Karnataka', 7365), ('Central Region', 7294), ('Bayern', 6972), ('British Columbia', 6936), ('Delhi', 6749), ('Nordrhein-Westfalen', 6718), ('New South Wales', 6622), ('North Carolina', 6548), ('Madrid', 6428), ('Beijing', 6328), ('Michigan', 6109), ('Catalonia', 5836), ('Arizona', 5814), ('Maryland', 5609), ('Quebec', 5582), ('Berlin', 5546), ('Sao Paulo', 5321), ('Minnesota', 5258), ('Tel Aviv', 5091), ('Noord-Holland', 4979), ('Victoria', 4966), (\"Seoul-t'ukpyolsi\", 4846), ('Guangdong', 4784), ('Baden-Wurttemberg', 4579), ('Alberta', 4536), ('Zurich', 4291), ('Stockholms Lan', 4282), ('Tennessee', 4143), ('Shanghai', 4141), ('Wisconsin', 4076), ('Utah', 4027), ('Oregon', 4002), ('Missouri', 3984), ('Connecticut', 3931), ('Dublin', 3826), ('District of Columbia', 3736), ('Indiana', 3621), ('Lombardia', 3422), ('Hovedstaden', 3306), ('Gujarat', 3209), ('Hong Kong Island', 3198), ('Nevada', 3173), ('Zuid-Holland', 3129), ('Dubai', 3099), ('Moscow City', 3053), ('NA - South Africa', 3038), ('Southern Finland', 3032), ('Istanbul', 2996), ('Haryana', 2996), ('Uttar Pradesh', 2983), ('Jakarta Raya', 2917), ('Tamil Nadu', 2892), ('Andhra Pradesh', 2854), ('Hessen', 2805), ('HaMerkaz', 2438), ('Rhone-Alpes', 2409), ('South Carolina', 2361), ('Hamburg', 2335), ('Distrito Federal', 2313), ('NA - Vietnam', 2271), ('Zhejiang', 2205), ('Queensland', 2187), ('Kentucky', 2026), ('Kyyiv', 1991), ('Hlavni mesto Praha', 1962), ('Auckland', 1920), ('Manchester', 1908), ('Niedersachsen', 1865), ('Lisboa', 1817), ('Louisiana', 1813), ('Mazowieckie', 1804), ('Noord-Brabant', 1798), ('Alabama', 1770), ('Kansas', 1739), ('Comunidad Valenciana', 1734), ('Delaware', 1729), ('Jiangsu', 1718), ('Andalucia', 1655), ('Oklahoma', 1640), ('Surrey', 1525), ('Dhaka', 1504), (\"Provence-Alpes-Cote d'Azur\", 1498), ('Oslo', 1470), ('Punjab', 1467), ('Edinburgh, City of', 1457), ('Utrecht', 1450), ('Western Australia', 1448), ('Iowa', 1431), ('Vastra Gotaland', 1407), ('New Hampshire', 1390), ('Sachsen', 1371), ('Budapest', 1369), ('Lagos', 1366), ('West Bengal', 1348), ('Kyonggi-do', 1334), ('Kerala', 1320), ('Vaud', 1310), ('Rajasthan', 1304), ('Brussels Hoofdstedelijk Gewest', 1279), ('Skane Lan', 1275), ('Kuala Lumpur', 1271), ('Birmingham', 1259), ('Bern', 1257), ('Wien', 1248), ('Nebraska', 1231), ('Oxfordshire', 1224), ('Emilia-Romagna', 1222), ('Glasgow City', 1212), ('Lazio', 1198), ('Cambridgeshire', 1178), ('Kent', 1176), ('Selangor', 1171), ('Rheinland-Pfalz', 1171), (\"T'ai-pei\", 1170), ('Midtjylland', 1167), ('Veneto', 1164), ('Gelderland', 1153), ('Hampshire', 1140), ('Geneve', 1131), ('Region Metropolitana', 1128), ('Antwerpen', 1126), ('Kowloon', 1105), ('Bristol, City of', 1099), ('Western Finland', 1083), ('Harjumaa', 1072), ('Aargau', 1059), ('Arkansas', 1051), ('Minas Gerais', 1045), ('Rio de Janeiro', 1031), ('Osaka', 1015), ('Zug', 994), ('Pays de la Loire', 987), ('Idaho', 983), ('Bucuresti', 979), ('Bratislava', 977), ('Pais Vasco', 972), ('Leeds', 944), ('Attiki', 941), ('Rio Grande do Sul', 930), ('Essex', 929), ('Maine', 913), ('Piemonte', 911), ('Hertford', 909), ('Al Qahirah', 891), ('Nairobi Area', 868), ('Midi-Pyrenees', 866), ('Krung Thep', 863), ('Oost-Vlaanderen', 862), ('Nord-Pas-de-Calais', 846), ('New Mexico', 843), ('Syddanmark', 831), ('Limburg', 828), ('Lancashire', 828), ('Rhode Island', 824), ('Aquitaine', 816), ('Grad Sofiya', 790), ('Fujian', 783), ('Hefa', 782), ('Nova Scotia', 769), ('Schleswig-Holstein', 759), ('Madhya Pradesh', 750), ('Cheshire', 743), ('Buckinghamshire', 737), ('Hawaii', 724), (\"T'ai-wan\", 717), ('Kanagawa', 717), ('Bretagne', 710), ('Overijssel', 701), ('East Sussex', 695), ('Parana', 694), ('West Sussex', 676), ('Vlaams-Brabant', 662), ('Santa Catarina', 659), ('Yerushalayim', 658), ('Jihomoravsky kraj', 652), ('Languedoc-Roussillon', 646), ('Toscana', 635), ('Manila', 631), ('Distrito Especial', 628), ('Galicia', 622), ('Manitoba', 621), ('South Australia', 616), ('Luxembourg', 612), ('HaZafon', 612), ('Basel-Stadt', 611), ('Vilniaus Apskritis', 595), ('Nottingham', 591), ('Sichuan', 589), ('Malopolskie', 587), ('Gloucestershire', 585), ('Jawa Barat', 581), ('Thuringen', 570), ('Sankt Gallen', 565), ('Vermont', 563), ('Montana', 552), ('Sindh', 550), ('Luzern', 547), ('Saint Petersburg City', 543), ('Norfolk', 540), ('Shandong', 537), ('Centre', 535), ('Wellington', 523), ('York', 521), ('Riga', 520), ('Sheffield', 517), ('Belfast', 517), ('Mississippi', 515), ('New Territories', 512), ('Cardiff', 510), (\"Kyyivs'ka Oblast'\", 508), ('Newcastle upon Tyne', 501), ('Alsace', 494), ('Liverpool', 487), ('Wiltshire', 486), ('Warwickshire', 474), ('Amman', 469), ('Brandenburg', 468), (\"Kharkivs'ka Oblast'\", 467), ('Castilla y Leon', 456), ('Reading', 455), ('Hubei', 441), ('Bedfordshire', 441), ('Gullbringusysla', 441), ('Wyoming', 441), ('Devon', 435), ('Aragon', 435), ('Wielkopolskie', 425), ('Worcestershire', 424), ('Moravskoslezsky kraj', 421), ('Chandigarh', 420), ('Dolnoslaskie', 418), ('Anhui', 415), ('Nordjylland', 411), (\"L'vivs'ka Oblast'\", 410), (\"Dnipropetrovs'ka Oblast'\", 408), ('Ar Riyad', 407), ('West-Vlaanderen', 404), ('Northamptonshire', 398), ('Slaskie', 398), ('Aberdeen City', 392), ('Staffordshire', 391), ('North Dakota', 387), ('Sachsen-Anhalt', 386), ('Saskatchewan', 385), ('Aichi', 383), ('Uppsala Lan', 381), ('Ankara', 381), ('Ticino', 380), ('Asturias', 370), ('Liege', 370), ('South Dakota', 370), ('Canarias', 369), ('Lima', 369), ('Vojvodina', 366), ('Pomorskie', 362), ('Campania', 361), ('Mecklenburg-Vorpommern', 360), ('Abu Dhabi', 356), ('Hunan', 354), ('Milton Keynes', 354), ('Nottinghamshire', 351), ('Oulu', 351), ('Akershus', 348), ('Somerset', 347), ('Dorset', 346), ('Groningen', 346), ('HaDarom', 345), ('Suffolk', 342), ('Grad Zagreb', 342), ('Lorraine', 338), ('Canterbury', 336), ('Ostergotlands Lan', 331), ('North Yorkshire', 331), ('Bourgogne', 330), ('Fukuoka', 330), ('Leicester', 329), ('Leicestershire', 322), ('New Brunswick', 317), ('NA - Malta', 315), ('Cork', 314), ('West Virginia', 310), ('Kampala', 309), ('Sjelland', 308), ('Bagmati', 308), ('Murcia', 308), ('Oberosterreich', 306), ('Bahia', 306), ('Liaoning', 305), ('Rogaland', 305), ('Bremen', 302), ('Bath and North East Somerset', 298), ('Derbyshire', 298), ('Castilla-La Mancha', 297), ('Islas Baleares', 296), ('Picardie', 296), ('Haute-Normandie', 296), ('Southampton', 295), ('Coventry', 295), ('Brabant Wallon', 295), ('Goias', 295), ('Hainaut', 291), ('Lincolnshire', 291), ('Tehran', 291), ('Saarland', 290), ('Cumbria', 289), ('Rizal', 289), ('Stredocesky kraj', 284), ('Western', 283), ('Steiermark', 282), ('Greater Accra', 281), ('Porto', 280), ('Windsor and Maidenhead', 278), ('Basel-Landschaft', 277), ('Nuevo Leon', 277), ('Chiba', 276), ('Friuli-Venezia Giulia', 275), ('Ljubljana Urban Commune', 274), ('Durham', 273), ('Flevoland', 272), ('Beyrouth', 271), ('Nicosia', 268), ('Stockport', 266), ('Orissa', 266), ('Friesland', 265), (\"Odes'ka Oblast'\", 264), ('Hokkaido', 263), ('Islamabad', 259), ('Thurgau', 259), ('Alaska', 257), ('Kyoto', 257), ('Cornwall', 256), ('Hebei', 254), ('Valais', 251), ('Hordaland', 250), ('Schwyz', 247), ('Basse-Normandie', 247), ('Fribourg', 247), ('West Berkshire', 244), ('Cluj', 243), ('Jawa Timur', 242), ('Ad Dawhah', 239), ('Jalisco', 237), ('Liguria', 237), ('Poitou-Charentes', 233), ('Marche', 230), ('Minsk', 229), ('Limassol', 227), ('Makkah', 227), ('Sicilia', 226), ('Navarra', 225), ('Herefordshire', 225), ('Neuchatel', 224), ('Zlinsky kraj', 224), ('Auvergne', 223), ('Jilin', 222), ('Henan', 221), ('Sor-Trondelag', 220), ('Rio Grande do Norte', 219), ('Franche-Comte', 218), ('Champagne-Ardenne', 218), ('Newfoundland', 214), ('NA - Uruguay', 213), ('Trentino-Alto Adige', 213), ('Puglia', 211), ('Bournemouth', 211), ('Derby', 210), ('Australian Capital Territory', 210), ('Niederosterreich', 209), ('Galway', 209), ('Pest', 209), ('Braga', 203), ('Shaanxi', 203), ('Izmir', 197), ('Hallands Lan', 195), ('Solothurn', 192), ('Cheshire East', 188), ('Grand Casablanca', 188), ('Antioquia', 188), ('Federal Capital Territory', 187), ('Shropshire', 186), ('Peterborough', 184), ('Kralovehradecky kraj', 184), ('Graubunden', 184), ('Warrington', 182), ('Eastern Finland', 181), ('NA - Puerto Rico', 181), ('Zilina', 180), ('Pardubicky kraj', 179), ('Buenos Aires', 176), ('Dalarnas Lan', 175), ('Vasterbottens Lan', 173), ('Kirklees', 172), ('Taejon-jikhalsi', 172), ('Saitama', 172), ('Prince Edward Island', 171), ('Limousin', 170), (\"Inch'on-jikhalsi\", 166), ('Gavleborgs Lan', 165), ('Croydon', 163), ('West Region', 162), ('Richmond upon Thames', 161), ('Stoke-on-Trent', 161), ('Al Kuwayt', 161), ('Lodzkie', 161), ('Aveiro', 161), ('Mato Grosso do Sul', 161), ('Pulau Pinang', 160), ('Yangon', 160), ('Umbria', 158), ('Vastmanlands Lan', 157), ('Al Jizah', 157), ('Novosibirsk', 157), (\"Sums'ka Oblast'\", 156), ('Banska Bystrica', 156), ('Hamilton', 155), ('Tasmania', 155), ('Goa', 154), ('Plzensky kraj', 154), ('Bihar', 154), ('Olomoucky kraj', 154), ('Jonkopings Lan', 152), ('Quezon City', 151), ('Jihocesky kraj', 149), ('Tunis', 148), ('San Jose', 148), ('Dundee City', 147), ('Bradford', 146), ('Drenthe', 145), ('Panama', 145), ('Sharjah', 145), ('Vasternorrlands Lan', 143), ('Namur', 143), ('Kingston upon Hull, City of', 142), ('Kosice', 142), ('Hillingdon', 141), ('Shizuoka', 139), ('Midland', 138), ('Sardegna', 138), ('Sodermanlands Lan', 136), ('Hyogo', 133), ('Chongqing', 133), ('La Rioja', 132), ('St. Helens', 132), (\"Ch'ungch'ong-namdo\", 132), ('Leiria', 131), ('Schaffhausen', 131), ('Bracknell Forest', 131), ('Wolverhampton', 131), ('Heilongjiang', 131), ('Johor', 131), ('Thessaloniki', 130), ('Rotherham', 130), ('Ustecky kraj', 130), ('North-East Region', 130), ('Tatarstan', 129), ('Wokingham', 128), ('Hounslow', 127), ('Swansea', 127), ('Fife', 127), ('Extremadura', 127), ('Saint Patrick', 126), ('Waikato', 126), ('West Lothian', 126), ('Solihull', 126), ('Yerevan', 124), ('Abruzzi', 123), ('Jiangxi', 123), ('Kingston upon Thames', 122), ('Gibraltar', 122), ('Cantabria', 122), ('Liberecky kraj', 122), ('Uttarakhand', 121), ('NA - Venezuela', 120), ('Wakefield', 120), ('Kauno Apskritis', 120), ('South Lanarkshire', 119), ('Al Manamah', 119), ('Jharkhand', 119), ('Trencin', 118), ('Norrbottens Lan', 117), ('Chhattisgarh', 117), ('Northumberland', 116), ('Ash Sharqiyah', 115), ('Doncaster', 115), ('Pusan-jikhalsi', 115), ('Limerick', 114), ('Kronobergs Lan', 114), ('Harrow', 113), ('Zachodniopomorskie', 113), ('Cordoba', 112), ('Sverdlovsk', 112), ('Isabela', 111), ('Varmlands Lan', 111), ('Vysocina', 110), ('Nitra', 109), ('Yamanashi', 108), ('Salzburg', 108), ('Kalmar Lan', 108), ('Vestfold', 108), ('Tartumaa', 107), ('Yogyakarta', 107), ('Ausser-Rhoden', 107), ('Coimbra', 107), ('NA - Zimbabwe', 107), ('Highland', 106), ('Baki', 105), ('Presov', 104), ('Assam', 104), ('Gateshead', 103), ('Phnum Penh', 103), ('Kujawsko-Pomorskie', 102), ('Zeeland', 102), ('North Region', 102), (\"Dushet'is Raioni\", 101), ('Tirol', 100), ('Timis', 99), ('Plymouth', 99), ('Bali', 99), ('Newport', 98), ('Dudley', 98), ('Calabria', 97), ('Brighton and Hove', 96), ('Ostfold', 95), ('Amazonas', 95), ('North Lanarkshire', 94), ('NA - Zambia', 94), ('Kyongsang-bukto', 93), ('Tianjin', 93), ('Al Iskandariyah', 92), ('More og Romsdal', 92), ('Telford and Wrekin', 92), ('Cebu City', 92), ('Okinawa', 92), ('Nagano', 91), ('Dar es Salaam', 91), ('Hiroshima', 91), ('Middlesbrough', 90), ('Piaui', 89), ('Canakkale', 88), ('NA - Isle of Man', 88), ('Buskerud', 88), ('Bolton', 88), ('Bromley', 87), ('Lagunes', 87), ('NA - Jersey', 87), ('Mato Grosso', 87), ('Niigata', 87), ('Miyagi', 86), ('Inner-Rhoden', 85), ('Pichincha', 85), ('Wirral', 84), ('Podkarpackie', 84), ('Hainan', 83), ('Trnava', 83), ('Otago', 82), ('Monmouthshire', 81), ('Shanxi', 81), ('Stirling', 80), ('Oldham', 80), ('Moskva', 79), ('Adis Abeba', 79), ('Westminster', 79), ('Jura', 79), ('Gisborne', 79), ('Aberdeenshire', 78), ('Wigan', 78), ('Butare', 77), ('Kildare', 76), ('Chisinau', 76), ('Obwalden', 76), ('Fukushima', 75), ('Setubal', 75), ('Argyll and Bute', 75), ('Wicklow', 75), ('East Region', 75), ('Krasnodar', 74), ('Orebro Lan', 74), ('Jawa Tengah', 73), (\"Hawke's Bay\", 72), ('Blekinge Lan', 72), ('Calderdale', 72), ('Podlaskie', 72), ('Blackpool', 71), ('Himachal Pradesh', 71), ('Dakar', 71), ('Yunnan', 71), ('East Riding of Yorkshire', 70), ('Louth', 69), ('Cavite', 69), ('Vest-Agder', 69), ('Perth and Kinross', 69), ('Taegu-jikhalsi', 69), ('Rostov', 69), (\"Vinnyts'ka Oblast'\", 69), ('Karnten', 68), ('Southend-on-Sea', 68), ('Guanajuato', 66), ('Central', 66), ('Rivers', 66), ('Walsall', 66), ('Iasi', 65), ('Gansu', 65), ('Espirito Santo', 65), ('Federation of Bosnia and Herzegovina', 64), ('Stockton-on-Tees', 64), ('Lubelskie', 64), ('Jammu and Kashmir', 64), ('Phuket', 63), ('Wrexham', 63), ('Oyo', 63), ('Waterford', 62), ('Vorarlberg', 62), ('Caerphilly', 62), ('Pernambuco', 62), ('Nizhegorod', 62), ('Flintshire', 62), ('Saint George', 62), (\"Tyumen'\", 61), ('Santa Fe', 61), ('Plaines Wilhems', 61), ('Mexico', 61), ('Negeri Sembilan', 61), ('Nidwalden', 61), ('Guayas', 60), ('Karpos', 59), ('Bursa', 59), ('Troms', 59), ('Ibaraki', 59), ('Valle del Cauca', 59), ('Chelyabinsk', 59), ('Guangxi', 59), ('NA - Guernsey', 58), ('Szeged', 58), ('Paraiba', 57), ('Debrecen', 57), ('Renfrewshire', 57), ('Barnet', 57), ('Kocaeli', 57), ('North Somerset', 56), ('Scottish Borders, The', 56), ('Antalya', 56), ('Puebla', 56), ('Guatemala', 56), ('Tirane', 55), ('Nordland', 55), ('Bridgend', 55), (\"Cherkas'ka Oblast'\", 55), ('Xinjiang', 55), ('Clare', 54), ('Saint Andrew', 54), ('Kerry', 54), ('Alagoas', 54), ('Enfield', 53), ('Samara', 53), ('Littoral', 53), ('Cundinamarca', 53), ('Masqat', 53), ('Halton', 52), ('Baghdad', 52), (\"Zaporiz'ka Oblast'\", 52), ('Faro', 52), ('Guizhou', 52), ('Okayama', 52), ('Gifu', 52), ('Bacs-Kiskun', 52), ('Glarus', 52), ('Distrito Nacional', 51), ('Toyama', 51), ('Carmarthenshire', 51), ('North Tyneside', 51), ('Ishikawa', 51), ('Swietokrzyskie', 51), ('Hackney', 51), ('Jamtlands Lan', 51), ('Fejer', 51), (\"Poltavs'ka Oblast'\", 51), ('Newry and Mourne', 50), ('Rondonia', 50), ('Omsk', 50), ('Varna', 50), ('Marrakech-Tensift-Al Haouz', 50), ('Viseu', 50), ('Bohinj Commune', 49), ('Belize', 49), ('Queretaro de Arteaga', 49), ('Isle of Wight', 49), ('Opolskie', 48), ('Telemark', 48), ('Almaty City', 48), ('Permskiy Kray', 48), ('Bashkortostan', 48), ('Rhondda Cynon Taff', 47), ('Larnaca', 47), ('Brasov', 47), ('Sonora', 47), ('Quintana Roo', 46), ('Brent', 46), ('Santarem', 46), ('Ras Al Khaimah', 46), ('Havering', 46), ('Sarawak', 46), ('Karlovarsky kraj', 46), ('Ebonyi', 46), ('Donegal', 45), ('East Lothian', 45), ('Cagayan', 45), ('Ealing', 45), ('Warminsko-Mazurskie', 45), ('Gyor', 45), ('Coahuila de Zaragoza', 44), (\"Donets'ka Oblast'\", 44), ('Perak', 44), ('Ilfov', 44), ('Kumamoto', 44), ('Sumatera Utara', 44), ('Madeira', 43), ('Splitsko-Dalmatinska', 43), ('Baja California', 43), ('Alger', 43), ('Alajuela', 43), ('Hedmark', 43), ('Kyongsang-namdo', 43), ('Port Louis', 42), ('Oppland', 42), ('Davao City', 42), ('Meath', 42), ('Arbil', 42), ('South Ayrshire', 42), ('Taranaki', 42), ('Ulaanbaatar', 41), ('Rochdale', 40), ('North-West Frontier', 40), ('Oita', 40), ('Vale of Glamorgan, The', 40), ('Kagoshima', 40), ('Krasnoyarskiy Kray', 40), ('Gumma', 40), ('Kilkenny', 39), ('Falkirk', 39), ('Aust-Agder', 39), ('Maribor Commune', 39), ('Coast', 39), ('North Lincolnshire', 39), ('Lubuskie', 39), ('Shiga', 39), (\"Zhytomyrs'ka Oblast'\", 39), ('Ajman', 39), ('Tochigi', 39), ('Isle of Anglesey', 38), ('Chiang Mai', 38), ('Sutton', 38), ('Chihuahua', 38), ('Denbighshire', 37), ('Plovdiv', 37), ('Mendoza', 37), ('Derry', 37), (\"Primor'ye\", 37), ('Sogn og Fjordane', 37), ('Kangwon-do', 37), ('North East Lincolnshire', 37), ('New Providence', 37), ('Beau Vallon', 37), ('Irkutsk', 37), ('Tocantins', 37), ('Zacatecas', 36), ('Nelson', 36), ('Tipperary', 36), ('Redbridge', 36), ('South-East', 36), ('Veszprem', 36), ('Sefton', 35), ('Westmeath', 35), ('Mie', 35), ('Corse', 35), ('Antrim', 35), ('Para', 35), ('Vaduz', 35), ('Rabat-Sale-Zemmour-Zaer', 35), ('Lapland', 35), ('Cholla-namdo', 35), ('Siauliu Apskritis', 35), ('Iraklion', 34), ('Ceara', 34), ('Arusha', 34), ('Midlothian', 34), ('Volgograd', 34), ('Usulutan', 34), ('Sabah', 34), ('Sibiu', 33), ('Bihor', 33), (\"Ternopil's'ka Oblast'\", 33), ('Bay of Plenty', 33), ('Tomsk', 33), ('Yamaguchi', 33), ('Nei Mongol', 33), ('Cheju-do', 32), ('Dumfries and Galloway', 32), ('Oaxaca', 32), ('Valparaiso', 32), ('Powys', 32), ('Sandwell', 32), ('Basilicata', 32), ('Komarom-Esztergom', 32), ('Sligo', 31), ('Acre', 31), ('San Luis Potosi', 31), ('Pecs', 31), ('Chittagong', 31), (\"Chernivets'ka Oblast'\", 31), ('Bamako', 31), ('Mures', 30), ('Mayo', 30), ('Chon Buri', 30), ('Northern Territory', 30), ('Torbay', 30), ('Melaka', 30), ('Paphos', 30), ('Kwangju-jikhalsi', 30), ('Kinshasa', 30), ('Szabolcs-Szatmar-Bereg', 30), ('Merton', 29), ('Castelo Branco', 29), ('Thurrock', 29), ('West Bank', 29), ('Craigavon', 29), ('Voronezh', 29), ('Fukui', 29), ('Cholla-bukto', 28), ('Carlow', 28), (\"Khmel'nyts'ka Oblast'\", 28), ('Angus', 28), (\"Ch'ungch'ong-bukto\", 28), ('Wexford', 28), ('Licko-Senjska', 28), ('Nonthaburi', 28), ('Samut Prakan', 28), ('Gyor-Moson-Sopron', 28), ('Conwy', 28), (\"Yaroslavl'\", 28), ('Sunderland', 28), ('Maputo', 28), ('Miyazaki', 28), ('Dolj', 27), (\"Khersons'ka Oblast'\", 27), ('Yucatan', 27), ('Tameside', 27), ('Gotlands Lan', 27), ('Kabol', 26), ('North Ayrshire', 26), ('Chiapas', 26), ('Barnsley', 26), ('Rutland', 26), ('Klaipedos Apskritis', 26), ('Krym', 26), ('Mont-Liban', 26), ('Luanda', 26), ('Medway', 26), ('Atlantico', 26), ('Windhoek', 26), ('South Gloucestershire', 26), ('Tabasco', 26), ('Maranhao', 26), ('Colima', 26), ('Tokushima', 26), ('Jasz-Nagykun-Szolnok', 26), ('Kagawa', 26), ('Cavan', 25), ('Cheshire West and Chester', 25), ('Khulna', 25), ('Lisburn', 25), ('Guarda', 25), ('Rajshahi', 25), ('Ioannina', 25), ('Miskolc', 25), ('Akhaia', 25), ('Constanta', 25), (\"Rivnens'ka Oblast'\", 25), ('Saint Michael', 24), ('Sergipe', 24), ('Hartlepool', 24), ('Bexley', 24), ('Rigas', 24), ('Enugu', 24), ('Moray', 24), (\"Ha'il\", 24), ('Prahova', 24), ('Iwate', 24), ('Puducherry', 23), ('Durango', 23), ('Kaliningrad', 23), ('Newtownabbey', 23), ('Vas', 23), ('Islington', 23), ('Hammersmith and Fulham', 23), ('Eskisehir', 23), ('Redcar and Cleveland', 23), ('Nord-Trondelag', 23), ('Manisa', 23), ('Ceredigion', 22), ('South Tyneside', 22), ('Astana', 22), ('San Salvador', 22), ('Tottori', 22), ('Borsod-Abauj-Zemplen', 22), ('Kayseri', 21), ('Evora', 21), ('Down', 21), ('Burgenland', 21), ('Pembrokeshire', 21), (\"Ivano-Frankivs'ka Oblast'\", 21), ('Heves', 21), ('Antananarivo', 21), ('Tolna', 21), ('Brezovica Commune', 20), ('Osjecko-Baranjska', 20), ('Coleraine', 20), ('Burgas', 20), ('Barking and Dagenham', 20), ('Sinaloa', 20), (\"Chernihivs'ka Oblast'\", 20), ('Volta', 20), ('Blantyre', 20), ('Michoacan de Ocampo', 20), ('Bekes', 20), (\"Volyns'ka Oblast'\", 20), ('Morelos', 20), ('East Ayrshire', 20), ('Yamagata', 20), ('Ashanti', 20), ('Udmurt', 19), ('Bishkek', 19), ('Greenwich', 19), ('Xizang', 19), ('Marlborough', 19), ('Anambra', 19), ('Edo', 19), ('Neath Port Talbot', 19), ('Kemerovo', 19), ('Santa Cruz', 19), ('Somogy', 19), (\"Kirovohrads'ka Oblast'\", 18), ('Zagrebacka', 18), ('Gwynedd', 18), ('Konya', 18), ('Misiones', 18), ('Evvoia', 18), (\"Ul'yanovsk\", 18), (\"Sevastopol'\", 18), ('Sud-Ouest', 18), ('Mugla', 18), ('Saratov', 18), ('Puntarenas', 18), ('Vila Real', 18), ('Kedah', 18), ('Malatya', 18), ('Fujairah', 18), ('Ogun', 18), ('Viana do Castelo', 18), ('Armagh', 18), ('Veracruz-Llave', 18), ('West Dunbartonshire', 18), ('Khabarovsk', 18), ('Ningxia', 18), ('Souss-Massa-Dr,a', 17), ('Khorasan', 17), ('Offaly', 17), ('Maale', 17), ('Beja', 17), ('Pasay', 17), ('Ballymena', 17), ('Maritime', 17), ('Ilhas', 17), ('Barisal', 17), ('Csongrad', 17), ('Kurgan', 17), ('Maramures', 16), ('Inverclyde', 16), ('Knowsley', 16), ('NA - Uzbekistan', 16), ('Molise', 16), ('Istarska', 16), ('Dungannon', 16), ('Pahang', 16), ('Port-of-Spain', 16), ('Camden', 16), ('Kirov', 16), ('Laguna', 16), ('Gaziantep', 16), ('Denizli', 16), ('Aguascalientes', 16), ('Western Area', 16), ('Azores', 16), ('Ehime', 16), ('Qinghai', 16), ('Aland', 15), ('Grevenmacher', 15), ('Omagh', 15), ('Rayong', 15), ('Eastern', 15), ('Sulawesi Selatan', 15), ('Wandsworth', 15), ('Kensington and Chelsea', 15), ('Nagasaki', 15), ('Kigali', 15), ('Hidalgo', 15), (\"Tver'\", 15), ('Liepaja', 15), ('Lambeth', 15), ('Uri', 15), ('Akwa Ibom', 15), (\"Zakarpats'ka Oblast'\", 15), ('Zala', 15), ('Wakayama', 15)]\n"
          ],
          "name": "stdout"
        }
      ]
    },
    {
      "cell_type": "code",
      "metadata": {
        "id": "g5YFUsxk8Z3T",
        "colab_type": "code",
        "colab": {
          "base_uri": "https://localhost:8080/",
          "height": 54
        },
        "outputId": "b1189b16-8ee8-4df5-cf84-435c4155917f"
      },
      "source": [
        "from scipy.sparse import coo_matrix\n",
        "import collections\n",
        "\n",
        "# Load our filtered region dictionary if we've saved it on disk.\n",
        "\n",
        "row_indices = []\n",
        "col_indices = []\n",
        "data_values = []\n",
        "\n",
        "iter = 0\n",
        "test_stop = -1\n",
        "total_rows = np.shape(org_info_selected)[0]\n",
        "print(\"Processing \", total_rows, \" rows.\")\n",
        "for (i, row) in org_info_selected.iterrows():\n",
        "  value = row['region']\n",
        "  if value in regions:\n",
        "    hash = cityhash.CityHash64(row['uuid'])\n",
        "\n",
        "    row_indices.append(i)\n",
        "    col_indices.append(0)\n",
        "    data_values.append(hash)\n",
        "\n",
        "    row_indices.append(i)\n",
        "    col_indices.append(region_to_index[value])\n",
        "    data_values.append(1)\n",
        "\n",
        "unclustered = coo_matrix((data_values, (row_indices, col_indices)))\n",
        "print(unclustered.toarray().shape)"
      ],
      "execution_count": 6,
      "outputs": [
        {
          "output_type": "stream",
          "text": [
            "Processing  842699  rows.\n",
            "(842699, 1031)\n"
          ],
          "name": "stdout"
        }
      ]
    },
    {
      "cell_type": "code",
      "metadata": {
        "id": "KJMWPc-d8oui",
        "colab_type": "code",
        "colab": {
          "base_uri": "https://localhost:8080/",
          "height": 54
        },
        "outputId": "8c927264-629f-46b5-812b-7179fc250928"
      },
      "source": [
        "import scipy.sparse\n",
        "\n",
        "companies = org_info_selected['uuid']\n",
        "\n",
        "lookup_index = []\n",
        "lookup_value = []\n",
        "\n",
        "used_hashes = set()\n",
        "\n",
        "row_indices = []\n",
        "col_indices = []\n",
        "data_values = []\n",
        "for (i, row) in companies.iteritems():\n",
        "  uuid = row\n",
        "  hash = cityhash.CityHash64(uuid)\n",
        "\n",
        "  if hash in used_hashes:  # Hash collision!\n",
        "    print(hash)\n",
        "    continue          # which shouldn't really happen\n",
        "  used_hashes.add(hash)\n",
        "\n",
        "  lookup_value.append(uuid)\n",
        "  lookup_index.append(hash)\n",
        "\n",
        "  row_indices.append(i)\n",
        "  col_indices.append(0)\n",
        "  data_values.append(hash)\n",
        "\n",
        "hashed_uuids = coo_matrix((data_values, (row_indices, col_indices)))\n",
        "print(np.shape(unclustered))\n",
        "print(np.shape(hashed_uuids))\n",
        "joined = scipy.sparse.hstack([hashed_uuids, unclustered])\n",
        "  \n",
        "## Generate company lookup\n",
        "lookup = pd.DataFrame.from_dict({'uuid':lookup_index, 'hash':data_values})\n",
        "lookup.to_csv('/lookup.csv')\n",
        "\n",
        "# category_features = pd.DataFrame.sparse.from_spmatrix(joined)\n",
        "# category_features.to_pickle('/region_features.pkl')\n",
        "\n",
        "scipy.sparse.save_npz('/region_features.npz', joined)\n"
      ],
      "execution_count": 17,
      "outputs": [
        {
          "output_type": "stream",
          "text": [
            "(842699, 1031)\n",
            "(842699, 1)\n"
          ],
          "name": "stdout"
        }
      ]
    },
    {
      "cell_type": "code",
      "metadata": {
        "id": "BVwC_DgmYWnZ",
        "colab_type": "code",
        "colab": {
          "base_uri": "https://localhost:8080/",
          "height": 959
        },
        "outputId": "21d33d8b-04a0-4c2d-c50b-5c4c0c113cd1"
      },
      "source": [
        "print(joined)"
      ],
      "execution_count": 16,
      "outputs": [
        {
          "output_type": "stream",
          "text": [
            "  (0, 0)\t1.3685534557686295e+19\n",
            "  (1, 0)\t7.640156219293676e+17\n",
            "  (2, 0)\t1.0846552445983457e+19\n",
            "  (3, 0)\t5.087506707876194e+18\n",
            "  (4, 0)\t9.094535307341386e+18\n",
            "  (5, 0)\t1.7418110891307706e+19\n",
            "  (6, 0)\t7.773244737896805e+18\n",
            "  (7, 0)\t1.5263381640365195e+19\n",
            "  (8, 0)\t2.7762472306795356e+18\n",
            "  (9, 0)\t1.7179139454557108e+19\n",
            "  (10, 0)\t3.143841549007344e+18\n",
            "  (11, 0)\t1.0303043534068977e+18\n",
            "  (12, 0)\t2.4974301446054984e+18\n",
            "  (13, 0)\t5.507971386325512e+18\n",
            "  (14, 0)\t2.8624645959363738e+17\n",
            "  (15, 0)\t1.22265356693808e+19\n",
            "  (16, 0)\t1.1228059662374996e+19\n",
            "  (17, 0)\t1.1671402361252221e+18\n",
            "  (18, 0)\t5.369011697229158e+18\n",
            "  (19, 0)\t1.4750419745579184e+19\n",
            "  (20, 0)\t6.888766334922708e+18\n",
            "  (21, 0)\t1.106971057344432e+19\n",
            "  (22, 0)\t1.615128531752331e+19\n",
            "  (23, 0)\t8.997274164534324e+17\n",
            "  (24, 0)\t1.569457398809743e+19\n",
            "  :\t:\n",
            "  (842674, 9)\t1.0\n",
            "  (842675, 3)\t1.0\n",
            "  (842676, 17)\t1.0\n",
            "  (842677, 15)\t1.0\n",
            "  (842678, 26)\t1.0\n",
            "  (842679, 72)\t1.0\n",
            "  (842680, 10)\t1.0\n",
            "  (842681, 36)\t1.0\n",
            "  (842682, 23)\t1.0\n",
            "  (842683, 10)\t1.0\n",
            "  (842684, 23)\t1.0\n",
            "  (842685, 12)\t1.0\n",
            "  (842686, 359)\t1.0\n",
            "  (842687, 2)\t1.0\n",
            "  (842688, 9)\t1.0\n",
            "  (842689, 9)\t1.0\n",
            "  (842690, 23)\t1.0\n",
            "  (842691, 15)\t1.0\n",
            "  (842692, 41)\t1.0\n",
            "  (842693, 53)\t1.0\n",
            "  (842694, 157)\t1.0\n",
            "  (842695, 2)\t1.0\n",
            "  (842696, 88)\t1.0\n",
            "  (842697, 39)\t1.0\n",
            "  (842698, 1)\t1.0\n"
          ],
          "name": "stdout"
        }
      ]
    },
    {
      "cell_type": "code",
      "metadata": {
        "id": "8KOwulj9mFrl",
        "colab_type": "code",
        "colab": {}
      },
      "source": [
        ""
      ],
      "execution_count": null,
      "outputs": []
    }
  ]
}