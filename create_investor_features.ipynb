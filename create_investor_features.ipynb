{
  "nbformat": 4,
  "nbformat_minor": 0,
  "metadata": {
    "kernelspec": {
      "display_name": "Python 3",
      "language": "python",
      "name": "python3"
    },
    "language_info": {
      "codemirror_mode": {
        "name": "ipython",
        "version": 3
      },
      "file_extension": ".py",
      "mimetype": "text/x-python",
      "name": "python",
      "nbconvert_exporter": "python",
      "pygments_lexer": "ipython3",
      "version": "3.7.3"
    },
    "colab": {
      "name": "eda.ipynb",
      "provenance": [],
      "toc_visible": true
    }
  },
  "cells": [
    {
      "cell_type": "code",
      "metadata": {
        "id": "eBNuWj1E19wF",
        "colab_type": "code",
        "colab": {
          "base_uri": "https://localhost:8080/",
          "height": 141
        },
        "outputId": "03f7c2b0-feeb-40b1-95fc-2f9fe1356b47"
      },
      "source": [
        "!pip3 install arrow\n",
        "\n",
        "import os\n",
        "import arrow\n",
        "import datetime\n",
        "import numpy as np\n",
        "import pandas as pd\n",
        "import matplotlib.pyplot as plt\n",
        "\n",
        "from copy import deepcopy"
      ],
      "execution_count": 1,
      "outputs": [
        {
          "output_type": "stream",
          "text": [
            "Collecting arrow\n",
            "\u001b[?25l  Downloading https://files.pythonhosted.org/packages/40/2a/9dd6a391e7813b9908b4dcaec7df0f2d365cfc0f071799f2ae5147707923/arrow-0.15.8-py2.py3-none-any.whl (49kB)\n",
            "\r\u001b[K     |██████▋                         | 10kB 14.6MB/s eta 0:00:01\r\u001b[K     |█████████████▏                  | 20kB 1.8MB/s eta 0:00:01\r\u001b[K     |███████████████████▉            | 30kB 2.3MB/s eta 0:00:01\r\u001b[K     |██████████████████████████▍     | 40kB 2.6MB/s eta 0:00:01\r\u001b[K     |████████████████████████████████| 51kB 1.5MB/s \n",
            "\u001b[?25hRequirement already satisfied: python-dateutil in /usr/local/lib/python3.6/dist-packages (from arrow) (2.8.1)\n",
            "Requirement already satisfied: six>=1.5 in /usr/local/lib/python3.6/dist-packages (from python-dateutil->arrow) (1.15.0)\n",
            "Installing collected packages: arrow\n",
            "Successfully installed arrow-0.15.8\n"
          ],
          "name": "stdout"
        }
      ]
    },
    {
      "cell_type": "code",
      "metadata": {
        "id": "je12UYi1b-Vh",
        "colab_type": "code",
        "colab": {
          "base_uri": "https://localhost:8080/",
          "height": 158
        },
        "outputId": "baa7ee52-fcd8-4be2-bb7d-c7124d712308"
      },
      "source": [
        "from google.colab import drive\n",
        "drive.mount('/content/drive')\n",
        "os.listdir('/content/drive/My Drive/vc_modeling')"
      ],
      "execution_count": 3,
      "outputs": [
        {
          "output_type": "execute_result",
          "data": {
            "text/plain": [
              "['presentation_poster.pptx',\n",
              " 'data',\n",
              " 'regression_targets',\n",
              " 'feature_extraction',\n",
              " 'model output data spec.gsheet',\n",
              " 'models',\n",
              " '.ipynb_checkpoints',\n",
              " 'model_output']"
            ]
          },
          "metadata": {
            "tags": []
          },
          "execution_count": 3
        }
      ]
    },
    {
      "cell_type": "code",
      "metadata": {
        "id": "hnvmUqam19wJ",
        "colab_type": "code",
        "colab": {
          "base_uri": "https://localhost:8080/",
          "height": 54
        },
        "outputId": "4c511db7-3c70-4f77-cf1f-bbea801c7b16"
      },
      "source": [
        "file_names = os.listdir(\"/content/drive/My Drive/vc_modeling/data/crunchbase_bulk_export/\")\n",
        "print(file_names)"
      ],
      "execution_count": 4,
      "outputs": [
        {
          "output_type": "stream",
          "text": [
            "['category_groups.csv', 'funding_rounds.csv', 'people.csv', 'checksum.csv', 'people_descriptions.csv', 'investors.csv', 'organization_descriptions.csv', 'investment_partners.csv', 'event_appearances.csv', 'organizations.csv', 'org_parents.csv', 'jobs.csv', 'acquisitions.csv', 'funds.csv', 'ipos.csv', 'degrees.csv', 'investments.csv', 'events.csv']\n"
          ],
          "name": "stdout"
        }
      ]
    },
    {
      "cell_type": "code",
      "metadata": {
        "id": "iLTQMMS_fZ4M",
        "colab_type": "code",
        "colab": {}
      },
      "source": [
        "# use_files = ['category_groups.csv', 'funding_rounds.csv', 'people.csv', 'checksum.csv', 'people_descriptions.csv', 'investors.csv', 'organization_descriptions.csv', 'investment_partners.csv', 'event_appearances.csv', 'organizations.csv', 'org_parents.csv', 'jobs.csv', 'acquisitions.csv', 'funds.csv', 'ipos.csv', 'degrees.csv', 'investments.csv', 'events.csv']\n",
        "use_files = ['funding_rounds.csv', 'investors.csv', 'investment_partners.csv', 'organizations.csv', 'org_parents.csv', 'funds.csv', 'investments.csv', 'acquisitions.csv', 'ipos.csv']"
      ],
      "execution_count": 5,
      "outputs": []
    },
    {
      "cell_type": "code",
      "metadata": {
        "id": "hOg6Dv3219wN",
        "colab_type": "code",
        "colab": {
          "base_uri": "https://localhost:8080/",
          "height": 34
        },
        "outputId": "253a96c7-d53e-4353-8645-56fd7cf74ccd"
      },
      "source": [
        "df_names = [x[:-4] for x in use_files]\n",
        "print(df_names)"
      ],
      "execution_count": 6,
      "outputs": [
        {
          "output_type": "stream",
          "text": [
            "['funding_rounds', 'investors', 'investment_partners', 'organizations', 'org_parents', 'funds', 'investments', 'acquisitions', 'ipos']\n"
          ],
          "name": "stdout"
        }
      ]
    },
    {
      "cell_type": "code",
      "metadata": {
        "id": "Ig0sM7CL19wQ",
        "colab_type": "code",
        "colab": {
          "base_uri": "https://localhost:8080/",
          "height": 34
        },
        "outputId": "c5a54d47-c35b-4702-c6da-3c3a07602265"
      },
      "source": [
        "dfs = [pd.read_csv(\"/content/drive/My Drive/vc_modeling/data/crunchbase_bulk_export/\"+x) for x in use_files]\n",
        "df_dict = dict(zip(df_names, dfs))\n",
        "print(df_dict.keys())"
      ],
      "execution_count": 7,
      "outputs": [
        {
          "output_type": "stream",
          "text": [
            "dict_keys(['funding_rounds', 'investors', 'investment_partners', 'organizations', 'org_parents', 'funds', 'investments', 'acquisitions', 'ipos'])\n"
          ],
          "name": "stdout"
        }
      ]
    },
    {
      "cell_type": "markdown",
      "metadata": {
        "id": "jOpO11CD19wS",
        "colab_type": "text"
      },
      "source": [
        "## Look at key dfs"
      ]
    },
    {
      "cell_type": "code",
      "metadata": {
        "id": "_q2pzrAR19wT",
        "colab_type": "code",
        "colab": {
          "base_uri": "https://localhost:8080/",
          "height": 479
        },
        "outputId": "cd73e387-1992-4074-eefb-4466e1867f55"
      },
      "source": [
        "df_dict[\"funding_rounds\"].head()"
      ],
      "execution_count": null,
      "outputs": [
        {
          "output_type": "execute_result",
          "data": {
            "text/html": [
              "<div>\n",
              "<style scoped>\n",
              "    .dataframe tbody tr th:only-of-type {\n",
              "        vertical-align: middle;\n",
              "    }\n",
              "\n",
              "    .dataframe tbody tr th {\n",
              "        vertical-align: top;\n",
              "    }\n",
              "\n",
              "    .dataframe thead th {\n",
              "        text-align: right;\n",
              "    }\n",
              "</style>\n",
              "<table border=\"1\" class=\"dataframe\">\n",
              "  <thead>\n",
              "    <tr style=\"text-align: right;\">\n",
              "      <th></th>\n",
              "      <th>uuid</th>\n",
              "      <th>name</th>\n",
              "      <th>type</th>\n",
              "      <th>permalink</th>\n",
              "      <th>cb_url</th>\n",
              "      <th>rank</th>\n",
              "      <th>created_at</th>\n",
              "      <th>updated_at</th>\n",
              "      <th>country_code</th>\n",
              "      <th>state_code</th>\n",
              "      <th>region</th>\n",
              "      <th>city</th>\n",
              "      <th>investment_type</th>\n",
              "      <th>announced_on</th>\n",
              "      <th>raised_amount_usd</th>\n",
              "      <th>raised_amount</th>\n",
              "      <th>raised_amount_currency_code</th>\n",
              "      <th>post_money_valuation_usd</th>\n",
              "      <th>post_money_valuation</th>\n",
              "      <th>post_money_valuation_currency_code</th>\n",
              "      <th>investor_count</th>\n",
              "      <th>org_uuid</th>\n",
              "      <th>org_name</th>\n",
              "      <th>lead_investor_uuids</th>\n",
              "    </tr>\n",
              "  </thead>\n",
              "  <tbody>\n",
              "    <tr>\n",
              "      <th>0</th>\n",
              "      <td>8a945939-18e0-cc9d-27b9-bf33817b2818</td>\n",
              "      <td>Angel Round - Facebook</td>\n",
              "      <td>funding_round</td>\n",
              "      <td>facebook-angel--8a945939</td>\n",
              "      <td>https://www.crunchbase.com/funding_round/faceb...</td>\n",
              "      <td>143236.0</td>\n",
              "      <td>2007-05-27 06:08:18</td>\n",
              "      <td>2018-02-12 23:05:39</td>\n",
              "      <td>USA</td>\n",
              "      <td>CA</td>\n",
              "      <td>California</td>\n",
              "      <td>Menlo Park</td>\n",
              "      <td>angel</td>\n",
              "      <td>2004-09-01</td>\n",
              "      <td>500000.0</td>\n",
              "      <td>500000.0</td>\n",
              "      <td>USD</td>\n",
              "      <td>NaN</td>\n",
              "      <td>NaN</td>\n",
              "      <td>USD</td>\n",
              "      <td>4.0</td>\n",
              "      <td>df662812-7f97-0b43-9d3e-12f64f504fbb</td>\n",
              "      <td>Facebook</td>\n",
              "      <td>3f47be49-2e32-8118-01a0-31685a4d0fd7</td>\n",
              "    </tr>\n",
              "    <tr>\n",
              "      <th>1</th>\n",
              "      <td>d950d7a5-79ff-fb93-ca87-13386b0e2feb</td>\n",
              "      <td>Series A - Facebook</td>\n",
              "      <td>funding_round</td>\n",
              "      <td>facebook-series-a--d950d7a5</td>\n",
              "      <td>https://www.crunchbase.com/funding_round/faceb...</td>\n",
              "      <td>145939.0</td>\n",
              "      <td>2007-05-27 06:09:10</td>\n",
              "      <td>2018-02-12 23:52:16</td>\n",
              "      <td>USA</td>\n",
              "      <td>CA</td>\n",
              "      <td>California</td>\n",
              "      <td>Menlo Park</td>\n",
              "      <td>series_a</td>\n",
              "      <td>2005-05-01</td>\n",
              "      <td>12700000.0</td>\n",
              "      <td>12700000.0</td>\n",
              "      <td>USD</td>\n",
              "      <td>98000000.0</td>\n",
              "      <td>98000000.0</td>\n",
              "      <td>USD</td>\n",
              "      <td>4.0</td>\n",
              "      <td>df662812-7f97-0b43-9d3e-12f64f504fbb</td>\n",
              "      <td>Facebook</td>\n",
              "      <td>b08efc27-da40-505a-6f9d-c9e14247bf36</td>\n",
              "    </tr>\n",
              "    <tr>\n",
              "      <th>2</th>\n",
              "      <td>6fae3958-a001-27c0-fb7e-666266aedd78</td>\n",
              "      <td>Series B - Facebook</td>\n",
              "      <td>funding_round</td>\n",
              "      <td>facebook-series-b--6fae3958</td>\n",
              "      <td>https://www.crunchbase.com/funding_round/faceb...</td>\n",
              "      <td>273250.0</td>\n",
              "      <td>2007-05-27 06:09:36</td>\n",
              "      <td>2018-02-12 23:30:46</td>\n",
              "      <td>USA</td>\n",
              "      <td>CA</td>\n",
              "      <td>California</td>\n",
              "      <td>Menlo Park</td>\n",
              "      <td>series_b</td>\n",
              "      <td>2006-04-01</td>\n",
              "      <td>27500000.0</td>\n",
              "      <td>27500000.0</td>\n",
              "      <td>USD</td>\n",
              "      <td>502500000.0</td>\n",
              "      <td>502500000.0</td>\n",
              "      <td>USD</td>\n",
              "      <td>5.0</td>\n",
              "      <td>df662812-7f97-0b43-9d3e-12f64f504fbb</td>\n",
              "      <td>Facebook</td>\n",
              "      <td>e2006571-6b7a-e477-002a-f7014f48a7e3,8d5c7e48-...</td>\n",
              "    </tr>\n",
              "    <tr>\n",
              "      <th>3</th>\n",
              "      <td>bcd5a63d-ed99-6963-0dd2-e36f6582f846</td>\n",
              "      <td>Series B - Photobucket</td>\n",
              "      <td>funding_round</td>\n",
              "      <td>photobucket-series-b--bcd5a63d</td>\n",
              "      <td>https://www.crunchbase.com/funding_round/photo...</td>\n",
              "      <td>149479.0</td>\n",
              "      <td>2007-05-29 11:05:59</td>\n",
              "      <td>2018-02-12 23:27:36</td>\n",
              "      <td>USA</td>\n",
              "      <td>CO</td>\n",
              "      <td>Colorado</td>\n",
              "      <td>Denver</td>\n",
              "      <td>series_b</td>\n",
              "      <td>2006-05-01</td>\n",
              "      <td>10500000.0</td>\n",
              "      <td>10500000.0</td>\n",
              "      <td>USD</td>\n",
              "      <td>NaN</td>\n",
              "      <td>NaN</td>\n",
              "      <td>USD</td>\n",
              "      <td>2.0</td>\n",
              "      <td>f53cb4de-236e-0b1b-dee8-7104a8b018f9</td>\n",
              "      <td>Photobucket</td>\n",
              "      <td>NaN</td>\n",
              "    </tr>\n",
              "    <tr>\n",
              "      <th>4</th>\n",
              "      <td>60e6afd9-1215-465a-dd17-0ed600d4e29b</td>\n",
              "      <td>Series A - Geni</td>\n",
              "      <td>funding_round</td>\n",
              "      <td>geni-series-a--60e6afd9</td>\n",
              "      <td>https://www.crunchbase.com/funding_round/geni-...</td>\n",
              "      <td>313010.0</td>\n",
              "      <td>2007-05-31 20:19:28</td>\n",
              "      <td>2018-02-12 23:41:29</td>\n",
              "      <td>USA</td>\n",
              "      <td>CA</td>\n",
              "      <td>California</td>\n",
              "      <td>West Hollywood</td>\n",
              "      <td>series_a</td>\n",
              "      <td>2007-01-17</td>\n",
              "      <td>NaN</td>\n",
              "      <td>NaN</td>\n",
              "      <td>NaN</td>\n",
              "      <td>10000000.0</td>\n",
              "      <td>10000000.0</td>\n",
              "      <td>USD</td>\n",
              "      <td>1.0</td>\n",
              "      <td>4111dc8b-c0df-2d24-ed33-30cd137b3098</td>\n",
              "      <td>Geni</td>\n",
              "      <td>fb2f8884-ec07-895a-48d7-d9a9d4d7175c</td>\n",
              "    </tr>\n",
              "  </tbody>\n",
              "</table>\n",
              "</div>"
            ],
            "text/plain": [
              "                                   uuid  ...                                lead_investor_uuids\n",
              "0  8a945939-18e0-cc9d-27b9-bf33817b2818  ...               3f47be49-2e32-8118-01a0-31685a4d0fd7\n",
              "1  d950d7a5-79ff-fb93-ca87-13386b0e2feb  ...               b08efc27-da40-505a-6f9d-c9e14247bf36\n",
              "2  6fae3958-a001-27c0-fb7e-666266aedd78  ...  e2006571-6b7a-e477-002a-f7014f48a7e3,8d5c7e48-...\n",
              "3  bcd5a63d-ed99-6963-0dd2-e36f6582f846  ...                                                NaN\n",
              "4  60e6afd9-1215-465a-dd17-0ed600d4e29b  ...               fb2f8884-ec07-895a-48d7-d9a9d4d7175c\n",
              "\n",
              "[5 rows x 24 columns]"
            ]
          },
          "metadata": {
            "tags": []
          },
          "execution_count": 8
        }
      ]
    },
    {
      "cell_type": "code",
      "metadata": {
        "id": "wOjiX66M19wW",
        "colab_type": "code",
        "colab": {
          "base_uri": "https://localhost:8080/",
          "height": 479
        },
        "outputId": "c5fa8d9e-a318-42ca-e4ec-2c20abedb1f4"
      },
      "source": [
        "df_dict[\"organizations\"].head()"
      ],
      "execution_count": null,
      "outputs": [
        {
          "output_type": "execute_result",
          "data": {
            "text/html": [
              "<div>\n",
              "<style scoped>\n",
              "    .dataframe tbody tr th:only-of-type {\n",
              "        vertical-align: middle;\n",
              "    }\n",
              "\n",
              "    .dataframe tbody tr th {\n",
              "        vertical-align: top;\n",
              "    }\n",
              "\n",
              "    .dataframe thead th {\n",
              "        text-align: right;\n",
              "    }\n",
              "</style>\n",
              "<table border=\"1\" class=\"dataframe\">\n",
              "  <thead>\n",
              "    <tr style=\"text-align: right;\">\n",
              "      <th></th>\n",
              "      <th>uuid</th>\n",
              "      <th>name</th>\n",
              "      <th>type</th>\n",
              "      <th>permalink</th>\n",
              "      <th>cb_url</th>\n",
              "      <th>rank</th>\n",
              "      <th>created_at</th>\n",
              "      <th>updated_at</th>\n",
              "      <th>legal_name</th>\n",
              "      <th>roles</th>\n",
              "      <th>domain</th>\n",
              "      <th>homepage_url</th>\n",
              "      <th>country_code</th>\n",
              "      <th>state_code</th>\n",
              "      <th>region</th>\n",
              "      <th>city</th>\n",
              "      <th>address</th>\n",
              "      <th>postal_code</th>\n",
              "      <th>status</th>\n",
              "      <th>short_description</th>\n",
              "      <th>category_list</th>\n",
              "      <th>category_groups_list</th>\n",
              "      <th>num_funding_rounds</th>\n",
              "      <th>total_funding_usd</th>\n",
              "      <th>total_funding</th>\n",
              "      <th>total_funding_currency_code</th>\n",
              "      <th>founded_on</th>\n",
              "      <th>last_funding_on</th>\n",
              "      <th>closed_on</th>\n",
              "      <th>employee_count</th>\n",
              "      <th>email</th>\n",
              "      <th>phone</th>\n",
              "      <th>facebook_url</th>\n",
              "      <th>linkedin_url</th>\n",
              "      <th>twitter_url</th>\n",
              "      <th>logo_url</th>\n",
              "      <th>alias1</th>\n",
              "      <th>alias2</th>\n",
              "      <th>alias3</th>\n",
              "      <th>primary_role</th>\n",
              "      <th>num_exits</th>\n",
              "    </tr>\n",
              "  </thead>\n",
              "  <tbody>\n",
              "    <tr>\n",
              "      <th>0</th>\n",
              "      <td>e1393508-30ea-8a36-3f96-dd3226033abd</td>\n",
              "      <td>Wetpaint</td>\n",
              "      <td>organization</td>\n",
              "      <td>wetpaint</td>\n",
              "      <td>https://www.crunchbase.com/organization/wetpaint</td>\n",
              "      <td>123607.0</td>\n",
              "      <td>2007-05-25 13:51:27</td>\n",
              "      <td>2019-06-24 22:19:25</td>\n",
              "      <td>NaN</td>\n",
              "      <td>company</td>\n",
              "      <td>wetpaint.com</td>\n",
              "      <td>http://www.wetpaint.com/</td>\n",
              "      <td>USA</td>\n",
              "      <td>NY</td>\n",
              "      <td>New York</td>\n",
              "      <td>New York</td>\n",
              "      <td>902 Broadway 11th Floor New</td>\n",
              "      <td>10010</td>\n",
              "      <td>acquired</td>\n",
              "      <td>Wetpaint offers an online social publishing pl...</td>\n",
              "      <td>Publishing,Social Media,Social Media Management</td>\n",
              "      <td>Content and Publishing,Internet Services,Media...</td>\n",
              "      <td>3.0</td>\n",
              "      <td>3.975000e+07</td>\n",
              "      <td>3.975000e+07</td>\n",
              "      <td>USD</td>\n",
              "      <td>2005-06-01</td>\n",
              "      <td>2008-05-19</td>\n",
              "      <td>NaN</td>\n",
              "      <td>51-100</td>\n",
              "      <td>info@wetpaint.com</td>\n",
              "      <td>206-859-6300</td>\n",
              "      <td>https://www.facebook.com/Wetpaint</td>\n",
              "      <td>https://www.linkedin.com/company/wetpaint</td>\n",
              "      <td>https://twitter.com/wetpainttv</td>\n",
              "      <td>https://crunchbase-production-res.cloudinary.c...</td>\n",
              "      <td>NaN</td>\n",
              "      <td>NaN</td>\n",
              "      <td>NaN</td>\n",
              "      <td>company</td>\n",
              "      <td>NaN</td>\n",
              "    </tr>\n",
              "    <tr>\n",
              "      <th>1</th>\n",
              "      <td>bf4d7b0e-b34d-2fd8-d292-6049c4f7efc7</td>\n",
              "      <td>Zoho</td>\n",
              "      <td>organization</td>\n",
              "      <td>zoho</td>\n",
              "      <td>https://www.crunchbase.com/organization/zoho</td>\n",
              "      <td>8777.0</td>\n",
              "      <td>2007-05-26 02:30:28</td>\n",
              "      <td>2018-10-27 00:29:49</td>\n",
              "      <td>NaN</td>\n",
              "      <td>investor,company</td>\n",
              "      <td>zoho.com</td>\n",
              "      <td>https://www.zoho.com/</td>\n",
              "      <td>USA</td>\n",
              "      <td>CA</td>\n",
              "      <td>California</td>\n",
              "      <td>Pleasanton</td>\n",
              "      <td>4141 Hacienda Drive</td>\n",
              "      <td>94588</td>\n",
              "      <td>operating</td>\n",
              "      <td>Zoho offers a suite of business, collaboration...</td>\n",
              "      <td>Cloud Computing,Collaboration,CRM,Developer To...</td>\n",
              "      <td>Information Technology,Internet Services,Priva...</td>\n",
              "      <td>NaN</td>\n",
              "      <td>NaN</td>\n",
              "      <td>NaN</td>\n",
              "      <td>NaN</td>\n",
              "      <td>1996-09-15</td>\n",
              "      <td>NaN</td>\n",
              "      <td>NaN</td>\n",
              "      <td>1001-5000</td>\n",
              "      <td>info@zohocorp.com</td>\n",
              "      <td>NaN</td>\n",
              "      <td>http://www.facebook.com/zoho</td>\n",
              "      <td>http://www.linkedin.com/company/zoho-corporati...</td>\n",
              "      <td>http://twitter.com/zoho</td>\n",
              "      <td>https://crunchbase-production-res.cloudinary.c...</td>\n",
              "      <td>NaN</td>\n",
              "      <td>NaN</td>\n",
              "      <td>NaN</td>\n",
              "      <td>company</td>\n",
              "      <td>1.0</td>\n",
              "    </tr>\n",
              "    <tr>\n",
              "      <th>2</th>\n",
              "      <td>5f2b40b8-d1b3-d323-d81a-b7a8e89553d0</td>\n",
              "      <td>Digg</td>\n",
              "      <td>organization</td>\n",
              "      <td>digg</td>\n",
              "      <td>https://www.crunchbase.com/organization/digg</td>\n",
              "      <td>11537.0</td>\n",
              "      <td>2007-05-26 03:03:23</td>\n",
              "      <td>2018-12-10 10:09:14</td>\n",
              "      <td>Digg Holdings, LLC</td>\n",
              "      <td>company</td>\n",
              "      <td>digg.com</td>\n",
              "      <td>http://www.digg.com</td>\n",
              "      <td>USA</td>\n",
              "      <td>NY</td>\n",
              "      <td>New York</td>\n",
              "      <td>New York</td>\n",
              "      <td>NaN</td>\n",
              "      <td>NaN</td>\n",
              "      <td>acquired</td>\n",
              "      <td>Digg Inc. operates a website that enables its ...</td>\n",
              "      <td>Internet,Social Media,Social Network</td>\n",
              "      <td>Internet Services,Media and Entertainment</td>\n",
              "      <td>6.0</td>\n",
              "      <td>4.900000e+07</td>\n",
              "      <td>4.900000e+07</td>\n",
              "      <td>USD</td>\n",
              "      <td>2004-10-11</td>\n",
              "      <td>2016-09-13</td>\n",
              "      <td>NaN</td>\n",
              "      <td>51-100</td>\n",
              "      <td>feedback@digg.com</td>\n",
              "      <td>877-342-7222</td>\n",
              "      <td>http://www.facebook.com/digg</td>\n",
              "      <td>http://www.linkedin.com/company/digg</td>\n",
              "      <td>http://twitter.com/digg</td>\n",
              "      <td>https://crunchbase-production-res.cloudinary.c...</td>\n",
              "      <td>NaN</td>\n",
              "      <td>NaN</td>\n",
              "      <td>NaN</td>\n",
              "      <td>company</td>\n",
              "      <td>NaN</td>\n",
              "    </tr>\n",
              "    <tr>\n",
              "      <th>3</th>\n",
              "      <td>f4d5ab44-058b-298b-ea81-380e6e9a8eec</td>\n",
              "      <td>Omidyar Network</td>\n",
              "      <td>organization</td>\n",
              "      <td>omidyar-network</td>\n",
              "      <td>https://www.crunchbase.com/organization/omidya...</td>\n",
              "      <td>6844.0</td>\n",
              "      <td>2007-05-26 03:21:34</td>\n",
              "      <td>2019-06-19 12:17:48</td>\n",
              "      <td>NaN</td>\n",
              "      <td>investor</td>\n",
              "      <td>omidyar.com</td>\n",
              "      <td>http://www.omidyar.com</td>\n",
              "      <td>USA</td>\n",
              "      <td>CA</td>\n",
              "      <td>California</td>\n",
              "      <td>Redwood City</td>\n",
              "      <td>1991 Broadway Suite 200</td>\n",
              "      <td>94063</td>\n",
              "      <td>operating</td>\n",
              "      <td>Omidyar Network is an investment firm.</td>\n",
              "      <td>Enterprise Software,Financial Services,Venture...</td>\n",
              "      <td>Financial Services,Lending and Investments,Sof...</td>\n",
              "      <td>NaN</td>\n",
              "      <td>NaN</td>\n",
              "      <td>NaN</td>\n",
              "      <td>NaN</td>\n",
              "      <td>2004-01-01</td>\n",
              "      <td>NaN</td>\n",
              "      <td>NaN</td>\n",
              "      <td>101-250</td>\n",
              "      <td>info@omidyar.com</td>\n",
              "      <td>650.482.2500</td>\n",
              "      <td>http://www.facebook.com/OmidyarNetwork</td>\n",
              "      <td>http://www.linkedin.com/company/22806</td>\n",
              "      <td>http://twitter.com/OmidyarNetwork</td>\n",
              "      <td>https://crunchbase-production-res.cloudinary.c...</td>\n",
              "      <td>NaN</td>\n",
              "      <td>NaN</td>\n",
              "      <td>NaN</td>\n",
              "      <td>investor</td>\n",
              "      <td>33.0</td>\n",
              "    </tr>\n",
              "    <tr>\n",
              "      <th>4</th>\n",
              "      <td>df662812-7f97-0b43-9d3e-12f64f504fbb</td>\n",
              "      <td>Facebook</td>\n",
              "      <td>organization</td>\n",
              "      <td>facebook</td>\n",
              "      <td>https://www.crunchbase.com/organization/facebook</td>\n",
              "      <td>15.0</td>\n",
              "      <td>2007-05-26 04:22:15</td>\n",
              "      <td>2020-03-30 18:33:35</td>\n",
              "      <td>Facebook, Inc.</td>\n",
              "      <td>investor,company</td>\n",
              "      <td>facebook.com</td>\n",
              "      <td>http://www.facebook.com</td>\n",
              "      <td>USA</td>\n",
              "      <td>CA</td>\n",
              "      <td>California</td>\n",
              "      <td>Menlo Park</td>\n",
              "      <td>1 Hacker Way</td>\n",
              "      <td>94025</td>\n",
              "      <td>ipo</td>\n",
              "      <td>Facebook is an online social networking servic...</td>\n",
              "      <td>E-Commerce,Mobile Apps,Social,Social Media,Soc...</td>\n",
              "      <td>Apps,Commerce and Shopping,Content and Publish...</td>\n",
              "      <td>15.0</td>\n",
              "      <td>2.335700e+09</td>\n",
              "      <td>2.335700e+09</td>\n",
              "      <td>USD</td>\n",
              "      <td>2004-02-04</td>\n",
              "      <td>2013-06-30</td>\n",
              "      <td>NaN</td>\n",
              "      <td>10000+</td>\n",
              "      <td>NaN</td>\n",
              "      <td>NaN</td>\n",
              "      <td>https://www.facebook.com/facebook/</td>\n",
              "      <td>http://www.linkedin.com/company/facebook</td>\n",
              "      <td>https://twitter.com/facebook</td>\n",
              "      <td>https://crunchbase-production-res.cloudinary.c...</td>\n",
              "      <td>NaN</td>\n",
              "      <td>NaN</td>\n",
              "      <td>NaN</td>\n",
              "      <td>company</td>\n",
              "      <td>NaN</td>\n",
              "    </tr>\n",
              "  </tbody>\n",
              "</table>\n",
              "</div>"
            ],
            "text/plain": [
              "                                   uuid  ... num_exits\n",
              "0  e1393508-30ea-8a36-3f96-dd3226033abd  ...       NaN\n",
              "1  bf4d7b0e-b34d-2fd8-d292-6049c4f7efc7  ...       1.0\n",
              "2  5f2b40b8-d1b3-d323-d81a-b7a8e89553d0  ...       NaN\n",
              "3  f4d5ab44-058b-298b-ea81-380e6e9a8eec  ...      33.0\n",
              "4  df662812-7f97-0b43-9d3e-12f64f504fbb  ...       NaN\n",
              "\n",
              "[5 rows x 41 columns]"
            ]
          },
          "metadata": {
            "tags": []
          },
          "execution_count": 9
        }
      ]
    },
    {
      "cell_type": "code",
      "metadata": {
        "id": "uDDT3tJ5JxJI",
        "colab_type": "code",
        "colab": {
          "base_uri": "https://localhost:8080/",
          "height": 459
        },
        "outputId": "22b8bd3a-18a2-4965-c860-09d23201739e"
      },
      "source": [
        "df_dict['org_parents'].head()"
      ],
      "execution_count": null,
      "outputs": [
        {
          "output_type": "execute_result",
          "data": {
            "text/html": [
              "<div>\n",
              "<style scoped>\n",
              "    .dataframe tbody tr th:only-of-type {\n",
              "        vertical-align: middle;\n",
              "    }\n",
              "\n",
              "    .dataframe tbody tr th {\n",
              "        vertical-align: top;\n",
              "    }\n",
              "\n",
              "    .dataframe thead th {\n",
              "        text-align: right;\n",
              "    }\n",
              "</style>\n",
              "<table border=\"1\" class=\"dataframe\">\n",
              "  <thead>\n",
              "    <tr style=\"text-align: right;\">\n",
              "      <th></th>\n",
              "      <th>uuid</th>\n",
              "      <th>name</th>\n",
              "      <th>type</th>\n",
              "      <th>permalink</th>\n",
              "      <th>cb_url</th>\n",
              "      <th>rank</th>\n",
              "      <th>created_at</th>\n",
              "      <th>updated_at</th>\n",
              "      <th>parent_uuid</th>\n",
              "      <th>parent_name</th>\n",
              "    </tr>\n",
              "  </thead>\n",
              "  <tbody>\n",
              "    <tr>\n",
              "      <th>0</th>\n",
              "      <td>d70777cc-14bd-2416-0692-5a483781b78b</td>\n",
              "      <td>Fox Interactive Media</td>\n",
              "      <td>organization</td>\n",
              "      <td>fox-interactive-media</td>\n",
              "      <td>https://www.crunchbase.com/organization/fox-in...</td>\n",
              "      <td>117483.0</td>\n",
              "      <td>2007-06-01 04:46:57</td>\n",
              "      <td>2018-11-30 09:12:07</td>\n",
              "      <td>ddfe6b91-4541-7f5c-7d6a-724f75c98088</td>\n",
              "      <td>21st Century Fox</td>\n",
              "    </tr>\n",
              "    <tr>\n",
              "      <th>1</th>\n",
              "      <td>5858c937-702e-c278-1725-2b5e02471482</td>\n",
              "      <td>Cheung Kong Holdings</td>\n",
              "      <td>organization</td>\n",
              "      <td>cheung-kong-holdings</td>\n",
              "      <td>https://www.crunchbase.com/organization/cheung...</td>\n",
              "      <td>203808.0</td>\n",
              "      <td>2007-06-09 14:20:30</td>\n",
              "      <td>2019-06-24 21:43:04</td>\n",
              "      <td>7ea4b08b-6643-f9a8-20ad-cd3e93d3df26</td>\n",
              "      <td>CK Hutchison Holdings</td>\n",
              "    </tr>\n",
              "    <tr>\n",
              "      <th>2</th>\n",
              "      <td>f09c1228-2e7d-1889-6647-ba5021b2e4ea</td>\n",
              "      <td>CBS</td>\n",
              "      <td>organization</td>\n",
              "      <td>cbs</td>\n",
              "      <td>https://www.crunchbase.com/organization/cbs</td>\n",
              "      <td>33198.0</td>\n",
              "      <td>2007-06-09 14:30:10</td>\n",
              "      <td>2020-06-08 20:18:14</td>\n",
              "      <td>cd19ea0d-745c-e3b6-d819-30b91caf8ebb</td>\n",
              "      <td>CBS Corporation</td>\n",
              "    </tr>\n",
              "    <tr>\n",
              "      <th>3</th>\n",
              "      <td>91f5ca18-e026-9482-8e4f-22593943e0f5</td>\n",
              "      <td>Plaxo</td>\n",
              "      <td>organization</td>\n",
              "      <td>plaxo</td>\n",
              "      <td>https://www.crunchbase.com/organization/plaxo</td>\n",
              "      <td>98091.0</td>\n",
              "      <td>2007-06-09 21:18:54</td>\n",
              "      <td>2020-02-03 09:07:25</td>\n",
              "      <td>fbc7746d-86e0-8fd6-19d8-69280c686d02</td>\n",
              "      <td>Comcast</td>\n",
              "    </tr>\n",
              "    <tr>\n",
              "      <th>4</th>\n",
              "      <td>fc89cfde-a28e-e12c-443c-edccb6c93fd4</td>\n",
              "      <td>AddThis</td>\n",
              "      <td>organization</td>\n",
              "      <td>addthis</td>\n",
              "      <td>https://www.crunchbase.com/organization/addthis</td>\n",
              "      <td>17503.0</td>\n",
              "      <td>2007-06-13 16:00:07</td>\n",
              "      <td>2019-06-24 21:45:36</td>\n",
              "      <td>bef5bd4b-72c6-7877-d7ab-8bbe43f7bda7</td>\n",
              "      <td>Oracle</td>\n",
              "    </tr>\n",
              "  </tbody>\n",
              "</table>\n",
              "</div>"
            ],
            "text/plain": [
              "                                   uuid  ...            parent_name\n",
              "0  d70777cc-14bd-2416-0692-5a483781b78b  ...       21st Century Fox\n",
              "1  5858c937-702e-c278-1725-2b5e02471482  ...  CK Hutchison Holdings\n",
              "2  f09c1228-2e7d-1889-6647-ba5021b2e4ea  ...        CBS Corporation\n",
              "3  91f5ca18-e026-9482-8e4f-22593943e0f5  ...                Comcast\n",
              "4  fc89cfde-a28e-e12c-443c-edccb6c93fd4  ...                 Oracle\n",
              "\n",
              "[5 rows x 10 columns]"
            ]
          },
          "metadata": {
            "tags": []
          },
          "execution_count": 10
        }
      ]
    },
    {
      "cell_type": "code",
      "metadata": {
        "id": "V99e5X6i19wY",
        "colab_type": "code",
        "colab": {
          "base_uri": "https://localhost:8080/",
          "height": 564
        },
        "outputId": "8ecf29c5-783d-482c-e83a-23f60e88c28c"
      },
      "source": [
        "df_dict[\"investments\"].head()"
      ],
      "execution_count": null,
      "outputs": [
        {
          "output_type": "execute_result",
          "data": {
            "text/html": [
              "<div>\n",
              "<style scoped>\n",
              "    .dataframe tbody tr th:only-of-type {\n",
              "        vertical-align: middle;\n",
              "    }\n",
              "\n",
              "    .dataframe tbody tr th {\n",
              "        vertical-align: top;\n",
              "    }\n",
              "\n",
              "    .dataframe thead th {\n",
              "        text-align: right;\n",
              "    }\n",
              "</style>\n",
              "<table border=\"1\" class=\"dataframe\">\n",
              "  <thead>\n",
              "    <tr style=\"text-align: right;\">\n",
              "      <th></th>\n",
              "      <th>uuid</th>\n",
              "      <th>name</th>\n",
              "      <th>type</th>\n",
              "      <th>permalink</th>\n",
              "      <th>cb_url</th>\n",
              "      <th>rank</th>\n",
              "      <th>created_at</th>\n",
              "      <th>updated_at</th>\n",
              "      <th>funding_round_uuid</th>\n",
              "      <th>funding_round_name</th>\n",
              "      <th>investor_uuid</th>\n",
              "      <th>investor_name</th>\n",
              "      <th>investor_type</th>\n",
              "      <th>is_lead_investor</th>\n",
              "    </tr>\n",
              "  </thead>\n",
              "  <tbody>\n",
              "    <tr>\n",
              "      <th>0</th>\n",
              "      <td>524986f0-3049-54a4-fa72-f60897a5e61d</td>\n",
              "      <td>Accel investment in Series A - Facebook</td>\n",
              "      <td>investment</td>\n",
              "      <td>accel-invested-in-facebook-series-a--d950d7a5-...</td>\n",
              "      <td>https://www.crunchbase.com/investment/accel-in...</td>\n",
              "      <td>NaN</td>\n",
              "      <td>2007-05-27 06:09:10</td>\n",
              "      <td>2018-02-13 00:52:57</td>\n",
              "      <td>d950d7a5-79ff-fb93-ca87-13386b0e2feb</td>\n",
              "      <td>Series A - Facebook</td>\n",
              "      <td>b08efc27-da40-505a-6f9d-c9e14247bf36</td>\n",
              "      <td>Accel</td>\n",
              "      <td>organization</td>\n",
              "      <td>True</td>\n",
              "    </tr>\n",
              "    <tr>\n",
              "      <th>1</th>\n",
              "      <td>6556ab92-6465-25aa-1ffc-7f8b4b09a476</td>\n",
              "      <td>Greylock investment in Series B - Facebook</td>\n",
              "      <td>investment</td>\n",
              "      <td>greylock-invested-in-facebook-series-b--6fae39...</td>\n",
              "      <td>https://www.crunchbase.com/investment/greylock...</td>\n",
              "      <td>NaN</td>\n",
              "      <td>2007-05-27 06:09:36</td>\n",
              "      <td>2018-02-13 00:53:20</td>\n",
              "      <td>6fae3958-a001-27c0-fb7e-666266aedd78</td>\n",
              "      <td>Series B - Facebook</td>\n",
              "      <td>e2006571-6b7a-e477-002a-f7014f48a7e3</td>\n",
              "      <td>Greylock</td>\n",
              "      <td>organization</td>\n",
              "      <td>True</td>\n",
              "    </tr>\n",
              "    <tr>\n",
              "      <th>2</th>\n",
              "      <td>0216e06a-61f8-9cf1-19ba-20811229c53e</td>\n",
              "      <td>Meritech Capital Partners investment in Series...</td>\n",
              "      <td>investment</td>\n",
              "      <td>meritech-capital-partners-invested-in-facebook...</td>\n",
              "      <td>https://www.crunchbase.com/investment/meritech...</td>\n",
              "      <td>NaN</td>\n",
              "      <td>2007-05-27 06:09:36</td>\n",
              "      <td>2019-03-27 19:50:32</td>\n",
              "      <td>6fae3958-a001-27c0-fb7e-666266aedd78</td>\n",
              "      <td>Series B - Facebook</td>\n",
              "      <td>8d5c7e48-82da-3025-dd46-346a31bab86f</td>\n",
              "      <td>Meritech Capital Partners</td>\n",
              "      <td>organization</td>\n",
              "      <td>True</td>\n",
              "    </tr>\n",
              "    <tr>\n",
              "      <th>3</th>\n",
              "      <td>dadd7d86-520d-5e35-3033-fc1d8792ab91</td>\n",
              "      <td>Trinity Ventures investment in Series B - Phot...</td>\n",
              "      <td>investment</td>\n",
              "      <td>trinity-ventures-invested-in-photobucket-serie...</td>\n",
              "      <td>https://www.crunchbase.com/investment/trinity-...</td>\n",
              "      <td>NaN</td>\n",
              "      <td>2007-05-29 11:05:59</td>\n",
              "      <td>2018-02-13 00:55:58</td>\n",
              "      <td>bcd5a63d-ed99-6963-0dd2-e36f6582f846</td>\n",
              "      <td>Series B - Photobucket</td>\n",
              "      <td>7ca12f7a-2f8e-48b4-a8d1-1a33a0e275b9</td>\n",
              "      <td>Trinity Ventures</td>\n",
              "      <td>organization</td>\n",
              "      <td>NaN</td>\n",
              "    </tr>\n",
              "    <tr>\n",
              "      <th>4</th>\n",
              "      <td>581c4b38-9653-7117-9bd4-7ffe5c7eba69</td>\n",
              "      <td>Founders Fund investment in Series A - Geni</td>\n",
              "      <td>investment</td>\n",
              "      <td>founders-fund-invested-in-geni-series-a--60e6a...</td>\n",
              "      <td>https://www.crunchbase.com/investment/founders...</td>\n",
              "      <td>NaN</td>\n",
              "      <td>2007-05-31 20:19:28</td>\n",
              "      <td>2018-02-13 00:53:04</td>\n",
              "      <td>60e6afd9-1215-465a-dd17-0ed600d4e29b</td>\n",
              "      <td>Series A - Geni</td>\n",
              "      <td>fb2f8884-ec07-895a-48d7-d9a9d4d7175c</td>\n",
              "      <td>Founders Fund</td>\n",
              "      <td>organization</td>\n",
              "      <td>True</td>\n",
              "    </tr>\n",
              "  </tbody>\n",
              "</table>\n",
              "</div>"
            ],
            "text/plain": [
              "                                   uuid  ... is_lead_investor\n",
              "0  524986f0-3049-54a4-fa72-f60897a5e61d  ...             True\n",
              "1  6556ab92-6465-25aa-1ffc-7f8b4b09a476  ...             True\n",
              "2  0216e06a-61f8-9cf1-19ba-20811229c53e  ...             True\n",
              "3  dadd7d86-520d-5e35-3033-fc1d8792ab91  ...              NaN\n",
              "4  581c4b38-9653-7117-9bd4-7ffe5c7eba69  ...             True\n",
              "\n",
              "[5 rows x 14 columns]"
            ]
          },
          "metadata": {
            "tags": []
          },
          "execution_count": 11
        }
      ]
    },
    {
      "cell_type": "code",
      "metadata": {
        "id": "wCWn8joeJo3a",
        "colab_type": "code",
        "colab": {
          "base_uri": "https://localhost:8080/",
          "height": 479
        },
        "outputId": "bd3c8c4a-0836-4ab0-803d-c30958bff2ba"
      },
      "source": [
        "df_dict[\"investors\"].head()"
      ],
      "execution_count": null,
      "outputs": [
        {
          "output_type": "execute_result",
          "data": {
            "text/html": [
              "<div>\n",
              "<style scoped>\n",
              "    .dataframe tbody tr th:only-of-type {\n",
              "        vertical-align: middle;\n",
              "    }\n",
              "\n",
              "    .dataframe tbody tr th {\n",
              "        vertical-align: top;\n",
              "    }\n",
              "\n",
              "    .dataframe thead th {\n",
              "        text-align: right;\n",
              "    }\n",
              "</style>\n",
              "<table border=\"1\" class=\"dataframe\">\n",
              "  <thead>\n",
              "    <tr style=\"text-align: right;\">\n",
              "      <th></th>\n",
              "      <th>uuid</th>\n",
              "      <th>name</th>\n",
              "      <th>type</th>\n",
              "      <th>permalink</th>\n",
              "      <th>cb_url</th>\n",
              "      <th>rank</th>\n",
              "      <th>created_at</th>\n",
              "      <th>updated_at</th>\n",
              "      <th>roles</th>\n",
              "      <th>domain</th>\n",
              "      <th>country_code</th>\n",
              "      <th>state_code</th>\n",
              "      <th>region</th>\n",
              "      <th>city</th>\n",
              "      <th>investor_types</th>\n",
              "      <th>investment_count</th>\n",
              "      <th>total_funding_usd</th>\n",
              "      <th>total_funding</th>\n",
              "      <th>total_funding_currency_code</th>\n",
              "      <th>founded_on</th>\n",
              "      <th>closed_on</th>\n",
              "      <th>facebook_url</th>\n",
              "      <th>linkedin_url</th>\n",
              "      <th>twitter_url</th>\n",
              "      <th>logo_url</th>\n",
              "    </tr>\n",
              "  </thead>\n",
              "  <tbody>\n",
              "    <tr>\n",
              "      <th>0</th>\n",
              "      <td>bf4d7b0e-b34d-2fd8-d292-6049c4f7efc7</td>\n",
              "      <td>Zoho</td>\n",
              "      <td>organization</td>\n",
              "      <td>zoho</td>\n",
              "      <td>https://www.crunchbase.com/organization/zoho</td>\n",
              "      <td>8784.0</td>\n",
              "      <td>2007-05-26 02:30:28</td>\n",
              "      <td>2018-10-27 00:29:49</td>\n",
              "      <td>investor,company</td>\n",
              "      <td>zoho.com</td>\n",
              "      <td>USA</td>\n",
              "      <td>CA</td>\n",
              "      <td>California</td>\n",
              "      <td>Pleasanton</td>\n",
              "      <td>NaN</td>\n",
              "      <td>5.0</td>\n",
              "      <td>NaN</td>\n",
              "      <td>NaN</td>\n",
              "      <td>NaN</td>\n",
              "      <td>1996-09-15</td>\n",
              "      <td>NaN</td>\n",
              "      <td>http://www.facebook.com/zoho</td>\n",
              "      <td>http://www.linkedin.com/company/zoho-corporati...</td>\n",
              "      <td>http://twitter.com/zoho</td>\n",
              "      <td>https://crunchbase-production-res.cloudinary.c...</td>\n",
              "    </tr>\n",
              "    <tr>\n",
              "      <th>1</th>\n",
              "      <td>f4d5ab44-058b-298b-ea81-380e6e9a8eec</td>\n",
              "      <td>Omidyar Network</td>\n",
              "      <td>organization</td>\n",
              "      <td>omidyar-network</td>\n",
              "      <td>https://www.crunchbase.com/organization/omidya...</td>\n",
              "      <td>6849.0</td>\n",
              "      <td>2007-05-26 03:21:34</td>\n",
              "      <td>2019-06-19 12:17:48</td>\n",
              "      <td>investor</td>\n",
              "      <td>omidyar.com</td>\n",
              "      <td>USA</td>\n",
              "      <td>CA</td>\n",
              "      <td>California</td>\n",
              "      <td>Redwood City</td>\n",
              "      <td>family_investment_office</td>\n",
              "      <td>307.0</td>\n",
              "      <td>NaN</td>\n",
              "      <td>NaN</td>\n",
              "      <td>NaN</td>\n",
              "      <td>2004-01-01</td>\n",
              "      <td>NaN</td>\n",
              "      <td>http://www.facebook.com/OmidyarNetwork</td>\n",
              "      <td>http://www.linkedin.com/company/22806</td>\n",
              "      <td>http://twitter.com/OmidyarNetwork</td>\n",
              "      <td>https://crunchbase-production-res.cloudinary.c...</td>\n",
              "    </tr>\n",
              "    <tr>\n",
              "      <th>2</th>\n",
              "      <td>df662812-7f97-0b43-9d3e-12f64f504fbb</td>\n",
              "      <td>Facebook</td>\n",
              "      <td>organization</td>\n",
              "      <td>facebook</td>\n",
              "      <td>https://www.crunchbase.com/organization/facebook</td>\n",
              "      <td>15.0</td>\n",
              "      <td>2007-05-26 04:22:15</td>\n",
              "      <td>2020-03-30 18:33:35</td>\n",
              "      <td>investor,company</td>\n",
              "      <td>facebook.com</td>\n",
              "      <td>USA</td>\n",
              "      <td>CA</td>\n",
              "      <td>California</td>\n",
              "      <td>Menlo Park</td>\n",
              "      <td>NaN</td>\n",
              "      <td>25.0</td>\n",
              "      <td>2.335700e+09</td>\n",
              "      <td>2.335700e+09</td>\n",
              "      <td>USD</td>\n",
              "      <td>2004-02-04</td>\n",
              "      <td>NaN</td>\n",
              "      <td>https://www.facebook.com/facebook/</td>\n",
              "      <td>http://www.linkedin.com/company/facebook</td>\n",
              "      <td>https://twitter.com/facebook</td>\n",
              "      <td>https://crunchbase-production-res.cloudinary.c...</td>\n",
              "    </tr>\n",
              "    <tr>\n",
              "      <th>3</th>\n",
              "      <td>a01b8d46-d311-3333-7c34-aa3ae9c03f22</td>\n",
              "      <td>Mark Zuckerberg</td>\n",
              "      <td>person</td>\n",
              "      <td>mark-zuckerberg</td>\n",
              "      <td>https://www.crunchbase.com/person/mark-zuckerberg</td>\n",
              "      <td>30923.0</td>\n",
              "      <td>2007-05-26 04:51:46</td>\n",
              "      <td>2018-12-13 14:05:34</td>\n",
              "      <td>investor</td>\n",
              "      <td>NaN</td>\n",
              "      <td>USA</td>\n",
              "      <td>CA</td>\n",
              "      <td>California</td>\n",
              "      <td>Palo Alto</td>\n",
              "      <td>investment_partner,angel</td>\n",
              "      <td>8.0</td>\n",
              "      <td>NaN</td>\n",
              "      <td>NaN</td>\n",
              "      <td>NaN</td>\n",
              "      <td>NaN</td>\n",
              "      <td>NaN</td>\n",
              "      <td>https://www.facebook.com/zuck</td>\n",
              "      <td>NaN</td>\n",
              "      <td>https://twitter.com/finkd</td>\n",
              "      <td>https://crunchbase-production-res.cloudinary.c...</td>\n",
              "    </tr>\n",
              "    <tr>\n",
              "      <th>4</th>\n",
              "      <td>084aaa07-0795-1fe8-9c46-98bbeb02cd64</td>\n",
              "      <td>Dustin Moskovitz</td>\n",
              "      <td>person</td>\n",
              "      <td>dustin-moskovitz</td>\n",
              "      <td>https://www.crunchbase.com/person/dustin-mosko...</td>\n",
              "      <td>83347.0</td>\n",
              "      <td>2007-05-26 05:15:05</td>\n",
              "      <td>2019-06-07 20:29:51</td>\n",
              "      <td>investor</td>\n",
              "      <td>NaN</td>\n",
              "      <td>USA</td>\n",
              "      <td>CA</td>\n",
              "      <td>California</td>\n",
              "      <td>San Francisco</td>\n",
              "      <td>angel</td>\n",
              "      <td>12.0</td>\n",
              "      <td>NaN</td>\n",
              "      <td>NaN</td>\n",
              "      <td>NaN</td>\n",
              "      <td>NaN</td>\n",
              "      <td>NaN</td>\n",
              "      <td>http://www.facebook.com/moskov</td>\n",
              "      <td>https://www.linkedin.com/in/dmoskov</td>\n",
              "      <td>http://twitter.com/moskov</td>\n",
              "      <td>https://crunchbase-production-res.cloudinary.c...</td>\n",
              "    </tr>\n",
              "  </tbody>\n",
              "</table>\n",
              "</div>"
            ],
            "text/plain": [
              "                                   uuid  ...                                           logo_url\n",
              "0  bf4d7b0e-b34d-2fd8-d292-6049c4f7efc7  ...  https://crunchbase-production-res.cloudinary.c...\n",
              "1  f4d5ab44-058b-298b-ea81-380e6e9a8eec  ...  https://crunchbase-production-res.cloudinary.c...\n",
              "2  df662812-7f97-0b43-9d3e-12f64f504fbb  ...  https://crunchbase-production-res.cloudinary.c...\n",
              "3  a01b8d46-d311-3333-7c34-aa3ae9c03f22  ...  https://crunchbase-production-res.cloudinary.c...\n",
              "4  084aaa07-0795-1fe8-9c46-98bbeb02cd64  ...  https://crunchbase-production-res.cloudinary.c...\n",
              "\n",
              "[5 rows x 25 columns]"
            ]
          },
          "metadata": {
            "tags": []
          },
          "execution_count": 12
        }
      ]
    },
    {
      "cell_type": "code",
      "metadata": {
        "id": "Y_hOX29AJqoi",
        "colab_type": "code",
        "colab": {
          "base_uri": "https://localhost:8080/",
          "height": 564
        },
        "outputId": "7778a5aa-18d1-48df-976c-60f1cc9b6f9f"
      },
      "source": [
        "df_dict[\"investment_partners\"].head()"
      ],
      "execution_count": null,
      "outputs": [
        {
          "output_type": "execute_result",
          "data": {
            "text/html": [
              "<div>\n",
              "<style scoped>\n",
              "    .dataframe tbody tr th:only-of-type {\n",
              "        vertical-align: middle;\n",
              "    }\n",
              "\n",
              "    .dataframe tbody tr th {\n",
              "        vertical-align: top;\n",
              "    }\n",
              "\n",
              "    .dataframe thead th {\n",
              "        text-align: right;\n",
              "    }\n",
              "</style>\n",
              "<table border=\"1\" class=\"dataframe\">\n",
              "  <thead>\n",
              "    <tr style=\"text-align: right;\">\n",
              "      <th></th>\n",
              "      <th>uuid</th>\n",
              "      <th>name</th>\n",
              "      <th>type</th>\n",
              "      <th>permalink</th>\n",
              "      <th>cb_url</th>\n",
              "      <th>rank</th>\n",
              "      <th>created_at</th>\n",
              "      <th>updated_at</th>\n",
              "      <th>funding_round_uuid</th>\n",
              "      <th>funding_round_name</th>\n",
              "      <th>investor_uuid</th>\n",
              "      <th>investor_name</th>\n",
              "      <th>partner_uuid</th>\n",
              "      <th>partner_name</th>\n",
              "    </tr>\n",
              "  </thead>\n",
              "  <tbody>\n",
              "    <tr>\n",
              "      <th>0</th>\n",
              "      <td>524986f0-3049-54a4-fa72-f60897a5e61d</td>\n",
              "      <td>Accel investment in Series A - Facebook</td>\n",
              "      <td>investment</td>\n",
              "      <td>accel-invested-in-facebook-series-a--d950d7a5-...</td>\n",
              "      <td>https://www.crunchbase.com/investment/accel-in...</td>\n",
              "      <td>NaN</td>\n",
              "      <td>2007-05-27 06:09:10</td>\n",
              "      <td>2018-02-13 00:52:57</td>\n",
              "      <td>d950d7a5-79ff-fb93-ca87-13386b0e2feb</td>\n",
              "      <td>Series A - Facebook</td>\n",
              "      <td>b08efc27-da40-505a-6f9d-c9e14247bf36</td>\n",
              "      <td>Accel</td>\n",
              "      <td>2d78d1e7-203c-3eb6-bf1b-c51f10e0679b</td>\n",
              "      <td>Jim Breyer</td>\n",
              "    </tr>\n",
              "    <tr>\n",
              "      <th>1</th>\n",
              "      <td>524986f0-3049-54a4-fa72-f60897a5e61d</td>\n",
              "      <td>Accel investment in Series A - Facebook</td>\n",
              "      <td>investment</td>\n",
              "      <td>accel-invested-in-facebook-series-a--d950d7a5-...</td>\n",
              "      <td>https://www.crunchbase.com/investment/accel-in...</td>\n",
              "      <td>NaN</td>\n",
              "      <td>2007-05-27 06:09:10</td>\n",
              "      <td>2018-02-13 00:52:57</td>\n",
              "      <td>d950d7a5-79ff-fb93-ca87-13386b0e2feb</td>\n",
              "      <td>Series A - Facebook</td>\n",
              "      <td>b08efc27-da40-505a-6f9d-c9e14247bf36</td>\n",
              "      <td>Accel</td>\n",
              "      <td>eaf6c243-d355-32f3-e23a-2a5fc82e8b34</td>\n",
              "      <td>Kevin Efrusy</td>\n",
              "    </tr>\n",
              "    <tr>\n",
              "      <th>2</th>\n",
              "      <td>6556ab92-6465-25aa-1ffc-7f8b4b09a476</td>\n",
              "      <td>Greylock investment in Series B - Facebook</td>\n",
              "      <td>investment</td>\n",
              "      <td>greylock-invested-in-facebook-series-b--6fae39...</td>\n",
              "      <td>https://www.crunchbase.com/investment/greylock...</td>\n",
              "      <td>NaN</td>\n",
              "      <td>2007-05-27 06:09:36</td>\n",
              "      <td>2018-02-13 00:53:20</td>\n",
              "      <td>6fae3958-a001-27c0-fb7e-666266aedd78</td>\n",
              "      <td>Series B - Facebook</td>\n",
              "      <td>e2006571-6b7a-e477-002a-f7014f48a7e3</td>\n",
              "      <td>Greylock</td>\n",
              "      <td>478e7efd-bec4-b9f5-304b-cffedc1fc012</td>\n",
              "      <td>David Sze</td>\n",
              "    </tr>\n",
              "    <tr>\n",
              "      <th>3</th>\n",
              "      <td>0216e06a-61f8-9cf1-19ba-20811229c53e</td>\n",
              "      <td>Meritech Capital Partners investment in Series...</td>\n",
              "      <td>investment</td>\n",
              "      <td>meritech-capital-partners-invested-in-facebook...</td>\n",
              "      <td>https://www.crunchbase.com/investment/meritech...</td>\n",
              "      <td>NaN</td>\n",
              "      <td>2007-05-27 06:09:36</td>\n",
              "      <td>2019-03-27 19:50:32</td>\n",
              "      <td>6fae3958-a001-27c0-fb7e-666266aedd78</td>\n",
              "      <td>Series B - Facebook</td>\n",
              "      <td>8d5c7e48-82da-3025-dd46-346a31bab86f</td>\n",
              "      <td>Meritech Capital Partners</td>\n",
              "      <td>0f9f3c05-cb79-f58f-6cc5-98ddc8382d4f</td>\n",
              "      <td>Paul Madera</td>\n",
              "    </tr>\n",
              "    <tr>\n",
              "      <th>4</th>\n",
              "      <td>dadd7d86-520d-5e35-3033-fc1d8792ab91</td>\n",
              "      <td>Trinity Ventures investment in Series B - Phot...</td>\n",
              "      <td>investment</td>\n",
              "      <td>trinity-ventures-invested-in-photobucket-serie...</td>\n",
              "      <td>https://www.crunchbase.com/investment/trinity-...</td>\n",
              "      <td>NaN</td>\n",
              "      <td>2007-05-29 11:05:59</td>\n",
              "      <td>2018-02-13 00:55:58</td>\n",
              "      <td>bcd5a63d-ed99-6963-0dd2-e36f6582f846</td>\n",
              "      <td>Series B - Photobucket</td>\n",
              "      <td>7ca12f7a-2f8e-48b4-a8d1-1a33a0e275b9</td>\n",
              "      <td>Trinity Ventures</td>\n",
              "      <td>ea9f4980-600c-84f4-a5d6-b4f8c2f787fb</td>\n",
              "      <td>Gus Tai</td>\n",
              "    </tr>\n",
              "  </tbody>\n",
              "</table>\n",
              "</div>"
            ],
            "text/plain": [
              "                                   uuid  ...  partner_name\n",
              "0  524986f0-3049-54a4-fa72-f60897a5e61d  ...    Jim Breyer\n",
              "1  524986f0-3049-54a4-fa72-f60897a5e61d  ...  Kevin Efrusy\n",
              "2  6556ab92-6465-25aa-1ffc-7f8b4b09a476  ...     David Sze\n",
              "3  0216e06a-61f8-9cf1-19ba-20811229c53e  ...   Paul Madera\n",
              "4  dadd7d86-520d-5e35-3033-fc1d8792ab91  ...       Gus Tai\n",
              "\n",
              "[5 rows x 14 columns]"
            ]
          },
          "metadata": {
            "tags": []
          },
          "execution_count": 13
        }
      ]
    },
    {
      "cell_type": "code",
      "metadata": {
        "id": "zw69p3pAKHFs",
        "colab_type": "code",
        "colab": {
          "base_uri": "https://localhost:8080/",
          "height": 615
        },
        "outputId": "f9d84d4d-4144-4d87-c858-72bc8f588ab4"
      },
      "source": [
        "df_dict['funds'].head()"
      ],
      "execution_count": null,
      "outputs": [
        {
          "output_type": "execute_result",
          "data": {
            "text/html": [
              "<div>\n",
              "<style scoped>\n",
              "    .dataframe tbody tr th:only-of-type {\n",
              "        vertical-align: middle;\n",
              "    }\n",
              "\n",
              "    .dataframe tbody tr th {\n",
              "        vertical-align: top;\n",
              "    }\n",
              "\n",
              "    .dataframe thead th {\n",
              "        text-align: right;\n",
              "    }\n",
              "</style>\n",
              "<table border=\"1\" class=\"dataframe\">\n",
              "  <thead>\n",
              "    <tr style=\"text-align: right;\">\n",
              "      <th></th>\n",
              "      <th>uuid</th>\n",
              "      <th>name</th>\n",
              "      <th>type</th>\n",
              "      <th>permalink</th>\n",
              "      <th>cb_url</th>\n",
              "      <th>rank</th>\n",
              "      <th>created_at</th>\n",
              "      <th>updated_at</th>\n",
              "      <th>entity_uuid</th>\n",
              "      <th>entity_name</th>\n",
              "      <th>entity_type</th>\n",
              "      <th>announced_on</th>\n",
              "      <th>raised_amount_usd</th>\n",
              "      <th>raised_amount</th>\n",
              "      <th>raised_amount_currency_code</th>\n",
              "    </tr>\n",
              "  </thead>\n",
              "  <tbody>\n",
              "    <tr>\n",
              "      <th>0</th>\n",
              "      <td>8190b28a-3c78-0ac4-1e7c-f0b5edce4b2e</td>\n",
              "      <td>DFJ Dragon Second Fund</td>\n",
              "      <td>fund</td>\n",
              "      <td>dfj-dragonfund-raised-dfj-dragon-second-fund--...</td>\n",
              "      <td>https://www.crunchbase.com/fund/dfj-dragonfund...</td>\n",
              "      <td>NaN</td>\n",
              "      <td>2008-12-17 03:07:16</td>\n",
              "      <td>2018-02-12 23:51:25</td>\n",
              "      <td>fe743289-a4aa-a470-00d8-bbe937e0955b</td>\n",
              "      <td>DFJ DragonFund</td>\n",
              "      <td>organization</td>\n",
              "      <td>2008-12-16</td>\n",
              "      <td>300000000.0</td>\n",
              "      <td>300000000.0</td>\n",
              "      <td>USD</td>\n",
              "    </tr>\n",
              "    <tr>\n",
              "      <th>1</th>\n",
              "      <td>cbb6644a-eafb-4686-5505-61f32e1c3638</td>\n",
              "      <td>Sequoia Israel Fund IV</td>\n",
              "      <td>fund</td>\n",
              "      <td>sequoia-capital-raised-sequoia-israel-fund-iv-...</td>\n",
              "      <td>https://www.crunchbase.com/fund/sequoia-capita...</td>\n",
              "      <td>NaN</td>\n",
              "      <td>2008-12-18 22:04:42</td>\n",
              "      <td>2018-02-13 00:38:07</td>\n",
              "      <td>0c867fde-2b9a-df10-fdb9-66b74f355f91</td>\n",
              "      <td>Sequoia Capital</td>\n",
              "      <td>organization</td>\n",
              "      <td>2008-12-17</td>\n",
              "      <td>200750000.0</td>\n",
              "      <td>200750000.0</td>\n",
              "      <td>USD</td>\n",
              "    </tr>\n",
              "    <tr>\n",
              "      <th>2</th>\n",
              "      <td>19fa5c4f-23c3-8c03-2b37-bcd0334505c9</td>\n",
              "      <td>InterWest Tenth Fund</td>\n",
              "      <td>fund</td>\n",
              "      <td>interwest-partners-raised-interwest-tenth-fund...</td>\n",
              "      <td>https://www.crunchbase.com/fund/interwest-part...</td>\n",
              "      <td>NaN</td>\n",
              "      <td>2008-12-31 09:47:51</td>\n",
              "      <td>2018-02-12 23:51:04</td>\n",
              "      <td>3eb9d040-1487-8d0e-4db8-72ec93ce32a5</td>\n",
              "      <td>InterWest Partners</td>\n",
              "      <td>organization</td>\n",
              "      <td>2008-08-11</td>\n",
              "      <td>650000000.0</td>\n",
              "      <td>650000000.0</td>\n",
              "      <td>USD</td>\n",
              "    </tr>\n",
              "    <tr>\n",
              "      <th>3</th>\n",
              "      <td>e803081d-0974-eda7-ab5f-c0f1a0a432fe</td>\n",
              "      <td>U.S. Venture Partners X</td>\n",
              "      <td>fund</td>\n",
              "      <td>us-venture-partners-raised-u-s--venture-partne...</td>\n",
              "      <td>https://www.crunchbase.com/fund/us-venture-par...</td>\n",
              "      <td>NaN</td>\n",
              "      <td>2009-01-01 18:13:44</td>\n",
              "      <td>2018-02-12 23:46:44</td>\n",
              "      <td>a2b35e8b-e3e9-883b-8a07-38e6ef57d726</td>\n",
              "      <td>U.S. Venture Partners (USVP)</td>\n",
              "      <td>organization</td>\n",
              "      <td>2008-07-07</td>\n",
              "      <td>625000000.0</td>\n",
              "      <td>625000000.0</td>\n",
              "      <td>USD</td>\n",
              "    </tr>\n",
              "    <tr>\n",
              "      <th>4</th>\n",
              "      <td>49a5722a-084c-3466-fd90-37e885c800b1</td>\n",
              "      <td>Inventus Capital Partners Fund I LP</td>\n",
              "      <td>fund</td>\n",
              "      <td>inventus-capital-partners-raised-inventus-capi...</td>\n",
              "      <td>https://www.crunchbase.com/fund/inventus-capit...</td>\n",
              "      <td>NaN</td>\n",
              "      <td>2009-01-06 18:58:58</td>\n",
              "      <td>2018-02-12 23:35:11</td>\n",
              "      <td>c00d6191-2fbe-f796-54b3-fab074445635</td>\n",
              "      <td>Inventus Capital Partners</td>\n",
              "      <td>organization</td>\n",
              "      <td>2007-12-04</td>\n",
              "      <td>51750000.0</td>\n",
              "      <td>51750000.0</td>\n",
              "      <td>USD</td>\n",
              "    </tr>\n",
              "  </tbody>\n",
              "</table>\n",
              "</div>"
            ],
            "text/plain": [
              "                                   uuid  ... raised_amount_currency_code\n",
              "0  8190b28a-3c78-0ac4-1e7c-f0b5edce4b2e  ...                         USD\n",
              "1  cbb6644a-eafb-4686-5505-61f32e1c3638  ...                         USD\n",
              "2  19fa5c4f-23c3-8c03-2b37-bcd0334505c9  ...                         USD\n",
              "3  e803081d-0974-eda7-ab5f-c0f1a0a432fe  ...                         USD\n",
              "4  49a5722a-084c-3466-fd90-37e885c800b1  ...                         USD\n",
              "\n",
              "[5 rows x 15 columns]"
            ]
          },
          "metadata": {
            "tags": []
          },
          "execution_count": 16
        }
      ]
    },
    {
      "cell_type": "code",
      "metadata": {
        "id": "lyPLw8YM19wb",
        "colab_type": "code",
        "colab": {}
      },
      "source": [
        "# df_dict[\"ipos\"].head()"
      ],
      "execution_count": null,
      "outputs": []
    },
    {
      "cell_type": "code",
      "metadata": {
        "id": "243VwiXX19we",
        "colab_type": "code",
        "colab": {}
      },
      "source": [
        "# df_dict[\"acquisitions\"].head()"
      ],
      "execution_count": null,
      "outputs": []
    },
    {
      "cell_type": "code",
      "metadata": {
        "id": "0TAL-igV19wg",
        "colab_type": "code",
        "colab": {}
      },
      "source": [
        "# df_dict[\"category_groups\"].head()"
      ],
      "execution_count": null,
      "outputs": []
    },
    {
      "cell_type": "code",
      "metadata": {
        "id": "sKa8iT6z19wi",
        "colab_type": "code",
        "colab": {}
      },
      "source": [
        "# df_dict[\"events\"].head()"
      ],
      "execution_count": null,
      "outputs": []
    },
    {
      "cell_type": "code",
      "metadata": {
        "id": "Hax8hdxHgow5",
        "colab_type": "code",
        "colab": {
          "base_uri": "https://localhost:8080/",
          "height": 111
        },
        "outputId": "a523c060-7f64-4286-e36c-164151d26f03"
      },
      "source": [
        "# timeline = pd.read_csv(\"/content/drive/My Drive/vc_modeling/data/timeline.csv\")\n",
        "# timeline.head(2)"
      ],
      "execution_count": null,
      "outputs": [
        {
          "output_type": "execute_result",
          "data": {
            "text/html": [
              "<div>\n",
              "<style scoped>\n",
              "    .dataframe tbody tr th:only-of-type {\n",
              "        vertical-align: middle;\n",
              "    }\n",
              "\n",
              "    .dataframe tbody tr th {\n",
              "        vertical-align: top;\n",
              "    }\n",
              "\n",
              "    .dataframe thead th {\n",
              "        text-align: right;\n",
              "    }\n",
              "</style>\n",
              "<table border=\"1\" class=\"dataframe\">\n",
              "  <thead>\n",
              "    <tr style=\"text-align: right;\">\n",
              "      <th></th>\n",
              "      <th>org_uuid</th>\n",
              "      <th>date</th>\n",
              "      <th>valuation</th>\n",
              "      <th>event</th>\n",
              "      <th>is_succeeding</th>\n",
              "      <th>has_succeeded</th>\n",
              "    </tr>\n",
              "  </thead>\n",
              "  <tbody>\n",
              "    <tr>\n",
              "      <th>0</th>\n",
              "      <td>00000aa4-ba42-9b68-a9c3-040c9f3bf9b9</td>\n",
              "      <td>2013-02-25</td>\n",
              "      <td>NaN</td>\n",
              "      <td>lbo</td>\n",
              "      <td>False</td>\n",
              "      <td>False</td>\n",
              "    </tr>\n",
              "    <tr>\n",
              "      <th>1</th>\n",
              "      <td>00000aa4-ba42-9b68-a9c3-040c9f3bf9b9</td>\n",
              "      <td>2017-05-12</td>\n",
              "      <td>NaN</td>\n",
              "      <td>acquisition</td>\n",
              "      <td>False</td>\n",
              "      <td>False</td>\n",
              "    </tr>\n",
              "  </tbody>\n",
              "</table>\n",
              "</div>"
            ],
            "text/plain": [
              "                               org_uuid  ... has_succeeded\n",
              "0  00000aa4-ba42-9b68-a9c3-040c9f3bf9b9  ...         False\n",
              "1  00000aa4-ba42-9b68-a9c3-040c9f3bf9b9  ...         False\n",
              "\n",
              "[2 rows x 6 columns]"
            ]
          },
          "metadata": {
            "tags": []
          },
          "execution_count": 4
        }
      ]
    },
    {
      "cell_type": "markdown",
      "metadata": {
        "id": "kh8mEKEcJ9Id",
        "colab_type": "text"
      },
      "source": [
        "# Create investor features"
      ]
    },
    {
      "cell_type": "code",
      "metadata": {
        "id": "72SXGAZxLM8A",
        "colab_type": "code",
        "colab": {
          "base_uri": "https://localhost:8080/",
          "height": 34
        },
        "outputId": "092d77f7-d6a9-41e2-82be-ee227f7ccc6f"
      },
      "source": [
        "df_dict.keys()"
      ],
      "execution_count": null,
      "outputs": [
        {
          "output_type": "execute_result",
          "data": {
            "text/plain": [
              "dict_keys(['funding_rounds', 'investors', 'investment_partners', 'organizations', 'org_parents', 'funds', 'investments'])"
            ]
          },
          "metadata": {
            "tags": []
          },
          "execution_count": 20
        }
      ]
    },
    {
      "cell_type": "markdown",
      "metadata": {
        "id": "2IyNGOk7KmUy",
        "colab_type": "text"
      },
      "source": [
        "N unique investors"
      ]
    },
    {
      "cell_type": "code",
      "metadata": {
        "id": "5nZxgzqOKut6",
        "colab_type": "code",
        "colab": {
          "base_uri": "https://localhost:8080/",
          "height": 187
        },
        "outputId": "502419c7-600f-4155-bae3-eb4b88757446"
      },
      "source": [
        "funding_rounds_cols = ['uuid', 'rank', 'investment_type', 'announced_on', 'raised_amount_usd', \n",
        "                       'post_money_valuation_usd', 'investor_count', 'org_uuid', 'lead_investor_uuids']\n",
        "\n",
        "df_dict['funding_rounds']['lead_investor_uuids'] = df_dict['funding_rounds']['lead_investor_uuids'].str.split(\",\")\n",
        "df_dict['funding_rounds'] = df_dict['funding_rounds'].explode('lead_investor_uuids')\n",
        "funding_rounds_df = deepcopy(df_dict['funding_rounds'][funding_rounds_cols])\n",
        "funding_rounds_df.rename({'uuid':'funding_round_uuid', 'lead_investor_uuids':'lead_investor_uuid'}, axis=1, inplace=True)\n",
        "\n",
        "# late_rounds = ['series_' + x for x in 'c,d,e,f,g,h,i,j,unknown'.split(\",\")] + ['undisclosed']\n",
        "# funding_rounds_df = funding_rounds_df[~funding_rounds_df['investment_type'].isin(late_rounds)]\n",
        "# funding_rounds_df = pd.concat([funding_rounds_df, pd.get_dummies(funding_rounds_df['investment_type'])], axis=1)\n",
        "\n",
        "funding_rounds_df.head(3)"
      ],
      "execution_count": 11,
      "outputs": [
        {
          "output_type": "execute_result",
          "data": {
            "text/html": [
              "<div>\n",
              "<style scoped>\n",
              "    .dataframe tbody tr th:only-of-type {\n",
              "        vertical-align: middle;\n",
              "    }\n",
              "\n",
              "    .dataframe tbody tr th {\n",
              "        vertical-align: top;\n",
              "    }\n",
              "\n",
              "    .dataframe thead th {\n",
              "        text-align: right;\n",
              "    }\n",
              "</style>\n",
              "<table border=\"1\" class=\"dataframe\">\n",
              "  <thead>\n",
              "    <tr style=\"text-align: right;\">\n",
              "      <th></th>\n",
              "      <th>funding_round_uuid</th>\n",
              "      <th>rank</th>\n",
              "      <th>investment_type</th>\n",
              "      <th>announced_on</th>\n",
              "      <th>raised_amount_usd</th>\n",
              "      <th>post_money_valuation_usd</th>\n",
              "      <th>investor_count</th>\n",
              "      <th>org_uuid</th>\n",
              "      <th>lead_investor_uuid</th>\n",
              "    </tr>\n",
              "  </thead>\n",
              "  <tbody>\n",
              "    <tr>\n",
              "      <th>0</th>\n",
              "      <td>8a945939-18e0-cc9d-27b9-bf33817b2818</td>\n",
              "      <td>143236.0</td>\n",
              "      <td>angel</td>\n",
              "      <td>2004-09-01</td>\n",
              "      <td>500000.0</td>\n",
              "      <td>NaN</td>\n",
              "      <td>4.0</td>\n",
              "      <td>df662812-7f97-0b43-9d3e-12f64f504fbb</td>\n",
              "      <td>3f47be49-2e32-8118-01a0-31685a4d0fd7</td>\n",
              "    </tr>\n",
              "    <tr>\n",
              "      <th>1</th>\n",
              "      <td>d950d7a5-79ff-fb93-ca87-13386b0e2feb</td>\n",
              "      <td>145939.0</td>\n",
              "      <td>series_a</td>\n",
              "      <td>2005-05-01</td>\n",
              "      <td>12700000.0</td>\n",
              "      <td>98000000.0</td>\n",
              "      <td>4.0</td>\n",
              "      <td>df662812-7f97-0b43-9d3e-12f64f504fbb</td>\n",
              "      <td>b08efc27-da40-505a-6f9d-c9e14247bf36</td>\n",
              "    </tr>\n",
              "    <tr>\n",
              "      <th>2</th>\n",
              "      <td>6fae3958-a001-27c0-fb7e-666266aedd78</td>\n",
              "      <td>273250.0</td>\n",
              "      <td>series_b</td>\n",
              "      <td>2006-04-01</td>\n",
              "      <td>27500000.0</td>\n",
              "      <td>502500000.0</td>\n",
              "      <td>5.0</td>\n",
              "      <td>df662812-7f97-0b43-9d3e-12f64f504fbb</td>\n",
              "      <td>e2006571-6b7a-e477-002a-f7014f48a7e3</td>\n",
              "    </tr>\n",
              "  </tbody>\n",
              "</table>\n",
              "</div>"
            ],
            "text/plain": [
              "                     funding_round_uuid  ...                    lead_investor_uuid\n",
              "0  8a945939-18e0-cc9d-27b9-bf33817b2818  ...  3f47be49-2e32-8118-01a0-31685a4d0fd7\n",
              "1  d950d7a5-79ff-fb93-ca87-13386b0e2feb  ...  b08efc27-da40-505a-6f9d-c9e14247bf36\n",
              "2  6fae3958-a001-27c0-fb7e-666266aedd78  ...  e2006571-6b7a-e477-002a-f7014f48a7e3\n",
              "\n",
              "[3 rows x 9 columns]"
            ]
          },
          "metadata": {
            "tags": []
          },
          "execution_count": 11
        }
      ]
    },
    {
      "cell_type": "code",
      "metadata": {
        "id": "NIVzMedzjUVe",
        "colab_type": "code",
        "colab": {
          "base_uri": "https://localhost:8080/",
          "height": 267
        },
        "outputId": "1f937325-b3e1-487b-f5da-8a53d0b2248e"
      },
      "source": [
        "df_dict['investments'].head(2)"
      ],
      "execution_count": null,
      "outputs": [
        {
          "output_type": "execute_result",
          "data": {
            "text/html": [
              "<div>\n",
              "<style scoped>\n",
              "    .dataframe tbody tr th:only-of-type {\n",
              "        vertical-align: middle;\n",
              "    }\n",
              "\n",
              "    .dataframe tbody tr th {\n",
              "        vertical-align: top;\n",
              "    }\n",
              "\n",
              "    .dataframe thead th {\n",
              "        text-align: right;\n",
              "    }\n",
              "</style>\n",
              "<table border=\"1\" class=\"dataframe\">\n",
              "  <thead>\n",
              "    <tr style=\"text-align: right;\">\n",
              "      <th></th>\n",
              "      <th>uuid</th>\n",
              "      <th>name</th>\n",
              "      <th>type</th>\n",
              "      <th>permalink</th>\n",
              "      <th>cb_url</th>\n",
              "      <th>rank</th>\n",
              "      <th>created_at</th>\n",
              "      <th>updated_at</th>\n",
              "      <th>funding_round_uuid</th>\n",
              "      <th>funding_round_name</th>\n",
              "      <th>investor_uuid</th>\n",
              "      <th>investor_name</th>\n",
              "      <th>investor_type</th>\n",
              "      <th>is_lead_investor</th>\n",
              "    </tr>\n",
              "  </thead>\n",
              "  <tbody>\n",
              "    <tr>\n",
              "      <th>0</th>\n",
              "      <td>524986f0-3049-54a4-fa72-f60897a5e61d</td>\n",
              "      <td>Accel investment in Series A - Facebook</td>\n",
              "      <td>investment</td>\n",
              "      <td>accel-invested-in-facebook-series-a--d950d7a5-...</td>\n",
              "      <td>https://www.crunchbase.com/investment/accel-in...</td>\n",
              "      <td>NaN</td>\n",
              "      <td>2007-05-27 06:09:10</td>\n",
              "      <td>2018-02-13 00:52:57</td>\n",
              "      <td>d950d7a5-79ff-fb93-ca87-13386b0e2feb</td>\n",
              "      <td>Series A - Facebook</td>\n",
              "      <td>b08efc27-da40-505a-6f9d-c9e14247bf36</td>\n",
              "      <td>Accel</td>\n",
              "      <td>organization</td>\n",
              "      <td>True</td>\n",
              "    </tr>\n",
              "    <tr>\n",
              "      <th>1</th>\n",
              "      <td>6556ab92-6465-25aa-1ffc-7f8b4b09a476</td>\n",
              "      <td>Greylock investment in Series B - Facebook</td>\n",
              "      <td>investment</td>\n",
              "      <td>greylock-invested-in-facebook-series-b--6fae39...</td>\n",
              "      <td>https://www.crunchbase.com/investment/greylock...</td>\n",
              "      <td>NaN</td>\n",
              "      <td>2007-05-27 06:09:36</td>\n",
              "      <td>2018-02-13 00:53:20</td>\n",
              "      <td>6fae3958-a001-27c0-fb7e-666266aedd78</td>\n",
              "      <td>Series B - Facebook</td>\n",
              "      <td>e2006571-6b7a-e477-002a-f7014f48a7e3</td>\n",
              "      <td>Greylock</td>\n",
              "      <td>organization</td>\n",
              "      <td>True</td>\n",
              "    </tr>\n",
              "  </tbody>\n",
              "</table>\n",
              "</div>"
            ],
            "text/plain": [
              "                                   uuid  ... is_lead_investor\n",
              "0  524986f0-3049-54a4-fa72-f60897a5e61d  ...             True\n",
              "1  6556ab92-6465-25aa-1ffc-7f8b4b09a476  ...             True\n",
              "\n",
              "[2 rows x 14 columns]"
            ]
          },
          "metadata": {
            "tags": []
          },
          "execution_count": 72
        }
      ]
    },
    {
      "cell_type": "code",
      "metadata": {
        "id": "JhsHZcqEKoBw",
        "colab_type": "code",
        "colab": {
          "base_uri": "https://localhost:8080/",
          "height": 85
        },
        "outputId": "ca607102-4203-413c-b58d-835f4280a46b"
      },
      "source": [
        "df_dict['investments'].columns"
      ],
      "execution_count": null,
      "outputs": [
        {
          "output_type": "execute_result",
          "data": {
            "text/plain": [
              "Index(['uuid', 'name', 'type', 'permalink', 'cb_url', 'rank', 'created_at',\n",
              "       'updated_at', 'funding_round_uuid', 'funding_round_name',\n",
              "       'investor_uuid', 'investor_name', 'investor_type', 'is_lead_investor'],\n",
              "      dtype='object')"
            ]
          },
          "metadata": {
            "tags": []
          },
          "execution_count": 17
        }
      ]
    },
    {
      "cell_type": "code",
      "metadata": {
        "id": "XiIpm-k4mU_M",
        "colab_type": "code",
        "colab": {
          "base_uri": "https://localhost:8080/",
          "height": 197
        },
        "outputId": "39a8d5de-dda7-4806-8524-584ea339f22c"
      },
      "source": [
        "investments_cols = ['funding_round_uuid', 'investor_uuid', 'is_lead_investor']\n",
        "\n",
        "investments_df = df_dict['investments'][\n",
        "  df_dict['investments']['investor_type'] == 'organization'][investments_cols]\n",
        "investments_df['is_lead_investor'] *= 1.0\n",
        "\n",
        "investments_df.head()"
      ],
      "execution_count": 12,
      "outputs": [
        {
          "output_type": "execute_result",
          "data": {
            "text/html": [
              "<div>\n",
              "<style scoped>\n",
              "    .dataframe tbody tr th:only-of-type {\n",
              "        vertical-align: middle;\n",
              "    }\n",
              "\n",
              "    .dataframe tbody tr th {\n",
              "        vertical-align: top;\n",
              "    }\n",
              "\n",
              "    .dataframe thead th {\n",
              "        text-align: right;\n",
              "    }\n",
              "</style>\n",
              "<table border=\"1\" class=\"dataframe\">\n",
              "  <thead>\n",
              "    <tr style=\"text-align: right;\">\n",
              "      <th></th>\n",
              "      <th>funding_round_uuid</th>\n",
              "      <th>investor_uuid</th>\n",
              "      <th>is_lead_investor</th>\n",
              "    </tr>\n",
              "  </thead>\n",
              "  <tbody>\n",
              "    <tr>\n",
              "      <th>0</th>\n",
              "      <td>d950d7a5-79ff-fb93-ca87-13386b0e2feb</td>\n",
              "      <td>b08efc27-da40-505a-6f9d-c9e14247bf36</td>\n",
              "      <td>1</td>\n",
              "    </tr>\n",
              "    <tr>\n",
              "      <th>1</th>\n",
              "      <td>6fae3958-a001-27c0-fb7e-666266aedd78</td>\n",
              "      <td>e2006571-6b7a-e477-002a-f7014f48a7e3</td>\n",
              "      <td>1</td>\n",
              "    </tr>\n",
              "    <tr>\n",
              "      <th>2</th>\n",
              "      <td>6fae3958-a001-27c0-fb7e-666266aedd78</td>\n",
              "      <td>8d5c7e48-82da-3025-dd46-346a31bab86f</td>\n",
              "      <td>1</td>\n",
              "    </tr>\n",
              "    <tr>\n",
              "      <th>3</th>\n",
              "      <td>bcd5a63d-ed99-6963-0dd2-e36f6582f846</td>\n",
              "      <td>7ca12f7a-2f8e-48b4-a8d1-1a33a0e275b9</td>\n",
              "      <td>NaN</td>\n",
              "    </tr>\n",
              "    <tr>\n",
              "      <th>4</th>\n",
              "      <td>60e6afd9-1215-465a-dd17-0ed600d4e29b</td>\n",
              "      <td>fb2f8884-ec07-895a-48d7-d9a9d4d7175c</td>\n",
              "      <td>1</td>\n",
              "    </tr>\n",
              "  </tbody>\n",
              "</table>\n",
              "</div>"
            ],
            "text/plain": [
              "                     funding_round_uuid  ... is_lead_investor\n",
              "0  d950d7a5-79ff-fb93-ca87-13386b0e2feb  ...                1\n",
              "1  6fae3958-a001-27c0-fb7e-666266aedd78  ...                1\n",
              "2  6fae3958-a001-27c0-fb7e-666266aedd78  ...                1\n",
              "3  bcd5a63d-ed99-6963-0dd2-e36f6582f846  ...              NaN\n",
              "4  60e6afd9-1215-465a-dd17-0ed600d4e29b  ...                1\n",
              "\n",
              "[5 rows x 3 columns]"
            ]
          },
          "metadata": {
            "tags": []
          },
          "execution_count": 12
        }
      ]
    },
    {
      "cell_type": "code",
      "metadata": {
        "id": "Ynj1LlUVOKzi",
        "colab_type": "code",
        "colab": {
          "base_uri": "https://localhost:8080/",
          "height": 107
        },
        "outputId": "f505c1e2-9fdd-49c7-ccff-b2c1d288b484"
      },
      "source": [
        "org_investors = funding_rounds_df[['funding_round_uuid', 'org_uuid']].merge(investments_df, on=['funding_round_uuid'])\n",
        "org_investors.head(2)"
      ],
      "execution_count": 13,
      "outputs": [
        {
          "output_type": "execute_result",
          "data": {
            "text/html": [
              "<div>\n",
              "<style scoped>\n",
              "    .dataframe tbody tr th:only-of-type {\n",
              "        vertical-align: middle;\n",
              "    }\n",
              "\n",
              "    .dataframe tbody tr th {\n",
              "        vertical-align: top;\n",
              "    }\n",
              "\n",
              "    .dataframe thead th {\n",
              "        text-align: right;\n",
              "    }\n",
              "</style>\n",
              "<table border=\"1\" class=\"dataframe\">\n",
              "  <thead>\n",
              "    <tr style=\"text-align: right;\">\n",
              "      <th></th>\n",
              "      <th>funding_round_uuid</th>\n",
              "      <th>org_uuid</th>\n",
              "      <th>investor_uuid</th>\n",
              "      <th>is_lead_investor</th>\n",
              "    </tr>\n",
              "  </thead>\n",
              "  <tbody>\n",
              "    <tr>\n",
              "      <th>0</th>\n",
              "      <td>8a945939-18e0-cc9d-27b9-bf33817b2818</td>\n",
              "      <td>df662812-7f97-0b43-9d3e-12f64f504fbb</td>\n",
              "      <td>321aaefe-527e-a56e-85cd-641bd83cd866</td>\n",
              "      <td>0</td>\n",
              "    </tr>\n",
              "    <tr>\n",
              "      <th>1</th>\n",
              "      <td>d950d7a5-79ff-fb93-ca87-13386b0e2feb</td>\n",
              "      <td>df662812-7f97-0b43-9d3e-12f64f504fbb</td>\n",
              "      <td>b08efc27-da40-505a-6f9d-c9e14247bf36</td>\n",
              "      <td>1</td>\n",
              "    </tr>\n",
              "  </tbody>\n",
              "</table>\n",
              "</div>"
            ],
            "text/plain": [
              "                     funding_round_uuid  ... is_lead_investor\n",
              "0  8a945939-18e0-cc9d-27b9-bf33817b2818  ...                0\n",
              "1  d950d7a5-79ff-fb93-ca87-13386b0e2feb  ...                1\n",
              "\n",
              "[2 rows x 4 columns]"
            ]
          },
          "metadata": {
            "tags": []
          },
          "execution_count": 13
        }
      ]
    },
    {
      "cell_type": "code",
      "metadata": {
        "id": "QBvwhwy4OABS",
        "colab_type": "code",
        "colab": {
          "base_uri": "https://localhost:8080/",
          "height": 111
        },
        "outputId": "e97bc4fc-9bc5-4c6a-c5f3-f06fc44ddf10"
      },
      "source": [
        "org_unique_investors = org_investors[['org_uuid', 'investor_uuid']].drop_duplicates()\n",
        "org_unique_investors.head(2)"
      ],
      "execution_count": null,
      "outputs": [
        {
          "output_type": "execute_result",
          "data": {
            "text/html": [
              "<div>\n",
              "<style scoped>\n",
              "    .dataframe tbody tr th:only-of-type {\n",
              "        vertical-align: middle;\n",
              "    }\n",
              "\n",
              "    .dataframe tbody tr th {\n",
              "        vertical-align: top;\n",
              "    }\n",
              "\n",
              "    .dataframe thead th {\n",
              "        text-align: right;\n",
              "    }\n",
              "</style>\n",
              "<table border=\"1\" class=\"dataframe\">\n",
              "  <thead>\n",
              "    <tr style=\"text-align: right;\">\n",
              "      <th></th>\n",
              "      <th>org_uuid</th>\n",
              "      <th>investor_uuid</th>\n",
              "    </tr>\n",
              "  </thead>\n",
              "  <tbody>\n",
              "    <tr>\n",
              "      <th>0</th>\n",
              "      <td>df662812-7f97-0b43-9d3e-12f64f504fbb</td>\n",
              "      <td>321aaefe-527e-a56e-85cd-641bd83cd866</td>\n",
              "    </tr>\n",
              "    <tr>\n",
              "      <th>1</th>\n",
              "      <td>df662812-7f97-0b43-9d3e-12f64f504fbb</td>\n",
              "      <td>b08efc27-da40-505a-6f9d-c9e14247bf36</td>\n",
              "    </tr>\n",
              "  </tbody>\n",
              "</table>\n",
              "</div>"
            ],
            "text/plain": [
              "                               org_uuid                         investor_uuid\n",
              "0  df662812-7f97-0b43-9d3e-12f64f504fbb  321aaefe-527e-a56e-85cd-641bd83cd866\n",
              "1  df662812-7f97-0b43-9d3e-12f64f504fbb  b08efc27-da40-505a-6f9d-c9e14247bf36"
            ]
          },
          "metadata": {
            "tags": []
          },
          "execution_count": 43
        }
      ]
    },
    {
      "cell_type": "code",
      "metadata": {
        "id": "OOIzPOLUOlDM",
        "colab_type": "code",
        "colab": {
          "base_uri": "https://localhost:8080/",
          "height": 34
        },
        "outputId": "5891966c-bd39-4b92-b7d6-a1cfee2293a4"
      },
      "source": [
        "len(org_unique_investors) / len(org_investors)"
      ],
      "execution_count": null,
      "outputs": [
        {
          "output_type": "execute_result",
          "data": {
            "text/plain": [
              "0.7762647368599871"
            ]
          },
          "metadata": {
            "tags": []
          },
          "execution_count": 45
        }
      ]
    },
    {
      "cell_type": "code",
      "metadata": {
        "id": "P8UCb59KO344",
        "colab_type": "code",
        "colab": {
          "base_uri": "https://localhost:8080/",
          "height": 111
        },
        "outputId": "b1209988-e65e-495a-98cc-c15c4f576a52"
      },
      "source": [
        "n_unique_investors = org_unique_investors.groupby('org_uuid').count().reset_index().rename({'investor_uuid': \"n_unique_investors\"}, axis=1)\n",
        "n_unique_investors.head(2)"
      ],
      "execution_count": null,
      "outputs": [
        {
          "output_type": "execute_result",
          "data": {
            "text/html": [
              "<div>\n",
              "<style scoped>\n",
              "    .dataframe tbody tr th:only-of-type {\n",
              "        vertical-align: middle;\n",
              "    }\n",
              "\n",
              "    .dataframe tbody tr th {\n",
              "        vertical-align: top;\n",
              "    }\n",
              "\n",
              "    .dataframe thead th {\n",
              "        text-align: right;\n",
              "    }\n",
              "</style>\n",
              "<table border=\"1\" class=\"dataframe\">\n",
              "  <thead>\n",
              "    <tr style=\"text-align: right;\">\n",
              "      <th></th>\n",
              "      <th>org_uuid</th>\n",
              "      <th>n_unique_investors</th>\n",
              "    </tr>\n",
              "  </thead>\n",
              "  <tbody>\n",
              "    <tr>\n",
              "      <th>0</th>\n",
              "      <td>00000aa4-ba42-9b68-a9c3-040c9f3bf9b9</td>\n",
              "      <td>1</td>\n",
              "    </tr>\n",
              "    <tr>\n",
              "      <th>1</th>\n",
              "      <td>000014da-0c46-b9cb-0941-3a93c027b119</td>\n",
              "      <td>9</td>\n",
              "    </tr>\n",
              "  </tbody>\n",
              "</table>\n",
              "</div>"
            ],
            "text/plain": [
              "                               org_uuid  n_unique_investors\n",
              "0  00000aa4-ba42-9b68-a9c3-040c9f3bf9b9                   1\n",
              "1  000014da-0c46-b9cb-0941-3a93c027b119                   9"
            ]
          },
          "metadata": {
            "tags": []
          },
          "execution_count": 52
        }
      ]
    },
    {
      "cell_type": "code",
      "metadata": {
        "id": "Ce8o0xsjPtmC",
        "colab_type": "code",
        "colab": {
          "base_uri": "https://localhost:8080/",
          "height": 111
        },
        "outputId": "cf3d562c-5906-44bf-f03e-386b9e8dbbeb"
      },
      "source": [
        "org_unique_primary_investors = org_investors[org_investors['is_lead_investor']==1][['org_uuid', 'investor_uuid']].drop_duplicates()\n",
        "org_unique_primary_investors.head(2)"
      ],
      "execution_count": null,
      "outputs": [
        {
          "output_type": "execute_result",
          "data": {
            "text/html": [
              "<div>\n",
              "<style scoped>\n",
              "    .dataframe tbody tr th:only-of-type {\n",
              "        vertical-align: middle;\n",
              "    }\n",
              "\n",
              "    .dataframe tbody tr th {\n",
              "        vertical-align: top;\n",
              "    }\n",
              "\n",
              "    .dataframe thead th {\n",
              "        text-align: right;\n",
              "    }\n",
              "</style>\n",
              "<table border=\"1\" class=\"dataframe\">\n",
              "  <thead>\n",
              "    <tr style=\"text-align: right;\">\n",
              "      <th></th>\n",
              "      <th>org_uuid</th>\n",
              "      <th>investor_uuid</th>\n",
              "    </tr>\n",
              "  </thead>\n",
              "  <tbody>\n",
              "    <tr>\n",
              "      <th>1</th>\n",
              "      <td>df662812-7f97-0b43-9d3e-12f64f504fbb</td>\n",
              "      <td>b08efc27-da40-505a-6f9d-c9e14247bf36</td>\n",
              "    </tr>\n",
              "    <tr>\n",
              "      <th>3</th>\n",
              "      <td>df662812-7f97-0b43-9d3e-12f64f504fbb</td>\n",
              "      <td>e2006571-6b7a-e477-002a-f7014f48a7e3</td>\n",
              "    </tr>\n",
              "  </tbody>\n",
              "</table>\n",
              "</div>"
            ],
            "text/plain": [
              "                               org_uuid                         investor_uuid\n",
              "1  df662812-7f97-0b43-9d3e-12f64f504fbb  b08efc27-da40-505a-6f9d-c9e14247bf36\n",
              "3  df662812-7f97-0b43-9d3e-12f64f504fbb  e2006571-6b7a-e477-002a-f7014f48a7e3"
            ]
          },
          "metadata": {
            "tags": []
          },
          "execution_count": 54
        }
      ]
    },
    {
      "cell_type": "code",
      "metadata": {
        "id": "ea_KIH0vP4An",
        "colab_type": "code",
        "colab": {
          "base_uri": "https://localhost:8080/",
          "height": 34
        },
        "outputId": "22b92a55-6128-434b-e077-4b18e9c25e41"
      },
      "source": [
        "len(org_unique_primary_investors) / len(org_investors[org_investors['is_lead_investor']==1])"
      ],
      "execution_count": null,
      "outputs": [
        {
          "output_type": "execute_result",
          "data": {
            "text/plain": [
              "0.9170569667582396"
            ]
          },
          "metadata": {
            "tags": []
          },
          "execution_count": 55
        }
      ]
    },
    {
      "cell_type": "code",
      "metadata": {
        "id": "pqBHrOCyP7Z3",
        "colab_type": "code",
        "colab": {
          "base_uri": "https://localhost:8080/",
          "height": 111
        },
        "outputId": "fff3e650-6e43-4665-addb-97524ee17d12"
      },
      "source": [
        "n_unique_primary_investors = org_unique_primary_investors.groupby('org_uuid').count().reset_index().rename({'investor_uuid': \"n_unique_primary_investors\"}, axis=1)\n",
        "org_unique_primary_investors.head(2)"
      ],
      "execution_count": null,
      "outputs": [
        {
          "output_type": "execute_result",
          "data": {
            "text/html": [
              "<div>\n",
              "<style scoped>\n",
              "    .dataframe tbody tr th:only-of-type {\n",
              "        vertical-align: middle;\n",
              "    }\n",
              "\n",
              "    .dataframe tbody tr th {\n",
              "        vertical-align: top;\n",
              "    }\n",
              "\n",
              "    .dataframe thead th {\n",
              "        text-align: right;\n",
              "    }\n",
              "</style>\n",
              "<table border=\"1\" class=\"dataframe\">\n",
              "  <thead>\n",
              "    <tr style=\"text-align: right;\">\n",
              "      <th></th>\n",
              "      <th>org_uuid</th>\n",
              "      <th>investor_uuid</th>\n",
              "    </tr>\n",
              "  </thead>\n",
              "  <tbody>\n",
              "    <tr>\n",
              "      <th>1</th>\n",
              "      <td>df662812-7f97-0b43-9d3e-12f64f504fbb</td>\n",
              "      <td>b08efc27-da40-505a-6f9d-c9e14247bf36</td>\n",
              "    </tr>\n",
              "    <tr>\n",
              "      <th>3</th>\n",
              "      <td>df662812-7f97-0b43-9d3e-12f64f504fbb</td>\n",
              "      <td>e2006571-6b7a-e477-002a-f7014f48a7e3</td>\n",
              "    </tr>\n",
              "  </tbody>\n",
              "</table>\n",
              "</div>"
            ],
            "text/plain": [
              "                               org_uuid                         investor_uuid\n",
              "1  df662812-7f97-0b43-9d3e-12f64f504fbb  b08efc27-da40-505a-6f9d-c9e14247bf36\n",
              "3  df662812-7f97-0b43-9d3e-12f64f504fbb  e2006571-6b7a-e477-002a-f7014f48a7e3"
            ]
          },
          "metadata": {
            "tags": []
          },
          "execution_count": 57
        }
      ]
    },
    {
      "cell_type": "code",
      "metadata": {
        "id": "bzb0BB1wP9oz",
        "colab_type": "code",
        "colab": {
          "base_uri": "https://localhost:8080/",
          "height": 111
        },
        "outputId": "9549722b-b190-4506-b082-09139dcf32e6"
      },
      "source": [
        "investor_count_df = n_unique_investors.merge(n_unique_primary_investors, on=['org_uuid'])\n",
        "investor_count_df.head(2)"
      ],
      "execution_count": null,
      "outputs": [
        {
          "output_type": "execute_result",
          "data": {
            "text/html": [
              "<div>\n",
              "<style scoped>\n",
              "    .dataframe tbody tr th:only-of-type {\n",
              "        vertical-align: middle;\n",
              "    }\n",
              "\n",
              "    .dataframe tbody tr th {\n",
              "        vertical-align: top;\n",
              "    }\n",
              "\n",
              "    .dataframe thead th {\n",
              "        text-align: right;\n",
              "    }\n",
              "</style>\n",
              "<table border=\"1\" class=\"dataframe\">\n",
              "  <thead>\n",
              "    <tr style=\"text-align: right;\">\n",
              "      <th></th>\n",
              "      <th>org_uuid</th>\n",
              "      <th>n_unique_investors</th>\n",
              "      <th>n_unique_primary_investors</th>\n",
              "    </tr>\n",
              "  </thead>\n",
              "  <tbody>\n",
              "    <tr>\n",
              "      <th>0</th>\n",
              "      <td>00000aa4-ba42-9b68-a9c3-040c9f3bf9b9</td>\n",
              "      <td>1</td>\n",
              "      <td>1</td>\n",
              "    </tr>\n",
              "    <tr>\n",
              "      <th>1</th>\n",
              "      <td>00002470-bff7-6226-5800-0ca1b3787b6f</td>\n",
              "      <td>10</td>\n",
              "      <td>2</td>\n",
              "    </tr>\n",
              "  </tbody>\n",
              "</table>\n",
              "</div>"
            ],
            "text/plain": [
              "                               org_uuid  ...  n_unique_primary_investors\n",
              "0  00000aa4-ba42-9b68-a9c3-040c9f3bf9b9  ...                           1\n",
              "1  00002470-bff7-6226-5800-0ca1b3787b6f  ...                           2\n",
              "\n",
              "[2 rows x 3 columns]"
            ]
          },
          "metadata": {
            "tags": []
          },
          "execution_count": 61
        }
      ]
    },
    {
      "cell_type": "markdown",
      "metadata": {
        "id": "XaGcIU8VQP_L",
        "colab_type": "text"
      },
      "source": [
        "Lead investor characteristics"
      ]
    },
    {
      "cell_type": "code",
      "metadata": {
        "id": "fl4UWsoxQUvf",
        "colab_type": "code",
        "colab": {
          "base_uri": "https://localhost:8080/",
          "height": 111
        },
        "outputId": "2e619ff4-5c78-473e-ea06-86978164b9fa"
      },
      "source": [
        "lead_investors = org_investors[org_investors['is_lead_investor']==1]\n",
        "lead_investors.head(2)"
      ],
      "execution_count": null,
      "outputs": [
        {
          "output_type": "execute_result",
          "data": {
            "text/html": [
              "<div>\n",
              "<style scoped>\n",
              "    .dataframe tbody tr th:only-of-type {\n",
              "        vertical-align: middle;\n",
              "    }\n",
              "\n",
              "    .dataframe tbody tr th {\n",
              "        vertical-align: top;\n",
              "    }\n",
              "\n",
              "    .dataframe thead th {\n",
              "        text-align: right;\n",
              "    }\n",
              "</style>\n",
              "<table border=\"1\" class=\"dataframe\">\n",
              "  <thead>\n",
              "    <tr style=\"text-align: right;\">\n",
              "      <th></th>\n",
              "      <th>funding_round_uuid</th>\n",
              "      <th>org_uuid</th>\n",
              "      <th>investor_uuid</th>\n",
              "      <th>is_lead_investor</th>\n",
              "    </tr>\n",
              "  </thead>\n",
              "  <tbody>\n",
              "    <tr>\n",
              "      <th>1</th>\n",
              "      <td>d950d7a5-79ff-fb93-ca87-13386b0e2feb</td>\n",
              "      <td>df662812-7f97-0b43-9d3e-12f64f504fbb</td>\n",
              "      <td>b08efc27-da40-505a-6f9d-c9e14247bf36</td>\n",
              "      <td>1</td>\n",
              "    </tr>\n",
              "    <tr>\n",
              "      <th>3</th>\n",
              "      <td>6fae3958-a001-27c0-fb7e-666266aedd78</td>\n",
              "      <td>df662812-7f97-0b43-9d3e-12f64f504fbb</td>\n",
              "      <td>e2006571-6b7a-e477-002a-f7014f48a7e3</td>\n",
              "      <td>1</td>\n",
              "    </tr>\n",
              "  </tbody>\n",
              "</table>\n",
              "</div>"
            ],
            "text/plain": [
              "                     funding_round_uuid  ... is_lead_investor\n",
              "1  d950d7a5-79ff-fb93-ca87-13386b0e2feb  ...                1\n",
              "3  6fae3958-a001-27c0-fb7e-666266aedd78  ...                1\n",
              "\n",
              "[2 rows x 4 columns]"
            ]
          },
          "metadata": {
            "tags": []
          },
          "execution_count": 183
        }
      ]
    },
    {
      "cell_type": "code",
      "metadata": {
        "id": "pvDi3Nu3RdNY",
        "colab_type": "code",
        "colab": {
          "base_uri": "https://localhost:8080/",
          "height": 196
        },
        "outputId": "02e05f41-63c4-4072-fb64-a9edcb6071ad"
      },
      "source": [
        "lead_investors.drop('is_lead_investor', axis=1, inplace=True)\n",
        "lead_investors.head(2)"
      ],
      "execution_count": null,
      "outputs": [
        {
          "output_type": "stream",
          "text": [
            "/usr/local/lib/python3.6/dist-packages/pandas/core/frame.py:3997: SettingWithCopyWarning: \n",
            "A value is trying to be set on a copy of a slice from a DataFrame\n",
            "\n",
            "See the caveats in the documentation: https://pandas.pydata.org/pandas-docs/stable/user_guide/indexing.html#returning-a-view-versus-a-copy\n",
            "  errors=errors,\n"
          ],
          "name": "stderr"
        },
        {
          "output_type": "execute_result",
          "data": {
            "text/html": [
              "<div>\n",
              "<style scoped>\n",
              "    .dataframe tbody tr th:only-of-type {\n",
              "        vertical-align: middle;\n",
              "    }\n",
              "\n",
              "    .dataframe tbody tr th {\n",
              "        vertical-align: top;\n",
              "    }\n",
              "\n",
              "    .dataframe thead th {\n",
              "        text-align: right;\n",
              "    }\n",
              "</style>\n",
              "<table border=\"1\" class=\"dataframe\">\n",
              "  <thead>\n",
              "    <tr style=\"text-align: right;\">\n",
              "      <th></th>\n",
              "      <th>funding_round_uuid</th>\n",
              "      <th>org_uuid</th>\n",
              "      <th>investor_uuid</th>\n",
              "    </tr>\n",
              "  </thead>\n",
              "  <tbody>\n",
              "    <tr>\n",
              "      <th>1</th>\n",
              "      <td>d950d7a5-79ff-fb93-ca87-13386b0e2feb</td>\n",
              "      <td>df662812-7f97-0b43-9d3e-12f64f504fbb</td>\n",
              "      <td>b08efc27-da40-505a-6f9d-c9e14247bf36</td>\n",
              "    </tr>\n",
              "    <tr>\n",
              "      <th>3</th>\n",
              "      <td>6fae3958-a001-27c0-fb7e-666266aedd78</td>\n",
              "      <td>df662812-7f97-0b43-9d3e-12f64f504fbb</td>\n",
              "      <td>e2006571-6b7a-e477-002a-f7014f48a7e3</td>\n",
              "    </tr>\n",
              "  </tbody>\n",
              "</table>\n",
              "</div>"
            ],
            "text/plain": [
              "                     funding_round_uuid  ...                         investor_uuid\n",
              "1  d950d7a5-79ff-fb93-ca87-13386b0e2feb  ...  b08efc27-da40-505a-6f9d-c9e14247bf36\n",
              "3  6fae3958-a001-27c0-fb7e-666266aedd78  ...  e2006571-6b7a-e477-002a-f7014f48a7e3\n",
              "\n",
              "[2 rows x 3 columns]"
            ]
          },
          "metadata": {
            "tags": []
          },
          "execution_count": 184
        }
      ]
    },
    {
      "cell_type": "code",
      "metadata": {
        "id": "sTJcICh1L1zD",
        "colab_type": "code",
        "colab": {
          "base_uri": "https://localhost:8080/",
          "height": 102
        },
        "outputId": "0f84f8fe-23b0-40f5-e616-a23fb253f45e"
      },
      "source": [
        "df_dict['funds'].columns"
      ],
      "execution_count": null,
      "outputs": [
        {
          "output_type": "execute_result",
          "data": {
            "text/plain": [
              "Index(['uuid', 'name', 'type', 'permalink', 'cb_url', 'rank', 'created_at',\n",
              "       'updated_at', 'entity_uuid', 'entity_name', 'entity_type',\n",
              "       'announced_on', 'raised_amount_usd', 'raised_amount',\n",
              "       'raised_amount_currency_code'],\n",
              "      dtype='object')"
            ]
          },
          "metadata": {
            "tags": []
          },
          "execution_count": 25
        }
      ]
    },
    {
      "cell_type": "code",
      "metadata": {
        "id": "TcWISKlkMM8p",
        "colab_type": "code",
        "colab": {
          "base_uri": "https://localhost:8080/",
          "height": 111
        },
        "outputId": "171141c9-2b95-4316-9133-9a5f211ff0fc"
      },
      "source": [
        "funds_df = df_dict['funds'][['entity_uuid', 'announced_on', 'raised_amount_usd']].rename(\n",
        "    {'entity_uuid': 'investor_uuid', 'raised_amount_usd': 'fund_size_usd', 'announced_on': 'fund_announced_on'}, axis=1)\n",
        "funds_df.head(2)"
      ],
      "execution_count": null,
      "outputs": [
        {
          "output_type": "execute_result",
          "data": {
            "text/html": [
              "<div>\n",
              "<style scoped>\n",
              "    .dataframe tbody tr th:only-of-type {\n",
              "        vertical-align: middle;\n",
              "    }\n",
              "\n",
              "    .dataframe tbody tr th {\n",
              "        vertical-align: top;\n",
              "    }\n",
              "\n",
              "    .dataframe thead th {\n",
              "        text-align: right;\n",
              "    }\n",
              "</style>\n",
              "<table border=\"1\" class=\"dataframe\">\n",
              "  <thead>\n",
              "    <tr style=\"text-align: right;\">\n",
              "      <th></th>\n",
              "      <th>investor_uuid</th>\n",
              "      <th>fund_announced_on</th>\n",
              "      <th>fund_size_usd</th>\n",
              "    </tr>\n",
              "  </thead>\n",
              "  <tbody>\n",
              "    <tr>\n",
              "      <th>0</th>\n",
              "      <td>fe743289-a4aa-a470-00d8-bbe937e0955b</td>\n",
              "      <td>2008-12-16</td>\n",
              "      <td>300000000.0</td>\n",
              "    </tr>\n",
              "    <tr>\n",
              "      <th>1</th>\n",
              "      <td>0c867fde-2b9a-df10-fdb9-66b74f355f91</td>\n",
              "      <td>2008-12-17</td>\n",
              "      <td>200750000.0</td>\n",
              "    </tr>\n",
              "  </tbody>\n",
              "</table>\n",
              "</div>"
            ],
            "text/plain": [
              "                          investor_uuid fund_announced_on  fund_size_usd\n",
              "0  fe743289-a4aa-a470-00d8-bbe937e0955b        2008-12-16    300000000.0\n",
              "1  0c867fde-2b9a-df10-fdb9-66b74f355f91        2008-12-17    200750000.0"
            ]
          },
          "metadata": {
            "tags": []
          },
          "execution_count": 185
        }
      ]
    },
    {
      "cell_type": "code",
      "metadata": {
        "id": "1Fqd-FpTR7NA",
        "colab_type": "code",
        "colab": {
          "base_uri": "https://localhost:8080/",
          "height": 34
        },
        "outputId": "cd18fe2c-f7b5-420e-e7b3-cdd1abe2c41e"
      },
      "source": [
        "len(funds_df.investor_uuid.unique()) / len(funds_df)"
      ],
      "execution_count": null,
      "outputs": [
        {
          "output_type": "execute_result",
          "data": {
            "text/plain": [
              "0.4835271947494964"
            ]
          },
          "metadata": {
            "tags": []
          },
          "execution_count": 82
        }
      ]
    },
    {
      "cell_type": "code",
      "metadata": {
        "id": "ZOq5ZBjLSAUc",
        "colab_type": "code",
        "colab": {
          "base_uri": "https://localhost:8080/",
          "height": 111
        },
        "outputId": "4c58a4e8-d168-4839-96e7-695f8eb1170e"
      },
      "source": [
        "total_fund_size = funds_df[['investor_uuid', 'fund_size_usd']].dropna().groupby('investor_uuid').sum().reset_index().rename(\n",
        "    {'fund_size_usd': 'lead_investor_total_fund_size'}, axis=1)\n",
        "total_fund_size.head(2)"
      ],
      "execution_count": null,
      "outputs": [
        {
          "output_type": "execute_result",
          "data": {
            "text/html": [
              "<div>\n",
              "<style scoped>\n",
              "    .dataframe tbody tr th:only-of-type {\n",
              "        vertical-align: middle;\n",
              "    }\n",
              "\n",
              "    .dataframe tbody tr th {\n",
              "        vertical-align: top;\n",
              "    }\n",
              "\n",
              "    .dataframe thead th {\n",
              "        text-align: right;\n",
              "    }\n",
              "</style>\n",
              "<table border=\"1\" class=\"dataframe\">\n",
              "  <thead>\n",
              "    <tr style=\"text-align: right;\">\n",
              "      <th></th>\n",
              "      <th>investor_uuid</th>\n",
              "      <th>lead_investor_total_fund_size</th>\n",
              "    </tr>\n",
              "  </thead>\n",
              "  <tbody>\n",
              "    <tr>\n",
              "      <th>0</th>\n",
              "      <td>0003f244-79d0-6178-353e-33dabaf3b2c6</td>\n",
              "      <td>425000000.0</td>\n",
              "    </tr>\n",
              "    <tr>\n",
              "      <th>1</th>\n",
              "      <td>001968ce-46b3-3dc2-c34a-1dbd51b655e6</td>\n",
              "      <td>89643890.0</td>\n",
              "    </tr>\n",
              "  </tbody>\n",
              "</table>\n",
              "</div>"
            ],
            "text/plain": [
              "                          investor_uuid  lead_investor_total_fund_size\n",
              "0  0003f244-79d0-6178-353e-33dabaf3b2c6                    425000000.0\n",
              "1  001968ce-46b3-3dc2-c34a-1dbd51b655e6                     89643890.0"
            ]
          },
          "metadata": {
            "tags": []
          },
          "execution_count": 186
        }
      ]
    },
    {
      "cell_type": "code",
      "metadata": {
        "id": "k29SdkQETUiO",
        "colab_type": "code",
        "colab": {
          "base_uri": "https://localhost:8080/",
          "height": 111
        },
        "outputId": "a52ae634-2d9b-4a21-a7b9-a7cbbb5192b0"
      },
      "source": [
        "funds_df['fund_announce_date'] = pd.to_datetime(funds_df.fund_announced_on)\n",
        "funds_df.head(2)"
      ],
      "execution_count": null,
      "outputs": [
        {
          "output_type": "execute_result",
          "data": {
            "text/html": [
              "<div>\n",
              "<style scoped>\n",
              "    .dataframe tbody tr th:only-of-type {\n",
              "        vertical-align: middle;\n",
              "    }\n",
              "\n",
              "    .dataframe tbody tr th {\n",
              "        vertical-align: top;\n",
              "    }\n",
              "\n",
              "    .dataframe thead th {\n",
              "        text-align: right;\n",
              "    }\n",
              "</style>\n",
              "<table border=\"1\" class=\"dataframe\">\n",
              "  <thead>\n",
              "    <tr style=\"text-align: right;\">\n",
              "      <th></th>\n",
              "      <th>investor_uuid</th>\n",
              "      <th>fund_announced_on</th>\n",
              "      <th>fund_size_usd</th>\n",
              "      <th>fund_announce_date</th>\n",
              "    </tr>\n",
              "  </thead>\n",
              "  <tbody>\n",
              "    <tr>\n",
              "      <th>0</th>\n",
              "      <td>fe743289-a4aa-a470-00d8-bbe937e0955b</td>\n",
              "      <td>2008-12-16</td>\n",
              "      <td>300000000.0</td>\n",
              "      <td>2008-12-16</td>\n",
              "    </tr>\n",
              "    <tr>\n",
              "      <th>1</th>\n",
              "      <td>0c867fde-2b9a-df10-fdb9-66b74f355f91</td>\n",
              "      <td>2008-12-17</td>\n",
              "      <td>200750000.0</td>\n",
              "      <td>2008-12-17</td>\n",
              "    </tr>\n",
              "  </tbody>\n",
              "</table>\n",
              "</div>"
            ],
            "text/plain": [
              "                          investor_uuid  ... fund_announce_date\n",
              "0  fe743289-a4aa-a470-00d8-bbe937e0955b  ...         2008-12-16\n",
              "1  0c867fde-2b9a-df10-fdb9-66b74f355f91  ...         2008-12-17\n",
              "\n",
              "[2 rows x 4 columns]"
            ]
          },
          "metadata": {
            "tags": []
          },
          "execution_count": 187
        }
      ]
    },
    {
      "cell_type": "code",
      "metadata": {
        "id": "PkS58QvMTsa0",
        "colab_type": "code",
        "colab": {
          "base_uri": "https://localhost:8080/",
          "height": 111
        },
        "outputId": "87a508ef-1f91-499c-dc0d-8fa105ae11aa"
      },
      "source": [
        "funds_dates = funds_df[['investor_uuid', 'fund_announce_date']].groupby('investor_uuid').min().reset_index().rename(\n",
        "    {'fund_announce_date': 'lead_investor_first_fund_announce_date'}, axis=1)\n",
        "funds_dates.head(2)"
      ],
      "execution_count": null,
      "outputs": [
        {
          "output_type": "execute_result",
          "data": {
            "text/html": [
              "<div>\n",
              "<style scoped>\n",
              "    .dataframe tbody tr th:only-of-type {\n",
              "        vertical-align: middle;\n",
              "    }\n",
              "\n",
              "    .dataframe tbody tr th {\n",
              "        vertical-align: top;\n",
              "    }\n",
              "\n",
              "    .dataframe thead th {\n",
              "        text-align: right;\n",
              "    }\n",
              "</style>\n",
              "<table border=\"1\" class=\"dataframe\">\n",
              "  <thead>\n",
              "    <tr style=\"text-align: right;\">\n",
              "      <th></th>\n",
              "      <th>investor_uuid</th>\n",
              "      <th>lead_investor_first_fund_announce_date</th>\n",
              "    </tr>\n",
              "  </thead>\n",
              "  <tbody>\n",
              "    <tr>\n",
              "      <th>0</th>\n",
              "      <td>0003f244-79d0-6178-353e-33dabaf3b2c6</td>\n",
              "      <td>2017-04-29</td>\n",
              "    </tr>\n",
              "    <tr>\n",
              "      <th>1</th>\n",
              "      <td>001968ce-46b3-3dc2-c34a-1dbd51b655e6</td>\n",
              "      <td>2019-05-24</td>\n",
              "    </tr>\n",
              "  </tbody>\n",
              "</table>\n",
              "</div>"
            ],
            "text/plain": [
              "                          investor_uuid lead_investor_first_fund_announce_date\n",
              "0  0003f244-79d0-6178-353e-33dabaf3b2c6                             2017-04-29\n",
              "1  001968ce-46b3-3dc2-c34a-1dbd51b655e6                             2019-05-24"
            ]
          },
          "metadata": {
            "tags": []
          },
          "execution_count": 188
        }
      ]
    },
    {
      "cell_type": "code",
      "metadata": {
        "id": "85pjmk9oUEfB",
        "colab_type": "code",
        "colab": {
          "base_uri": "https://localhost:8080/",
          "height": 111
        },
        "outputId": "b9905178-84ac-44d4-ac8d-da26dad3f3dd"
      },
      "source": [
        "lead_investor_features = total_fund_size.merge(funds_dates, on='investor_uuid')\n",
        "lead_investor_features.head(2)"
      ],
      "execution_count": null,
      "outputs": [
        {
          "output_type": "execute_result",
          "data": {
            "text/html": [
              "<div>\n",
              "<style scoped>\n",
              "    .dataframe tbody tr th:only-of-type {\n",
              "        vertical-align: middle;\n",
              "    }\n",
              "\n",
              "    .dataframe tbody tr th {\n",
              "        vertical-align: top;\n",
              "    }\n",
              "\n",
              "    .dataframe thead th {\n",
              "        text-align: right;\n",
              "    }\n",
              "</style>\n",
              "<table border=\"1\" class=\"dataframe\">\n",
              "  <thead>\n",
              "    <tr style=\"text-align: right;\">\n",
              "      <th></th>\n",
              "      <th>investor_uuid</th>\n",
              "      <th>lead_investor_total_fund_size</th>\n",
              "      <th>lead_investor_first_fund_announce_date</th>\n",
              "    </tr>\n",
              "  </thead>\n",
              "  <tbody>\n",
              "    <tr>\n",
              "      <th>0</th>\n",
              "      <td>0003f244-79d0-6178-353e-33dabaf3b2c6</td>\n",
              "      <td>425000000.0</td>\n",
              "      <td>2017-04-29</td>\n",
              "    </tr>\n",
              "    <tr>\n",
              "      <th>1</th>\n",
              "      <td>001968ce-46b3-3dc2-c34a-1dbd51b655e6</td>\n",
              "      <td>89643890.0</td>\n",
              "      <td>2019-05-24</td>\n",
              "    </tr>\n",
              "  </tbody>\n",
              "</table>\n",
              "</div>"
            ],
            "text/plain": [
              "                          investor_uuid  ...  lead_investor_first_fund_announce_date\n",
              "0  0003f244-79d0-6178-353e-33dabaf3b2c6  ...                              2017-04-29\n",
              "1  001968ce-46b3-3dc2-c34a-1dbd51b655e6  ...                              2019-05-24\n",
              "\n",
              "[2 rows x 3 columns]"
            ]
          },
          "metadata": {
            "tags": []
          },
          "execution_count": 207
        }
      ]
    },
    {
      "cell_type": "code",
      "metadata": {
        "id": "HIlhFXNFa7Vg",
        "colab_type": "code",
        "colab": {
          "base_uri": "https://localhost:8080/",
          "height": 111
        },
        "outputId": "b99edb5b-7505-46db-a164-a72b475de686"
      },
      "source": [
        "lead_investor_features = org_unique_primary_investors.merge(\n",
        "    lead_investor_features, on='investor_uuid').rename({'investor_uuid': 'lead_investor_uuid'}, axis=1)\n",
        "lead_investor_features.head(2)"
      ],
      "execution_count": null,
      "outputs": [
        {
          "output_type": "execute_result",
          "data": {
            "text/html": [
              "<div>\n",
              "<style scoped>\n",
              "    .dataframe tbody tr th:only-of-type {\n",
              "        vertical-align: middle;\n",
              "    }\n",
              "\n",
              "    .dataframe tbody tr th {\n",
              "        vertical-align: top;\n",
              "    }\n",
              "\n",
              "    .dataframe thead th {\n",
              "        text-align: right;\n",
              "    }\n",
              "</style>\n",
              "<table border=\"1\" class=\"dataframe\">\n",
              "  <thead>\n",
              "    <tr style=\"text-align: right;\">\n",
              "      <th></th>\n",
              "      <th>org_uuid</th>\n",
              "      <th>lead_investor_uuid</th>\n",
              "      <th>lead_investor_total_fund_size</th>\n",
              "      <th>lead_investor_first_fund_announce_date</th>\n",
              "    </tr>\n",
              "  </thead>\n",
              "  <tbody>\n",
              "    <tr>\n",
              "      <th>0</th>\n",
              "      <td>df662812-7f97-0b43-9d3e-12f64f504fbb</td>\n",
              "      <td>b08efc27-da40-505a-6f9d-c9e14247bf36</td>\n",
              "      <td>1.291175e+10</td>\n",
              "      <td>2000-06-12</td>\n",
              "    </tr>\n",
              "    <tr>\n",
              "      <th>1</th>\n",
              "      <td>4c8d7754-50b1-a165-3dfe-a5d62877bbb6</td>\n",
              "      <td>b08efc27-da40-505a-6f9d-c9e14247bf36</td>\n",
              "      <td>1.291175e+10</td>\n",
              "      <td>2000-06-12</td>\n",
              "    </tr>\n",
              "  </tbody>\n",
              "</table>\n",
              "</div>"
            ],
            "text/plain": [
              "                               org_uuid  ... lead_investor_first_fund_announce_date\n",
              "0  df662812-7f97-0b43-9d3e-12f64f504fbb  ...                             2000-06-12\n",
              "1  4c8d7754-50b1-a165-3dfe-a5d62877bbb6  ...                             2000-06-12\n",
              "\n",
              "[2 rows x 4 columns]"
            ]
          },
          "metadata": {
            "tags": []
          },
          "execution_count": 208
        }
      ]
    },
    {
      "cell_type": "markdown",
      "metadata": {
        "id": "ZtFe5sG1ZgdV",
        "colab_type": "text"
      },
      "source": [
        "Funding round attributes"
      ]
    },
    {
      "cell_type": "code",
      "metadata": {
        "id": "EjCXbCNBULQB",
        "colab_type": "code",
        "colab": {
          "base_uri": "https://localhost:8080/",
          "height": 213
        },
        "outputId": "c7bf979b-f9c2-4a69-e937-c9ff5e1dc6c6"
      },
      "source": [
        "lead_investor_types = funding_rounds_df[['lead_investor_uuid', 'investment_type']]\n",
        "lead_investor_types['count'] = 1\n",
        "lead_investor_types = lead_investor_types.groupby(['lead_investor_uuid', 'investment_type']).sum().reset_index()\n",
        "lead_investor_types.head(2)"
      ],
      "execution_count": null,
      "outputs": [
        {
          "output_type": "stream",
          "text": [
            "/usr/local/lib/python3.6/dist-packages/ipykernel_launcher.py:2: SettingWithCopyWarning: \n",
            "A value is trying to be set on a copy of a slice from a DataFrame.\n",
            "Try using .loc[row_indexer,col_indexer] = value instead\n",
            "\n",
            "See the caveats in the documentation: https://pandas.pydata.org/pandas-docs/stable/user_guide/indexing.html#returning-a-view-versus-a-copy\n",
            "  \n"
          ],
          "name": "stderr"
        },
        {
          "output_type": "execute_result",
          "data": {
            "text/html": [
              "<div>\n",
              "<style scoped>\n",
              "    .dataframe tbody tr th:only-of-type {\n",
              "        vertical-align: middle;\n",
              "    }\n",
              "\n",
              "    .dataframe tbody tr th {\n",
              "        vertical-align: top;\n",
              "    }\n",
              "\n",
              "    .dataframe thead th {\n",
              "        text-align: right;\n",
              "    }\n",
              "</style>\n",
              "<table border=\"1\" class=\"dataframe\">\n",
              "  <thead>\n",
              "    <tr style=\"text-align: right;\">\n",
              "      <th></th>\n",
              "      <th>lead_investor_uuid</th>\n",
              "      <th>investment_type</th>\n",
              "      <th>count</th>\n",
              "    </tr>\n",
              "  </thead>\n",
              "  <tbody>\n",
              "    <tr>\n",
              "      <th>0</th>\n",
              "      <td>0003f244-79d0-6178-353e-33dabaf3b2c6</td>\n",
              "      <td>convertible_note</td>\n",
              "      <td>2</td>\n",
              "    </tr>\n",
              "    <tr>\n",
              "      <th>1</th>\n",
              "      <td>0003f244-79d0-6178-353e-33dabaf3b2c6</td>\n",
              "      <td>pre_seed</td>\n",
              "      <td>66</td>\n",
              "    </tr>\n",
              "  </tbody>\n",
              "</table>\n",
              "</div>"
            ],
            "text/plain": [
              "                     lead_investor_uuid   investment_type  count\n",
              "0  0003f244-79d0-6178-353e-33dabaf3b2c6  convertible_note      2\n",
              "1  0003f244-79d0-6178-353e-33dabaf3b2c6          pre_seed     66"
            ]
          },
          "metadata": {
            "tags": []
          },
          "execution_count": 190
        }
      ]
    },
    {
      "cell_type": "code",
      "metadata": {
        "id": "a_mIwBOSWWOc",
        "colab_type": "code",
        "colab": {
          "base_uri": "https://localhost:8080/",
          "height": 111
        },
        "outputId": "6f4347d4-5470-43ec-c974-a0b7fb8fa8a4"
      },
      "source": [
        "lead_investor_max_counts = lead_investor_types[['lead_investor_uuid', 'count']].groupby('lead_investor_uuid').max().reset_index()\n",
        "lead_investor_primary_types = lead_investor_types.merge(lead_investor_max_counts, on=['lead_investor_uuid', 'count']).drop(\n",
        "    'count', axis=1).rename({'investment_type': 'lead_investor_primary_investment_type'}, axis=1)\n",
        "lead_investor_primary_types.head(2)"
      ],
      "execution_count": null,
      "outputs": [
        {
          "output_type": "execute_result",
          "data": {
            "text/html": [
              "<div>\n",
              "<style scoped>\n",
              "    .dataframe tbody tr th:only-of-type {\n",
              "        vertical-align: middle;\n",
              "    }\n",
              "\n",
              "    .dataframe tbody tr th {\n",
              "        vertical-align: top;\n",
              "    }\n",
              "\n",
              "    .dataframe thead th {\n",
              "        text-align: right;\n",
              "    }\n",
              "</style>\n",
              "<table border=\"1\" class=\"dataframe\">\n",
              "  <thead>\n",
              "    <tr style=\"text-align: right;\">\n",
              "      <th></th>\n",
              "      <th>lead_investor_uuid</th>\n",
              "      <th>lead_investor_primary_investment_type</th>\n",
              "    </tr>\n",
              "  </thead>\n",
              "  <tbody>\n",
              "    <tr>\n",
              "      <th>0</th>\n",
              "      <td>0003f244-79d0-6178-353e-33dabaf3b2c6</td>\n",
              "      <td>pre_seed</td>\n",
              "    </tr>\n",
              "    <tr>\n",
              "      <th>1</th>\n",
              "      <td>0012be53-1596-02da-be62-bb4e64ceda34</td>\n",
              "      <td>post_ipo_equity</td>\n",
              "    </tr>\n",
              "  </tbody>\n",
              "</table>\n",
              "</div>"
            ],
            "text/plain": [
              "                     lead_investor_uuid lead_investor_primary_investment_type\n",
              "0  0003f244-79d0-6178-353e-33dabaf3b2c6                              pre_seed\n",
              "1  0012be53-1596-02da-be62-bb4e64ceda34                       post_ipo_equity"
            ]
          },
          "metadata": {
            "tags": []
          },
          "execution_count": 192
        }
      ]
    },
    {
      "cell_type": "code",
      "metadata": {
        "id": "hmcgZt4oULSf",
        "colab_type": "code",
        "colab": {
          "base_uri": "https://localhost:8080/",
          "height": 182
        },
        "outputId": "41e65306-9262-43d2-d925-7d79935efeba"
      },
      "source": [
        "# could expand to this if we want to\n",
        "# lead_investor_type_counts = lead_investor_types.pivot(index='lead_investor_uuid', columns='investment_type', values='count').reset_index()\n",
        "# lead_investor_type_counts.head(2)"
      ],
      "execution_count": null,
      "outputs": [
        {
          "output_type": "execute_result",
          "data": {
            "text/html": [
              "<div>\n",
              "<style scoped>\n",
              "    .dataframe tbody tr th:only-of-type {\n",
              "        vertical-align: middle;\n",
              "    }\n",
              "\n",
              "    .dataframe tbody tr th {\n",
              "        vertical-align: top;\n",
              "    }\n",
              "\n",
              "    .dataframe thead th {\n",
              "        text-align: right;\n",
              "    }\n",
              "</style>\n",
              "<table border=\"1\" class=\"dataframe\">\n",
              "  <thead>\n",
              "    <tr style=\"text-align: right;\">\n",
              "      <th>investment_type</th>\n",
              "      <th>lead_investor_uuid</th>\n",
              "      <th>angel</th>\n",
              "      <th>convertible_note</th>\n",
              "      <th>corporate_round</th>\n",
              "      <th>debt_financing</th>\n",
              "      <th>equity_crowdfunding</th>\n",
              "      <th>grant</th>\n",
              "      <th>initial_coin_offering</th>\n",
              "      <th>non_equity_assistance</th>\n",
              "      <th>post_ipo_debt</th>\n",
              "      <th>post_ipo_equity</th>\n",
              "      <th>post_ipo_secondary</th>\n",
              "      <th>pre_seed</th>\n",
              "      <th>private_equity</th>\n",
              "      <th>product_crowdfunding</th>\n",
              "      <th>secondary_market</th>\n",
              "      <th>seed</th>\n",
              "      <th>series_a</th>\n",
              "      <th>series_b</th>\n",
              "      <th>series_c</th>\n",
              "      <th>series_d</th>\n",
              "      <th>series_e</th>\n",
              "      <th>series_f</th>\n",
              "      <th>series_g</th>\n",
              "      <th>series_h</th>\n",
              "      <th>series_i</th>\n",
              "      <th>series_j</th>\n",
              "      <th>series_unknown</th>\n",
              "      <th>undisclosed</th>\n",
              "    </tr>\n",
              "  </thead>\n",
              "  <tbody>\n",
              "    <tr>\n",
              "      <th>0</th>\n",
              "      <td>0003f244-79d0-6178-353e-33dabaf3b2c6</td>\n",
              "      <td>NaN</td>\n",
              "      <td>1.0</td>\n",
              "      <td>NaN</td>\n",
              "      <td>NaN</td>\n",
              "      <td>NaN</td>\n",
              "      <td>NaN</td>\n",
              "      <td>NaN</td>\n",
              "      <td>NaN</td>\n",
              "      <td>NaN</td>\n",
              "      <td>NaN</td>\n",
              "      <td>NaN</td>\n",
              "      <td>65.0</td>\n",
              "      <td>NaN</td>\n",
              "      <td>NaN</td>\n",
              "      <td>NaN</td>\n",
              "      <td>28.0</td>\n",
              "      <td>2.0</td>\n",
              "      <td>NaN</td>\n",
              "      <td>NaN</td>\n",
              "      <td>NaN</td>\n",
              "      <td>NaN</td>\n",
              "      <td>NaN</td>\n",
              "      <td>NaN</td>\n",
              "      <td>NaN</td>\n",
              "      <td>NaN</td>\n",
              "      <td>NaN</td>\n",
              "      <td>2.0</td>\n",
              "      <td>NaN</td>\n",
              "    </tr>\n",
              "    <tr>\n",
              "      <th>1</th>\n",
              "      <td>0003f244-79d0-6178-353e-33dabaf3b2c6,0c867fde-...</td>\n",
              "      <td>NaN</td>\n",
              "      <td>NaN</td>\n",
              "      <td>NaN</td>\n",
              "      <td>NaN</td>\n",
              "      <td>NaN</td>\n",
              "      <td>NaN</td>\n",
              "      <td>NaN</td>\n",
              "      <td>NaN</td>\n",
              "      <td>NaN</td>\n",
              "      <td>NaN</td>\n",
              "      <td>NaN</td>\n",
              "      <td>NaN</td>\n",
              "      <td>NaN</td>\n",
              "      <td>NaN</td>\n",
              "      <td>NaN</td>\n",
              "      <td>NaN</td>\n",
              "      <td>1.0</td>\n",
              "      <td>NaN</td>\n",
              "      <td>NaN</td>\n",
              "      <td>NaN</td>\n",
              "      <td>NaN</td>\n",
              "      <td>NaN</td>\n",
              "      <td>NaN</td>\n",
              "      <td>NaN</td>\n",
              "      <td>NaN</td>\n",
              "      <td>NaN</td>\n",
              "      <td>NaN</td>\n",
              "      <td>NaN</td>\n",
              "    </tr>\n",
              "  </tbody>\n",
              "</table>\n",
              "</div>"
            ],
            "text/plain": [
              "investment_type                                 lead_investor_uuid  ...  undisclosed\n",
              "0                             0003f244-79d0-6178-353e-33dabaf3b2c6  ...          NaN\n",
              "1                0003f244-79d0-6178-353e-33dabaf3b2c6,0c867fde-...  ...          NaN\n",
              "\n",
              "[2 rows x 29 columns]"
            ]
          },
          "metadata": {
            "tags": []
          },
          "execution_count": 162
        }
      ]
    },
    {
      "cell_type": "code",
      "metadata": {
        "id": "HJBWcA4FWWRP",
        "colab_type": "code",
        "colab": {
          "base_uri": "https://localhost:8080/",
          "height": 233
        },
        "outputId": "21967287-10eb-4e41-b2ce-bb5d435654eb"
      },
      "source": [
        "# TODO lead_investor_primary_investment_type == org investment primary type\n",
        "funding_rounds_df = funding_rounds_df.merge(lead_investor_primary_types, on=['lead_investor_uuid'])\n",
        "funding_rounds_df['lead_invested_at_primary_type'] = funding_rounds_df['investment_type'] == funding_rounds_df['lead_investor_primary_investment_type']\n",
        "funding_rounds_df.head(2)"
      ],
      "execution_count": null,
      "outputs": [
        {
          "output_type": "execute_result",
          "data": {
            "text/html": [
              "<div>\n",
              "<style scoped>\n",
              "    .dataframe tbody tr th:only-of-type {\n",
              "        vertical-align: middle;\n",
              "    }\n",
              "\n",
              "    .dataframe tbody tr th {\n",
              "        vertical-align: top;\n",
              "    }\n",
              "\n",
              "    .dataframe thead th {\n",
              "        text-align: right;\n",
              "    }\n",
              "</style>\n",
              "<table border=\"1\" class=\"dataframe\">\n",
              "  <thead>\n",
              "    <tr style=\"text-align: right;\">\n",
              "      <th></th>\n",
              "      <th>funding_round_uuid</th>\n",
              "      <th>rank</th>\n",
              "      <th>investment_type</th>\n",
              "      <th>announced_on</th>\n",
              "      <th>raised_amount_usd</th>\n",
              "      <th>post_money_valuation_usd</th>\n",
              "      <th>investor_count</th>\n",
              "      <th>org_uuid</th>\n",
              "      <th>lead_investor_uuid</th>\n",
              "      <th>lead_investor_primary_investment_type</th>\n",
              "      <th>lead_invested_at_primary_type</th>\n",
              "    </tr>\n",
              "  </thead>\n",
              "  <tbody>\n",
              "    <tr>\n",
              "      <th>0</th>\n",
              "      <td>8a945939-18e0-cc9d-27b9-bf33817b2818</td>\n",
              "      <td>143236.0</td>\n",
              "      <td>angel</td>\n",
              "      <td>2004-09-01</td>\n",
              "      <td>500000.0</td>\n",
              "      <td>NaN</td>\n",
              "      <td>4.0</td>\n",
              "      <td>df662812-7f97-0b43-9d3e-12f64f504fbb</td>\n",
              "      <td>3f47be49-2e32-8118-01a0-31685a4d0fd7</td>\n",
              "      <td>series_a</td>\n",
              "      <td>False</td>\n",
              "    </tr>\n",
              "    <tr>\n",
              "      <th>1</th>\n",
              "      <td>8a945939-18e0-cc9d-27b9-bf33817b2818</td>\n",
              "      <td>143236.0</td>\n",
              "      <td>angel</td>\n",
              "      <td>2004-09-01</td>\n",
              "      <td>500000.0</td>\n",
              "      <td>NaN</td>\n",
              "      <td>4.0</td>\n",
              "      <td>df662812-7f97-0b43-9d3e-12f64f504fbb</td>\n",
              "      <td>3f47be49-2e32-8118-01a0-31685a4d0fd7</td>\n",
              "      <td>series_b</td>\n",
              "      <td>False</td>\n",
              "    </tr>\n",
              "  </tbody>\n",
              "</table>\n",
              "</div>"
            ],
            "text/plain": [
              "                     funding_round_uuid  ...  lead_invested_at_primary_type\n",
              "0  8a945939-18e0-cc9d-27b9-bf33817b2818  ...                          False\n",
              "1  8a945939-18e0-cc9d-27b9-bf33817b2818  ...                          False\n",
              "\n",
              "[2 rows x 11 columns]"
            ]
          },
          "metadata": {
            "tags": []
          },
          "execution_count": 195
        }
      ]
    },
    {
      "cell_type": "code",
      "metadata": {
        "id": "W29KoLMcZwXl",
        "colab_type": "code",
        "colab": {
          "base_uri": "https://localhost:8080/",
          "height": 111
        },
        "outputId": "f9b9efbb-a0b3-440e-b265-fc5d2076be40"
      },
      "source": [
        "primary_type_investment_df = funding_rounds_df[['org_uuid','lead_invested_at_primary_type']].groupby('org_uuid').count().reset_index()\n",
        "primary_type_investment_df.head(2)"
      ],
      "execution_count": null,
      "outputs": [
        {
          "output_type": "execute_result",
          "data": {
            "text/html": [
              "<div>\n",
              "<style scoped>\n",
              "    .dataframe tbody tr th:only-of-type {\n",
              "        vertical-align: middle;\n",
              "    }\n",
              "\n",
              "    .dataframe tbody tr th {\n",
              "        vertical-align: top;\n",
              "    }\n",
              "\n",
              "    .dataframe thead th {\n",
              "        text-align: right;\n",
              "    }\n",
              "</style>\n",
              "<table border=\"1\" class=\"dataframe\">\n",
              "  <thead>\n",
              "    <tr style=\"text-align: right;\">\n",
              "      <th></th>\n",
              "      <th>org_uuid</th>\n",
              "      <th>lead_invested_at_primary_type</th>\n",
              "    </tr>\n",
              "  </thead>\n",
              "  <tbody>\n",
              "    <tr>\n",
              "      <th>0</th>\n",
              "      <td>00000aa4-ba42-9b68-a9c3-040c9f3bf9b9</td>\n",
              "      <td>1</td>\n",
              "    </tr>\n",
              "    <tr>\n",
              "      <th>1</th>\n",
              "      <td>00002470-bff7-6226-5800-0ca1b3787b6f</td>\n",
              "      <td>2</td>\n",
              "    </tr>\n",
              "  </tbody>\n",
              "</table>\n",
              "</div>"
            ],
            "text/plain": [
              "                               org_uuid  lead_invested_at_primary_type\n",
              "0  00000aa4-ba42-9b68-a9c3-040c9f3bf9b9                              1\n",
              "1  00002470-bff7-6226-5800-0ca1b3787b6f                              2"
            ]
          },
          "metadata": {
            "tags": []
          },
          "execution_count": 211
        }
      ]
    },
    {
      "cell_type": "markdown",
      "metadata": {
        "id": "O3R4K-Uhar_Y",
        "colab_type": "text"
      },
      "source": [
        "### Put all the features into one df"
      ]
    },
    {
      "cell_type": "code",
      "metadata": {
        "id": "e5Ej4d0LcD1L",
        "colab_type": "code",
        "colab": {
          "base_uri": "https://localhost:8080/",
          "height": 233
        },
        "outputId": "a6fd6110-c2ee-4fbe-8050-fca29a8fd1a2"
      },
      "source": [
        "all_investor_features = primary_type_investment_df.merge(\n",
        "    lead_investor_features, on=['org_uuid']).merge(\n",
        "    investor_count_df, on=['org_uuid']).drop('lead_investor_uuid', axis=1)\n",
        "all_investor_features.head(2)"
      ],
      "execution_count": null,
      "outputs": [
        {
          "output_type": "execute_result",
          "data": {
            "text/html": [
              "<div>\n",
              "<style scoped>\n",
              "    .dataframe tbody tr th:only-of-type {\n",
              "        vertical-align: middle;\n",
              "    }\n",
              "\n",
              "    .dataframe tbody tr th {\n",
              "        vertical-align: top;\n",
              "    }\n",
              "\n",
              "    .dataframe thead th {\n",
              "        text-align: right;\n",
              "    }\n",
              "</style>\n",
              "<table border=\"1\" class=\"dataframe\">\n",
              "  <thead>\n",
              "    <tr style=\"text-align: right;\">\n",
              "      <th></th>\n",
              "      <th>org_uuid</th>\n",
              "      <th>lead_invested_at_primary_type</th>\n",
              "      <th>lead_investor_total_fund_size</th>\n",
              "      <th>lead_investor_first_fund_announce_date</th>\n",
              "      <th>n_unique_investors</th>\n",
              "      <th>n_unique_primary_investors</th>\n",
              "    </tr>\n",
              "  </thead>\n",
              "  <tbody>\n",
              "    <tr>\n",
              "      <th>0</th>\n",
              "      <td>00000aa4-ba42-9b68-a9c3-040c9f3bf9b9</td>\n",
              "      <td>1</td>\n",
              "      <td>3.862931e+09</td>\n",
              "      <td>2013-06-17</td>\n",
              "      <td>1</td>\n",
              "      <td>1</td>\n",
              "    </tr>\n",
              "    <tr>\n",
              "      <th>1</th>\n",
              "      <td>00002470-bff7-6226-5800-0ca1b3787b6f</td>\n",
              "      <td>2</td>\n",
              "      <td>5.972500e+08</td>\n",
              "      <td>1997-01-01</td>\n",
              "      <td>10</td>\n",
              "      <td>2</td>\n",
              "    </tr>\n",
              "  </tbody>\n",
              "</table>\n",
              "</div>"
            ],
            "text/plain": [
              "                               org_uuid  ...  n_unique_primary_investors\n",
              "0  00000aa4-ba42-9b68-a9c3-040c9f3bf9b9  ...                           1\n",
              "1  00002470-bff7-6226-5800-0ca1b3787b6f  ...                           2\n",
              "\n",
              "[2 rows x 6 columns]"
            ]
          },
          "metadata": {
            "tags": []
          },
          "execution_count": 213
        }
      ]
    },
    {
      "cell_type": "code",
      "metadata": {
        "id": "pdwzxHm3XZQY",
        "colab_type": "code",
        "colab": {}
      },
      "source": [
        "all_investor_features.to_csv(\"/content/drive/My Drive/vc_modeling/data/investor_features.csv\", index=False)"
      ],
      "execution_count": null,
      "outputs": []
    },
    {
      "cell_type": "markdown",
      "metadata": {
        "id": "ceufUEV-kn_C",
        "colab_type": "text"
      },
      "source": [
        "# Adapt investor features to regression problem"
      ]
    },
    {
      "cell_type": "markdown",
      "metadata": {
        "id": "9qJjTO2mnM9m",
        "colab_type": "text"
      },
      "source": [
        "First get first investment date"
      ]
    },
    {
      "cell_type": "code",
      "metadata": {
        "id": "FvNHCwj_nMI5",
        "colab_type": "code",
        "colab": {
          "base_uri": "https://localhost:8080/",
          "height": 107
        },
        "outputId": "b993ecfc-4905-49c5-d75d-9c3755f27884"
      },
      "source": [
        "funding_data = deepcopy(\n",
        "    df_dict[\"funding_rounds\"][['org_uuid', 'announced_on', 'post_money_valuation_usd']]).rename(\n",
        "    columns={\"announced_on\": \"date\", \"post_money_valuation_usd\": \"valuation\"})\n",
        "acquisitions_data = deepcopy(df_dict[\"acquisitions\"][['acquiree_uuid', 'acquired_on', 'price_usd']]).rename(\n",
        "    columns={\"acquiree_uuid\": \"org_uuid\", \"acquired_on\": \"date\", \"price_usd\": \"valuation\"})\n",
        "ipos_data = deepcopy(df_dict[\"ipos\"][['org_uuid', 'went_public_on', 'valuation_price_usd']]).rename(\n",
        "    columns={\"went_public_on\": \"date\", \"valuation_price_usd\": \"valuation\"})\n",
        "\n",
        "types = df_dict[\"acquisitions\"][['type']].values\n",
        "acquisition_types = df_dict[\"acquisitions\"][['acquisition_type']].values\n",
        "acquisitions_data['event'] = [types[x][0] if not isinstance(acquisition_types[x][0], str) \n",
        "                              else acquisition_types[x][0] for x in range(len(acquisitions_data))]\n",
        "funding_data['event'] = pd.Series([x[0] for x in df_dict[\"funding_rounds\"]['name'].str.split(\" - \")])\n",
        "ipos_data['event'] = df_dict['ipos']['stock_exchange_symbol']\n",
        "\n",
        "timelines = pd.concat([funding_data, acquisitions_data, ipos_data])\n",
        "\n",
        "# Normalize dates\n",
        "\n",
        "timelines.sort_values(by=['org_uuid', 'date'], inplace=True)\n",
        "timelines.reset_index(inplace=True, drop=True)\n",
        "timelines = timelines[timelines['valuation'].notnull()]  # We only care about times at which there is a valuation of the company.\n",
        "timelines.set_index(['org_uuid'])\n",
        "grouped_timelines = timelines.groupby(['org_uuid'])\n",
        "timeline_counts = grouped_timelines.count().reset_index()\n",
        "orgs_with_2plus_vals = timeline_counts[timeline_counts['date']>1].org_uuid.unique()  # at least 2 valuations\n",
        "timelines = timelines[timelines['org_uuid'].isin(orgs_with_2plus_vals)]\n",
        "\n",
        "milli_per_day = 86400  # Used for converting Unix time\n",
        "\n",
        "regression_df = pd.DataFrame()\n",
        "for company_id in timelines.org_uuid.unique():\n",
        "  timeline = grouped_timelines.get_group(company_id).copy()\n",
        "  timeline.reset_index(inplace=True, drop=True)\n",
        "  if timeline.empty:\n",
        "    continue\n",
        "\n",
        "  # print(timeline['date'])\n",
        "  day_zero = datetime.datetime.strptime(timeline['date'].iloc[0], '%Y-%m-%d').timestamp()\n",
        "  parsed_dates = pd.Series([datetime.datetime.strptime(x, '%Y-%m-%d').timestamp() for x in timeline['date']])\n",
        "  norm_dates = (parsed_dates - day_zero)/milli_per_day\n",
        "  timeline['norm_dates'] = norm_dates\n",
        "  regression_df = regression_df.append(timeline)\n",
        "\n",
        "regression_df.head(2)"
      ],
      "execution_count": 8,
      "outputs": [
        {
          "output_type": "execute_result",
          "data": {
            "text/html": [
              "<div>\n",
              "<style scoped>\n",
              "    .dataframe tbody tr th:only-of-type {\n",
              "        vertical-align: middle;\n",
              "    }\n",
              "\n",
              "    .dataframe tbody tr th {\n",
              "        vertical-align: top;\n",
              "    }\n",
              "\n",
              "    .dataframe thead th {\n",
              "        text-align: right;\n",
              "    }\n",
              "</style>\n",
              "<table border=\"1\" class=\"dataframe\">\n",
              "  <thead>\n",
              "    <tr style=\"text-align: right;\">\n",
              "      <th></th>\n",
              "      <th>org_uuid</th>\n",
              "      <th>date</th>\n",
              "      <th>valuation</th>\n",
              "      <th>event</th>\n",
              "      <th>norm_dates</th>\n",
              "    </tr>\n",
              "  </thead>\n",
              "  <tbody>\n",
              "    <tr>\n",
              "      <th>0</th>\n",
              "      <td>0070da44-2860-2901-9ace-4c633fb657b2</td>\n",
              "      <td>1996-09-13</td>\n",
              "      <td>7.000000e+09</td>\n",
              "      <td>acquisition</td>\n",
              "      <td>0.0</td>\n",
              "    </tr>\n",
              "    <tr>\n",
              "      <th>1</th>\n",
              "      <td>0070da44-2860-2901-9ace-4c633fb657b2</td>\n",
              "      <td>2014-11-13</td>\n",
              "      <td>4.700000e+09</td>\n",
              "      <td>acquisition</td>\n",
              "      <td>6635.0</td>\n",
              "    </tr>\n",
              "  </tbody>\n",
              "</table>\n",
              "</div>"
            ],
            "text/plain": [
              "                               org_uuid        date  ...        event norm_dates\n",
              "0  0070da44-2860-2901-9ace-4c633fb657b2  1996-09-13  ...  acquisition        0.0\n",
              "1  0070da44-2860-2901-9ace-4c633fb657b2  2014-11-13  ...  acquisition     6635.0\n",
              "\n",
              "[2 rows x 5 columns]"
            ]
          },
          "metadata": {
            "tags": []
          },
          "execution_count": 8
        }
      ]
    },
    {
      "cell_type": "code",
      "metadata": {
        "id": "qe1uAOjNudC3",
        "colab_type": "code",
        "colab": {}
      },
      "source": [
        "org_launches = regression_df.groupby('org_uuid').min().reset_index()[['org_uuid', 'date']]\n",
        "org_launch_dict = dict(zip(org_launches.org_uuid.values, org_launches.date.values))"
      ],
      "execution_count": 9,
      "outputs": []
    },
    {
      "cell_type": "markdown",
      "metadata": {
        "id": "o0m-MkW3tvuP",
        "colab_type": "text"
      },
      "source": [
        "Attach features to companies and dates"
      ]
    },
    {
      "cell_type": "code",
      "metadata": {
        "id": "80URFz_pku9p",
        "colab_type": "code",
        "colab": {
          "base_uri": "https://localhost:8080/",
          "height": 227
        },
        "outputId": "5cb3f50e-19e1-4552-c278-24326a4bb02f"
      },
      "source": [
        "funding_rounds_df = deepcopy(df_dict['funding_rounds'][funding_rounds_cols])\n",
        "funding_rounds_df.rename({'uuid':'funding_round_uuid', 'lead_investor_uuids':'lead_investor_uuid'}, axis=1, inplace=True)\n",
        "org_investors = funding_rounds_df.merge(investments_df, on=['funding_round_uuid'])\n",
        "org_investors.head(2)"
      ],
      "execution_count": 14,
      "outputs": [
        {
          "output_type": "execute_result",
          "data": {
            "text/html": [
              "<div>\n",
              "<style scoped>\n",
              "    .dataframe tbody tr th:only-of-type {\n",
              "        vertical-align: middle;\n",
              "    }\n",
              "\n",
              "    .dataframe tbody tr th {\n",
              "        vertical-align: top;\n",
              "    }\n",
              "\n",
              "    .dataframe thead th {\n",
              "        text-align: right;\n",
              "    }\n",
              "</style>\n",
              "<table border=\"1\" class=\"dataframe\">\n",
              "  <thead>\n",
              "    <tr style=\"text-align: right;\">\n",
              "      <th></th>\n",
              "      <th>funding_round_uuid</th>\n",
              "      <th>rank</th>\n",
              "      <th>investment_type</th>\n",
              "      <th>announced_on</th>\n",
              "      <th>raised_amount_usd</th>\n",
              "      <th>post_money_valuation_usd</th>\n",
              "      <th>investor_count</th>\n",
              "      <th>org_uuid</th>\n",
              "      <th>lead_investor_uuid</th>\n",
              "      <th>investor_uuid</th>\n",
              "      <th>is_lead_investor</th>\n",
              "    </tr>\n",
              "  </thead>\n",
              "  <tbody>\n",
              "    <tr>\n",
              "      <th>0</th>\n",
              "      <td>8a945939-18e0-cc9d-27b9-bf33817b2818</td>\n",
              "      <td>143236.0</td>\n",
              "      <td>angel</td>\n",
              "      <td>2004-09-01</td>\n",
              "      <td>500000.0</td>\n",
              "      <td>NaN</td>\n",
              "      <td>4.0</td>\n",
              "      <td>df662812-7f97-0b43-9d3e-12f64f504fbb</td>\n",
              "      <td>3f47be49-2e32-8118-01a0-31685a4d0fd7</td>\n",
              "      <td>321aaefe-527e-a56e-85cd-641bd83cd866</td>\n",
              "      <td>0</td>\n",
              "    </tr>\n",
              "    <tr>\n",
              "      <th>1</th>\n",
              "      <td>d950d7a5-79ff-fb93-ca87-13386b0e2feb</td>\n",
              "      <td>145939.0</td>\n",
              "      <td>series_a</td>\n",
              "      <td>2005-05-01</td>\n",
              "      <td>12700000.0</td>\n",
              "      <td>98000000.0</td>\n",
              "      <td>4.0</td>\n",
              "      <td>df662812-7f97-0b43-9d3e-12f64f504fbb</td>\n",
              "      <td>b08efc27-da40-505a-6f9d-c9e14247bf36</td>\n",
              "      <td>b08efc27-da40-505a-6f9d-c9e14247bf36</td>\n",
              "      <td>1</td>\n",
              "    </tr>\n",
              "  </tbody>\n",
              "</table>\n",
              "</div>"
            ],
            "text/plain": [
              "                     funding_round_uuid  ...  is_lead_investor\n",
              "0  8a945939-18e0-cc9d-27b9-bf33817b2818  ...                 0\n",
              "1  d950d7a5-79ff-fb93-ca87-13386b0e2feb  ...                 1\n",
              "\n",
              "[2 rows x 11 columns]"
            ]
          },
          "metadata": {
            "tags": []
          },
          "execution_count": 14
        }
      ]
    },
    {
      "cell_type": "code",
      "metadata": {
        "id": "UpQiBhiQuTqQ",
        "colab_type": "code",
        "colab": {}
      },
      "source": [
        "def get_org_investor_features(org_uuid, days_forward):\n",
        "\n",
        "  org_launch_date = org_launch_dict[org_uuid]\n",
        "  days_forward_date = arrow.get(org_launch_date).shift(days=days_forward).format('YYYY-MM-DD')\n",
        "  existing_funds = df_dict['funds'][df_dict['funds']['announced_on'] <= days_forward_date]\n",
        "  prior_investors = org_investors[(org_investors['announced_on'] <= days_forward_date)]\n",
        "  \n",
        "  ## lead investor characteristics\n",
        "  lead_investors_df = prior_investors[prior_investors['is_lead_investor']==1]\n",
        "  org_lead_investors = lead_investors_df[lead_investors_df['org_uuid'] == org_uuid].lead_investor_uuid.unique()\n",
        "  if len(org_lead_investors) > 0:\n",
        "    funds_df = existing_funds[existing_funds['entity_uuid'].isin(org_lead_investors)][['entity_uuid', 'announced_on', 'raised_amount_usd']].rename(\n",
        "        {'entity_uuid': 'investor_uuid', 'raised_amount_usd': 'fund_size_usd', 'announced_on': 'fund_announced_on'}, axis=1)\n",
        "    total_fund_size = funds_df[['investor_uuid', 'fund_size_usd']].dropna().groupby('investor_uuid').sum().reset_index().rename(\n",
        "      {'fund_size_usd': 'lead_investor_total_fund_size'}, axis=1)\n",
        "    funds_df['fund_announce_date'] = pd.to_datetime(funds_df.fund_announced_on)\n",
        "    funds_dates = funds_df[['investor_uuid', 'fund_announce_date']].groupby('investor_uuid').min().reset_index().rename(\n",
        "      {'fund_announce_date': 'lead_investor_first_fund_announce_date'}, axis=1)\n",
        "    funds_df['fund_announce_date'] = pd.to_datetime(funds_df.fund_announced_on)\n",
        "    funds_dates = funds_df[['investor_uuid', 'fund_announce_date']].groupby('investor_uuid').min().reset_index().rename(\n",
        "      {'fund_announce_date': 'lead_investor_first_fund_announce_date'}, axis=1)  \n",
        "    funds_dates['lead_investor_fund_age'] = pd.to_datetime(days_forward_date) - funds_dates['lead_investor_first_fund_announce_date']\n",
        "    lead_investor_features = total_fund_size.merge(funds_dates, on='investor_uuid').rename({'investor_uuid': 'lead_investor_uuid'}, axis=1)\n",
        "    lead_investor_features['org_uuid'] = org_uuid\n",
        "    lead_investor_maxes = lead_investor_features.groupby('org_uuid').max()\n",
        "    lead_investor_mins = lead_investor_features.groupby('org_uuid').min()\n",
        "    lead_investor_means = lead_investor_features.groupby('org_uuid').mean()\n",
        "    lead_investor_final_features = lead_investor_maxes.reset_index().drop(['lead_investor_uuid'], axis=1).merge(\n",
        "        lead_investor_mins.reset_index().drop(['lead_investor_uuid'], axis=1), on='org_uuid', suffixes=('_max', '_min')).merge(\n",
        "            lead_investor_means.reset_index(), on='org_uuid').rename({'lead_investor_total_fund_size': 'lead_investor_total_fund_size_mean'}, axis=1)\n",
        "  else:\n",
        "    lead_investor_final_features = pd.DataFrame(columns=['lead_investor_total_fund_size_max', 'lead_investor_first_fund_announce_date_max',\n",
        "                                                        'lead_investor_fund_age_max', 'lead_investor_total_fund_size_min', 'lead_investor_first_fund_announce_date_min',\n",
        "                                                        'lead_investor_fund_age_min', 'org_uuid', 'lead_investor_total_fund_size_mean'])\n",
        "\n",
        "  ## counts\n",
        "  org_unique_investors = prior_investors[['org_uuid', 'investor_uuid']].drop_duplicates()\n",
        "  n_unique_investors = org_unique_investors.groupby('org_uuid').count().reset_index().rename({'investor_uuid': \"n_unique_investors\"}, axis=1)\n",
        "  org_unique_lead_investors = lead_investors_df[['org_uuid', 'lead_investor_uuid']].drop_duplicates()\n",
        "  n_unique_lead_investors = org_unique_lead_investors.groupby('org_uuid').count().reset_index().rename({'lead_investor_uuid': \"n_unique_lead_investors\"}, axis=1)\n",
        "  investor_count_df = n_unique_investors.merge(n_unique_lead_investors, on=['org_uuid'])\n",
        "\n",
        "  # primary investment type\n",
        "  if len(org_lead_investors) > 0:\n",
        "    lead_investors_df['count'] = 1\n",
        "    lead_investor_types = lead_investors_df[['lead_investor_uuid', 'investment_type', 'count']].groupby(['lead_investor_uuid', 'investment_type']).sum().reset_index()\n",
        "    lead_investor_max_counts = lead_investor_types[['lead_investor_uuid', 'count']].groupby('lead_investor_uuid').max().reset_index()\n",
        "    lead_investor_primary_types = lead_investor_types.merge(lead_investor_max_counts, on=['lead_investor_uuid', 'count']).drop(\n",
        "        'count', axis=1).rename({'investment_type': 'lead_investor_primary_investment_type'}, axis=1)\n",
        "    full_funding_rounds_df = funding_rounds_df[funding_rounds_df['org_uuid']==org_uuid].merge(lead_investor_primary_types, on=['lead_investor_uuid'])\n",
        "    full_funding_rounds_df['lead_invested_at_primary_type'] = full_funding_rounds_df['investment_type'] == full_funding_rounds_df['lead_investor_primary_investment_type']\n",
        "    primary_type_investment_df = full_funding_rounds_df[['org_uuid','lead_invested_at_primary_type']].groupby('org_uuid').count().reset_index().merge(\n",
        "        full_funding_rounds_df[['org_uuid','lead_invested_at_primary_type']].groupby('org_uuid').sum().reset_index(), on=['org_uuid'], suffixes=(\"_count\", \"_sum\")\n",
        "    )\n",
        "    primary_type_investment_df['pct_leads_invested_at_primary_type'] = primary_type_investment_df['lead_invested_at_primary_type_sum'] / primary_type_investment_df['lead_invested_at_primary_type_count']\n",
        "    primary_type_investment_df = primary_type_investment_df[['org_uuid', 'pct_leads_invested_at_primary_type']]\n",
        "  else:\n",
        "    primary_type_investment_df = pd.DataFrame(columns=['org_uuid', 'pct_leads_invested_at_primary_type'])\n",
        "\n",
        "  # combine\n",
        "  all_investor_features = primary_type_investment_df.merge(\n",
        "      lead_investor_final_features, on=['org_uuid']).merge(\n",
        "      investor_count_df, on=['org_uuid'])\n",
        "  \n",
        "  return all_investor_features\n",
        "  "
      ],
      "execution_count": 17,
      "outputs": []
    },
    {
      "cell_type": "code",
      "metadata": {
        "id": "LBudsnPc246W",
        "colab_type": "code",
        "colab": {
          "base_uri": "https://localhost:8080/",
          "height": 236
        },
        "outputId": "790a4714-f289-47d1-fc5d-0d7724f93ce9"
      },
      "source": [
        "org_uuid = 'df662812-7f97-0b43-9d3e-12f64f504fbb'  # facebook\n",
        "get_org_investor_features(org_uuid, 200)"
      ],
      "execution_count": 18,
      "outputs": [
        {
          "output_type": "stream",
          "text": [
            "/usr/local/lib/python3.6/dist-packages/ipykernel_launcher.py:45: SettingWithCopyWarning: \n",
            "A value is trying to be set on a copy of a slice from a DataFrame.\n",
            "Try using .loc[row_indexer,col_indexer] = value instead\n",
            "\n",
            "See the caveats in the documentation: https://pandas.pydata.org/pandas-docs/stable/user_guide/indexing.html#returning-a-view-versus-a-copy\n"
          ],
          "name": "stderr"
        },
        {
          "output_type": "execute_result",
          "data": {
            "text/html": [
              "<div>\n",
              "<style scoped>\n",
              "    .dataframe tbody tr th:only-of-type {\n",
              "        vertical-align: middle;\n",
              "    }\n",
              "\n",
              "    .dataframe tbody tr th {\n",
              "        vertical-align: top;\n",
              "    }\n",
              "\n",
              "    .dataframe thead th {\n",
              "        text-align: right;\n",
              "    }\n",
              "</style>\n",
              "<table border=\"1\" class=\"dataframe\">\n",
              "  <thead>\n",
              "    <tr style=\"text-align: right;\">\n",
              "      <th></th>\n",
              "      <th>org_uuid</th>\n",
              "      <th>pct_leads_invested_at_primary_type</th>\n",
              "      <th>lead_investor_total_fund_size_max</th>\n",
              "      <th>lead_investor_first_fund_announce_date_max</th>\n",
              "      <th>lead_investor_fund_age_max</th>\n",
              "      <th>lead_investor_total_fund_size_min</th>\n",
              "      <th>lead_investor_first_fund_announce_date_min</th>\n",
              "      <th>lead_investor_fund_age_min</th>\n",
              "      <th>lead_investor_total_fund_size_mean</th>\n",
              "      <th>n_unique_investors</th>\n",
              "      <th>n_unique_lead_investors</th>\n",
              "    </tr>\n",
              "  </thead>\n",
              "  <tbody>\n",
              "    <tr>\n",
              "      <th>0</th>\n",
              "      <td>df662812-7f97-0b43-9d3e-12f64f504fbb</td>\n",
              "      <td>0.25</td>\n",
              "      <td>680000000.0</td>\n",
              "      <td>2000-06-12</td>\n",
              "      <td>1984 days</td>\n",
              "      <td>680000000.0</td>\n",
              "      <td>2000-06-12</td>\n",
              "      <td>1984 days</td>\n",
              "      <td>680000000.0</td>\n",
              "      <td>3</td>\n",
              "      <td>1</td>\n",
              "    </tr>\n",
              "  </tbody>\n",
              "</table>\n",
              "</div>"
            ],
            "text/plain": [
              "                               org_uuid  ...  n_unique_lead_investors\n",
              "0  df662812-7f97-0b43-9d3e-12f64f504fbb  ...                        1\n",
              "\n",
              "[1 rows x 11 columns]"
            ]
          },
          "metadata": {
            "tags": []
          },
          "execution_count": 18
        }
      ]
    },
    {
      "cell_type": "code",
      "metadata": {
        "id": "nAQN7qJ0W_7n",
        "colab_type": "code",
        "colab": {
          "base_uri": "https://localhost:8080/",
          "height": 851
        },
        "outputId": "01c36350-b8fd-4ba6-cfa2-9226865164ac"
      },
      "source": [
        "DAYS_FORWARD_OPTIONS = [200, 500, 1000, 2000]\n",
        "\n",
        "features_by_days_forward = pd.DataFrame()\n",
        "\n",
        "for org_uuid in regression_df.org_uuid.unique():\n",
        "  for days_forward in DAYS_FORWARD_OPTIONS:\n",
        "    org_features = get_org_investor_features(org_uuid, days_forward)\n",
        "    org_features['org_uuid'] = org_uuid\n",
        "    org_features['days_forward'] = days_forward\n",
        "    features_by_days_forward = features_by_days_forward.append(org_features)\n",
        "\n",
        "features_by_days_forward.to_csv(\"/content/drive/My Drive/vc_modeling/data/investor_features_for_regression.csv\", index=False)\n",
        "features_by_days_forward.head(10)"
      ],
      "execution_count": 22,
      "outputs": [
        {
          "output_type": "execute_result",
          "data": {
            "text/html": [
              "<div>\n",
              "<style scoped>\n",
              "    .dataframe tbody tr th:only-of-type {\n",
              "        vertical-align: middle;\n",
              "    }\n",
              "\n",
              "    .dataframe tbody tr th {\n",
              "        vertical-align: top;\n",
              "    }\n",
              "\n",
              "    .dataframe thead th {\n",
              "        text-align: right;\n",
              "    }\n",
              "</style>\n",
              "<table border=\"1\" class=\"dataframe\">\n",
              "  <thead>\n",
              "    <tr style=\"text-align: right;\">\n",
              "      <th></th>\n",
              "      <th>pct_leads_invested_at_primary_type</th>\n",
              "      <th>lead_investor_total_fund_size_max</th>\n",
              "      <th>lead_investor_first_fund_announce_date_max</th>\n",
              "      <th>lead_investor_fund_age_max</th>\n",
              "      <th>lead_investor_total_fund_size_min</th>\n",
              "      <th>lead_investor_first_fund_announce_date_min</th>\n",
              "      <th>lead_investor_fund_age_min</th>\n",
              "      <th>lead_investor_total_fund_size_mean</th>\n",
              "      <th>org_uuid</th>\n",
              "      <th>n_unique_investors</th>\n",
              "      <th>n_unique_lead_investors</th>\n",
              "      <th>days_forward</th>\n",
              "    </tr>\n",
              "  </thead>\n",
              "  <tbody>\n",
              "    <tr>\n",
              "      <th>0</th>\n",
              "      <td>1.00</td>\n",
              "      <td>2.012333e+07</td>\n",
              "      <td>2019-10-01</td>\n",
              "      <td>280 days</td>\n",
              "      <td>2.012333e+07</td>\n",
              "      <td>2019-10-01</td>\n",
              "      <td>280 days</td>\n",
              "      <td>2.012333e+07</td>\n",
              "      <td>007bfe46-e02c-00b3-51ad-3a25e8d64851</td>\n",
              "      <td>3</td>\n",
              "      <td>1</td>\n",
              "      <td>2000</td>\n",
              "    </tr>\n",
              "    <tr>\n",
              "      <th>0</th>\n",
              "      <td>1.00</td>\n",
              "      <td>2.760000e+08</td>\n",
              "      <td>2017-09-27</td>\n",
              "      <td>871 days</td>\n",
              "      <td>2.760000e+08</td>\n",
              "      <td>2017-09-27</td>\n",
              "      <td>871 days</td>\n",
              "      <td>2.760000e+08</td>\n",
              "      <td>00c92d5a-057c-5495-b733-9798c098df5a</td>\n",
              "      <td>2</td>\n",
              "      <td>2</td>\n",
              "      <td>2000</td>\n",
              "    </tr>\n",
              "    <tr>\n",
              "      <th>0</th>\n",
              "      <td>1.00</td>\n",
              "      <td>2.164722e+08</td>\n",
              "      <td>2017-08-04</td>\n",
              "      <td>962 days</td>\n",
              "      <td>2.164722e+08</td>\n",
              "      <td>2017-08-04</td>\n",
              "      <td>962 days</td>\n",
              "      <td>2.164722e+08</td>\n",
              "      <td>00d68889-a6c8-dc4f-0ede-0bbb640a6137</td>\n",
              "      <td>3</td>\n",
              "      <td>1</td>\n",
              "      <td>2000</td>\n",
              "    </tr>\n",
              "    <tr>\n",
              "      <th>0</th>\n",
              "      <td>0.75</td>\n",
              "      <td>7.629000e+09</td>\n",
              "      <td>2004-05-04</td>\n",
              "      <td>4650 days</td>\n",
              "      <td>6.500000e+08</td>\n",
              "      <td>1995-06-26</td>\n",
              "      <td>1415 days</td>\n",
              "      <td>4.139500e+09</td>\n",
              "      <td>00e435dd-f616-27b3-9128-58fb909d04b4</td>\n",
              "      <td>4</td>\n",
              "      <td>4</td>\n",
              "      <td>200</td>\n",
              "    </tr>\n",
              "    <tr>\n",
              "      <th>0</th>\n",
              "      <td>0.75</td>\n",
              "      <td>7.629000e+09</td>\n",
              "      <td>2004-05-04</td>\n",
              "      <td>4950 days</td>\n",
              "      <td>6.500000e+08</td>\n",
              "      <td>1995-06-26</td>\n",
              "      <td>1715 days</td>\n",
              "      <td>4.139500e+09</td>\n",
              "      <td>00e435dd-f616-27b3-9128-58fb909d04b4</td>\n",
              "      <td>4</td>\n",
              "      <td>4</td>\n",
              "      <td>500</td>\n",
              "    </tr>\n",
              "    <tr>\n",
              "      <th>0</th>\n",
              "      <td>0.75</td>\n",
              "      <td>7.629000e+09</td>\n",
              "      <td>2004-05-04</td>\n",
              "      <td>5450 days</td>\n",
              "      <td>6.500000e+08</td>\n",
              "      <td>1995-06-26</td>\n",
              "      <td>2215 days</td>\n",
              "      <td>4.139500e+09</td>\n",
              "      <td>00e435dd-f616-27b3-9128-58fb909d04b4</td>\n",
              "      <td>4</td>\n",
              "      <td>4</td>\n",
              "      <td>1000</td>\n",
              "    </tr>\n",
              "    <tr>\n",
              "      <th>0</th>\n",
              "      <td>0.75</td>\n",
              "      <td>7.629000e+09</td>\n",
              "      <td>2004-05-04</td>\n",
              "      <td>6450 days</td>\n",
              "      <td>1.075000e+09</td>\n",
              "      <td>1995-06-26</td>\n",
              "      <td>3215 days</td>\n",
              "      <td>4.352000e+09</td>\n",
              "      <td>00e435dd-f616-27b3-9128-58fb909d04b4</td>\n",
              "      <td>4</td>\n",
              "      <td>4</td>\n",
              "      <td>2000</td>\n",
              "    </tr>\n",
              "    <tr>\n",
              "      <th>0</th>\n",
              "      <td>1.00</td>\n",
              "      <td>1.100000e+08</td>\n",
              "      <td>2017-03-09</td>\n",
              "      <td>748 days</td>\n",
              "      <td>1.100000e+08</td>\n",
              "      <td>2017-03-09</td>\n",
              "      <td>748 days</td>\n",
              "      <td>1.100000e+08</td>\n",
              "      <td>00f45176-42c5-1755-9e02-d8a2b05a4283</td>\n",
              "      <td>12</td>\n",
              "      <td>1</td>\n",
              "      <td>1000</td>\n",
              "    </tr>\n",
              "    <tr>\n",
              "      <th>0</th>\n",
              "      <td>1.00</td>\n",
              "      <td>2.920000e+08</td>\n",
              "      <td>2017-03-09</td>\n",
              "      <td>1748 days</td>\n",
              "      <td>2.920000e+08</td>\n",
              "      <td>2017-03-09</td>\n",
              "      <td>1748 days</td>\n",
              "      <td>2.920000e+08</td>\n",
              "      <td>00f45176-42c5-1755-9e02-d8a2b05a4283</td>\n",
              "      <td>12</td>\n",
              "      <td>1</td>\n",
              "      <td>2000</td>\n",
              "    </tr>\n",
              "    <tr>\n",
              "      <th>0</th>\n",
              "      <td>0.20</td>\n",
              "      <td>8.000000e+07</td>\n",
              "      <td>2015-12-17</td>\n",
              "      <td>1497 days</td>\n",
              "      <td>5.000000e+07</td>\n",
              "      <td>2011-11-21</td>\n",
              "      <td>10 days</td>\n",
              "      <td>6.500000e+07</td>\n",
              "      <td>0101ff8f-e75a-d321-7687-a6db709e074e</td>\n",
              "      <td>2</td>\n",
              "      <td>2</td>\n",
              "      <td>1000</td>\n",
              "    </tr>\n",
              "  </tbody>\n",
              "</table>\n",
              "</div>"
            ],
            "text/plain": [
              "   pct_leads_invested_at_primary_type  ...  days_forward\n",
              "0                                1.00  ...          2000\n",
              "0                                1.00  ...          2000\n",
              "0                                1.00  ...          2000\n",
              "0                                0.75  ...           200\n",
              "0                                0.75  ...           500\n",
              "0                                0.75  ...          1000\n",
              "0                                0.75  ...          2000\n",
              "0                                1.00  ...          1000\n",
              "0                                1.00  ...          2000\n",
              "0                                0.20  ...          1000\n",
              "\n",
              "[10 rows x 12 columns]"
            ]
          },
          "metadata": {
            "tags": []
          },
          "execution_count": 22
        }
      ]
    },
    {
      "cell_type": "code",
      "metadata": {
        "id": "Sn-bL2av2feM",
        "colab_type": "code",
        "colab": {}
      },
      "source": [
        ""
      ],
      "execution_count": null,
      "outputs": []
    }
  ]
}