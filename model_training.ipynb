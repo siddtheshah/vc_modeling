{
  "nbformat": 4,
  "nbformat_minor": 0,
  "metadata": {
    "colab": {
      "name": "model_training.ipynb",
      "provenance": [],
      "collapsed_sections": [],
      "authorship_tag": "ABX9TyPZ19mhjIm93Vh55laqch62",
      "include_colab_link": true
    },
    "kernelspec": {
      "name": "python3",
      "display_name": "Python 3"
    }
  },
  "cells": [
    {
      "cell_type": "markdown",
      "metadata": {
        "id": "view-in-github",
        "colab_type": "text"
      },
      "source": [
        "<a href=\"https://colab.research.google.com/github/amitsp21/vc_modeling/blob/master/model_training.ipynb\" target=\"_parent\"><img src=\"https://colab.research.google.com/assets/colab-badge.svg\" alt=\"Open In Colab\"/></a>"
      ]
    },
    {
      "cell_type": "code",
      "metadata": {
        "id": "Yqiy6AmJdJq8",
        "colab_type": "code",
        "colab": {}
      },
      "source": [
        "# Import the libraries we will be using\n",
        "import numpy as np\n",
        "import pandas as pd\n",
        "import os\n",
        "from sklearn.tree import DecisionTreeClassifier\n",
        "from sklearn.linear_model import LogisticRegression\n",
        "from sklearn.svm import SVC\n",
        "from sklearn import metrics\n",
        "from sklearn.model_selection import cross_val_score\n",
        "from sklearn.model_selection import train_test_split\n",
        "from sklearn.metrics import plot_precision_recall_curve\n",
        "from sklearn.metrics import precision_recall_curve\n",
        "from sklearn.metrics import average_precision_score"
      ],
      "execution_count": 5,
      "outputs": []
    },
    {
      "cell_type": "code",
      "metadata": {
        "id": "Z8sPdeqVdeKZ",
        "colab_type": "code",
        "colab": {
          "base_uri": "https://localhost:8080/",
          "height": 51
        },
        "outputId": "1793f333-c0cf-46f4-a03d-7264238cba61"
      },
      "source": [
        "from google.colab import drive\n",
        "drive.mount('/content/gdrive')\n",
        "os.listdir('/content/gdrive/My Drive/vc_modeling')"
      ],
      "execution_count": 6,
      "outputs": [
        {
          "output_type": "stream",
          "text": [
            "Drive already mounted at /content/gdrive; to attempt to forcibly remount, call drive.mount(\"/content/gdrive\", force_remount=True).\n"
          ],
          "name": "stdout"
        },
        {
          "output_type": "execute_result",
          "data": {
            "text/plain": [
              "['data']"
            ]
          },
          "metadata": {
            "tags": []
          },
          "execution_count": 6
        }
      ]
    },
    {
      "cell_type": "code",
      "metadata": {
        "id": "_xnzuSpLdl66",
        "colab_type": "code",
        "colab": {
          "base_uri": "https://localhost:8080/",
          "height": 34
        },
        "outputId": "162d5461-c165-4752-f80e-77d3ba6b2b81"
      },
      "source": [
        "path_prefix = \"/content/gdrive/My Drive/vc_modeling/data/\"\n",
        "feature_csv_filenames = [\"organization_founders_features.csv\", \"timeline.csv\"]\n",
        "dfs = [pd.read_csv(path_prefix + x) for x in feature_csv_filenames]\n",
        "df_names = [x[:-4] for x in feature_csv_filenames]\n",
        "df_dict = dict(zip(df_names, dfs))\n",
        "df_dict.keys()"
      ],
      "execution_count": 11,
      "outputs": [
        {
          "output_type": "execute_result",
          "data": {
            "text/plain": [
              "dict_keys(['organization_founders_features', 'timeline'])"
            ]
          },
          "metadata": {
            "tags": []
          },
          "execution_count": 11
        }
      ]
    },
    {
      "cell_type": "code",
      "metadata": {
        "id": "uOUMB1p1eldi",
        "colab_type": "code",
        "colab": {
          "base_uri": "https://localhost:8080/",
          "height": 204
        },
        "outputId": "c7d20a40-88d0-40c5-9f4b-a42d077603a5"
      },
      "source": [
        "founders_df = df_dict[\"organization_founders_features\"]\n",
        "founders_df.head()"
      ],
      "execution_count": 12,
      "outputs": [
        {
          "output_type": "execute_result",
          "data": {
            "text/html": [
              "<div>\n",
              "<style scoped>\n",
              "    .dataframe tbody tr th:only-of-type {\n",
              "        vertical-align: middle;\n",
              "    }\n",
              "\n",
              "    .dataframe tbody tr th {\n",
              "        vertical-align: top;\n",
              "    }\n",
              "\n",
              "    .dataframe thead th {\n",
              "        text-align: right;\n",
              "    }\n",
              "</style>\n",
              "<table border=\"1\" class=\"dataframe\">\n",
              "  <thead>\n",
              "    <tr style=\"text-align: right;\">\n",
              "      <th></th>\n",
              "      <th>org_uuid</th>\n",
              "      <th>founders_max_rank</th>\n",
              "      <th>founders_top_college</th>\n",
              "      <th>founders_max_degree_type_ordinal</th>\n",
              "      <th>founders_max_degree_count</th>\n",
              "      <th>founders_count</th>\n",
              "    </tr>\n",
              "  </thead>\n",
              "  <tbody>\n",
              "    <tr>\n",
              "      <th>0</th>\n",
              "      <td>000014da-0c46-b9cb-0941-3a93c027b119</td>\n",
              "      <td>438498.0</td>\n",
              "      <td>0</td>\n",
              "      <td>2.0</td>\n",
              "      <td>1.0</td>\n",
              "      <td>4</td>\n",
              "    </tr>\n",
              "    <tr>\n",
              "      <th>1</th>\n",
              "      <td>00002470-bff7-6226-5800-0ca1b3787b6f</td>\n",
              "      <td>399048.0</td>\n",
              "      <td>1</td>\n",
              "      <td>2.0</td>\n",
              "      <td>2.0</td>\n",
              "      <td>2</td>\n",
              "    </tr>\n",
              "    <tr>\n",
              "      <th>2</th>\n",
              "      <td>00007c5c-9260-0dfb-c160-89a416f1a7cc</td>\n",
              "      <td>525715.0</td>\n",
              "      <td>0</td>\n",
              "      <td>NaN</td>\n",
              "      <td>NaN</td>\n",
              "      <td>2</td>\n",
              "    </tr>\n",
              "    <tr>\n",
              "      <th>3</th>\n",
              "      <td>0000b5c1-07dd-aeb6-2b17-eb3d64e652a6</td>\n",
              "      <td>147007.0</td>\n",
              "      <td>0</td>\n",
              "      <td>2.0</td>\n",
              "      <td>1.0</td>\n",
              "      <td>1</td>\n",
              "    </tr>\n",
              "    <tr>\n",
              "      <th>4</th>\n",
              "      <td>0000c0e1-eb00-9281-9a7f-63dfa277e8df</td>\n",
              "      <td>289919.0</td>\n",
              "      <td>0</td>\n",
              "      <td>NaN</td>\n",
              "      <td>NaN</td>\n",
              "      <td>1</td>\n",
              "    </tr>\n",
              "  </tbody>\n",
              "</table>\n",
              "</div>"
            ],
            "text/plain": [
              "                               org_uuid  ...  founders_count\n",
              "0  000014da-0c46-b9cb-0941-3a93c027b119  ...               4\n",
              "1  00002470-bff7-6226-5800-0ca1b3787b6f  ...               2\n",
              "2  00007c5c-9260-0dfb-c160-89a416f1a7cc  ...               2\n",
              "3  0000b5c1-07dd-aeb6-2b17-eb3d64e652a6  ...               1\n",
              "4  0000c0e1-eb00-9281-9a7f-63dfa277e8df  ...               1\n",
              "\n",
              "[5 rows x 6 columns]"
            ]
          },
          "metadata": {
            "tags": []
          },
          "execution_count": 12
        }
      ]
    },
    {
      "cell_type": "code",
      "metadata": {
        "id": "q05bVEZAmxPs",
        "colab_type": "code",
        "colab": {
          "base_uri": "https://localhost:8080/",
          "height": 238
        },
        "outputId": "a14003ec-3e54-4511-cc47-19fac0a5ab05"
      },
      "source": [
        "timeline_df = df_dict[\"timeline\"]\n",
        "timeline_df.info()"
      ],
      "execution_count": 57,
      "outputs": [
        {
          "output_type": "stream",
          "text": [
            "<class 'pandas.core.frame.DataFrame'>\n",
            "RangeIndex: 470732 entries, 0 to 470731\n",
            "Data columns (total 6 columns):\n",
            " #   Column         Non-Null Count   Dtype  \n",
            "---  ------         --------------   -----  \n",
            " 0   org_uuid       470732 non-null  object \n",
            " 1   date           470732 non-null  object \n",
            " 2   valuation      36215 non-null   float64\n",
            " 3   event          470713 non-null  object \n",
            " 4   is_succeeding  470732 non-null  bool   \n",
            " 5   has_succeeded  470732 non-null  int64  \n",
            "dtypes: bool(1), float64(1), int64(1), object(3)\n",
            "memory usage: 18.4+ MB\n"
          ],
          "name": "stdout"
        }
      ]
    },
    {
      "cell_type": "code",
      "metadata": {
        "id": "h5Unm55He7x6",
        "colab_type": "code",
        "colab": {
          "base_uri": "https://localhost:8080/",
          "height": 221
        },
        "outputId": "037fa983-5c02-4e6e-d19e-237daf1dd9ff"
      },
      "source": [
        "timeline_df[\"has_succeeded\"] = timeline_df[\"has_succeeded\"].astype(int)\n",
        "timeline_success_df = timeline_df[timeline_df[\"has_succeeded\"] == 1].drop_duplicates([\"org_uuid\"])[[\"org_uuid\", \"has_succeeded\"]]\n",
        "print(\"num companies succeeded: \" + str(len(timeline_success_df)))\n",
        "\n",
        "founders_and_success_df = founders_df.join(timeline_success_df.set_index(\"org_uuid\"), on=[\"org_uuid\"])\n",
        "founders_and_success_df[\"has_succeeded\"] = founders_and_success_df[\"has_succeeded\"].fillna(0)\n",
        "\n",
        "founders_and_success_df[\"founders_max_degree_type_ordinal\"] = founders_and_success_df[\"founders_max_degree_type_ordinal\"].replace(\"-1\", np.nan)\n",
        "founders_and_success_df[\"founders_max_degree_count\"] = founders_and_success_df[\"founders_max_degree_count\"].replace(\"-1\", np.nan)\n",
        "founders_and_success_df[\"founders_count\"] = founders_and_success_df[\"founders_count\"].replace(\"-1\", np.nan)\n",
        "\n",
        "founders_and_success_df.head()"
      ],
      "execution_count": 109,
      "outputs": [
        {
          "output_type": "stream",
          "text": [
            "num companies succeeded: 700\n"
          ],
          "name": "stdout"
        },
        {
          "output_type": "execute_result",
          "data": {
            "text/html": [
              "<div>\n",
              "<style scoped>\n",
              "    .dataframe tbody tr th:only-of-type {\n",
              "        vertical-align: middle;\n",
              "    }\n",
              "\n",
              "    .dataframe tbody tr th {\n",
              "        vertical-align: top;\n",
              "    }\n",
              "\n",
              "    .dataframe thead th {\n",
              "        text-align: right;\n",
              "    }\n",
              "</style>\n",
              "<table border=\"1\" class=\"dataframe\">\n",
              "  <thead>\n",
              "    <tr style=\"text-align: right;\">\n",
              "      <th></th>\n",
              "      <th>org_uuid</th>\n",
              "      <th>founders_max_rank</th>\n",
              "      <th>founders_top_college</th>\n",
              "      <th>founders_max_degree_type_ordinal</th>\n",
              "      <th>founders_max_degree_count</th>\n",
              "      <th>founders_count</th>\n",
              "      <th>has_succeeded</th>\n",
              "    </tr>\n",
              "  </thead>\n",
              "  <tbody>\n",
              "    <tr>\n",
              "      <th>0</th>\n",
              "      <td>000014da-0c46-b9cb-0941-3a93c027b119</td>\n",
              "      <td>438498.0</td>\n",
              "      <td>0</td>\n",
              "      <td>2.0</td>\n",
              "      <td>1.0</td>\n",
              "      <td>4</td>\n",
              "      <td>0.0</td>\n",
              "    </tr>\n",
              "    <tr>\n",
              "      <th>1</th>\n",
              "      <td>00002470-bff7-6226-5800-0ca1b3787b6f</td>\n",
              "      <td>399048.0</td>\n",
              "      <td>1</td>\n",
              "      <td>2.0</td>\n",
              "      <td>2.0</td>\n",
              "      <td>2</td>\n",
              "      <td>0.0</td>\n",
              "    </tr>\n",
              "    <tr>\n",
              "      <th>2</th>\n",
              "      <td>00007c5c-9260-0dfb-c160-89a416f1a7cc</td>\n",
              "      <td>525715.0</td>\n",
              "      <td>0</td>\n",
              "      <td>NaN</td>\n",
              "      <td>NaN</td>\n",
              "      <td>2</td>\n",
              "      <td>0.0</td>\n",
              "    </tr>\n",
              "    <tr>\n",
              "      <th>3</th>\n",
              "      <td>0000b5c1-07dd-aeb6-2b17-eb3d64e652a6</td>\n",
              "      <td>147007.0</td>\n",
              "      <td>0</td>\n",
              "      <td>2.0</td>\n",
              "      <td>1.0</td>\n",
              "      <td>1</td>\n",
              "      <td>0.0</td>\n",
              "    </tr>\n",
              "    <tr>\n",
              "      <th>4</th>\n",
              "      <td>0000c0e1-eb00-9281-9a7f-63dfa277e8df</td>\n",
              "      <td>289919.0</td>\n",
              "      <td>0</td>\n",
              "      <td>NaN</td>\n",
              "      <td>NaN</td>\n",
              "      <td>1</td>\n",
              "      <td>0.0</td>\n",
              "    </tr>\n",
              "  </tbody>\n",
              "</table>\n",
              "</div>"
            ],
            "text/plain": [
              "                               org_uuid  ...  has_succeeded\n",
              "0  000014da-0c46-b9cb-0941-3a93c027b119  ...            0.0\n",
              "1  00002470-bff7-6226-5800-0ca1b3787b6f  ...            0.0\n",
              "2  00007c5c-9260-0dfb-c160-89a416f1a7cc  ...            0.0\n",
              "3  0000b5c1-07dd-aeb6-2b17-eb3d64e652a6  ...            0.0\n",
              "4  0000c0e1-eb00-9281-9a7f-63dfa277e8df  ...            0.0\n",
              "\n",
              "[5 rows x 7 columns]"
            ]
          },
          "metadata": {
            "tags": []
          },
          "execution_count": 109
        }
      ]
    },
    {
      "cell_type": "markdown",
      "metadata": {
        "id": "Q2UJQFRrtJ8O",
        "colab_type": "text"
      },
      "source": [
        ""
      ]
    },
    {
      "cell_type": "code",
      "metadata": {
        "id": "eN5qPFR-oQJt",
        "colab_type": "code",
        "colab": {
          "base_uri": "https://localhost:8080/",
          "height": 34
        },
        "outputId": "2f05d729-0a0f-47e7-b759-1d8b45b37100"
      },
      "source": [
        "len(founders_and_success_df[founders_and_success_df[\"has_succeeded\"]==0])"
      ],
      "execution_count": 68,
      "outputs": [
        {
          "output_type": "execute_result",
          "data": {
            "text/plain": [
              "229408"
            ]
          },
          "metadata": {
            "tags": []
          },
          "execution_count": 68
        }
      ]
    },
    {
      "cell_type": "code",
      "metadata": {
        "id": "NQUjj0NFe0sB",
        "colab_type": "code",
        "colab": {
          "base_uri": "https://localhost:8080/",
          "height": 221
        },
        "outputId": "e36e5b21-b739-4209-b1e7-99293982beb6"
      },
      "source": [
        "from sklearn.impute import SimpleImputer\n",
        "\n",
        "imp = SimpleImputer(missing_values=np.nan, strategy='mean')\n",
        "\n",
        "modelConfigs = [\n",
        "    {'label': 'Logistic Regression', 'model': LogisticRegression(C=1., solver='liblinear')},\n",
        "    {'label': 'CART', 'model': DecisionTreeClassifier(criterion=\"entropy\", min_samples_leaf=300, random_state=42)}\n",
        "]\n",
        "\n",
        "data = founders_and_success_df\n",
        "Y = data['has_succeeded']\n",
        "X = data.drop(['org_uuid', 'has_succeeded'], axis=1)\n",
        "\n",
        "imp = imp.fit(X)\n",
        "X = pd.DataFrame(imp.transform(X))\n",
        "\n",
        "X_train, X_test, Y_train, Y_test = train_test_split(X, Y, test_size=0.50, random_state=422)\n",
        "\n",
        "for config in modelConfigs:\n",
        "    print(\"Testing \" + config['label'] + \" model...\")\n",
        "    model = config['model']\n",
        "    X_train_imputed = imp.transform(X_train)\n",
        "    model.fit(X_train_imputed, Y_train)\n",
        "\n",
        "    # Get the probability of Y_test records being = 1\n",
        "    X_test_imputed = imp.transform(X_test)\n",
        "    Y_test_probability_1 = model.predict_proba(X_test_imputed)[:, 1]\n",
        "    \n",
        "    prediction = Y_test_probability_1 > 0.50\n",
        "\n",
        "    # Build and print a confusion matrix\n",
        "    confusion_matrix = metrics.confusion_matrix(Y_test, prediction, labels=[1, 0])\n",
        "    confusion_matrix_large = pd.DataFrame(confusion_matrix.T, columns=['p', 'n'], index=['Y', 'N'])\n",
        "    \n",
        "    # Compute tp, fp, tn and fn to compute error\n",
        "    tp = confusion_matrix[0][0]\n",
        "    fp = confusion_matrix[0][1]\n",
        "    tn = confusion_matrix[1][1]\n",
        "    fn = confusion_matrix[1][0]\n",
        "    error = (fp + fn) / (tp + fp + tn + fn)\n",
        "    print(confusion_matrix_large)\n",
        "    print(\"error: \" + str(error))\n",
        "\n",
        "    # Use the metrics.roc_curve function to get the true positive rate (tpr) and false positive rate (fpr)\n",
        "    fpr, tpr, thresholds = metrics.roc_curve(Y_test, Y_test_probability_1)\n",
        "    \n",
        "    # Get the area under the curve (AUC)\n",
        "    auc = np.mean(cross_val_score(model, X, Y, scoring=\"roc_auc\", cv=5))\n",
        "\n",
        "    # Calculate precision-recall\n",
        "    precision, recall, _ = precision_recall_curve(Y_test, Y_test_probability_1)\n",
        "    \n",
        "    print(\"\")"
      ],
      "execution_count": 125,
      "outputs": [
        {
          "output_type": "stream",
          "text": [
            "Testing Logistic Regression model...\n",
            "     p      n\n",
            "Y    0      0\n",
            "N  143  99082\n",
            "error: 0.0014411690602166793\n",
            "\n",
            "Testing CART model...\n",
            "     p      n\n",
            "Y    0      0\n",
            "N  143  99082\n",
            "error: 0.0014411690602166793\n",
            "\n"
          ],
          "name": "stdout"
        }
      ]
    }
  ]
}