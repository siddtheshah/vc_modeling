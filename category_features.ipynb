{
  "nbformat": 4,
  "nbformat_minor": 0,
  "metadata": {
    "colab": {
      "name": "category_features.ipynb",
      "provenance": [],
      "authorship_tag": "ABX9TyOwiY9U/pcLH0YwsK0JePqC",
      "include_colab_link": true
    },
    "kernelspec": {
      "name": "python3",
      "display_name": "Python 3"
    }
  },
  "cells": [
    {
      "cell_type": "markdown",
      "metadata": {
        "id": "view-in-github",
        "colab_type": "text"
      },
      "source": [
        "<a href=\"https://colab.research.google.com/github/siddtheshah/vc_modeling/blob/master/category_features.ipynb\" target=\"_parent\"><img src=\"https://colab.research.google.com/assets/colab-badge.svg\" alt=\"Open In Colab\"/></a>"
      ]
    },
    {
      "cell_type": "code",
      "metadata": {
        "id": "LLj02yHu8Fm5",
        "colab_type": "code",
        "colab": {
          "base_uri": "https://localhost:8080/",
          "height": 222
        },
        "outputId": "3537cc84-a0d4-4dcb-9f1d-ff8605996b35"
      },
      "source": [
        "import os\n",
        "import numpy as np\n",
        "import pandas as pd\n",
        "import matplotlib.pyplot as plt\n",
        "!pip install cityhash\n",
        "import cityhash\n",
        "import pandas\n",
        "\n",
        "from copy import deepcopy"
      ],
      "execution_count": 1,
      "outputs": [
        {
          "output_type": "stream",
          "text": [
            "Collecting cityhash\n",
            "\u001b[?25l  Downloading https://files.pythonhosted.org/packages/25/67/65ad3755997c066766750525fdf3045609f5ee892fa5b037e7fc066505a4/cityhash-0.2.3.post9.tar.gz (48kB)\n",
            "\r\u001b[K     |██████▊                         | 10kB 10.4MB/s eta 0:00:01\r\u001b[K     |█████████████▍                  | 20kB 2.1MB/s eta 0:00:01\r\u001b[K     |████████████████████            | 30kB 2.8MB/s eta 0:00:01\r\u001b[K     |██████████████████████████▊     | 40kB 3.0MB/s eta 0:00:01\r\u001b[K     |████████████████████████████████| 51kB 1.7MB/s \n",
            "\u001b[?25hBuilding wheels for collected packages: cityhash\n",
            "  Building wheel for cityhash (setup.py) ... \u001b[?25l\u001b[?25hdone\n",
            "  Created wheel for cityhash: filename=cityhash-0.2.3.post9-cp36-cp36m-linux_x86_64.whl size=82872 sha256=0e0a9dce2b8557f7e31b05c0893dbff7b3bf0f76aa79cd63a045a7a34f22fa50\n",
            "  Stored in directory: /root/.cache/pip/wheels/a4/4d/ae/cf0f1f8058ca2738fe972c69291083a0a06765271fb1047edd\n",
            "Successfully built cityhash\n",
            "Installing collected packages: cityhash\n",
            "Successfully installed cityhash-0.2.3.post9\n"
          ],
          "name": "stdout"
        }
      ]
    },
    {
      "cell_type": "code",
      "metadata": {
        "id": "DNCUUReS8P_O",
        "colab_type": "code",
        "colab": {
          "base_uri": "https://localhost:8080/",
          "height": 129
        },
        "outputId": "17cecfa8-f565-4a8d-eb5a-7f060d63cd14"
      },
      "source": [
        "from google.colab import drive\n",
        "drive.mount('/content/gdrive')"
      ],
      "execution_count": 2,
      "outputs": [
        {
          "output_type": "stream",
          "text": [
            "Go to this URL in a browser: https://accounts.google.com/o/oauth2/auth?client_id=947318989803-6bn6qk8qdgf4n4g3pfee6491hc0brc4i.apps.googleusercontent.com&redirect_uri=urn%3aietf%3awg%3aoauth%3a2.0%3aoob&scope=email%20https%3a%2f%2fwww.googleapis.com%2fauth%2fdocs.test%20https%3a%2f%2fwww.googleapis.com%2fauth%2fdrive%20https%3a%2f%2fwww.googleapis.com%2fauth%2fdrive.photos.readonly%20https%3a%2f%2fwww.googleapis.com%2fauth%2fpeopleapi.readonly&response_type=code\n",
            "\n",
            "Enter your authorization code:\n",
            "··········\n",
            "Mounted at /content/gdrive\n"
          ],
          "name": "stdout"
        }
      ]
    },
    {
      "cell_type": "code",
      "metadata": {
        "id": "PWdZd9NBh5yC",
        "colab_type": "code",
        "colab": {
          "base_uri": "https://localhost:8080/",
          "height": 54
        },
        "outputId": "506d1a6d-b370-44fa-ea20-0597f5d4ec4d"
      },
      "source": [
        "org_info = pd.read_csv(\"/content/gdrive/My Drive/vc_modeling/data/crunchbase_bulk_export/organizations.csv\")\n",
        "print(np.shape(org_info))\n",
        "# Filter down the data purely to investees\n",
        "org_info = org_info[org_info['primary_role'] == 'company']\n",
        "print(np.shape(org_info))"
      ],
      "execution_count": 5,
      "outputs": [
        {
          "output_type": "stream",
          "text": [
            "(1089733, 41)\n",
            "(1025256, 41)\n"
          ],
          "name": "stdout"
        }
      ]
    },
    {
      "cell_type": "code",
      "metadata": {
        "id": "aTkfMfnE8Xl6",
        "colab_type": "code",
        "colab": {
          "base_uri": "https://localhost:8080/",
          "height": 277
        },
        "outputId": "dd8ced1e-6746-4016-ebe0-99671023c2da"
      },
      "source": [
        "import collections\n",
        "\n",
        "# Select organization data\n",
        "# Clean the df\n",
        "\n",
        "comma_sep_list_vars = ['category_list', 'category_groups_list']\n",
        "other_vars = ['uuid']\n",
        "org_info_selected = org_info[other_vars + comma_sep_list_vars]\n",
        "print(\"Rows to build vocabulary before NA drop: \", np.shape(org_info_selected)[0])\n",
        "org_info_selected = org_info_selected.dropna()\n",
        "org_info_selected = org_info_selected.reset_index(drop=True)\n",
        "\n",
        "vocabulary = collections.Counter()\n",
        "\n",
        "iter = 0\n",
        "test_stop = -1\n",
        "total_rows = np.shape(org_info_selected)[0]\n",
        "print(\"Processing \", total_rows, \" rows.\")\n",
        "for (i, row) in org_info_selected.iterrows():\n",
        "  if iter == test_stop:\n",
        "    break\n",
        "  iter += 1\n",
        "  if iter % 100000 == 0:\n",
        "    print(iter, \" of \", total_rows)\n",
        "\n",
        "  for col, _ in row.iteritems():\n",
        "    if col in comma_sep_list_vars:\n",
        "      # Break categories into unigrams\n",
        "      token_lists = [x.split(' ') for x in row[col].strip().split(',')]\n",
        "      tokens = []\n",
        "      for token_list in token_lists:\n",
        "        for token in token_list:\n",
        "          tokens.append(token)\n",
        "\n",
        "      for token in tokens:\n",
        "        vocabulary[token] += 1\n",
        "\n",
        "# Show the unfiltered vocabulary counts\n",
        "print(vocabulary.most_common())\n",
        "\n",
        "# Filter low count words\n",
        "low_count_threshold = 15\n",
        "keys_to_remove = []\n",
        "for word, count in vocabulary.items():\n",
        "  if count < low_count_threshold:\n",
        "    keys_to_remove.append(word)\n",
        "\n",
        "for key in keys_to_remove:\n",
        "  del vocabulary[key]\n",
        "\n",
        "# Now rank and filter by document frequency. The top half frequent words will be dropped\n",
        "key_list = list(vocabulary.keys())\n",
        "fraction_to_drop = .25\n",
        "chop = sorted(key_list, key=lambda x: vocabulary[x])[-int(fraction_to_drop*len(key_list)):]\n",
        "for key in chop:\n",
        "  del vocabulary[key]\n",
        "\n",
        "# Create index to word mapping\n",
        "word_to_index = {}\n",
        "word_index = 1 # Leave space for adding the hash key.\n",
        "for word, count in vocabulary.items():\n",
        "  word_to_index[word] = word_index\n",
        "  word_index += 1\n",
        "\n",
        "print(word_to_index)\n",
        "vocabulary_size = word_index"
      ],
      "execution_count": 11,
      "outputs": [
        {
          "output_type": "stream",
          "text": [
            "Filtered rows to build vocabulary:  963967\n",
            "Processing  963967  rows.\n",
            "100000  of  963967\n",
            "200000  of  963967\n",
            "300000  of  963967\n",
            "400000  of  963967\n",
            "500000  of  963967\n",
            "600000  of  963967\n",
            "700000  of  963967\n",
            "800000  of  963967\n",
            "900000  of  963967\n",
            "[('and', 783041), ('Software', 421264), ('Services', 376331), ('Information', 328481), ('Technology', 312525), ('Internet', 239214), ('Marketing', 190913), ('Health', 173889), ('Media', 169091), ('Care', 167984), ('Manufacturing', 167663), ('Entertainment', 134448), ('Advertising', 133623), ('Sales', 124540), ('Financial', 124035), ('Design', 122398), ('Hardware', 121259), ('Mobile', 119113), ('Shopping', 111194), ('Commerce', 104907), ('Real', 104381), ('Estate', 102213), ('Consumer', 98114), ('Apps', 98016), ('Engineering', 88802), ('Education', 86703), ('Science', 77933), ('Electronics', 77801), ('E-Commerce', 75006), ('Data', 73557), ('Analytics', 71562), ('Food', 69375), ('Consulting', 63881), ('Transportation', 61691), ('Energy', 59976), ('Beverage', 59761), ('Web', 57351), ('Publishing', 56964), ('Professional', 56423), ('Content', 54278), ('Lifestyle', 50994), ('Management', 50296), ('Security', 47692), ('Travel', 46833), ('Video', 46800), ('Biotechnology', 44521), ('Social', 39890), ('Community', 39739), ('Intelligence', 38311), ('Sports', 37102), ('Goods', 35752), ('Artificial', 33255), ('Tourism', 32107), ('Resources', 31832), ('Medical', 31279), ('Development', 28700), ('Digital', 27418), ('Telecommunications', 27232), ('Events', 26453), ('Music', 26082), ('Retail', 25982), ('Gaming', 25560), ('Sustainability', 24308), ('Industrial', 23817), ('Privacy', 23406), ('Platforms', 22895), ('Payments', 22889), ('Lending', 22705), ('Natural', 22333), ('Investments', 20811), ('Enterprise', 20357), ('Service', 20037), ('Clothing', 20025), ('Apparel', 20025), ('Computer', 19718), ('Fashion', 19136), ('Automotive', 18357), ('Finance', 18115), ('Agriculture', 17564), ('Communities', 16106), ('News', 15963), ('Audio', 15717), ('SaaS', 15668), ('Government', 15634), ('Business', 15034), ('Administrative', 15015), ('Messaging', 14692), ('Insurance', 14553), ('iOS', 13356), ('Legal', 13308), ('Product', 13277), ('FinTech', 13208), ('Cloud', 12995), ('Construction', 12728), ('of', 12236), ('Farming', 11889), ('Logistics', 11622), ('Things', 11106), ('Human', 11019), ('Printing', 10626), ('Network', 10509), ('Military', 10468), ('Banking', 10393), ('CRM', 10236), ('SEO', 10191), ('Home', 9954), ('Robotics', 9875), ('Pharmaceutical', 9716), ('Device', 9674), ('Recruiting', 9610), ('Fitness', 9607), ('Training', 9565), ('Automation', 9554), ('Learning', 9539), ('Graphic', 9237), ('Big', 9175), ('Marketplace', 8980), ('Public', 8966), ('Industry', 8907), ('Agency', 8818), ('Renewable', 8736), ('Online', 8715), ('Non', 8669), ('Profit', 8669), ('Games', 8664), ('Machine', 8292), ('Infrastructure', 8116), ('Hospitality', 7719), ('Building', 7680), ('Association', 7616), ('Search', 7555), ('Delivery', 7369), ('Reality', 7155), ('Navigation', 7018), ('B2B', 6993), ('Processing', 6989), ('Mapping', 6925), ('Property', 6896), ('Commercial', 6877), ('Brand', 6869), ('Developer', 6748), ('Cyber', 6645), ('Hosting', 6512), ('Oil', 6495), ('Gas', 6495), ('3D', 6446), ('Computing', 6282), ('Relations', 6190), ('Engine', 6163), ('Portals', 6096), ('Virtual', 5966), ('Event', 5961), ('Research', 5857), ('Material', 5804), ('Wellness', 5719), ('Machinery', 5617), ('Customer', 5579), ('Blockchain', 5553), ('Mining', 5516), ('Leisure', 5506), ('Android', 5393), ('Personal', 5335), ('Staffing', 5335), ('Restaurants', 5307), ('Accounting', 5263), ('E-Learning', 5196), ('Photography', 4913), ('Systems', 4843), ('IT', 4790), ('Tools', 4763), ('Communications', 4732), ('Solar', 4728), ('Supply', 4728), ('Chain', 4728), ('Venture', 4708), ('Capital', 4708), ('Broadcasting', 4699), ('Chemical', 4559), ('Environmental', 4502), ('Platform', 4498), ('EdTech', 4455), ('Market', 4381), ('Wireless', 4379), ('Small', 4209), ('Medium', 4209), ('Businesses', 4209), ('Location', 4184), ('Based', 4184), ('Beauty', 4155), ('Project', 4081), ('Film', 4044), ('Aerospace', 4017), ('Wholesale', 3853), ('Diagnostics', 3828), ('Sharing', 3770), ('Outsourcing', 3768), ('Hospital', 3760), ('Planning', 3744), ('Life', 3715), ('Email', 3659), ('Mechanical', 3633), ('Rental', 3602), ('Crowdfunding', 3541), ('Cryptocurrency', 3510), ('Local', 3493), ('Therapeutics', 3475), ('Water', 3240), ('Art', 3218), ('Architecture', 3172), ('Wine', 3057), ('And', 3057), ('Spirits', 3057), ('Production', 2905), ('Distribution', 2798), ('Streaming', 2742), ('Advice', 2739), ('Collaboration', 2696), ('Investment', 2624), ('Employment', 2608), ('Packaging', 2587), ('Furniture', 2586), ('Semiconductor', 2568), ('Interior', 2544), ('Electrical', 2532), ('Smart', 2491), ('Database', 2418), ('Document', 2382), ('Risk', 2377), ('Precious', 2363), ('Metals', 2363), ('Augmented', 2363), ('Networking', 2358), ('Language', 2344), ('Support', 2338), ('Drones', 2264), ('Storage', 2229), ('Decor', 2227), ('Resource', 2223), ('(ERP)', 2223), ('Wearables', 2197), ('TV', 2180), ('Creative', 2172), ('Time', 2168), ('Textiles', 2144), ('Hotel', 2136), ('Cosmetics', 2109), ('Center', 2060), ('Predictive', 1998), ('Gift', 1998), ('Jewelry', 1983), ('Asset', 1975), ('(ICT)', 1974), ('Blogging', 1971), ('Organic', 1959), ('Trading', 1904), ('Efficiency', 1896), ('Lighting', 1894), ('Innovation', 1889), ('Visualization', 1872), ('UX', 1851), ('Lead', 1833), ('Waste', 1807), ('Bitcoin', 1796), ('Biopharma', 1791), ('Residential', 1755), ('Photo', 1726), ('Communication', 1726), ('Integration', 1687), ('AgTech', 1683), ('Animation', 1673), ('Civil', 1652), ('Sporting', 1632), ('Shipping', 1621), ('Ad', 1602), ('CleanTech', 1602), ('Vision', 1591), ('Pet', 1573), ('Technical', 1559), ('Safety', 1557), ('Improvement', 1537), ('Career', 1521), ('Editing', 1509), ('Clean', 1505), ('Dental', 1481), ('Applications', 1477), ('Productivity', 1470), ('Generation', 1468), ('Test', 1453), ('Measurement', 1453), ('Law', 1444), ('Enforcement', 1444), ('Sensor', 1444), ('Open', 1435), ('Source', 1435), ('Exchanges', 1433), ('Recycling', 1433), ('Nutrition', 1426), ('Direct', 1416), ('Plastics', 1405), ('Rubber', 1405), ('Coupons', 1382), ('Peer', 1380), ('Ticketing', 1357), ('Cannabis', 1356), ('APIs', 1352), ('Credit', 1352), ('Impact', 1339), ('Children', 1321), ('Corporate', 1298), ('Identity', 1296), ('Recognition', 1278), ('Higher', 1278), ('Vehicles', 1274), ('Entrepreneurship', 1261), ('Task', 1259), (\"Women's\", 1232), ('VoIP', 1229), ('Warehousing', 1224), ('Devices', 1222), ('Translation', 1220), ('Electric', 1209), ('Vehicle', 1209), ('Wealth', 1170), ('Creators', 1162), ('Mineral', 1162), ('Air', 1159), ('Clinical', 1146), ('Trials', 1146), ('Sale', 1145), ('Autonomous', 1140), ('Crowdsourcing', 1136), ('Point', 1130), ('Outdoor', 1116), ('Renovation', 1114), ('Browsers', 1104), ('Genetics', 1092), ('Tech', 1091), ('Marine', 1087), ('Signage', 1086), ('Coworking', 1076), ('App', 1041), ('Purification', 1032), ('mHealth', 1021), ('InsurTech', 1021), ('Auctions', 1016), ('SEM', 1012), ('B2C', 993), ('Maintenance', 985), ('Private', 975), ('Nanotechnology', 973), ('Freight', 967), ('Employee', 961), ('Benefits', 961), ('Loyalty', 951), ('Programs', 951), ('Semantic', 940), ('PC', 921), ('File', 919), ('Billing', 918), ('Subscription', 914), ('Shoes', 883), ('Toys', 875), ('Intellectual', 867), ('Gamification', 861), ('PaaS', 858), ('Child', 850), ('GreenTech', 845), ('Adventure', 844), ('Coffee', 843), ('Incubators', 836), ('Garden', 831), ('Wedding', 824), ('Investing', 814), ('eSports', 813), ('Personalization', 808), ('Tutoring', 807), ('SMS', 798), ('Advanced', 798), ('Materials', 798), ('Knowledge', 788), ('Electronic', 782), ('Snack', 780), ('Promotion', 777), ('Gambling', 777), ('Embedded', 770), ('Card', 769), ('Charity', 769), ('Economy', 765), ('Dating', 763), ('Classifieds', 762), ('Auto', 762), ('Image', 753), ('EBooks', 752), ('Virtualization', 752), ('Branding', 752), ('Compliance', 737), ('Price', 730), ('Comparison', 730), ('to', 729), ('Recreation', 728), ('Railroad', 720), ('Journalism', 716), ('Outdoors', 712), ('Facilities', 711), ('Cards', 703), ('Veterinary', 703), ('Accommodations', 698), ('Geospatial', 694), ('Affiliate', 693), ('CAD', 693), ('Parking', 678), ('Medicine', 665), ('Parenting', 664), ('Craft', 663), ('Beer', 663), ('Eyewear', 662), ('Reputation', 655), ('Universities', 654), ('Catering', 644), ('Grocery', 638), ('Intelligent', 615), ('Stock', 610), ('Cooking', 607), ('Fleet', 605), ('Application', 604), ('Angel', 603), ('Fuel', 596), ('Casual', 595), ('Politics', 595), ('Call', 583), ('Battery', 582), ('Nursing', 572), ('Discovery', 564), ('Cities', 558), ('Skill', 555), ('Assessment', 555), ('GPS', 551), ('Quality', 545), ('Assurance', 545), ('Paper', 544), ('Dietary', 543), ('Supplements', 543), ('Power', 542), ('Grid', 542), ('Freelance', 541), ('Scheduling', 536), ('Biometrics', 532), ('Facility', 527), ('Transaction', 524), ('Performance', 522), ('Office', 522), ('Administration', 522), ('National', 517), ('Procurement', 517), ('Reservations', 515), ('Neuroscience', 508), ('Car', 507), ('Trade', 502), ('Shows', 502), ('Detection', 498), ('Leasing', 497), ('Ride', 495), ('GovTech', 492), ('Psychology', 491), ('Funding', 491), ('Domain', 491), ('Registrar', 491), ('Wind', 491), ('Conferencing', 490), ('Wired', 489), ('Flowers', 488), ('Landscaping', 487), ('Animal', 484), ('Feed', 484), ('Elder', 481), ('Ediscovery', 480), ('Satellite', 480), ('Baby', 477), ('ISP', 476), ('Optical', 469), ('Brewing', 468), ('Contact', 467), ('Resorts', 463), ('Reviews', 459), ('Radio', 457), ('Meeting', 444), ('CMS', 437), ('on', 435), ('Demand', 435), ('Laundry', 435), ('Dry-cleaning', 435), ('Fraud', 434), ('Fantasy', 431), ('Green', 425), ('Interaction', 423), ('Family', 421), ('Alternative', 421), ('Casino', 418), ('Winery', 414), ('Taxi', 411), ('Vacation', 403), (\"Men's\", 399), ('(EDA)', 397), ('Bakery', 393), ('Concerts', 390), ('Podcast', 389), ('Space', 389), ('Record', 385), ('(EHR)', 385), ('Musical', 384), ('Instruments', 384), ('Simulation', 383), ('Self-Storage', 381), ('Unified', 376), ('Forums', 375), ('Laser', 375), ('Tour', 374), ('Operator', 374), ('Biomass', 365), ('Speech', 363), ('Guides', 362), ('Testing', 361), ('Performing', 355), ('Arts', 355), ('RFID', 353), ('Assistant', 348), ('Wood', 347), ('Chat', 345), ('Tea', 345), ('Currency', 343), ('IaaS', 341), ('Collaborative', 341), ('Consumption', 341), ('Courier', 341), ('Handmade', 338), ('Physical', 335), ('STEM', 334), ('Assistive', 329), ('Targeting', 326), ('Ethereum', 326), ('Presentations', 320), ('Forestry', 310), ('Rehabilitation', 309), ('Cycling', 304), ('Religion', 304), ('Bioinformatics', 301), ('Text', 298), ('Homeland', 297), ('Fruit', 294), ('Operating', 289), ('Aquaculture', 287), ('Last', 284), ('Mile', 284), ('Theatre', 282), ('Nightlife', 276), ('Primary', 271), ('Windows', 270), ('Cosmetic', 267), ('Surgery', 267), ('Linux', 266), ('Hedge', 265), ('Funds', 265), ('Browser', 258), ('Extensions', 258), ('Soccer', 256), ('Flash', 251), ('Visual', 249), ('Bookmarking', 248), ('Preparation', 244), ('Emergency', 244), ('Motion', 243), ('Capture', 243), ('Funerals', 241), ('Markets', 241), ('Continuing', 236), ('Seafood', 234), ('Workforce', 233), ('Boating', 233), ('Tobacco', 229), ('Group', 229), ('Buying', 229), ('QR', 225), ('Codes', 225), ('Housekeeping', 224), ('Celebrity', 209), ('Debt', 208), ('Collections', 208), ('Drone', 208), ('Biofuel', 207), ('Golf', 207), ('Museums', 206), ('Historical', 206), ('Sites', 206), ('Diabetes', 204), ('MMO', 202), ('DIY', 202), ('Same', 198), ('Day', 198), ('Independent', 197), ('Humanitarian', 192), ('Retirement', 192), ('Emerging', 189), ('Label', 189), ('Venues', 187), ('Usability', 185), ('Fast-Moving', 182), ('SNS', 181), ('Farmers', 181), ('Secondary', 180), ('Franchise', 180), ('Desktop', 177), ('Mall', 177), ('NFC', 176), ('Facebook', 175), ('Racing', 173), ('Pollution', 173), ('Control', 173), ('Archiving', 171), ('Google', 170), ('College', 170), ('Comics', 169), ('Nightclubs', 167), ('CivicTech', 167), ('Lingerie', 165), ('Young', 164), ('Adults', 164), ('Facial', 162), ('Edutainment', 160), ('Elderly', 156), ('Reading', 155), ('Collectibles', 154), ('Livestock', 154), ('Nutraceutical', 152), ('Assistance', 151), ('Exchange', 150), ('Vocational', 149), ('Micro', 148), ('Syndication', 148), ('Charter', 147), ('Schools', 147), ('Recipes', 145), ('Console', 141), ('Sponsorship', 141), ('Multi-level', 141), ('Swimming', 141), ('Recreational', 134), ('Assisted', 134), ('Living', 134), ('Q&A', 133), ('Trucks', 133), ('E-Signature', 130), ('Indoor', 129), ('Positioning', 129), ('Confectionery', 129), ('Horticulture', 125), ('Debit', 123), ('Server', 123), ('Hydroponics', 122), ('Vending', 119), ('Concessions', 119), ('Fertility', 118), ('Amusement', 118), ('Park', 118), ('Arcade', 118), ('DSP', 117), ('Broker', 115), ('Quantum', 114), ('Retargeting', 112), ('Audiobooks', 112), ('Penetration', 108), ('Presentation', 107), ('Adult', 105), ('Nuclear', 100), ('Janitorial', 96), ('Limousine', 94), ('Freemium', 93), ('Diving', 90), ('Serious', 90), ('Field', 90), ('World', 87), ('Sex', 87), ('Hunting', 87), ('Parks', 84), ('Specific', 82), ('Integrated', 82), ('Circuit', 82), ('(ASIC)', 82), ('Teenagers', 81), ('Cause', 80), ('Ports', 80), ('Harbors', 80), ('Distillery', 77), ('LGBT', 72), ('Cell', 70), ('Tennis', 69), ('A/B', 68), ('Vertical', 68), ('In-Flight', 68), ('Quantified', 66), ('Self', 66), ('American', 64), ('Football', 64), ('Intrusion', 64), ('Alumni', 62), ('Timber', 62), ('MOOC', 61), ('Outpatient', 59), ('Skiing', 56), ('Spam', 54), ('Filtering', 54), ('Sailing', 54), ('Bureau', 52), ('Prediction', 52), ('Contests', 51), ('First', 51), ('Aid', 51), ('Textbook', 51), ('Collection', 50), ('GPU', 49), ('WebOS', 48), ('Equestrian', 44), ('macOS', 43), ('Phone', 41), ('Field-Programmable', 41), ('Gate', 41), ('Array', 41), ('(FPGA)', 41), ('Registry', 40), ('Glass', 40), ('Twitter', 39), ('Homeless', 39), ('Shelter', 39), ('Made', 39), ('Order', 39), ('Millennials', 39), ('Basketball', 33), ('DRM', 32), ('Fossil', 31), ('Fuels', 31), ('Playstation', 28), ('Surfing', 27), ('Foundries', 26), ('Underserved', 25), ('Cricket', 23), ('Corrections', 22), ('Hockey', 21), ('Timeshare', 20), ('Xbox', 18), ('Baseball', 18), ('Extermination', 15), ('Z', 14), ('Nintendo', 9), ('Darknet', 9), ('Roku', 8), ('Ferry', 8), ('Table', 7), ('Volley', 6), ('Ball', 6), ('Rugby', 3), ('RISC', 2), ('Ultimate', 1), ('Frisbee', 1)]\n",
            "{'Collaboration': 1, 'Project': 2, 'Streaming': 3, 'File': 4, 'Sharing': 5, 'Blogging': 6, 'SMS': 7, 'Personalization': 8, 'EBooks': 9, 'Subscription': 10, 'Auctions': 11, 'Location': 12, 'Time': 13, 'TV': 14, 'Embedded': 15, 'Hedge': 16, 'Funds': 17, 'Precious': 18, 'Metals': 19, 'Contact': 20, 'Language': 21, 'Knowledge': 22, 'Currency': 23, 'Film': 24, 'Production': 25, 'Crowdfunding': 26, 'Creators': 27, 'VoIP': 28, 'GPS': 29, 'Bookmarking': 30, 'Document': 31, 'Browsers': 32, 'Predictive': 33, 'Risk': 34, 'Browser': 35, 'Extensions': 36, 'Devices': 37, 'Database': 38, 'Dating': 39, 'Beauty': 40, 'Chat': 41, 'APIs': 42, 'Email': 43, 'Forums': 44, 'Celebrity': 45, 'Innovation': 46, 'Radio': 47, 'PaaS': 48, 'Facebook': 49, 'Ticketing': 50, 'Life': 51, 'Photo': 52, 'PC': 53, 'World': 54, 'Private': 55, 'Networking': 56, 'Podcast': 57, 'Coupons': 58, 'Local': 59, 'Hotel': 60, 'Pet': 61, 'Technical': 62, 'Support': 63, 'Exchanges': 64, 'Stock': 65, 'Ad': 66, 'Exchange': 67, 'Discovery': 68, 'Ediscovery': 69, 'Integration': 70, 'Physical': 71, 'Flash': 72, 'Storage': 73, 'Concerts': 74, 'Smart': 75, 'Nightlife': 76, 'Vision': 77, 'Drones': 78, 'National': 79, 'Freelance': 80, 'Peer': 81, 'to': 82, 'Employment': 83, 'Classifieds': 84, 'Reviews': 85, 'Cooking': 86, 'Recipes': 87, 'Teenagers': 88, 'WebOS': 89, 'Point': 90, 'Sale': 91, 'Promotion': 92, 'Shipping': 93, 'Universities': 94, 'Virtualization': 95, 'Identity': 96, 'App': 97, 'Crowdsourcing': 98, 'on': 99, 'Demand': 100, 'Creative': 101, 'Semantic': 102, 'Angel': 103, 'Investment': 104, 'Transaction': 105, 'Distribution': 106, 'Journalism': 107, 'Art': 108, 'Children': 109, 'Animation': 110, 'Gift': 111, 'Toys': 112, 'Adult': 113, 'Nightclubs': 114, 'GreenTech': 115, 'Outdoors': 116, 'Recreation': 117, 'Recycling': 118, 'MMO': 119, 'Tobacco': 120, 'Alumni': 121, 'Career': 122, 'Planning': 123, 'Open': 124, 'Source': 125, 'Reputation': 126, 'Image': 127, 'Recognition': 128, 'Editing': 129, 'Entrepreneurship': 130, 'CMS': 131, 'Packaging': 132, 'Grocery': 133, 'IaaS': 134, 'Direct': 135, 'Meeting': 136, 'Independent': 137, 'Conferencing': 138, 'Casual': 139, 'Card': 140, 'Gambling': 141, 'Bitcoin': 142, 'Test': 143, 'Measurement': 144, 'Rental': 145, 'Safety': 146, 'Shoes': 147, 'Freemium': 148, 'Targeting': 149, 'Micro': 150, 'Credit': 151, 'Syndication': 152, 'Contests': 153, 'Lead': 154, 'Generation': 155, 'SEM': 156, \"Women's\": 157, 'Reservations': 158, 'Signage': 159, 'Fantasy': 160, 'Speech': 161, 'Psychology': 162, 'Task': 163, 'Jewelry': 164, 'Child': 165, 'Elder': 166, 'Tutoring': 167, 'Family': 168, 'Advice': 169, 'Parenting': 170, 'Asset': 171, 'Decor': 172, 'Google': 173, 'mHealth': 174, 'Visualization': 175, 'Communication': 176, 'Casino': 177, 'Motion': 178, 'Capture': 179, 'InsurTech': 180, 'Wine': 181, 'And': 182, 'Spirits': 183, 'ISP': 184, 'Affiliate': 185, 'Charity': 186, 'Humanitarian': 187, 'Presentations': 188, 'Wearables': 189, 'Architecture': 190, 'DIY': 191, 'Geospatial': 192, 'Hospital': 193, 'DSP': 194, 'Application': 195, 'Performance': 196, 'Advanced': 197, 'Materials': 198, 'Racing': 199, 'Elderly': 200, 'Higher': 201, 'Impact': 202, 'Clean': 203, 'Efficiency': 204, 'Cycling': 205, 'Satellite': 206, 'Translation': 207, 'Augmented': 208, 'Intellectual': 209, 'Power': 210, 'Grid': 211, 'Politics': 212, 'Homeland': 213, 'Preparation': 214, 'Genetics': 215, 'AgTech': 216, 'Tech': 217, 'Q&A': 218, 'Lighting': 219, 'Wealth': 220, 'Fraud': 221, 'Detection': 222, 'Branding': 223, 'Furniture': 224, 'Spam': 225, 'Filtering': 226, 'Wedding': 227, 'Renovation': 228, 'Trading': 229, 'GovTech': 230, 'Freight': 231, 'DRM': 232, 'Interior': 233, 'Cosmetics': 234, 'Text': 235, 'Cards': 236, 'Debit': 237, 'Young': 238, 'Adults': 239, 'Corporate': 240, 'Intelligent': 241, 'Venues': 242, 'Musical': 243, 'Instruments': 244, 'Semiconductor': 245, 'Brewing': 246, 'Price': 247, 'Comparison': 248, 'Center': 249, 'Religion': 250, 'Collaborative': 251, 'Consumption': 252, 'CleanTech': 253, 'Fuel': 254, 'Nanotechnology': 255, 'Gamification': 256, 'Autonomous': 257, 'Vehicles': 258, 'Electric': 259, 'Vehicle': 260, 'Guides': 261, 'Battery': 262, 'Equestrian': 263, 'Accommodations': 264, 'Vacation': 265, 'Dietary': 266, 'Supplements': 267, 'Billing': 268, 'Law': 269, 'Enforcement': 270, 'Nutrition': 271, 'Funding': 272, 'Waste': 273, 'Collectibles': 274, 'Visual': 275, 'Outsourcing': 276, 'Employee': 277, 'Benefits': 278, 'Funerals': 279, 'Incubators': 280, 'Baby': 281, 'Resorts': 282, 'A/B': 283, 'Testing': 284, 'SNS': 285, 'RFID': 286, 'Biometrics': 287, 'Diagnostics': 288, 'Fleet': 289, 'Domain': 290, 'Registrar': 291, 'Electrical': 292, 'Theatre': 293, 'Residential': 294, 'Vertical': 295, 'eSports': 296, 'Textiles': 297, 'In-Flight': 298, 'Loyalty': 299, 'Programs': 300, 'Bureau': 301, 'Electronic': 302, 'Record': 303, '(EHR)': 304, 'Applications': 305, 'Productivity': 306, 'Plastics': 307, 'Rubber': 308, 'Skill': 309, 'Assessment': 310, 'Sporting': 311, 'Linux': 312, 'Workforce': 313, 'Reading': 314, 'Presentation': 315, 'Interaction': 316, 'CivicTech': 317, 'Server': 318, 'Scheduling': 319, 'Procurement': 320, 'Quantum': 321, 'Neuroscience': 322, 'Flowers': 323, 'Water': 324, 'E-Signature': 325, 'Eyewear': 326, 'Unified': 327, 'Twitter': 328, 'Coffee': 329, 'Retargeting': 330, 'Wholesale': 331, '(ICT)': 332, 'Aerospace': 333, 'Space': 334, 'Craft': 335, 'Beer': 336, 'Laundry': 337, 'Dry-cleaning': 338, 'Cause': 339, 'Auto': 340, 'Charter': 341, 'Schools': 342, 'QR': 343, 'Codes': 344, 'Improvement': 345, 'Audiobooks': 346, 'Usability': 347, 'Optical': 348, 'Investing': 349, 'Diabetes': 350, 'Cryptocurrency': 351, 'Operating': 352, 'Air': 353, 'Soccer': 354, 'GPU': 355, 'Organic': 356, 'Retirement': 357, 'Parking': 358, 'Cannabis': 359, 'Comics': 360, 'Handmade': 361, 'Compliance': 362, 'Clinical': 363, 'Trials': 364, 'Desktop': 365, 'Facial': 366, 'LGBT': 367, 'Biofuel': 368, 'CAD': 369, 'Call': 370, 'Recreational': 371, 'Emerging': 372, 'Markets': 373, 'Simulation': 374, 'Adventure': 375, 'College': 376, 'UX': 377, 'Group': 378, 'Buying': 379, 'NFC': 380, 'Coworking': 381, 'Tennis': 382, 'Garden': 383, 'Label': 384, 'Tour': 385, 'Operator': 386, '(EDA)': 387, 'Sensor': 388, 'Resource': 389, '(ERP)': 390, 'Ride': 391, 'First': 392, 'Aid': 393, 'Fast-Moving': 394, 'Alternative': 395, 'Medicine': 396, 'Civil': 397, 'Archiving': 398, 'B2C': 399, 'Sex': 400, 'Textbook': 401, 'Wired': 402, 'American': 403, 'Football': 404, 'Bakery': 405, 'Biopharma': 406, 'Economy': 407, 'Fertility': 408, 'Purification': 409, 'Windows': 410, 'Phone': 411, 'Registry': 412, 'Diving': 413, 'Courier': 414, 'Same': 415, 'Day': 416, 'Dental': 417, 'Tea': 418, 'Console': 419, 'Xbox': 420, 'Facilities': 421, 'Assistive': 422, 'Boating': 423, 'Sponsorship': 424, 'Snack': 425, 'Vending': 426, 'Concessions': 427, 'Field-Programmable': 428, 'Gate': 429, 'Array': 430, '(FPGA)': 431, 'Animal': 432, 'Feed': 433, 'Continuing': 434, 'Primary': 435, 'Secondary': 436, 'STEM': 437, 'Vocational': 438, 'Performing': 439, 'Arts': 440, 'Leasing': 441, 'Marine': 442, 'Assisted': 443, 'Living': 444, 'macOS': 445, 'Therapeutics': 446, 'Green': 447, 'Playstation': 448, 'Assistant': 449, 'Mineral': 450, 'Landscaping': 451, 'Facility': 452, \"Men's\": 453, 'Wind': 454, 'Railroad': 455, 'Mechanical': 456, 'Outdoor': 457, 'Biomass': 458, 'Emergency': 459, 'Aquaculture': 460, 'Laser': 461, 'Homeless': 462, 'Shelter': 463, 'Horticulture': 464, 'Indoor': 465, 'Positioning': 466, 'Museums': 467, 'Historical': 468, 'Sites': 469, 'Car': 470, 'Quality': 471, 'Assurance': 472, 'Cell': 473, 'Golf': 474, 'Fossil': 475, 'Fuels': 476, 'Housekeeping': 477, 'Nutraceutical': 478, 'Maintenance': 479, 'Janitorial': 480, 'Glass': 481, 'Debt': 482, 'Collections': 483, 'Cities': 484, 'Nuclear': 485, 'Forestry': 486, 'Bioinformatics': 487, 'Intrusion': 488, 'Self-Storage': 489, 'Pollution': 490, 'Control': 491, 'Office': 492, 'Administration': 493, 'Hydroponics': 494, 'Wood': 495, 'Cosmetic': 496, 'Surgery': 497, 'Timeshare': 498, 'Underserved': 499, 'Serious': 500, 'Basketball': 501, 'Nursing': 502, 'Franchise': 503, 'Lingerie': 504, 'Assistance': 505, 'Livestock': 506, 'Farmers': 507, 'Warehousing': 508, 'Taxi': 509, 'Field': 510, 'Multi-level': 511, 'Hockey': 512, 'Last': 513, 'Mile': 514, 'Outpatient': 515, 'Edutainment': 516, 'MOOC': 517, 'Mall': 518, 'Specific': 519, 'Integrated': 520, 'Circuit': 521, '(ASIC)': 522, 'Limousine': 523, 'Penetration': 524, 'Catering': 525, 'Broker': 526, 'Trade': 527, 'Shows': 528, 'Trucks': 529, 'Hunting': 530, 'Veterinary': 531, 'Paper': 532, 'Collection': 533, 'Rehabilitation': 534, 'Swimming': 535, 'Fruit': 536, 'Ethereum': 537, 'Quantified': 538, 'Self': 539, 'Parks': 540, 'Made': 541, 'Order': 542, 'Millennials': 543, 'Winery': 544, 'Surfing': 545, 'Distillery': 546, 'Seafood': 547, 'Prediction': 548, 'Extermination': 549, 'Drone': 550, 'Cricket': 551, 'Confectionery': 552, 'Skiing': 553, 'Amusement': 554, 'Park': 555, 'Arcade': 556, 'Baseball': 557, 'Sailing': 558, 'Ports': 559, 'Harbors': 560, 'Timber': 561, 'Foundries': 562, 'Corrections': 563}\n"
          ],
          "name": "stdout"
        }
      ]
    },
    {
      "cell_type": "code",
      "metadata": {
        "id": "oGuBh1za-VHH",
        "colab_type": "code",
        "colab": {
          "base_uri": "https://localhost:8080/",
          "height": 55
        },
        "outputId": "aedf82bd-3467-46eb-86f6-9f9eb8e12a4a"
      },
      "source": [
        "# Show words from our filtered vocabulary.\n",
        "print(vocabulary.most_common())"
      ],
      "execution_count": 12,
      "outputs": [
        {
          "output_type": "stream",
          "text": [
            "[('Location', 4184), ('Beauty', 4155), ('Project', 4081), ('Film', 4044), ('Aerospace', 4017), ('Wholesale', 3853), ('Diagnostics', 3828), ('Sharing', 3770), ('Outsourcing', 3768), ('Hospital', 3760), ('Planning', 3744), ('Life', 3715), ('Email', 3659), ('Mechanical', 3633), ('Rental', 3602), ('Crowdfunding', 3541), ('Cryptocurrency', 3510), ('Local', 3493), ('Therapeutics', 3475), ('Water', 3240), ('Art', 3218), ('Architecture', 3172), ('Wine', 3057), ('And', 3057), ('Spirits', 3057), ('Production', 2905), ('Distribution', 2798), ('Streaming', 2742), ('Advice', 2739), ('Collaboration', 2696), ('Investment', 2624), ('Employment', 2608), ('Packaging', 2587), ('Furniture', 2586), ('Semiconductor', 2568), ('Interior', 2544), ('Electrical', 2532), ('Smart', 2491), ('Database', 2418), ('Document', 2382), ('Risk', 2377), ('Precious', 2363), ('Metals', 2363), ('Augmented', 2363), ('Networking', 2358), ('Language', 2344), ('Support', 2338), ('Drones', 2264), ('Storage', 2229), ('Decor', 2227), ('Resource', 2223), ('(ERP)', 2223), ('Wearables', 2197), ('TV', 2180), ('Creative', 2172), ('Time', 2168), ('Textiles', 2144), ('Hotel', 2136), ('Cosmetics', 2109), ('Center', 2060), ('Predictive', 1998), ('Gift', 1998), ('Jewelry', 1983), ('Asset', 1975), ('(ICT)', 1974), ('Blogging', 1971), ('Organic', 1959), ('Trading', 1904), ('Efficiency', 1896), ('Lighting', 1894), ('Innovation', 1889), ('Visualization', 1872), ('UX', 1851), ('Lead', 1833), ('Waste', 1807), ('Bitcoin', 1796), ('Biopharma', 1791), ('Residential', 1755), ('Photo', 1726), ('Communication', 1726), ('Integration', 1687), ('AgTech', 1683), ('Animation', 1673), ('Civil', 1652), ('Sporting', 1632), ('Shipping', 1621), ('Ad', 1602), ('CleanTech', 1602), ('Vision', 1591), ('Pet', 1573), ('Technical', 1559), ('Safety', 1557), ('Improvement', 1537), ('Career', 1521), ('Editing', 1509), ('Clean', 1505), ('Dental', 1481), ('Applications', 1477), ('Productivity', 1470), ('Generation', 1468), ('Test', 1453), ('Measurement', 1453), ('Law', 1444), ('Enforcement', 1444), ('Sensor', 1444), ('Open', 1435), ('Source', 1435), ('Exchanges', 1433), ('Recycling', 1433), ('Nutrition', 1426), ('Direct', 1416), ('Plastics', 1405), ('Rubber', 1405), ('Coupons', 1382), ('Peer', 1380), ('Ticketing', 1357), ('Cannabis', 1356), ('APIs', 1352), ('Credit', 1352), ('Impact', 1339), ('Children', 1321), ('Corporate', 1298), ('Identity', 1296), ('Recognition', 1278), ('Higher', 1278), ('Vehicles', 1274), ('Entrepreneurship', 1261), ('Task', 1259), (\"Women's\", 1232), ('VoIP', 1229), ('Warehousing', 1224), ('Devices', 1222), ('Translation', 1220), ('Electric', 1209), ('Vehicle', 1209), ('Wealth', 1170), ('Creators', 1162), ('Mineral', 1162), ('Air', 1159), ('Clinical', 1146), ('Trials', 1146), ('Sale', 1145), ('Autonomous', 1140), ('Crowdsourcing', 1136), ('Point', 1130), ('Outdoor', 1116), ('Renovation', 1114), ('Browsers', 1104), ('Genetics', 1092), ('Tech', 1091), ('Marine', 1087), ('Signage', 1086), ('Coworking', 1076), ('App', 1041), ('Purification', 1032), ('mHealth', 1021), ('InsurTech', 1021), ('Auctions', 1016), ('SEM', 1012), ('B2C', 993), ('Maintenance', 985), ('Private', 975), ('Nanotechnology', 973), ('Freight', 967), ('Employee', 961), ('Benefits', 961), ('Loyalty', 951), ('Programs', 951), ('Semantic', 940), ('PC', 921), ('File', 919), ('Billing', 918), ('Subscription', 914), ('Shoes', 883), ('Toys', 875), ('Intellectual', 867), ('Gamification', 861), ('PaaS', 858), ('Child', 850), ('GreenTech', 845), ('Adventure', 844), ('Coffee', 843), ('Incubators', 836), ('Garden', 831), ('Wedding', 824), ('Investing', 814), ('eSports', 813), ('Personalization', 808), ('Tutoring', 807), ('SMS', 798), ('Advanced', 798), ('Materials', 798), ('Knowledge', 788), ('Electronic', 782), ('Snack', 780), ('Promotion', 777), ('Gambling', 777), ('Embedded', 770), ('Card', 769), ('Charity', 769), ('Economy', 765), ('Dating', 763), ('Classifieds', 762), ('Auto', 762), ('Image', 753), ('EBooks', 752), ('Virtualization', 752), ('Branding', 752), ('Compliance', 737), ('Price', 730), ('Comparison', 730), ('to', 729), ('Recreation', 728), ('Railroad', 720), ('Journalism', 716), ('Outdoors', 712), ('Facilities', 711), ('Cards', 703), ('Veterinary', 703), ('Accommodations', 698), ('Geospatial', 694), ('Affiliate', 693), ('CAD', 693), ('Parking', 678), ('Medicine', 665), ('Parenting', 664), ('Craft', 663), ('Beer', 663), ('Eyewear', 662), ('Reputation', 655), ('Universities', 654), ('Catering', 644), ('Grocery', 638), ('Intelligent', 615), ('Stock', 610), ('Cooking', 607), ('Fleet', 605), ('Application', 604), ('Angel', 603), ('Fuel', 596), ('Casual', 595), ('Politics', 595), ('Call', 583), ('Battery', 582), ('Nursing', 572), ('Discovery', 564), ('Cities', 558), ('Skill', 555), ('Assessment', 555), ('GPS', 551), ('Quality', 545), ('Assurance', 545), ('Paper', 544), ('Dietary', 543), ('Supplements', 543), ('Power', 542), ('Grid', 542), ('Freelance', 541), ('Scheduling', 536), ('Biometrics', 532), ('Facility', 527), ('Transaction', 524), ('Performance', 522), ('Office', 522), ('Administration', 522), ('National', 517), ('Procurement', 517), ('Reservations', 515), ('Neuroscience', 508), ('Car', 507), ('Trade', 502), ('Shows', 502), ('Detection', 498), ('Leasing', 497), ('Ride', 495), ('GovTech', 492), ('Psychology', 491), ('Funding', 491), ('Domain', 491), ('Registrar', 491), ('Wind', 491), ('Conferencing', 490), ('Wired', 489), ('Flowers', 488), ('Landscaping', 487), ('Animal', 484), ('Feed', 484), ('Elder', 481), ('Ediscovery', 480), ('Satellite', 480), ('Baby', 477), ('ISP', 476), ('Optical', 469), ('Brewing', 468), ('Contact', 467), ('Resorts', 463), ('Reviews', 459), ('Radio', 457), ('Meeting', 444), ('CMS', 437), ('on', 435), ('Demand', 435), ('Laundry', 435), ('Dry-cleaning', 435), ('Fraud', 434), ('Fantasy', 431), ('Green', 425), ('Interaction', 423), ('Family', 421), ('Alternative', 421), ('Casino', 418), ('Winery', 414), ('Taxi', 411), ('Vacation', 403), (\"Men's\", 399), ('(EDA)', 397), ('Bakery', 393), ('Concerts', 390), ('Podcast', 389), ('Space', 389), ('Record', 385), ('(EHR)', 385), ('Musical', 384), ('Instruments', 384), ('Simulation', 383), ('Self-Storage', 381), ('Unified', 376), ('Forums', 375), ('Laser', 375), ('Tour', 374), ('Operator', 374), ('Biomass', 365), ('Speech', 363), ('Guides', 362), ('Testing', 361), ('Performing', 355), ('Arts', 355), ('RFID', 353), ('Assistant', 348), ('Wood', 347), ('Chat', 345), ('Tea', 345), ('Currency', 343), ('IaaS', 341), ('Collaborative', 341), ('Consumption', 341), ('Courier', 341), ('Handmade', 338), ('Physical', 335), ('STEM', 334), ('Assistive', 329), ('Targeting', 326), ('Ethereum', 326), ('Presentations', 320), ('Forestry', 310), ('Rehabilitation', 309), ('Cycling', 304), ('Religion', 304), ('Bioinformatics', 301), ('Text', 298), ('Homeland', 297), ('Fruit', 294), ('Operating', 289), ('Aquaculture', 287), ('Last', 284), ('Mile', 284), ('Theatre', 282), ('Nightlife', 276), ('Primary', 271), ('Windows', 270), ('Cosmetic', 267), ('Surgery', 267), ('Linux', 266), ('Hedge', 265), ('Funds', 265), ('Browser', 258), ('Extensions', 258), ('Soccer', 256), ('Flash', 251), ('Visual', 249), ('Bookmarking', 248), ('Preparation', 244), ('Emergency', 244), ('Motion', 243), ('Capture', 243), ('Funerals', 241), ('Markets', 241), ('Continuing', 236), ('Seafood', 234), ('Workforce', 233), ('Boating', 233), ('Tobacco', 229), ('Group', 229), ('Buying', 229), ('QR', 225), ('Codes', 225), ('Housekeeping', 224), ('Celebrity', 209), ('Debt', 208), ('Collections', 208), ('Drone', 208), ('Biofuel', 207), ('Golf', 207), ('Museums', 206), ('Historical', 206), ('Sites', 206), ('Diabetes', 204), ('MMO', 202), ('DIY', 202), ('Same', 198), ('Day', 198), ('Independent', 197), ('Humanitarian', 192), ('Retirement', 192), ('Emerging', 189), ('Label', 189), ('Venues', 187), ('Usability', 185), ('Fast-Moving', 182), ('SNS', 181), ('Farmers', 181), ('Secondary', 180), ('Franchise', 180), ('Desktop', 177), ('Mall', 177), ('NFC', 176), ('Facebook', 175), ('Racing', 173), ('Pollution', 173), ('Control', 173), ('Archiving', 171), ('Google', 170), ('College', 170), ('Comics', 169), ('Nightclubs', 167), ('CivicTech', 167), ('Lingerie', 165), ('Young', 164), ('Adults', 164), ('Facial', 162), ('Edutainment', 160), ('Elderly', 156), ('Reading', 155), ('Collectibles', 154), ('Livestock', 154), ('Nutraceutical', 152), ('Assistance', 151), ('Exchange', 150), ('Vocational', 149), ('Micro', 148), ('Syndication', 148), ('Charter', 147), ('Schools', 147), ('Recipes', 145), ('Console', 141), ('Sponsorship', 141), ('Multi-level', 141), ('Swimming', 141), ('Recreational', 134), ('Assisted', 134), ('Living', 134), ('Q&A', 133), ('Trucks', 133), ('E-Signature', 130), ('Indoor', 129), ('Positioning', 129), ('Confectionery', 129), ('Horticulture', 125), ('Debit', 123), ('Server', 123), ('Hydroponics', 122), ('Vending', 119), ('Concessions', 119), ('Fertility', 118), ('Amusement', 118), ('Park', 118), ('Arcade', 118), ('DSP', 117), ('Broker', 115), ('Quantum', 114), ('Retargeting', 112), ('Audiobooks', 112), ('Penetration', 108), ('Presentation', 107), ('Adult', 105), ('Nuclear', 100), ('Janitorial', 96), ('Limousine', 94), ('Freemium', 93), ('Diving', 90), ('Serious', 90), ('Field', 90), ('World', 87), ('Sex', 87), ('Hunting', 87), ('Parks', 84), ('Specific', 82), ('Integrated', 82), ('Circuit', 82), ('(ASIC)', 82), ('Teenagers', 81), ('Cause', 80), ('Ports', 80), ('Harbors', 80), ('Distillery', 77), ('LGBT', 72), ('Cell', 70), ('Tennis', 69), ('A/B', 68), ('Vertical', 68), ('In-Flight', 68), ('Quantified', 66), ('Self', 66), ('American', 64), ('Football', 64), ('Intrusion', 64), ('Alumni', 62), ('Timber', 62), ('MOOC', 61), ('Outpatient', 59), ('Skiing', 56), ('Spam', 54), ('Filtering', 54), ('Sailing', 54), ('Bureau', 52), ('Prediction', 52), ('Contests', 51), ('First', 51), ('Aid', 51), ('Textbook', 51), ('Collection', 50), ('GPU', 49), ('WebOS', 48), ('Equestrian', 44), ('macOS', 43), ('Phone', 41), ('Field-Programmable', 41), ('Gate', 41), ('Array', 41), ('(FPGA)', 41), ('Registry', 40), ('Glass', 40), ('Twitter', 39), ('Homeless', 39), ('Shelter', 39), ('Made', 39), ('Order', 39), ('Millennials', 39), ('Basketball', 33), ('DRM', 32), ('Fossil', 31), ('Fuels', 31), ('Playstation', 28), ('Surfing', 27), ('Foundries', 26), ('Underserved', 25), ('Cricket', 23), ('Corrections', 22), ('Hockey', 21), ('Timeshare', 20), ('Xbox', 18), ('Baseball', 18), ('Extermination', 15)]\n"
          ],
          "name": "stdout"
        }
      ]
    },
    {
      "cell_type": "code",
      "metadata": {
        "id": "CBwo41CkmmEx",
        "colab_type": "code",
        "colab": {
          "base_uri": "https://localhost:8080/",
          "height": 36
        },
        "outputId": "10b22b2d-be0e-47ad-8a26-2c36c309efec"
      },
      "source": [
        "# Verify that org uuid is clean\n",
        "org_info_selected['uuid'].iloc[4]"
      ],
      "execution_count": 23,
      "outputs": [
        {
          "output_type": "execute_result",
          "data": {
            "application/vnd.google.colaboratory.intrinsic+json": {
              "type": "string"
            },
            "text/plain": [
              "'60485007-8856-bbac-aa1b-c535c41f5f47'"
            ]
          },
          "metadata": {
            "tags": []
          },
          "execution_count": 23
        }
      ]
    },
    {
      "cell_type": "code",
      "metadata": {
        "id": "g5YFUsxk8Z3T",
        "colab_type": "code",
        "colab": {
          "base_uri": "https://localhost:8080/",
          "height": 220
        },
        "outputId": "365f0d5d-3409-4739-a029-16b9778d5527"
      },
      "source": [
        "from scipy.sparse import coo_matrix\n",
        "import collections\n",
        "\n",
        "# Load our filtered vocabulary if we've saved it on disk.\n",
        "\n",
        "row_indices = []\n",
        "col_indices = []\n",
        "data_values = []\n",
        "\n",
        "used_hashes = set()\n",
        "lookup_index = []\n",
        "lookup_value = []\n",
        "\n",
        "iter = 0\n",
        "test_stop = -1\n",
        "total_rows = np.shape(org_info_selected)[0]\n",
        "\n",
        "print(\"Processing \", total_rows, \" rows.\")\n",
        "for (i, row) in org_info_selected.iterrows():\n",
        "  if iter == test_stop:\n",
        "    break\n",
        "  iter += 1\n",
        "  if iter % 100000 == 0:\n",
        "    print(iter, \" of \", total_rows)\n",
        "\n",
        "  uuid = row['uuid'].strip()\n",
        "  hash = cityhash.CityHash64(uuid)\n",
        "\n",
        "  if hash in used_hashes:  # Hash collision!\n",
        "    print(hash)\n",
        "    continue          # which shouldn't really happen\n",
        "  used_hashes.add(hash)\n",
        "\n",
        "  lookup_value.append(uuid)\n",
        "  lookup_index.append(hash)\n",
        "\n",
        "  row_indices.append(i)\n",
        "  col_indices.append(0)\n",
        "  data_values.append(hash)\n",
        "    \n",
        "  for col, _ in row.iteritems():\n",
        "    if col in comma_sep_list_vars:\n",
        "      # Break categories into unigrams\n",
        "      unigram_counts = collections.Counter()\n",
        "      token_lists = [x.split(' ') for x in row[col].strip().split(',')]\n",
        "      for token_list in token_lists:\n",
        "        for token in token_list:\n",
        "          unigram_counts[token] += 1\n",
        "      \n",
        "      for unigram, count in unigram_counts.items():\n",
        "        if unigram in vocabulary:\n",
        "          row_indices.append(i)\n",
        "          col_indices.append(word_to_index[unigram])\n",
        "          data_values.append(count)\n",
        "\n",
        "unclustered = coo_matrix((data_values, (row_indices, col_indices)))\n",
        "print(unclustered.toarray().shape)"
      ],
      "execution_count": 24,
      "outputs": [
        {
          "output_type": "stream",
          "text": [
            "Processing  963967  rows.\n",
            "100000  of  963967\n",
            "200000  of  963967\n",
            "300000  of  963967\n",
            "400000  of  963967\n",
            "500000  of  963967\n",
            "600000  of  963967\n",
            "700000  of  963967\n",
            "800000  of  963967\n",
            "900000  of  963967\n",
            "(963967, 564)\n"
          ],
          "name": "stdout"
        }
      ]
    },
    {
      "cell_type": "code",
      "metadata": {
        "id": "KJMWPc-d8oui",
        "colab_type": "code",
        "colab": {
          "base_uri": "https://localhost:8080/",
          "height": 959
        },
        "outputId": "2609888b-3b17-4c93-a898-0ed79b3a1038"
      },
      "source": [
        "import scipy.sparse\n",
        "print(unclustered)\n",
        "## Generate company lookup\n",
        "lookup = pd.DataFrame.from_dict({'uuid':lookup_index, 'hash':lookup_value})\n",
        "\n",
        "lookup.to_csv('/lookup.csv')\n",
        "\n",
        "# category_features = pd.DataFrame.sparse.from_spmatrix(joined)\n",
        "scipy.sparse.save_npz('/category_features.npz', unclustered)\n",
        "# category_features.to_pickle('/category_features.npz')\n",
        "\n"
      ],
      "execution_count": 26,
      "outputs": [
        {
          "output_type": "stream",
          "text": [
            "  (0, 0)\t1.3685534557686295e+19\n",
            "  (1, 0)\t7.640156219293676e+17\n",
            "  (1, 1)\t1.0\n",
            "  (1, 2)\t1.0\n",
            "  (2, 0)\t1.0846552445983457e+19\n",
            "  (3, 0)\t5.087506707876194e+18\n",
            "  (3, 3)\t1.0\n",
            "  (4, 0)\t9.094535307341386e+18\n",
            "  (4, 4)\t1.0\n",
            "  (4, 5)\t1.0\n",
            "  (5, 0)\t1.7418110891307706e+19\n",
            "  (5, 1)\t1.0\n",
            "  (6, 0)\t7.773244737896805e+18\n",
            "  (7, 0)\t1.5263381640365195e+19\n",
            "  (8, 0)\t2.7762472306795356e+18\n",
            "  (8, 6)\t1.0\n",
            "  (8, 7)\t1.0\n",
            "  (9, 0)\t1.7179139454557108e+19\n",
            "  (9, 8)\t1.0\n",
            "  (10, 0)\t3.143841549007344e+18\n",
            "  (11, 0)\t1.0303043534068977e+18\n",
            "  (11, 9)\t1.0\n",
            "  (11, 4)\t1.0\n",
            "  (11, 5)\t1.0\n",
            "  (11, 10)\t1.0\n",
            "  :\t:\n",
            "  (963953, 208)\t1.0\n",
            "  (963953, 21)\t1.0\n",
            "  (963953, 33)\t1.0\n",
            "  (963954, 0)\t7.398411164059276e+18\n",
            "  (963954, 112)\t1.0\n",
            "  (963955, 0)\t1.2078929441060368e+19\n",
            "  (963956, 0)\t4.0054335165626184e+18\n",
            "  (963956, 306)\t1.0\n",
            "  (963956, 3)\t1.0\n",
            "  (963957, 0)\t1.689286265119951e+19\n",
            "  (963957, 353)\t1.0\n",
            "  (963958, 0)\t7.229716827056183e+18\n",
            "  (963958, 532)\t1.0\n",
            "  (963959, 0)\t4.62656412319939e+18\n",
            "  (963960, 0)\t2.978566027619601e+18\n",
            "  (963961, 0)\t9.85213510384623e+18\n",
            "  (963962, 0)\t9.744251496066875e+18\n",
            "  (963962, 166)\t1.0\n",
            "  (963962, 277)\t1.0\n",
            "  (963962, 278)\t1.0\n",
            "  (963963, 0)\t1.3650824445832436e+19\n",
            "  (963963, 159)\t1.0\n",
            "  (963964, 0)\t1.5062640940509415e+19\n",
            "  (963965, 0)\t9.929788675484223e+18\n",
            "  (963966, 0)\t1.2539503581336717e+19\n"
          ],
          "name": "stdout"
        }
      ]
    },
    {
      "cell_type": "code",
      "metadata": {
        "id": "BVwC_DgmYWnZ",
        "colab_type": "code",
        "colab": {
          "base_uri": "https://localhost:8080/",
          "height": 959
        },
        "outputId": "1cf7294e-1751-456f-d8b0-c49a4914a803"
      },
      "source": [
        "print(joined)"
      ],
      "execution_count": null,
      "outputs": [
        {
          "output_type": "stream",
          "text": [
            "  (0, 0)\t1.3685534557686295e+19\n",
            "  (1, 0)\t7.640156219293676e+17\n",
            "  (2, 0)\t1.0846552445983457e+19\n",
            "  (3, 0)\t5.087506707876194e+18\n",
            "  (4, 0)\t9.094535307341386e+18\n",
            "  (5, 0)\t1.7418110891307706e+19\n",
            "  (6, 0)\t7.773244737896805e+18\n",
            "  (7, 0)\t1.5263381640365195e+19\n",
            "  (8, 0)\t2.7762472306795356e+18\n",
            "  (9, 0)\t1.7179139454557108e+19\n",
            "  (10, 0)\t3.143841549007344e+18\n",
            "  (11, 0)\t1.0303043534068977e+18\n",
            "  (12, 0)\t2.4974301446054984e+18\n",
            "  (13, 0)\t5.507971386325512e+18\n",
            "  (14, 0)\t2.8624645959363738e+17\n",
            "  (15, 0)\t1.22265356693808e+19\n",
            "  (16, 0)\t1.1228059662374996e+19\n",
            "  (17, 0)\t1.1671402361252221e+18\n",
            "  (18, 0)\t5.369011697229158e+18\n",
            "  (19, 0)\t1.4750419745579184e+19\n",
            "  (20, 0)\t6.888766334922708e+18\n",
            "  (21, 0)\t1.106971057344432e+19\n",
            "  (22, 0)\t1.615128531752331e+19\n",
            "  (23, 0)\t8.997274164534324e+17\n",
            "  (24, 0)\t1.569457398809743e+19\n",
            "  :\t:\n",
            "  (808919, 271)\t1.0\n",
            "  (808919, 203)\t1.0\n",
            "  (808919, 381)\t1.0\n",
            "  (808920, 109)\t1.0\n",
            "  (808920, 114)\t1.0\n",
            "  (808922, 39)\t1.0\n",
            "  (808922, 233)\t1.0\n",
            "  (808922, 351)\t1.0\n",
            "  (808923, 348)\t1.0\n",
            "  (808924, 443)\t1.0\n",
            "  (808925, 267)\t1.0\n",
            "  (808927, 294)\t1.0\n",
            "  (808934, 447)\t1.0\n",
            "  (808934, 18)\t1.0\n",
            "  (808934, 19)\t1.0\n",
            "  (808936, 208)\t1.0\n",
            "  (808936, 21)\t1.0\n",
            "  (808936, 32)\t1.0\n",
            "  (808938, 303)\t1.0\n",
            "  (808938, 2)\t1.0\n",
            "  (808939, 348)\t1.0\n",
            "  (808940, 532)\t1.0\n",
            "  (808943, 168)\t1.0\n",
            "  (808943, 276)\t1.0\n",
            "  (808943, 277)\t1.0\n"
          ],
          "name": "stdout"
        }
      ]
    },
    {
      "cell_type": "code",
      "metadata": {
        "id": "K02caES6oVoE",
        "colab_type": "code",
        "colab": {}
      },
      "source": [
        ""
      ],
      "execution_count": null,
      "outputs": []
    }
  ]
}