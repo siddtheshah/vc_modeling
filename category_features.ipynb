{
  "nbformat": 4,
  "nbformat_minor": 0,
  "metadata": {
    "colab": {
      "name": "category_features.ipynb",
      "provenance": [],
      "authorship_tag": "ABX9TyPNm1JLnU76hKJ3ycKNrqGA",
      "include_colab_link": true
    },
    "kernelspec": {
      "name": "python3",
      "display_name": "Python 3"
    }
  },
  "cells": [
    {
      "cell_type": "markdown",
      "metadata": {
        "id": "view-in-github",
        "colab_type": "text"
      },
      "source": [
        "<a href=\"https://colab.research.google.com/github/siddtheshah/vc_modeling/blob/master/category_features.ipynb\" target=\"_parent\"><img src=\"https://colab.research.google.com/assets/colab-badge.svg\" alt=\"Open In Colab\"/></a>"
      ]
    },
    {
      "cell_type": "code",
      "metadata": {
        "id": "LLj02yHu8Fm5",
        "colab_type": "code",
        "colab": {
          "base_uri": "https://localhost:8080/",
          "height": 35
        },
        "outputId": "385295df-85e4-49b0-b088-99bb3288d365"
      },
      "source": [
        "import os\n",
        "import numpy as np\n",
        "import pandas as pd\n",
        "import matplotlib.pyplot as plt\n",
        "!pip install cityhash\n",
        "import cityhash\n",
        "import pandas\n",
        "\n",
        "from copy import deepcopy"
      ],
      "execution_count": 3,
      "outputs": [
        {
          "output_type": "stream",
          "text": [
            "Requirement already satisfied: cityhash in /usr/local/lib/python3.6/dist-packages (0.2.3.post9)\n"
          ],
          "name": "stdout"
        }
      ]
    },
    {
      "cell_type": "code",
      "metadata": {
        "id": "DNCUUReS8P_O",
        "colab_type": "code",
        "colab": {
          "base_uri": "https://localhost:8080/",
          "height": 55
        },
        "outputId": "f619178f-7fa3-42e5-8423-19b8bb4ce666"
      },
      "source": [
        "from google.colab import drive\n",
        "drive.mount('/content/gdrive')"
      ],
      "execution_count": 4,
      "outputs": [
        {
          "output_type": "stream",
          "text": [
            "Drive already mounted at /content/gdrive; to attempt to forcibly remount, call drive.mount(\"/content/gdrive\", force_remount=True).\n"
          ],
          "name": "stdout"
        }
      ]
    },
    {
      "cell_type": "code",
      "metadata": {
        "id": "aTkfMfnE8Xl6",
        "colab_type": "code",
        "colab": {
          "base_uri": "https://localhost:8080/",
          "height": 240
        },
        "outputId": "38d75336-eb4f-438d-f17d-4bc33b1a9d13"
      },
      "source": [
        "import collections\n",
        "\n",
        "org_info = pd.read_csv(\"/content/gdrive/My Drive/vc_modeling/data/crunchbase_bulk_export/organizations.csv\")\n",
        "\n",
        "# Filter down the data purely to investees\n",
        "org_info = org_info[org_info['primary_role'] == 'company']\n",
        "\n",
        "# Select organization data\n",
        "# Clean the df\n",
        "\n",
        "comma_sep_list_vars = ['category_list', 'category_groups_list']\n",
        "categorical_vars = ['region']\n",
        "other_vars = ['uuid']\n",
        "org_info_selected = org_info[other_vars + categorical_vars + comma_sep_list_vars]\n",
        "org_info_selected = org_info_selected.dropna()\n",
        "org_info_selected = org_info_selected.reset_index(drop=True)\n",
        "\n",
        "vocabulary = collections.Counter()\n",
        "\n",
        "iter = 0\n",
        "test_stop = -1\n",
        "total_rows = np.shape(org_info_selected)[0]\n",
        "print(\"Processing \", total_rows, \" rows.\")\n",
        "for (i, row) in org_info_selected.iterrows():\n",
        "  if iter == test_stop:\n",
        "    break\n",
        "  iter += 1\n",
        "  if iter % 100000 == 0:\n",
        "    print(iter, \" of \", total_rows)\n",
        "\n",
        "  for col, _ in row.iteritems():\n",
        "    if col in comma_sep_list_vars:\n",
        "      # Break categories into unigrams\n",
        "      token_lists = [x.split(' ') for x in row[col].strip().split(',')]\n",
        "      tokens = []\n",
        "      for token_list in token_lists:\n",
        "        for token in token_list:\n",
        "          tokens.append(token)\n",
        "\n",
        "      for token in tokens:\n",
        "        vocabulary[token] += 1\n",
        "\n",
        "# Show the unfiltered vocabulary counts\n",
        "print(vocabulary.most_common())\n",
        "\n",
        "# Filter low count words\n",
        "low_count_threshold = 15\n",
        "keys_to_remove = []\n",
        "for word, count in vocabulary.items():\n",
        "  if count < low_count_threshold:\n",
        "    keys_to_remove.append(word)\n",
        "\n",
        "for key in keys_to_remove:\n",
        "  del vocabulary[key]\n",
        "\n",
        "# Now rank and filter by document frequency. The top half frequent words will be dropped\n",
        "key_list = list(vocabulary.keys())\n",
        "fraction_to_drop = .25\n",
        "chop = sorted(key_list, key=lambda x: vocabulary[x])[-int(fraction_to_drop*len(key_list)):]\n",
        "for key in chop:\n",
        "  del vocabulary[key]\n",
        "\n",
        "# Create index to word mapping\n",
        "word_to_index = {}\n",
        "word_index = 0\n",
        "for word, count in vocabulary.items():\n",
        "  word_to_index[word] = word_index\n",
        "  word_index += 1\n",
        "\n",
        "print(word_to_index)\n",
        "vocabulary_size = word_index"
      ],
      "execution_count": 16,
      "outputs": [
        {
          "output_type": "stream",
          "text": [
            "Processing  808944  rows.\n",
            "100000  of  808944\n",
            "200000  of  808944\n",
            "300000  of  808944\n",
            "400000  of  808944\n",
            "500000  of  808944\n",
            "600000  of  808944\n",
            "700000  of  808944\n",
            "800000  of  808944\n",
            "[('and', 663808), ('Software', 367507), ('Services', 319433), ('Information', 278916), ('Technology', 263815), ('Internet', 187091), ('Marketing', 167899), ('Manufacturing', 149479), ('Health', 146421), ('Media', 141939), ('Care', 140941), ('Advertising', 113301), ('Entertainment', 112999), ('Sales', 108883), ('Hardware', 108658), ('Financial', 106409), ('Design', 105993), ('Mobile', 100457), ('Shopping', 90106), ('Consumer', 86965), ('Real', 85025), ('Commerce', 84574), ('Estate', 83013), ('Engineering', 81794), ('Apps', 80045), ('Science', 71213), ('Electronics', 69568), ('Education', 67499), ('Data', 66787), ('Analytics', 64631), ('Food', 59242), ('E-Commerce', 57608), ('Transportation', 54731), ('Energy', 54196), ('Consulting', 53943), ('Professional', 51243), ('Web', 50645), ('Beverage', 50281), ('Management', 47082), ('Publishing', 46663), ('Content', 45502), ('Security', 43089), ('Biotechnology', 40488), ('Video', 38856), ('Lifestyle', 38832), ('Travel', 37469), ('Intelligence', 34681), ('Social', 33038), ('Goods', 31082), ('Community', 30644), ('Artificial', 29926), ('Sports', 29118), ('Resources', 28707), ('Medical', 28504), ('Development', 26346), ('Tourism', 26241), ('Digital', 24834), ('Telecommunications', 23647), ('Industrial', 23023), ('Retail', 22662), ('Events', 22423), ('Sustainability', 22121), ('Privacy', 21129), ('Natural', 20837), ('Payments', 20028), ('Gaming', 19837), ('Music', 19822), ('Lending', 19446), ('Enterprise', 19179), ('Service', 18894), ('Computer', 17736), ('Investments', 17662), ('Platforms', 17567), ('Finance', 16424), ('Clothing', 15574), ('Apparel', 15574), ('Automotive', 15495), ('Agriculture', 15446), ('Fashion', 14785), ('SaaS', 14558), ('Business', 13963), ('Administrative', 13657), ('Government', 13011), ('Insurance', 12441), ('Messaging', 12371), ('Audio', 12366), ('Cloud', 12310), ('Construction', 12004), ('Communities', 11794), ('FinTech', 11696), ('News', 11313), ('Product', 11205), ('Legal', 11024), ('Farming', 10651), ('Logistics', 10213), ('of', 10139), ('Printing', 9900), ('Network', 9640), ('iOS', 9363), ('Human', 9307), ('Device', 9307), ('Pharmaceutical', 9186), ('Automation', 9128), ('Things', 9071), ('Recruiting', 9008), ('Training', 8980), ('Military', 8938), ('SEO', 8837), ('Graphic', 8771), ('Learning', 8717), ('Banking', 8692), ('Home', 8640), ('Industry', 8476), ('Big', 8345), ('CRM', 8329), ('Public', 8104), ('Online', 7927), ('Robotics', 7880), ('Agency', 7869), ('Marketplace', 7851), ('Infrastructure', 7775), ('Machine', 7608), ('Renewable', 7476), ('Fitness', 7444), ('Games', 7190), ('Non', 7179), ('Profit', 7179), ('Building', 6712), ('Processing', 6604), ('Delivery', 6551), ('Hospitality', 6524), ('Commercial', 6524), ('Property', 6497), ('Brand', 6448), ('B2B', 6284), ('Oil', 6269), ('Gas', 6269), ('Search', 6196), ('Reality', 6196), ('Developer', 6069), ('Computing', 5949), ('Navigation', 5881), ('Cyber', 5877), ('3D', 5813), ('Mapping', 5802), ('Hosting', 5735), ('Relations', 5618), ('Portals', 5592), ('Machinery', 5463), ('Research', 5426), ('Wellness', 5296), ('Customer', 5219), ('Association', 5173), ('Virtual', 5104), ('Event', 5103), ('Material', 4952), ('Accounting', 4945), ('Mining', 4927), ('Engine', 4919), ('E-Learning', 4826), ('Personal', 4728), ('Staffing', 4718), ('Blockchain', 4654), ('IT', 4588), ('Restaurants', 4585), ('Systems', 4566), ('Supply', 4558), ('Chain', 4558), ('Communications', 4488), ('Chemical', 4435), ('Environmental', 4357), ('Leisure', 4298), ('Android', 4265), ('Solar', 4222), ('Tools', 4216), ('Photography', 4167), ('Platform', 4163), ('Wireless', 4127), ('Market', 4064), ('EdTech', 4014), ('Broadcasting', 3832), ('Project', 3827), ('Aerospace', 3799), ('Film', 3737), ('Wholesale', 3701), ('Diagnostics', 3663), ('Hospital', 3662), ('Small', 3614), ('Medium', 3614), ('Businesses', 3614), ('Outsourcing', 3568), ('Mechanical', 3529), ('Planning', 3495), ('Beauty', 3488), ('Venture', 3479), ('Capital', 3479), ('Life', 3455), ('Rental', 3361), ('Sharing', 3331), ('Therapeutics', 3319), ('Email', 3302), ('Location', 3229), ('Based', 3229), ('Local', 3100), ('Water', 3094), ('Architecture', 3011), ('Art', 2802), ('Cryptocurrency', 2735), ('Production', 2733), ('Distribution', 2664), ('Crowdfunding', 2646), ('Wine', 2570), ('And', 2570), ('Spirits', 2570), ('Advice', 2523), ('Semiconductor', 2513), ('Packaging', 2475), ('Collaboration', 2469), ('Electrical', 2419), ('Streaming', 2407), ('Furniture', 2406), ('Investment', 2402), ('Interior', 2383), ('Smart', 2338), ('Employment', 2318), ('Risk', 2293), ('Precious', 2292), ('Metals', 2292), ('Document', 2277), ('Database', 2267), ('Support', 2256), ('Augmented', 2167), ('Language', 2148), ('Resource', 2146), ('(ERP)', 2146), ('Storage', 2110), ('Textiles', 2086), ('Networking', 2067), ('TV', 2062), ('Creative', 2057), ('Decor', 2014), ('Time', 2012), ('Cosmetics', 1977), ('Wearables', 1976), ('Center', 1966), ('Hotel', 1904), ('Asset', 1902), ('Predictive', 1901), ('Drones', 1886), ('(ICT)', 1864), ('Organic', 1815), ('Lighting', 1803), ('Efficiency', 1798), ('Innovation', 1773), ('Gift', 1764), ('Trading', 1756), ('Biopharma', 1740), ('Visualization', 1738), ('UX', 1725), ('Waste', 1724), ('Residential', 1702), ('Lead', 1699), ('Jewelry', 1692), ('Communication', 1653), ('Integration', 1604), ('Civil', 1599), ('AgTech', 1583), ('Animation', 1579), ('Sporting', 1536), ('CleanTech', 1523), ('Vision', 1505), ('Technical', 1503), ('Shipping', 1499), ('Photo', 1470), ('Ad', 1466), ('Safety', 1453), ('Blogging', 1449), ('Clean', 1422), ('Sensor', 1408), ('Bitcoin', 1405), ('Test', 1397), ('Measurement', 1397), ('Applications', 1392), ('Plastics', 1368), ('Rubber', 1368), ('Generation', 1363), ('Recycling', 1357), ('Pet', 1353), ('Career', 1349), ('Productivity', 1343), ('Editing', 1332), ('Direct', 1326), ('Law', 1312), ('Enforcement', 1312), ('Peer', 1304), ('Nutrition', 1301), ('Exchanges', 1282), ('Dental', 1267), ('Credit', 1254), ('Children', 1241), ('Improvement', 1241), ('APIs', 1233), ('Ticketing', 1232), ('Cannabis', 1232), ('Corporate', 1227), ('Impact', 1212), ('Open', 1203), ('Source', 1203), ('Vehicles', 1190), ('Recognition', 1183), ('VoIP', 1177), ('Identity', 1171), ('Warehousing', 1166), ('Task', 1161), ('Electric', 1152), ('Vehicle', 1152), ('Translation', 1152), ('Mineral', 1147), (\"Women's\", 1145), ('Higher', 1127), ('Wealth', 1126), ('Devices', 1122), ('Entrepreneurship', 1119), ('Clinical', 1114), ('Trials', 1114), ('Outdoor', 1100), ('Air', 1094), ('Coupons', 1085), ('Sale', 1080), ('Autonomous', 1069), ('Point', 1068), ('Genetics', 1058), ('Creators', 1054), ('Marine', 1047), ('Signage', 1038), ('Crowdsourcing', 1018), ('Tech', 1010), ('Coworking', 1001), ('Purification', 990), ('mHealth', 976), ('Renovation', 976), ('Browsers', 974), ('InsurTech', 964), ('B2C', 958), ('Employee', 939), ('Benefits', 939), ('Nanotechnology', 935), ('App', 932), ('Auctions', 931), ('Freight', 930), ('Maintenance', 924), ('SEM', 893), ('Loyalty', 884), ('Programs', 884), ('Billing', 861), ('Semantic', 855), ('Subscription', 846), ('Private', 842), ('PC', 835), ('Intellectual', 817), ('PaaS', 807), ('Toys', 794), ('Gamification', 791), ('Shoes', 783), ('Advanced', 774), ('Materials', 774), ('File', 768), ('GreenTech', 759), ('Incubators', 755), ('Investing', 748), ('Coffee', 744), ('Snack', 743), ('Personalization', 737), ('Electronic', 734), ('Knowledge', 731), ('Embedded', 729), ('SMS', 722), ('Promotion', 714), ('Child', 713), ('Charity', 713), ('Garden', 713), ('eSports', 712), ('Adventure', 711), ('Compliance', 709), ('Virtualization', 703), ('Railroad', 693), ('Economy', 692), ('Facilities', 688), ('to', 687), ('Branding', 687), ('Wedding', 687), ('Image', 683), ('Veterinary', 673), ('Tutoring', 672), ('Card', 662), ('CAD', 662), ('Geospatial', 655), ('Cards', 655), ('EBooks', 652), ('Parking', 647), ('Recreation', 635), ('Outdoors', 626), ('Dating', 624), ('Craft', 617), ('Beer', 617), ('Price', 612), ('Comparison', 612), ('Accommodations', 611), ('Gambling', 607), ('Auto', 607), ('Eyewear', 605), ('Medicine', 605), ('Journalism', 598), ('Parenting', 595), ('Fleet', 595), ('Catering', 595), ('Affiliate', 589), ('Intelligent', 582), ('Grocery', 579), ('Universities', 576), ('Application', 575), ('Reputation', 572), ('Classifieds', 571), ('Fuel', 571), ('Call', 564), ('Battery', 561), ('Nursing', 556), ('Cooking', 546), ('Angel', 534), ('Stock', 530), ('Paper', 527), ('GPS', 522), ('Power', 520), ('Grid', 520), ('Quality', 519), ('Assurance', 519), ('Casual', 518), ('Discovery', 515), ('Skill', 514), ('Assessment', 514), ('Facility', 513), ('Cities', 509), ('Biometrics', 506), ('Performance', 500), ('Transaction', 499), ('Politics', 497), ('Office', 497), ('Administration', 497), ('Procurement', 496), ('Trade', 486), ('Shows', 486), ('Freelance', 484), ('Wind', 484), ('Dietary', 483), ('Supplements', 483), ('Reservations', 481), ('Leasing', 480), ('Neuroscience', 478), ('Detection', 475), ('Scheduling', 474), ('Car', 472), ('Conferencing', 470), ('GovTech', 467), ('Ride', 467), ('Wired', 460), ('National', 459), ('Elder', 455), ('Satellite', 455), ('Optical', 454), ('Animal', 453), ('Feed', 453), ('Brewing', 447), ('ISP', 446), ('Funding', 444), ('Ediscovery', 443), ('Domain', 441), ('Registrar', 441), ('Baby', 435), ('Contact', 419), ('Radio', 418), ('CMS', 414), ('Fraud', 412), ('Landscaping', 409), ('Resorts', 406), ('Psychology', 399), ('Interaction', 398), ('Flowers', 394), ('Meeting', 393), ('Green', 392), ('Winery', 390), ('on', 389), ('Demand', 389), ('Family', 388), ('(EDA)', 384), ('Fantasy', 379), ('Alternative', 378), ('Laundry', 376), ('Dry-cleaning', 376), ('Reviews', 375), ('Simulation', 368), ('Unified', 367), ('Bakery', 367), ('Taxi', 365), ('Laser', 364), (\"Men's\", 363), ('Vacation', 359), ('Casino', 356), ('Space', 352), ('Record', 350), ('(EHR)', 350), ('Biomass', 347), ('Speech', 343), ('RFID', 341), ('Concerts', 337), ('Wood', 336), ('Testing', 334), ('Musical', 332), ('Instruments', 332), ('Forums', 329), ('Tour', 326), ('Operator', 326), ('Courier', 322), ('Assistant', 319), ('IaaS', 317), ('Guides', 317), ('Currency', 316), ('Collaborative', 316), ('Consumption', 316), ('Physical', 315), ('Tea', 313), ('Assistive', 313), ('Performing', 312), ('Arts', 312), ('Podcast', 310), ('Targeting', 308), ('Chat', 299), ('Forestry', 299), ('STEM', 289), ('Handmade', 285), ('Presentations', 284), ('Bioinformatics', 284), ('Text', 283), ('Homeland', 282), ('Self-Storage', 281), ('Fruit', 281), ('Rehabilitation', 279), ('Ethereum', 279), ('Cycling', 274), ('Operating', 273), ('Aquaculture', 270), ('Last', 268), ('Mile', 268), ('Theatre', 256), ('Nightlife', 243), ('Religion', 241), ('Linux', 241), ('Primary', 240), ('Visual', 237), ('Hedge', 236), ('Funds', 236), ('Flash', 235), ('Preparation', 231), ('Motion', 230), ('Capture', 230), ('Emergency', 227), ('Seafood', 225), ('Markets', 224), ('Cosmetic', 222), ('Surgery', 222), ('Housekeeping', 213), ('Soccer', 211), ('Windows', 210), ('Boating', 210), ('Funerals', 209), ('Biofuel', 206), ('Workforce', 205), ('Browser', 203), ('Extensions', 203), ('Group', 203), ('Buying', 203), ('Debt', 199), ('Collections', 199), ('Bookmarking', 196), ('Museums', 195), ('Historical', 195), ('Sites', 195), ('Continuing', 193), ('Drone', 193), ('QR', 192), ('Codes', 192), ('Diabetes', 192), ('Tobacco', 187), ('Emerging', 183), ('Golf', 183), ('Retirement', 181), ('Same', 181), ('Day', 181), ('Usability', 176), ('Humanitarian', 175), ('DIY', 175), ('SNS', 175), ('MMO', 172), ('Fast-Moving', 170), ('Franchise', 170), ('Farmers', 168), ('Pollution', 167), ('Control', 167), ('Venues', 166), ('Celebrity', 165), ('Label', 164), ('Archiving', 164), ('Desktop', 161), ('NFC', 161), ('Secondary', 160), ('Mall', 158), ('Facial', 157), ('CivicTech', 156), ('Independent', 154), ('College', 152), ('Racing', 151), ('Elderly', 150), ('Lingerie', 150), ('Google', 147), ('Nutraceutical', 147), ('Facebook', 146), ('Reading', 145), ('Young', 144), ('Adults', 144), ('Livestock', 144), ('Assistance', 143), ('Edutainment', 143), ('Collectibles', 142), ('Comics', 141), ('Micro', 137), ('Vocational', 136), ('Syndication', 135), ('Charter', 135), ('Schools', 135), ('Nightclubs', 135), ('Exchange', 128), ('Sponsorship', 127), ('E-Signature', 123), ('Console', 122), ('Indoor', 122), ('Positioning', 122), ('Swimming', 122), ('Confectionery', 122), ('Recreational', 121), ('Multi-level', 121), ('Q&A', 119), ('Debit', 119), ('Horticulture', 118), ('Recipes', 117), ('Assisted', 116), ('Living', 116), ('Server', 114), ('DSP', 113), ('Vending', 112), ('Concessions', 112), ('Fertility', 110), ('Trucks', 110), ('Amusement', 110), ('Park', 110), ('Arcade', 110), ('Retargeting', 106), ('Broker', 106), ('Audiobooks', 105), ('Hydroponics', 105), ('Quantum', 102), ('Presentation', 98), ('Nuclear', 97), ('Penetration', 97), ('Adult', 89), ('Freemium', 85), ('Field', 85), ('Janitorial', 84), ('World', 82), ('Ports', 80), ('Harbors', 80), ('Limousine', 79), ('Serious', 77), ('Parks', 76), ('Diving', 75), ('Specific', 75), ('Integrated', 75), ('Circuit', 75), ('(ASIC)', 75), ('Distillery', 75), ('Cause', 72), ('Hunting', 72), ('Sex', 69), ('Teenagers', 68), ('LGBT', 66), ('Cell', 65), ('Intrusion', 63), ('In-Flight', 62), ('Tennis', 62), ('A/B', 61), ('Vertical', 61), ('Quantified', 61), ('Self', 61), ('American', 60), ('Football', 60), ('Timber', 58), ('Outpatient', 55), ('Alumni', 54), ('MOOC', 54), ('Spam', 50), ('Filtering', 50), ('First', 50), ('Aid', 50), ('Collection', 49), ('Skiing', 49), ('Bureau', 48), ('Textbook', 47), ('Sailing', 47), ('Contests', 45), ('GPU', 45), ('WebOS', 43), ('Field-Programmable', 41), ('Gate', 41), ('Array', 41), ('(FPGA)', 41), ('Prediction', 41), ('Equestrian', 39), ('Glass', 37), ('macOS', 36), ('Twitter', 35), ('Phone', 35), ('Made', 35), ('Order', 35), ('Homeless', 34), ('Shelter', 34), ('Millennials', 33), ('Registry', 31), ('DRM', 30), ('Fossil', 29), ('Fuels', 29), ('Basketball', 28), ('Foundries', 23), ('Playstation', 22), ('Underserved', 20), ('Hockey', 20), ('Corrections', 20), ('Surfing', 19), ('Timeshare', 18), ('Cricket', 16), ('Baseball', 16), ('Xbox', 15), ('Extermination', 12), ('Z', 12), ('Darknet', 9), ('Ferry', 8), ('Nintendo', 7), ('Roku', 7), ('Table', 6), ('Volley', 5), ('Ball', 5), ('Rugby', 3), ('RISC', 2), ('Ultimate', 1), ('Frisbee', 1)]\n",
            "{'Collaboration': 0, 'Streaming': 1, 'File': 2, 'Sharing': 3, 'Blogging': 4, 'SMS': 5, 'Personalization': 6, 'EBooks': 7, 'Subscription': 8, 'Auctions': 9, 'Location': 10, 'Based': 11, 'Time': 12, 'TV': 13, 'Embedded': 14, 'Hedge': 15, 'Funds': 16, 'Precious': 17, 'Metals': 18, 'Contact': 19, 'Language': 20, 'Knowledge': 21, 'Currency': 22, 'Production': 23, 'Crowdfunding': 24, 'Creators': 25, 'VoIP': 26, 'GPS': 27, 'Bookmarking': 28, 'Document': 29, 'Browsers': 30, 'Predictive': 31, 'Risk': 32, 'Browser': 33, 'Extensions': 34, 'Devices': 35, 'Database': 36, 'Dating': 37, 'Beauty': 38, 'Chat': 39, 'APIs': 40, 'Email': 41, 'Forums': 42, 'Celebrity': 43, 'Innovation': 44, 'Radio': 45, 'PaaS': 46, 'Facebook': 47, 'Ticketing': 48, 'Life': 49, 'Photo': 50, 'PC': 51, 'World': 52, 'Private': 53, 'Networking': 54, 'Podcast': 55, 'Coupons': 56, 'Local': 57, 'Hotel': 58, 'Pet': 59, 'Technical': 60, 'Support': 61, 'Exchanges': 62, 'Stock': 63, 'Venture': 64, 'Capital': 65, 'Ad': 66, 'Exchange': 67, 'Discovery': 68, 'Ediscovery': 69, 'Integration': 70, 'Physical': 71, 'Flash': 72, 'Storage': 73, 'Concerts': 74, 'Smart': 75, 'Nightlife': 76, 'Vision': 77, 'Drones': 78, 'National': 79, 'Freelance': 80, 'Peer': 81, 'to': 82, 'Employment': 83, 'Classifieds': 84, 'Reviews': 85, 'Cooking': 86, 'Recipes': 87, 'Teenagers': 88, 'WebOS': 89, 'Point': 90, 'Sale': 91, 'Promotion': 92, 'Shipping': 93, 'Universities': 94, 'Virtualization': 95, 'Identity': 96, 'App': 97, 'Crowdsourcing': 98, 'on': 99, 'Demand': 100, 'Creative': 101, 'Semantic': 102, 'Angel': 103, 'Investment': 104, 'Transaction': 105, 'Distribution': 106, 'Art': 107, 'Children': 108, 'Animation': 109, 'Gift': 110, 'Toys': 111, 'GreenTech': 112, 'Outdoors': 113, 'Recreation': 114, 'Recycling': 115, 'MMO': 116, 'Tobacco': 117, 'Alumni': 118, 'Career': 119, 'Planning': 120, 'Open': 121, 'Source': 122, 'Reputation': 123, 'Image': 124, 'Recognition': 125, 'Editing': 126, 'Entrepreneurship': 127, 'CMS': 128, 'Packaging': 129, 'Grocery': 130, 'IaaS': 131, 'Direct': 132, 'Meeting': 133, 'Independent': 134, 'Conferencing': 135, 'Small': 136, 'Medium': 137, 'Businesses': 138, 'Casual': 139, 'Journalism': 140, 'Card': 141, 'Gambling': 142, 'Bitcoin': 143, 'Test': 144, 'Measurement': 145, 'Rental': 146, 'Safety': 147, 'Shoes': 148, 'Freemium': 149, 'Targeting': 150, 'Micro': 151, 'Credit': 152, 'Syndication': 153, 'Contests': 154, 'Lead': 155, 'Generation': 156, 'SEM': 157, \"Women's\": 158, 'Reservations': 159, 'Signage': 160, 'Fantasy': 161, 'Speech': 162, 'Psychology': 163, 'Task': 164, 'Jewelry': 165, 'Child': 166, 'Elder': 167, 'Tutoring': 168, 'Family': 169, 'Advice': 170, 'Parenting': 171, 'Asset': 172, 'Decor': 173, 'Google': 174, 'mHealth': 175, 'Visualization': 176, 'Communication': 177, 'Casino': 178, 'Motion': 179, 'Capture': 180, 'InsurTech': 181, 'Wine': 182, 'And': 183, 'Spirits': 184, 'ISP': 185, 'Affiliate': 186, 'Charity': 187, 'Humanitarian': 188, 'Presentations': 189, 'Wearables': 190, 'Architecture': 191, 'DIY': 192, 'Geospatial': 193, 'DSP': 194, 'Application': 195, 'Performance': 196, 'Advanced': 197, 'Materials': 198, 'Racing': 199, 'Elderly': 200, 'Higher': 201, 'Impact': 202, 'Clean': 203, 'Efficiency': 204, 'Cycling': 205, 'Satellite': 206, 'Augmented': 207, 'Intellectual': 208, 'Power': 209, 'Grid': 210, 'Politics': 211, 'Homeland': 212, 'Genetics': 213, 'AgTech': 214, 'Tech': 215, 'Q&A': 216, 'Lighting': 217, 'Wealth': 218, 'Fraud': 219, 'Detection': 220, 'Branding': 221, 'Furniture': 222, 'Spam': 223, 'Filtering': 224, 'Wedding': 225, 'Renovation': 226, 'Trading': 227, 'GovTech': 228, 'Freight': 229, 'DRM': 230, 'Interior': 231, 'Cosmetics': 232, 'Text': 233, 'Cards': 234, 'Debit': 235, 'Young': 236, 'Adults': 237, 'Corporate': 238, 'Intelligent': 239, 'Venues': 240, 'Musical': 241, 'Instruments': 242, 'Semiconductor': 243, 'Brewing': 244, 'Price': 245, 'Comparison': 246, 'Center': 247, 'Religion': 248, 'Collaborative': 249, 'Consumption': 250, 'CleanTech': 251, 'Fuel': 252, 'Nanotechnology': 253, 'Gamification': 254, 'Autonomous': 255, 'Vehicles': 256, 'Electric': 257, 'Vehicle': 258, 'Guides': 259, 'Battery': 260, 'Equestrian': 261, 'Accommodations': 262, 'Vacation': 263, 'Dietary': 264, 'Supplements': 265, 'Billing': 266, 'Law': 267, 'Enforcement': 268, 'Nutrition': 269, 'Funding': 270, 'Waste': 271, 'Collectibles': 272, 'Visual': 273, 'Outsourcing': 274, 'Employee': 275, 'Benefits': 276, 'Funerals': 277, 'Incubators': 278, 'Baby': 279, 'Resorts': 280, 'A/B': 281, 'Testing': 282, 'SNS': 283, 'RFID': 284, 'Biometrics': 285, 'Fleet': 286, 'Domain': 287, 'Registrar': 288, 'Electrical': 289, 'Theatre': 290, 'Residential': 291, 'Vertical': 292, 'eSports': 293, 'Textiles': 294, 'In-Flight': 295, 'Loyalty': 296, 'Programs': 297, 'Bureau': 298, 'Electronic': 299, 'Record': 300, '(EHR)': 301, 'Productivity': 302, 'Plastics': 303, 'Rubber': 304, 'Applications': 305, 'Skill': 306, 'Assessment': 307, 'Sporting': 308, 'Linux': 309, 'Workforce': 310, 'Reading': 311, 'Presentation': 312, 'Interaction': 313, 'CivicTech': 314, 'Server': 315, 'Scheduling': 316, 'Procurement': 317, 'Quantum': 318, 'Neuroscience': 319, 'Flowers': 320, 'Water': 321, 'E-Signature': 322, 'Eyewear': 323, 'Unified': 324, 'Twitter': 325, 'Coffee': 326, 'Retargeting': 327, '(ICT)': 328, 'Space': 329, 'Craft': 330, 'Beer': 331, 'Laundry': 332, 'Dry-cleaning': 333, 'Cause': 334, 'Auto': 335, 'Charter': 336, 'Schools': 337, 'QR': 338, 'Codes': 339, 'Improvement': 340, 'Audiobooks': 341, 'Usability': 342, 'Optical': 343, 'Cryptocurrency': 344, 'Operating': 345, 'Diabetes': 346, 'Air': 347, 'Soccer': 348, 'GPU': 349, 'Organic': 350, 'Retirement': 351, 'Parking': 352, 'Cannabis': 353, 'Comics': 354, 'Handmade': 355, 'Compliance': 356, 'Clinical': 357, 'Trials': 358, 'Desktop': 359, 'Facial': 360, 'Translation': 361, 'Adult': 362, 'LGBT': 363, 'Biofuel': 364, 'CAD': 365, 'Call': 366, 'Recreational': 367, 'Emerging': 368, 'Markets': 369, 'Simulation': 370, 'Adventure': 371, 'College': 372, 'UX': 373, 'Group': 374, 'Buying': 375, 'NFC': 376, 'Nightclubs': 377, 'Coworking': 378, 'Tennis': 379, 'Investing': 380, 'Preparation': 381, 'Garden': 382, 'Label': 383, 'Tour': 384, 'Operator': 385, '(EDA)': 386, 'Sensor': 387, 'Resource': 388, '(ERP)': 389, 'Ride': 390, 'First': 391, 'Aid': 392, 'Fast-Moving': 393, 'Alternative': 394, 'Medicine': 395, 'Civil': 396, 'Archiving': 397, 'B2C': 398, 'Textbook': 399, 'Wired': 400, 'American': 401, 'Football': 402, 'Bakery': 403, 'Biopharma': 404, 'Economy': 405, 'Fertility': 406, 'Purification': 407, 'Windows': 408, 'Phone': 409, 'Registry': 410, 'Diving': 411, 'Courier': 412, 'Same': 413, 'Day': 414, 'Dental': 415, 'Tea': 416, 'Console': 417, 'Xbox': 418, 'Facilities': 419, 'Assistive': 420, 'Boating': 421, 'Snack': 422, 'Vending': 423, 'Concessions': 424, 'Field-Programmable': 425, 'Gate': 426, 'Array': 427, '(FPGA)': 428, 'Continuing': 429, 'Primary': 430, 'Secondary': 431, 'STEM': 432, 'Vocational': 433, 'Performing': 434, 'Arts': 435, 'Leasing': 436, 'Marine': 437, 'Assisted': 438, 'Living': 439, 'Sponsorship': 440, 'macOS': 441, 'Therapeutics': 442, 'Green': 443, 'Playstation': 444, 'Assistant': 445, 'Mineral': 446, 'Facility': 447, 'Wind': 448, 'Railroad': 449, 'Mechanical': 450, 'Outdoor': 451, \"Men's\": 452, 'Biomass': 453, 'Emergency': 454, 'Aquaculture': 455, 'Laser': 456, 'Horticulture': 457, 'Indoor': 458, 'Positioning': 459, 'Museums': 460, 'Historical': 461, 'Sites': 462, 'Car': 463, 'Quality': 464, 'Assurance': 465, 'Cell': 466, 'Golf': 467, 'Fossil': 468, 'Fuels': 469, 'Housekeeping': 470, 'Nutraceutical': 471, 'Maintenance': 472, 'Animal': 473, 'Feed': 474, 'Janitorial': 475, 'Glass': 476, 'Debt': 477, 'Collections': 478, 'Cities': 479, 'Nuclear': 480, 'Forestry': 481, 'Bioinformatics': 482, 'Intrusion': 483, 'Self-Storage': 484, 'Pollution': 485, 'Control': 486, 'Office': 487, 'Administration': 488, 'Hydroponics': 489, 'Wood': 490, 'Cosmetic': 491, 'Surgery': 492, 'Timeshare': 493, 'Homeless': 494, 'Shelter': 495, 'Underserved': 496, 'Serious': 497, 'Sex': 498, 'Basketball': 499, 'Nursing': 500, 'Landscaping': 501, 'Franchise': 502, 'Lingerie': 503, 'Assistance': 504, 'Livestock': 505, 'Farmers': 506, 'Warehousing': 507, 'Field': 508, 'Multi-level': 509, 'Hockey': 510, 'Last': 511, 'Mile': 512, 'Outpatient': 513, 'Edutainment': 514, 'MOOC': 515, 'Mall': 516, 'Taxi': 517, 'Specific': 518, 'Integrated': 519, 'Circuit': 520, '(ASIC)': 521, 'Limousine': 522, 'Penetration': 523, 'Catering': 524, 'Broker': 525, 'Trade': 526, 'Shows': 527, 'Trucks': 528, 'Hunting': 529, 'Veterinary': 530, 'Paper': 531, 'Collection': 532, 'Rehabilitation': 533, 'Swimming': 534, 'Fruit': 535, 'Ethereum': 536, 'Quantified': 537, 'Self': 538, 'Parks': 539, 'Made': 540, 'Order': 541, 'Millennials': 542, 'Winery': 543, 'Surfing': 544, 'Distillery': 545, 'Seafood': 546, 'Prediction': 547, 'Drone': 548, 'Cricket': 549, 'Confectionery': 550, 'Skiing': 551, 'Amusement': 552, 'Park': 553, 'Arcade': 554, 'Baseball': 555, 'Sailing': 556, 'Ports': 557, 'Harbors': 558, 'Timber': 559, 'Foundries': 560, 'Corrections': 561}\n"
          ],
          "name": "stdout"
        }
      ]
    },
    {
      "cell_type": "code",
      "metadata": {
        "id": "oGuBh1za-VHH",
        "colab_type": "code",
        "colab": {
          "base_uri": "https://localhost:8080/",
          "height": 55
        },
        "outputId": "a0855ebe-995d-4ded-c64d-dfd7fde4dfe3"
      },
      "source": [
        "# Show words from our filtered vocabulary.\n",
        "\n",
        "print(vocabulary.most_common())"
      ],
      "execution_count": 17,
      "outputs": [
        {
          "output_type": "stream",
          "text": [
            "[('Small', 3614), ('Medium', 3614), ('Businesses', 3614), ('Outsourcing', 3568), ('Mechanical', 3529), ('Planning', 3495), ('Beauty', 3488), ('Venture', 3479), ('Capital', 3479), ('Life', 3455), ('Rental', 3361), ('Sharing', 3331), ('Therapeutics', 3319), ('Email', 3302), ('Location', 3229), ('Based', 3229), ('Local', 3100), ('Water', 3094), ('Architecture', 3011), ('Art', 2802), ('Cryptocurrency', 2735), ('Production', 2733), ('Distribution', 2664), ('Crowdfunding', 2646), ('Wine', 2570), ('And', 2570), ('Spirits', 2570), ('Advice', 2523), ('Semiconductor', 2513), ('Packaging', 2475), ('Collaboration', 2469), ('Electrical', 2419), ('Streaming', 2407), ('Furniture', 2406), ('Investment', 2402), ('Interior', 2383), ('Smart', 2338), ('Employment', 2318), ('Risk', 2293), ('Precious', 2292), ('Metals', 2292), ('Document', 2277), ('Database', 2267), ('Support', 2256), ('Augmented', 2167), ('Language', 2148), ('Resource', 2146), ('(ERP)', 2146), ('Storage', 2110), ('Textiles', 2086), ('Networking', 2067), ('TV', 2062), ('Creative', 2057), ('Decor', 2014), ('Time', 2012), ('Cosmetics', 1977), ('Wearables', 1976), ('Center', 1966), ('Hotel', 1904), ('Asset', 1902), ('Predictive', 1901), ('Drones', 1886), ('(ICT)', 1864), ('Organic', 1815), ('Lighting', 1803), ('Efficiency', 1798), ('Innovation', 1773), ('Gift', 1764), ('Trading', 1756), ('Biopharma', 1740), ('Visualization', 1738), ('UX', 1725), ('Waste', 1724), ('Residential', 1702), ('Lead', 1699), ('Jewelry', 1692), ('Communication', 1653), ('Integration', 1604), ('Civil', 1599), ('AgTech', 1583), ('Animation', 1579), ('Sporting', 1536), ('CleanTech', 1523), ('Vision', 1505), ('Technical', 1503), ('Shipping', 1499), ('Photo', 1470), ('Ad', 1466), ('Safety', 1453), ('Blogging', 1449), ('Clean', 1422), ('Sensor', 1408), ('Bitcoin', 1405), ('Test', 1397), ('Measurement', 1397), ('Applications', 1392), ('Plastics', 1368), ('Rubber', 1368), ('Generation', 1363), ('Recycling', 1357), ('Pet', 1353), ('Career', 1349), ('Productivity', 1343), ('Editing', 1332), ('Direct', 1326), ('Law', 1312), ('Enforcement', 1312), ('Peer', 1304), ('Nutrition', 1301), ('Exchanges', 1282), ('Dental', 1267), ('Credit', 1254), ('Children', 1241), ('Improvement', 1241), ('APIs', 1233), ('Ticketing', 1232), ('Cannabis', 1232), ('Corporate', 1227), ('Impact', 1212), ('Open', 1203), ('Source', 1203), ('Vehicles', 1190), ('Recognition', 1183), ('VoIP', 1177), ('Identity', 1171), ('Warehousing', 1166), ('Task', 1161), ('Electric', 1152), ('Vehicle', 1152), ('Translation', 1152), ('Mineral', 1147), (\"Women's\", 1145), ('Higher', 1127), ('Wealth', 1126), ('Devices', 1122), ('Entrepreneurship', 1119), ('Clinical', 1114), ('Trials', 1114), ('Outdoor', 1100), ('Air', 1094), ('Coupons', 1085), ('Sale', 1080), ('Autonomous', 1069), ('Point', 1068), ('Genetics', 1058), ('Creators', 1054), ('Marine', 1047), ('Signage', 1038), ('Crowdsourcing', 1018), ('Tech', 1010), ('Coworking', 1001), ('Purification', 990), ('mHealth', 976), ('Renovation', 976), ('Browsers', 974), ('InsurTech', 964), ('B2C', 958), ('Employee', 939), ('Benefits', 939), ('Nanotechnology', 935), ('App', 932), ('Auctions', 931), ('Freight', 930), ('Maintenance', 924), ('SEM', 893), ('Loyalty', 884), ('Programs', 884), ('Billing', 861), ('Semantic', 855), ('Subscription', 846), ('Private', 842), ('PC', 835), ('Intellectual', 817), ('PaaS', 807), ('Toys', 794), ('Gamification', 791), ('Shoes', 783), ('Advanced', 774), ('Materials', 774), ('File', 768), ('GreenTech', 759), ('Incubators', 755), ('Investing', 748), ('Coffee', 744), ('Snack', 743), ('Personalization', 737), ('Electronic', 734), ('Knowledge', 731), ('Embedded', 729), ('SMS', 722), ('Promotion', 714), ('Child', 713), ('Charity', 713), ('Garden', 713), ('eSports', 712), ('Adventure', 711), ('Compliance', 709), ('Virtualization', 703), ('Railroad', 693), ('Economy', 692), ('Facilities', 688), ('to', 687), ('Branding', 687), ('Wedding', 687), ('Image', 683), ('Veterinary', 673), ('Tutoring', 672), ('Card', 662), ('CAD', 662), ('Geospatial', 655), ('Cards', 655), ('EBooks', 652), ('Parking', 647), ('Recreation', 635), ('Outdoors', 626), ('Dating', 624), ('Craft', 617), ('Beer', 617), ('Price', 612), ('Comparison', 612), ('Accommodations', 611), ('Gambling', 607), ('Auto', 607), ('Eyewear', 605), ('Medicine', 605), ('Journalism', 598), ('Parenting', 595), ('Fleet', 595), ('Catering', 595), ('Affiliate', 589), ('Intelligent', 582), ('Grocery', 579), ('Universities', 576), ('Application', 575), ('Reputation', 572), ('Classifieds', 571), ('Fuel', 571), ('Call', 564), ('Battery', 561), ('Nursing', 556), ('Cooking', 546), ('Angel', 534), ('Stock', 530), ('Paper', 527), ('GPS', 522), ('Power', 520), ('Grid', 520), ('Quality', 519), ('Assurance', 519), ('Casual', 518), ('Discovery', 515), ('Skill', 514), ('Assessment', 514), ('Facility', 513), ('Cities', 509), ('Biometrics', 506), ('Performance', 500), ('Transaction', 499), ('Politics', 497), ('Office', 497), ('Administration', 497), ('Procurement', 496), ('Trade', 486), ('Shows', 486), ('Freelance', 484), ('Wind', 484), ('Dietary', 483), ('Supplements', 483), ('Reservations', 481), ('Leasing', 480), ('Neuroscience', 478), ('Detection', 475), ('Scheduling', 474), ('Car', 472), ('Conferencing', 470), ('GovTech', 467), ('Ride', 467), ('Wired', 460), ('National', 459), ('Elder', 455), ('Satellite', 455), ('Optical', 454), ('Animal', 453), ('Feed', 453), ('Brewing', 447), ('ISP', 446), ('Funding', 444), ('Ediscovery', 443), ('Domain', 441), ('Registrar', 441), ('Baby', 435), ('Contact', 419), ('Radio', 418), ('CMS', 414), ('Fraud', 412), ('Landscaping', 409), ('Resorts', 406), ('Psychology', 399), ('Interaction', 398), ('Flowers', 394), ('Meeting', 393), ('Green', 392), ('Winery', 390), ('on', 389), ('Demand', 389), ('Family', 388), ('(EDA)', 384), ('Fantasy', 379), ('Alternative', 378), ('Laundry', 376), ('Dry-cleaning', 376), ('Reviews', 375), ('Simulation', 368), ('Unified', 367), ('Bakery', 367), ('Taxi', 365), ('Laser', 364), (\"Men's\", 363), ('Vacation', 359), ('Casino', 356), ('Space', 352), ('Record', 350), ('(EHR)', 350), ('Biomass', 347), ('Speech', 343), ('RFID', 341), ('Concerts', 337), ('Wood', 336), ('Testing', 334), ('Musical', 332), ('Instruments', 332), ('Forums', 329), ('Tour', 326), ('Operator', 326), ('Courier', 322), ('Assistant', 319), ('IaaS', 317), ('Guides', 317), ('Currency', 316), ('Collaborative', 316), ('Consumption', 316), ('Physical', 315), ('Tea', 313), ('Assistive', 313), ('Performing', 312), ('Arts', 312), ('Podcast', 310), ('Targeting', 308), ('Chat', 299), ('Forestry', 299), ('STEM', 289), ('Handmade', 285), ('Presentations', 284), ('Bioinformatics', 284), ('Text', 283), ('Homeland', 282), ('Self-Storage', 281), ('Fruit', 281), ('Rehabilitation', 279), ('Ethereum', 279), ('Cycling', 274), ('Operating', 273), ('Aquaculture', 270), ('Last', 268), ('Mile', 268), ('Theatre', 256), ('Nightlife', 243), ('Religion', 241), ('Linux', 241), ('Primary', 240), ('Visual', 237), ('Hedge', 236), ('Funds', 236), ('Flash', 235), ('Preparation', 231), ('Motion', 230), ('Capture', 230), ('Emergency', 227), ('Seafood', 225), ('Markets', 224), ('Cosmetic', 222), ('Surgery', 222), ('Housekeeping', 213), ('Soccer', 211), ('Windows', 210), ('Boating', 210), ('Funerals', 209), ('Biofuel', 206), ('Workforce', 205), ('Browser', 203), ('Extensions', 203), ('Group', 203), ('Buying', 203), ('Debt', 199), ('Collections', 199), ('Bookmarking', 196), ('Museums', 195), ('Historical', 195), ('Sites', 195), ('Continuing', 193), ('Drone', 193), ('QR', 192), ('Codes', 192), ('Diabetes', 192), ('Tobacco', 187), ('Emerging', 183), ('Golf', 183), ('Retirement', 181), ('Same', 181), ('Day', 181), ('Usability', 176), ('Humanitarian', 175), ('DIY', 175), ('SNS', 175), ('MMO', 172), ('Fast-Moving', 170), ('Franchise', 170), ('Farmers', 168), ('Pollution', 167), ('Control', 167), ('Venues', 166), ('Celebrity', 165), ('Label', 164), ('Archiving', 164), ('Desktop', 161), ('NFC', 161), ('Secondary', 160), ('Mall', 158), ('Facial', 157), ('CivicTech', 156), ('Independent', 154), ('College', 152), ('Racing', 151), ('Elderly', 150), ('Lingerie', 150), ('Google', 147), ('Nutraceutical', 147), ('Facebook', 146), ('Reading', 145), ('Young', 144), ('Adults', 144), ('Livestock', 144), ('Assistance', 143), ('Edutainment', 143), ('Collectibles', 142), ('Comics', 141), ('Micro', 137), ('Vocational', 136), ('Syndication', 135), ('Charter', 135), ('Schools', 135), ('Nightclubs', 135), ('Exchange', 128), ('Sponsorship', 127), ('E-Signature', 123), ('Console', 122), ('Indoor', 122), ('Positioning', 122), ('Swimming', 122), ('Confectionery', 122), ('Recreational', 121), ('Multi-level', 121), ('Q&A', 119), ('Debit', 119), ('Horticulture', 118), ('Recipes', 117), ('Assisted', 116), ('Living', 116), ('Server', 114), ('DSP', 113), ('Vending', 112), ('Concessions', 112), ('Fertility', 110), ('Trucks', 110), ('Amusement', 110), ('Park', 110), ('Arcade', 110), ('Retargeting', 106), ('Broker', 106), ('Audiobooks', 105), ('Hydroponics', 105), ('Quantum', 102), ('Presentation', 98), ('Nuclear', 97), ('Penetration', 97), ('Adult', 89), ('Freemium', 85), ('Field', 85), ('Janitorial', 84), ('World', 82), ('Ports', 80), ('Harbors', 80), ('Limousine', 79), ('Serious', 77), ('Parks', 76), ('Diving', 75), ('Specific', 75), ('Integrated', 75), ('Circuit', 75), ('(ASIC)', 75), ('Distillery', 75), ('Cause', 72), ('Hunting', 72), ('Sex', 69), ('Teenagers', 68), ('LGBT', 66), ('Cell', 65), ('Intrusion', 63), ('In-Flight', 62), ('Tennis', 62), ('A/B', 61), ('Vertical', 61), ('Quantified', 61), ('Self', 61), ('American', 60), ('Football', 60), ('Timber', 58), ('Outpatient', 55), ('Alumni', 54), ('MOOC', 54), ('Spam', 50), ('Filtering', 50), ('First', 50), ('Aid', 50), ('Collection', 49), ('Skiing', 49), ('Bureau', 48), ('Textbook', 47), ('Sailing', 47), ('Contests', 45), ('GPU', 45), ('WebOS', 43), ('Field-Programmable', 41), ('Gate', 41), ('Array', 41), ('(FPGA)', 41), ('Prediction', 41), ('Equestrian', 39), ('Glass', 37), ('macOS', 36), ('Twitter', 35), ('Phone', 35), ('Made', 35), ('Order', 35), ('Homeless', 34), ('Shelter', 34), ('Millennials', 33), ('Registry', 31), ('DRM', 30), ('Fossil', 29), ('Fuels', 29), ('Basketball', 28), ('Foundries', 23), ('Playstation', 22), ('Underserved', 20), ('Hockey', 20), ('Corrections', 20), ('Surfing', 19), ('Timeshare', 18), ('Cricket', 16), ('Baseball', 16), ('Xbox', 15)]\n"
          ],
          "name": "stdout"
        }
      ]
    },
    {
      "cell_type": "code",
      "metadata": {
        "id": "g5YFUsxk8Z3T",
        "colab_type": "code",
        "colab": {
          "base_uri": "https://localhost:8080/",
          "height": 202
        },
        "outputId": "254aa22a-6dd1-4085-c43c-5a6fe6d2de81"
      },
      "source": [
        "from scipy.sparse import coo_matrix\n",
        "import collections\n",
        "\n",
        "# Load our filtered vocabulary if we've saved it on disk.\n",
        "\n",
        "row_indices = []\n",
        "col_indices = []\n",
        "data_values = []\n",
        "\n",
        "iter = 0\n",
        "test_stop = -1\n",
        "total_rows = np.shape(org_info_selected)[0]\n",
        "print(\"Processing \", total_rows, \" rows.\")\n",
        "for (i, row) in org_info_selected.iterrows():\n",
        "  if iter == test_stop:\n",
        "    break\n",
        "  iter += 1\n",
        "  if iter % 100000 == 0:\n",
        "    print(iter, \" of \", total_rows)\n",
        "    \n",
        "  for col, _ in row.iteritems():\n",
        "    if col in comma_sep_list_vars:\n",
        "      # Break categories into unigrams\n",
        "      unigram_counts = collections.Counter()\n",
        "      token_lists = [x.split(' ') for x in row[col].strip().split(',')]\n",
        "      for token_list in token_lists:\n",
        "        for token in token_list:\n",
        "          unigram_counts[token] += 1\n",
        "      \n",
        "      for unigram, count in unigram_counts.items():\n",
        "        if unigram in vocabulary:\n",
        "          row_indices.append(i)\n",
        "          col_indices.append(word_to_index[unigram])\n",
        "          data_values.append(count)\n",
        "    elif col in categorical_vars:\n",
        "      value = row[col]\n",
        "      if value in vocabulary:\n",
        "        row_indices.append(i)\n",
        "        col_indices.append(word_to_index[value])\n",
        "        data_values.append(1)\n",
        "\n",
        "unclustered = coo_matrix((data_values, (row_indices, col_indices)))\n",
        "print(unclustered.toarray().shape)"
      ],
      "execution_count": 18,
      "outputs": [
        {
          "output_type": "stream",
          "text": [
            "Processing  808944  rows.\n",
            "100000  of  808944\n",
            "200000  of  808944\n",
            "300000  of  808944\n",
            "400000  of  808944\n",
            "500000  of  808944\n",
            "600000  of  808944\n",
            "700000  of  808944\n",
            "800000  of  808944\n",
            "(808944, 562)\n"
          ],
          "name": "stdout"
        }
      ]
    },
    {
      "cell_type": "code",
      "metadata": {
        "id": "KJMWPc-d8oui",
        "colab_type": "code",
        "colab": {
          "base_uri": "https://localhost:8080/",
          "height": 54
        },
        "outputId": "7e3d2f88-550e-493e-db3f-91f3053a077b"
      },
      "source": [
        "import scipy.sparse\n",
        "\n",
        "companies = org_info_selected['uuid']\n",
        "\n",
        "lookup_index = []\n",
        "lookup_value = []\n",
        "\n",
        "used_hashes = set()\n",
        "\n",
        "row_indices = []\n",
        "col_indices = []\n",
        "data_values = []\n",
        "for (i, row) in companies.iteritems():\n",
        "  uuid = row\n",
        "  hash = cityhash.CityHash64(uuid)\n",
        "\n",
        "  if hash in used_hashes:  # Hash collision!\n",
        "    print(hash)\n",
        "    continue          # which shouldn't really happen\n",
        "  used_hashes.add(hash)\n",
        "\n",
        "  lookup_value.append(uuid)\n",
        "  lookup_index.append(hash)\n",
        "\n",
        "  row_indices.append(i)\n",
        "  col_indices.append(0)\n",
        "  data_values.append(hash)\n",
        "\n",
        "hashed_uuids = coo_matrix((data_values, (row_indices, col_indices)))\n",
        "print(np.shape(unclustered))\n",
        "print(np.shape(hashed_uuids))\n",
        "joined = scipy.sparse.hstack([hashed_uuids, unclustered])\n",
        "  \n",
        "## Generate company lookup\n",
        "lookup = pd.DataFrame.from_dict({'uuid':lookup_index, 'hash':data_values})\n",
        "\n",
        "lookup.to_csv('/lookup.csv')\n",
        "\n",
        "category_features = pd.DataFrame.sparse.from_spmatrix(joined)\n",
        "category_features.to_pickle('/category_features.pkl')\n",
        "\n"
      ],
      "execution_count": 19,
      "outputs": [
        {
          "output_type": "stream",
          "text": [
            "(808944, 562)\n",
            "(808944, 1)\n"
          ],
          "name": "stdout"
        }
      ]
    },
    {
      "cell_type": "code",
      "metadata": {
        "id": "BVwC_DgmYWnZ",
        "colab_type": "code",
        "colab": {
          "base_uri": "https://localhost:8080/",
          "height": 276
        },
        "outputId": "d99e9360-e9d0-43ca-eb82-22cb61f8469c"
      },
      "source": [
        "print(category_features)"
      ],
      "execution_count": 20,
      "outputs": [
        {
          "output_type": "stream",
          "text": [
            "                 0    1    2    3    4    5    ...  557  558  559  560  561  562\n",
            "0       1.368553e+19  0.0  0.0  0.0  0.0  0.0  ...  0.0  0.0  0.0  0.0  0.0  0.0\n",
            "1       7.640156e+17  1.0  0.0  0.0  0.0  0.0  ...  0.0  0.0  0.0  0.0  0.0  0.0\n",
            "2       1.084655e+19  0.0  0.0  0.0  0.0  0.0  ...  0.0  0.0  0.0  0.0  0.0  0.0\n",
            "3       5.087507e+18  0.0  1.0  0.0  0.0  0.0  ...  0.0  0.0  0.0  0.0  0.0  0.0\n",
            "4       9.094535e+18  0.0  0.0  1.0  1.0  0.0  ...  0.0  0.0  0.0  0.0  0.0  0.0\n",
            "...              ...  ...  ...  ...  ...  ...  ...  ...  ...  ...  ...  ...  ...\n",
            "808939  1.689286e+19  0.0  0.0  0.0  0.0  0.0  ...  0.0  0.0  0.0  0.0  0.0  0.0\n",
            "808940  7.229717e+18  0.0  0.0  0.0  0.0  0.0  ...  0.0  0.0  0.0  0.0  0.0  0.0\n",
            "808941  4.626564e+18  0.0  0.0  0.0  0.0  0.0  ...  0.0  0.0  0.0  0.0  0.0  0.0\n",
            "808942  2.978566e+18  0.0  0.0  0.0  0.0  0.0  ...  0.0  0.0  0.0  0.0  0.0  0.0\n",
            "808943  9.744251e+18  0.0  0.0  0.0  0.0  0.0  ...  0.0  0.0  0.0  0.0  0.0  0.0\n",
            "\n",
            "[808944 rows x 563 columns]\n"
          ],
          "name": "stdout"
        }
      ]
    },
    {
      "cell_type": "code",
      "metadata": {
        "id": "K02caES6oVoE",
        "colab_type": "code",
        "colab": {}
      },
      "source": [
        ""
      ],
      "execution_count": null,
      "outputs": []
    }
  ]
}