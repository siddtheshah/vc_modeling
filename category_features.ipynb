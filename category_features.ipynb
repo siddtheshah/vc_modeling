{
  "nbformat": 4,
  "nbformat_minor": 0,
  "metadata": {
    "colab": {
      "name": "category_features.ipynb",
      "provenance": [],
      "authorship_tag": "ABX9TyNvGEoMWt4EyG+tBHPPD/sP",
      "include_colab_link": true
    },
    "kernelspec": {
      "name": "python3",
      "display_name": "Python 3"
    }
  },
  "cells": [
    {
      "cell_type": "markdown",
      "metadata": {
        "id": "view-in-github",
        "colab_type": "text"
      },
      "source": [
        "<a href=\"https://colab.research.google.com/github/siddtheshah/vc_modeling/blob/master/category_features.ipynb\" target=\"_parent\"><img src=\"https://colab.research.google.com/assets/colab-badge.svg\" alt=\"Open In Colab\"/></a>"
      ]
    },
    {
      "cell_type": "code",
      "metadata": {
        "id": "LLj02yHu8Fm5",
        "colab_type": "code",
        "colab": {
          "base_uri": "https://localhost:8080/",
          "height": 36
        },
        "outputId": "96723269-b2a2-4c1d-d97f-25441e9c4eb9"
      },
      "source": [
        "import os\n",
        "import numpy as np\n",
        "import pandas as pd\n",
        "import matplotlib.pyplot as plt\n",
        "!pip install cityhash\n",
        "import cityhash\n",
        "\n",
        "from copy import deepcopy"
      ],
      "execution_count": 1,
      "outputs": [
        {
          "output_type": "stream",
          "text": [
            "Requirement already satisfied: cityhash in /usr/local/lib/python3.6/dist-packages (0.2.3.post9)\n"
          ],
          "name": "stdout"
        }
      ]
    },
    {
      "cell_type": "code",
      "metadata": {
        "id": "DNCUUReS8P_O",
        "colab_type": "code",
        "colab": {
          "base_uri": "https://localhost:8080/",
          "height": 36
        },
        "outputId": "e9e3b836-a23a-421b-b2f2-7f5e6555369e"
      },
      "source": [
        "from google.colab import drive\n",
        "drive.mount('/content/gdrive')"
      ],
      "execution_count": 2,
      "outputs": [
        {
          "output_type": "stream",
          "text": [
            "Drive already mounted at /content/gdrive; to attempt to forcibly remount, call drive.mount(\"/content/gdrive\", force_remount=True).\n"
          ],
          "name": "stdout"
        }
      ]
    },
    {
      "cell_type": "code",
      "metadata": {
        "id": "tLIkmx-Q8Sm0",
        "colab_type": "code",
        "colab": {
          "base_uri": "https://localhost:8080/",
          "height": 74
        },
        "outputId": "4dce6402-3a79-4b44-f7dd-3a19c68a5151"
      },
      "source": [
        "file_names = os.listdir(\"/content/gdrive/My Drive/vc_modeling/data/crunchbase_bulk_export/\")\n",
        "df_names = [x[:-4] for x in file_names]\n",
        "print(df_names)\n",
        "\n",
        "dfs = [pd.read_csv(\"/content/gdrive/My Drive/vc_modeling/data/crunchbase_bulk_export/\"+x) for x in file_names]\n",
        "df_dict = dict(zip(df_names, dfs))\n",
        "print(df_dict.keys())"
      ],
      "execution_count": 3,
      "outputs": [
        {
          "output_type": "stream",
          "text": [
            "['category_groups', 'funding_rounds', 'people', 'checksum', 'people_descriptions', 'investors', 'organization_descriptions', 'investment_partners', 'event_appearances', 'organizations', 'org_parents', 'jobs', 'acquisitions', 'funds', 'ipos', 'degrees', 'investments', 'events']\n",
            "dict_keys(['category_groups', 'funding_rounds', 'people', 'checksum', 'people_descriptions', 'investors', 'organization_descriptions', 'investment_partners', 'event_appearances', 'organizations', 'org_parents', 'jobs', 'acquisitions', 'funds', 'ipos', 'degrees', 'investments', 'events'])\n"
          ],
          "name": "stdout"
        }
      ]
    },
    {
      "cell_type": "code",
      "metadata": {
        "id": "aTkfMfnE8Xl6",
        "colab_type": "code",
        "colab": {
          "base_uri": "https://localhost:8080/",
          "height": 243
        },
        "outputId": "0f513e73-fd41-464b-d81d-7c218139276e"
      },
      "source": [
        "import collections\n",
        "\n",
        "org_info = df_dict['organizations']\n",
        "\n",
        "# Filter down the data purely to investees\n",
        "org_info = org_info[org_info['primary_role'] == 'company']\n",
        "\n",
        "# Select organization data\n",
        "# Clean the df\n",
        "\n",
        "comma_sep_list_vars = ['category_list', 'category_groups_list']\n",
        "categorical_vars = ['region']\n",
        "other_vars = ['uuid']\n",
        "org_info_selected = org_info[other_vars + categorical_vars + comma_sep_list_vars]\n",
        "org_info_selected = org_info_selected.dropna()\n",
        "org_info_selected = org_info_selected.reset_index(drop=True)\n",
        "\n",
        "vocabulary = collections.Counter()\n",
        "\n",
        "iter = 0\n",
        "test_stop = -1\n",
        "total_rows = np.shape(org_info_selected)[0]\n",
        "print(\"Processing \", total_rows, \" rows.\")\n",
        "for (i, row) in org_info_selected.iterrows():\n",
        "  if iter == test_stop:\n",
        "    break\n",
        "  iter += 1\n",
        "  if iter % 100000 == 0:\n",
        "    print(iter, \" of \", total_rows)\n",
        "\n",
        "  for col, _ in row.iteritems():\n",
        "    if col in comma_sep_list_vars:\n",
        "      # Break categories into unigrams\n",
        "      token_lists = [x.split(' ') for x in row[col].strip().split(',')]\n",
        "      tokens = []\n",
        "      for token_list in token_lists:\n",
        "        for token in token_list:\n",
        "          tokens.append(token)\n",
        "\n",
        "      for token in tokens:\n",
        "        vocabulary[token] += 1\n",
        "\n",
        "# Show the unfiltered vocabulary counts\n",
        "print(vocabulary.most_common())\n",
        "\n",
        "# Filter low count words\n",
        "low_count_threshold = 15\n",
        "keys_to_remove = []\n",
        "for word, count in vocabulary.items():\n",
        "  if count < low_count_threshold:\n",
        "    keys_to_remove.append(word)\n",
        "\n",
        "for key in keys_to_remove:\n",
        "  del vocabulary[key]\n",
        "\n",
        "# Now rank and filter by document frequency. The top half frequent words will be dropped\n",
        "key_list = list(vocabulary.keys())\n",
        "fraction_to_drop = .05\n",
        "chop = sorted(key_list, key=lambda x: vocabulary[x])[-int(fraction_to_drop*len(key_list)):]\n",
        "for key in chop:\n",
        "  del vocabulary[key]\n",
        "\n",
        "# Create index to word mapping\n",
        "word_to_index = {}\n",
        "word_index = 0\n",
        "for word, count in vocabulary.items():\n",
        "  word_to_index[word] = word_index\n",
        "  word_index += 1\n",
        "\n",
        "print(word_to_index)\n",
        "vocabulary_size = word_index"
      ],
      "execution_count": 6,
      "outputs": [
        {
          "output_type": "stream",
          "text": [
            "Processing  808944  rows.\n",
            "100000  of  808944\n",
            "200000  of  808944\n",
            "300000  of  808944\n",
            "400000  of  808944\n",
            "500000  of  808944\n",
            "600000  of  808944\n",
            "700000  of  808944\n",
            "800000  of  808944\n",
            "[('and', 663808), ('Software', 367507), ('Services', 319433), ('Information', 278916), ('Technology', 263815), ('Internet', 187091), ('Marketing', 167899), ('Manufacturing', 149479), ('Health', 146421), ('Media', 141939), ('Care', 140941), ('Advertising', 113301), ('Entertainment', 112999), ('Sales', 108883), ('Hardware', 108658), ('Financial', 106409), ('Design', 105993), ('Mobile', 100457), ('Shopping', 90106), ('Consumer', 86965), ('Real', 85025), ('Commerce', 84574), ('Estate', 83013), ('Engineering', 81794), ('Apps', 80045), ('Science', 71213), ('Electronics', 69568), ('Education', 67499), ('Data', 66787), ('Analytics', 64631), ('Food', 59242), ('E-Commerce', 57608), ('Transportation', 54731), ('Energy', 54196), ('Consulting', 53943), ('Professional', 51243), ('Web', 50645), ('Beverage', 50281), ('Management', 47082), ('Publishing', 46663), ('Content', 45502), ('Security', 43089), ('Biotechnology', 40488), ('Video', 38856), ('Lifestyle', 38832), ('Travel', 37469), ('Intelligence', 34681), ('Social', 33038), ('Goods', 31082), ('Community', 30644), ('Artificial', 29926), ('Sports', 29118), ('Resources', 28707), ('Medical', 28504), ('Development', 26346), ('Tourism', 26241), ('Digital', 24834), ('Telecommunications', 23647), ('Industrial', 23023), ('Retail', 22662), ('Events', 22423), ('Sustainability', 22121), ('Privacy', 21129), ('Natural', 20837), ('Payments', 20028), ('Gaming', 19837), ('Music', 19822), ('Lending', 19446), ('Enterprise', 19179), ('Service', 18894), ('Computer', 17736), ('Investments', 17662), ('Platforms', 17567), ('Finance', 16424), ('Clothing', 15574), ('Apparel', 15574), ('Automotive', 15495), ('Agriculture', 15446), ('Fashion', 14785), ('SaaS', 14558), ('Business', 13963), ('Administrative', 13657), ('Government', 13011), ('Insurance', 12441), ('Messaging', 12371), ('Audio', 12366), ('Cloud', 12310), ('Construction', 12004), ('Communities', 11794), ('FinTech', 11696), ('News', 11313), ('Product', 11205), ('Legal', 11024), ('Farming', 10651), ('Logistics', 10213), ('of', 10139), ('Printing', 9900), ('Network', 9640), ('iOS', 9363), ('Human', 9307), ('Device', 9307), ('Pharmaceutical', 9186), ('Automation', 9128), ('Things', 9071), ('Recruiting', 9008), ('Training', 8980), ('Military', 8938), ('SEO', 8837), ('Graphic', 8771), ('Learning', 8717), ('Banking', 8692), ('Home', 8640), ('Industry', 8476), ('Big', 8345), ('CRM', 8329), ('Public', 8104), ('Online', 7927), ('Robotics', 7880), ('Agency', 7869), ('Marketplace', 7851), ('Infrastructure', 7775), ('Machine', 7608), ('Renewable', 7476), ('Fitness', 7444), ('Games', 7190), ('Non', 7179), ('Profit', 7179), ('Building', 6712), ('Processing', 6604), ('Delivery', 6551), ('Hospitality', 6524), ('Commercial', 6524), ('Property', 6497), ('Brand', 6448), ('B2B', 6284), ('Oil', 6269), ('Gas', 6269), ('Search', 6196), ('Reality', 6196), ('Developer', 6069), ('Computing', 5949), ('Navigation', 5881), ('Cyber', 5877), ('3D', 5813), ('Mapping', 5802), ('Hosting', 5735), ('Relations', 5618), ('Portals', 5592), ('Machinery', 5463), ('Research', 5426), ('Wellness', 5296), ('Customer', 5219), ('Association', 5173), ('Virtual', 5104), ('Event', 5103), ('Material', 4952), ('Accounting', 4945), ('Mining', 4927), ('Engine', 4919), ('E-Learning', 4826), ('Personal', 4728), ('Staffing', 4718), ('Blockchain', 4654), ('IT', 4588), ('Restaurants', 4585), ('Systems', 4566), ('Supply', 4558), ('Chain', 4558), ('Communications', 4488), ('Chemical', 4435), ('Environmental', 4357), ('Leisure', 4298), ('Android', 4265), ('Solar', 4222), ('Tools', 4216), ('Photography', 4167), ('Platform', 4163), ('Wireless', 4127), ('Market', 4064), ('EdTech', 4014), ('Broadcasting', 3832), ('Project', 3827), ('Aerospace', 3799), ('Film', 3737), ('Wholesale', 3701), ('Diagnostics', 3663), ('Hospital', 3662), ('Small', 3614), ('Medium', 3614), ('Businesses', 3614), ('Outsourcing', 3568), ('Mechanical', 3529), ('Planning', 3495), ('Beauty', 3488), ('Venture', 3479), ('Capital', 3479), ('Life', 3455), ('Rental', 3361), ('Sharing', 3331), ('Therapeutics', 3319), ('Email', 3302), ('Location', 3229), ('Based', 3229), ('Local', 3100), ('Water', 3094), ('Architecture', 3011), ('Art', 2802), ('Cryptocurrency', 2735), ('Production', 2733), ('Distribution', 2664), ('Crowdfunding', 2646), ('Wine', 2570), ('And', 2570), ('Spirits', 2570), ('Advice', 2523), ('Semiconductor', 2513), ('Packaging', 2475), ('Collaboration', 2469), ('Electrical', 2419), ('Streaming', 2407), ('Furniture', 2406), ('Investment', 2402), ('Interior', 2383), ('Smart', 2338), ('Employment', 2318), ('Risk', 2293), ('Precious', 2292), ('Metals', 2292), ('Document', 2277), ('Database', 2267), ('Support', 2256), ('Augmented', 2167), ('Language', 2148), ('Resource', 2146), ('(ERP)', 2146), ('Storage', 2110), ('Textiles', 2086), ('Networking', 2067), ('TV', 2062), ('Creative', 2057), ('Decor', 2014), ('Time', 2012), ('Cosmetics', 1977), ('Wearables', 1976), ('Center', 1966), ('Hotel', 1904), ('Asset', 1902), ('Predictive', 1901), ('Drones', 1886), ('(ICT)', 1864), ('Organic', 1815), ('Lighting', 1803), ('Efficiency', 1798), ('Innovation', 1773), ('Gift', 1764), ('Trading', 1756), ('Biopharma', 1740), ('Visualization', 1738), ('UX', 1725), ('Waste', 1724), ('Residential', 1702), ('Lead', 1699), ('Jewelry', 1692), ('Communication', 1653), ('Integration', 1604), ('Civil', 1599), ('AgTech', 1583), ('Animation', 1579), ('Sporting', 1536), ('CleanTech', 1523), ('Vision', 1505), ('Technical', 1503), ('Shipping', 1499), ('Photo', 1470), ('Ad', 1466), ('Safety', 1453), ('Blogging', 1449), ('Clean', 1422), ('Sensor', 1408), ('Bitcoin', 1405), ('Test', 1397), ('Measurement', 1397), ('Applications', 1392), ('Plastics', 1368), ('Rubber', 1368), ('Generation', 1363), ('Recycling', 1357), ('Pet', 1353), ('Career', 1349), ('Productivity', 1343), ('Editing', 1332), ('Direct', 1326), ('Law', 1312), ('Enforcement', 1312), ('Peer', 1304), ('Nutrition', 1301), ('Exchanges', 1282), ('Dental', 1267), ('Credit', 1254), ('Children', 1241), ('Improvement', 1241), ('APIs', 1233), ('Ticketing', 1232), ('Cannabis', 1232), ('Corporate', 1227), ('Impact', 1212), ('Open', 1203), ('Source', 1203), ('Vehicles', 1190), ('Recognition', 1183), ('VoIP', 1177), ('Identity', 1171), ('Warehousing', 1166), ('Task', 1161), ('Electric', 1152), ('Vehicle', 1152), ('Translation', 1152), ('Mineral', 1147), (\"Women's\", 1145), ('Higher', 1127), ('Wealth', 1126), ('Devices', 1122), ('Entrepreneurship', 1119), ('Clinical', 1114), ('Trials', 1114), ('Outdoor', 1100), ('Air', 1094), ('Coupons', 1085), ('Sale', 1080), ('Autonomous', 1069), ('Point', 1068), ('Genetics', 1058), ('Creators', 1054), ('Marine', 1047), ('Signage', 1038), ('Crowdsourcing', 1018), ('Tech', 1010), ('Coworking', 1001), ('Purification', 990), ('mHealth', 976), ('Renovation', 976), ('Browsers', 974), ('InsurTech', 964), ('B2C', 958), ('Employee', 939), ('Benefits', 939), ('Nanotechnology', 935), ('App', 932), ('Auctions', 931), ('Freight', 930), ('Maintenance', 924), ('SEM', 893), ('Loyalty', 884), ('Programs', 884), ('Billing', 861), ('Semantic', 855), ('Subscription', 846), ('Private', 842), ('PC', 835), ('Intellectual', 817), ('PaaS', 807), ('Toys', 794), ('Gamification', 791), ('Shoes', 783), ('Advanced', 774), ('Materials', 774), ('File', 768), ('GreenTech', 759), ('Incubators', 755), ('Investing', 748), ('Coffee', 744), ('Snack', 743), ('Personalization', 737), ('Electronic', 734), ('Knowledge', 731), ('Embedded', 729), ('SMS', 722), ('Promotion', 714), ('Child', 713), ('Charity', 713), ('Garden', 713), ('eSports', 712), ('Adventure', 711), ('Compliance', 709), ('Virtualization', 703), ('Railroad', 693), ('Economy', 692), ('Facilities', 688), ('to', 687), ('Branding', 687), ('Wedding', 687), ('Image', 683), ('Veterinary', 673), ('Tutoring', 672), ('Card', 662), ('CAD', 662), ('Geospatial', 655), ('Cards', 655), ('EBooks', 652), ('Parking', 647), ('Recreation', 635), ('Outdoors', 626), ('Dating', 624), ('Craft', 617), ('Beer', 617), ('Price', 612), ('Comparison', 612), ('Accommodations', 611), ('Gambling', 607), ('Auto', 607), ('Eyewear', 605), ('Medicine', 605), ('Journalism', 598), ('Parenting', 595), ('Fleet', 595), ('Catering', 595), ('Affiliate', 589), ('Intelligent', 582), ('Grocery', 579), ('Universities', 576), ('Application', 575), ('Reputation', 572), ('Classifieds', 571), ('Fuel', 571), ('Call', 564), ('Battery', 561), ('Nursing', 556), ('Cooking', 546), ('Angel', 534), ('Stock', 530), ('Paper', 527), ('GPS', 522), ('Power', 520), ('Grid', 520), ('Quality', 519), ('Assurance', 519), ('Casual', 518), ('Discovery', 515), ('Skill', 514), ('Assessment', 514), ('Facility', 513), ('Cities', 509), ('Biometrics', 506), ('Performance', 500), ('Transaction', 499), ('Politics', 497), ('Office', 497), ('Administration', 497), ('Procurement', 496), ('Trade', 486), ('Shows', 486), ('Freelance', 484), ('Wind', 484), ('Dietary', 483), ('Supplements', 483), ('Reservations', 481), ('Leasing', 480), ('Neuroscience', 478), ('Detection', 475), ('Scheduling', 474), ('Car', 472), ('Conferencing', 470), ('GovTech', 467), ('Ride', 467), ('Wired', 460), ('National', 459), ('Elder', 455), ('Satellite', 455), ('Optical', 454), ('Animal', 453), ('Feed', 453), ('Brewing', 447), ('ISP', 446), ('Funding', 444), ('Ediscovery', 443), ('Domain', 441), ('Registrar', 441), ('Baby', 435), ('Contact', 419), ('Radio', 418), ('CMS', 414), ('Fraud', 412), ('Landscaping', 409), ('Resorts', 406), ('Psychology', 399), ('Interaction', 398), ('Flowers', 394), ('Meeting', 393), ('Green', 392), ('Winery', 390), ('on', 389), ('Demand', 389), ('Family', 388), ('(EDA)', 384), ('Fantasy', 379), ('Alternative', 378), ('Laundry', 376), ('Dry-cleaning', 376), ('Reviews', 375), ('Simulation', 368), ('Unified', 367), ('Bakery', 367), ('Taxi', 365), ('Laser', 364), (\"Men's\", 363), ('Vacation', 359), ('Casino', 356), ('Space', 352), ('Record', 350), ('(EHR)', 350), ('Biomass', 347), ('Speech', 343), ('RFID', 341), ('Concerts', 337), ('Wood', 336), ('Testing', 334), ('Musical', 332), ('Instruments', 332), ('Forums', 329), ('Tour', 326), ('Operator', 326), ('Courier', 322), ('Assistant', 319), ('IaaS', 317), ('Guides', 317), ('Currency', 316), ('Collaborative', 316), ('Consumption', 316), ('Physical', 315), ('Tea', 313), ('Assistive', 313), ('Performing', 312), ('Arts', 312), ('Podcast', 310), ('Targeting', 308), ('Chat', 299), ('Forestry', 299), ('STEM', 289), ('Handmade', 285), ('Presentations', 284), ('Bioinformatics', 284), ('Text', 283), ('Homeland', 282), ('Self-Storage', 281), ('Fruit', 281), ('Rehabilitation', 279), ('Ethereum', 279), ('Cycling', 274), ('Operating', 273), ('Aquaculture', 270), ('Last', 268), ('Mile', 268), ('Theatre', 256), ('Nightlife', 243), ('Religion', 241), ('Linux', 241), ('Primary', 240), ('Visual', 237), ('Hedge', 236), ('Funds', 236), ('Flash', 235), ('Preparation', 231), ('Motion', 230), ('Capture', 230), ('Emergency', 227), ('Seafood', 225), ('Markets', 224), ('Cosmetic', 222), ('Surgery', 222), ('Housekeeping', 213), ('Soccer', 211), ('Windows', 210), ('Boating', 210), ('Funerals', 209), ('Biofuel', 206), ('Workforce', 205), ('Browser', 203), ('Extensions', 203), ('Group', 203), ('Buying', 203), ('Debt', 199), ('Collections', 199), ('Bookmarking', 196), ('Museums', 195), ('Historical', 195), ('Sites', 195), ('Continuing', 193), ('Drone', 193), ('QR', 192), ('Codes', 192), ('Diabetes', 192), ('Tobacco', 187), ('Emerging', 183), ('Golf', 183), ('Retirement', 181), ('Same', 181), ('Day', 181), ('Usability', 176), ('Humanitarian', 175), ('DIY', 175), ('SNS', 175), ('MMO', 172), ('Fast-Moving', 170), ('Franchise', 170), ('Farmers', 168), ('Pollution', 167), ('Control', 167), ('Venues', 166), ('Celebrity', 165), ('Label', 164), ('Archiving', 164), ('Desktop', 161), ('NFC', 161), ('Secondary', 160), ('Mall', 158), ('Facial', 157), ('CivicTech', 156), ('Independent', 154), ('College', 152), ('Racing', 151), ('Elderly', 150), ('Lingerie', 150), ('Google', 147), ('Nutraceutical', 147), ('Facebook', 146), ('Reading', 145), ('Young', 144), ('Adults', 144), ('Livestock', 144), ('Assistance', 143), ('Edutainment', 143), ('Collectibles', 142), ('Comics', 141), ('Micro', 137), ('Vocational', 136), ('Syndication', 135), ('Charter', 135), ('Schools', 135), ('Nightclubs', 135), ('Exchange', 128), ('Sponsorship', 127), ('E-Signature', 123), ('Console', 122), ('Indoor', 122), ('Positioning', 122), ('Swimming', 122), ('Confectionery', 122), ('Recreational', 121), ('Multi-level', 121), ('Q&A', 119), ('Debit', 119), ('Horticulture', 118), ('Recipes', 117), ('Assisted', 116), ('Living', 116), ('Server', 114), ('DSP', 113), ('Vending', 112), ('Concessions', 112), ('Fertility', 110), ('Trucks', 110), ('Amusement', 110), ('Park', 110), ('Arcade', 110), ('Retargeting', 106), ('Broker', 106), ('Audiobooks', 105), ('Hydroponics', 105), ('Quantum', 102), ('Presentation', 98), ('Nuclear', 97), ('Penetration', 97), ('Adult', 89), ('Freemium', 85), ('Field', 85), ('Janitorial', 84), ('World', 82), ('Ports', 80), ('Harbors', 80), ('Limousine', 79), ('Serious', 77), ('Parks', 76), ('Diving', 75), ('Specific', 75), ('Integrated', 75), ('Circuit', 75), ('(ASIC)', 75), ('Distillery', 75), ('Cause', 72), ('Hunting', 72), ('Sex', 69), ('Teenagers', 68), ('LGBT', 66), ('Cell', 65), ('Intrusion', 63), ('In-Flight', 62), ('Tennis', 62), ('A/B', 61), ('Vertical', 61), ('Quantified', 61), ('Self', 61), ('American', 60), ('Football', 60), ('Timber', 58), ('Outpatient', 55), ('Alumni', 54), ('MOOC', 54), ('Spam', 50), ('Filtering', 50), ('First', 50), ('Aid', 50), ('Collection', 49), ('Skiing', 49), ('Bureau', 48), ('Textbook', 47), ('Sailing', 47), ('Contests', 45), ('GPU', 45), ('WebOS', 43), ('Field-Programmable', 41), ('Gate', 41), ('Array', 41), ('(FPGA)', 41), ('Prediction', 41), ('Equestrian', 39), ('Glass', 37), ('macOS', 36), ('Twitter', 35), ('Phone', 35), ('Made', 35), ('Order', 35), ('Homeless', 34), ('Shelter', 34), ('Millennials', 33), ('Registry', 31), ('DRM', 30), ('Fossil', 29), ('Fuels', 29), ('Basketball', 28), ('Foundries', 23), ('Playstation', 22), ('Underserved', 20), ('Hockey', 20), ('Corrections', 20), ('Surfing', 19), ('Timeshare', 18), ('Cricket', 16), ('Baseball', 16), ('Xbox', 15), ('Extermination', 12), ('Z', 12), ('Darknet', 9), ('Ferry', 8), ('Nintendo', 7), ('Roku', 7), ('Table', 6), ('Volley', 5), ('Ball', 5), ('Rugby', 3), ('RISC', 2), ('Ultimate', 1), ('Frisbee', 1)]\n",
            "{'SMS': 0, 'EBooks': 1, 'Embedded': 2, 'Hedge': 3, 'Funds': 4, 'Contact': 5, 'Knowledge': 6, 'Currency': 7, 'GPS': 8, 'Bookmarking': 9, 'Browser': 10, 'Extensions': 11, 'Dating': 12, 'Chat': 13, 'Forums': 14, 'Celebrity': 15, 'Radio': 16, 'Facebook': 17, 'World': 18, 'Podcast': 19, 'Stock': 20, 'Exchange': 21, 'Discovery': 22, 'Ediscovery': 23, 'Physical': 24, 'Flash': 25, 'Concerts': 26, 'Nightlife': 27, 'National': 28, 'Freelance': 29, 'to': 30, 'Classifieds': 31, 'Reviews': 32, 'Cooking': 33, 'Recipes': 34, 'Teenagers': 35, 'WebOS': 36, 'Promotion': 37, 'Universities': 38, 'Virtualization': 39, 'on': 40, 'Demand': 41, 'Angel': 42, 'Transaction': 43, 'Outdoors': 44, 'Recreation': 45, 'MMO': 46, 'Tobacco': 47, 'Alumni': 48, 'Reputation': 49, 'Image': 50, 'CMS': 51, 'Grocery': 52, 'IaaS': 53, 'Meeting': 54, 'Independent': 55, 'Conferencing': 56, 'Casual': 57, 'Journalism': 58, 'Card': 59, 'Gambling': 60, 'Freemium': 61, 'Targeting': 62, 'Micro': 63, 'Syndication': 64, 'Contests': 65, 'Reservations': 66, 'Fantasy': 67, 'Speech': 68, 'Psychology': 69, 'Child': 70, 'Elder': 71, 'Tutoring': 72, 'Family': 73, 'Parenting': 74, 'Google': 75, 'Casino': 76, 'Motion': 77, 'Capture': 78, 'ISP': 79, 'Affiliate': 80, 'Charity': 81, 'Humanitarian': 82, 'Presentations': 83, 'DIY': 84, 'Geospatial': 85, 'DSP': 86, 'Application': 87, 'Performance': 88, 'Racing': 89, 'Elderly': 90, 'Cycling': 91, 'Satellite': 92, 'Power': 93, 'Grid': 94, 'Politics': 95, 'Homeland': 96, 'Q&A': 97, 'Fraud': 98, 'Detection': 99, 'Branding': 100, 'Spam': 101, 'Filtering': 102, 'Wedding': 103, 'GovTech': 104, 'DRM': 105, 'Text': 106, 'Cards': 107, 'Debit': 108, 'Young': 109, 'Adults': 110, 'Intelligent': 111, 'Venues': 112, 'Musical': 113, 'Instruments': 114, 'Brewing': 115, 'Price': 116, 'Comparison': 117, 'Religion': 118, 'Collaborative': 119, 'Consumption': 120, 'Fuel': 121, 'Guides': 122, 'Battery': 123, 'Equestrian': 124, 'Accommodations': 125, 'Vacation': 126, 'Dietary': 127, 'Supplements': 128, 'Funding': 129, 'Collectibles': 130, 'Visual': 131, 'Funerals': 132, 'Baby': 133, 'Resorts': 134, 'A/B': 135, 'Testing': 136, 'SNS': 137, 'RFID': 138, 'Biometrics': 139, 'Fleet': 140, 'Domain': 141, 'Registrar': 142, 'Theatre': 143, 'Vertical': 144, 'eSports': 145, 'In-Flight': 146, 'Bureau': 147, 'Record': 148, '(EHR)': 149, 'Skill': 150, 'Assessment': 151, 'Linux': 152, 'Workforce': 153, 'Reading': 154, 'Presentation': 155, 'Interaction': 156, 'CivicTech': 157, 'Server': 158, 'Scheduling': 159, 'Procurement': 160, 'Quantum': 161, 'Neuroscience': 162, 'Flowers': 163, 'E-Signature': 164, 'Eyewear': 165, 'Unified': 166, 'Twitter': 167, 'Retargeting': 168, 'Space': 169, 'Craft': 170, 'Beer': 171, 'Laundry': 172, 'Dry-cleaning': 173, 'Cause': 174, 'Auto': 175, 'Charter': 176, 'Schools': 177, 'QR': 178, 'Codes': 179, 'Audiobooks': 180, 'Usability': 181, 'Optical': 182, 'Operating': 183, 'Diabetes': 184, 'Soccer': 185, 'GPU': 186, 'Retirement': 187, 'Parking': 188, 'Comics': 189, 'Handmade': 190, 'Compliance': 191, 'Desktop': 192, 'Facial': 193, 'Adult': 194, 'LGBT': 195, 'Biofuel': 196, 'CAD': 197, 'Call': 198, 'Recreational': 199, 'Emerging': 200, 'Markets': 201, 'Simulation': 202, 'Adventure': 203, 'College': 204, 'Group': 205, 'Buying': 206, 'NFC': 207, 'Nightclubs': 208, 'Tennis': 209, 'Preparation': 210, 'Garden': 211, 'Label': 212, 'Tour': 213, 'Operator': 214, '(EDA)': 215, 'Ride': 216, 'First': 217, 'Aid': 218, 'Fast-Moving': 219, 'Alternative': 220, 'Medicine': 221, 'Archiving': 222, 'Textbook': 223, 'Wired': 224, 'American': 225, 'Football': 226, 'Bakery': 227, 'Economy': 228, 'Fertility': 229, 'Windows': 230, 'Phone': 231, 'Registry': 232, 'Diving': 233, 'Courier': 234, 'Same': 235, 'Day': 236, 'Tea': 237, 'Console': 238, 'Xbox': 239, 'Facilities': 240, 'Assistive': 241, 'Boating': 242, 'Vending': 243, 'Concessions': 244, 'Field-Programmable': 245, 'Gate': 246, 'Array': 247, '(FPGA)': 248, 'Continuing': 249, 'Primary': 250, 'Secondary': 251, 'STEM': 252, 'Vocational': 253, 'Performing': 254, 'Arts': 255, 'Leasing': 256, 'Assisted': 257, 'Living': 258, 'Sponsorship': 259, 'macOS': 260, 'Green': 261, 'Playstation': 262, 'Assistant': 263, 'Facility': 264, 'Wind': 265, 'Railroad': 266, \"Men's\": 267, 'Biomass': 268, 'Emergency': 269, 'Aquaculture': 270, 'Laser': 271, 'Horticulture': 272, 'Indoor': 273, 'Positioning': 274, 'Museums': 275, 'Historical': 276, 'Sites': 277, 'Car': 278, 'Quality': 279, 'Assurance': 280, 'Cell': 281, 'Golf': 282, 'Fossil': 283, 'Fuels': 284, 'Housekeeping': 285, 'Nutraceutical': 286, 'Animal': 287, 'Feed': 288, 'Janitorial': 289, 'Glass': 290, 'Debt': 291, 'Collections': 292, 'Cities': 293, 'Nuclear': 294, 'Forestry': 295, 'Bioinformatics': 296, 'Intrusion': 297, 'Self-Storage': 298, 'Pollution': 299, 'Control': 300, 'Office': 301, 'Administration': 302, 'Hydroponics': 303, 'Wood': 304, 'Cosmetic': 305, 'Surgery': 306, 'Timeshare': 307, 'Homeless': 308, 'Shelter': 309, 'Underserved': 310, 'Serious': 311, 'Sex': 312, 'Basketball': 313, 'Nursing': 314, 'Landscaping': 315, 'Franchise': 316, 'Lingerie': 317, 'Assistance': 318, 'Livestock': 319, 'Farmers': 320, 'Field': 321, 'Multi-level': 322, 'Hockey': 323, 'Last': 324, 'Mile': 325, 'Outpatient': 326, 'Edutainment': 327, 'MOOC': 328, 'Mall': 329, 'Taxi': 330, 'Specific': 331, 'Integrated': 332, 'Circuit': 333, '(ASIC)': 334, 'Limousine': 335, 'Penetration': 336, 'Catering': 337, 'Broker': 338, 'Trade': 339, 'Shows': 340, 'Trucks': 341, 'Hunting': 342, 'Veterinary': 343, 'Paper': 344, 'Collection': 345, 'Rehabilitation': 346, 'Swimming': 347, 'Fruit': 348, 'Ethereum': 349, 'Quantified': 350, 'Self': 351, 'Parks': 352, 'Made': 353, 'Order': 354, 'Millennials': 355, 'Winery': 356, 'Surfing': 357, 'Distillery': 358, 'Seafood': 359, 'Prediction': 360, 'Drone': 361, 'Cricket': 362, 'Confectionery': 363, 'Skiing': 364, 'Amusement': 365, 'Park': 366, 'Arcade': 367, 'Baseball': 368, 'Sailing': 369, 'Ports': 370, 'Harbors': 371, 'Timber': 372, 'Foundries': 373, 'Corrections': 374}\n"
          ],
          "name": "stdout"
        }
      ]
    },
    {
      "cell_type": "code",
      "metadata": {
        "id": "oGuBh1za-VHH",
        "colab_type": "code",
        "colab": {
          "base_uri": "https://localhost:8080/",
          "height": 56
        },
        "outputId": "e2a5e712-bd90-4445-b73e-11278c9f8c7d"
      },
      "source": [
        "# Show words from our filtered vocabulary.\n",
        "\n",
        "print(vocabulary.most_common())"
      ],
      "execution_count": 5,
      "outputs": [
        {
          "output_type": "stream",
          "text": [
            "[('Knowledge', 731), ('Embedded', 729), ('SMS', 722), ('Promotion', 714), ('Child', 713), ('Charity', 713), ('Garden', 713), ('eSports', 712), ('Adventure', 711), ('Compliance', 709), ('Virtualization', 703), ('Railroad', 693), ('Economy', 692), ('Facilities', 688), ('to', 687), ('Branding', 687), ('Wedding', 687), ('Image', 683), ('Veterinary', 673), ('Tutoring', 672), ('Card', 662), ('CAD', 662), ('Geospatial', 655), ('Cards', 655), ('EBooks', 652), ('Parking', 647), ('Recreation', 635), ('Outdoors', 626), ('Dating', 624), ('Craft', 617), ('Beer', 617), ('Price', 612), ('Comparison', 612), ('Accommodations', 611), ('Gambling', 607), ('Auto', 607), ('Eyewear', 605), ('Medicine', 605), ('Journalism', 598), ('Parenting', 595), ('Fleet', 595), ('Catering', 595), ('Affiliate', 589), ('Intelligent', 582), ('Grocery', 579), ('Universities', 576), ('Application', 575), ('Reputation', 572), ('Classifieds', 571), ('Fuel', 571), ('Call', 564), ('Battery', 561), ('Nursing', 556), ('Cooking', 546), ('Angel', 534), ('Stock', 530), ('Paper', 527), ('GPS', 522), ('Power', 520), ('Grid', 520), ('Quality', 519), ('Assurance', 519), ('Casual', 518), ('Discovery', 515), ('Skill', 514), ('Assessment', 514), ('Facility', 513), ('Cities', 509), ('Biometrics', 506), ('Performance', 500), ('Transaction', 499), ('Politics', 497), ('Office', 497), ('Administration', 497), ('Procurement', 496), ('Trade', 486), ('Shows', 486), ('Freelance', 484), ('Wind', 484), ('Dietary', 483), ('Supplements', 483), ('Reservations', 481), ('Leasing', 480), ('Neuroscience', 478), ('Detection', 475), ('Scheduling', 474), ('Car', 472), ('Conferencing', 470), ('GovTech', 467), ('Ride', 467), ('Wired', 460), ('National', 459), ('Elder', 455), ('Satellite', 455), ('Optical', 454), ('Animal', 453), ('Feed', 453), ('Brewing', 447), ('ISP', 446), ('Funding', 444), ('Ediscovery', 443), ('Domain', 441), ('Registrar', 441), ('Baby', 435), ('Contact', 419), ('Radio', 418), ('CMS', 414), ('Fraud', 412), ('Landscaping', 409), ('Resorts', 406), ('Psychology', 399), ('Interaction', 398), ('Flowers', 394), ('Meeting', 393), ('Green', 392), ('Winery', 390), ('on', 389), ('Demand', 389), ('Family', 388), ('(EDA)', 384), ('Fantasy', 379), ('Alternative', 378), ('Laundry', 376), ('Dry-cleaning', 376), ('Reviews', 375), ('Simulation', 368), ('Unified', 367), ('Bakery', 367), ('Taxi', 365), ('Laser', 364), (\"Men's\", 363), ('Vacation', 359), ('Casino', 356), ('Space', 352), ('Record', 350), ('(EHR)', 350), ('Biomass', 347), ('Speech', 343), ('RFID', 341), ('Concerts', 337), ('Wood', 336), ('Testing', 334), ('Musical', 332), ('Instruments', 332), ('Forums', 329), ('Tour', 326), ('Operator', 326), ('Courier', 322), ('Assistant', 319), ('IaaS', 317), ('Guides', 317), ('Currency', 316), ('Collaborative', 316), ('Consumption', 316), ('Physical', 315), ('Tea', 313), ('Assistive', 313), ('Performing', 312), ('Arts', 312), ('Podcast', 310), ('Targeting', 308), ('Chat', 299), ('Forestry', 299), ('STEM', 289), ('Handmade', 285), ('Presentations', 284), ('Bioinformatics', 284), ('Text', 283), ('Homeland', 282), ('Self-Storage', 281), ('Fruit', 281), ('Rehabilitation', 279), ('Ethereum', 279), ('Cycling', 274), ('Operating', 273), ('Aquaculture', 270), ('Last', 268), ('Mile', 268), ('Theatre', 256), ('Nightlife', 243), ('Religion', 241), ('Linux', 241), ('Primary', 240), ('Visual', 237), ('Hedge', 236), ('Funds', 236), ('Flash', 235), ('Preparation', 231), ('Motion', 230), ('Capture', 230), ('Emergency', 227), ('Seafood', 225), ('Markets', 224), ('Cosmetic', 222), ('Surgery', 222), ('Housekeeping', 213), ('Soccer', 211), ('Windows', 210), ('Boating', 210), ('Funerals', 209), ('Biofuel', 206), ('Workforce', 205), ('Browser', 203), ('Extensions', 203), ('Group', 203), ('Buying', 203), ('Debt', 199), ('Collections', 199), ('Bookmarking', 196), ('Museums', 195), ('Historical', 195), ('Sites', 195), ('Continuing', 193), ('Drone', 193), ('QR', 192), ('Codes', 192), ('Diabetes', 192), ('Tobacco', 187), ('Emerging', 183), ('Golf', 183), ('Retirement', 181), ('Same', 181), ('Day', 181), ('Usability', 176), ('Humanitarian', 175), ('DIY', 175), ('SNS', 175), ('MMO', 172), ('Fast-Moving', 170), ('Franchise', 170), ('Farmers', 168), ('Pollution', 167), ('Control', 167), ('Venues', 166), ('Celebrity', 165), ('Label', 164), ('Archiving', 164), ('Desktop', 161), ('NFC', 161), ('Secondary', 160), ('Mall', 158), ('Facial', 157), ('CivicTech', 156), ('Independent', 154), ('College', 152), ('Racing', 151), ('Elderly', 150), ('Lingerie', 150), ('Google', 147), ('Nutraceutical', 147), ('Facebook', 146), ('Reading', 145), ('Young', 144), ('Adults', 144), ('Livestock', 144), ('Assistance', 143), ('Edutainment', 143), ('Collectibles', 142), ('Comics', 141), ('Micro', 137), ('Vocational', 136), ('Syndication', 135), ('Charter', 135), ('Schools', 135), ('Nightclubs', 135), ('Exchange', 128), ('Sponsorship', 127), ('E-Signature', 123), ('Console', 122), ('Indoor', 122), ('Positioning', 122), ('Swimming', 122), ('Confectionery', 122), ('Recreational', 121), ('Multi-level', 121), ('Q&A', 119), ('Debit', 119), ('Horticulture', 118), ('Recipes', 117), ('Assisted', 116), ('Living', 116), ('Server', 114), ('DSP', 113), ('Vending', 112), ('Concessions', 112), ('Fertility', 110), ('Trucks', 110), ('Amusement', 110), ('Park', 110), ('Arcade', 110), ('Retargeting', 106), ('Broker', 106), ('Audiobooks', 105), ('Hydroponics', 105), ('Quantum', 102), ('Presentation', 98), ('Nuclear', 97), ('Penetration', 97), ('Adult', 89), ('Freemium', 85), ('Field', 85), ('Janitorial', 84), ('World', 82), ('Ports', 80), ('Harbors', 80), ('Limousine', 79), ('Serious', 77), ('Parks', 76), ('Diving', 75), ('Specific', 75), ('Integrated', 75), ('Circuit', 75), ('(ASIC)', 75), ('Distillery', 75), ('Cause', 72), ('Hunting', 72), ('Sex', 69), ('Teenagers', 68), ('LGBT', 66), ('Cell', 65), ('Intrusion', 63), ('In-Flight', 62), ('Tennis', 62), ('A/B', 61), ('Vertical', 61), ('Quantified', 61), ('Self', 61), ('American', 60), ('Football', 60), ('Timber', 58), ('Outpatient', 55), ('Alumni', 54), ('MOOC', 54), ('Spam', 50), ('Filtering', 50), ('First', 50), ('Aid', 50), ('Collection', 49), ('Skiing', 49), ('Bureau', 48), ('Textbook', 47), ('Sailing', 47), ('Contests', 45), ('GPU', 45), ('WebOS', 43), ('Field-Programmable', 41), ('Gate', 41), ('Array', 41), ('(FPGA)', 41), ('Prediction', 41), ('Equestrian', 39), ('Glass', 37), ('macOS', 36), ('Twitter', 35), ('Phone', 35), ('Made', 35), ('Order', 35), ('Homeless', 34), ('Shelter', 34), ('Millennials', 33), ('Registry', 31), ('DRM', 30), ('Fossil', 29), ('Fuels', 29), ('Basketball', 28), ('Foundries', 23), ('Playstation', 22), ('Underserved', 20), ('Hockey', 20), ('Corrections', 20), ('Surfing', 19), ('Timeshare', 18), ('Cricket', 16), ('Baseball', 16), ('Xbox', 15)]\n"
          ],
          "name": "stdout"
        }
      ]
    },
    {
      "cell_type": "code",
      "metadata": {
        "id": "g5YFUsxk8Z3T",
        "colab_type": "code",
        "colab": {
          "base_uri": "https://localhost:8080/",
          "height": 202
        },
        "outputId": "a2aa95af-1e1e-4a3d-e45a-9f13c19dc0dc"
      },
      "source": [
        "from scipy.sparse import coo_matrix\n",
        "import collections\n",
        "\n",
        "# Load our filtered vocabulary if we've saved it on disk.\n",
        "\n",
        "row_indices = []\n",
        "col_indices = []\n",
        "data_values = []\n",
        "\n",
        "iter = 0\n",
        "test_stop = -1\n",
        "total_rows = np.shape(org_info_selected)[0]\n",
        "print(\"Processing \", total_rows, \" rows.\")\n",
        "for (i, row) in org_info_selected.iterrows():\n",
        "  if iter == test_stop:\n",
        "    break\n",
        "  iter += 1\n",
        "  if iter % 100000 == 0:\n",
        "    print(iter, \" of \", total_rows)\n",
        "\n",
        "  for col, _ in row.iteritems():\n",
        "    if col in comma_sep_list_vars:\n",
        "      # Break categories into unigrams\n",
        "      unigram_counts = collections.Counter()\n",
        "      token_lists = [x.split(' ') for x in row[col].strip().split(',')]\n",
        "      for token_list in token_lists:\n",
        "        for token in token_list:\n",
        "          unigram_counts[token] += 1\n",
        "      \n",
        "      for unigram, count in unigram_counts.items():\n",
        "        if unigram in vocabulary:\n",
        "          row_indices.append(i)\n",
        "          col_indices.append(word_to_index[unigram])\n",
        "          data_values.append(count)\n",
        "    elif col in categorical_vars:\n",
        "      value = row[col]\n",
        "      if value in vocabulary:\n",
        "        row_indices.append(i)\n",
        "        col_indices.append(word_to_index[value])\n",
        "        data_values.append(1)\n",
        "\n",
        "unclustered = coo_matrix((data_values, (row_indices, col_indices)))\n",
        "print(unclustered.toarray().shape)"
      ],
      "execution_count": null,
      "outputs": [
        {
          "output_type": "stream",
          "text": [
            "Processing  808944  rows.\n",
            "100000  of  808944\n",
            "200000  of  808944\n",
            "300000  of  808944\n",
            "400000  of  808944\n",
            "500000  of  808944\n",
            "600000  of  808944\n",
            "700000  of  808944\n",
            "800000  of  808944\n",
            "(808944, 375)\n"
          ],
          "name": "stdout"
        }
      ]
    },
    {
      "cell_type": "code",
      "metadata": {
        "id": "KJMWPc-d8oui",
        "colab_type": "code",
        "colab": {
          "base_uri": "https://localhost:8080/",
          "height": 54
        },
        "outputId": "30842c47-d255-4b07-96cc-8f7c4d9c86a3"
      },
      "source": [
        "import scipy.sparse\n",
        "\n",
        "companies = org_info_selected['uuid']\n",
        "\n",
        "lookup_index = []\n",
        "lookup_value = []\n",
        "\n",
        "used_hashes = set()\n",
        "\n",
        "row_indices = []\n",
        "col_indices = []\n",
        "data_values = []\n",
        "for (i, row) in companies.iteritems():\n",
        "  uuid = row\n",
        "  hash = cityhash.CityHash64(uuid)\n",
        "\n",
        "  if hash in used_hashes:  # Hash collision!\n",
        "    print(hash)\n",
        "    continue          # which shouldn't really happen\n",
        "  used_hashes.add(hash)\n",
        "\n",
        "  lookup_value.append(uuid)\n",
        "  lookup_index.append(hash)\n",
        "\n",
        "  row_indices.append(i)\n",
        "  col_indices.append(0)\n",
        "  data_values.append(hash)\n",
        "\n",
        "hashed_uuids = coo_matrix((data_values, (row_indices, col_indices)))\n",
        "print(np.shape(unclustered))\n",
        "print(np.shape(hashed_uuids))\n",
        "joined = scipy.sparse.hstack([hashed_uuids, unclustered])\n",
        "  \n",
        "## Generate company lookup\n",
        "lookup = pd.DataFrame.from_dict({'uuid':lookup_index, 'hash':data_values})\n",
        "\n",
        "lookup.to_csv('/lookup.csv')\n",
        "\n",
        "category_features = pd.DataFrame.sparse.from_spmatrix(joined)\n",
        "category_features.to_pickle('/category_features.pkl')\n",
        "\n"
      ],
      "execution_count": null,
      "outputs": [
        {
          "output_type": "stream",
          "text": [
            "(808944, 375)\n",
            "(808944, 1)\n"
          ],
          "name": "stdout"
        }
      ]
    },
    {
      "cell_type": "code",
      "metadata": {
        "id": "BVwC_DgmYWnZ",
        "colab_type": "code",
        "colab": {}
      },
      "source": [
        ""
      ],
      "execution_count": null,
      "outputs": []
    }
  ]
}