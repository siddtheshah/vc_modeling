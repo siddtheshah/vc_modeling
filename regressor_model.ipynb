{
  "nbformat": 4,
  "nbformat_minor": 0,
  "metadata": {
    "colab": {
      "name": "regressor_model.ipynb",
      "provenance": [],
      "toc_visible": true,
      "authorship_tag": "ABX9TyOFCqA1VzPvD4bUBPemQGHv",
      "include_colab_link": true
    },
    "kernelspec": {
      "name": "python3",
      "display_name": "Python 3"
    }
  },
  "cells": [
    {
      "cell_type": "markdown",
      "metadata": {
        "id": "view-in-github",
        "colab_type": "text"
      },
      "source": [
        "<a href=\"https://colab.research.google.com/github/siddtheshah/vc_modeling/blob/master/regressor_model.ipynb\" target=\"_parent\"><img src=\"https://colab.research.google.com/assets/colab-badge.svg\" alt=\"Open In Colab\"/></a>"
      ]
    },
    {
      "cell_type": "markdown",
      "metadata": {
        "id": "uV182SZ1d2Es",
        "colab_type": "text"
      },
      "source": [
        "# Imports"
      ]
    },
    {
      "cell_type": "code",
      "metadata": {
        "id": "lswTEjiPegUo",
        "colab_type": "code",
        "colab": {
          "base_uri": "https://localhost:8080/",
          "height": 54
        },
        "outputId": "375b1b1a-f2b7-41eb-a72f-f8c9f701f29b"
      },
      "source": [
        "import os\n",
        "import numpy as np\n",
        "import pandas as pd\n",
        "import matplotlib.pyplot as plt\n",
        "import scipy.sparse\n",
        "!pip install cityhash\n",
        "import cityhash\n",
        "import sklearn.decomposition\n",
        "import pickle\n",
        "\n",
        "print(pd.__version__)\n",
        "\n",
        "from copy import deepcopy"
      ],
      "execution_count": 1,
      "outputs": [
        {
          "output_type": "stream",
          "text": [
            "Requirement already satisfied: cityhash in /usr/local/lib/python3.6/dist-packages (0.2.3.post9)\n",
            "1.0.5\n"
          ],
          "name": "stdout"
        }
      ]
    },
    {
      "cell_type": "code",
      "metadata": {
        "id": "Q2WrUtBZenFT",
        "colab_type": "code",
        "colab": {
          "base_uri": "https://localhost:8080/",
          "height": 36
        },
        "outputId": "35687b22-b709-43fc-f288-e32b5d0c2e79"
      },
      "source": [
        "from google.colab import drive\n",
        "drive.mount('/content/gdrive')"
      ],
      "execution_count": 2,
      "outputs": [
        {
          "output_type": "stream",
          "text": [
            "Drive already mounted at /content/gdrive; to attempt to forcibly remount, call drive.mount(\"/content/gdrive\", force_remount=True).\n"
          ],
          "name": "stdout"
        }
      ]
    },
    {
      "cell_type": "markdown",
      "metadata": {
        "id": "ts9GFkBd5L1Y",
        "colab_type": "text"
      },
      "source": [
        ""
      ]
    },
    {
      "cell_type": "markdown",
      "metadata": {
        "id": "6InV-GK0e49l",
        "colab_type": "text"
      },
      "source": [
        "# Read Regression Targets"
      ]
    },
    {
      "cell_type": "code",
      "metadata": {
        "id": "SzWperFWfA4x",
        "colab_type": "code",
        "colab": {
          "base_uri": "https://localhost:8080/",
          "height": 36
        },
        "outputId": "7fcac680-b898-4e22-dff7-747e868f8e08"
      },
      "source": [
        "target_folder = \"/content/gdrive/My Drive/vc_modeling/regression_targets/\"\n",
        "file_names = os.listdir(target_folder)\n",
        "marks = [int(x.replace('.csv', '')) for x in file_names]\n",
        "print(marks)\n",
        "regression_marks = {}\n",
        "for mark in marks:\n",
        "  rm = pd.read_csv(target_folder + str(mark) + '.csv')[['hash', 'initial_valuation', 'log_valuation_factor']].set_index('hash')\n",
        "  rm = rm[~rm.isin([np.nan, np.inf, -np.inf]).any(1)]\n",
        "  regression_marks[mark] = rm\n"
      ],
      "execution_count": 4,
      "outputs": [
        {
          "output_type": "stream",
          "text": [
            "[200, 500, 1000, 2000]\n"
          ],
          "name": "stdout"
        }
      ]
    },
    {
      "cell_type": "code",
      "metadata": {
        "id": "a9hQhkQcY4Jr",
        "colab_type": "code",
        "colab": {
          "base_uri": "https://localhost:8080/",
          "height": 298
        },
        "outputId": "540b9ffa-45a4-4613-cc0a-35d1047b4260"
      },
      "source": [
        "mark_data = regression_marks[200] # pd.read_pickle(\"/content/gdrive/My Drive/vc_modeling/regression_targets/200.pkl\")\n",
        "# mark_data = mark_data[mark_data['log_valuation_factor'] > 0]\n",
        "print(mark_data)\n",
        "# print(np.count_nonzero(mark_data.index.isin(features.index)))"
      ],
      "execution_count": 6,
      "outputs": [
        {
          "output_type": "stream",
          "text": [
            "                      initial_valuation  log_valuation_factor\n",
            "hash                                                         \n",
            "2053339725337568679         413036820.0              0.000000\n",
            "13360469805707984821          3000000.0              0.266595\n",
            "12201126308526847683         47500000.0              0.000000\n",
            "17482404514494389050          2157880.0              0.000000\n",
            "16923506324318240851          7500000.0              0.000000\n",
            "...                                 ...                   ...\n",
            "4057326795460754576            552105.0              0.000000\n",
            "17393885764651115266         20000000.0              1.011831\n",
            "14785394360939257924        125000000.0              0.000000\n",
            "15207057269115911424         31150000.0              0.000000\n",
            "12723450708549610702            75000.0              1.688395\n",
            "\n",
            "[144569 rows x 2 columns]\n"
          ],
          "name": "stdout"
        }
      ]
    },
    {
      "cell_type": "markdown",
      "metadata": {
        "id": "gJAKI4bLd5ZE",
        "colab_type": "text"
      },
      "source": [
        "# Read/Join Features"
      ]
    },
    {
      "cell_type": "markdown",
      "metadata": {
        "id": "c0F3qbf0gF-K",
        "colab_type": "text"
      },
      "source": [
        "## Sparse Features\n",
        "These need to go through dimensionality reduction"
      ]
    },
    {
      "cell_type": "code",
      "metadata": {
        "id": "mez-3_o6t-F-",
        "colab_type": "code",
        "colab": {}
      },
      "source": [
        "feature_folder = '/content/gdrive/My Drive/vc_modeling/feature_extraction'\n",
        "\n",
        "sparse_category_features_array = scipy.sparse.load_npz(feature_folder + \"/category_features/category_features_large.npz\")\n",
        "sparse_region_features_array = scipy.sparse.load_npz(feature_folder + \"/region_features/region_features.npz\")"
      ],
      "execution_count": 7,
      "outputs": []
    },
    {
      "cell_type": "code",
      "metadata": {
        "id": "vv7LelH2eqbw",
        "colab_type": "code",
        "colab": {
          "base_uri": "https://localhost:8080/",
          "height": 111
        },
        "outputId": "432fce91-64c3-429c-dd20-d586107b8c84"
      },
      "source": [
        "category_features_array = scipy.sparse.coo_matrix(sparse_category_features_array, dtype=np.uint64)\n",
        "region_features_array = scipy.sparse.coo_matrix(sparse_region_features_array, dtype=np.uint64)\n",
        "\n",
        "print(category_features_array.getnnz())\n",
        "print(region_features_array.getnnz())\n",
        "\n",
        "category_features_df = pd.DataFrame.sparse.from_spmatrix(category_features_array)\n",
        "region_features_df = pd.DataFrame.sparse.from_spmatrix(region_features_array)\n",
        "\n",
        "print(np.shape(category_features_df))\n",
        "print(np.shape(region_features_df))\n",
        "\n",
        "print(\"{}\".format(category_features_df.iloc[0][0]))"
      ],
      "execution_count": 8,
      "outputs": [
        {
          "output_type": "stream",
          "text": [
            "2355537\n",
            "1681588\n",
            "(963967, 676)\n",
            "(842699, 1032)\n",
            "13685534557686295101\n"
          ],
          "name": "stdout"
        }
      ]
    },
    {
      "cell_type": "code",
      "metadata": {
        "id": "HHqwaNc89w2w",
        "colab_type": "code",
        "colab": {
          "base_uri": "https://localhost:8080/",
          "height": 317
        },
        "outputId": "b71a4ed4-6b92-46f0-8a9b-b593044f3a87"
      },
      "source": [
        "region_uuid = region_features_df.iloc[:, 0]\n",
        "category_uuid = category_features_df.iloc[:, 0]\n",
        "print(region_uuid)\n",
        "\n",
        "print(np.count_nonzero(category_uuid.isin(region_uuid)))\n",
        "check_value = 7551169957279540846\n",
        "# check_value = cityhash.CityHash64('ffffabce-6d4a-b3d1-13c0-4e90cedf5270')\n",
        "print(check_value)\n",
        "print(np.size(region_uuid[region_uuid == check_value]))\n",
        "print(np.size(category_uuid[category_uuid == check_value]))"
      ],
      "execution_count": 9,
      "outputs": [
        {
          "output_type": "stream",
          "text": [
            "0         13685534557686295101\n",
            "1           764015621929367586\n",
            "2         10846552445983457719\n",
            "3          5087506707876194815\n",
            "4          9094535307341385563\n",
            "                  ...         \n",
            "842694     4626564123199390189\n",
            "842695     2978566027619600648\n",
            "842696     1747954284855665241\n",
            "842697     9744251496066876000\n",
            "842698     7648380604111671063\n",
            "Name: 0, Length: 842699, dtype: Sparse[uint64, 0]\n",
            "808944\n",
            "7551169957279540846\n",
            "1\n",
            "1\n"
          ],
          "name": "stdout"
        }
      ]
    },
    {
      "cell_type": "code",
      "metadata": {
        "id": "-X7VTKkb_Fd-",
        "colab_type": "code",
        "colab": {
          "base_uri": "https://localhost:8080/",
          "height": 298
        },
        "outputId": "02d5c66e-df8b-431e-f18e-29cca82b99af"
      },
      "source": [
        "join_base = category_features_df.set_index(0)\n",
        "join1 = region_features_df.set_index(0)\n",
        "sparse_join = join_base.join(join1, lsuffix='category_features', rsuffix='region_features')\n",
        "sparse_join = sparse_join.dropna()\n",
        "# features = category_features_df\n",
        "print(sparse_join)"
      ],
      "execution_count": 10,
      "outputs": [
        {
          "output_type": "stream",
          "text": [
            "                      1category_features  2category_features  ...  1030  1031\n",
            "0                                                             ...            \n",
            "13685534557686295101                 0.0                 0.0  ...   0.0   0.0\n",
            "764015621929367586                   1.0                 1.0  ...   0.0   0.0\n",
            "10846552445983457719                 0.0                 0.0  ...   0.0   0.0\n",
            "5087506707876194815                  0.0                 0.0  ...   0.0   0.0\n",
            "9094535307341385563                  0.0                 0.0  ...   0.0   0.0\n",
            "...                                  ...                 ...  ...   ...   ...\n",
            "16892862651199510638                 0.0                 0.0  ...   0.0   0.0\n",
            "7229716827056183679                  0.0                 0.0  ...   0.0   0.0\n",
            "4626564123199390189                  0.0                 0.0  ...   0.0   0.0\n",
            "2978566027619600648                  0.0                 0.0  ...   0.0   0.0\n",
            "9744251496066876000                  0.0                 0.0  ...   0.0   0.0\n",
            "\n",
            "[808944 rows x 1706 columns]\n"
          ],
          "name": "stdout"
        }
      ]
    },
    {
      "cell_type": "markdown",
      "metadata": {
        "id": "mCBshhYpnHfC",
        "colab_type": "text"
      },
      "source": [
        "## Dimensionality Reduction"
      ]
    },
    {
      "cell_type": "code",
      "metadata": {
        "id": "IaScgb-7nKii",
        "colab_type": "code",
        "colab": {
          "base_uri": "https://localhost:8080/",
          "height": 673
        },
        "outputId": "2278161f-5615-4c81-e8b5-3273fe68528b"
      },
      "source": [
        "svd = sklearn.decomposition.TruncatedSVD(n_components=100, n_iter=10)\n",
        "# Can't fit more than 10k samples or SVD will crash.\n",
        "# If the samples are well distributed, this might be OK.\n",
        "svd.fit(sparse_join[:15000])\n",
        "\n",
        "print(svd.explained_variance_ratio_)\n",
        "print(svd.explained_variance_ratio_.sum())\n",
        "print(svd.singular_values_)\n",
        "\n",
        "reduced_features = svd.transform(sparse_join)\n",
        "\n",
        "# lda = sklearn.decomposition.LatentDirichletAllocation(n_components=100,random_state=0, learning_method='online', total_samples=2e5)\n",
        "# lda.partial_fit(sparse_join)\n",
        "# reduced_features = lda.transform(sparse_join)\n"
      ],
      "execution_count": 11,
      "outputs": [
        {
          "output_type": "stream",
          "text": [
            "[0.06201002 0.04136426 0.03052181 0.02412492 0.02133094 0.01809638\n",
            " 0.01821206 0.01757454 0.01589228 0.01511112 0.01381074 0.01349057\n",
            " 0.01274772 0.01224814 0.01171326 0.01124586 0.01098865 0.01016308\n",
            " 0.00945056 0.00909412 0.00893294 0.00866497 0.0080689  0.0079854\n",
            " 0.00778647 0.00739946 0.00723822 0.00673296 0.00643826 0.00631925\n",
            " 0.0061844  0.00595846 0.00580656 0.00570427 0.00569912 0.00543318\n",
            " 0.00519543 0.00515399 0.00512568 0.00492261 0.00489803 0.00476558\n",
            " 0.00470362 0.00468774 0.00454391 0.00444036 0.0044279  0.00432053\n",
            " 0.00428805 0.00414274 0.00409159 0.00406363 0.00397662 0.00383421\n",
            " 0.00373743 0.00367794 0.00361784 0.00349269 0.00344724 0.00342722\n",
            " 0.00338314 0.00330977 0.00321618 0.00313721 0.00310981 0.00311287\n",
            " 0.00307049 0.0030493  0.00302579 0.00296635 0.00293532 0.00289815\n",
            " 0.00284957 0.0028189  0.00278416 0.00274529 0.00269564 0.00269153\n",
            " 0.00265261 0.00263682 0.00262926 0.00259163 0.00256322 0.00254514\n",
            " 0.00252417 0.00249792 0.00248335 0.00246793 0.0024561  0.00242085\n",
            " 0.00239928 0.00236769 0.00236363 0.00235064 0.00234065 0.00231234\n",
            " 0.00229778 0.00227699 0.00225737 0.00222392]\n",
            "0.699985160858724\n",
            "[64.16250756 43.17911456 38.0775464  33.94071856 30.74950123 29.07410976\n",
            " 28.41298112 27.89555468 26.50816667 26.18558828 24.79913998 24.47350799\n",
            " 23.74176005 23.47177998 22.83546782 22.39979198 22.06906212 21.24918371\n",
            " 20.5210636  20.05456753 19.90621537 19.61166224 18.91779525 18.79241278\n",
            " 18.58220048 18.09775072 17.89219061 17.32573001 16.89803819 16.73148396\n",
            " 16.53827458 16.34472047 16.02407126 15.92792375 15.87536259 15.51732789\n",
            " 15.17829561 15.12371154 15.07827258 14.79408173 14.72176396 14.52553895\n",
            " 14.42233723 14.40454975 14.18119307 14.07707398 14.00462241 13.83081392\n",
            " 13.77037035 13.56245413 13.45731093 13.40434061 13.26933954 13.02060687\n",
            " 12.87023729 12.75384319 12.65700508 12.44737158 12.35900943 12.31007867\n",
            " 12.23069751 12.10751656 11.92583626 11.78164891 11.74416114 11.73204594\n",
            " 11.65198691 11.61748279 11.57120024 11.45472614 11.41453919 11.32319126\n",
            " 11.23478164 11.18012618 11.09526328 11.01920931 10.9303135  10.91394601\n",
            " 10.83289268 10.8045806  10.78293515 10.70492589 10.65257863 10.60994709\n",
            " 10.57646486 10.51246857 10.47923035 10.44842813 10.42768198 10.34601646\n",
            " 10.29976679 10.24103009 10.22388691 10.19671364 10.17540186 10.11245151\n",
            " 10.08091515 10.03700007  9.99131796  9.92306701]\n"
          ],
          "name": "stdout"
        }
      ]
    },
    {
      "cell_type": "code",
      "metadata": {
        "id": "n7UxQ_SSdOZP",
        "colab_type": "code",
        "colab": {
          "base_uri": "https://localhost:8080/",
          "height": 261
        },
        "outputId": "9c4b4fbe-5657-4ad2-dd76-866eac520e20"
      },
      "source": [
        "print(reduced_features)"
      ],
      "execution_count": 12,
      "outputs": [
        {
          "output_type": "stream",
          "text": [
            "[[ 1.93442333e-02  1.01881367e-01  2.75295137e-01 ...  1.32277651e-03\n",
            "  -5.34846346e-04 -1.85159042e-03]\n",
            " [ 1.22762868e+00 -5.75667147e-02  4.53293139e-02 ...  2.47123163e-01\n",
            "  -2.34556558e-01  4.68148900e-02]\n",
            " [ 8.52595440e-02  1.09923636e-01  2.99163741e-01 ...  3.44003093e-03\n",
            "   1.87952605e-02 -3.24884271e-03]\n",
            " ...\n",
            " [ 4.96430409e-04  1.41098458e-03  2.81446000e-03 ... -2.82644256e-03\n",
            "  -1.03249768e-02  5.79463403e-03]\n",
            " [ 9.65193781e-01 -2.14868786e-01 -1.12641455e-01 ... -1.37730784e-02\n",
            "   8.38709834e-02 -1.87295398e-02]\n",
            " [ 7.08646222e-03  2.48330429e-03  7.73408886e-03 ...  7.81372334e-02\n",
            "   7.31232707e-02 -1.97713586e-01]]\n"
          ],
          "name": "stdout"
        }
      ]
    },
    {
      "cell_type": "markdown",
      "metadata": {
        "id": "5Glorc3xgOwy",
        "colab_type": "text"
      },
      "source": [
        "## Dense Time Invariant features"
      ]
    },
    {
      "cell_type": "code",
      "metadata": {
        "id": "o9T0sIOWgrsd",
        "colab_type": "code",
        "colab": {}
      },
      "source": [
        "founder_features = pd.read_csv('/content/gdrive/My Drive/vc_modeling/feature_extraction/founder_features/organization_founders_features.csv')\n",
        "founder_features['hash'] = founder_features['org_uuid'].apply(cityhash.CityHash64)\n",
        "founder_features = founder_features.set_index(['hash'], drop=True).drop(['org_uuid'], axis=1)\n",
        "\n",
        "\n",
        "founder_features_only = founder_features.dropna()\n"
      ],
      "execution_count": 13,
      "outputs": []
    },
    {
      "cell_type": "code",
      "metadata": {
        "id": "nBWRh2O7jHIZ",
        "colab_type": "code",
        "colab": {
          "base_uri": "https://localhost:8080/",
          "height": 298
        },
        "outputId": "d55f661f-76d2-4846-b925-1e0d8008a568"
      },
      "source": [
        "sparse_data = pd.DataFrame(data=reduced_features, index=sparse_join.index, columns=range(np.shape(reduced_features)[1]))\n",
        "time_invariant_features = sparse_data.join(founder_features, lsuffix='sparse', rsuffix='dense').fillna(0)\n",
        "print(time_invariant_features.dropna())"
      ],
      "execution_count": 19,
      "outputs": [
        {
          "output_type": "stream",
          "text": [
            "                             0  ...  founders_count\n",
            "0                               ...                \n",
            "13685534557686295101  0.019344  ...             2.0\n",
            "764015621929367586    1.227629  ...             1.0\n",
            "10846552445983457719  0.085260  ...             1.0\n",
            "5087506707876194815   1.041919  ...             9.0\n",
            "9094535307341385563   1.041080  ...             2.0\n",
            "...                        ...  ...             ...\n",
            "16892862651199510638  0.013808  ...             0.0\n",
            "7229716827056183679   0.006609  ...             2.0\n",
            "4626564123199390189   0.000496  ...             0.0\n",
            "2978566027619600648   0.965194  ...             0.0\n",
            "9744251496066876000   0.007086  ...             0.0\n",
            "\n",
            "[808944 rows x 106 columns]\n"
          ],
          "name": "stdout"
        }
      ]
    },
    {
      "cell_type": "markdown",
      "metadata": {
        "id": "WtCstZdq49jx",
        "colab_type": "text"
      },
      "source": [
        "## Time Variant Features"
      ]
    },
    {
      "cell_type": "code",
      "metadata": {
        "id": "FAKi2Myf4jsL",
        "colab_type": "code",
        "colab": {
          "base_uri": "https://localhost:8080/",
          "height": 257
        },
        "outputId": "e4eeacb8-2cb7-4705-8ce9-403f08ee90d0"
      },
      "source": [
        "funding_features = pd.read_csv('/content/gdrive/My Drive/vc_modeling/data/funding_features_for_regression.csv')\n",
        "funding_features['hash'] = funding_features['org_uuid'].apply(cityhash.CityHash64)\n",
        "funding_features = funding_features.set_index('hash').drop(['org_uuid'], axis=1)\n",
        "\n",
        "investor_features = pd.read_csv('/content/gdrive/My Drive/vc_modeling/data/investor_features_for_regression.csv')\n",
        "investor_features['hash'] = investor_features['org_uuid'].apply(cityhash.CityHash64)\n",
        "investor_features = investor_features.set_index('hash').drop(['org_uuid'], axis=1).drop(['lead_investor_first_fund_announce_date_max', 'lead_investor_fund_age_max', 'lead_investor_fund_age_min', 'lead_investor_first_fund_announce_date_min'], axis=1)\n",
        "investor_features.head()"
      ],
      "execution_count": 49,
      "outputs": [
        {
          "output_type": "execute_result",
          "data": {
            "text/html": [
              "<div>\n",
              "<style scoped>\n",
              "    .dataframe tbody tr th:only-of-type {\n",
              "        vertical-align: middle;\n",
              "    }\n",
              "\n",
              "    .dataframe tbody tr th {\n",
              "        vertical-align: top;\n",
              "    }\n",
              "\n",
              "    .dataframe thead th {\n",
              "        text-align: right;\n",
              "    }\n",
              "</style>\n",
              "<table border=\"1\" class=\"dataframe\">\n",
              "  <thead>\n",
              "    <tr style=\"text-align: right;\">\n",
              "      <th></th>\n",
              "      <th>pct_leads_invested_at_primary_type</th>\n",
              "      <th>lead_investor_total_fund_size_max</th>\n",
              "      <th>lead_investor_total_fund_size_min</th>\n",
              "      <th>lead_investor_total_fund_size_mean</th>\n",
              "      <th>n_unique_investors</th>\n",
              "      <th>n_unique_lead_investors</th>\n",
              "      <th>days_forward</th>\n",
              "    </tr>\n",
              "    <tr>\n",
              "      <th>hash</th>\n",
              "      <th></th>\n",
              "      <th></th>\n",
              "      <th></th>\n",
              "      <th></th>\n",
              "      <th></th>\n",
              "      <th></th>\n",
              "      <th></th>\n",
              "    </tr>\n",
              "  </thead>\n",
              "  <tbody>\n",
              "    <tr>\n",
              "      <th>4186118337114422631</th>\n",
              "      <td>1.00</td>\n",
              "      <td>2.012333e+07</td>\n",
              "      <td>20123329.0</td>\n",
              "      <td>2.012333e+07</td>\n",
              "      <td>3</td>\n",
              "      <td>1</td>\n",
              "      <td>2000</td>\n",
              "    </tr>\n",
              "    <tr>\n",
              "      <th>12333937817470221909</th>\n",
              "      <td>1.00</td>\n",
              "      <td>2.760000e+08</td>\n",
              "      <td>276000000.0</td>\n",
              "      <td>2.760000e+08</td>\n",
              "      <td>2</td>\n",
              "      <td>2</td>\n",
              "      <td>2000</td>\n",
              "    </tr>\n",
              "    <tr>\n",
              "      <th>8833180824184546855</th>\n",
              "      <td>1.00</td>\n",
              "      <td>2.164722e+08</td>\n",
              "      <td>216472233.0</td>\n",
              "      <td>2.164722e+08</td>\n",
              "      <td>3</td>\n",
              "      <td>1</td>\n",
              "      <td>2000</td>\n",
              "    </tr>\n",
              "    <tr>\n",
              "      <th>13059672054285866807</th>\n",
              "      <td>0.75</td>\n",
              "      <td>7.629000e+09</td>\n",
              "      <td>650000000.0</td>\n",
              "      <td>4.139500e+09</td>\n",
              "      <td>4</td>\n",
              "      <td>4</td>\n",
              "      <td>200</td>\n",
              "    </tr>\n",
              "    <tr>\n",
              "      <th>13059672054285866807</th>\n",
              "      <td>0.75</td>\n",
              "      <td>7.629000e+09</td>\n",
              "      <td>650000000.0</td>\n",
              "      <td>4.139500e+09</td>\n",
              "      <td>4</td>\n",
              "      <td>4</td>\n",
              "      <td>500</td>\n",
              "    </tr>\n",
              "  </tbody>\n",
              "</table>\n",
              "</div>"
            ],
            "text/plain": [
              "                      pct_leads_invested_at_primary_type  ...  days_forward\n",
              "hash                                                      ...              \n",
              "4186118337114422631                                 1.00  ...          2000\n",
              "12333937817470221909                                1.00  ...          2000\n",
              "8833180824184546855                                 1.00  ...          2000\n",
              "13059672054285866807                                0.75  ...           200\n",
              "13059672054285866807                                0.75  ...           500\n",
              "\n",
              "[5 rows x 7 columns]"
            ]
          },
          "metadata": {
            "tags": []
          },
          "execution_count": 49
        }
      ]
    },
    {
      "cell_type": "code",
      "metadata": {
        "id": "b9QmLU7r48S8",
        "colab_type": "code",
        "colab": {}
      },
      "source": [
        "feature_dict = {}\n",
        "\n",
        "for mark in marks:\n",
        "  funding_marked = funding_features[funding_features['days_forward'] == mark].drop('days_forward', axis=1)\n",
        "  investor_marked = investor_features[investor_features['days_forward'] == mark].drop('days_forward', axis=1)\n",
        "  join = time_invariant_features.join([funding_marked, investor_marked]).fillna(0)\n",
        "  feature_dict[mark] = join"
      ],
      "execution_count": 50,
      "outputs": []
    },
    {
      "cell_type": "markdown",
      "metadata": {
        "id": "OTnF5RR95j2T",
        "colab_type": "text"
      },
      "source": [
        "## Feature Normalization"
      ]
    },
    {
      "cell_type": "code",
      "metadata": {
        "id": "QZ_HWAMlSWim",
        "colab_type": "code",
        "colab": {}
      },
      "source": [
        "import sklearn.preprocessing\n",
        "\n",
        "for mark, unnorm_features in feature_dict.items():\n",
        "  features_array = sklearn.preprocessing.normalize(unnorm_features, norm='max', axis=0, copy=False)\n",
        "  feature_dict[mark] = pd.DataFrame(data=features_array, index=unnorm_features.index, columns=range(np.shape(unnorm_features)[1]))"
      ],
      "execution_count": 51,
      "outputs": []
    },
    {
      "cell_type": "markdown",
      "metadata": {
        "id": "LnfflhAPyChF",
        "colab_type": "text"
      },
      "source": [
        "# Train Model"
      ]
    },
    {
      "cell_type": "code",
      "metadata": {
        "id": "57NUdx-Xx-9q",
        "colab_type": "code",
        "colab": {}
      },
      "source": [
        "# Train Models\n",
        "import sklearn.metrics\n",
        "import sklearn.model_selection\n",
        "\n",
        "model_save_path = '/content/gdrive/My Drive/vc_modeling/models/' \n",
        "stats_save_path = \"/content/gdrive/My Drive/vc_modeling/models/model_stats.csv\"\n",
        "\n",
        "def regression_analysis(model, train_data, train_values, test_data, test_values):\n",
        "    predicted_train_values = model.predict(train_data)\n",
        "    predicted_test_values = model.predict(test_data)\n",
        "\n",
        "    print(\"Sample values: \", predicted_test_values[:5], test_values[:5])\n",
        "\n",
        "    train_mse = sklearn.metrics.mean_squared_error(train_values, predicted_train_values)\n",
        "    test_mse = sklearn.metrics.mean_squared_error(test_values, predicted_test_values)\n",
        "    train_explained_variance = sklearn.metrics.explained_variance_score(train_values, predicted_train_values)\n",
        "    test_explained_variance = sklearn.metrics.explained_variance_score(test_values, predicted_test_values)\n",
        "\n",
        "    print(\"Train MSE: {:.3f}\".format(train_mse))\n",
        "    print(\"Train Explained Variance Score: {:.3f}\".format(train_explained_variance))\n",
        "    print(\"Test MSE: {:.3f}\".format(test_mse))\n",
        "    print(\"Test Explained Variance Score: {:.3f}\".format(test_explained_variance))\n",
        "\n",
        "    stats = pd.DataFrame(data=[[train_mse, test_mse, train_explained_variance, test_explained_variance]], columns=['Train MSE', 'Test MSE', 'Train EVS', 'Test EVS'])\n",
        "    stats = stats.round(3)\n",
        "    return stats\n",
        "\n",
        "def classification_analysis(model, train_data, train_values, test_data, test_values):\n",
        "    train_values_predicted = model.predict(train_data)\n",
        "    threshold = np.average(train_values_predicted)\n",
        "    train_prediction = train_values_predicted > threshold\n",
        "    train_prediction = train_prediction.astype(np.int32)\n",
        "\n",
        "    test_values_predicted = model.predict(test_data)\n",
        "    test_prediction = test_values_predicted > threshold\n",
        "    test_prediction = test_prediction.astype(np.int32)\n",
        "\n",
        "    train_labels = train_values > threshold\n",
        "    train_labels = train_labels.astype(np.int32)\n",
        "\n",
        "    test_labels = test_values > threshold\n",
        "    test_labels = test_labels.astype(np.int32)\n",
        "\n",
        "    confusion_matrix_large = pd.DataFrame(sklearn.metrics.confusion_matrix(test_labels, test_prediction, labels=[1, 0]),\n",
        "                                    columns=['positive', 'negative'], index=['Truth is +', 'Truth is -'])\n",
        "    print(\"Confusion:\\n\", confusion_matrix_large)\n",
        "    test_acc = sum(test_labels==test_prediction)/len(test_labels)\n",
        "    print(\"Test accuracy: \", test_acc)\n",
        "    train_acc = sum(train_labels==train_prediction)/len(train_labels)\n",
        "    print(\"Train accuracy: \", train_acc)\n",
        "\n",
        "def train_model_over_mark(model, input_data, mark, filter_unknown=True, hyperparams=None):\n",
        "  print(\"\\nRESULTS FOR\", str(mark), \"DAY MARK:\\n\")\n",
        "  # print(features)\n",
        "  mark_data = regression_marks[mark].dropna()\n",
        "  # print(mark_data)\n",
        "  if filter_unknown:\n",
        "    mark_data = mark_data[mark_data['log_valuation_factor'] != 0]\n",
        "  # Select the data that we have regression targets for\n",
        "\n",
        "  data = input_data[input_data.index.isin(mark_data.index)].sort_index()\n",
        "  # print(data)\n",
        "\n",
        "\n",
        "  # Select the column with log_valuation_factor.\n",
        "  values = mark_data[mark_data.index.isin(input_data.index)]['log_valuation_factor'].sort_index()\n",
        "  # print(values)\n",
        "\n",
        "  train_data, test_data, train_values, test_values = sklearn.model_selection.train_test_split(data, values, test_size=0.25)\n",
        "  if hyperparams:\n",
        "    print(\"Conducting Grid Search\")\n",
        "    search = sklearn.model_selection.GridSearchCV(model, hyperparams)\n",
        "    search.fit(train_data, train_values)\n",
        "    model = search.best_estimator_\n",
        "  \n",
        "  print(\"Trained on\", str(np.shape(train_data)[0]), \"rows.\")\n",
        "  model.fit(train_data, train_values)\n",
        "  regression_stats = regression_analysis(model, train_data, train_values, test_data, test_values)\n",
        "  classification_analysis(model, train_data, train_values, test_data, test_values)\n",
        "\n",
        "  regression_stats['Mark'] = str(mark)\n",
        "  return regression_stats\n",
        "\n",
        "def train_analyze_save_models(model, features_for_mark, marks, filter_unknown=True, hyperparams=None, save=False):\n",
        "  model_full_stats = pd.DataFrame(columns=['Mark', 'Train MSE', 'Test MSE', 'Train EVS', 'Test EVS'])\n",
        "  for mark in marks:\n",
        "    input_data = features_for_mark[mark]\n",
        "    model_stats_for_mark = train_model_over_mark(model, input_data, mark, filter_unknown=True, hyperparams=hyperparams)\n",
        "    # print(model_stats_for_mark)\n",
        "    model_full_stats = model_full_stats.append(model_stats_for_mark)\n",
        "    if save:\n",
        "      pickle.dump(model, open('/content/gdrive/My Drive/vc_modeling/models/' + str(mark) + '.pkl', 'wb'))\n",
        "      print(\"Models Saved\")\n",
        "  model_full_stats = model_full_stats.set_index('Mark')\n",
        "  model_full_stats.to_csv(stats_save_path)\n",
        "  # print(model_full_stats)"
      ],
      "execution_count": 75,
      "outputs": []
    },
    {
      "cell_type": "markdown",
      "metadata": {
        "id": "ol1UlbPc-Njh",
        "colab_type": "text"
      },
      "source": [
        "## Lasso"
      ]
    },
    {
      "cell_type": "code",
      "metadata": {
        "id": "q4zrYwJg-M0E",
        "colab_type": "code",
        "colab": {
          "base_uri": "https://localhost:8080/",
          "height": 1000
        },
        "outputId": "7f10d08b-2776-4339-f3c2-55261610ac96"
      },
      "source": [
        "import sklearn.linear_model\n",
        "\n",
        "lasso_model = sklearn.linear_model.LassoCV()\n",
        "train_analyze_save_models(lasso_model, feature_dict, marks, filter_unknown=True)"
      ],
      "execution_count": 67,
      "outputs": [
        {
          "output_type": "stream",
          "text": [
            "\n",
            "RESULTS FOR 200 DAY MARK:\n",
            "\n",
            "Trained on 39445 rows.\n",
            "Sample values:  [0.64126864 0.30666821 0.3911232  0.23407    0.41645579] hash\n",
            "3291231844864306042    0.153570\n",
            "9976458301325477657    0.398534\n",
            "2303864897546522496    0.409922\n",
            "6287798531766950800    1.111673\n",
            "7136319215372392419   -0.190253\n",
            "Name: log_valuation_factor, dtype: float64\n",
            "Train MSE:  0.8493490842296043\n",
            "Train Explained Variance Score:  0.02172603461283651\n",
            "Test MSE:  0.8571101727978573\n",
            "Test Explained Variance Score:  0.017573166037010313\n",
            "Confusion:\n",
            "             positive  negative\n",
            "Truth is +      2930      2637\n",
            "Truth is -      3037      4545\n",
            "Test accuracy:  0.5684842953836794\n",
            "Train accuracy:  0.5739890987450881\n",
            "\n",
            "RESULTS FOR 500 DAY MARK:\n",
            "\n",
            "Trained on 39573 rows.\n",
            "Sample values:  [0.74763434 0.65918996 1.02088102 0.55147755 0.79248982] hash\n",
            "4592894162732364899    -1.856298\n",
            "807037566504748297      0.107883\n",
            "4370454419282417132     0.979091\n",
            "12113291689500107828    1.456063\n",
            "12369472916305385412   -1.992430\n",
            "Name: log_valuation_factor, dtype: float64\n",
            "Train MSE:  1.6019197081659533\n",
            "Train Explained Variance Score:  0.03886197118650747\n",
            "Test MSE:  1.5808804924596962\n",
            "Test Explained Variance Score:  0.03260844363880677\n",
            "Confusion:\n",
            "             positive  negative\n",
            "Truth is +      3287      2933\n",
            "Truth is -      2625      4347\n",
            "Test accuracy:  0.5786840509399637\n",
            "Train accuracy:  0.5847421221539939\n",
            "\n",
            "RESULTS FOR 1000 DAY MARK:\n",
            "\n",
            "Trained on 39627 rows.\n",
            "Sample values:  [0.73038412 0.78870405 2.13939639 0.65528511 1.33670567] hash\n",
            "5916913929805817521     0.669069\n",
            "14347120650225207949    0.019075\n",
            "2614840272638083777     0.931461\n",
            "17302846438974996341   -1.491655\n",
            "4269105958035626458     1.638425\n",
            "Name: log_valuation_factor, dtype: float64\n",
            "Train MSE:  2.1753646783932283\n",
            "Train Explained Variance Score:  0.05682600927552206\n",
            "Test MSE:  2.208821413763601\n",
            "Test Explained Variance Score:  0.05866925898883879\n",
            "Confusion:\n",
            "             positive  negative\n",
            "Truth is +      3299      3022\n",
            "Truth is -      2410      4478\n",
            "Test accuracy:  0.5887652358240594\n",
            "Train accuracy:  0.592777651601181\n",
            "\n",
            "RESULTS FOR 2000 DAY MARK:\n",
            "\n",
            "Trained on 39583 rows.\n",
            "Sample values:  [2.5971351  0.90276428 1.02248697 1.62010685 0.61240918] hash\n",
            "2758249002965151735     2.079442\n",
            "12540050702300585589    0.072428\n",
            "12344815489748229405   -0.041583\n",
            "4487759053729391359     1.685299\n",
            "5326765715680300818     1.466337\n",
            "Name: log_valuation_factor, dtype: float64\n",
            "Train MSE:  2.656033524280022\n",
            "Train Explained Variance Score:  0.07610494375130106\n",
            "Test MSE:  2.6919340066619717\n",
            "Test Explained Variance Score:  0.0707909204992716\n",
            "Confusion:\n",
            "             positive  negative\n",
            "Truth is +      3283      2966\n",
            "Truth is -      2408      4538\n",
            "Test accuracy:  0.5927245168624479\n",
            "Train accuracy:  0.5919713008109542\n"
          ],
          "name": "stdout"
        }
      ]
    },
    {
      "cell_type": "markdown",
      "metadata": {
        "id": "77ksr5r4cuc0",
        "colab_type": "text"
      },
      "source": [
        "## Random Forest Regressor"
      ]
    },
    {
      "cell_type": "code",
      "metadata": {
        "id": "j5PRMVseeLBU",
        "colab_type": "code",
        "colab": {
          "base_uri": "https://localhost:8080/",
          "height": 1000
        },
        "outputId": "78ae5cd3-e260-44f2-a222-818a69db1f46"
      },
      "source": [
        "from sklearn.ensemble import RandomForestRegressor\n",
        "from sklearn.model_selection import GridSearchCV\n",
        "\n",
        "models = []\n",
        "hyperdict = {'n_estimators': [20, 40, 60, 80, 100], 'min_samples_split':[10, 20, 30]}\n",
        "\n",
        "tree_model = RandomForestRegressor(criterion='mse', max_depth=4)\n",
        "train_analyze_save_models(tree_model, feature_dict, marks, filter_unknown=True, save=True)"
      ],
      "execution_count": 71,
      "outputs": [
        {
          "output_type": "stream",
          "text": [
            "\n",
            "RESULTS FOR 200 DAY MARK:\n",
            "\n",
            "Trained on 39445 rows.\n",
            "Sample values:  [0.31925402 0.35966338 0.35638019 0.26478428 0.44441283] hash\n",
            "12967725012194857396    0.619039\n",
            "14620084754324474648    0.989508\n",
            "7912719370858775577     1.009854\n",
            "12223350019333453504    0.144823\n",
            "15134400659880834136    0.729089\n",
            "Name: log_valuation_factor, dtype: float64\n",
            "Train MSE:  0.8418660242590001\n",
            "Train Explained Variance Score:  0.02941030572040848\n",
            "Test MSE:  0.8604332054692484\n",
            "Test Explained Variance Score:  0.016585236683386628\n",
            "Confusion:\n",
            "             positive  negative\n",
            "Truth is +      2360      3229\n",
            "Truth is -      2206      5354\n",
            "Test accuracy:  0.5866605825538064\n",
            "Train accuracy:  0.5838002281658005\n",
            "Models Saved\n",
            "\n",
            "RESULTS FOR 500 DAY MARK:\n",
            "\n",
            "Trained on 39573 rows.\n",
            "Sample values:  [0.61405334 1.01941093 0.54330933 0.56196048 0.57201004] hash\n",
            "4625501801419729884     1.310307\n",
            "18240614743343886873    0.325675\n",
            "17736543360186249312   -2.525729\n",
            "6540539227947698538     0.210414\n",
            "12959011461965358348    0.326911\n",
            "Name: log_valuation_factor, dtype: float64\n",
            "Train MSE:  1.59200949141513\n",
            "Train Explained Variance Score:  0.03945982723076347\n",
            "Test MSE:  1.60651543563175\n",
            "Test Explained Variance Score:  0.033395658722042976\n",
            "Confusion:\n",
            "             positive  negative\n",
            "Truth is +      2554      3676\n",
            "Truth is -      1851      5111\n",
            "Test accuracy:  0.5810339599757429\n",
            "Train accuracy:  0.5816086725797892\n",
            "Models Saved\n",
            "\n",
            "RESULTS FOR 1000 DAY MARK:\n",
            "\n",
            "Trained on 39627 rows.\n",
            "Sample values:  [0.66176486 0.80524531 0.73473647 1.1577843  0.56747559] hash\n",
            "11004662108173128698   -1.368690\n",
            "16268589860918603477    2.102646\n",
            "15596949489730630749    0.430783\n",
            "4013934027217663665     1.002757\n",
            "3358656796375787725     0.676340\n",
            "Name: log_valuation_factor, dtype: float64\n",
            "Train MSE:  2.1961335154608403\n",
            "Train Explained Variance Score:  0.05890225442531738\n",
            "Test MSE:  2.165056276935856\n",
            "Test Explained Variance Score:  0.04414385325841952\n",
            "Confusion:\n",
            "             positive  negative\n",
            "Truth is +      2473      3844\n",
            "Truth is -      1670      5222\n",
            "Test accuracy:  0.5825573472632296\n",
            "Train accuracy:  0.5865949983597042\n",
            "Models Saved\n",
            "\n",
            "RESULTS FOR 2000 DAY MARK:\n",
            "\n",
            "Trained on 39583 rows.\n",
            "Sample values:  [1.66582783 0.84449862 1.23802764 0.78943833 1.18053305] hash\n",
            "15777862945837505820   -0.307696\n",
            "16220849075435617872    2.353878\n",
            "1951988128949117154     5.371302\n",
            "14424526212754555360    0.949081\n",
            "16245299939423574482   -1.504077\n",
            "Name: log_valuation_factor, dtype: float64\n",
            "Train MSE:  2.671189682487909\n",
            "Train Explained Variance Score:  0.07367939137805601\n",
            "Test MSE:  2.6723476841583795\n",
            "Test Explained Variance Score:  0.06878205835795603\n",
            "Confusion:\n",
            "             positive  negative\n",
            "Truth is +      2395      4076\n",
            "Truth is -      1555      5169\n",
            "Test accuracy:  0.5732474422129594\n",
            "Train accuracy:  0.587499684207867\n",
            "Models Saved\n"
          ],
          "name": "stdout"
        }
      ]
    },
    {
      "cell_type": "code",
      "metadata": {
        "id": "Nyz3a63EcWxh",
        "colab_type": "code",
        "colab": {}
      },
      "source": [
        ""
      ],
      "execution_count": null,
      "outputs": []
    },
    {
      "cell_type": "markdown",
      "metadata": {
        "id": "Zk-T0iO2xtaQ",
        "colab_type": "text"
      },
      "source": [
        "## SGD"
      ]
    },
    {
      "cell_type": "code",
      "metadata": {
        "id": "u_GVqKW6xxhl",
        "colab_type": "code",
        "colab": {
          "base_uri": "https://localhost:8080/",
          "height": 1000
        },
        "outputId": "78985b4c-7143-4ace-d850-c859e31911f2"
      },
      "source": [
        "import sklearn.linear_model\n",
        "\n",
        "sgd = sklearn.linear_model.SGDRegressor()\n",
        "train_analyze_save_models(sgd, feature_dict, marks, filter_unknown=True)"
      ],
      "execution_count": 76,
      "outputs": [
        {
          "output_type": "stream",
          "text": [
            "\n",
            "RESULTS FOR 200 DAY MARK:\n",
            "\n",
            "Trained on 39445 rows.\n",
            "Sample values:  [0.33698467 0.34874977 0.39386501 0.26269778 0.23263379] hash\n",
            "14894358104566661802   -1.473885\n",
            "15083015550980876671   -0.988859\n",
            "12685724931713173461    0.129168\n",
            "17722711653460329522   -0.606368\n",
            "9909612658117869938     1.791759\n",
            "Name: log_valuation_factor, dtype: float64\n",
            "Train MSE: 0.844\n",
            "Train Explained Variance Score: 0.017\n",
            "Test MSE: 0.891\n",
            "Test Explained Variance Score: 0.014\n",
            "Confusion:\n",
            "             positive  negative\n",
            "Truth is +      2931      2557\n",
            "Truth is -      3191      4470\n",
            "Test accuracy:  0.5628564909879078\n",
            "Train accuracy:  0.5627329192546584\n",
            "\n",
            "RESULTS FOR 500 DAY MARK:\n",
            "\n",
            "Trained on 39573 rows.\n",
            "Sample values:  [0.77302175 0.68157137 0.2481682  0.89521302 0.60190574] hash\n",
            "5009456926064808446     0.273395\n",
            "6243086595766519728     2.559496\n",
            "3420630711294121179    -0.852579\n",
            "10117803114513585573    4.838412\n",
            "7945781846637633809     1.133511\n",
            "Name: log_valuation_factor, dtype: float64\n",
            "Train MSE: 1.604\n",
            "Train Explained Variance Score: 0.031\n",
            "Test MSE: 1.625\n",
            "Test Explained Variance Score: 0.027\n",
            "Confusion:\n",
            "             positive  negative\n",
            "Truth is +      3220      3050\n",
            "Truth is -      2632      4290\n",
            "Test accuracy:  0.5692844147968465\n",
            "Train accuracy:  0.5755692012230561\n",
            "\n",
            "RESULTS FOR 1000 DAY MARK:\n",
            "\n",
            "Trained on 39627 rows.\n",
            "Sample values:  [0.81334676 1.19562556 1.22947902 0.62033834 1.70167616] hash\n",
            "13537309722744453279    2.236417\n",
            "5054511958957129967     3.196403\n",
            "1519765581772678218     2.926648\n",
            "3402120503525764864     0.165500\n",
            "7634090712260665576     2.275890\n",
            "Name: log_valuation_factor, dtype: float64\n",
            "Train MSE: 2.227\n",
            "Train Explained Variance Score: 0.049\n",
            "Test MSE: 2.139\n",
            "Test Explained Variance Score: 0.046\n",
            "Confusion:\n",
            "             positive  negative\n",
            "Truth is +      3383      3083\n",
            "Truth is -      2538      4205\n",
            "Test accuracy:  0.5744568097509274\n",
            "Train accuracy:  0.5834910540792894\n",
            "\n",
            "RESULTS FOR 2000 DAY MARK:\n",
            "\n",
            "Trained on 39583 rows.\n",
            "Sample values:  [0.6857439  0.15850788 1.25061705 0.85811125 0.84104917] hash\n",
            "15129275046599752125    0.248461\n",
            "16904856511382702232    2.453373\n",
            "16427714960149150654    4.872905\n",
            "5653284920273193384     2.610070\n",
            "1072025947805328856     1.524881\n",
            "Name: log_valuation_factor, dtype: float64\n",
            "Train MSE: 2.686\n",
            "Train Explained Variance Score: 0.065\n",
            "Test MSE: 2.737\n",
            "Test Explained Variance Score: 0.056\n",
            "Confusion:\n",
            "             positive  negative\n",
            "Truth is +      3309      3069\n",
            "Truth is -      2535      4282\n",
            "Test accuracy:  0.575293671845396\n",
            "Train accuracy:  0.5887881161104515\n"
          ],
          "name": "stdout"
        }
      ]
    },
    {
      "cell_type": "markdown",
      "metadata": {
        "id": "BmcPRYYmzrp-",
        "colab_type": "text"
      },
      "source": [
        "# SVR"
      ]
    },
    {
      "cell_type": "code",
      "metadata": {
        "id": "yE03MWnSztYb",
        "colab_type": "code",
        "colab": {
          "base_uri": "https://localhost:8080/",
          "height": 1000
        },
        "outputId": "a779966b-bbaa-478f-df58-6768ffa5ad62"
      },
      "source": [
        "import sklearn.svm\n",
        "# Warning: this takes a really long time.\n",
        "\n",
        "svm = sklearn.svm.SVR(C=0.001)\n",
        "train_analyze_save_models(svm, feature_dict, marks, filter_unknown=True)"
      ],
      "execution_count": 65,
      "outputs": [
        {
          "output_type": "stream",
          "text": [
            "\n",
            "RESULTS FOR 200 DAY MARK:\n",
            "\n",
            "Trained on 39445 rows.\n",
            "Sample values:  [0.45241493 0.30676156 0.46187886 0.3016241  0.21871206] hash\n",
            "1073426932052885759     1.814059\n",
            "8236489033748084964    -1.253349\n",
            "3978734686931138051     0.199607\n",
            "771894773710356089     -0.963970\n",
            "13472161592308974541    0.330907\n",
            "Name: log_valuation_factor, dtype: float64\n",
            "Train MSE:  0.8580275876984779\n",
            "Train Explained Variance Score:  0.015545939610884685\n",
            "Test MSE:  0.8535608402977765\n",
            "Test Explained Variance Score:  0.012867489059910753\n",
            "Confusion:\n",
            "             positive  negative\n",
            "Truth is +      2775      2630\n",
            "Truth is -      3154      4590\n",
            "Test accuracy:  0.5601186402007757\n",
            "Train accuracy:  0.5640765623019394\n",
            "\n",
            "RESULTS FOR 500 DAY MARK:\n",
            "\n",
            "Trained on 39573 rows.\n",
            "Sample values:  [0.46153436 0.44809743 0.833686   0.53306258 0.6566857 ] hash\n",
            "16900522960309454065   -1.504252\n",
            "10652106539247817863    1.049822\n",
            "4811827137043678520     2.038283\n",
            "3869186477924654134    -0.333147\n",
            "13468394499944240952   -2.965796\n",
            "Name: log_valuation_factor, dtype: float64\n",
            "Train MSE:  1.613732968353565\n",
            "Train Explained Variance Score:  0.028070744167719708\n",
            "Test MSE:  1.6115889400192027\n",
            "Test Explained Variance Score:  0.025402590289507865\n",
            "Confusion:\n",
            "             positive  negative\n",
            "Truth is +      3289      2873\n",
            "Truth is -      2795      4235\n",
            "Test accuracy:  0.5703456640388114\n",
            "Train accuracy:  0.5730422257599879\n",
            "\n",
            "RESULTS FOR 1000 DAY MARK:\n",
            "\n",
            "Trained on 39627 rows.\n",
            "Sample values:  [0.58865857 0.80879804 1.35702835 1.28727876 0.92123903] hash\n",
            "16301221128306673824    4.605170\n",
            "16549315873724125517    2.079442\n",
            "16535330983003321273    1.402340\n",
            "3553483861249837570     0.705498\n",
            "10359105746113442790    2.304563\n",
            "Name: log_valuation_factor, dtype: float64\n",
            "Train MSE:  2.211078339787516\n",
            "Train Explained Variance Score:  0.042865375902519265\n",
            "Test MSE:  2.2538572740437237\n",
            "Test Explained Variance Score:  0.03521184987476578\n",
            "Confusion:\n",
            "             positive  negative\n",
            "Truth is +      3307      2993\n",
            "Truth is -      2588      4321\n",
            "Test accuracy:  0.5774850480732834\n",
            "Train accuracy:  0.5786206374441668\n",
            "\n",
            "RESULTS FOR 2000 DAY MARK:\n",
            "\n",
            "Trained on 39583 rows.\n",
            "Sample values:  [1.00067835 1.49903104 0.88592494 0.85505201 0.84927814] hash\n",
            "17037244036287540217   -0.069093\n",
            "9289105482383184038     3.609813\n",
            "18294745109511971433   -0.287682\n",
            "14016717136840802503   -0.044342\n",
            "4233398280590008461    -2.803385\n",
            "Name: log_valuation_factor, dtype: float64\n",
            "Train MSE:  2.7348967357588103\n",
            "Train Explained Variance Score:  0.049300626173375384\n",
            "Test MSE:  2.74691867263975\n",
            "Test Explained Variance Score:  0.050745400021843245\n",
            "Confusion:\n",
            "             positive  negative\n",
            "Truth is +      3478      3121\n",
            "Truth is -      2456      4140\n",
            "Test accuracy:  0.5773399014778325\n",
            "Train accuracy:  0.5794406689740546\n"
          ],
          "name": "stdout"
        },
        {
          "output_type": "execute_result",
          "data": {
            "text/plain": [
              "SGDRegressor(alpha=0.0001, average=False, early_stopping=False, epsilon=0.1,\n",
              "             eta0=0.01, fit_intercept=True, l1_ratio=0.15,\n",
              "             learning_rate='invscaling', loss='squared_loss', max_iter=1000,\n",
              "             n_iter_no_change=5, penalty='l2', power_t=0.25, random_state=None,\n",
              "             shuffle=True, tol=0.001, validation_fraction=0.1, verbose=0,\n",
              "             warm_start=False)"
            ]
          },
          "metadata": {
            "tags": []
          },
          "execution_count": 65
        }
      ]
    },
    {
      "cell_type": "markdown",
      "metadata": {
        "id": "gLN28KUEnDVG",
        "colab_type": "text"
      },
      "source": [
        "## MultiLayer Perceptron"
      ]
    },
    {
      "cell_type": "code",
      "metadata": {
        "id": "53e0q3p3nHWP",
        "colab_type": "code",
        "colab": {
          "base_uri": "https://localhost:8080/",
          "height": 92
        },
        "outputId": "48cafc38-3fa4-4650-d16b-3b8cbd0ca0d8"
      },
      "source": [
        "import sklearn.neural_network\n",
        "\n",
        "models = []\n",
        "\n",
        "mlp = sklearn.neural_network.MLPRegressor(alpha=1e-2, hidden_layer_sizes=(100, 50, 20), max_iter=500)\n",
        "train_analyze_save_models(mlp, feature_dict, marks, filter_unknown=True)"
      ],
      "execution_count": null,
      "outputs": [
        {
          "output_type": "stream",
          "text": [
            "\n",
            "RESULTS FOR 200 DAY MARK:\n",
            "\n",
            "Trained on 39445 rows.\n"
          ],
          "name": "stdout"
        }
      ]
    },
    {
      "cell_type": "markdown",
      "metadata": {
        "id": "UivkBRqlA4UM",
        "colab_type": "text"
      },
      "source": [
        "# Export Predictions"
      ]
    },
    {
      "cell_type": "code",
      "metadata": {
        "id": "VVg9x0AH6qoD",
        "colab_type": "code",
        "colab": {
          "base_uri": "https://localhost:8080/",
          "height": 542
        },
        "outputId": "b066724e-03e6-44ec-bec0-dd46b5586b82"
      },
      "source": [
        "# Load the models\n",
        "import pickle\n",
        "models = []\n",
        "for mark in marks:\n",
        "  model = pickle.load(open('/content/gdrive/My Drive/vc_modeling/models/' + str(int(mark)) + '.pkl', 'rb'))\n",
        "  print(model)\n",
        "  models.append(model)\n"
      ],
      "execution_count": 31,
      "outputs": [
        {
          "output_type": "stream",
          "text": [
            "RandomForestRegressor(bootstrap=True, ccp_alpha=0.0, criterion='mse',\n",
            "                      max_depth=4, max_features='auto', max_leaf_nodes=None,\n",
            "                      max_samples=None, min_impurity_decrease=0.0,\n",
            "                      min_impurity_split=None, min_samples_leaf=1,\n",
            "                      min_samples_split=2, min_weight_fraction_leaf=0.0,\n",
            "                      n_estimators=100, n_jobs=None, oob_score=False,\n",
            "                      random_state=None, verbose=0, warm_start=False)\n",
            "RandomForestRegressor(bootstrap=True, ccp_alpha=0.0, criterion='mse',\n",
            "                      max_depth=4, max_features='auto', max_leaf_nodes=None,\n",
            "                      max_samples=None, min_impurity_decrease=0.0,\n",
            "                      min_impurity_split=None, min_samples_leaf=1,\n",
            "                      min_samples_split=2, min_weight_fraction_leaf=0.0,\n",
            "                      n_estimators=100, n_jobs=None, oob_score=False,\n",
            "                      random_state=None, verbose=0, warm_start=False)\n",
            "RandomForestRegressor(bootstrap=True, ccp_alpha=0.0, criterion='mse',\n",
            "                      max_depth=4, max_features='auto', max_leaf_nodes=None,\n",
            "                      max_samples=None, min_impurity_decrease=0.0,\n",
            "                      min_impurity_split=None, min_samples_leaf=1,\n",
            "                      min_samples_split=2, min_weight_fraction_leaf=0.0,\n",
            "                      n_estimators=100, n_jobs=None, oob_score=False,\n",
            "                      random_state=None, verbose=0, warm_start=False)\n",
            "RandomForestRegressor(bootstrap=True, ccp_alpha=0.0, criterion='mse',\n",
            "                      max_depth=4, max_features='auto', max_leaf_nodes=None,\n",
            "                      max_samples=None, min_impurity_decrease=0.0,\n",
            "                      min_impurity_split=None, min_samples_leaf=1,\n",
            "                      min_samples_split=2, min_weight_fraction_leaf=0.0,\n",
            "                      n_estimators=100, n_jobs=None, oob_score=False,\n",
            "                      random_state=None, verbose=0, warm_start=False)\n"
          ],
          "name": "stdout"
        }
      ]
    },
    {
      "cell_type": "code",
      "metadata": {
        "id": "CK73IoyvvQPZ",
        "colab_type": "code",
        "colab": {}
      },
      "source": [
        "org_info = pd.read_csv(\"/content/gdrive/My Drive/vc_modeling/data/crunchbase_bulk_export/organizations.csv\")"
      ],
      "execution_count": 32,
      "outputs": []
    },
    {
      "cell_type": "code",
      "metadata": {
        "id": "65FZRRvezF6w",
        "colab_type": "code",
        "colab": {
          "base_uri": "https://localhost:8080/",
          "height": 237
        },
        "outputId": "ff239c81-72fc-408f-c262-e14dc20f72b3"
      },
      "source": [
        "org_info['hash'] = org_info['uuid'].apply(cityhash.CityHash64)\n",
        "org_info = org_info.set_index('hash')\n",
        "org_info = org_info[['uuid', 'name', 'created_at']]\n",
        "org_info.head()"
      ],
      "execution_count": 33,
      "outputs": [
        {
          "output_type": "execute_result",
          "data": {
            "text/html": [
              "<div>\n",
              "<style scoped>\n",
              "    .dataframe tbody tr th:only-of-type {\n",
              "        vertical-align: middle;\n",
              "    }\n",
              "\n",
              "    .dataframe tbody tr th {\n",
              "        vertical-align: top;\n",
              "    }\n",
              "\n",
              "    .dataframe thead th {\n",
              "        text-align: right;\n",
              "    }\n",
              "</style>\n",
              "<table border=\"1\" class=\"dataframe\">\n",
              "  <thead>\n",
              "    <tr style=\"text-align: right;\">\n",
              "      <th></th>\n",
              "      <th>uuid</th>\n",
              "      <th>name</th>\n",
              "      <th>created_at</th>\n",
              "    </tr>\n",
              "    <tr>\n",
              "      <th>hash</th>\n",
              "      <th></th>\n",
              "      <th></th>\n",
              "      <th></th>\n",
              "    </tr>\n",
              "  </thead>\n",
              "  <tbody>\n",
              "    <tr>\n",
              "      <th>13685534557686295101</th>\n",
              "      <td>e1393508-30ea-8a36-3f96-dd3226033abd</td>\n",
              "      <td>Wetpaint</td>\n",
              "      <td>2007-05-25 13:51:27</td>\n",
              "    </tr>\n",
              "    <tr>\n",
              "      <th>764015621929367586</th>\n",
              "      <td>bf4d7b0e-b34d-2fd8-d292-6049c4f7efc7</td>\n",
              "      <td>Zoho</td>\n",
              "      <td>2007-05-26 02:30:28</td>\n",
              "    </tr>\n",
              "    <tr>\n",
              "      <th>10846552445983457719</th>\n",
              "      <td>5f2b40b8-d1b3-d323-d81a-b7a8e89553d0</td>\n",
              "      <td>Digg</td>\n",
              "      <td>2007-05-26 03:03:23</td>\n",
              "    </tr>\n",
              "    <tr>\n",
              "      <th>10693046220981818130</th>\n",
              "      <td>f4d5ab44-058b-298b-ea81-380e6e9a8eec</td>\n",
              "      <td>Omidyar Network</td>\n",
              "      <td>2007-05-26 03:21:34</td>\n",
              "    </tr>\n",
              "    <tr>\n",
              "      <th>5087506707876194815</th>\n",
              "      <td>df662812-7f97-0b43-9d3e-12f64f504fbb</td>\n",
              "      <td>Facebook</td>\n",
              "      <td>2007-05-26 04:22:15</td>\n",
              "    </tr>\n",
              "  </tbody>\n",
              "</table>\n",
              "</div>"
            ],
            "text/plain": [
              "                                                      uuid  ...           created_at\n",
              "hash                                                        ...                     \n",
              "13685534557686295101  e1393508-30ea-8a36-3f96-dd3226033abd  ...  2007-05-25 13:51:27\n",
              "764015621929367586    bf4d7b0e-b34d-2fd8-d292-6049c4f7efc7  ...  2007-05-26 02:30:28\n",
              "10846552445983457719  5f2b40b8-d1b3-d323-d81a-b7a8e89553d0  ...  2007-05-26 03:03:23\n",
              "10693046220981818130  f4d5ab44-058b-298b-ea81-380e6e9a8eec  ...  2007-05-26 03:21:34\n",
              "5087506707876194815   df662812-7f97-0b43-9d3e-12f64f504fbb  ...  2007-05-26 04:22:15\n",
              "\n",
              "[5 rows x 3 columns]"
            ]
          },
          "metadata": {
            "tags": []
          },
          "execution_count": 33
        }
      ]
    },
    {
      "cell_type": "code",
      "metadata": {
        "id": "881FEeGvxx-M",
        "colab_type": "code",
        "colab": {
          "base_uri": "https://localhost:8080/",
          "height": 363
        },
        "outputId": "af98ffcc-b954-4419-9114-f82019947c47"
      },
      "source": [
        "org_info_join = org_info.copy()\n",
        "\n",
        "print(marks)\n",
        "for model, mark in zip(models, marks):\n",
        "  truth = regression_marks[mark][['initial_valuation', 'log_valuation_factor']].copy()\n",
        "  # print(truth)\n",
        "  features = feature_dict[mark]\n",
        "  prediction_array = model.predict(features)\n",
        "\n",
        "  prediction = pd.DataFrame(data=prediction_array, index=features.index, columns=['prediction_' + str(mark)])\n",
        "  uuid_hash = features.index\n",
        "  pred_truth = truth.join(prediction)\n",
        "  pred_truth = pred_truth.rename(columns={'log_valuation_factor':'truth_' + str(mark)})\n",
        "  org_info_join = org_info_join.join(pred_truth, rsuffix=mark)\n",
        "\n",
        "org_info_join.set_index('uuid', drop=True)\n",
        "org_info_join.head()"
      ],
      "execution_count": 34,
      "outputs": [
        {
          "output_type": "stream",
          "text": [
            "[200, 500, 1000, 2000]\n"
          ],
          "name": "stdout"
        },
        {
          "output_type": "execute_result",
          "data": {
            "text/html": [
              "<div>\n",
              "<style scoped>\n",
              "    .dataframe tbody tr th:only-of-type {\n",
              "        vertical-align: middle;\n",
              "    }\n",
              "\n",
              "    .dataframe tbody tr th {\n",
              "        vertical-align: top;\n",
              "    }\n",
              "\n",
              "    .dataframe thead th {\n",
              "        text-align: right;\n",
              "    }\n",
              "</style>\n",
              "<table border=\"1\" class=\"dataframe\">\n",
              "  <thead>\n",
              "    <tr style=\"text-align: right;\">\n",
              "      <th></th>\n",
              "      <th>uuid</th>\n",
              "      <th>name</th>\n",
              "      <th>created_at</th>\n",
              "      <th>initial_valuation</th>\n",
              "      <th>truth_200</th>\n",
              "      <th>prediction_200</th>\n",
              "      <th>initial_valuation500</th>\n",
              "      <th>truth_500</th>\n",
              "      <th>prediction_500</th>\n",
              "      <th>initial_valuation1000</th>\n",
              "      <th>truth_1000</th>\n",
              "      <th>prediction_1000</th>\n",
              "      <th>initial_valuation2000</th>\n",
              "      <th>truth_2000</th>\n",
              "      <th>prediction_2000</th>\n",
              "    </tr>\n",
              "    <tr>\n",
              "      <th>hash</th>\n",
              "      <th></th>\n",
              "      <th></th>\n",
              "      <th></th>\n",
              "      <th></th>\n",
              "      <th></th>\n",
              "      <th></th>\n",
              "      <th></th>\n",
              "      <th></th>\n",
              "      <th></th>\n",
              "      <th></th>\n",
              "      <th></th>\n",
              "      <th></th>\n",
              "      <th></th>\n",
              "      <th></th>\n",
              "      <th></th>\n",
              "    </tr>\n",
              "  </thead>\n",
              "  <tbody>\n",
              "    <tr>\n",
              "      <th>13685534557686295101</th>\n",
              "      <td>e1393508-30ea-8a36-3f96-dd3226033abd</td>\n",
              "      <td>Wetpaint</td>\n",
              "      <td>2007-05-25 13:51:27</td>\n",
              "      <td>26250000.0</td>\n",
              "      <td>0.259546</td>\n",
              "      <td>0.568490</td>\n",
              "      <td>26250000.0</td>\n",
              "      <td>0.675616</td>\n",
              "      <td>1.017972</td>\n",
              "      <td>26250000.0</td>\n",
              "      <td>1.533324</td>\n",
              "      <td>1.380360</td>\n",
              "      <td>26250000.0</td>\n",
              "      <td>0.832727</td>\n",
              "      <td>1.579223</td>\n",
              "    </tr>\n",
              "    <tr>\n",
              "      <th>764015621929367586</th>\n",
              "      <td>bf4d7b0e-b34d-2fd8-d292-6049c4f7efc7</td>\n",
              "      <td>Zoho</td>\n",
              "      <td>2007-05-26 02:30:28</td>\n",
              "      <td>NaN</td>\n",
              "      <td>NaN</td>\n",
              "      <td>NaN</td>\n",
              "      <td>NaN</td>\n",
              "      <td>NaN</td>\n",
              "      <td>NaN</td>\n",
              "      <td>NaN</td>\n",
              "      <td>NaN</td>\n",
              "      <td>NaN</td>\n",
              "      <td>NaN</td>\n",
              "      <td>NaN</td>\n",
              "      <td>NaN</td>\n",
              "    </tr>\n",
              "    <tr>\n",
              "      <th>10846552445983457719</th>\n",
              "      <td>5f2b40b8-d1b3-d323-d81a-b7a8e89553d0</td>\n",
              "      <td>Digg</td>\n",
              "      <td>2007-05-26 03:03:23</td>\n",
              "      <td>14000000.0</td>\n",
              "      <td>0.556615</td>\n",
              "      <td>0.266237</td>\n",
              "      <td>14000000.0</td>\n",
              "      <td>1.295816</td>\n",
              "      <td>0.493032</td>\n",
              "      <td>14000000.0</td>\n",
              "      <td>2.213487</td>\n",
              "      <td>0.614898</td>\n",
              "      <td>14000000.0</td>\n",
              "      <td>0.721874</td>\n",
              "      <td>0.874910</td>\n",
              "    </tr>\n",
              "    <tr>\n",
              "      <th>10693046220981818130</th>\n",
              "      <td>f4d5ab44-058b-298b-ea81-380e6e9a8eec</td>\n",
              "      <td>Omidyar Network</td>\n",
              "      <td>2007-05-26 03:21:34</td>\n",
              "      <td>NaN</td>\n",
              "      <td>NaN</td>\n",
              "      <td>NaN</td>\n",
              "      <td>NaN</td>\n",
              "      <td>NaN</td>\n",
              "      <td>NaN</td>\n",
              "      <td>NaN</td>\n",
              "      <td>NaN</td>\n",
              "      <td>NaN</td>\n",
              "      <td>NaN</td>\n",
              "      <td>NaN</td>\n",
              "      <td>NaN</td>\n",
              "    </tr>\n",
              "    <tr>\n",
              "      <th>5087506707876194815</th>\n",
              "      <td>df662812-7f97-0b43-9d3e-12f64f504fbb</td>\n",
              "      <td>Facebook</td>\n",
              "      <td>2007-05-26 04:22:15</td>\n",
              "      <td>2500000.0</td>\n",
              "      <td>3.031964</td>\n",
              "      <td>0.727375</td>\n",
              "      <td>2500000.0</td>\n",
              "      <td>4.927584</td>\n",
              "      <td>1.646667</td>\n",
              "      <td>2500000.0</td>\n",
              "      <td>7.819236</td>\n",
              "      <td>2.819469</td>\n",
              "      <td>2500000.0</td>\n",
              "      <td>8.520084</td>\n",
              "      <td>4.063588</td>\n",
              "    </tr>\n",
              "  </tbody>\n",
              "</table>\n",
              "</div>"
            ],
            "text/plain": [
              "                                                      uuid  ... prediction_2000\n",
              "hash                                                        ...                \n",
              "13685534557686295101  e1393508-30ea-8a36-3f96-dd3226033abd  ...        1.579223\n",
              "764015621929367586    bf4d7b0e-b34d-2fd8-d292-6049c4f7efc7  ...             NaN\n",
              "10846552445983457719  5f2b40b8-d1b3-d323-d81a-b7a8e89553d0  ...        0.874910\n",
              "10693046220981818130  f4d5ab44-058b-298b-ea81-380e6e9a8eec  ...             NaN\n",
              "5087506707876194815   df662812-7f97-0b43-9d3e-12f64f504fbb  ...        4.063588\n",
              "\n",
              "[5 rows x 15 columns]"
            ]
          },
          "metadata": {
            "tags": []
          },
          "execution_count": 34
        }
      ]
    },
    {
      "cell_type": "code",
      "metadata": {
        "id": "cH7HLPzwV-4i",
        "colab_type": "code",
        "colab": {}
      },
      "source": [
        "org_info_join.to_csv('/content/gdrive/My Drive/vc_modeling/model_output/predictions.csv')"
      ],
      "execution_count": 35,
      "outputs": []
    },
    {
      "cell_type": "markdown",
      "metadata": {
        "id": "_R0LykdHtIRt",
        "colab_type": "text"
      },
      "source": [
        "# Comparison to Random"
      ]
    },
    {
      "cell_type": "code",
      "metadata": {
        "id": "9x9kg7OHtHpc",
        "colab_type": "code",
        "colab": {}
      },
      "source": [
        "import math\n",
        "\n",
        "def compare_to_random(org_info_with_pred, mark, num_used):\n",
        "  clean_org_info = org_info_with_pred.dropna()\n",
        "  truth_col = 'truth_' + str(mark)\n",
        "  pred_col = 'prediction_' + str(mark)\n",
        "\n",
        "  truth_valuations = clean_org_info[truth_col]\n",
        "  pred_valuations = clean_org_info[pred_col]\n",
        "\n",
        "  # Sort pred_valuations, grab the indices at the far end.\n",
        "\n",
        "  sort_indices = np.argsort(pred_valuations)\n",
        "  indices_selected = sort_indices[-num_used:]\n",
        "\n",
        "  true_returns_for_selected = truth_valuations.iloc[indices_selected]\n",
        "  pred_return_percentages = np.expm1(true_returns_for_selected)*100\n",
        "\n",
        "  # Calculate the returns on an investment strategy where we equally invest\n",
        "  # among the top N.\n",
        "\n",
        "  mean_model_return_log_factor = np.mean(true_returns_for_selected)\n",
        "  mean_model_return_percentage = np.mean(pred_return_percentages)\n",
        "\n",
        "  # Sample the random investor's returns 100 times.\n",
        "  random_return_log_factors = []\n",
        "  random_return_percentages = []\n",
        "  for i in range(1000):\n",
        "    sample = truth_valuations.sample(n=num_used)\n",
        "    sample_percentages = np.expm1(sample) * 100\n",
        "\n",
        "    random_return_log_factors.append(np.mean(sample))\n",
        "    random_return_percentages.append(np.mean(sample_percentages))\n",
        "  \n",
        "  random_return_std = np.std(np.asarray(random_return_log_factors))\n",
        "  mean_random_return_percentage = np.mean(np.asarray(random_return_percentages))\n",
        "  mean_random_return_log_factor = np.mean(np.asarray(random_return_log_factors))\n",
        "\n",
        "  print(\"Actual Model Return Percentage: \", mean_model_return_percentage)\n",
        "  print(\"Actual Model Return Log Factor: \", mean_model_return_log_factor)\n",
        "  print(\"Mean Random Return Percentage: \", mean_random_return_percentage)\n",
        "  print(\"Mean Random Return Log Factor: \", mean_random_return_log_factor)\n",
        "  print(\"Random Return StDev: \", random_return_std)\n",
        "  return pd.DataFrame(data=[[mark, mean_model_return_percentage, mean_model_return_log_factor,\n",
        "                              mean_random_return_percentage, mean_random_return_log_factor,\n",
        "                              random_return_std]],\n",
        "                        columns=['mark', 'Model Return Percentage', 'Model Return Log Factor', 'Random Return Percentage', 'Random Return Factor', 'Random Return StdDev'])\n",
        "    "
      ],
      "execution_count": 36,
      "outputs": []
    },
    {
      "cell_type": "code",
      "metadata": {
        "id": "c_GX44vJexnv",
        "colab_type": "code",
        "colab": {
          "base_uri": "https://localhost:8080/",
          "height": 485
        },
        "outputId": "64ef7dfb-9cf7-4577-a37f-b1df50927298"
      },
      "source": [
        "portfolio_size = 1000\n",
        "\n",
        "print(\"Using Portfolio of size \", portfolio_size)\n",
        "\n",
        "full_compare_stats = pd.DataFrame(columns=['mark', 'Model Return Percentage', 'Model Return Log Factor', 'Random Return Percentage', 'Random Return Factor', 'Random Return StdDev'])\n",
        "for mark in marks:\n",
        "  print(\"Mark: \", mark)\n",
        "  compare_stats = compare_to_random(org_info_join, mark, portfolio_size)\n",
        "  full_compare_stats = full_compare_stats.append(compare_stats)\n",
        "\n",
        "full_compare_stats = full_compare_stats.set_index('mark')\n",
        "full_compare_stats.to_csv('/content/gdrive/My Drive/vc_modeling/models/compare_stats.csv')"
      ],
      "execution_count": 37,
      "outputs": [
        {
          "output_type": "stream",
          "text": [
            "Using Portfolio of size  1000\n",
            "Mark:  200\n",
            "Actual Model Return Percentage:  17766.476609826965\n",
            "Actual Model Return Log Factor:  0.8175645613599648\n",
            "Mean Random Return Percentage:  718.4434342791843\n",
            "Mean Random Return Log Factor:  0.13725245495071212\n",
            "Random Return StDev:  0.01803300611945034\n",
            "Mark:  500\n",
            "Actual Model Return Percentage:  2586.525177133392\n",
            "Actual Model Return Log Factor:  1.1683953276907735\n",
            "Mean Random Return Percentage:  601.94017271607\n",
            "Mean Random Return Log Factor:  0.2509040807546842\n",
            "Random Return StDev:  0.027910852196607886\n",
            "Mark:  1000\n",
            "Actual Model Return Percentage:  9333.070864765568\n",
            "Actual Model Return Log Factor:  2.0643122389543698\n",
            "Mean Random Return Percentage:  851.889843633793\n",
            "Mean Random Return Log Factor:  0.33502180880268373\n",
            "Random Return StDev:  0.03240975321119626\n",
            "Mark:  2000\n",
            "Actual Model Return Percentage:  46660.66283950317\n",
            "Actual Model Return Log Factor:  2.7510684299274306\n",
            "Mean Random Return Percentage:  1433.8157775444822\n",
            "Mean Random Return Log Factor:  0.38615753129084984\n",
            "Random Return StDev:  0.036970334923876254\n"
          ],
          "name": "stdout"
        }
      ]
    },
    {
      "cell_type": "code",
      "metadata": {
        "id": "596nYvvSe9Pt",
        "colab_type": "code",
        "colab": {}
      },
      "source": [
        ""
      ],
      "execution_count": null,
      "outputs": []
    }
  ]
}