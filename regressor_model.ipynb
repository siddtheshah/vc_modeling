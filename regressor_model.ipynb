{
  "nbformat": 4,
  "nbformat_minor": 0,
  "metadata": {
    "colab": {
      "name": "regressor_model.ipynb",
      "provenance": [],
      "toc_visible": true,
      "authorship_tag": "ABX9TyNtUtoQBS+pOXePQPAG5L2f",
      "include_colab_link": true
    },
    "kernelspec": {
      "name": "python3",
      "display_name": "Python 3"
    }
  },
  "cells": [
    {
      "cell_type": "markdown",
      "metadata": {
        "id": "view-in-github",
        "colab_type": "text"
      },
      "source": [
        "<a href=\"https://colab.research.google.com/github/siddtheshah/vc_modeling/blob/master/regressor_model.ipynb\" target=\"_parent\"><img src=\"https://colab.research.google.com/assets/colab-badge.svg\" alt=\"Open In Colab\"/></a>"
      ]
    },
    {
      "cell_type": "markdown",
      "metadata": {
        "id": "uV182SZ1d2Es",
        "colab_type": "text"
      },
      "source": [
        "# Imports"
      ]
    },
    {
      "cell_type": "code",
      "metadata": {
        "id": "lswTEjiPegUo",
        "colab_type": "code",
        "colab": {
          "base_uri": "https://localhost:8080/",
          "height": 54
        },
        "outputId": "d8db23d7-c1ac-4a10-a388-8b75b8f5c2d3"
      },
      "source": [
        "import os\n",
        "import numpy as np\n",
        "import pandas as pd\n",
        "import matplotlib.pyplot as plt\n",
        "import scipy.sparse\n",
        "!pip install cityhash\n",
        "import cityhash\n",
        "import sklearn.decomposition\n",
        "\n",
        "print(pd.__version__)\n",
        "\n",
        "from copy import deepcopy"
      ],
      "execution_count": 1,
      "outputs": [
        {
          "output_type": "stream",
          "text": [
            "Requirement already satisfied: cityhash in /usr/local/lib/python3.6/dist-packages (0.2.3.post9)\n",
            "1.0.5\n"
          ],
          "name": "stdout"
        }
      ]
    },
    {
      "cell_type": "code",
      "metadata": {
        "id": "Q2WrUtBZenFT",
        "colab_type": "code",
        "colab": {
          "base_uri": "https://localhost:8080/",
          "height": 36
        },
        "outputId": "463a29dc-7452-4fb1-b7ca-42117dd478ba"
      },
      "source": [
        "from google.colab import drive\n",
        "drive.mount('/content/gdrive')"
      ],
      "execution_count": 2,
      "outputs": [
        {
          "output_type": "stream",
          "text": [
            "Drive already mounted at /content/gdrive; to attempt to forcibly remount, call drive.mount(\"/content/gdrive\", force_remount=True).\n"
          ],
          "name": "stdout"
        }
      ]
    },
    {
      "cell_type": "markdown",
      "metadata": {
        "id": "gJAKI4bLd5ZE",
        "colab_type": "text"
      },
      "source": [
        "# Read/Join Features"
      ]
    },
    {
      "cell_type": "code",
      "metadata": {
        "id": "mez-3_o6t-F-",
        "colab_type": "code",
        "colab": {}
      },
      "source": [
        "feature_folder = '/content/gdrive/My Drive/vc_modeling/feature_extraction'\n",
        "\n",
        "sparse_category_features_array = scipy.sparse.load_npz(feature_folder + \"/category_features/category_features_large.npz\")\n",
        "sparse_region_features_array = scipy.sparse.load_npz(feature_folder + \"/region_features/region_features.npz\")"
      ],
      "execution_count": 3,
      "outputs": []
    },
    {
      "cell_type": "code",
      "metadata": {
        "id": "vv7LelH2eqbw",
        "colab_type": "code",
        "colab": {
          "base_uri": "https://localhost:8080/",
          "height": 111
        },
        "outputId": "057e6860-37bf-41fd-e309-45efeb69120f"
      },
      "source": [
        "# print(sparse_category_features_array)\n",
        "## Other features here!! Remember to sparsify the dataframes if they're dense!\n",
        "\n",
        "# print(sparse_category_features_array)\n",
        "\n",
        "category_features_array = scipy.sparse.coo_matrix(sparse_category_features_array, dtype=np.uint64)\n",
        "region_features_array = scipy.sparse.coo_matrix(sparse_region_features_array, dtype=np.uint64)\n",
        "\n",
        "print(category_features_array.getnnz())\n",
        "print(region_features_array.getnnz())\n",
        "\n",
        "category_features_df = pd.DataFrame.sparse.from_spmatrix(category_features_array)\n",
        "region_features_df = pd.DataFrame.sparse.from_spmatrix(region_features_array)\n",
        "\n",
        "print(np.shape(category_features_df))\n",
        "print(np.shape(region_features_df))\n",
        "\n",
        "print(\"{}\".format(category_features_df.iloc[0][0]))"
      ],
      "execution_count": 4,
      "outputs": [
        {
          "output_type": "stream",
          "text": [
            "2355537\n",
            "1681588\n",
            "(963967, 676)\n",
            "(842699, 1032)\n",
            "13685534557686295101\n"
          ],
          "name": "stdout"
        }
      ]
    },
    {
      "cell_type": "code",
      "metadata": {
        "id": "HHqwaNc89w2w",
        "colab_type": "code",
        "colab": {
          "base_uri": "https://localhost:8080/",
          "height": 317
        },
        "outputId": "04eaedeb-9b66-4dc4-9faa-9d4efe21a73b"
      },
      "source": [
        "region_uuid = region_features_df.iloc[:, 0]\n",
        "category_uuid = category_features_df.iloc[:, 0]\n",
        "print(region_uuid)\n",
        "\n",
        "print(np.count_nonzero(category_uuid.isin(region_uuid)))\n",
        "check_value = 7551169957279540846\n",
        "# check_value = cityhash.CityHash64('ffffabce-6d4a-b3d1-13c0-4e90cedf5270')\n",
        "print(check_value)\n",
        "print(np.size(region_uuid[region_uuid == check_value]))\n",
        "print(np.size(category_uuid[category_uuid == check_value]))"
      ],
      "execution_count": 5,
      "outputs": [
        {
          "output_type": "stream",
          "text": [
            "0         13685534557686295101\n",
            "1           764015621929367586\n",
            "2         10846552445983457719\n",
            "3          5087506707876194815\n",
            "4          9094535307341385563\n",
            "                  ...         \n",
            "842694     4626564123199390189\n",
            "842695     2978566027619600648\n",
            "842696     1747954284855665241\n",
            "842697     9744251496066876000\n",
            "842698     7648380604111671063\n",
            "Name: 0, Length: 842699, dtype: Sparse[uint64, 0]\n",
            "808944\n",
            "7551169957279540846\n",
            "1\n",
            "1\n"
          ],
          "name": "stdout"
        }
      ]
    },
    {
      "cell_type": "code",
      "metadata": {
        "id": "-X7VTKkb_Fd-",
        "colab_type": "code",
        "colab": {
          "base_uri": "https://localhost:8080/",
          "height": 298
        },
        "outputId": "80fb444f-81fd-4a26-c549-f41d84677221"
      },
      "source": [
        "join_base = category_features_df.set_index(0)\n",
        "join1 = region_features_df.set_index(0)\n",
        "full_feature_join = join_base.join(join1, lsuffix='category_features', rsuffix='region_features')\n",
        "full_feature_join = full_feature_join.dropna()\n",
        "# features = category_features_df\n",
        "print(full_feature_join)"
      ],
      "execution_count": 6,
      "outputs": [
        {
          "output_type": "stream",
          "text": [
            "                      1category_features  2category_features  ...  1030  1031\n",
            "0                                                             ...            \n",
            "13685534557686295101                 0.0                 0.0  ...   0.0   0.0\n",
            "764015621929367586                   1.0                 1.0  ...   0.0   0.0\n",
            "10846552445983457719                 0.0                 0.0  ...   0.0   0.0\n",
            "5087506707876194815                  0.0                 0.0  ...   0.0   0.0\n",
            "9094535307341385563                  0.0                 0.0  ...   0.0   0.0\n",
            "...                                  ...                 ...  ...   ...   ...\n",
            "16892862651199510638                 0.0                 0.0  ...   0.0   0.0\n",
            "7229716827056183679                  0.0                 0.0  ...   0.0   0.0\n",
            "4626564123199390189                  0.0                 0.0  ...   0.0   0.0\n",
            "2978566027619600648                  0.0                 0.0  ...   0.0   0.0\n",
            "9744251496066876000                  0.0                 0.0  ...   0.0   0.0\n",
            "\n",
            "[808944 rows x 1706 columns]\n"
          ],
          "name": "stdout"
        }
      ]
    },
    {
      "cell_type": "markdown",
      "metadata": {
        "id": "mCBshhYpnHfC",
        "colab_type": "text"
      },
      "source": [
        "## Dimensionality Reduction"
      ]
    },
    {
      "cell_type": "code",
      "metadata": {
        "id": "IaScgb-7nKii",
        "colab_type": "code",
        "colab": {
          "base_uri": "https://localhost:8080/",
          "height": 673
        },
        "outputId": "8e8ff0bd-4316-4398-d9a2-011a5f683cbd"
      },
      "source": [
        "svd = sklearn.decomposition.TruncatedSVD(n_components=100, n_iter=10)\n",
        "svd.fit(full_feature_join[:10000])\n",
        "print(svd.explained_variance_ratio_)\n",
        "print(svd.explained_variance_ratio_.sum())\n",
        "print(svd.singular_values_)\n",
        "\n",
        "reduced_features = svd.transform(full_feature_join)"
      ],
      "execution_count": 7,
      "outputs": [
        {
          "output_type": "stream",
          "text": [
            "[0.06401376 0.04622242 0.03231303 0.02621636 0.02257431 0.01852799\n",
            " 0.0186303  0.01779371 0.01739593 0.01666311 0.0150197  0.0143001\n",
            " 0.01278896 0.01234873 0.0116726  0.01147952 0.01105916 0.00990296\n",
            " 0.00961921 0.00929172 0.0087435  0.00855063 0.00827113 0.00810978\n",
            " 0.00806891 0.00790611 0.00728912 0.00715424 0.00696381 0.00653401\n",
            " 0.00640232 0.00630214 0.00614893 0.00613491 0.00598965 0.00591875\n",
            " 0.00553692 0.00539549 0.00524816 0.00511368 0.00500888 0.00478776\n",
            " 0.00469004 0.00467389 0.00455159 0.00444006 0.00443729 0.0043122\n",
            " 0.00424332 0.00412112 0.00400106 0.00395953 0.00391999 0.00388471\n",
            " 0.00378563 0.0036996  0.00358337 0.00350389 0.00342093 0.00339636\n",
            " 0.00332248 0.00331422 0.00320684 0.0031823  0.00314515 0.00306975\n",
            " 0.00302897 0.00298353 0.00294386 0.00289755 0.00286698 0.00282751\n",
            " 0.00278782 0.0027293  0.00270976 0.00271416 0.00267104 0.00264891\n",
            " 0.00263675 0.00259499 0.00255405 0.00254637 0.00251334 0.00248847\n",
            " 0.00248535 0.0024536  0.00241769 0.00238761 0.00237204 0.00232595\n",
            " 0.00231221 0.00226952 0.00226065 0.00224632 0.00222359 0.00221178\n",
            " 0.00217034 0.00216523 0.00213544 0.0020967 ]\n",
            "0.720955122023959\n",
            "[54.88183238 37.47043174 32.10386876 28.97126205 26.23616244 24.16271208\n",
            " 23.64516448 23.11467837 22.92934554 22.38057638 21.28537585 20.72010778\n",
            " 19.69153895 19.32149849 18.76065249 18.53710336 18.26068335 17.33324307\n",
            " 17.01534232 16.67808615 16.17802968 16.01585756 15.7578753  15.62102594\n",
            " 15.54689034 15.38676014 14.79899045 14.67424429 14.45015047 13.98516256\n",
            " 13.88406386 13.7362569  13.64779797 13.55375071 13.39319323 13.31770234\n",
            " 12.87792617 12.72650418 12.5662928  12.3726325  12.28306671 11.97689429\n",
            " 11.86874668 11.82813965 11.67352601 11.55081405 11.52667405 11.37428649\n",
            " 11.27110491 11.12841833 10.96167646 10.88729943 10.83413106 10.78326585\n",
            " 10.6502538  10.52669904 10.36137768 10.25462088 10.12428061 10.09349039\n",
            "  9.9920397   9.962676    9.79821929  9.76401854  9.70269342  9.58690814\n",
            "  9.53237284  9.45171989  9.38888077  9.31376377  9.26859859  9.20979517\n",
            "  9.13790829  9.04281202  9.02647628  9.01354581  8.94237402  8.90679564\n",
            "  8.88530465  8.81621221  8.74352349  8.73067337  8.68806405  8.63993899\n",
            "  8.63377469  8.5705184   8.50817016  8.45404542  8.435153    8.34549028\n",
            "  8.31950357  8.2452927   8.22803733  8.20090604  8.16081891  8.1378349\n",
            "  8.06537529  8.05128051  7.99693005  7.92373407]\n"
          ],
          "name": "stdout"
        }
      ]
    },
    {
      "cell_type": "code",
      "metadata": {
        "id": "rfhmbxNHn9hX",
        "colab_type": "code",
        "colab": {
          "base_uri": "https://localhost:8080/",
          "height": 542
        },
        "outputId": "e1f05c0f-8627-4e03-d45c-90b714d3bc1a"
      },
      "source": [
        "print(reduced_features)\n",
        "\n",
        "sparse_data = pd.DataFrame(data=reduced_features, index=full_feature_join.index, columns=range(np.shape(reduced_features)[1])) * 100\n",
        "print(sparse_data*100)"
      ],
      "execution_count": 48,
      "outputs": [
        {
          "output_type": "stream",
          "text": [
            "[[ 2.13267225e-02  9.55330856e-02  2.59727273e-01 ... -2.36151409e-04\n",
            "   4.54597035e-03 -4.69870046e-03]\n",
            " [ 1.23233228e+00 -8.14231652e-02  3.90605807e-03 ...  1.98890213e-02\n",
            "  -2.38637775e-02  3.95002210e-02]\n",
            " [ 9.28904313e-02  9.56332376e-02  2.86148240e-01 ... -1.07869175e-02\n",
            "   6.39112267e-03  1.83483506e-02]\n",
            " ...\n",
            " [ 4.97493302e-04  1.59515213e-03  1.81023944e-03 ... -9.59748019e-03\n",
            "   3.92670295e-03 -1.38205766e-03]\n",
            " [ 9.58401906e-01 -2.30705297e-01 -1.30523489e-01 ...  9.49070769e-02\n",
            "  -7.56302242e-02 -3.66692276e-02]\n",
            " [ 6.43466070e-03  2.86405002e-03  5.11493682e-03 ...  3.28887361e-01\n",
            "   2.94411529e-01 -1.22057421e-01]]\n",
            "                                0            1   ...           98           99\n",
            "0                                                ...                          \n",
            "13685534557686295101    213.267225   955.330856  ...    45.459704   -46.987005\n",
            "764015621929367586    12323.322800  -814.231652  ...  -238.637775   395.002210\n",
            "10846552445983457719    928.904313   956.332376  ...    63.911227   183.483506\n",
            "5087506707876194815   10444.494250 -2263.811109  ...   130.592058   386.553534\n",
            "9094535307341385563   10412.988152 -1814.069795  ...  -228.319122    80.062717\n",
            "...                            ...          ...  ...          ...          ...\n",
            "16892862651199510638    137.176248   284.730015  ...   406.149957   538.039497\n",
            "7229716827056183679      68.572131   287.243308  ...     3.036819  -115.000581\n",
            "4626564123199390189       4.974933    15.951521  ...    39.267029   -13.820577\n",
            "2978566027619600648    9584.019058 -2307.052968  ...  -756.302242  -366.692276\n",
            "9744251496066876000      64.346607    28.640500  ...  2944.115291 -1220.574214\n",
            "\n",
            "[808944 rows x 100 columns]\n"
          ],
          "name": "stdout"
        }
      ]
    },
    {
      "cell_type": "markdown",
      "metadata": {
        "id": "6InV-GK0e49l",
        "colab_type": "text"
      },
      "source": [
        "# Read Regression Targets"
      ]
    },
    {
      "cell_type": "code",
      "metadata": {
        "id": "SzWperFWfA4x",
        "colab_type": "code",
        "colab": {}
      },
      "source": [
        "target_folder = '/content/gdrive/My Drive/vc_modeling/regression_targets/'\n",
        "marks = [200, 500, 1000, 2000]\n",
        "\n",
        "regression_marks = {}\n",
        "for mark in marks:\n",
        "  regression_marks[mark] = pd.read_csv(target_folder + str(mark) + '.csv')[['hash', 'initial_valuation', 'log_valuation_factor']].set_index('hash')\n"
      ],
      "execution_count": 19,
      "outputs": []
    },
    {
      "cell_type": "code",
      "metadata": {
        "id": "a9hQhkQcY4Jr",
        "colab_type": "code",
        "colab": {
          "base_uri": "https://localhost:8080/",
          "height": 579
        },
        "outputId": "49b917bf-a1ef-4607-d3aa-f3b3758c4a05"
      },
      "source": [
        "mark_data = regression_marks[200] # pd.read_pickle(\"/content/gdrive/My Drive/vc_modeling/regression_targets/200.pkl\")\n",
        "# mark_data = mark_data[mark_data['log_valuation_factor'] > 0]\n",
        "print(mark_data)\n",
        "print(category_features_df)\n",
        "print(np.count_nonzero(mark_data.index.isin(region_features_df.index)))"
      ],
      "execution_count": 16,
      "outputs": [
        {
          "output_type": "stream",
          "text": [
            "                      initial_valuation  log_valuation_factor\n",
            "hash                                                         \n",
            "13360469805707984821          3000000.0              0.000000\n",
            "7551169957279540846          45000000.0              0.266595\n",
            "17638643441008354186          2280520.0              0.000000\n",
            "14753292511968607343          3000000.0              0.000000\n",
            "18303053280205650499         20400150.0              0.000000\n",
            "...                                 ...                   ...\n",
            "1328871151505778773            600000.0              0.183442\n",
            "16862606919743425243           162360.0              0.000000\n",
            "14711304329054892014         65500000.0              0.344393\n",
            "17393885764651115266         20000000.0             -0.189295\n",
            "12723450708549610702            75000.0              0.000000\n",
            "\n",
            "[49489 rows x 2 columns]\n",
            "                         0    1    2    3    4    ...  671  672  673  674  675\n",
            "0       13685534557686295101  0.0  0.0  0.0  0.0  ...  0.0  0.0  0.0  0.0  0.0\n",
            "1         764015621929367586  1.0  1.0  1.0  1.0  ...  0.0  0.0  0.0  0.0  0.0\n",
            "2       10846552445983457719  0.0  0.0  0.0  0.0  ...  0.0  0.0  0.0  0.0  0.0\n",
            "3        5087506707876194815  0.0  0.0  0.0  0.0  ...  0.0  0.0  0.0  0.0  0.0\n",
            "4        9094535307341385563  0.0  0.0  0.0  0.0  ...  0.0  0.0  0.0  0.0  0.0\n",
            "...                      ...  ...  ...  ...  ...  ...  ...  ...  ...  ...  ...\n",
            "963962   9744251496066876000  0.0  0.0  0.0  0.0  ...  0.0  0.0  0.0  0.0  0.0\n",
            "963963  13650824445832434760  0.0  0.0  0.0  0.0  ...  0.0  0.0  0.0  0.0  0.0\n",
            "963964  15062640940509416191  0.0  0.0  0.0  0.0  ...  0.0  0.0  0.0  0.0  0.0\n",
            "963965   9929788675484222851  0.0  0.0  0.0  0.0  ...  0.0  0.0  0.0  0.0  0.0\n",
            "963966  12539503581336717831  0.0  0.0  0.0  0.0  ...  0.0  0.0  0.0  0.0  0.0\n",
            "\n",
            "[963967 rows x 676 columns]\n",
            "0\n"
          ],
          "name": "stdout"
        }
      ]
    },
    {
      "cell_type": "markdown",
      "metadata": {
        "id": "LnfflhAPyChF",
        "colab_type": "text"
      },
      "source": [
        "# Train Model"
      ]
    },
    {
      "cell_type": "code",
      "metadata": {
        "id": "57NUdx-Xx-9q",
        "colab_type": "code",
        "colab": {}
      },
      "source": [
        "# Train Models\n",
        "import sklearn.metrics\n",
        "\n",
        "def regression_analysis(model, train_data, train_values, test_data, test_values):\n",
        "    predicted_train_values = model.predict(train_data)\n",
        "    predicted_test_values = model.predict(test_data)\n",
        "\n",
        "    print(\"Sample values: \", predicted_test_values[:5], test_values[:5])\n",
        "\n",
        "    train_mse = sklearn.metrics.mean_squared_error(train_values, predicted_train_values)\n",
        "    test_mse = sklearn.metrics.mean_squared_error(test_values, predicted_test_values)\n",
        "    train_explained_variance = sklearn.metrics.explained_variance_score(train_values, predicted_train_values)\n",
        "    test_explained_variance = sklearn.metrics.explained_variance_score(test_values, predicted_test_values)\n",
        "\n",
        "    print(\"Train MSE: \", train_mse)\n",
        "    print(\"Train Explained Variance Score: \", train_explained_variance)\n",
        "    print(\"Test MSE: \", test_mse)\n",
        "    print(\"Test Explained Variance Score: \", test_explained_variance)\n",
        "\n",
        "    return model\n",
        "\n",
        "def classification_analysis(model, train_data, train_values, test_data, test_values):\n",
        "    train_values_predicted = model.predict(train_data)\n",
        "    train_prediction = train_values_predicted > 0.00001\n",
        "    train_prediction = train_prediction.astype(np.int32)\n",
        "\n",
        "    test_values_predicted = model.predict(test_data)\n",
        "    test_prediction = test_values_predicted > 0.00001\n",
        "    test_prediction = test_prediction.astype(np.int32)\n",
        "\n",
        "    train_labels = train_values > 0.00001\n",
        "    train_labels = train_labels.astype(np.int32)\n",
        "\n",
        "    test_labels = test_values > 0.00001\n",
        "    test_labels = test_labels.astype(np.int32)\n",
        "\n",
        "    confusion_matrix_large = pd.DataFrame(sklearn.metrics.confusion_matrix(test_labels, test_prediction, labels=[1, 0]),\n",
        "                                    columns=['positive', 'negative'], index=['Truth is +', 'Truth is -'])\n",
        "    print(\"Confusion:\\n\", confusion_matrix_large)\n",
        "    test_acc = sum(test_labels==test_prediction)/len(test_labels)\n",
        "    print(\"Test accuracy: \", test_acc)\n",
        "    train_acc = sum(train_labels==train_prediction)/len(train_labels)\n",
        "    print(\"Train accuracy: \", train_acc)\n",
        "\n",
        "\n",
        "    # # Use the metrics.roc_curve function to get the true positive rate (tpr) and false positive rate (fpr)\n",
        "    # fpr, tpr, thresholds = sklearn.metrics.roc_curve(test_labels, test_probabilities)\n",
        "\n",
        "    # # Get the area under the curve (AUC)\n",
        "    # auc = np.mean(cross_val_score(model, test_data, test_labels, scoring=\"roc_auc\", cv=5))\n",
        "    # print(\"AUC = \" , str(round(auc, 2)))\n",
        "\n",
        "    # # Plot the ROC curve\n",
        "\n",
        "    # plt.xlabel(\"False positive rate (fpr)\")\n",
        "    # plt.ylabel(\"True positive rate (tpr)\")\n",
        "    # plt.plot(fpr, tpr, label='model')\n",
        "    # plt.plot([0, 1], [0, 1], color='k', label=\"random\")\n",
        "    # plt.legend(loc='best')\n",
        "\n",
        "    # plt.figure()\n",
        "    # plt.xlabel(\"Recall\")\n",
        "    # plt.ylabel(\"Precision\")\n",
        "    # precision, recall, _ = sklearn.metrics.precision_recall_curve(test_labels, test_probabilities)\n",
        "    # plt.plot(recall, precision)\n",
        "\n",
        "def train_model_over_mark(model, input_data, mark, filter_unknown=True):\n",
        "  print(\"\\nRESULTS FOR\", str(mark), \"DAY MARK:\\n\")\n",
        "  # print(features)\n",
        "  mark_data = regression_marks[mark]\n",
        "  # print(mark_data)\n",
        "  if filter_unknown:\n",
        "    mark_data = mark_data[mark_data['log_valuation_factor'] != 0]\n",
        "  # Select the data that we have regression targets for\n",
        "\n",
        "  data = input_data[input_data.index.isin(mark_data.index)]\n",
        "\n",
        "  # Select the column with log_valuation_factor.\n",
        "  values = mark_data[mark_data.index.isin(input_data.index)]['log_valuation_factor']\n",
        "\n",
        "  data = scipy.sparse.coo_matrix(data.values)\n",
        "\n",
        "  train_data, test_data, train_values, test_values = sklearn.model_selection.train_test_split(data, values, test_size=0.25)\n",
        "  print(\"Trained on\", str(np.shape(train_data)[0]), \"rows.\")\n",
        "  \n",
        "  model.fit(train_data, train_values)\n",
        "  regression_analysis(lasso_model, train_data, train_values, test_data, test_values)\n",
        "  classification_analysis(lasso_model, train_data, train_values, test_data, test_values)"
      ],
      "execution_count": 37,
      "outputs": []
    },
    {
      "cell_type": "markdown",
      "metadata": {
        "id": "ol1UlbPc-Njh",
        "colab_type": "text"
      },
      "source": [
        "## LASSO"
      ]
    },
    {
      "cell_type": "code",
      "metadata": {
        "id": "q4zrYwJg-M0E",
        "colab_type": "code",
        "colab": {
          "base_uri": "https://localhost:8080/",
          "height": 92
        },
        "outputId": "92aa48f5-a2ea-4cdc-a038-86353abe9d41"
      },
      "source": [
        "import sklearn.linear_model\n",
        "\n",
        "lasso_model = sklearn.linear_model.LassoCV()\n",
        "for mark in marks:\n",
        "  train_model_over_mark(lasso_model, sparse_data, mark, filter_unknown=False)"
      ],
      "execution_count": null,
      "outputs": [
        {
          "output_type": "stream",
          "text": [
            "\n",
            "RESULTS FOR 200 DAY MARK:\n",
            "\n",
            "Trained on 13498 rows.\n"
          ],
          "name": "stdout"
        }
      ]
    },
    {
      "cell_type": "markdown",
      "metadata": {
        "id": "77ksr5r4cuc0",
        "colab_type": "text"
      },
      "source": [
        "## Decision Tree Regressor"
      ]
    },
    {
      "cell_type": "code",
      "metadata": {
        "id": "j5PRMVseeLBU",
        "colab_type": "code",
        "colab": {
          "base_uri": "https://localhost:8080/",
          "height": 1000
        },
        "outputId": "795fd211-0dde-46e0-c634-4b9390402b59"
      },
      "source": [
        "import sklearn.tree\n",
        "\n",
        "tree_model = sklearn.tree.DecisionTreeRegressor()\n",
        "for mark in marks:\n",
        "  train_model_over_mark(tree_model, sparse_data, mark, filter_unknown=True)"
      ],
      "execution_count": 39,
      "outputs": [
        {
          "output_type": "stream",
          "text": [
            "\n",
            "RESULTS FOR 200 DAY MARK:\n",
            "\n",
            "Trained on 13498 rows.\n",
            "Sample values:  [1.05813049 1.05813049 1.05813049 1.05813049 1.05813049] hash\n",
            "5229763523100805031    0.515780\n",
            "3094613846486599977    0.050225\n",
            "3937258757194268108    0.247288\n",
            "5988842577345096839   -0.631386\n",
            "337764115501710783    -0.480854\n",
            "Name: log_valuation_factor, dtype: float64\n",
            "Train MSE:  1.3996318523092568\n",
            "Train Explained Variance Score:  0.0\n",
            "Test MSE:  1.412777818750263\n",
            "Test Explained Variance Score:  0.0\n",
            "Confusion:\n",
            "             positive  negative\n",
            "Truth is +      3192         0\n",
            "Truth is -      1308         0\n",
            "Test accuracy:  0.7093333333333334\n",
            "Train accuracy:  0.7162542598903541\n",
            "\n",
            "RESULTS FOR 500 DAY MARK:\n",
            "\n",
            "Trained on 10535 rows.\n",
            "Sample values:  [1.05813049 1.05813049 1.05813049 1.05813049 1.05813049] hash\n",
            "2944595664942598160    -0.738131\n",
            "1045848997689399098     0.954062\n",
            "9470584322935010952     1.568535\n",
            "11092637014621205076    1.414427\n",
            "8172313266675299117     1.417220\n",
            "Name: log_valuation_factor, dtype: float64\n",
            "Train MSE:  1.8544898168219641\n",
            "Train Explained Variance Score:  0.0\n",
            "Test MSE:  2.111797213066155\n",
            "Test Explained Variance Score:  0.0\n",
            "Confusion:\n",
            "             positive  negative\n",
            "Truth is +      2538         0\n",
            "Truth is -       974         0\n",
            "Test accuracy:  0.7226651480637813\n",
            "Train accuracy:  0.7312766967252017\n",
            "\n",
            "RESULTS FOR 1000 DAY MARK:\n",
            "\n",
            "Trained on 6560 rows.\n",
            "Sample values:  [1.05813049 1.05813049 1.05813049 1.05813049 1.05813049] hash\n",
            "1090180431729924166    -0.405995\n",
            "2522619054511859218     1.249774\n",
            "2413706608918083466     1.163151\n",
            "15229898059413888555    1.475907\n",
            "15512977653294381319    0.172188\n",
            "Name: log_valuation_factor, dtype: float64\n",
            "Train MSE:  2.4163852376021935\n",
            "Train Explained Variance Score:  0.0\n",
            "Test MSE:  2.6529137230873094\n",
            "Test Explained Variance Score:  0.0\n",
            "Confusion:\n",
            "             positive  negative\n",
            "Truth is +      1623         0\n",
            "Truth is -       564         0\n",
            "Test accuracy:  0.7421124828532236\n",
            "Train accuracy:  0.7408536585365854\n",
            "\n",
            "RESULTS FOR 2000 DAY MARK:\n",
            "\n",
            "Trained on 2553 rows.\n",
            "Sample values:  [1.05813049 1.05813049 1.05813049 1.05813049 1.05813049] hash\n",
            "8772077241959290395     1.230766\n",
            "12369625319467726682    4.122458\n",
            "7114302077453924705     1.098612\n",
            "4092291652176146548     2.060865\n",
            "6892683275330791990     1.252067\n",
            "Name: log_valuation_factor, dtype: float64\n",
            "Train MSE:  2.981515564380526\n",
            "Train Explained Variance Score:  -2.220446049250313e-16\n",
            "Test MSE:  3.226471019576392\n",
            "Test Explained Variance Score:  0.0\n",
            "Confusion:\n",
            "             positive  negative\n",
            "Truth is +       637         0\n",
            "Truth is -       214         0\n",
            "Test accuracy:  0.7485311398354877\n",
            "Train accuracy:  0.7547982765374069\n"
          ],
          "name": "stdout"
        }
      ]
    },
    {
      "cell_type": "code",
      "metadata": {
        "id": "Nyz3a63EcWxh",
        "colab_type": "code",
        "colab": {}
      },
      "source": [
        ""
      ],
      "execution_count": 10,
      "outputs": []
    },
    {
      "cell_type": "markdown",
      "metadata": {
        "id": "Zk-T0iO2xtaQ",
        "colab_type": "text"
      },
      "source": [
        "## SGD"
      ]
    },
    {
      "cell_type": "code",
      "metadata": {
        "id": "u_GVqKW6xxhl",
        "colab_type": "code",
        "colab": {
          "base_uri": "https://localhost:8080/",
          "height": 1000
        },
        "outputId": "efbcbe74-dc18-4d1c-d5a8-597673e2013e"
      },
      "source": [
        "import sklearn.linear_model\n",
        "\n",
        "sgd = sklearn.linear_model.SGDRegressor()\n",
        "\n",
        "for mark in marks:\n",
        "  train_model_over_mark(sgd, sparse_data, mark, filter_unknown=True)"
      ],
      "execution_count": 42,
      "outputs": [
        {
          "output_type": "stream",
          "text": [
            "\n",
            "RESULTS FOR 200 DAY MARK:\n",
            "\n",
            "Trained on 13498 rows.\n",
            "Sample values:  [1.05813049 1.05813049 1.05813049 1.05813049 1.05813049] hash\n",
            "17278859060768167080    0.810735\n",
            "11968636648591427098   -0.154518\n",
            "11488947952176063535    0.152253\n",
            "4039903851674016217     0.158555\n",
            "15135450892273648273    0.176724\n",
            "Name: log_valuation_factor, dtype: float64\n",
            "Train MSE:  1.430981398475113\n",
            "Train Explained Variance Score:  1.1102230246251565e-16\n",
            "Test MSE:  1.3187431133843237\n",
            "Test Explained Variance Score:  0.0\n",
            "Confusion:\n",
            "             positive  negative\n",
            "Truth is +      3221         0\n",
            "Truth is -      1279         0\n",
            "Test accuracy:  0.7157777777777777\n",
            "Train accuracy:  0.7141057934508817\n",
            "\n",
            "RESULTS FOR 500 DAY MARK:\n",
            "\n",
            "Trained on 10535 rows.\n",
            "Sample values:  [1.05813049 1.05813049 1.05813049 1.05813049 1.05813049] hash\n",
            "8411078950694427371     0.849025\n",
            "13142405533271192037    0.778114\n",
            "12542550360124116734    0.587007\n",
            "1039234271495430370     0.210602\n",
            "11243690867264535754   -1.007667\n",
            "Name: log_valuation_factor, dtype: float64\n",
            "Train MSE:  1.9330169743544299\n",
            "Train Explained Variance Score:  0.0\n",
            "Test MSE:  1.8762381001377588\n",
            "Test Explained Variance Score:  -2.220446049250313e-16\n",
            "Confusion:\n",
            "             positive  negative\n",
            "Truth is +      2558         0\n",
            "Truth is -       954         0\n",
            "Test accuracy:  0.7283599088838268\n",
            "Train accuracy:  0.7293782629330802\n",
            "\n",
            "RESULTS FOR 1000 DAY MARK:\n",
            "\n",
            "Trained on 6560 rows.\n",
            "Sample values:  [1.05813049 1.05813049 1.05813049 1.05813049 1.05813049] hash\n",
            "10867599671732332117    0.470004\n",
            "15603154135465902575    0.784622\n",
            "17282765987748312564    1.152680\n",
            "6605699768308245086     1.666349\n",
            "15533641058035901069    0.037996\n",
            "Name: log_valuation_factor, dtype: float64\n",
            "Train MSE:  2.4512238383196943\n",
            "Train Explained Variance Score:  0.0\n",
            "Test MSE:  2.5484138507933873\n",
            "Test Explained Variance Score:  0.0\n",
            "Confusion:\n",
            "             positive  negative\n",
            "Truth is +      1649         0\n",
            "Truth is -       538         0\n",
            "Test accuracy:  0.7540009144947416\n",
            "Train accuracy:  0.7368902439024391\n",
            "\n",
            "RESULTS FOR 2000 DAY MARK:\n",
            "\n",
            "Trained on 2553 rows.\n",
            "Sample values:  [1.05813049 1.05813049 1.05813049 1.05813049 1.05813049] hash\n",
            "2995856406508597515     2.446292\n",
            "5215164730911512847     1.229979\n",
            "15945531636829327785    1.721823\n",
            "6048450090695174903     1.266938\n",
            "12211584182526652678    3.337579\n",
            "Name: log_valuation_factor, dtype: float64\n",
            "Train MSE:  3.1905990225903658\n",
            "Train Explained Variance Score:  0.0\n",
            "Test MSE:  2.5992206449468718\n",
            "Test Explained Variance Score:  0.0\n",
            "Confusion:\n",
            "             positive  negative\n",
            "Truth is +       638         0\n",
            "Truth is -       213         0\n",
            "Test accuracy:  0.7497062279670975\n",
            "Train accuracy:  0.754406580493537\n"
          ],
          "name": "stdout"
        }
      ]
    },
    {
      "cell_type": "markdown",
      "metadata": {
        "id": "BmcPRYYmzrp-",
        "colab_type": "text"
      },
      "source": [
        "# SVR"
      ]
    },
    {
      "cell_type": "code",
      "metadata": {
        "id": "yE03MWnSztYb",
        "colab_type": "code",
        "colab": {
          "base_uri": "https://localhost:8080/",
          "height": 1000
        },
        "outputId": "6ca779d9-23b8-47e7-9fc8-a99c2404dbf2"
      },
      "source": [
        "import sklearn.svm\n",
        "\n",
        "for mark in marks:\n",
        "  svm = sklearn.svm.SVR()\n",
        "  train_model_over_mark(svm, sparse_data, mark, filter_unknown=True)"
      ],
      "execution_count": 44,
      "outputs": [
        {
          "output_type": "stream",
          "text": [
            "\n",
            "RESULTS FOR 200 DAY MARK:\n",
            "\n",
            "Trained on 13498 rows.\n",
            "Sample values:  [1.05813049 1.05813049 1.05813049 1.05813049 1.05813049] hash\n",
            "7605692520027625648     1.791759\n",
            "2220049177037197525    -0.304924\n",
            "18279224463993360850    0.124412\n",
            "10247127945768244428    0.341429\n",
            "3242767193354031088     0.777820\n",
            "Name: log_valuation_factor, dtype: float64\n",
            "Train MSE:  1.4096404167477183\n",
            "Train Explained Variance Score:  0.0\n",
            "Test MSE:  1.3827565736857397\n",
            "Test Explained Variance Score:  2.220446049250313e-16\n",
            "Confusion:\n",
            "             positive  negative\n",
            "Truth is +      3183         0\n",
            "Truth is -      1317         0\n",
            "Test accuracy:  0.7073333333333334\n",
            "Train accuracy:  0.716921025337087\n",
            "\n",
            "RESULTS FOR 500 DAY MARK:\n",
            "\n",
            "Trained on 10535 rows.\n",
            "Sample values:  [1.05813049 1.05813049 1.05813049 1.05813049 1.05813049] hash\n",
            "13765974736818171632    0.916291\n",
            "16458525995278093477    1.832581\n",
            "11970094808217328200   -0.415780\n",
            "8306724763510158031     0.415741\n",
            "7138478480837883586     1.059293\n",
            "Name: log_valuation_factor, dtype: float64\n",
            "Train MSE:  1.9526887544699194\n",
            "Train Explained Variance Score:  0.0\n",
            "Test MSE:  1.817228361095423\n",
            "Test Explained Variance Score:  0.0\n",
            "Confusion:\n",
            "             positive  negative\n",
            "Truth is +      2585         0\n",
            "Truth is -       927         0\n",
            "Test accuracy:  0.7360478359908884\n",
            "Train accuracy:  0.7268153773137161\n",
            "\n",
            "RESULTS FOR 1000 DAY MARK:\n",
            "\n",
            "Trained on 6560 rows.\n",
            "Sample values:  [1.05813049 1.05813049 1.05813049 1.05813049 1.05813049] hash\n",
            "7920177346872242696    -2.197225\n",
            "2570710947836918441     1.098612\n",
            "15035257300000526640    0.105125\n",
            "4071855429613857694     0.045462\n",
            "5110690378023350459    -0.405465\n",
            "Name: log_valuation_factor, dtype: float64\n",
            "Train MSE:  2.516539979778967\n",
            "Train Explained Variance Score:  0.0\n",
            "Test MSE:  2.3524952920495243\n",
            "Test Explained Variance Score:  0.0\n",
            "Confusion:\n",
            "             positive  negative\n",
            "Truth is +      1610         0\n",
            "Truth is -       577         0\n",
            "Test accuracy:  0.7361682670324645\n",
            "Train accuracy:  0.7428353658536585\n",
            "\n",
            "RESULTS FOR 2000 DAY MARK:\n",
            "\n",
            "Trained on 2553 rows.\n",
            "Sample values:  [1.05813049 1.05813049 1.05813049 1.05813049 1.05813049] hash\n",
            "10410717754288246283   -0.405465\n",
            "11701291077335966719    0.405465\n",
            "3971003734211618095    -0.405465\n",
            "13092431046120504300   -1.560648\n",
            "737888817662873879      0.051662\n",
            "Name: log_valuation_factor, dtype: float64\n",
            "Train MSE:  3.0283158781534216\n",
            "Train Explained Variance Score:  0.0\n",
            "Test MSE:  3.0860700782577046\n",
            "Test Explained Variance Score:  0.0\n",
            "Confusion:\n",
            "             positive  negative\n",
            "Truth is +       645         0\n",
            "Truth is -       206         0\n",
            "Test accuracy:  0.7579318448883666\n",
            "Train accuracy:  0.7516647081864474\n"
          ],
          "name": "stdout"
        }
      ]
    }
  ]
}