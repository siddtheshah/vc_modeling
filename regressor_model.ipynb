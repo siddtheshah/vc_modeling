{
  "nbformat": 4,
  "nbformat_minor": 0,
  "metadata": {
    "colab": {
      "name": "regressor_model.ipynb",
      "provenance": [],
      "authorship_tag": "ABX9TyM51TKG3sEHQkM06q/gQC7R",
      "include_colab_link": true
    },
    "kernelspec": {
      "name": "python3",
      "display_name": "Python 3"
    }
  },
  "cells": [
    {
      "cell_type": "markdown",
      "metadata": {
        "id": "view-in-github",
        "colab_type": "text"
      },
      "source": [
        "<a href=\"https://colab.research.google.com/github/siddtheshah/vc_modeling/blob/master/regressor_model.ipynb\" target=\"_parent\"><img src=\"https://colab.research.google.com/assets/colab-badge.svg\" alt=\"Open In Colab\"/></a>"
      ]
    },
    {
      "cell_type": "markdown",
      "metadata": {
        "id": "uV182SZ1d2Es",
        "colab_type": "text"
      },
      "source": [
        "# Imports"
      ]
    },
    {
      "cell_type": "code",
      "metadata": {
        "id": "lswTEjiPegUo",
        "colab_type": "code",
        "colab": {
          "base_uri": "https://localhost:8080/",
          "height": 54
        },
        "outputId": "e26c9e72-a4ec-4edf-83ff-3febfaee53f1"
      },
      "source": [
        "import os\n",
        "import numpy as np\n",
        "import pandas as pd\n",
        "import matplotlib.pyplot as plt\n",
        "import scipy.sparse\n",
        "!pip install cityhash\n",
        "import cityhash\n",
        "\n",
        "print(pd.__version__)\n",
        "\n",
        "from copy import deepcopy"
      ],
      "execution_count": 1,
      "outputs": [
        {
          "output_type": "stream",
          "text": [
            "Requirement already satisfied: cityhash in /usr/local/lib/python3.6/dist-packages (0.2.3.post9)\n",
            "1.0.5\n"
          ],
          "name": "stdout"
        }
      ]
    },
    {
      "cell_type": "code",
      "metadata": {
        "id": "Q2WrUtBZenFT",
        "colab_type": "code",
        "colab": {
          "base_uri": "https://localhost:8080/",
          "height": 35
        },
        "outputId": "b3a9176b-e187-4453-9f4a-43a5a0d417c4"
      },
      "source": [
        "from google.colab import drive\n",
        "drive.mount('/content/gdrive')"
      ],
      "execution_count": 2,
      "outputs": [
        {
          "output_type": "stream",
          "text": [
            "Drive already mounted at /content/gdrive; to attempt to forcibly remount, call drive.mount(\"/content/gdrive\", force_remount=True).\n"
          ],
          "name": "stdout"
        }
      ]
    },
    {
      "cell_type": "code",
      "metadata": {
        "id": "q0fOQjWFeni-",
        "colab_type": "code",
        "colab": {
          "base_uri": "https://localhost:8080/",
          "height": 74
        },
        "outputId": "96861e4e-796b-4ec6-dd22-d918fdb46958"
      },
      "source": [
        "file_names = os.listdir(\"/content/gdrive/My Drive/vc_modeling/data/crunchbase_bulk_export/\")\n",
        "df_names = [x[:-4] for x in file_names]\n",
        "print(df_names)\n",
        "\n",
        "dfs = [pd.read_csv(\"/content/gdrive/My Drive/vc_modeling/data/crunchbase_bulk_export/\"+x) for x in file_names]\n",
        "df_dict = dict(zip(df_names, dfs))\n",
        "print(df_dict.keys())"
      ],
      "execution_count": 3,
      "outputs": [
        {
          "output_type": "stream",
          "text": [
            "['category_groups', 'funding_rounds', 'people', 'checksum', 'people_descriptions', 'investors', 'organization_descriptions', 'investment_partners', 'event_appearances', 'organizations', 'org_parents', 'jobs', 'acquisitions', 'funds', 'ipos', 'degrees', 'investments', 'events']\n",
            "dict_keys(['category_groups', 'funding_rounds', 'people', 'checksum', 'people_descriptions', 'investors', 'organization_descriptions', 'investment_partners', 'event_appearances', 'organizations', 'org_parents', 'jobs', 'acquisitions', 'funds', 'ipos', 'degrees', 'investments', 'events'])\n"
          ],
          "name": "stdout"
        }
      ]
    },
    {
      "cell_type": "markdown",
      "metadata": {
        "id": "gJAKI4bLd5ZE",
        "colab_type": "text"
      },
      "source": [
        "# Read/Join Features"
      ]
    },
    {
      "cell_type": "code",
      "metadata": {
        "id": "vv7LelH2eqbw",
        "colab_type": "code",
        "colab": {}
      },
      "source": [
        "feature_folder = '/content/gdrive/My Drive/vc_modeling/feature_extraction'\n",
        "\n",
        "sparse_category_features_array = pd.read_pickle(feature_folder + \"/category_features/category_features.pkl\")\n",
        "\n",
        "# print(sparse_category_features_array)\n",
        "## Other features here!! Remember to sparsify the dataframes if they're dense!\n",
        "\n",
        "\n",
        "features = scipy.sparse.coo_matrix(sparse_category_features_array)\n",
        "\n"
      ],
      "execution_count": 4,
      "outputs": []
    },
    {
      "cell_type": "markdown",
      "metadata": {
        "id": "6InV-GK0e49l",
        "colab_type": "text"
      },
      "source": [
        "# Read Regression Targets"
      ]
    },
    {
      "cell_type": "code",
      "metadata": {
        "id": "SzWperFWfA4x",
        "colab_type": "code",
        "colab": {}
      },
      "source": [
        "target_folder = '/content/gdrive/My Drive/vc_modeling/regression_targets/'\n",
        "marks = [200, 500, 1000, 2000]\n",
        "\n",
        "regression_marks = {}\n",
        "for mark in marks:\n",
        "  regression_marks[mark] = pd.read_csv(target_folder + str(mark) + '.csv')\n"
      ],
      "execution_count": 5,
      "outputs": []
    },
    {
      "cell_type": "code",
      "metadata": {
        "id": "a9hQhkQcY4Jr",
        "colab_type": "code",
        "colab": {
          "base_uri": "https://localhost:8080/",
          "height": 35
        },
        "outputId": "49570201-218c-46ed-cd15-ac50251f7079"
      },
      "source": [
        "\n",
        "mark_data = regression_marks[200]\n",
        "mark_data = mark_data[mark_data['log_valuation_factor'] > 0]"
      ],
      "execution_count": 79,
      "outputs": [
        {
          "output_type": "stream",
          "text": [
            "388\n"
          ],
          "name": "stdout"
        }
      ]
    },
    {
      "cell_type": "markdown",
      "metadata": {
        "id": "LnfflhAPyChF",
        "colab_type": "text"
      },
      "source": [
        "# Train Model"
      ]
    },
    {
      "cell_type": "code",
      "metadata": {
        "id": "57NUdx-Xx-9q",
        "colab_type": "code",
        "colab": {}
      },
      "source": [
        "# Train Models\n",
        "import sklearn.metrics\n",
        "\n",
        "def regression_analysis(model, train_data, train_values, test_data, test_values):\n",
        "    predicted_train_values = model.predict(train_data)\n",
        "    predicted_test_values = model.predict(test_data)\n",
        "\n",
        "    train_mse = sklearn.metrics.mean_squared_error(train_values, predicted_train_values)\n",
        "    test_mse = sklearn.metrics.mean_squared_error(test_values, predicted_test_values)\n",
        "    train_explained_variance = sklearn.metrics.explained_variance_score(train_values, predicted_train_values)\n",
        "    test_explained_variance = sklearn.metrics.explained_variance_score(test_values, predicted_test_values)\n",
        "\n",
        "    print(\"Train MSE: \", train_mse)\n",
        "    print(\"Train Explained Variance Score: \", train_explained_variance)\n",
        "    print(\"Test MSE: \", test_mse)\n",
        "    print(\"Test Explained Variance Score: \", test_explained_variance)\n",
        "\n",
        "    return model\n",
        "\n",
        "def classification_analysis(model, train_data, train_values, test_data, test_values):\n",
        "    train_values_predicted = model.predict(train_data)\n",
        "    train_prediction = train_values_predicted > 0.00001\n",
        "    train_prediction = train_prediction.astype(np.int32)\n",
        "\n",
        "    test_values_predicted = model.predict(test_data)\n",
        "    test_prediction = test_values_predicted > 0.00001\n",
        "    test_prediction = test_prediction.astype(np.int32)\n",
        "\n",
        "    train_labels = train_values > 0.00001\n",
        "    train_labels = train_labels.astype(np.int32)\n",
        "\n",
        "    test_labels = test_values > 0.00001\n",
        "    test_labels = test_labels.astype(np.int32)\n",
        "\n",
        "    confusion_matrix_large = pd.DataFrame(sklearn.metrics.confusion_matrix(test_labels, test_prediction, labels=[1, 0]),\n",
        "                                    columns=['positive', 'negative'], index=['Truth is +', 'Truth is -'])\n",
        "    print(\"Confusion:\\n\", confusion_matrix_large)\n",
        "    test_acc = sum(test_labels==test_prediction)/len(test_labels)\n",
        "    print(\"Test accuracy: \", test_acc)\n",
        "    train_acc = sum(train_labels==train_prediction)/len(train_labels)\n",
        "    print(\"Train accuracy: \", train_acc)\n",
        "\n",
        "\n",
        "    # # Use the metrics.roc_curve function to get the true positive rate (tpr) and false positive rate (fpr)\n",
        "    # fpr, tpr, thresholds = sklearn.metrics.roc_curve(test_labels, test_probabilities)\n",
        "\n",
        "    # # Get the area under the curve (AUC)\n",
        "    # auc = np.mean(cross_val_score(model, test_data, test_labels, scoring=\"roc_auc\", cv=5))\n",
        "    # print(\"AUC = \" , str(round(auc, 2)))\n",
        "\n",
        "    # # Plot the ROC curve\n",
        "\n",
        "    # plt.xlabel(\"False positive rate (fpr)\")\n",
        "    # plt.ylabel(\"True positive rate (tpr)\")\n",
        "    # plt.plot(fpr, tpr, label='model')\n",
        "    # plt.plot([0, 1], [0, 1], color='k', label=\"random\")\n",
        "    # plt.legend(loc='best')\n",
        "\n",
        "    # plt.figure()\n",
        "    # plt.xlabel(\"Recall\")\n",
        "    # plt.ylabel(\"Precision\")\n",
        "    # precision, recall, _ = sklearn.metrics.precision_recall_curve(test_labels, test_probabilities)\n",
        "    # plt.plot(recall, precision)\n",
        "\n",
        "def train_model_over_mark(model, mark, filter_unknown=True):\n",
        "  print(\"\\nRESULTS FOR\", str(mark), \"DAY MARK:\\n\")\n",
        "  # print(features)\n",
        "  mark_data = regression_marks[mark]\n",
        "  if filter_unknown:\n",
        "    mark_data = mark_data[mark_data['log_valuation_factor'] != 0]\n",
        "  sparse_data = pd.DataFrame.sparse.from_spmatrix(features)\n",
        "  # Select the data that we have regression targets for\n",
        "  data = sparse_data[sparse_data.index.isin(mark_data.index)].drop(columns=[0])\n",
        "\n",
        "  # Select the column with log_valuation_factor.\n",
        "  values = mark_data['log_valuation_factor']\n",
        "\n",
        "  data = np.array(data)\n",
        "\n",
        "  train_data, test_data, train_values, test_values = sklearn.model_selection.train_test_split(data, values, test_size=0.25)\n",
        "  print(\"Trained on\", str(np.shape(train_data)[0]), \"rows.\")\n",
        "  \n",
        "  model.fit(train_data, train_values)\n",
        "  regression_analysis(lasso_model, train_data, train_values, test_data, test_values)\n",
        "  classification_analysis(lasso_model, train_data, train_values, test_data, test_values)"
      ],
      "execution_count": 98,
      "outputs": []
    },
    {
      "cell_type": "markdown",
      "metadata": {
        "id": "ol1UlbPc-Njh",
        "colab_type": "text"
      },
      "source": [
        "## LASSO"
      ]
    },
    {
      "cell_type": "code",
      "metadata": {
        "id": "q4zrYwJg-M0E",
        "colab_type": "code",
        "colab": {
          "base_uri": "https://localhost:8080/",
          "height": 1000
        },
        "outputId": "058c3b00-cf9e-4ce2-b00f-976b27555a78"
      },
      "source": [
        "import sklearn.linear_model\n",
        "\n",
        "lasso_model = sklearn.linear_model.Lasso()\n",
        "for mark in marks:\n",
        "  train_model_over_mark(lasso_model, mark, filter_unknown=True)"
      ],
      "execution_count": 99,
      "outputs": [
        {
          "output_type": "stream",
          "text": [
            "\n",
            "RESULTS FOR 200 DAY MARK:\n",
            "\n",
            "Trained on 351 rows.\n",
            "Train MSE:  0.6963439723467224\n",
            "Train Explained Variance Score:  0.0\n",
            "Test MSE:  0.3651160874001776\n",
            "Test Explained Variance Score:  0.0\n",
            "Confusion:\n",
            "             positive  negative\n",
            "Truth is +        93         0\n",
            "Truth is -        24         0\n",
            "Test accuracy:  0.7948717948717948\n",
            "Train accuracy:  0.8404558404558404\n",
            "\n",
            "RESULTS FOR 500 DAY MARK:\n",
            "\n",
            "Trained on 256 rows.\n",
            "Train MSE:  1.3062890500983122\n",
            "Train Explained Variance Score:  0.0\n",
            "Test MSE:  0.7313452076024265\n",
            "Test Explained Variance Score:  0.0\n",
            "Confusion:\n",
            "             positive  negative\n",
            "Truth is +        67         0\n",
            "Truth is -        19         0\n",
            "Test accuracy:  0.7790697674418605\n",
            "Train accuracy:  0.83984375\n",
            "\n",
            "RESULTS FOR 1000 DAY MARK:\n",
            "\n",
            "Trained on 156 rows.\n",
            "Train MSE:  0.9895253552810069\n",
            "Train Explained Variance Score:  0.0\n",
            "Test MSE:  1.1408861930683114\n",
            "Test Explained Variance Score:  0.0\n",
            "Confusion:\n",
            "             positive  negative\n",
            "Truth is +        44         0\n",
            "Truth is -         9         0\n",
            "Test accuracy:  0.8301886792452831\n",
            "Train accuracy:  0.8589743589743589\n",
            "\n",
            "RESULTS FOR 2000 DAY MARK:\n",
            "\n",
            "Trained on 65 rows.\n",
            "Train MSE:  0.9442647334105914\n",
            "Train Explained Variance Score:  0.0\n",
            "Test MSE:  1.9236609528523332\n",
            "Test Explained Variance Score:  0.0\n",
            "Confusion:\n",
            "             positive  negative\n",
            "Truth is +        19         0\n",
            "Truth is -         3         0\n",
            "Test accuracy:  0.8636363636363636\n",
            "Train accuracy:  0.8153846153846154\n"
          ],
          "name": "stdout"
        }
      ]
    },
    {
      "cell_type": "markdown",
      "metadata": {
        "id": "zkIAp3O7U0CZ",
        "colab_type": "text"
      },
      "source": [
        "## Bayesian Regression"
      ]
    },
    {
      "cell_type": "code",
      "metadata": {
        "id": "-hLe3UFMfmtM",
        "colab_type": "code",
        "colab": {
          "base_uri": "https://localhost:8080/",
          "height": 1000
        },
        "outputId": "39f67ee4-41a4-4e88-af9b-612786cb95db"
      },
      "source": [
        "bayes_regressor = sklearn.linear_model.BayesianRidge()\n",
        "\n",
        "for mark in marks:\n",
        "  train_model_over_mark(bayes_regressor, mark, filter_unknown=True)"
      ],
      "execution_count": 103,
      "outputs": [
        {
          "output_type": "stream",
          "text": [
            "\n",
            "RESULTS FOR 200 DAY MARK:\n",
            "\n",
            "Trained on 351 rows.\n",
            "Train MSE:  0.8057543310762841\n",
            "Train Explained Variance Score:  0.0\n",
            "Test MSE:  0.545760000174857\n",
            "Test Explained Variance Score:  -2.220446049250313e-16\n",
            "Confusion:\n",
            "             positive  negative\n",
            "Truth is +        96         0\n",
            "Truth is -        21         0\n",
            "Test accuracy:  0.8205128205128205\n",
            "Train accuracy:  0.8319088319088319\n",
            "\n",
            "RESULTS FOR 500 DAY MARK:\n",
            "\n",
            "Trained on 256 rows.\n",
            "Train MSE:  1.2663802355803324\n",
            "Train Explained Variance Score:  -2.220446049250313e-16\n",
            "Test MSE:  0.8580406469531269\n",
            "Test Explained Variance Score:  0.0\n",
            "Confusion:\n",
            "             positive  negative\n",
            "Truth is +        70         0\n",
            "Truth is -        16         0\n",
            "Test accuracy:  0.813953488372093\n",
            "Train accuracy:  0.828125\n",
            "\n",
            "RESULTS FOR 1000 DAY MARK:\n",
            "\n",
            "Trained on 156 rows.\n",
            "Train MSE:  1.007007963764927\n",
            "Train Explained Variance Score:  0.0\n",
            "Test MSE:  1.1104277122707051\n",
            "Test Explained Variance Score:  0.0\n",
            "Confusion:\n",
            "             positive  negative\n",
            "Truth is +        41         0\n",
            "Truth is -        12         0\n",
            "Test accuracy:  0.7735849056603774\n",
            "Train accuracy:  0.8782051282051282\n",
            "\n",
            "RESULTS FOR 2000 DAY MARK:\n",
            "\n",
            "Trained on 65 rows.\n",
            "Train MSE:  1.4633453683035706\n",
            "Train Explained Variance Score:  0.0\n",
            "Test MSE:  0.3900136224867128\n",
            "Test Explained Variance Score:  0.0\n",
            "Confusion:\n",
            "             positive  negative\n",
            "Truth is +        19         0\n",
            "Truth is -         3         0\n",
            "Test accuracy:  0.8636363636363636\n",
            "Train accuracy:  0.8153846153846154\n"
          ],
          "name": "stdout"
        }
      ]
    },
    {
      "cell_type": "markdown",
      "metadata": {
        "id": "77ksr5r4cuc0",
        "colab_type": "text"
      },
      "source": [
        "## Decision Tree Regressor"
      ]
    },
    {
      "cell_type": "code",
      "metadata": {
        "id": "j5PRMVseeLBU",
        "colab_type": "code",
        "colab": {
          "base_uri": "https://localhost:8080/",
          "height": 1000
        },
        "outputId": "a53975db-4006-4f15-bd8e-4cee06f4a84c"
      },
      "source": [
        "import sklearn.tree\n",
        "\n",
        "tree_model = sklearn.tree.DecisionTreeRegressor()\n",
        "for mark in marks:\n",
        "  train_model_over_mark(bayes_regressor, mark, filter_unknown=True)"
      ],
      "execution_count": 107,
      "outputs": [
        {
          "output_type": "stream",
          "text": [
            "\n",
            "RESULTS FOR 200 DAY MARK:\n",
            "\n",
            "Trained on 351 rows.\n",
            "Train MSE:  0.8250030159895296\n",
            "Train Explained Variance Score:  0.0\n",
            "Test MSE:  0.4880139454351201\n",
            "Test Explained Variance Score:  0.0\n",
            "Confusion:\n",
            "             positive  negative\n",
            "Truth is +        92         0\n",
            "Truth is -        25         0\n",
            "Test accuracy:  0.7863247863247863\n",
            "Train accuracy:  0.8433048433048433\n",
            "\n",
            "RESULTS FOR 500 DAY MARK:\n",
            "\n",
            "Trained on 256 rows.\n",
            "Train MSE:  1.2766169297266554\n",
            "Train Explained Variance Score:  0.0\n",
            "Test MSE:  0.8275686271687239\n",
            "Test Explained Variance Score:  0.0\n",
            "Confusion:\n",
            "             positive  negative\n",
            "Truth is +        70         0\n",
            "Truth is -        16         0\n",
            "Test accuracy:  0.813953488372093\n",
            "Train accuracy:  0.828125\n",
            "\n",
            "RESULTS FOR 1000 DAY MARK:\n",
            "\n",
            "Trained on 156 rows.\n",
            "Train MSE:  1.048135944584364\n",
            "Train Explained Variance Score:  0.0\n",
            "Test MSE:  0.9893717687267019\n",
            "Test Explained Variance Score:  2.220446049250313e-16\n",
            "Confusion:\n",
            "             positive  negative\n",
            "Truth is +        46         0\n",
            "Truth is -         7         0\n",
            "Test accuracy:  0.8679245283018868\n",
            "Train accuracy:  0.8461538461538461\n",
            "\n",
            "RESULTS FOR 2000 DAY MARK:\n",
            "\n",
            "Trained on 65 rows.\n",
            "Train MSE:  1.0555825975915418\n",
            "Train Explained Variance Score:  2.220446049250313e-16\n",
            "Test MSE:  1.594767263226798\n",
            "Test Explained Variance Score:  0.0\n",
            "Confusion:\n",
            "             positive  negative\n",
            "Truth is +        16         0\n",
            "Truth is -         6         0\n",
            "Test accuracy:  0.7272727272727273\n",
            "Train accuracy:  0.8615384615384616\n"
          ],
          "name": "stdout"
        }
      ]
    },
    {
      "cell_type": "code",
      "metadata": {
        "id": "Nyz3a63EcWxh",
        "colab_type": "code",
        "colab": {}
      },
      "source": [
        ""
      ],
      "execution_count": null,
      "outputs": []
    }
  ]
}