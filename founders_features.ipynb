{
  "nbformat": 4,
  "nbformat_minor": 0,
  "metadata": {
    "kernelspec": {
      "display_name": "Python 3",
      "language": "python",
      "name": "python3"
    },
    "language_info": {
      "codemirror_mode": {
        "name": "ipython",
        "version": 3
      },
      "file_extension": ".py",
      "mimetype": "text/x-python",
      "name": "python",
      "nbconvert_exporter": "python",
      "pygments_lexer": "ipython3",
      "version": "3.7.3"
    },
    "colab": {
      "name": "founders_features.ipynb",
      "provenance": [],
      "collapsed_sections": [],
      "include_colab_link": true
    }
  },
  "cells": [
    {
      "cell_type": "markdown",
      "metadata": {
        "id": "view-in-github",
        "colab_type": "text"
      },
      "source": [
        "<a href=\"https://colab.research.google.com/github/amitsp21/vc_modeling/blob/master/founders_features.ipynb\" target=\"_parent\"><img src=\"https://colab.research.google.com/assets/colab-badge.svg\" alt=\"Open In Colab\"/></a>"
      ]
    },
    {
      "cell_type": "code",
      "metadata": {
        "id": "eBNuWj1E19wF",
        "colab_type": "code",
        "colab": {}
      },
      "source": [
        "import os\n",
        "import numpy as np\n",
        "import pandas as pd\n",
        "import matplotlib.pyplot as plt\n",
        "\n",
        "from copy import deepcopy"
      ],
      "execution_count": null,
      "outputs": []
    },
    {
      "cell_type": "code",
      "metadata": {
        "id": "NS4DQ4W-CC2u",
        "colab_type": "code",
        "colab": {}
      },
      "source": [
        "# !pip install pycrunchbase\n",
        "\n",
        "# from pycrunchbase import CrunchBase\n",
        "# cb = CrunchBase('c2b9aa1234609a1441bc64fb25378601')"
      ],
      "execution_count": null,
      "outputs": []
    },
    {
      "cell_type": "code",
      "metadata": {
        "id": "DbycjxQ62Pw8",
        "colab_type": "code",
        "colab": {
          "base_uri": "https://localhost:8080/",
          "height": 51
        },
        "outputId": "29240158-9d94-44be-e579-53ba5d88463f"
      },
      "source": [
        "from google.colab import drive\n",
        "drive.mount('/content/gdrive')\n",
        "os.listdir('/content/gdrive/My Drive/vc_modeling')"
      ],
      "execution_count": null,
      "outputs": [
        {
          "output_type": "stream",
          "text": [
            "Drive already mounted at /content/gdrive; to attempt to forcibly remount, call drive.mount(\"/content/gdrive\", force_remount=True).\n"
          ],
          "name": "stdout"
        },
        {
          "output_type": "execute_result",
          "data": {
            "text/plain": [
              "['data']"
            ]
          },
          "metadata": {
            "tags": []
          },
          "execution_count": 3
        }
      ]
    },
    {
      "cell_type": "code",
      "metadata": {
        "id": "hnvmUqam19wJ",
        "colab_type": "code",
        "colab": {
          "base_uri": "https://localhost:8080/",
          "height": 54
        },
        "outputId": "1089665b-14e7-4da6-d7a8-924cb4e34c39"
      },
      "source": [
        "file_names = os.listdir(\"/content/gdrive/My Drive/vc_modeling/data/crunchbase_bulk_export/\")\n",
        "print(file_names)"
      ],
      "execution_count": null,
      "outputs": [
        {
          "output_type": "stream",
          "text": [
            "['category_groups.csv', 'funding_rounds.csv', 'people.csv', 'checksum.csv', 'people_descriptions.csv', 'investors.csv', 'organization_descriptions.csv', 'investment_partners.csv', 'event_appearances.csv', 'organizations.csv', 'org_parents.csv', 'jobs.csv', 'acquisitions.csv', 'funds.csv', 'ipos.csv', 'degrees.csv', 'investments.csv', 'events.csv']\n"
          ],
          "name": "stdout"
        }
      ]
    },
    {
      "cell_type": "code",
      "metadata": {
        "id": "hOg6Dv3219wN",
        "colab_type": "code",
        "colab": {
          "base_uri": "https://localhost:8080/",
          "height": 54
        },
        "outputId": "ecec85e9-45f3-44e0-c6e1-c859d70808ab"
      },
      "source": [
        "df_names = [x[:-4] for x in file_names]\n",
        "print(df_names)"
      ],
      "execution_count": null,
      "outputs": [
        {
          "output_type": "stream",
          "text": [
            "['category_groups', 'funding_rounds', 'people', 'checksum', 'people_descriptions', 'investors', 'organization_descriptions', 'investment_partners', 'event_appearances', 'organizations', 'org_parents', 'jobs', 'acquisitions', 'funds', 'ipos', 'degrees', 'investments', 'events']\n"
          ],
          "name": "stdout"
        }
      ]
    },
    {
      "cell_type": "code",
      "metadata": {
        "id": "Ig0sM7CL19wQ",
        "colab_type": "code",
        "colab": {
          "base_uri": "https://localhost:8080/",
          "height": 54
        },
        "outputId": "01edf2a3-8e2c-4dfd-f4f1-7b9729a35855"
      },
      "source": [
        "dfs = [pd.read_csv(\"/content/gdrive/My Drive/vc_modeling/data/crunchbase_bulk_export/\"+x) for x in file_names]\n",
        "df_dict = dict(zip(df_names, dfs))\n",
        "print(df_dict.keys())"
      ],
      "execution_count": null,
      "outputs": [
        {
          "output_type": "stream",
          "text": [
            "dict_keys(['category_groups', 'funding_rounds', 'people', 'checksum', 'people_descriptions', 'investors', 'organization_descriptions', 'investment_partners', 'event_appearances', 'organizations', 'org_parents', 'jobs', 'acquisitions', 'funds', 'ipos', 'degrees', 'investments', 'events'])\n"
          ],
          "name": "stdout"
        }
      ]
    },
    {
      "cell_type": "markdown",
      "metadata": {
        "id": "jOpO11CD19wS",
        "colab_type": "text"
      },
      "source": [
        "## Look at key dfs"
      ]
    },
    {
      "cell_type": "code",
      "metadata": {
        "id": "OTpHBz2ftqq2",
        "colab_type": "code",
        "colab": {
          "base_uri": "https://localhost:8080/",
          "height": 510
        },
        "outputId": "446354d9-6e05-4b3c-adf7-fdf69c86a65c"
      },
      "source": [
        "df_dict[\"people\"].info()"
      ],
      "execution_count": null,
      "outputs": [
        {
          "output_type": "stream",
          "text": [
            "<class 'pandas.core.frame.DataFrame'>\n",
            "RangeIndex: 1040630 entries, 0 to 1040629\n",
            "Data columns (total 22 columns):\n",
            " #   Column                          Non-Null Count    Dtype  \n",
            "---  ------                          --------------    -----  \n",
            " 0   uuid                            1040630 non-null  object \n",
            " 1   name                            1040630 non-null  object \n",
            " 2   type                            1040630 non-null  object \n",
            " 3   permalink                       1040629 non-null  object \n",
            " 4   cb_url                          1040629 non-null  object \n",
            " 5   rank                            1036713 non-null  float64\n",
            " 6   created_at                      1040630 non-null  object \n",
            " 7   updated_at                      1040630 non-null  object \n",
            " 8   first_name                      1040607 non-null  object \n",
            " 9   last_name                       1040608 non-null  object \n",
            " 10  gender                          1024070 non-null  object \n",
            " 11  country_code                    604144 non-null   object \n",
            " 12  state_code                      312741 non-null   object \n",
            " 13  region                          561790 non-null   object \n",
            " 14  city                            546294 non-null   object \n",
            " 15  featured_job_organization_uuid  672752 non-null   object \n",
            " 16  featured_job_organization_name  672742 non-null   object \n",
            " 17  featured_job_title              672742 non-null   object \n",
            " 18  facebook_url                    93422 non-null    object \n",
            " 19  linkedin_url                    603452 non-null   object \n",
            " 20  twitter_url                     190776 non-null   object \n",
            " 21  logo_url                        1040630 non-null  object \n",
            "dtypes: float64(1), object(21)\n",
            "memory usage: 174.7+ MB\n"
          ],
          "name": "stdout"
        }
      ]
    },
    {
      "cell_type": "code",
      "metadata": {
        "id": "CCjpPo3vZ91-",
        "colab_type": "code",
        "colab": {}
      },
      "source": [
        "df_dict[\"organizations\"].info()"
      ],
      "execution_count": null,
      "outputs": []
    },
    {
      "cell_type": "code",
      "metadata": {
        "id": "54gFXNrizkyy",
        "colab_type": "code",
        "colab": {}
      },
      "source": [
        "df_dict[\"degrees\"].head()"
      ],
      "execution_count": null,
      "outputs": []
    },
    {
      "cell_type": "code",
      "metadata": {
        "id": "-x6sr0fRdcgD",
        "colab_type": "code",
        "colab": {
          "base_uri": "https://localhost:8080/",
          "height": 530
        },
        "outputId": "6df79450-7c7b-43dc-ddf4-f0854df40a92"
      },
      "source": [
        "df_dict[\"jobs\"].head()"
      ],
      "execution_count": null,
      "outputs": [
        {
          "output_type": "execute_result",
          "data": {
            "text/html": [
              "<div>\n",
              "<style scoped>\n",
              "    .dataframe tbody tr th:only-of-type {\n",
              "        vertical-align: middle;\n",
              "    }\n",
              "\n",
              "    .dataframe tbody tr th {\n",
              "        vertical-align: top;\n",
              "    }\n",
              "\n",
              "    .dataframe thead th {\n",
              "        text-align: right;\n",
              "    }\n",
              "</style>\n",
              "<table border=\"1\" class=\"dataframe\">\n",
              "  <thead>\n",
              "    <tr style=\"text-align: right;\">\n",
              "      <th></th>\n",
              "      <th>uuid</th>\n",
              "      <th>name</th>\n",
              "      <th>type</th>\n",
              "      <th>permalink</th>\n",
              "      <th>cb_url</th>\n",
              "      <th>rank</th>\n",
              "      <th>created_at</th>\n",
              "      <th>updated_at</th>\n",
              "      <th>person_uuid</th>\n",
              "      <th>person_name</th>\n",
              "      <th>org_uuid</th>\n",
              "      <th>org_name</th>\n",
              "      <th>started_on</th>\n",
              "      <th>ended_on</th>\n",
              "      <th>is_current</th>\n",
              "      <th>title</th>\n",
              "      <th>job_type</th>\n",
              "    </tr>\n",
              "  </thead>\n",
              "  <tbody>\n",
              "    <tr>\n",
              "      <th>0</th>\n",
              "      <td>697b6934-fc1f-9d63-cfb2-1a10759b378e</td>\n",
              "      <td>Ben Elowitz Co-Founder/CEO/Board of Directors ...</td>\n",
              "      <td>job</td>\n",
              "      <td>ben-elowitz-executive-wetpaint--697b6934</td>\n",
              "      <td>https://www.crunchbase.com/job/ben-elowitz-exe...</td>\n",
              "      <td>NaN</td>\n",
              "      <td>2007-05-25 07:03:54</td>\n",
              "      <td>2018-02-13 01:26:54</td>\n",
              "      <td>ed13cd36-fe2b-3707-197b-0c2d56e37a71</td>\n",
              "      <td>Ben Elowitz</td>\n",
              "      <td>e1393508-30ea-8a36-3f96-dd3226033abd</td>\n",
              "      <td>Wetpaint</td>\n",
              "      <td>NaN</td>\n",
              "      <td>NaN</td>\n",
              "      <td>False</td>\n",
              "      <td>Co-Founder/CEO/Board of Directors</td>\n",
              "      <td>executive</td>\n",
              "    </tr>\n",
              "    <tr>\n",
              "      <th>1</th>\n",
              "      <td>b1de3765-442e-b556-9304-551c2a055901</td>\n",
              "      <td>Kevin Flaherty VP Marketing @ Wetpaint</td>\n",
              "      <td>job</td>\n",
              "      <td>kevin-flaherty-executive-wetpaint--b1de3765</td>\n",
              "      <td>https://www.crunchbase.com/job/kevin-flaherty-...</td>\n",
              "      <td>NaN</td>\n",
              "      <td>2007-05-25 07:04:16</td>\n",
              "      <td>2018-02-13 01:32:51</td>\n",
              "      <td>5ceca97b-493c-1446-6249-5aaa33464763</td>\n",
              "      <td>Kevin Flaherty</td>\n",
              "      <td>e1393508-30ea-8a36-3f96-dd3226033abd</td>\n",
              "      <td>Wetpaint</td>\n",
              "      <td>NaN</td>\n",
              "      <td>NaN</td>\n",
              "      <td>False</td>\n",
              "      <td>VP Marketing</td>\n",
              "      <td>executive</td>\n",
              "    </tr>\n",
              "    <tr>\n",
              "      <th>2</th>\n",
              "      <td>1319cd30-f5e8-c700-0af6-64029c6f7124</td>\n",
              "      <td>Raju Vegesna Chief Evangelist @ Zoho</td>\n",
              "      <td>job</td>\n",
              "      <td>raju-vegesna-employee-zoho--1319cd30</td>\n",
              "      <td>https://www.crunchbase.com/job/raju-vegesna-em...</td>\n",
              "      <td>NaN</td>\n",
              "      <td>2007-05-25 19:33:03</td>\n",
              "      <td>2018-02-13 01:19:53</td>\n",
              "      <td>9f99a98a-aa97-b30b-0d36-db67c1d277e0</td>\n",
              "      <td>Raju Vegesna</td>\n",
              "      <td>bf4d7b0e-b34d-2fd8-d292-6049c4f7efc7</td>\n",
              "      <td>Zoho</td>\n",
              "      <td>2000-11-01</td>\n",
              "      <td>NaN</td>\n",
              "      <td>True</td>\n",
              "      <td>Chief Evangelist</td>\n",
              "      <td>employee</td>\n",
              "    </tr>\n",
              "    <tr>\n",
              "      <th>3</th>\n",
              "      <td>27a252de-1ea8-c620-b2d4-5b889fa9b40f</td>\n",
              "      <td>Ian Wenig VP Business Development @ Zoho</td>\n",
              "      <td>job</td>\n",
              "      <td>ian-wenig-executive-zoho--27a252de</td>\n",
              "      <td>https://www.crunchbase.com/job/ian-wenig-execu...</td>\n",
              "      <td>NaN</td>\n",
              "      <td>2007-05-25 19:34:53</td>\n",
              "      <td>2018-02-13 01:21:35</td>\n",
              "      <td>6e1bca72-a865-b518-b305-31214ce2d1b0</td>\n",
              "      <td>Ian Wenig</td>\n",
              "      <td>bf4d7b0e-b34d-2fd8-d292-6049c4f7efc7</td>\n",
              "      <td>Zoho</td>\n",
              "      <td>2006-03-01</td>\n",
              "      <td>NaN</td>\n",
              "      <td>True</td>\n",
              "      <td>VP Business Development</td>\n",
              "      <td>executive</td>\n",
              "    </tr>\n",
              "    <tr>\n",
              "      <th>4</th>\n",
              "      <td>5a802a79-229f-44ae-0aba-db330f10b67a</td>\n",
              "      <td>Jay Adelson CEO @ Digg</td>\n",
              "      <td>job</td>\n",
              "      <td>jay-adelson-executive-digg--5a802a79</td>\n",
              "      <td>https://www.crunchbase.com/job/jay-adelson-exe...</td>\n",
              "      <td>NaN</td>\n",
              "      <td>2007-05-25 20:05:33</td>\n",
              "      <td>2018-02-13 01:25:38</td>\n",
              "      <td>c92a1f00-8c19-bf2e-0f28-dbbd383dc968</td>\n",
              "      <td>Jay Adelson</td>\n",
              "      <td>5f2b40b8-d1b3-d323-d81a-b7a8e89553d0</td>\n",
              "      <td>Digg</td>\n",
              "      <td>2005-07-01</td>\n",
              "      <td>2010-04-05</td>\n",
              "      <td>False</td>\n",
              "      <td>CEO</td>\n",
              "      <td>executive</td>\n",
              "    </tr>\n",
              "  </tbody>\n",
              "</table>\n",
              "</div>"
            ],
            "text/plain": [
              "                                   uuid  ...   job_type\n",
              "0  697b6934-fc1f-9d63-cfb2-1a10759b378e  ...  executive\n",
              "1  b1de3765-442e-b556-9304-551c2a055901  ...  executive\n",
              "2  1319cd30-f5e8-c700-0af6-64029c6f7124  ...   employee\n",
              "3  27a252de-1ea8-c620-b2d4-5b889fa9b40f  ...  executive\n",
              "4  5a802a79-229f-44ae-0aba-db330f10b67a  ...  executive\n",
              "\n",
              "[5 rows x 17 columns]"
            ]
          },
          "metadata": {
            "tags": []
          },
          "execution_count": 17
        }
      ]
    },
    {
      "cell_type": "markdown",
      "metadata": {
        "id": "irkIsBmL19wk",
        "colab_type": "text"
      },
      "source": [
        "## Start poking around a bit with specific companies"
      ]
    },
    {
      "cell_type": "code",
      "metadata": {
        "id": "4kdERHOlOp15",
        "colab_type": "code",
        "colab": {
          "base_uri": "https://localhost:8080/",
          "height": 479
        },
        "outputId": "cd2b7cc4-83c0-430e-8cda-18502289ab18"
      },
      "source": [
        "org = df_dict[\"organizations\"]\n",
        "org[org[\"name\"] == \"Snap\"].head()"
      ],
      "execution_count": null,
      "outputs": [
        {
          "output_type": "execute_result",
          "data": {
            "text/html": [
              "<div>\n",
              "<style scoped>\n",
              "    .dataframe tbody tr th:only-of-type {\n",
              "        vertical-align: middle;\n",
              "    }\n",
              "\n",
              "    .dataframe tbody tr th {\n",
              "        vertical-align: top;\n",
              "    }\n",
              "\n",
              "    .dataframe thead th {\n",
              "        text-align: right;\n",
              "    }\n",
              "</style>\n",
              "<table border=\"1\" class=\"dataframe\">\n",
              "  <thead>\n",
              "    <tr style=\"text-align: right;\">\n",
              "      <th></th>\n",
              "      <th>uuid</th>\n",
              "      <th>name</th>\n",
              "      <th>type</th>\n",
              "      <th>permalink</th>\n",
              "      <th>cb_url</th>\n",
              "      <th>rank</th>\n",
              "      <th>created_at</th>\n",
              "      <th>updated_at</th>\n",
              "      <th>legal_name</th>\n",
              "      <th>roles</th>\n",
              "      <th>domain</th>\n",
              "      <th>homepage_url</th>\n",
              "      <th>country_code</th>\n",
              "      <th>state_code</th>\n",
              "      <th>region</th>\n",
              "      <th>city</th>\n",
              "      <th>address</th>\n",
              "      <th>postal_code</th>\n",
              "      <th>status</th>\n",
              "      <th>short_description</th>\n",
              "      <th>category_list</th>\n",
              "      <th>category_groups_list</th>\n",
              "      <th>num_funding_rounds</th>\n",
              "      <th>total_funding_usd</th>\n",
              "      <th>total_funding</th>\n",
              "      <th>total_funding_currency_code</th>\n",
              "      <th>founded_on</th>\n",
              "      <th>last_funding_on</th>\n",
              "      <th>closed_on</th>\n",
              "      <th>employee_count</th>\n",
              "      <th>email</th>\n",
              "      <th>phone</th>\n",
              "      <th>facebook_url</th>\n",
              "      <th>linkedin_url</th>\n",
              "      <th>twitter_url</th>\n",
              "      <th>logo_url</th>\n",
              "      <th>alias1</th>\n",
              "      <th>alias2</th>\n",
              "      <th>alias3</th>\n",
              "      <th>primary_role</th>\n",
              "      <th>num_exits</th>\n",
              "    </tr>\n",
              "  </thead>\n",
              "  <tbody>\n",
              "    <tr>\n",
              "      <th>206751</th>\n",
              "      <td>e6178a34-5054-6449-8d77-5c28702d0dab</td>\n",
              "      <td>Snap</td>\n",
              "      <td>organization</td>\n",
              "      <td>snapchat</td>\n",
              "      <td>https://www.crunchbase.com/organization/snapchat</td>\n",
              "      <td>10656.0</td>\n",
              "      <td>2014-06-05 23:06:35</td>\n",
              "      <td>2020-07-21 14:47:21</td>\n",
              "      <td>Snap Inc</td>\n",
              "      <td>investor,company</td>\n",
              "      <td>snap.com</td>\n",
              "      <td>https://www.snap.com</td>\n",
              "      <td>USA</td>\n",
              "      <td>CA</td>\n",
              "      <td>California</td>\n",
              "      <td>Venice</td>\n",
              "      <td>63 Market St</td>\n",
              "      <td>90291</td>\n",
              "      <td>ipo</td>\n",
              "      <td>Snap operates as a privately owned multination...</td>\n",
              "      <td>Apps,Messaging,Mobile,Photography</td>\n",
              "      <td>Apps,Content and Publishing,Information Techno...</td>\n",
              "      <td>13.0</td>\n",
              "      <td>4.898985e+09</td>\n",
              "      <td>4.898985e+09</td>\n",
              "      <td>USD</td>\n",
              "      <td>2011-05-01</td>\n",
              "      <td>2018-08-07</td>\n",
              "      <td>NaN</td>\n",
              "      <td>1001-5000</td>\n",
              "      <td>NaN</td>\n",
              "      <td>NaN</td>\n",
              "      <td>https://www.facebook.com/snapincorporated/</td>\n",
              "      <td>https://www.linkedin.com/company/snap-inc-co/</td>\n",
              "      <td>https://twitter.com/snap</td>\n",
              "      <td>https://crunchbase-production-res.cloudinary.c...</td>\n",
              "      <td>Snapchat Inc</td>\n",
              "      <td>Snapchat</td>\n",
              "      <td>NaN</td>\n",
              "      <td>company</td>\n",
              "      <td>NaN</td>\n",
              "    </tr>\n",
              "    <tr>\n",
              "      <th>401948</th>\n",
              "      <td>79103406-08ed-4aba-7d4b-bd238bf56b26</td>\n",
              "      <td>Snap</td>\n",
              "      <td>organization</td>\n",
              "      <td>snap-3</td>\n",
              "      <td>https://www.crunchbase.com/organization/snap-3</td>\n",
              "      <td>16770.0</td>\n",
              "      <td>2016-06-25 12:02:26</td>\n",
              "      <td>2020-05-18 20:57:15</td>\n",
              "      <td>Snap</td>\n",
              "      <td>company</td>\n",
              "      <td>snap.it</td>\n",
              "      <td>http://snap.it/</td>\n",
              "      <td>USA</td>\n",
              "      <td>CA</td>\n",
              "      <td>California</td>\n",
              "      <td>Santa Monica</td>\n",
              "      <td>NaN</td>\n",
              "      <td>NaN</td>\n",
              "      <td>operating</td>\n",
              "      <td>Snap is a camera and a social media company th...</td>\n",
              "      <td>Apps,Mobile Apps,Software</td>\n",
              "      <td>Apps,Mobile,Software</td>\n",
              "      <td>1.0</td>\n",
              "      <td>3.259591e+06</td>\n",
              "      <td>3.000000e+06</td>\n",
              "      <td>EUR</td>\n",
              "      <td>2015-01-01</td>\n",
              "      <td>2016-03-01</td>\n",
              "      <td>NaN</td>\n",
              "      <td>11-50</td>\n",
              "      <td>info@snap.it</td>\n",
              "      <td>NaN</td>\n",
              "      <td>NaN</td>\n",
              "      <td>https://www.linkedin.com/company/snap-it/</td>\n",
              "      <td>NaN</td>\n",
              "      <td>https://crunchbase-production-res.cloudinary.c...</td>\n",
              "      <td>NaN</td>\n",
              "      <td>NaN</td>\n",
              "      <td>NaN</td>\n",
              "      <td>company</td>\n",
              "      <td>NaN</td>\n",
              "    </tr>\n",
              "    <tr>\n",
              "      <th>517524</th>\n",
              "      <td>f2a2d34a-c21c-eab1-2c34-ac7f381d0954</td>\n",
              "      <td>Snap</td>\n",
              "      <td>organization</td>\n",
              "      <td>sn-ap</td>\n",
              "      <td>https://www.crunchbase.com/organization/sn-ap</td>\n",
              "      <td>11250.0</td>\n",
              "      <td>2017-09-11 08:48:45</td>\n",
              "      <td>2020-06-16 12:09:08</td>\n",
              "      <td>Snap Travel Technology Ltd</td>\n",
              "      <td>company</td>\n",
              "      <td>getasnap.com</td>\n",
              "      <td>https://www.getasnap.com/</td>\n",
              "      <td>GBR</td>\n",
              "      <td>NaN</td>\n",
              "      <td>Waltham Forest</td>\n",
              "      <td>Walthamstow</td>\n",
              "      <td>1-4 Hatherley Mews</td>\n",
              "      <td>E17 4QP</td>\n",
              "      <td>operating</td>\n",
              "      <td>Snap is a technology marketplace that aggregat...</td>\n",
              "      <td>Leisure,Tourism,Travel</td>\n",
              "      <td>Community and Lifestyle,Travel and Tourism</td>\n",
              "      <td>2.0</td>\n",
              "      <td>7.248334e+06</td>\n",
              "      <td>5.400000e+06</td>\n",
              "      <td>GBP</td>\n",
              "      <td>2016-01-01</td>\n",
              "      <td>2018-05-03</td>\n",
              "      <td>NaN</td>\n",
              "      <td>11-50</td>\n",
              "      <td>helpteam@getasnap.com</td>\n",
              "      <td>020 8088 2475</td>\n",
              "      <td>https://www.facebook.com/SnapTravelTech/</td>\n",
              "      <td>https://www.linkedin.com/company/10999909/</td>\n",
              "      <td>https://twitter.com/SnapTravelTech</td>\n",
              "      <td>https://crunchbase-production-res.cloudinary.c...</td>\n",
              "      <td>NaN</td>\n",
              "      <td>NaN</td>\n",
              "      <td>NaN</td>\n",
              "      <td>company</td>\n",
              "      <td>NaN</td>\n",
              "    </tr>\n",
              "    <tr>\n",
              "      <th>1018461</th>\n",
              "      <td>e46f9e8c-17a4-4b93-9d18-3b54e805c71a</td>\n",
              "      <td>Snap</td>\n",
              "      <td>organization</td>\n",
              "      <td>snap-c71a</td>\n",
              "      <td>https://www.crunchbase.com/organization/snap-c71a</td>\n",
              "      <td>867217.0</td>\n",
              "      <td>2020-05-07 05:21:03</td>\n",
              "      <td>2020-05-07 05:21:03</td>\n",
              "      <td>NaN</td>\n",
              "      <td>company</td>\n",
              "      <td>snapbv.nl</td>\n",
              "      <td>http://www.snapbv.nl/</td>\n",
              "      <td>NLD</td>\n",
              "      <td>NaN</td>\n",
              "      <td>Zeeland</td>\n",
              "      <td>Sluis</td>\n",
              "      <td>NaN</td>\n",
              "      <td>NaN</td>\n",
              "      <td>operating</td>\n",
              "      <td>Snap bv is a media and communication agency th...</td>\n",
              "      <td>Advertising,Brand Marketing,Digital Media</td>\n",
              "      <td>Advertising,Media and Entertainment,Sales and ...</td>\n",
              "      <td>NaN</td>\n",
              "      <td>NaN</td>\n",
              "      <td>NaN</td>\n",
              "      <td>NaN</td>\n",
              "      <td>NaN</td>\n",
              "      <td>NaN</td>\n",
              "      <td>NaN</td>\n",
              "      <td>unknown</td>\n",
              "      <td>info@snapbv.nl</td>\n",
              "      <td>31117420970</td>\n",
              "      <td>NaN</td>\n",
              "      <td>NaN</td>\n",
              "      <td>NaN</td>\n",
              "      <td>https://crunchbase-production-res.cloudinary.c...</td>\n",
              "      <td>NaN</td>\n",
              "      <td>NaN</td>\n",
              "      <td>NaN</td>\n",
              "      <td>company</td>\n",
              "      <td>NaN</td>\n",
              "    </tr>\n",
              "    <tr>\n",
              "      <th>1080718</th>\n",
              "      <td>cfc67bb0-118e-403c-82fa-0249236fbefd</td>\n",
              "      <td>Snap</td>\n",
              "      <td>organization</td>\n",
              "      <td>snap-befd</td>\n",
              "      <td>https://www.crunchbase.com/organization/snap-befd</td>\n",
              "      <td>1056555.0</td>\n",
              "      <td>2020-07-17 01:05:35</td>\n",
              "      <td>2020-07-17 01:05:35</td>\n",
              "      <td>NaN</td>\n",
              "      <td>company</td>\n",
              "      <td>snap.pt</td>\n",
              "      <td>http://www.snap.pt</td>\n",
              "      <td>PRT</td>\n",
              "      <td>NaN</td>\n",
              "      <td>Lisboa</td>\n",
              "      <td>Porto</td>\n",
              "      <td>NaN</td>\n",
              "      <td>NaN</td>\n",
              "      <td>operating</td>\n",
              "      <td>Snap is a creative advertising agency that pro...</td>\n",
              "      <td>Advertising,Graphic Design,Web Design</td>\n",
              "      <td>Advertising,Design,Sales and Marketing</td>\n",
              "      <td>NaN</td>\n",
              "      <td>NaN</td>\n",
              "      <td>NaN</td>\n",
              "      <td>NaN</td>\n",
              "      <td>2011-09-01</td>\n",
              "      <td>NaN</td>\n",
              "      <td>NaN</td>\n",
              "      <td>1-10</td>\n",
              "      <td>hello@snap.pt</td>\n",
              "      <td>351-224014676</td>\n",
              "      <td>NaN</td>\n",
              "      <td>NaN</td>\n",
              "      <td>NaN</td>\n",
              "      <td>https://crunchbase-production-res.cloudinary.c...</td>\n",
              "      <td>NaN</td>\n",
              "      <td>NaN</td>\n",
              "      <td>NaN</td>\n",
              "      <td>company</td>\n",
              "      <td>NaN</td>\n",
              "    </tr>\n",
              "  </tbody>\n",
              "</table>\n",
              "</div>"
            ],
            "text/plain": [
              "                                         uuid  name  ... primary_role num_exits\n",
              "206751   e6178a34-5054-6449-8d77-5c28702d0dab  Snap  ...      company       NaN\n",
              "401948   79103406-08ed-4aba-7d4b-bd238bf56b26  Snap  ...      company       NaN\n",
              "517524   f2a2d34a-c21c-eab1-2c34-ac7f381d0954  Snap  ...      company       NaN\n",
              "1018461  e46f9e8c-17a4-4b93-9d18-3b54e805c71a  Snap  ...      company       NaN\n",
              "1080718  cfc67bb0-118e-403c-82fa-0249236fbefd  Snap  ...      company       NaN\n",
              "\n",
              "[5 rows x 41 columns]"
            ]
          },
          "metadata": {
            "tags": []
          },
          "execution_count": 7
        }
      ]
    },
    {
      "cell_type": "code",
      "metadata": {
        "id": "F8SWLTkx19wl",
        "colab_type": "code",
        "colab": {}
      },
      "source": [
        "org_uuid = 'e6178a34-5054-6449-8d77-5c28702d0dab'  # Snap"
      ],
      "execution_count": null,
      "outputs": []
    },
    {
      "cell_type": "code",
      "metadata": {
        "id": "P6xJHYtW19wm",
        "colab_type": "code",
        "colab": {
          "base_uri": "https://localhost:8080/",
          "height": 462
        },
        "outputId": "98fa8084-6d0d-4544-caa9-0793ce247722"
      },
      "source": [
        "# people belonging to a company\n",
        "\n",
        "df_dict[\"people\"][df_dict[\"people\"][\"featured_job_organization_uuid\"]==org_uuid].head()"
      ],
      "execution_count": null,
      "outputs": [
        {
          "output_type": "execute_result",
          "data": {
            "text/html": [
              "<div>\n",
              "<style scoped>\n",
              "    .dataframe tbody tr th:only-of-type {\n",
              "        vertical-align: middle;\n",
              "    }\n",
              "\n",
              "    .dataframe tbody tr th {\n",
              "        vertical-align: top;\n",
              "    }\n",
              "\n",
              "    .dataframe thead th {\n",
              "        text-align: right;\n",
              "    }\n",
              "</style>\n",
              "<table border=\"1\" class=\"dataframe\">\n",
              "  <thead>\n",
              "    <tr style=\"text-align: right;\">\n",
              "      <th></th>\n",
              "      <th>uuid</th>\n",
              "      <th>name</th>\n",
              "      <th>type</th>\n",
              "      <th>permalink</th>\n",
              "      <th>cb_url</th>\n",
              "      <th>rank</th>\n",
              "      <th>created_at</th>\n",
              "      <th>updated_at</th>\n",
              "      <th>first_name</th>\n",
              "      <th>last_name</th>\n",
              "      <th>gender</th>\n",
              "      <th>country_code</th>\n",
              "      <th>state_code</th>\n",
              "      <th>region</th>\n",
              "      <th>city</th>\n",
              "      <th>featured_job_organization_uuid</th>\n",
              "      <th>featured_job_organization_name</th>\n",
              "      <th>featured_job_title</th>\n",
              "      <th>facebook_url</th>\n",
              "      <th>linkedin_url</th>\n",
              "      <th>twitter_url</th>\n",
              "      <th>logo_url</th>\n",
              "    </tr>\n",
              "  </thead>\n",
              "  <tbody>\n",
              "    <tr>\n",
              "      <th>8592</th>\n",
              "      <td>737134e3-7c0a-ca9a-6cda-13898daed3a5</td>\n",
              "      <td>Michael Lynton</td>\n",
              "      <td>person</td>\n",
              "      <td>michael-lynton</td>\n",
              "      <td>https://www.crunchbase.com/person/michael-lynton</td>\n",
              "      <td>3818.0</td>\n",
              "      <td>2008-05-15 02:35:43</td>\n",
              "      <td>2018-02-12 23:28:49</td>\n",
              "      <td>Michael</td>\n",
              "      <td>Lynton</td>\n",
              "      <td>male</td>\n",
              "      <td>USA</td>\n",
              "      <td>CA</td>\n",
              "      <td>California</td>\n",
              "      <td>Los Angeles</td>\n",
              "      <td>e6178a34-5054-6449-8d77-5c28702d0dab</td>\n",
              "      <td>Snap</td>\n",
              "      <td>Chairman</td>\n",
              "      <td>NaN</td>\n",
              "      <td>http://www.linkedin.com/pub/michael-lynton/11/...</td>\n",
              "      <td>NaN</td>\n",
              "      <td>https://crunchbase-production-res.cloudinary.c...</td>\n",
              "    </tr>\n",
              "    <tr>\n",
              "      <th>20272</th>\n",
              "      <td>acf7377c-35e7-98c8-674f-f073e2f223ae</td>\n",
              "      <td>Scott Forstall</td>\n",
              "      <td>person</td>\n",
              "      <td>scott-forstall</td>\n",
              "      <td>https://www.crunchbase.com/person/scott-forstall</td>\n",
              "      <td>8524.0</td>\n",
              "      <td>2008-12-10 07:10:47</td>\n",
              "      <td>2018-02-12 23:35:14</td>\n",
              "      <td>Scott</td>\n",
              "      <td>Forstall</td>\n",
              "      <td>male</td>\n",
              "      <td>USA</td>\n",
              "      <td>NY</td>\n",
              "      <td>New York</td>\n",
              "      <td>New York</td>\n",
              "      <td>e6178a34-5054-6449-8d77-5c28702d0dab</td>\n",
              "      <td>Snap</td>\n",
              "      <td>Advisor</td>\n",
              "      <td>NaN</td>\n",
              "      <td>NaN</td>\n",
              "      <td>http://twitter.com/forstall</td>\n",
              "      <td>https://crunchbase-production-res.cloudinary.c...</td>\n",
              "    </tr>\n",
              "    <tr>\n",
              "      <th>80546</th>\n",
              "      <td>e190f759-fd9f-9bfd-874d-576ab43bc0ce</td>\n",
              "      <td>Evan Spiegel</td>\n",
              "      <td>person</td>\n",
              "      <td>evan-spiegel</td>\n",
              "      <td>https://www.crunchbase.com/person/evan-spiegel</td>\n",
              "      <td>132.0</td>\n",
              "      <td>2011-06-28 06:23:43</td>\n",
              "      <td>2019-04-15 18:12:46</td>\n",
              "      <td>Evan</td>\n",
              "      <td>Spiegel</td>\n",
              "      <td>male</td>\n",
              "      <td>USA</td>\n",
              "      <td>CA</td>\n",
              "      <td>California</td>\n",
              "      <td>Venice</td>\n",
              "      <td>e6178a34-5054-6449-8d77-5c28702d0dab</td>\n",
              "      <td>Snap</td>\n",
              "      <td>Co-Founder and CEO</td>\n",
              "      <td>NaN</td>\n",
              "      <td>NaN</td>\n",
              "      <td>http://twitter.com/evanspiegel</td>\n",
              "      <td>https://crunchbase-production-res.cloudinary.c...</td>\n",
              "    </tr>\n",
              "    <tr>\n",
              "      <th>80547</th>\n",
              "      <td>dbb9b967-7c5f-1990-745f-60c0c9ae9032</td>\n",
              "      <td>Reggie Brown</td>\n",
              "      <td>person</td>\n",
              "      <td>reggie-brown</td>\n",
              "      <td>https://www.crunchbase.com/person/reggie-brown</td>\n",
              "      <td>1109.0</td>\n",
              "      <td>2011-06-28 06:23:43</td>\n",
              "      <td>2018-02-12 23:43:04</td>\n",
              "      <td>Reggie</td>\n",
              "      <td>Brown</td>\n",
              "      <td>male</td>\n",
              "      <td>USA</td>\n",
              "      <td>CA</td>\n",
              "      <td>California</td>\n",
              "      <td>Venice</td>\n",
              "      <td>e6178a34-5054-6449-8d77-5c28702d0dab</td>\n",
              "      <td>Snap</td>\n",
              "      <td>Co-Founder</td>\n",
              "      <td>NaN</td>\n",
              "      <td>NaN</td>\n",
              "      <td>NaN</td>\n",
              "      <td>https://crunchbase-production-res.cloudinary.c...</td>\n",
              "    </tr>\n",
              "    <tr>\n",
              "      <th>80548</th>\n",
              "      <td>8532a0de-a0bf-11e4-114b-06b8a23a65af</td>\n",
              "      <td>Bobby Murphy</td>\n",
              "      <td>person</td>\n",
              "      <td>bobby-murphy</td>\n",
              "      <td>https://www.crunchbase.com/person/bobby-murphy</td>\n",
              "      <td>780.0</td>\n",
              "      <td>2011-06-28 06:23:43</td>\n",
              "      <td>2018-11-28 00:49:37</td>\n",
              "      <td>Bobby</td>\n",
              "      <td>Murphy</td>\n",
              "      <td>male</td>\n",
              "      <td>USA</td>\n",
              "      <td>CA</td>\n",
              "      <td>California</td>\n",
              "      <td>Venice</td>\n",
              "      <td>e6178a34-5054-6449-8d77-5c28702d0dab</td>\n",
              "      <td>Snap</td>\n",
              "      <td>Co-Founder &amp; Chief Technology Officer</td>\n",
              "      <td>NaN</td>\n",
              "      <td>https://www.linkedin.com/in/bobby-murphy-558927b4</td>\n",
              "      <td>http://twitter.com/hellobobby</td>\n",
              "      <td>https://crunchbase-production-res.cloudinary.c...</td>\n",
              "    </tr>\n",
              "  </tbody>\n",
              "</table>\n",
              "</div>"
            ],
            "text/plain": [
              "                                       uuid  ...                                           logo_url\n",
              "8592   737134e3-7c0a-ca9a-6cda-13898daed3a5  ...  https://crunchbase-production-res.cloudinary.c...\n",
              "20272  acf7377c-35e7-98c8-674f-f073e2f223ae  ...  https://crunchbase-production-res.cloudinary.c...\n",
              "80546  e190f759-fd9f-9bfd-874d-576ab43bc0ce  ...  https://crunchbase-production-res.cloudinary.c...\n",
              "80547  dbb9b967-7c5f-1990-745f-60c0c9ae9032  ...  https://crunchbase-production-res.cloudinary.c...\n",
              "80548  8532a0de-a0bf-11e4-114b-06b8a23a65af  ...  https://crunchbase-production-res.cloudinary.c...\n",
              "\n",
              "[5 rows x 22 columns]"
            ]
          },
          "metadata": {
            "tags": []
          },
          "execution_count": 62
        }
      ]
    },
    {
      "cell_type": "code",
      "metadata": {
        "id": "fvKAq-1C19wq",
        "colab_type": "code",
        "colab": {
          "base_uri": "https://localhost:8080/",
          "height": 510
        },
        "outputId": "c93e09cc-ddd4-4ebb-b320-154351560dda"
      },
      "source": [
        "# filter jobs for founders\n",
        "\n",
        "jobs_df = df_dict[\"jobs\"]\n",
        "jobs_founders = jobs_df[jobs_df.apply(lambda row: row[\"title\"].lower().find(\"found\") > -1 if isinstance(row[\"title\"], str) else False, axis=1)]\n",
        "org_and_founder_uuid = jobs_founders[[\"org_uuid\", \"person_uuid\"]]\n",
        "founders_uuids = jobs_founders.person_uuid.unique()\n",
        "\n",
        "people_df = df_dict[\"people\"]\n",
        "org_founders = people_df.loc[people_df[\"uuid\"].isin(founders_uuids)].set_index(\"uuid\")\n",
        "org_founders.head()"
      ],
      "execution_count": null,
      "outputs": [
        {
          "output_type": "execute_result",
          "data": {
            "text/html": [
              "<div>\n",
              "<style scoped>\n",
              "    .dataframe tbody tr th:only-of-type {\n",
              "        vertical-align: middle;\n",
              "    }\n",
              "\n",
              "    .dataframe tbody tr th {\n",
              "        vertical-align: top;\n",
              "    }\n",
              "\n",
              "    .dataframe thead th {\n",
              "        text-align: right;\n",
              "    }\n",
              "</style>\n",
              "<table border=\"1\" class=\"dataframe\">\n",
              "  <thead>\n",
              "    <tr style=\"text-align: right;\">\n",
              "      <th></th>\n",
              "      <th>name</th>\n",
              "      <th>type</th>\n",
              "      <th>permalink</th>\n",
              "      <th>cb_url</th>\n",
              "      <th>rank</th>\n",
              "      <th>created_at</th>\n",
              "      <th>updated_at</th>\n",
              "      <th>first_name</th>\n",
              "      <th>last_name</th>\n",
              "      <th>gender</th>\n",
              "      <th>country_code</th>\n",
              "      <th>state_code</th>\n",
              "      <th>region</th>\n",
              "      <th>city</th>\n",
              "      <th>featured_job_organization_uuid</th>\n",
              "      <th>featured_job_organization_name</th>\n",
              "      <th>featured_job_title</th>\n",
              "      <th>facebook_url</th>\n",
              "      <th>linkedin_url</th>\n",
              "      <th>twitter_url</th>\n",
              "      <th>logo_url</th>\n",
              "    </tr>\n",
              "    <tr>\n",
              "      <th>uuid</th>\n",
              "      <th></th>\n",
              "      <th></th>\n",
              "      <th></th>\n",
              "      <th></th>\n",
              "      <th></th>\n",
              "      <th></th>\n",
              "      <th></th>\n",
              "      <th></th>\n",
              "      <th></th>\n",
              "      <th></th>\n",
              "      <th></th>\n",
              "      <th></th>\n",
              "      <th></th>\n",
              "      <th></th>\n",
              "      <th></th>\n",
              "      <th></th>\n",
              "      <th></th>\n",
              "      <th></th>\n",
              "      <th></th>\n",
              "      <th></th>\n",
              "      <th></th>\n",
              "    </tr>\n",
              "  </thead>\n",
              "  <tbody>\n",
              "    <tr>\n",
              "      <th>ed13cd36-fe2b-3707-197b-0c2d56e37a71</th>\n",
              "      <td>Ben Elowitz</td>\n",
              "      <td>person</td>\n",
              "      <td>ben-elowitz</td>\n",
              "      <td>https://www.crunchbase.com/person/ben-elowitz</td>\n",
              "      <td>20738.0</td>\n",
              "      <td>2007-05-25 14:03:54</td>\n",
              "      <td>2020-02-21 05:19:55</td>\n",
              "      <td>Ben</td>\n",
              "      <td>Elowitz</td>\n",
              "      <td>male</td>\n",
              "      <td>USA</td>\n",
              "      <td>WA</td>\n",
              "      <td>Washington</td>\n",
              "      <td>Seattle</td>\n",
              "      <td>cf253887-5eac-21a2-28d3-47db7311f7e9</td>\n",
              "      <td>Madrona Venture Group</td>\n",
              "      <td>Managing Director</td>\n",
              "      <td>http://www.facebook.com/elowitz</td>\n",
              "      <td>https://www.linkedin.com/in/elowitz/</td>\n",
              "      <td>http://twitter.com/elowitz</td>\n",
              "      <td>https://crunchbase-production-res.cloudinary.c...</td>\n",
              "    </tr>\n",
              "    <tr>\n",
              "      <th>80d25c23-9726-9dda-5852-39cdf4810ea5</th>\n",
              "      <td>Ron Gorodetzky</td>\n",
              "      <td>person</td>\n",
              "      <td>ron-gorodetzky</td>\n",
              "      <td>https://www.crunchbase.com/person/ron-gorodetzky</td>\n",
              "      <td>91964.0</td>\n",
              "      <td>2007-05-26 03:07:50</td>\n",
              "      <td>2018-02-12 23:42:44</td>\n",
              "      <td>Ron</td>\n",
              "      <td>Gorodetzky</td>\n",
              "      <td>male</td>\n",
              "      <td>NaN</td>\n",
              "      <td>NaN</td>\n",
              "      <td>NaN</td>\n",
              "      <td>NaN</td>\n",
              "      <td>aa3bf156-06af-5b6e-215d-9e7211fc173b</td>\n",
              "      <td>fflick</td>\n",
              "      <td>Co-Founder and CTO</td>\n",
              "      <td>NaN</td>\n",
              "      <td>https://twitter.com/ronwinbeta</td>\n",
              "      <td>NaN</td>\n",
              "      <td>https://crunchbase-production-res.cloudinary.c...</td>\n",
              "    </tr>\n",
              "    <tr>\n",
              "      <th>a01b8d46-d311-3333-7c34-aa3ae9c03f22</th>\n",
              "      <td>Mark Zuckerberg</td>\n",
              "      <td>person</td>\n",
              "      <td>mark-zuckerberg</td>\n",
              "      <td>https://www.crunchbase.com/person/mark-zuckerberg</td>\n",
              "      <td>59.0</td>\n",
              "      <td>2007-05-26 04:51:46</td>\n",
              "      <td>2018-12-13 14:05:34</td>\n",
              "      <td>Mark</td>\n",
              "      <td>Zuckerberg</td>\n",
              "      <td>male</td>\n",
              "      <td>USA</td>\n",
              "      <td>CA</td>\n",
              "      <td>California</td>\n",
              "      <td>Palo Alto</td>\n",
              "      <td>df662812-7f97-0b43-9d3e-12f64f504fbb</td>\n",
              "      <td>Facebook</td>\n",
              "      <td>Founder &amp; CEO</td>\n",
              "      <td>https://www.facebook.com/zuck</td>\n",
              "      <td>NaN</td>\n",
              "      <td>https://twitter.com/finkd</td>\n",
              "      <td>https://crunchbase-production-res.cloudinary.c...</td>\n",
              "    </tr>\n",
              "    <tr>\n",
              "      <th>084aaa07-0795-1fe8-9c46-98bbeb02cd64</th>\n",
              "      <td>Dustin Moskovitz</td>\n",
              "      <td>person</td>\n",
              "      <td>dustin-moskovitz</td>\n",
              "      <td>https://www.crunchbase.com/person/dustin-mosko...</td>\n",
              "      <td>506.0</td>\n",
              "      <td>2007-05-26 05:15:05</td>\n",
              "      <td>2019-06-07 20:29:51</td>\n",
              "      <td>Dustin</td>\n",
              "      <td>Moskovitz</td>\n",
              "      <td>male</td>\n",
              "      <td>USA</td>\n",
              "      <td>CA</td>\n",
              "      <td>California</td>\n",
              "      <td>San Francisco</td>\n",
              "      <td>c2d47d05-9e78-de77-084c-dd5171251ff1</td>\n",
              "      <td>Asana</td>\n",
              "      <td>Co-Founder</td>\n",
              "      <td>http://www.facebook.com/moskov</td>\n",
              "      <td>https://www.linkedin.com/in/dmoskov</td>\n",
              "      <td>http://twitter.com/moskov</td>\n",
              "      <td>https://crunchbase-production-res.cloudinary.c...</td>\n",
              "    </tr>\n",
              "    <tr>\n",
              "      <th>d3ae96f0-4442-720f-1ec2-fc28eac94e53</th>\n",
              "      <td>Owen Van Natta</td>\n",
              "      <td>person</td>\n",
              "      <td>owen-van-natta</td>\n",
              "      <td>https://www.crunchbase.com/person/owen-van-natta</td>\n",
              "      <td>2161.0</td>\n",
              "      <td>2007-05-26 05:15:59</td>\n",
              "      <td>2019-08-30 06:14:27</td>\n",
              "      <td>Owen</td>\n",
              "      <td>Van Natta</td>\n",
              "      <td>male</td>\n",
              "      <td>USA</td>\n",
              "      <td>CA</td>\n",
              "      <td>California</td>\n",
              "      <td>San Francisco</td>\n",
              "      <td>e486ad63-e064-ce03-b644-a2ecd9dcc355</td>\n",
              "      <td>415</td>\n",
              "      <td>Founder and Managing Partner</td>\n",
              "      <td>NaN</td>\n",
              "      <td>https://www.linkedin.com/in/owen-van-natta-444a7/</td>\n",
              "      <td>NaN</td>\n",
              "      <td>https://crunchbase-production-res.cloudinary.c...</td>\n",
              "    </tr>\n",
              "  </tbody>\n",
              "</table>\n",
              "</div>"
            ],
            "text/plain": [
              "                                                  name  ...                                           logo_url\n",
              "uuid                                                    ...                                                   \n",
              "ed13cd36-fe2b-3707-197b-0c2d56e37a71       Ben Elowitz  ...  https://crunchbase-production-res.cloudinary.c...\n",
              "80d25c23-9726-9dda-5852-39cdf4810ea5    Ron Gorodetzky  ...  https://crunchbase-production-res.cloudinary.c...\n",
              "a01b8d46-d311-3333-7c34-aa3ae9c03f22   Mark Zuckerberg  ...  https://crunchbase-production-res.cloudinary.c...\n",
              "084aaa07-0795-1fe8-9c46-98bbeb02cd64  Dustin Moskovitz  ...  https://crunchbase-production-res.cloudinary.c...\n",
              "d3ae96f0-4442-720f-1ec2-fc28eac94e53    Owen Van Natta  ...  https://crunchbase-production-res.cloudinary.c...\n",
              "\n",
              "[5 rows x 21 columns]"
            ]
          },
          "metadata": {
            "tags": []
          },
          "execution_count": 73
        }
      ]
    },
    {
      "cell_type": "code",
      "metadata": {
        "id": "Zm-WdlTse1ND",
        "colab_type": "code",
        "colab": {
          "base_uri": "https://localhost:8080/",
          "height": 1000
        },
        "outputId": "30ab36dd-07a3-4406-f42a-ee03011d08d4"
      },
      "source": [
        "# map degree_type -> degree_type_ordinal and save as separate column to degrees df\n",
        "\n",
        "import string\n",
        "\n",
        "sub_bachelors_types = [\"aa\", \"as\", \"certificate\", \"school\", \"diploma\", \"dropped out\", \"degree\", \"license\", \"general course\", \"associates\", \"aas\", \"diplom\", \"high school\", \"associate\"]\n",
        "bachelors_types = [\"ba\", \"electrical engineering\", \"ab\", \"bs\", \"bfa\", \"llb\", \"be\", \"mbbs\", \"bsc hons\", \"college\", \"engineers degree\", \"bas\", \"b sc\", \"bc\", \"bca\", \"bmath\", \"barch\", \"bsj\", \"engineering\", \"engineer\", \"bachleor\", \"bechelors degree\", \"finance\", \"scb\", \"sm\", \"bdes\", \"bsba\", \"bec\", \"ba hons\", \"ca\", \"bgs\", \"bse\", \"economics\", \"business\", \"b tech\", \"computer science\", \"bmus\", \"bcomm\", \"jba\", \"bha\", \"bit\", \"bis\", \"bec\", \"bsce\", \"bgs\", \"bbm\", \"bmed\", \"bsee\", \"b eng\", \"btech\", \"beng\", \"bcom\", \"sb\", \"bs engineering\", \"basc\", \"bsc\", \"hba\", \"barts\", \"bba\", \"bsme\", \"bba\", \"bbs\", \"ba first class\", \"bm\", \"becon\", \"baa\", \"bsfs\", \"bbus\"]\n",
        "masters_types = [\"ms\", \"ma\", \"mba\", \"mha\", \"msci\", \"executive program\", \"cfa\", \"mms\", \"mscs\", \"marketing\", \"management\", \"entrepreneurship\", \"mpa\", \"mps\", \"mdiv\", \"emba\", \"mtech\", \"cpa\", \"executive education\", \"business administration\", \"international mba\", \"dea\", \"business management\", \"law\", \"mcs\", \"mse\", \"mm\", \"meng\", \"me\", \"med\", \"m sc\", \"mims\", \"mst\", \"mid\", \"mph\", \"mbamph\", \"mcom\", \"pgdm\", \"mia\", \"mpp\", \"msee\", \"bama\", \"bsms engineering\", \"mphil\", \"mea\", \"mca\", \"msc\", \"ms studies\", \"mmath\", \"mfa\", \"executive mba\"]\n",
        "doctorate_types = [\"phd\", \"jd\", \"dr\", \"md\", \"mdphd\", \"llm\", \"do\", \"scd\", \"engd\", \"ph d\", \"dphil\", \"residency\", \"dds\", \"postdoc\", \"fellowship\"]\n",
        "\n",
        "def map_degree_type(degree_type):\n",
        "  if degree_type is None or not isinstance(degree_type, str):\n",
        "    return None\n",
        "  type_lower = degree_type.lower()\n",
        "  type_cleaned = type_lower.translate(str.maketrans('', '', string.punctuation)).strip()\n",
        "  if (type_cleaned in sub_bachelors_types) or type_cleaned.find(\"certificat\") > -1 or type_cleaned.find(\"associ\") > -1:\n",
        "    return 0\n",
        "  if (type_cleaned in bachelors_types) or type_cleaned.find(\"bachelor\") > -1:\n",
        "    return 1\n",
        "  if (type_cleaned in masters_types) or type_cleaned.find(\"master\") > -1 or type_lower.find(\"m.\") == 0 or type_cleaned.find(\"grad\") > -1:\n",
        "    return 2\n",
        "  if (type_cleaned in doctorate_types) or type_cleaned.find(\"doctor\") > -1:\n",
        "    return 3\n",
        "  return -1\n",
        "\n",
        "df = df_dict[\"degrees\"]\n",
        "df[\"degree_type_ordinal\"] = df.apply(lambda row: map_degree_type(row[\"degree_type\"]), axis=1)\n",
        "df.hist(column=\"degree_type_ordinal\")\n",
        "print((df[df[\"degree_type_ordinal\"] == -1]).degree_type.value_counts()[:10])\n",
        "print(df[[\"degree_type\", \"degree_type_ordinal\"]][:10])\n",
        "\n",
        "df.head()"
      ],
      "execution_count": null,
      "outputs": [
        {
          "output_type": "stream",
          "text": [
            "unknown                 32396\n",
            "Unknown                   576\n",
            "Specialist                 58\n",
            "Computer Engineering       56\n",
            "Specialization             49\n",
            "Chartered Accountant       49\n",
            "AMP                        48\n",
            "Honors                     46\n",
            "Law Degree                 46\n",
            "None                       46\n",
            "Name: degree_type, dtype: int64\n",
            "           degree_type  degree_type_ordinal\n",
            "0                   MS                  2.0\n",
            "1                   BA                  1.0\n",
            "2                   MS                  2.0\n",
            "3                   BS                  1.0\n",
            "4                   BS                  1.0\n",
            "5                   BA                  1.0\n",
            "6  Bachelor of Science                  1.0\n",
            "7              unknown                 -1.0\n",
            "8                 M.A.                  2.0\n",
            "9                 LL.B                  1.0\n"
          ],
          "name": "stdout"
        },
        {
          "output_type": "execute_result",
          "data": {
            "text/html": [
              "<div>\n",
              "<style scoped>\n",
              "    .dataframe tbody tr th:only-of-type {\n",
              "        vertical-align: middle;\n",
              "    }\n",
              "\n",
              "    .dataframe tbody tr th {\n",
              "        vertical-align: top;\n",
              "    }\n",
              "\n",
              "    .dataframe thead th {\n",
              "        text-align: right;\n",
              "    }\n",
              "</style>\n",
              "<table border=\"1\" class=\"dataframe\">\n",
              "  <thead>\n",
              "    <tr style=\"text-align: right;\">\n",
              "      <th></th>\n",
              "      <th>uuid</th>\n",
              "      <th>name</th>\n",
              "      <th>type</th>\n",
              "      <th>permalink</th>\n",
              "      <th>cb_url</th>\n",
              "      <th>rank</th>\n",
              "      <th>created_at</th>\n",
              "      <th>updated_at</th>\n",
              "      <th>person_uuid</th>\n",
              "      <th>person_name</th>\n",
              "      <th>institution_uuid</th>\n",
              "      <th>institution_name</th>\n",
              "      <th>degree_type</th>\n",
              "      <th>subject</th>\n",
              "      <th>started_on</th>\n",
              "      <th>completed_on</th>\n",
              "      <th>is_completed</th>\n",
              "      <th>degree_type_ordinal</th>\n",
              "    </tr>\n",
              "  </thead>\n",
              "  <tbody>\n",
              "    <tr>\n",
              "      <th>0</th>\n",
              "      <td>205fdfd1-ecac-aa43-262f-219f11755f67</td>\n",
              "      <td>MS  Mass Communication @ Boston University</td>\n",
              "      <td>degree</td>\n",
              "      <td>NaN</td>\n",
              "      <td>NaN</td>\n",
              "      <td>NaN</td>\n",
              "      <td>2008-02-19 17:58:31</td>\n",
              "      <td>2018-02-13 01:40:03</td>\n",
              "      <td>4897dba9-3141-ecc0-2c4b-c9d844e6440f</td>\n",
              "      <td>John Green</td>\n",
              "      <td>1eab62d2-15d9-0db7-930f-2aa77d4688e1</td>\n",
              "      <td>Boston University</td>\n",
              "      <td>MS</td>\n",
              "      <td>Mass Communication</td>\n",
              "      <td>NaN</td>\n",
              "      <td>1992-01-01</td>\n",
              "      <td>True</td>\n",
              "      <td>2.0</td>\n",
              "    </tr>\n",
              "    <tr>\n",
              "      <th>1</th>\n",
              "      <td>1a2ac288-eb99-3318-fde5-1517bc168f51</td>\n",
              "      <td>BA  English, French @ Washington University in...</td>\n",
              "      <td>degree</td>\n",
              "      <td>NaN</td>\n",
              "      <td>NaN</td>\n",
              "      <td>NaN</td>\n",
              "      <td>2008-02-19 17:58:31</td>\n",
              "      <td>2018-02-13 01:39:57</td>\n",
              "      <td>4897dba9-3141-ecc0-2c4b-c9d844e6440f</td>\n",
              "      <td>John Green</td>\n",
              "      <td>6ae9957a-8fb4-0ab1-73fa-dd547c4d3da4</td>\n",
              "      <td>Washington University in St. Louis</td>\n",
              "      <td>BA</td>\n",
              "      <td>English, French</td>\n",
              "      <td>NaN</td>\n",
              "      <td>1990-01-01</td>\n",
              "      <td>True</td>\n",
              "      <td>1.0</td>\n",
              "    </tr>\n",
              "    <tr>\n",
              "      <th>2</th>\n",
              "      <td>b978d338-7ccc-7469-5ce7-ef98c34155ad</td>\n",
              "      <td>MS  Internet Technology @ University of Greenwich</td>\n",
              "      <td>degree</td>\n",
              "      <td>NaN</td>\n",
              "      <td>NaN</td>\n",
              "      <td>NaN</td>\n",
              "      <td>2008-02-19 23:40:40</td>\n",
              "      <td>2018-02-13 01:43:09</td>\n",
              "      <td>7d187b77-94f7-e6cc-6981-d7468db5968f</td>\n",
              "      <td>Sridhar Gundaiah</td>\n",
              "      <td>b5ea73f6-12a3-576d-ae9b-f4169147f974</td>\n",
              "      <td>University of Greenwich</td>\n",
              "      <td>MS</td>\n",
              "      <td>Internet Technology</td>\n",
              "      <td>NaN</td>\n",
              "      <td>2006-01-01</td>\n",
              "      <td>True</td>\n",
              "      <td>2.0</td>\n",
              "    </tr>\n",
              "    <tr>\n",
              "      <th>3</th>\n",
              "      <td>d01cfaad-0ccc-631e-0382-1e507bf6ba04</td>\n",
              "      <td>BS  Computer Science @ Northeastern University</td>\n",
              "      <td>degree</td>\n",
              "      <td>NaN</td>\n",
              "      <td>NaN</td>\n",
              "      <td>NaN</td>\n",
              "      <td>2008-02-21 01:31:01</td>\n",
              "      <td>2018-02-13 01:43:33</td>\n",
              "      <td>45e29113-19f9-c828-68d0-42ad2ef04da0</td>\n",
              "      <td>John Furrier</td>\n",
              "      <td>5f84d9fa-78fd-14b0-d335-5ac3561cdc0a</td>\n",
              "      <td>Northeastern University</td>\n",
              "      <td>BS</td>\n",
              "      <td>Computer Science</td>\n",
              "      <td>NaN</td>\n",
              "      <td>1988-01-01</td>\n",
              "      <td>True</td>\n",
              "      <td>1.0</td>\n",
              "    </tr>\n",
              "    <tr>\n",
              "      <th>4</th>\n",
              "      <td>16a607f5-8ab3-573e-8d09-57b3e352e1d3</td>\n",
              "      <td>BS  Computer Science @ Rochester Institute of ...</td>\n",
              "      <td>degree</td>\n",
              "      <td>NaN</td>\n",
              "      <td>NaN</td>\n",
              "      <td>NaN</td>\n",
              "      <td>2008-02-21 01:31:34</td>\n",
              "      <td>2018-02-13 01:39:53</td>\n",
              "      <td>b3b4ec6b-86fe-dd6e-ec8a-e8e7e999f274</td>\n",
              "      <td>Ian Reardon</td>\n",
              "      <td>1a380593-fb9d-7f7b-ae67-784ce3ff3690</td>\n",
              "      <td>Rochester Institute of Technology</td>\n",
              "      <td>BS</td>\n",
              "      <td>Computer Science</td>\n",
              "      <td>NaN</td>\n",
              "      <td>2002-01-01</td>\n",
              "      <td>True</td>\n",
              "      <td>1.0</td>\n",
              "    </tr>\n",
              "  </tbody>\n",
              "</table>\n",
              "</div>"
            ],
            "text/plain": [
              "                                   uuid  ... degree_type_ordinal\n",
              "0  205fdfd1-ecac-aa43-262f-219f11755f67  ...                 2.0\n",
              "1  1a2ac288-eb99-3318-fde5-1517bc168f51  ...                 1.0\n",
              "2  b978d338-7ccc-7469-5ce7-ef98c34155ad  ...                 2.0\n",
              "3  d01cfaad-0ccc-631e-0382-1e507bf6ba04  ...                 1.0\n",
              "4  16a607f5-8ab3-573e-8d09-57b3e352e1d3  ...                 1.0\n",
              "\n",
              "[5 rows x 18 columns]"
            ]
          },
          "metadata": {
            "tags": []
          },
          "execution_count": 67
        },
        {
          "output_type": "display_data",
          "data": {
            "image/png": "[encoded data removed]",
            "text/plain": [
              "<Figure size 432x288 with 1 Axes>"
            ]
          },
          "metadata": {
            "tags": [],
            "needs_background": "light"
          }
        }
      ]
    },
    {
      "cell_type": "code",
      "metadata": {
        "id": "iQCuv02q19wy",
        "colab_type": "code",
        "colab": {
          "base_uri": "https://localhost:8080/",
          "height": 204
        },
        "outputId": "fb6b672e-edff-4322-8ee3-9f799de993d1"
      },
      "source": [
        "# join in degree data for each founder\n",
        "\n",
        "degrees = df_dict[\"degrees\"]\n",
        "degrees_group_by_person = degrees.groupby([\"person_uuid\"]).size().reset_index(name='degree_counts')\n",
        "org_founders_with_degrees = org_founders.join(degrees.set_index(\"person_uuid\"), lsuffix='_person', rsuffix='_degrees')\n",
        "founders_df = org_founders_with_degrees[[\"name_person\", \"rank_person\", \"institution_name\", \"degree_type\", \"degree_type_ordinal\"]]\n",
        "founders_df.head()"
      ],
      "execution_count": null,
      "outputs": [
        {
          "output_type": "execute_result",
          "data": {
            "text/html": [
              "<div>\n",
              "<style scoped>\n",
              "    .dataframe tbody tr th:only-of-type {\n",
              "        vertical-align: middle;\n",
              "    }\n",
              "\n",
              "    .dataframe tbody tr th {\n",
              "        vertical-align: top;\n",
              "    }\n",
              "\n",
              "    .dataframe thead th {\n",
              "        text-align: right;\n",
              "    }\n",
              "</style>\n",
              "<table border=\"1\" class=\"dataframe\">\n",
              "  <thead>\n",
              "    <tr style=\"text-align: right;\">\n",
              "      <th></th>\n",
              "      <th>name_person</th>\n",
              "      <th>rank_person</th>\n",
              "      <th>institution_name</th>\n",
              "      <th>degree_type</th>\n",
              "      <th>degree_type_ordinal</th>\n",
              "    </tr>\n",
              "  </thead>\n",
              "  <tbody>\n",
              "    <tr>\n",
              "      <th>0001b358-dfe2-4e22-b64d-e7d7ad1a3474</th>\n",
              "      <td>Zach Pelka</td>\n",
              "      <td>414615.0</td>\n",
              "      <td>NaN</td>\n",
              "      <td>NaN</td>\n",
              "      <td>NaN</td>\n",
              "    </tr>\n",
              "    <tr>\n",
              "      <th>0001c922-1144-401c-ba66-ca42616881d4</th>\n",
              "      <td>Guilherne Weigert</td>\n",
              "      <td>708638.0</td>\n",
              "      <td>UERJ</td>\n",
              "      <td>Medical Residence</td>\n",
              "      <td>-1.0</td>\n",
              "    </tr>\n",
              "    <tr>\n",
              "      <th>00026df9-9254-269d-40b1-549e9529550d</th>\n",
              "      <td>Theo Koutroukides</td>\n",
              "      <td>280992.0</td>\n",
              "      <td>University of Cambridge</td>\n",
              "      <td>PhD</td>\n",
              "      <td>3.0</td>\n",
              "    </tr>\n",
              "    <tr>\n",
              "      <th>00026df9-9254-269d-40b1-549e9529550d</th>\n",
              "      <td>Theo Koutroukides</td>\n",
              "      <td>280992.0</td>\n",
              "      <td>Imperial College London</td>\n",
              "      <td>BSc</td>\n",
              "      <td>1.0</td>\n",
              "    </tr>\n",
              "    <tr>\n",
              "      <th>0002e72c-dc7b-483c-856c-9ad74e1052f1</th>\n",
              "      <td>William De Nicolo</td>\n",
              "      <td>878733.0</td>\n",
              "      <td>NaN</td>\n",
              "      <td>NaN</td>\n",
              "      <td>NaN</td>\n",
              "    </tr>\n",
              "  </tbody>\n",
              "</table>\n",
              "</div>"
            ],
            "text/plain": [
              "                                            name_person  ...  degree_type_ordinal\n",
              "0001b358-dfe2-4e22-b64d-e7d7ad1a3474         Zach Pelka  ...                  NaN\n",
              "0001c922-1144-401c-ba66-ca42616881d4  Guilherne Weigert  ...                 -1.0\n",
              "00026df9-9254-269d-40b1-549e9529550d  Theo Koutroukides  ...                  3.0\n",
              "00026df9-9254-269d-40b1-549e9529550d  Theo Koutroukides  ...                  1.0\n",
              "0002e72c-dc7b-483c-856c-9ad74e1052f1  William De Nicolo  ...                  NaN\n",
              "\n",
              "[5 rows x 5 columns]"
            ]
          },
          "metadata": {
            "tags": []
          },
          "execution_count": 74
        }
      ]
    },
    {
      "cell_type": "code",
      "metadata": {
        "id": "7Ysl3Q5DWAN3",
        "colab_type": "code",
        "colab": {
          "base_uri": "https://localhost:8080/",
          "height": 504
        },
        "outputId": "5f9a691c-ab18-4c47-c0bb-2acf7293b608"
      },
      "source": [
        "top_colleges = [\n",
        "  \"harvard\",\n",
        "  \"stanford\",\n",
        "  \"massachusetts institute of technology\", \"mit\",\n",
        "  \"princeton\",\n",
        "  \"yale\",\n",
        "  \"columbia\",\n",
        "  \"california institute of technology\", \"caltech\", \"cal-tech\",\n",
        "  \"university of pennsylvania\", \"upenn\", \"u-penn\",\n",
        "  \"university of berkeley\", \"uc berkeley\", \"ucberkeley\", \"berkeley\",\n",
        "  \"cornell\",\n",
        "  \"duke\",\n",
        "  \"university of chicago\", \"uchicago\", \"u-chicago\",\n",
        "  \"brown\",\n",
        "  \"dartmouth\",\n",
        "  \"university of california los angeles\", \"ucla\", \"uc los angeles\"\n",
        "  \"brown\",\n",
        "  \"university of michigan\", \"umich\", \"u-michigan\", \"u-mich\", \"umichigan\",\n",
        "  \"dartmouth\",\n",
        "  \"georgia institute of technology\", \"georgia tech\",\n",
        "  \"carnegie mellon\", \"cmu\",\n",
        "  \"rice\",\n",
        "  \"new york university\", \"nyu\",\n",
        "\n",
        "  # international\n",
        "  \"oxford\",\n",
        "  \"cambridge\",\n",
        "  \"indian institute of technology\", \"iit\",\n",
        "  \"tsinghua\",\n",
        "  \"swiss federal\",\n",
        "  \"imperial college\",\n",
        "  \"university college london\", \"ucl\"\n",
        "]\n",
        "\n",
        "def is_top_college(school_name):\n",
        "  if not isinstance(school_name, str):\n",
        "    return 0\n",
        "  school_name_cleaned = school_name.lower().strip()\n",
        "  for tc in top_colleges:\n",
        "    if school_name_cleaned.find(tc) > -1:\n",
        "      return 1\n",
        "  return 0\n",
        "\n",
        "founders_df[\"top_college\"] = founders_df.apply(lambda row: is_top_college(row[\"institution_name\"]), axis=1)\n",
        "founders_df.sort_values(by=\"rank_person\")"
      ],
      "execution_count": null,
      "outputs": [
        {
          "output_type": "stream",
          "text": [
            "/usr/local/lib/python3.6/dist-packages/ipykernel_launcher.py:44: SettingWithCopyWarning: \n",
            "A value is trying to be set on a copy of a slice from a DataFrame.\n",
            "Try using .loc[row_indexer,col_indexer] = value instead\n",
            "\n",
            "See the caveats in the documentation: https://pandas.pydata.org/pandas-docs/stable/user_guide/indexing.html#returning-a-view-versus-a-copy\n"
          ],
          "name": "stderr"
        },
        {
          "output_type": "execute_result",
          "data": {
            "text/html": [
              "<div>\n",
              "<style scoped>\n",
              "    .dataframe tbody tr th:only-of-type {\n",
              "        vertical-align: middle;\n",
              "    }\n",
              "\n",
              "    .dataframe tbody tr th {\n",
              "        vertical-align: top;\n",
              "    }\n",
              "\n",
              "    .dataframe thead th {\n",
              "        text-align: right;\n",
              "    }\n",
              "</style>\n",
              "<table border=\"1\" class=\"dataframe\">\n",
              "  <thead>\n",
              "    <tr style=\"text-align: right;\">\n",
              "      <th></th>\n",
              "      <th>name_person</th>\n",
              "      <th>rank_person</th>\n",
              "      <th>institution_name</th>\n",
              "      <th>degree_type</th>\n",
              "      <th>degree_type_ordinal</th>\n",
              "      <th>top_college</th>\n",
              "    </tr>\n",
              "  </thead>\n",
              "  <tbody>\n",
              "    <tr>\n",
              "      <th>3f47be49-2e32-8118-01a0-31685a4d0fd7</th>\n",
              "      <td>Peter Thiel</td>\n",
              "      <td>1.0</td>\n",
              "      <td>Stanford University</td>\n",
              "      <td>JD</td>\n",
              "      <td>3.0</td>\n",
              "      <td>1</td>\n",
              "    </tr>\n",
              "    <tr>\n",
              "      <th>3f47be49-2e32-8118-01a0-31685a4d0fd7</th>\n",
              "      <td>Peter Thiel</td>\n",
              "      <td>1.0</td>\n",
              "      <td>Stanford University</td>\n",
              "      <td>BA</td>\n",
              "      <td>1.0</td>\n",
              "      <td>1</td>\n",
              "    </tr>\n",
              "    <tr>\n",
              "      <th>a00e381e-64c4-14ac-4834-271ef101e712</th>\n",
              "      <td>Mukesh Ambani</td>\n",
              "      <td>2.0</td>\n",
              "      <td>Stanford University</td>\n",
              "      <td>MBA</td>\n",
              "      <td>2.0</td>\n",
              "      <td>1</td>\n",
              "    </tr>\n",
              "    <tr>\n",
              "      <th>a00e381e-64c4-14ac-4834-271ef101e712</th>\n",
              "      <td>Mukesh Ambani</td>\n",
              "      <td>2.0</td>\n",
              "      <td>Institute of Chemical Technology</td>\n",
              "      <td>Bachelor</td>\n",
              "      <td>1.0</td>\n",
              "      <td>0</td>\n",
              "    </tr>\n",
              "    <tr>\n",
              "      <th>62ab53b0-3a28-0cb7-9995-fd3215b78e41</th>\n",
              "      <td>Bill Gates</td>\n",
              "      <td>3.0</td>\n",
              "      <td>Harvard University</td>\n",
              "      <td>Graduate</td>\n",
              "      <td>2.0</td>\n",
              "      <td>1</td>\n",
              "    </tr>\n",
              "    <tr>\n",
              "      <th>...</th>\n",
              "      <td>...</td>\n",
              "      <td>...</td>\n",
              "      <td>...</td>\n",
              "      <td>...</td>\n",
              "      <td>...</td>\n",
              "      <td>...</td>\n",
              "    </tr>\n",
              "    <tr>\n",
              "      <th>fe285c69-dc36-4187-ad7d-29461bfca2e0</th>\n",
              "      <td>Carol Eastman</td>\n",
              "      <td>NaN</td>\n",
              "      <td>NaN</td>\n",
              "      <td>NaN</td>\n",
              "      <td>NaN</td>\n",
              "      <td>0</td>\n",
              "    </tr>\n",
              "    <tr>\n",
              "      <th>fe670e42-a6cc-4ee5-9fea-f7b68f2dabf8</th>\n",
              "      <td>Dai Xuefeng</td>\n",
              "      <td>NaN</td>\n",
              "      <td>NaN</td>\n",
              "      <td>NaN</td>\n",
              "      <td>NaN</td>\n",
              "      <td>0</td>\n",
              "    </tr>\n",
              "    <tr>\n",
              "      <th>fed67620-841b-4f16-bd2a-1ced57d97e7d</th>\n",
              "      <td>David Baram</td>\n",
              "      <td>NaN</td>\n",
              "      <td>NaN</td>\n",
              "      <td>NaN</td>\n",
              "      <td>NaN</td>\n",
              "      <td>0</td>\n",
              "    </tr>\n",
              "    <tr>\n",
              "      <th>ff05dcba-8a5b-4a21-902c-7542d714ef79</th>\n",
              "      <td>Alisha Saha</td>\n",
              "      <td>NaN</td>\n",
              "      <td>NaN</td>\n",
              "      <td>NaN</td>\n",
              "      <td>NaN</td>\n",
              "      <td>0</td>\n",
              "    </tr>\n",
              "    <tr>\n",
              "      <th>ff819ec6-7e8d-4c95-92e3-ceb2814874de</th>\n",
              "      <td>Andrew Zimmon</td>\n",
              "      <td>NaN</td>\n",
              "      <td>NaN</td>\n",
              "      <td>NaN</td>\n",
              "      <td>NaN</td>\n",
              "      <td>0</td>\n",
              "    </tr>\n",
              "  </tbody>\n",
              "</table>\n",
              "<p>299206 rows × 6 columns</p>\n",
              "</div>"
            ],
            "text/plain": [
              "                                        name_person  ...  top_college\n",
              "3f47be49-2e32-8118-01a0-31685a4d0fd7    Peter Thiel  ...            1\n",
              "3f47be49-2e32-8118-01a0-31685a4d0fd7    Peter Thiel  ...            1\n",
              "a00e381e-64c4-14ac-4834-271ef101e712  Mukesh Ambani  ...            1\n",
              "a00e381e-64c4-14ac-4834-271ef101e712  Mukesh Ambani  ...            0\n",
              "62ab53b0-3a28-0cb7-9995-fd3215b78e41     Bill Gates  ...            1\n",
              "...                                             ...  ...          ...\n",
              "fe285c69-dc36-4187-ad7d-29461bfca2e0  Carol Eastman  ...            0\n",
              "fe670e42-a6cc-4ee5-9fea-f7b68f2dabf8    Dai Xuefeng  ...            0\n",
              "fed67620-841b-4f16-bd2a-1ced57d97e7d    David Baram  ...            0\n",
              "ff05dcba-8a5b-4a21-902c-7542d714ef79    Alisha Saha  ...            0\n",
              "ff819ec6-7e8d-4c95-92e3-ceb2814874de  Andrew Zimmon  ...            0\n",
              "\n",
              "[299206 rows x 6 columns]"
            ]
          },
          "metadata": {
            "tags": []
          },
          "execution_count": 75
        }
      ]
    },
    {
      "cell_type": "code",
      "metadata": {
        "id": "Ry9QYR5qi9D5",
        "colab_type": "code",
        "colab": {
          "base_uri": "https://localhost:8080/",
          "height": 204
        },
        "outputId": "34bcc2d0-520d-4e69-de50-36760f073bbe"
      },
      "source": [
        "any_top_college = founders_df[\"top_college\"].groupby(founders_df.index).max()\n",
        "max_degree_ordinal = founders_df[\"degree_type_ordinal\"].groupby(founders_df.index).max()\n",
        "founders_df_base = founders_df.loc[~founders_df.index.duplicated(keep=\"first\")][[\"name_person\", \"rank_person\"]]\n",
        "degree_counts_df = degrees_group_by_person.set_index(\"person_uuid\")[[\"degree_counts\"]]\n",
        "\n",
        "founders_df_final = founders_df_base.join(any_top_college).join(max_degree_ordinal).join(degree_counts_df)\n",
        "founders_df_final = founders_df_final.rename(columns = {\"degree_type_ordinal\": \"max_degree_type_ordinal\", \"rank_person\" : \"cb_rank\"}, copy = True, inplace = False)\n",
        "founders_df_final = founders_df_final.sort_values(by=\"cb_rank\")\n",
        "founders_df_final.head()"
      ],
      "execution_count": null,
      "outputs": [
        {
          "output_type": "execute_result",
          "data": {
            "text/html": [
              "<div>\n",
              "<style scoped>\n",
              "    .dataframe tbody tr th:only-of-type {\n",
              "        vertical-align: middle;\n",
              "    }\n",
              "\n",
              "    .dataframe tbody tr th {\n",
              "        vertical-align: top;\n",
              "    }\n",
              "\n",
              "    .dataframe thead th {\n",
              "        text-align: right;\n",
              "    }\n",
              "</style>\n",
              "<table border=\"1\" class=\"dataframe\">\n",
              "  <thead>\n",
              "    <tr style=\"text-align: right;\">\n",
              "      <th></th>\n",
              "      <th>name_person</th>\n",
              "      <th>cb_rank</th>\n",
              "      <th>top_college</th>\n",
              "      <th>max_degree_type_ordinal</th>\n",
              "      <th>degree_counts</th>\n",
              "    </tr>\n",
              "  </thead>\n",
              "  <tbody>\n",
              "    <tr>\n",
              "      <th>3f47be49-2e32-8118-01a0-31685a4d0fd7</th>\n",
              "      <td>Peter Thiel</td>\n",
              "      <td>1.0</td>\n",
              "      <td>1</td>\n",
              "      <td>3.0</td>\n",
              "      <td>2.0</td>\n",
              "    </tr>\n",
              "    <tr>\n",
              "      <th>a00e381e-64c4-14ac-4834-271ef101e712</th>\n",
              "      <td>Mukesh Ambani</td>\n",
              "      <td>2.0</td>\n",
              "      <td>1</td>\n",
              "      <td>2.0</td>\n",
              "      <td>2.0</td>\n",
              "    </tr>\n",
              "    <tr>\n",
              "      <th>62ab53b0-3a28-0cb7-9995-fd3215b78e41</th>\n",
              "      <td>Bill Gates</td>\n",
              "      <td>3.0</td>\n",
              "      <td>1</td>\n",
              "      <td>2.0</td>\n",
              "      <td>1.0</td>\n",
              "    </tr>\n",
              "    <tr>\n",
              "      <th>3a476a62-d930-8aab-041d-cfe5e45a679a</th>\n",
              "      <td>Spencer Rascoff</td>\n",
              "      <td>4.0</td>\n",
              "      <td>1</td>\n",
              "      <td>1.0</td>\n",
              "      <td>1.0</td>\n",
              "    </tr>\n",
              "    <tr>\n",
              "      <th>ebae6782-7040-b515-9c89-36fb0a31e113</th>\n",
              "      <td>Mark Cuban</td>\n",
              "      <td>6.0</td>\n",
              "      <td>0</td>\n",
              "      <td>1.0</td>\n",
              "      <td>1.0</td>\n",
              "    </tr>\n",
              "  </tbody>\n",
              "</table>\n",
              "</div>"
            ],
            "text/plain": [
              "                                          name_person  ...  degree_counts\n",
              "3f47be49-2e32-8118-01a0-31685a4d0fd7      Peter Thiel  ...            2.0\n",
              "a00e381e-64c4-14ac-4834-271ef101e712    Mukesh Ambani  ...            2.0\n",
              "62ab53b0-3a28-0cb7-9995-fd3215b78e41       Bill Gates  ...            1.0\n",
              "3a476a62-d930-8aab-041d-cfe5e45a679a  Spencer Rascoff  ...            1.0\n",
              "ebae6782-7040-b515-9c89-36fb0a31e113       Mark Cuban  ...            1.0\n",
              "\n",
              "[5 rows x 5 columns]"
            ]
          },
          "metadata": {
            "tags": []
          },
          "execution_count": 76
        }
      ]
    },
    {
      "cell_type": "code",
      "metadata": {
        "id": "69gdWV0DUP8o",
        "colab_type": "code",
        "colab": {
          "base_uri": "https://localhost:8080/",
          "height": 295
        },
        "outputId": "d53b18b7-8067-4835-acce-abf5f1134236"
      },
      "source": [
        "founders_df_final[\"cb_rank\"].hist()"
      ],
      "execution_count": null,
      "outputs": [
        {
          "output_type": "execute_result",
          "data": {
            "text/plain": [
              "<matplotlib.axes._subplots.AxesSubplot at 0x7fae0e32df98>"
            ]
          },
          "metadata": {
            "tags": []
          },
          "execution_count": 22
        },
        {
          "output_type": "display_data",
          "data": {
            "image/png": "[encoded data removed]",
            "text/plain": [
              "<Figure size 432x288 with 1 Axes>"
            ]
          },
          "metadata": {
            "tags": [],
            "needs_background": "light"
          }
        }
      ]
    },
    {
      "cell_type": "code",
      "metadata": {
        "id": "02podmCtXSG4",
        "colab_type": "code",
        "colab": {
          "base_uri": "https://localhost:8080/",
          "height": 286
        },
        "outputId": "19bffa15-0405-4b9a-acd5-80aa273cfd3b"
      },
      "source": [
        "founders_df_final[\"top_college\"].hist()"
      ],
      "execution_count": null,
      "outputs": [
        {
          "output_type": "execute_result",
          "data": {
            "text/plain": [
              "<matplotlib.axes._subplots.AxesSubplot at 0x7fae0e31af98>"
            ]
          },
          "metadata": {
            "tags": []
          },
          "execution_count": 23
        },
        {
          "output_type": "display_data",
          "data": {
            "image/png": "[encoded data removed]",
            "text/plain": [
              "<Figure size 432x288 with 1 Axes>"
            ]
          },
          "metadata": {
            "tags": [],
            "needs_background": "light"
          }
        }
      ]
    },
    {
      "cell_type": "code",
      "metadata": {
        "id": "yq20kNryXUay",
        "colab_type": "code",
        "colab": {
          "base_uri": "https://localhost:8080/",
          "height": 282
        },
        "outputId": "d8c83e1b-fb4b-49d7-d251-56ea194bd325"
      },
      "source": [
        "founders_df_final[\"max_degree_type_ordinal\"].hist()"
      ],
      "execution_count": null,
      "outputs": [
        {
          "output_type": "execute_result",
          "data": {
            "text/plain": [
              "<matplotlib.axes._subplots.AxesSubplot at 0x7fae0e275588>"
            ]
          },
          "metadata": {
            "tags": []
          },
          "execution_count": 24
        },
        {
          "output_type": "display_data",
          "data": {
            "image/png": "[encoded data removed]",
            "text/plain": [
              "<Figure size 432x288 with 1 Axes>"
            ]
          },
          "metadata": {
            "tags": [],
            "needs_background": "light"
          }
        }
      ]
    },
    {
      "cell_type": "code",
      "metadata": {
        "id": "gjo39sSDXWvR",
        "colab_type": "code",
        "colab": {
          "base_uri": "https://localhost:8080/",
          "height": 282
        },
        "outputId": "0e9b76f8-4f1f-468c-f7c1-2c3b731eaed2"
      },
      "source": [
        "founders_df_final[\"degree_counts\"].hist()"
      ],
      "execution_count": null,
      "outputs": [
        {
          "output_type": "execute_result",
          "data": {
            "text/plain": [
              "<matplotlib.axes._subplots.AxesSubplot at 0x7fae0e1b32b0>"
            ]
          },
          "metadata": {
            "tags": []
          },
          "execution_count": 25
        },
        {
          "output_type": "display_data",
          "data": {
            "image/png": "[encoded data removed]",
            "text/plain": [
              "<Figure size 432x288 with 1 Axes>"
            ]
          },
          "metadata": {
            "tags": [],
            "needs_background": "light"
          }
        }
      ]
    },
    {
      "cell_type": "code",
      "metadata": {
        "id": "vT_Wy16UZoBI",
        "colab_type": "code",
        "colab": {
          "base_uri": "https://localhost:8080/",
          "height": 255
        },
        "outputId": "9e13dc04-2e23-48ec-b16a-ecacdabe8cfd"
      },
      "source": [
        "org_and_founder_uuid_dedup = org_and_founder_uuid.drop_duplicates()\n",
        "\n",
        "org_with_founders_df = org_and_founder_uuid_dedup.join(founders_df_final, on=\"person_uuid\")[[\"org_uuid\", \"person_uuid\", \"cb_rank\", \"top_college\", \"max_degree_type_ordinal\", \"degree_counts\"]]\n",
        "\n",
        "org_with_founders_df = org_with_founders_df.groupby([\"org_uuid\"], as_index=False).max()\n",
        "org_with_founders_df = org_with_founders_df.rename(columns = {\"cb_rank\": \"founders_max_rank\", \"top_college\" : \"founders_top_college\", \"max_degree_type_ordinal\": \"founders_max_degree_type_ordinal\", \"degree_counts\": \"founders_max_degree_count\"}, copy = True, inplace = False)\n",
        "\n",
        "org_with_founders_counts = org_and_founder_uuid_dedup.groupby([\"org_uuid\"], as_index=False).size().to_frame(name=\"founders_count\").reset_index()\n",
        "org_with_founders_df = org_with_founders_df.join(org_with_founders_counts.set_index(\"org_uuid\"), on=[\"org_uuid\"])\n",
        "\n",
        "org_with_founders_df.head()"
      ],
      "execution_count": null,
      "outputs": [
        {
          "output_type": "execute_result",
          "data": {
            "text/html": [
              "<div>\n",
              "<style scoped>\n",
              "    .dataframe tbody tr th:only-of-type {\n",
              "        vertical-align: middle;\n",
              "    }\n",
              "\n",
              "    .dataframe tbody tr th {\n",
              "        vertical-align: top;\n",
              "    }\n",
              "\n",
              "    .dataframe thead th {\n",
              "        text-align: right;\n",
              "    }\n",
              "</style>\n",
              "<table border=\"1\" class=\"dataframe\">\n",
              "  <thead>\n",
              "    <tr style=\"text-align: right;\">\n",
              "      <th></th>\n",
              "      <th>org_uuid</th>\n",
              "      <th>person_uuid</th>\n",
              "      <th>founders_max_rank</th>\n",
              "      <th>founders_top_college</th>\n",
              "      <th>founders_max_degree_type_ordinal</th>\n",
              "      <th>founders_max_degree_count</th>\n",
              "      <th>founders_count</th>\n",
              "    </tr>\n",
              "  </thead>\n",
              "  <tbody>\n",
              "    <tr>\n",
              "      <th>0</th>\n",
              "      <td>000014da-0c46-b9cb-0941-3a93c027b119</td>\n",
              "      <td>c7ca9967-869d-7775-37c4-a2d5c1569c46</td>\n",
              "      <td>438498.0</td>\n",
              "      <td>0</td>\n",
              "      <td>2.0</td>\n",
              "      <td>1.0</td>\n",
              "      <td>4</td>\n",
              "    </tr>\n",
              "    <tr>\n",
              "      <th>1</th>\n",
              "      <td>00002470-bff7-6226-5800-0ca1b3787b6f</td>\n",
              "      <td>a956475b-862a-34ee-4df4-a4dd143d8af1</td>\n",
              "      <td>399048.0</td>\n",
              "      <td>1</td>\n",
              "      <td>2.0</td>\n",
              "      <td>2.0</td>\n",
              "      <td>2</td>\n",
              "    </tr>\n",
              "    <tr>\n",
              "      <th>2</th>\n",
              "      <td>00007c5c-9260-0dfb-c160-89a416f1a7cc</td>\n",
              "      <td>c59b1e52-965b-86bc-1e69-eecb7db8a2d9</td>\n",
              "      <td>525715.0</td>\n",
              "      <td>0</td>\n",
              "      <td>NaN</td>\n",
              "      <td>NaN</td>\n",
              "      <td>2</td>\n",
              "    </tr>\n",
              "    <tr>\n",
              "      <th>3</th>\n",
              "      <td>0000b5c1-07dd-aeb6-2b17-eb3d64e652a6</td>\n",
              "      <td>34a1865c-dee7-d3a4-a2dc-68178777a04a</td>\n",
              "      <td>147007.0</td>\n",
              "      <td>0</td>\n",
              "      <td>2.0</td>\n",
              "      <td>1.0</td>\n",
              "      <td>1</td>\n",
              "    </tr>\n",
              "    <tr>\n",
              "      <th>4</th>\n",
              "      <td>0000c0e1-eb00-9281-9a7f-63dfa277e8df</td>\n",
              "      <td>f3432d1e-2d5f-db7f-2dd7-a650da856139</td>\n",
              "      <td>289919.0</td>\n",
              "      <td>0</td>\n",
              "      <td>NaN</td>\n",
              "      <td>NaN</td>\n",
              "      <td>1</td>\n",
              "    </tr>\n",
              "  </tbody>\n",
              "</table>\n",
              "</div>"
            ],
            "text/plain": [
              "                               org_uuid  ... founders_count\n",
              "0  000014da-0c46-b9cb-0941-3a93c027b119  ...              4\n",
              "1  00002470-bff7-6226-5800-0ca1b3787b6f  ...              2\n",
              "2  00007c5c-9260-0dfb-c160-89a416f1a7cc  ...              2\n",
              "3  0000b5c1-07dd-aeb6-2b17-eb3d64e652a6  ...              1\n",
              "4  0000c0e1-eb00-9281-9a7f-63dfa277e8df  ...              1\n",
              "\n",
              "[5 rows x 7 columns]"
            ]
          },
          "metadata": {
            "tags": []
          },
          "execution_count": 218
        }
      ]
    },
    {
      "cell_type": "code",
      "metadata": {
        "id": "4KTmgOYEo25X",
        "colab_type": "code",
        "colab": {
          "base_uri": "https://localhost:8080/",
          "height": 299
        },
        "outputId": "91029172-ff01-4adf-cf9f-338ecfb44db7"
      },
      "source": [
        "org_with_founders_df[\"founders_max_rank\"].hist()"
      ],
      "execution_count": null,
      "outputs": [
        {
          "output_type": "execute_result",
          "data": {
            "text/plain": [
              "<matplotlib.axes._subplots.AxesSubplot at 0x7fbd68d5bc50>"
            ]
          },
          "metadata": {
            "tags": []
          },
          "execution_count": 219
        },
        {
          "output_type": "display_data",
          "data": {
            "image/png": "[encoded data removed]",
            "text/plain": [
              "<Figure size 432x288 with 1 Axes>"
            ]
          },
          "metadata": {
            "tags": [],
            "needs_background": "light"
          }
        }
      ]
    },
    {
      "cell_type": "code",
      "metadata": {
        "id": "ulYslMQNm1Sb",
        "colab_type": "code",
        "colab": {
          "base_uri": "https://localhost:8080/",
          "height": 282
        },
        "outputId": "3576afef-fdf6-4b5d-a1ee-19d3442ead4f"
      },
      "source": [
        "org_with_founders_df[\"founders_count\"].hist(bins=50)"
      ],
      "execution_count": null,
      "outputs": [
        {
          "output_type": "execute_result",
          "data": {
            "text/plain": [
              "<matplotlib.axes._subplots.AxesSubplot at 0x7fbd644b1668>"
            ]
          },
          "metadata": {
            "tags": []
          },
          "execution_count": 220
        },
        {
          "output_type": "display_data",
          "data": {
            "image/png": "[encoded data removed]",
            "text/plain": [
              "<Figure size 432x288 with 1 Axes>"
            ]
          },
          "metadata": {
            "tags": [],
            "needs_background": "light"
          }
        }
      ]
    },
    {
      "cell_type": "code",
      "metadata": {
        "id": "FAa3Wdb_5BCJ",
        "colab_type": "code",
        "colab": {
          "base_uri": "https://localhost:8080/",
          "height": 282
        },
        "outputId": "76dd3840-2e54-442b-c789-538098133ca1"
      },
      "source": [
        "org_with_founders_df[\"founders_top_college\"].hist()"
      ],
      "execution_count": null,
      "outputs": [
        {
          "output_type": "execute_result",
          "data": {
            "text/plain": [
              "<matplotlib.axes._subplots.AxesSubplot at 0x7fbd68854710>"
            ]
          },
          "metadata": {
            "tags": []
          },
          "execution_count": 221
        },
        {
          "output_type": "display_data",
          "data": {
            "image/png": "[encoded data removed]",
            "text/plain": [
              "<Figure size 432x288 with 1 Axes>"
            ]
          },
          "metadata": {
            "tags": [],
            "needs_background": "light"
          }
        }
      ]
    },
    {
      "cell_type": "code",
      "metadata": {
        "id": "HNMij2yK5HN2",
        "colab_type": "code",
        "colab": {
          "base_uri": "https://localhost:8080/",
          "height": 282
        },
        "outputId": "3a0c197f-47fe-4d1c-ddd8-ed54a1b72e3c"
      },
      "source": [
        "org_with_founders_df[\"founders_max_degree_type_ordinal\"].hist()"
      ],
      "execution_count": null,
      "outputs": [
        {
          "output_type": "execute_result",
          "data": {
            "text/plain": [
              "<matplotlib.axes._subplots.AxesSubplot at 0x7fbd687e06a0>"
            ]
          },
          "metadata": {
            "tags": []
          },
          "execution_count": 222
        },
        {
          "output_type": "display_data",
          "data": {
            "image/png": "[encoded data removed]",
            "text/plain": [
              "<Figure size 432x288 with 1 Axes>"
            ]
          },
          "metadata": {
            "tags": [],
            "needs_background": "light"
          }
        }
      ]
    },
    {
      "cell_type": "code",
      "metadata": {
        "id": "FePawEhv5oe1",
        "colab_type": "code",
        "colab": {
          "base_uri": "https://localhost:8080/",
          "height": 282
        },
        "outputId": "9e01037f-6213-4ff0-ef3d-76d53aa0d7fa"
      },
      "source": [
        "org_with_founders_df[\"founders_max_degree_count\"].hist(bins=25)"
      ],
      "execution_count": null,
      "outputs": [
        {
          "output_type": "execute_result",
          "data": {
            "text/plain": [
              "<matplotlib.axes._subplots.AxesSubplot at 0x7fbd68561a20>"
            ]
          },
          "metadata": {
            "tags": []
          },
          "execution_count": 226
        },
        {
          "output_type": "display_data",
          "data": {
            "image/png": "[encoded data removed]",
            "text/plain": [
              "<Figure size 432x288 with 1 Axes>"
            ]
          },
          "metadata": {
            "tags": [],
            "needs_background": "light"
          }
        }
      ]
    }
  ]
}