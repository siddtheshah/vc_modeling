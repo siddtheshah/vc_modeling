{
  "nbformat": 4,
  "nbformat_minor": 0,
  "metadata": {
    "colab": {
      "name": "time_valuation_predictor.ipynb",
      "provenance": [],
      "authorship_tag": "ABX9TyPWB+Q8lzaXwmcKrz/oFq95",
      "include_colab_link": true
    },
    "kernelspec": {
      "name": "python3",
      "display_name": "Python 3"
    }
  },
  "cells": [
    {
      "cell_type": "markdown",
      "metadata": {
        "id": "view-in-github",
        "colab_type": "text"
      },
      "source": [
        "<a href=\"https://colab.research.google.com/github/siddtheshah/vc_modeling/blob/master/time_valuation_predictor.ipynb\" target=\"_parent\"><img src=\"https://colab.research.google.com/assets/colab-badge.svg\" alt=\"Open In Colab\"/></a>"
      ]
    },
    {
      "cell_type": "code",
      "metadata": {
        "id": "N18M5YbuQwgf",
        "colab_type": "code",
        "colab": {}
      },
      "source": [
        "import os\n",
        "import numpy as np\n",
        "import pandas as pd\n",
        "import matplotlib.pyplot as plt\n",
        "\n",
        "from copy import deepcopy"
      ],
      "execution_count": 1,
      "outputs": []
    },
    {
      "cell_type": "code",
      "metadata": {
        "id": "g-oaxyayRp5e",
        "colab_type": "code",
        "colab": {
          "base_uri": "https://localhost:8080/",
          "height": 72
        },
        "outputId": "c244edac-6a67-4427-ff7b-eb8d26b36e61"
      },
      "source": [
        "from google.colab import drive\n",
        "drive.mount('/content/gdrive')"
      ],
      "execution_count": 7,
      "outputs": [
        {
          "output_type": "stream",
          "text": [
            "Drive already mounted at /content/gdrive; to attempt to forcibly remount, call drive.mount(\"/content/gdrive\", force_remount=True).\n",
            "data\n"
          ],
          "name": "stdout"
        },
        {
          "output_type": "execute_result",
          "data": {
            "text/plain": [
              "['data']"
            ]
          },
          "metadata": {
            "tags": []
          },
          "execution_count": 7
        }
      ]
    },
    {
      "cell_type": "code",
      "metadata": {
        "id": "Sv2bXXo0Sbwb",
        "colab_type": "code",
        "colab": {
          "base_uri": "https://localhost:8080/",
          "height": 54
        },
        "outputId": "e5de3b34-7803-42b2-99c5-41197b61da12"
      },
      "source": [
        "file_names = os.listdir(\"/content/gdrive/My Drive/vc_modeling/data/crunchbase_bulk_export/\")\n",
        "df_names = [x[:-4] for x in file_names]\n",
        "print(df_names)\n",
        "\n",
        "dfs = [pd.read_csv(\"/content/gdrive/My Drive/vc_modeling/data/crunchbase_bulk_export/\"+x) for x in file_names]\n",
        "df_dict = dict(zip(df_names, dfs))\n",
        "print(df_dict.keys())"
      ],
      "execution_count": 13,
      "outputs": [
        {
          "output_type": "stream",
          "text": [
            "['category_groups', 'funding_rounds', 'people', 'checksum', 'people_descriptions', 'investors', 'organization_descriptions', 'investment_partners', 'event_appearances', 'organizations', 'org_parents', 'jobs', 'acquisitions', 'funds', 'ipos', 'degrees', 'investments', 'events']\n",
            "dict_keys(['category_groups', 'funding_rounds', 'people', 'checksum', 'people_descriptions', 'investors', 'organization_descriptions', 'investment_partners', 'event_appearances', 'organizations', 'org_parents', 'jobs', 'acquisitions', 'funds', 'ipos', 'degrees', 'investments', 'events'])\n"
          ],
          "name": "stdout"
        }
      ]
    },
    {
      "cell_type": "code",
      "metadata": {
        "id": "4t2bVAXZZfxd",
        "colab_type": "code",
        "colab": {
          "base_uri": "https://localhost:8080/",
          "height": 383
        },
        "outputId": "2483d66a-7bb6-4c86-b53e-41861d2e7247"
      },
      "source": [
        "df_dict['funding_rounds'].head()\n",
        "# df_dict['organizations'].head()"
      ],
      "execution_count": 16,
      "outputs": [
        {
          "output_type": "execute_result",
          "data": {
            "text/html": [
              "<div>\n",
              "<style scoped>\n",
              "    .dataframe tbody tr th:only-of-type {\n",
              "        vertical-align: middle;\n",
              "    }\n",
              "\n",
              "    .dataframe tbody tr th {\n",
              "        vertical-align: top;\n",
              "    }\n",
              "\n",
              "    .dataframe thead th {\n",
              "        text-align: right;\n",
              "    }\n",
              "</style>\n",
              "<table border=\"1\" class=\"dataframe\">\n",
              "  <thead>\n",
              "    <tr style=\"text-align: right;\">\n",
              "      <th></th>\n",
              "      <th>uuid</th>\n",
              "      <th>name</th>\n",
              "      <th>type</th>\n",
              "      <th>permalink</th>\n",
              "      <th>cb_url</th>\n",
              "      <th>rank</th>\n",
              "      <th>created_at</th>\n",
              "      <th>updated_at</th>\n",
              "      <th>country_code</th>\n",
              "      <th>state_code</th>\n",
              "      <th>region</th>\n",
              "      <th>city</th>\n",
              "      <th>investment_type</th>\n",
              "      <th>announced_on</th>\n",
              "      <th>raised_amount_usd</th>\n",
              "      <th>raised_amount</th>\n",
              "      <th>raised_amount_currency_code</th>\n",
              "      <th>post_money_valuation_usd</th>\n",
              "      <th>post_money_valuation</th>\n",
              "      <th>post_money_valuation_currency_code</th>\n",
              "      <th>investor_count</th>\n",
              "      <th>org_uuid</th>\n",
              "      <th>org_name</th>\n",
              "      <th>lead_investor_uuids</th>\n",
              "    </tr>\n",
              "  </thead>\n",
              "  <tbody>\n",
              "    <tr>\n",
              "      <th>0</th>\n",
              "      <td>8a945939-18e0-cc9d-27b9-bf33817b2818</td>\n",
              "      <td>Angel Round - Facebook</td>\n",
              "      <td>funding_round</td>\n",
              "      <td>facebook-angel--8a945939</td>\n",
              "      <td>https://www.crunchbase.com/funding_round/faceb...</td>\n",
              "      <td>143236.0</td>\n",
              "      <td>2007-05-27 06:08:18</td>\n",
              "      <td>2018-02-12 23:05:39</td>\n",
              "      <td>USA</td>\n",
              "      <td>CA</td>\n",
              "      <td>California</td>\n",
              "      <td>Menlo Park</td>\n",
              "      <td>angel</td>\n",
              "      <td>2004-09-01</td>\n",
              "      <td>500000.0</td>\n",
              "      <td>500000.0</td>\n",
              "      <td>USD</td>\n",
              "      <td>NaN</td>\n",
              "      <td>NaN</td>\n",
              "      <td>USD</td>\n",
              "      <td>4.0</td>\n",
              "      <td>df662812-7f97-0b43-9d3e-12f64f504fbb</td>\n",
              "      <td>Facebook</td>\n",
              "      <td>3f47be49-2e32-8118-01a0-31685a4d0fd7</td>\n",
              "    </tr>\n",
              "    <tr>\n",
              "      <th>1</th>\n",
              "      <td>d950d7a5-79ff-fb93-ca87-13386b0e2feb</td>\n",
              "      <td>Series A - Facebook</td>\n",
              "      <td>funding_round</td>\n",
              "      <td>facebook-series-a--d950d7a5</td>\n",
              "      <td>https://www.crunchbase.com/funding_round/faceb...</td>\n",
              "      <td>145939.0</td>\n",
              "      <td>2007-05-27 06:09:10</td>\n",
              "      <td>2018-02-12 23:52:16</td>\n",
              "      <td>USA</td>\n",
              "      <td>CA</td>\n",
              "      <td>California</td>\n",
              "      <td>Menlo Park</td>\n",
              "      <td>series_a</td>\n",
              "      <td>2005-05-01</td>\n",
              "      <td>12700000.0</td>\n",
              "      <td>12700000.0</td>\n",
              "      <td>USD</td>\n",
              "      <td>98000000.0</td>\n",
              "      <td>98000000.0</td>\n",
              "      <td>USD</td>\n",
              "      <td>4.0</td>\n",
              "      <td>df662812-7f97-0b43-9d3e-12f64f504fbb</td>\n",
              "      <td>Facebook</td>\n",
              "      <td>b08efc27-da40-505a-6f9d-c9e14247bf36</td>\n",
              "    </tr>\n",
              "    <tr>\n",
              "      <th>2</th>\n",
              "      <td>6fae3958-a001-27c0-fb7e-666266aedd78</td>\n",
              "      <td>Series B - Facebook</td>\n",
              "      <td>funding_round</td>\n",
              "      <td>facebook-series-b--6fae3958</td>\n",
              "      <td>https://www.crunchbase.com/funding_round/faceb...</td>\n",
              "      <td>273250.0</td>\n",
              "      <td>2007-05-27 06:09:36</td>\n",
              "      <td>2018-02-12 23:30:46</td>\n",
              "      <td>USA</td>\n",
              "      <td>CA</td>\n",
              "      <td>California</td>\n",
              "      <td>Menlo Park</td>\n",
              "      <td>series_b</td>\n",
              "      <td>2006-04-01</td>\n",
              "      <td>27500000.0</td>\n",
              "      <td>27500000.0</td>\n",
              "      <td>USD</td>\n",
              "      <td>502500000.0</td>\n",
              "      <td>502500000.0</td>\n",
              "      <td>USD</td>\n",
              "      <td>5.0</td>\n",
              "      <td>df662812-7f97-0b43-9d3e-12f64f504fbb</td>\n",
              "      <td>Facebook</td>\n",
              "      <td>e2006571-6b7a-e477-002a-f7014f48a7e3,8d5c7e48-...</td>\n",
              "    </tr>\n",
              "    <tr>\n",
              "      <th>3</th>\n",
              "      <td>bcd5a63d-ed99-6963-0dd2-e36f6582f846</td>\n",
              "      <td>Series B - Photobucket</td>\n",
              "      <td>funding_round</td>\n",
              "      <td>photobucket-series-b--bcd5a63d</td>\n",
              "      <td>https://www.crunchbase.com/funding_round/photo...</td>\n",
              "      <td>149479.0</td>\n",
              "      <td>2007-05-29 11:05:59</td>\n",
              "      <td>2018-02-12 23:27:36</td>\n",
              "      <td>USA</td>\n",
              "      <td>CO</td>\n",
              "      <td>Colorado</td>\n",
              "      <td>Denver</td>\n",
              "      <td>series_b</td>\n",
              "      <td>2006-05-01</td>\n",
              "      <td>10500000.0</td>\n",
              "      <td>10500000.0</td>\n",
              "      <td>USD</td>\n",
              "      <td>NaN</td>\n",
              "      <td>NaN</td>\n",
              "      <td>USD</td>\n",
              "      <td>2.0</td>\n",
              "      <td>f53cb4de-236e-0b1b-dee8-7104a8b018f9</td>\n",
              "      <td>Photobucket</td>\n",
              "      <td>NaN</td>\n",
              "    </tr>\n",
              "    <tr>\n",
              "      <th>4</th>\n",
              "      <td>60e6afd9-1215-465a-dd17-0ed600d4e29b</td>\n",
              "      <td>Series A - Geni</td>\n",
              "      <td>funding_round</td>\n",
              "      <td>geni-series-a--60e6afd9</td>\n",
              "      <td>https://www.crunchbase.com/funding_round/geni-...</td>\n",
              "      <td>313010.0</td>\n",
              "      <td>2007-05-31 20:19:28</td>\n",
              "      <td>2018-02-12 23:41:29</td>\n",
              "      <td>USA</td>\n",
              "      <td>CA</td>\n",
              "      <td>California</td>\n",
              "      <td>West Hollywood</td>\n",
              "      <td>series_a</td>\n",
              "      <td>2007-01-17</td>\n",
              "      <td>NaN</td>\n",
              "      <td>NaN</td>\n",
              "      <td>NaN</td>\n",
              "      <td>10000000.0</td>\n",
              "      <td>10000000.0</td>\n",
              "      <td>USD</td>\n",
              "      <td>1.0</td>\n",
              "      <td>4111dc8b-c0df-2d24-ed33-30cd137b3098</td>\n",
              "      <td>Geni</td>\n",
              "      <td>fb2f8884-ec07-895a-48d7-d9a9d4d7175c</td>\n",
              "    </tr>\n",
              "  </tbody>\n",
              "</table>\n",
              "</div>"
            ],
            "text/plain": [
              "                                   uuid  ...                                lead_investor_uuids\n",
              "0  8a945939-18e0-cc9d-27b9-bf33817b2818  ...               3f47be49-2e32-8118-01a0-31685a4d0fd7\n",
              "1  d950d7a5-79ff-fb93-ca87-13386b0e2feb  ...               b08efc27-da40-505a-6f9d-c9e14247bf36\n",
              "2  6fae3958-a001-27c0-fb7e-666266aedd78  ...  e2006571-6b7a-e477-002a-f7014f48a7e3,8d5c7e48-...\n",
              "3  bcd5a63d-ed99-6963-0dd2-e36f6582f846  ...                                                NaN\n",
              "4  60e6afd9-1215-465a-dd17-0ed600d4e29b  ...               fb2f8884-ec07-895a-48d7-d9a9d4d7175c\n",
              "\n",
              "[5 rows x 24 columns]"
            ]
          },
          "metadata": {
            "tags": []
          },
          "execution_count": 16
        }
      ]
    },
    {
      "cell_type": "code",
      "metadata": {
        "id": "cfBrl63PUQ75",
        "colab_type": "code",
        "colab": {}
      },
      "source": [
        "# We should select a set of companies for which there aren't a lot of missing values. But we don't want to overbias either.\n",
        "\n",
        "# def join_data_per_company(df_dict, company_ids):\n",
        "#   # Companies \n",
        "#   funding_rounds = df_dict['funding_rounds']\n",
        "\n",
        "#   truncated = funding_rounds[funding_rounds['org_uuid'].isin(company_ids)]\n",
        "#   return df_dict['funding_rounds'][company_ids]\n",
        "#   # df_dict['organizations'][company_ids]\n",
        "\n",
        "company_ids = ['df662812-7f97-0b43-9d3e-12f64f504fbb']\n",
        "# join_data_per_company(df_dict, company_ids)"
      ],
      "execution_count": 23,
      "outputs": []
    },
    {
      "cell_type": "code",
      "metadata": {
        "id": "UtCv8vMqg4ER",
        "colab_type": "code",
        "colab": {}
      },
      "source": [
        "funding_data = deepcopy(\n",
        "    df_dict[\"funding_rounds\"][['org_uuid', 'announced_on', 'post_money_valuation_usd']]).rename(\n",
        "    columns={\"announced_on\": \"date\", \"post_money_valuation_usd\": \"valuation\"})\n",
        "acquisitions_data = deepcopy(df_dict[\"acquisitions\"][['acquiree_uuid', 'acquired_on', 'price_usd']]).rename(\n",
        "    columns={\"acquiree_uuid\": \"org_uuid\", \"acquired_on\": \"date\", \"price_usd\": \"valuation\"})\n",
        "ipos_data = deepcopy(df_dict[\"ipos\"][['org_uuid', 'went_public_on', 'valuation_price_usd']]).rename(\n",
        "    columns={\"went_public_on\": \"date\", \"valuation_price_usd\": \"valuation\"})\n",
        "\n",
        "types = df_dict[\"acquisitions\"][['type']].values\n",
        "acquisition_types = df_dict[\"acquisitions\"][['acquisition_type']].values\n",
        "acquisitions_data['event'] = [types[x][0] if not isinstance(acquisition_types[x][0], str) \n",
        "                              else acquisition_types[x][0] for x in range(len(acquisitions_data))]\n",
        "funding_data['event'] = pd.Series([x[0] for x in df_dict[\"funding_rounds\"]['name'].str.split(\" - \")])\n",
        "ipos_data['event'] = df_dict['ipos']['stock_exchange_symbol']\n",
        "\n",
        "timelines = pd.concat([funding_data, acquisitions_data, ipos_data])\n",
        "\n",
        "# Normalize dates\n",
        "\n",
        "timelines.sort_values(by=['org_uuid', 'date'], inplace=True)\n",
        "timelines.reset_index(inplace=True, drop=True)\n",
        "\n",
        "timelines.set_index(['org_uuid'])\n",
        "grouped_timelines = timelines.groupby(['org_uuid'])\n",
        "\n"
      ],
      "execution_count": 31,
      "outputs": []
    },
    {
      "cell_type": "markdown",
      "metadata": {
        "id": "N_WkfRPdvX7J",
        "colab_type": "text"
      },
      "source": [
        "# Normalization of dependent variables"
      ]
    },
    {
      "cell_type": "markdown",
      "metadata": {
        "id": "bh02mtC8xcRP",
        "colab_type": "text"
      },
      "source": [
        "### Time Normalization"
      ]
    },
    {
      "cell_type": "code",
      "metadata": {
        "id": "tMCMOTtmg8k3",
        "colab_type": "code",
        "colab": {}
      },
      "source": [
        "import datetime\n",
        "company_timelines = {}\n",
        "\n",
        "milli_per_day = 86400  # Used for converting Unix time\n",
        "\n",
        "for company_id in company_ids:\n",
        "  timeline = grouped_timelines.get_group(company_id).copy()\n",
        "  timeline = timeline[timeline['valuation'].notnull()]               # We only care about times at which there is a valuation of the company.\n",
        "  timeline.reset_index(inplace=True, drop=True)\n",
        "\n",
        "  day_zero = datetime.datetime.strptime(timeline['date'].iloc[0], '%Y-%m-%d').timestamp()\n",
        "  parsed_dates = pd.Series([datetime.datetime.strptime(x, '%Y-%m-%d').timestamp() for x in timeline['date']])\n",
        "  norm_dates = (parsed_dates - day_zero)/milli_per_day\n",
        "  timeline['norm_dates'] = norm_dates\n",
        "  company_timelines[company_id] = timeline\n",
        "  # print(timeline)\n",
        "  # print(norm_dates)"
      ],
      "execution_count": 60,
      "outputs": []
    },
    {
      "cell_type": "markdown",
      "metadata": {
        "id": "nq2DQeVixemA",
        "colab_type": "text"
      },
      "source": [
        "### Value Normalization"
      ]
    },
    {
      "cell_type": "code",
      "metadata": {
        "id": "QMqaj_iog-2T",
        "colab_type": "code",
        "colab": {}
      },
      "source": [
        "for company_id, timeline in company_timelines.items():\n",
        "  initial_valuation = timeline['valuation'].iloc[0]\n",
        "  norm_valuations = pd.Series([value/initial_valuation for value in timeline['valuation']])\n",
        "  timeline['norm_valuations'] = norm_valuations"
      ],
      "execution_count": 63,
      "outputs": []
    },
    {
      "cell_type": "code",
      "metadata": {
        "id": "p0FzDcWuxmk0",
        "colab_type": "code",
        "colab": {}
      },
      "source": [
        ""
      ],
      "execution_count": null,
      "outputs": []
    }
  ]
}