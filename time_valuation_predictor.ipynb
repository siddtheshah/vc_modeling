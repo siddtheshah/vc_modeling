{
  "nbformat": 4,
  "nbformat_minor": 0,
  "metadata": {
    "colab": {
      "name": "time_valuation_predictor.ipynb",
      "provenance": [],
      "authorship_tag": "ABX9TyP054rtYyKilHmAaaebucYJ",
      "include_colab_link": true
    },
    "kernelspec": {
      "name": "python3",
      "display_name": "Python 3"
    }
  },
  "cells": [
    {
      "cell_type": "markdown",
      "metadata": {
        "id": "view-in-github",
        "colab_type": "text"
      },
      "source": [
        "<a href=\"https://colab.research.google.com/github/siddtheshah/vc_modeling/blob/master/time_valuation_predictor.ipynb\" target=\"_parent\"><img src=\"https://colab.research.google.com/assets/colab-badge.svg\" alt=\"Open In Colab\"/></a>"
      ]
    },
    {
      "cell_type": "code",
      "metadata": {
        "id": "N18M5YbuQwgf",
        "colab_type": "code",
        "colab": {}
      },
      "source": [
        "import os\n",
        "import numpy as np\n",
        "import pandas as pd\n",
        "import matplotlib.pyplot as plt\n",
        "\n",
        "from copy import deepcopy"
      ],
      "execution_count": 2,
      "outputs": []
    },
    {
      "cell_type": "code",
      "metadata": {
        "id": "g-oaxyayRp5e",
        "colab_type": "code",
        "colab": {
          "base_uri": "https://localhost:8080/",
          "height": 128
        },
        "outputId": "f8284b0d-bb3a-4dab-ef4c-ac29cd021427"
      },
      "source": [
        "from google.colab import drive\n",
        "drive.mount('/content/gdrive')"
      ],
      "execution_count": 3,
      "outputs": [
        {
          "output_type": "stream",
          "text": [
            "Go to this URL in a browser: https://accounts.google.com/o/oauth2/auth?client_id=947318989803-6bn6qk8qdgf4n4g3pfee6491hc0brc4i.apps.googleusercontent.com&redirect_uri=urn%3aietf%3awg%3aoauth%3a2.0%3aoob&response_type=code&scope=email%20https%3a%2f%2fwww.googleapis.com%2fauth%2fdocs.test%20https%3a%2f%2fwww.googleapis.com%2fauth%2fdrive%20https%3a%2f%2fwww.googleapis.com%2fauth%2fdrive.photos.readonly%20https%3a%2f%2fwww.googleapis.com%2fauth%2fpeopleapi.readonly\n",
            "\n",
            "Enter your authorization code:\n",
            "··········\n",
            "Mounted at /content/gdrive\n"
          ],
          "name": "stdout"
        }
      ]
    },
    {
      "cell_type": "code",
      "metadata": {
        "id": "Sv2bXXo0Sbwb",
        "colab_type": "code",
        "colab": {
          "base_uri": "https://localhost:8080/",
          "height": 73
        },
        "outputId": "8c58ee3b-0b95-4dda-f240-f80a8e2dd622"
      },
      "source": [
        "file_names = os.listdir(\"/content/gdrive/My Drive/vc_modeling/data/crunchbase_bulk_export/\")\n",
        "df_names = [x[:-4] for x in file_names]\n",
        "print(df_names)\n",
        "\n",
        "dfs = [pd.read_csv(\"/content/gdrive/My Drive/vc_modeling/data/crunchbase_bulk_export/\"+x) for x in file_names]\n",
        "df_dict = dict(zip(df_names, dfs))\n",
        "print(df_dict.keys())"
      ],
      "execution_count": 4,
      "outputs": [
        {
          "output_type": "stream",
          "text": [
            "['category_groups', 'funding_rounds', 'people', 'checksum', 'people_descriptions', 'investors', 'organization_descriptions', 'investment_partners', 'event_appearances', 'organizations', 'org_parents', 'jobs', 'acquisitions', 'funds', 'ipos', 'degrees', 'investments', 'events']\n",
            "dict_keys(['category_groups', 'funding_rounds', 'people', 'checksum', 'people_descriptions', 'investors', 'organization_descriptions', 'investment_partners', 'event_appearances', 'organizations', 'org_parents', 'jobs', 'acquisitions', 'funds', 'ipos', 'degrees', 'investments', 'events'])\n"
          ],
          "name": "stdout"
        }
      ]
    },
    {
      "cell_type": "code",
      "metadata": {
        "id": "4t2bVAXZZfxd",
        "colab_type": "code",
        "colab": {
          "base_uri": "https://localhost:8080/",
          "height": 382
        },
        "outputId": "f9187d2f-34bb-4bfe-f000-3ba3b7687010"
      },
      "source": [
        "df_dict['funding_rounds'].head()\n",
        "# df_dict['organizations'].head()"
      ],
      "execution_count": 5,
      "outputs": [
        {
          "output_type": "execute_result",
          "data": {
            "text/html": [
              "<div>\n",
              "<style scoped>\n",
              "    .dataframe tbody tr th:only-of-type {\n",
              "        vertical-align: middle;\n",
              "    }\n",
              "\n",
              "    .dataframe tbody tr th {\n",
              "        vertical-align: top;\n",
              "    }\n",
              "\n",
              "    .dataframe thead th {\n",
              "        text-align: right;\n",
              "    }\n",
              "</style>\n",
              "<table border=\"1\" class=\"dataframe\">\n",
              "  <thead>\n",
              "    <tr style=\"text-align: right;\">\n",
              "      <th></th>\n",
              "      <th>uuid</th>\n",
              "      <th>name</th>\n",
              "      <th>type</th>\n",
              "      <th>permalink</th>\n",
              "      <th>cb_url</th>\n",
              "      <th>rank</th>\n",
              "      <th>created_at</th>\n",
              "      <th>updated_at</th>\n",
              "      <th>country_code</th>\n",
              "      <th>state_code</th>\n",
              "      <th>region</th>\n",
              "      <th>city</th>\n",
              "      <th>investment_type</th>\n",
              "      <th>announced_on</th>\n",
              "      <th>raised_amount_usd</th>\n",
              "      <th>raised_amount</th>\n",
              "      <th>raised_amount_currency_code</th>\n",
              "      <th>post_money_valuation_usd</th>\n",
              "      <th>post_money_valuation</th>\n",
              "      <th>post_money_valuation_currency_code</th>\n",
              "      <th>investor_count</th>\n",
              "      <th>org_uuid</th>\n",
              "      <th>org_name</th>\n",
              "      <th>lead_investor_uuids</th>\n",
              "    </tr>\n",
              "  </thead>\n",
              "  <tbody>\n",
              "    <tr>\n",
              "      <th>0</th>\n",
              "      <td>8a945939-18e0-cc9d-27b9-bf33817b2818</td>\n",
              "      <td>Angel Round - Facebook</td>\n",
              "      <td>funding_round</td>\n",
              "      <td>facebook-angel--8a945939</td>\n",
              "      <td>https://www.crunchbase.com/funding_round/faceb...</td>\n",
              "      <td>143236.0</td>\n",
              "      <td>2007-05-27 06:08:18</td>\n",
              "      <td>2018-02-12 23:05:39</td>\n",
              "      <td>USA</td>\n",
              "      <td>CA</td>\n",
              "      <td>California</td>\n",
              "      <td>Menlo Park</td>\n",
              "      <td>angel</td>\n",
              "      <td>2004-09-01</td>\n",
              "      <td>500000.0</td>\n",
              "      <td>500000.0</td>\n",
              "      <td>USD</td>\n",
              "      <td>NaN</td>\n",
              "      <td>NaN</td>\n",
              "      <td>USD</td>\n",
              "      <td>4.0</td>\n",
              "      <td>df662812-7f97-0b43-9d3e-12f64f504fbb</td>\n",
              "      <td>Facebook</td>\n",
              "      <td>3f47be49-2e32-8118-01a0-31685a4d0fd7</td>\n",
              "    </tr>\n",
              "    <tr>\n",
              "      <th>1</th>\n",
              "      <td>d950d7a5-79ff-fb93-ca87-13386b0e2feb</td>\n",
              "      <td>Series A - Facebook</td>\n",
              "      <td>funding_round</td>\n",
              "      <td>facebook-series-a--d950d7a5</td>\n",
              "      <td>https://www.crunchbase.com/funding_round/faceb...</td>\n",
              "      <td>145939.0</td>\n",
              "      <td>2007-05-27 06:09:10</td>\n",
              "      <td>2018-02-12 23:52:16</td>\n",
              "      <td>USA</td>\n",
              "      <td>CA</td>\n",
              "      <td>California</td>\n",
              "      <td>Menlo Park</td>\n",
              "      <td>series_a</td>\n",
              "      <td>2005-05-01</td>\n",
              "      <td>12700000.0</td>\n",
              "      <td>12700000.0</td>\n",
              "      <td>USD</td>\n",
              "      <td>98000000.0</td>\n",
              "      <td>98000000.0</td>\n",
              "      <td>USD</td>\n",
              "      <td>4.0</td>\n",
              "      <td>df662812-7f97-0b43-9d3e-12f64f504fbb</td>\n",
              "      <td>Facebook</td>\n",
              "      <td>b08efc27-da40-505a-6f9d-c9e14247bf36</td>\n",
              "    </tr>\n",
              "    <tr>\n",
              "      <th>2</th>\n",
              "      <td>6fae3958-a001-27c0-fb7e-666266aedd78</td>\n",
              "      <td>Series B - Facebook</td>\n",
              "      <td>funding_round</td>\n",
              "      <td>facebook-series-b--6fae3958</td>\n",
              "      <td>https://www.crunchbase.com/funding_round/faceb...</td>\n",
              "      <td>273250.0</td>\n",
              "      <td>2007-05-27 06:09:36</td>\n",
              "      <td>2018-02-12 23:30:46</td>\n",
              "      <td>USA</td>\n",
              "      <td>CA</td>\n",
              "      <td>California</td>\n",
              "      <td>Menlo Park</td>\n",
              "      <td>series_b</td>\n",
              "      <td>2006-04-01</td>\n",
              "      <td>27500000.0</td>\n",
              "      <td>27500000.0</td>\n",
              "      <td>USD</td>\n",
              "      <td>502500000.0</td>\n",
              "      <td>502500000.0</td>\n",
              "      <td>USD</td>\n",
              "      <td>5.0</td>\n",
              "      <td>df662812-7f97-0b43-9d3e-12f64f504fbb</td>\n",
              "      <td>Facebook</td>\n",
              "      <td>e2006571-6b7a-e477-002a-f7014f48a7e3,8d5c7e48-...</td>\n",
              "    </tr>\n",
              "    <tr>\n",
              "      <th>3</th>\n",
              "      <td>bcd5a63d-ed99-6963-0dd2-e36f6582f846</td>\n",
              "      <td>Series B - Photobucket</td>\n",
              "      <td>funding_round</td>\n",
              "      <td>photobucket-series-b--bcd5a63d</td>\n",
              "      <td>https://www.crunchbase.com/funding_round/photo...</td>\n",
              "      <td>149479.0</td>\n",
              "      <td>2007-05-29 11:05:59</td>\n",
              "      <td>2018-02-12 23:27:36</td>\n",
              "      <td>USA</td>\n",
              "      <td>CO</td>\n",
              "      <td>Colorado</td>\n",
              "      <td>Denver</td>\n",
              "      <td>series_b</td>\n",
              "      <td>2006-05-01</td>\n",
              "      <td>10500000.0</td>\n",
              "      <td>10500000.0</td>\n",
              "      <td>USD</td>\n",
              "      <td>NaN</td>\n",
              "      <td>NaN</td>\n",
              "      <td>USD</td>\n",
              "      <td>2.0</td>\n",
              "      <td>f53cb4de-236e-0b1b-dee8-7104a8b018f9</td>\n",
              "      <td>Photobucket</td>\n",
              "      <td>NaN</td>\n",
              "    </tr>\n",
              "    <tr>\n",
              "      <th>4</th>\n",
              "      <td>60e6afd9-1215-465a-dd17-0ed600d4e29b</td>\n",
              "      <td>Series A - Geni</td>\n",
              "      <td>funding_round</td>\n",
              "      <td>geni-series-a--60e6afd9</td>\n",
              "      <td>https://www.crunchbase.com/funding_round/geni-...</td>\n",
              "      <td>313010.0</td>\n",
              "      <td>2007-05-31 20:19:28</td>\n",
              "      <td>2018-02-12 23:41:29</td>\n",
              "      <td>USA</td>\n",
              "      <td>CA</td>\n",
              "      <td>California</td>\n",
              "      <td>West Hollywood</td>\n",
              "      <td>series_a</td>\n",
              "      <td>2007-01-17</td>\n",
              "      <td>NaN</td>\n",
              "      <td>NaN</td>\n",
              "      <td>NaN</td>\n",
              "      <td>10000000.0</td>\n",
              "      <td>10000000.0</td>\n",
              "      <td>USD</td>\n",
              "      <td>1.0</td>\n",
              "      <td>4111dc8b-c0df-2d24-ed33-30cd137b3098</td>\n",
              "      <td>Geni</td>\n",
              "      <td>fb2f8884-ec07-895a-48d7-d9a9d4d7175c</td>\n",
              "    </tr>\n",
              "  </tbody>\n",
              "</table>\n",
              "</div>"
            ],
            "text/plain": [
              "                                   uuid  ...                                lead_investor_uuids\n",
              "0  8a945939-18e0-cc9d-27b9-bf33817b2818  ...               3f47be49-2e32-8118-01a0-31685a4d0fd7\n",
              "1  d950d7a5-79ff-fb93-ca87-13386b0e2feb  ...               b08efc27-da40-505a-6f9d-c9e14247bf36\n",
              "2  6fae3958-a001-27c0-fb7e-666266aedd78  ...  e2006571-6b7a-e477-002a-f7014f48a7e3,8d5c7e48-...\n",
              "3  bcd5a63d-ed99-6963-0dd2-e36f6582f846  ...                                                NaN\n",
              "4  60e6afd9-1215-465a-dd17-0ed600d4e29b  ...               fb2f8884-ec07-895a-48d7-d9a9d4d7175c\n",
              "\n",
              "[5 rows x 24 columns]"
            ]
          },
          "metadata": {
            "tags": []
          },
          "execution_count": 5
        }
      ]
    },
    {
      "cell_type": "code",
      "metadata": {
        "id": "cfBrl63PUQ75",
        "colab_type": "code",
        "colab": {}
      },
      "source": [
        "# We should select a set of companies for which there aren't a lot of missing values. But we don't want to overbias either.\n",
        "\n",
        "# def join_data_per_company(df_dict, company_ids):\n",
        "#   # Companies \n",
        "#   funding_rounds = df_dict['funding_rounds']\n",
        "\n",
        "#   truncated = funding_rounds[funding_rounds['org_uuid'].isin(company_ids)]\n",
        "#   return df_dict['funding_rounds'][company_ids]\n",
        "#   # df_dict['organizations'][company_ids]\n",
        "\n",
        "company_ids = ['df662812-7f97-0b43-9d3e-12f64f504fbb']\n",
        "# join_data_per_company(df_dict, company_ids)"
      ],
      "execution_count": 6,
      "outputs": []
    },
    {
      "cell_type": "code",
      "metadata": {
        "id": "UtCv8vMqg4ER",
        "colab_type": "code",
        "colab": {}
      },
      "source": [
        "funding_data = deepcopy(\n",
        "    df_dict[\"funding_rounds\"][['org_uuid', 'announced_on', 'post_money_valuation_usd']]).rename(\n",
        "    columns={\"announced_on\": \"date\", \"post_money_valuation_usd\": \"valuation\"})\n",
        "acquisitions_data = deepcopy(df_dict[\"acquisitions\"][['acquiree_uuid', 'acquired_on', 'price_usd']]).rename(\n",
        "    columns={\"acquiree_uuid\": \"org_uuid\", \"acquired_on\": \"date\", \"price_usd\": \"valuation\"})\n",
        "ipos_data = deepcopy(df_dict[\"ipos\"][['org_uuid', 'went_public_on', 'valuation_price_usd']]).rename(\n",
        "    columns={\"went_public_on\": \"date\", \"valuation_price_usd\": \"valuation\"})\n",
        "\n",
        "types = df_dict[\"acquisitions\"][['type']].values\n",
        "acquisition_types = df_dict[\"acquisitions\"][['acquisition_type']].values\n",
        "acquisitions_data['event'] = [types[x][0] if not isinstance(acquisition_types[x][0], str) \n",
        "                              else acquisition_types[x][0] for x in range(len(acquisitions_data))]\n",
        "funding_data['event'] = pd.Series([x[0] for x in df_dict[\"funding_rounds\"]['name'].str.split(\" - \")])\n",
        "ipos_data['event'] = df_dict['ipos']['stock_exchange_symbol']\n",
        "\n",
        "timelines = pd.concat([funding_data, acquisitions_data, ipos_data])\n",
        "\n",
        "# Normalize dates\n",
        "\n",
        "timelines.sort_values(by=['org_uuid', 'date'], inplace=True)\n",
        "timelines.reset_index(inplace=True, drop=True)\n",
        "\n",
        "timelines.set_index(['org_uuid'])\n",
        "grouped_timelines = timelines.groupby(['org_uuid'])"
      ],
      "execution_count": 7,
      "outputs": []
    },
    {
      "cell_type": "markdown",
      "metadata": {
        "id": "N_WkfRPdvX7J",
        "colab_type": "text"
      },
      "source": [
        "# Normalization of dependent variables"
      ]
    },
    {
      "cell_type": "markdown",
      "metadata": {
        "id": "bh02mtC8xcRP",
        "colab_type": "text"
      },
      "source": [
        "### Time Normalization"
      ]
    },
    {
      "cell_type": "code",
      "metadata": {
        "id": "tMCMOTtmg8k3",
        "colab_type": "code",
        "colab": {}
      },
      "source": [
        "import datetime\n",
        "company_timelines = {}\n",
        "\n",
        "milli_per_day = 86400  # Used for converting Unix time\n",
        "\n",
        "for company_id in company_ids:\n",
        "  timeline = grouped_timelines.get_group(company_id).copy()\n",
        "  timeline = timeline[timeline['valuation'].notnull()]               # We only care about times at which there is a valuation of the company.\n",
        "  timeline.reset_index(inplace=True, drop=True)\n",
        "\n",
        "  day_zero = datetime.datetime.strptime(timeline['date'].iloc[0], '%Y-%m-%d').timestamp()\n",
        "  parsed_dates = pd.Series([datetime.datetime.strptime(x, '%Y-%m-%d').timestamp() for x in timeline['date']])\n",
        "  norm_dates = (parsed_dates - day_zero)/milli_per_day\n",
        "  timeline['norm_dates'] = norm_dates\n",
        "  company_timelines[company_id] = timeline\n",
        "  # print(timeline)\n",
        "  # print(norm_dates)"
      ],
      "execution_count": 8,
      "outputs": []
    },
    {
      "cell_type": "markdown",
      "metadata": {
        "id": "nq2DQeVixemA",
        "colab_type": "text"
      },
      "source": [
        "### Value Normalization"
      ]
    },
    {
      "cell_type": "code",
      "metadata": {
        "id": "QMqaj_iog-2T",
        "colab_type": "code",
        "colab": {}
      },
      "source": [
        "for company_id, timeline in company_timelines.items():\n",
        "  initial_valuation = timeline['valuation'].iloc[0]\n",
        "  norm_valuations = pd.Series([np.log(value/initial_valuation) for value in timeline['valuation']])\n",
        "  timeline['norm_valuations'] = norm_valuations"
      ],
      "execution_count": 9,
      "outputs": []
    },
    {
      "cell_type": "markdown",
      "metadata": {
        "id": "yqY9BtE1UNjm",
        "colab_type": "text"
      },
      "source": [
        "# Selecting Independent Vars"
      ]
    },
    {
      "cell_type": "code",
      "metadata": {
        "id": "p0FzDcWuxmk0",
        "colab_type": "code",
        "colab": {
          "base_uri": "https://localhost:8080/",
          "height": 556
        },
        "outputId": "d9c604e4-c98e-4f00-b303-1540abf45025"
      },
      "source": [
        "df_dict['jobs'].head()"
      ],
      "execution_count": 10,
      "outputs": [
        {
          "output_type": "execute_result",
          "data": {
            "text/html": [
              "<div>\n",
              "<style scoped>\n",
              "    .dataframe tbody tr th:only-of-type {\n",
              "        vertical-align: middle;\n",
              "    }\n",
              "\n",
              "    .dataframe tbody tr th {\n",
              "        vertical-align: top;\n",
              "    }\n",
              "\n",
              "    .dataframe thead th {\n",
              "        text-align: right;\n",
              "    }\n",
              "</style>\n",
              "<table border=\"1\" class=\"dataframe\">\n",
              "  <thead>\n",
              "    <tr style=\"text-align: right;\">\n",
              "      <th></th>\n",
              "      <th>uuid</th>\n",
              "      <th>name</th>\n",
              "      <th>type</th>\n",
              "      <th>permalink</th>\n",
              "      <th>cb_url</th>\n",
              "      <th>rank</th>\n",
              "      <th>created_at</th>\n",
              "      <th>updated_at</th>\n",
              "      <th>person_uuid</th>\n",
              "      <th>person_name</th>\n",
              "      <th>org_uuid</th>\n",
              "      <th>org_name</th>\n",
              "      <th>started_on</th>\n",
              "      <th>ended_on</th>\n",
              "      <th>is_current</th>\n",
              "      <th>title</th>\n",
              "      <th>job_type</th>\n",
              "    </tr>\n",
              "  </thead>\n",
              "  <tbody>\n",
              "    <tr>\n",
              "      <th>0</th>\n",
              "      <td>697b6934-fc1f-9d63-cfb2-1a10759b378e</td>\n",
              "      <td>Ben Elowitz Co-Founder/CEO/Board of Directors ...</td>\n",
              "      <td>job</td>\n",
              "      <td>ben-elowitz-executive-wetpaint--697b6934</td>\n",
              "      <td>https://www.crunchbase.com/job/ben-elowitz-exe...</td>\n",
              "      <td>NaN</td>\n",
              "      <td>2007-05-25 07:03:54</td>\n",
              "      <td>2018-02-13 01:26:54</td>\n",
              "      <td>ed13cd36-fe2b-3707-197b-0c2d56e37a71</td>\n",
              "      <td>Ben Elowitz</td>\n",
              "      <td>e1393508-30ea-8a36-3f96-dd3226033abd</td>\n",
              "      <td>Wetpaint</td>\n",
              "      <td>NaN</td>\n",
              "      <td>NaN</td>\n",
              "      <td>False</td>\n",
              "      <td>Co-Founder/CEO/Board of Directors</td>\n",
              "      <td>executive</td>\n",
              "    </tr>\n",
              "    <tr>\n",
              "      <th>1</th>\n",
              "      <td>b1de3765-442e-b556-9304-551c2a055901</td>\n",
              "      <td>Kevin Flaherty VP Marketing @ Wetpaint</td>\n",
              "      <td>job</td>\n",
              "      <td>kevin-flaherty-executive-wetpaint--b1de3765</td>\n",
              "      <td>https://www.crunchbase.com/job/kevin-flaherty-...</td>\n",
              "      <td>NaN</td>\n",
              "      <td>2007-05-25 07:04:16</td>\n",
              "      <td>2018-02-13 01:32:51</td>\n",
              "      <td>5ceca97b-493c-1446-6249-5aaa33464763</td>\n",
              "      <td>Kevin Flaherty</td>\n",
              "      <td>e1393508-30ea-8a36-3f96-dd3226033abd</td>\n",
              "      <td>Wetpaint</td>\n",
              "      <td>NaN</td>\n",
              "      <td>NaN</td>\n",
              "      <td>False</td>\n",
              "      <td>VP Marketing</td>\n",
              "      <td>executive</td>\n",
              "    </tr>\n",
              "    <tr>\n",
              "      <th>2</th>\n",
              "      <td>1319cd30-f5e8-c700-0af6-64029c6f7124</td>\n",
              "      <td>Raju Vegesna Chief Evangelist @ Zoho</td>\n",
              "      <td>job</td>\n",
              "      <td>raju-vegesna-employee-zoho--1319cd30</td>\n",
              "      <td>https://www.crunchbase.com/job/raju-vegesna-em...</td>\n",
              "      <td>NaN</td>\n",
              "      <td>2007-05-25 19:33:03</td>\n",
              "      <td>2018-02-13 01:19:53</td>\n",
              "      <td>9f99a98a-aa97-b30b-0d36-db67c1d277e0</td>\n",
              "      <td>Raju Vegesna</td>\n",
              "      <td>bf4d7b0e-b34d-2fd8-d292-6049c4f7efc7</td>\n",
              "      <td>Zoho</td>\n",
              "      <td>2000-11-01</td>\n",
              "      <td>NaN</td>\n",
              "      <td>True</td>\n",
              "      <td>Chief Evangelist</td>\n",
              "      <td>employee</td>\n",
              "    </tr>\n",
              "    <tr>\n",
              "      <th>3</th>\n",
              "      <td>27a252de-1ea8-c620-b2d4-5b889fa9b40f</td>\n",
              "      <td>Ian Wenig VP Business Development @ Zoho</td>\n",
              "      <td>job</td>\n",
              "      <td>ian-wenig-executive-zoho--27a252de</td>\n",
              "      <td>https://www.crunchbase.com/job/ian-wenig-execu...</td>\n",
              "      <td>NaN</td>\n",
              "      <td>2007-05-25 19:34:53</td>\n",
              "      <td>2018-02-13 01:21:35</td>\n",
              "      <td>6e1bca72-a865-b518-b305-31214ce2d1b0</td>\n",
              "      <td>Ian Wenig</td>\n",
              "      <td>bf4d7b0e-b34d-2fd8-d292-6049c4f7efc7</td>\n",
              "      <td>Zoho</td>\n",
              "      <td>2006-03-01</td>\n",
              "      <td>NaN</td>\n",
              "      <td>True</td>\n",
              "      <td>VP Business Development</td>\n",
              "      <td>executive</td>\n",
              "    </tr>\n",
              "    <tr>\n",
              "      <th>4</th>\n",
              "      <td>5a802a79-229f-44ae-0aba-db330f10b67a</td>\n",
              "      <td>Jay Adelson CEO @ Digg</td>\n",
              "      <td>job</td>\n",
              "      <td>jay-adelson-executive-digg--5a802a79</td>\n",
              "      <td>https://www.crunchbase.com/job/jay-adelson-exe...</td>\n",
              "      <td>NaN</td>\n",
              "      <td>2007-05-25 20:05:33</td>\n",
              "      <td>2018-02-13 01:25:38</td>\n",
              "      <td>c92a1f00-8c19-bf2e-0f28-dbbd383dc968</td>\n",
              "      <td>Jay Adelson</td>\n",
              "      <td>5f2b40b8-d1b3-d323-d81a-b7a8e89553d0</td>\n",
              "      <td>Digg</td>\n",
              "      <td>2005-07-01</td>\n",
              "      <td>2010-04-05</td>\n",
              "      <td>False</td>\n",
              "      <td>CEO</td>\n",
              "      <td>executive</td>\n",
              "    </tr>\n",
              "  </tbody>\n",
              "</table>\n",
              "</div>"
            ],
            "text/plain": [
              "                                   uuid  ...   job_type\n",
              "0  697b6934-fc1f-9d63-cfb2-1a10759b378e  ...  executive\n",
              "1  b1de3765-442e-b556-9304-551c2a055901  ...  executive\n",
              "2  1319cd30-f5e8-c700-0af6-64029c6f7124  ...   employee\n",
              "3  27a252de-1ea8-c620-b2d4-5b889fa9b40f  ...  executive\n",
              "4  5a802a79-229f-44ae-0aba-db330f10b67a  ...  executive\n",
              "\n",
              "[5 rows x 17 columns]"
            ]
          },
          "metadata": {
            "tags": []
          },
          "execution_count": 10
        }
      ]
    },
    {
      "cell_type": "code",
      "metadata": {
        "id": "myLsoDNoVGb_",
        "colab_type": "code",
        "colab": {
          "base_uri": "https://localhost:8080/",
          "height": 243
        },
        "outputId": "4febf66c-d9da-43c1-8042-ff8c63d0aafe"
      },
      "source": [
        "company_data = {}\n",
        "\n",
        "org_info = df_dict['organizations']\n",
        "\n",
        "# Filter down the data purely to investees\n",
        "org_info = org_info[org_info['primary_role'] == 'company']\n",
        "\n",
        "# Select organization data\n",
        "\n",
        "org_info_selected = org_info[['uuid', 'region', 'category_list', 'category_groups_list']]\n",
        "\n",
        "# Clean the df\n",
        "\n",
        "org_info_selected = org_info_selected.dropna()\n",
        "\n",
        "comma_sep_list_vars = ['category_list', 'category_groups_list']\n",
        "categorical_vars = ['region']\n",
        "\n",
        "\n",
        "## TODO: Add more columns to the company data, like joining founder + degree earned\n",
        "\n",
        "# Dummyize the data\n",
        "# Unfortunately, because the categories are flattened into a comma separated list, we must separate them\n",
        "\n",
        "data_dense_rows = []\n",
        "data_sparse_rows = []\n",
        "dummy_list_var_index = 0\n",
        "list_var_set = set()\n",
        "\n",
        "for i, row in org_info_selected.iterrows():\n",
        "  sparse_out = {}\n",
        "  dense_out = {}\n",
        "  for col, _ in row.iteritems():\n",
        "    if col in comma_sep_list_vars:\n",
        "      # Break categories into unigrams\n",
        "      token_lists = [x.split(' ') for x in row[col].strip().split(',')]\n",
        "      value_types = []\n",
        "      for token_list in token_lists:\n",
        "        for token in token_list:\n",
        "          value_types.append(token)\n",
        "      for value_type in value_types:\n",
        "        sparse_out[value_type] = 1\n",
        "        list_var_set.add(value_type)\n",
        "    elif col in categorical_vars:\n",
        "      value_type = row[col]\n",
        "      sparse_out[value_type] = 1\n",
        "    else:\n",
        "      dense_out[col] = row[col]\n",
        "  dense_out['uuid'] = row['uuid']\n",
        "  data_sparse_rows.append(pd.DataFrame.from_dict(sparse_out, orient='index').astype(pd.SparseDtype(int, np.nan)))\n",
        "  data_dense_rows.append(dense_out)\n",
        "  print(len(list_var_set))\n",
        "\n",
        "print(\"Concatenating\")\n",
        "sparse_output = pd.concat(data_sparse_rows, axis=0, ignore_index=True)\n",
        "dense_output = pd.concat(data_dense_rows, axis=0, ignore_index=True)\n",
        "output.head()"
      ],
      "execution_count": 1,
      "outputs": [
        {
          "output_type": "error",
          "ename": "NameError",
          "evalue": "ignored",
          "traceback": [
            "\u001b[0;31m---------------------------------------------------------------------------\u001b[0m",
            "\u001b[0;31mNameError\u001b[0m                                 Traceback (most recent call last)",
            "\u001b[0;32m<ipython-input-1-58227d36b164>\u001b[0m in \u001b[0;36m<module>\u001b[0;34m()\u001b[0m\n\u001b[1;32m      1\u001b[0m \u001b[0mcompany_data\u001b[0m \u001b[0;34m=\u001b[0m \u001b[0;34m{\u001b[0m\u001b[0;34m}\u001b[0m\u001b[0;34m\u001b[0m\u001b[0;34m\u001b[0m\u001b[0m\n\u001b[1;32m      2\u001b[0m \u001b[0;34m\u001b[0m\u001b[0m\n\u001b[0;32m----> 3\u001b[0;31m \u001b[0morg_info\u001b[0m \u001b[0;34m=\u001b[0m \u001b[0mdf_dict\u001b[0m\u001b[0;34m[\u001b[0m\u001b[0;34m'organizations'\u001b[0m\u001b[0;34m]\u001b[0m\u001b[0;34m\u001b[0m\u001b[0;34m\u001b[0m\u001b[0m\n\u001b[0m\u001b[1;32m      4\u001b[0m \u001b[0;34m\u001b[0m\u001b[0m\n\u001b[1;32m      5\u001b[0m \u001b[0;31m# Filter down the data purely to investees\u001b[0m\u001b[0;34m\u001b[0m\u001b[0;34m\u001b[0m\u001b[0;34m\u001b[0m\u001b[0m\n",
            "\u001b[0;31mNameError\u001b[0m: name 'df_dict' is not defined"
          ]
        }
      ]
    },
    {
      "cell_type": "markdown",
      "metadata": {
        "id": "lCk_IObeZD2a",
        "colab_type": "text"
      },
      "source": [
        "# Modelling the problem in the scope of a strategy\n",
        "\n",
        "Suppose my strategy was mostly based on my expectations of what value a startup reached by day N. \n",
        "\n",
        "I could define N to be [0, 500, 1000, 1500], and that means I am making decisions based on predicted valuation at days 0, 500, 1000, 1500. \n",
        "\n",
        "For each N, we can train a regressor that predicts valuation at day N. If day N\n",
        "does not have a specific price, we interpolate linearly between price points."
      ]
    },
    {
      "cell_type": "code",
      "metadata": {
        "id": "RWXmRaGqaUjs",
        "colab_type": "code",
        "colab": {}
      },
      "source": [
        "prediction_dates = [500]\n",
        "\n"
      ],
      "execution_count": 11,
      "outputs": []
    }
  ]
}