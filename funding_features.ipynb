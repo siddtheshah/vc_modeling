{
  "nbformat": 4,
  "nbformat_minor": 0,
  "metadata": {
    "kernelspec": {
      "display_name": "Python 3",
      "language": "python",
      "name": "python3"
    },
    "language_info": {
      "codemirror_mode": {
        "name": "ipython",
        "version": 3
      },
      "file_extension": ".py",
      "mimetype": "text/x-python",
      "name": "python",
      "nbconvert_exporter": "python",
      "pygments_lexer": "ipython3",
      "version": "3.7.3"
    },
    "colab": {
      "name": "funding_features.ipynb",
      "provenance": [],
      "collapsed_sections": []
    }
  },
  "cells": [
    {
      "cell_type": "code",
      "metadata": {
        "id": "eBNuWj1E19wF",
        "colab_type": "code",
        "colab": {}
      },
      "source": [
        "!pip3 install arrow\n",
        "\n",
        "import os\n",
        "import arrow\n",
        "import datetime\n",
        "import numpy as np\n",
        "import pandas as pd\n",
        "import matplotlib.pyplot as plt\n",
        "\n",
        "from copy import deepcopy"
      ],
      "execution_count": 1,
      "outputs": []
    },
    {
      "cell_type": "code",
      "metadata": {
        "id": "DbycjxQ62Pw8",
        "colab_type": "code",
        "colab": {
          "base_uri": "https://localhost:8080/",
          "height": 158
        },
        "outputId": "576114cc-a6a8-43f9-8828-292f3d9f5866"
      },
      "source": [
        "from google.colab import drive\n",
        "drive.mount('/content/gdrive')\n",
        "os.listdir('/content/gdrive/My Drive/vc_modeling')"
      ],
      "execution_count": 4,
      "outputs": [
        {
          "output_type": "execute_result",
          "data": {
            "text/plain": [
              "['presentation_poster.pptx',\n",
              " 'data',\n",
              " 'regression_targets',\n",
              " 'feature_extraction',\n",
              " 'model output data spec.gsheet',\n",
              " 'models',\n",
              " '.ipynb_checkpoints',\n",
              " 'model_output']"
            ]
          },
          "metadata": {
            "tags": []
          },
          "execution_count": 4
        }
      ]
    },
    {
      "cell_type": "code",
      "metadata": {
        "id": "hnvmUqam19wJ",
        "colab_type": "code",
        "colab": {
          "base_uri": "https://localhost:8080/",
          "height": 54
        },
        "outputId": "b87a5487-6f9e-4726-d5b7-48bfc7195650"
      },
      "source": [
        "file_names = os.listdir(\"/content/gdrive/My Drive/vc_modeling/data/crunchbase_bulk_export/\")\n",
        "print(file_names)"
      ],
      "execution_count": 5,
      "outputs": [
        {
          "output_type": "stream",
          "text": [
            "['category_groups.csv', 'funding_rounds.csv', 'people.csv', 'checksum.csv', 'people_descriptions.csv', 'investors.csv', 'organization_descriptions.csv', 'investment_partners.csv', 'event_appearances.csv', 'organizations.csv', 'org_parents.csv', 'jobs.csv', 'acquisitions.csv', 'funds.csv', 'ipos.csv', 'degrees.csv', 'investments.csv', 'events.csv']\n"
          ],
          "name": "stdout"
        }
      ]
    },
    {
      "cell_type": "code",
      "metadata": {
        "id": "ftP5SlOROZAP",
        "colab_type": "code",
        "colab": {
          "base_uri": "https://localhost:8080/",
          "height": 227
        },
        "outputId": "fe592425-c1c8-4ea6-a780-fc649bd61d44"
      },
      "source": [
        "funding_df = pd.read_csv(\"/content/gdrive/My Drive/vc_modeling/data/crunchbase_bulk_export/funding_rounds.csv\")\n",
        "funding_df.head(2)"
      ],
      "execution_count": 8,
      "outputs": [
        {
          "output_type": "execute_result",
          "data": {
            "text/html": [
              "<div>\n",
              "<style scoped>\n",
              "    .dataframe tbody tr th:only-of-type {\n",
              "        vertical-align: middle;\n",
              "    }\n",
              "\n",
              "    .dataframe tbody tr th {\n",
              "        vertical-align: top;\n",
              "    }\n",
              "\n",
              "    .dataframe thead th {\n",
              "        text-align: right;\n",
              "    }\n",
              "</style>\n",
              "<table border=\"1\" class=\"dataframe\">\n",
              "  <thead>\n",
              "    <tr style=\"text-align: right;\">\n",
              "      <th></th>\n",
              "      <th>uuid</th>\n",
              "      <th>name</th>\n",
              "      <th>type</th>\n",
              "      <th>permalink</th>\n",
              "      <th>cb_url</th>\n",
              "      <th>rank</th>\n",
              "      <th>created_at</th>\n",
              "      <th>updated_at</th>\n",
              "      <th>country_code</th>\n",
              "      <th>state_code</th>\n",
              "      <th>region</th>\n",
              "      <th>city</th>\n",
              "      <th>investment_type</th>\n",
              "      <th>announced_on</th>\n",
              "      <th>raised_amount_usd</th>\n",
              "      <th>raised_amount</th>\n",
              "      <th>raised_amount_currency_code</th>\n",
              "      <th>post_money_valuation_usd</th>\n",
              "      <th>post_money_valuation</th>\n",
              "      <th>post_money_valuation_currency_code</th>\n",
              "      <th>investor_count</th>\n",
              "      <th>org_uuid</th>\n",
              "      <th>org_name</th>\n",
              "      <th>lead_investor_uuids</th>\n",
              "    </tr>\n",
              "  </thead>\n",
              "  <tbody>\n",
              "    <tr>\n",
              "      <th>0</th>\n",
              "      <td>8a945939-18e0-cc9d-27b9-bf33817b2818</td>\n",
              "      <td>Angel Round - Facebook</td>\n",
              "      <td>funding_round</td>\n",
              "      <td>facebook-angel--8a945939</td>\n",
              "      <td>https://www.crunchbase.com/funding_round/faceb...</td>\n",
              "      <td>143236.0</td>\n",
              "      <td>2007-05-27 06:08:18</td>\n",
              "      <td>2018-02-12 23:05:39</td>\n",
              "      <td>USA</td>\n",
              "      <td>CA</td>\n",
              "      <td>California</td>\n",
              "      <td>Menlo Park</td>\n",
              "      <td>angel</td>\n",
              "      <td>2004-09-01</td>\n",
              "      <td>500000.0</td>\n",
              "      <td>500000.0</td>\n",
              "      <td>USD</td>\n",
              "      <td>NaN</td>\n",
              "      <td>NaN</td>\n",
              "      <td>USD</td>\n",
              "      <td>4.0</td>\n",
              "      <td>df662812-7f97-0b43-9d3e-12f64f504fbb</td>\n",
              "      <td>Facebook</td>\n",
              "      <td>3f47be49-2e32-8118-01a0-31685a4d0fd7</td>\n",
              "    </tr>\n",
              "    <tr>\n",
              "      <th>1</th>\n",
              "      <td>d950d7a5-79ff-fb93-ca87-13386b0e2feb</td>\n",
              "      <td>Series A - Facebook</td>\n",
              "      <td>funding_round</td>\n",
              "      <td>facebook-series-a--d950d7a5</td>\n",
              "      <td>https://www.crunchbase.com/funding_round/faceb...</td>\n",
              "      <td>145939.0</td>\n",
              "      <td>2007-05-27 06:09:10</td>\n",
              "      <td>2018-02-12 23:52:16</td>\n",
              "      <td>USA</td>\n",
              "      <td>CA</td>\n",
              "      <td>California</td>\n",
              "      <td>Menlo Park</td>\n",
              "      <td>series_a</td>\n",
              "      <td>2005-05-01</td>\n",
              "      <td>12700000.0</td>\n",
              "      <td>12700000.0</td>\n",
              "      <td>USD</td>\n",
              "      <td>98000000.0</td>\n",
              "      <td>98000000.0</td>\n",
              "      <td>USD</td>\n",
              "      <td>4.0</td>\n",
              "      <td>df662812-7f97-0b43-9d3e-12f64f504fbb</td>\n",
              "      <td>Facebook</td>\n",
              "      <td>b08efc27-da40-505a-6f9d-c9e14247bf36</td>\n",
              "    </tr>\n",
              "  </tbody>\n",
              "</table>\n",
              "</div>"
            ],
            "text/plain": [
              "                                   uuid  ...                   lead_investor_uuids\n",
              "0  8a945939-18e0-cc9d-27b9-bf33817b2818  ...  3f47be49-2e32-8118-01a0-31685a4d0fd7\n",
              "1  d950d7a5-79ff-fb93-ca87-13386b0e2feb  ...  b08efc27-da40-505a-6f9d-c9e14247bf36\n",
              "\n",
              "[2 rows x 24 columns]"
            ]
          },
          "metadata": {
            "tags": []
          },
          "execution_count": 8
        }
      ]
    },
    {
      "cell_type": "markdown",
      "metadata": {
        "id": "oRWEAkORYCqz",
        "colab_type": "text"
      },
      "source": [
        "Classification features"
      ]
    },
    {
      "cell_type": "code",
      "metadata": {
        "id": "MnwQqPWAO9kL",
        "colab_type": "code",
        "colab": {
          "base_uri": "https://localhost:8080/",
          "height": 197
        },
        "outputId": "1cf9134e-e244-4a4e-d4f6-859528df72a8"
      },
      "source": [
        "num_funding_rounds = funding_df.groupby(\"org_uuid\", as_index=\"False\").size().reset_index(name=\"num_funding_rounds\")\n",
        "num_funding_rounds.head()"
      ],
      "execution_count": null,
      "outputs": [
        {
          "output_type": "execute_result",
          "data": {
            "text/html": [
              "<div>\n",
              "<style scoped>\n",
              "    .dataframe tbody tr th:only-of-type {\n",
              "        vertical-align: middle;\n",
              "    }\n",
              "\n",
              "    .dataframe tbody tr th {\n",
              "        vertical-align: top;\n",
              "    }\n",
              "\n",
              "    .dataframe thead th {\n",
              "        text-align: right;\n",
              "    }\n",
              "</style>\n",
              "<table border=\"1\" class=\"dataframe\">\n",
              "  <thead>\n",
              "    <tr style=\"text-align: right;\">\n",
              "      <th></th>\n",
              "      <th>org_uuid</th>\n",
              "      <th>num_funding_rounds</th>\n",
              "    </tr>\n",
              "  </thead>\n",
              "  <tbody>\n",
              "    <tr>\n",
              "      <th>0</th>\n",
              "      <td>00000aa4-ba42-9b68-a9c3-040c9f3bf9b9</td>\n",
              "      <td>1</td>\n",
              "    </tr>\n",
              "    <tr>\n",
              "      <th>1</th>\n",
              "      <td>000014da-0c46-b9cb-0941-3a93c027b119</td>\n",
              "      <td>7</td>\n",
              "    </tr>\n",
              "    <tr>\n",
              "      <th>2</th>\n",
              "      <td>00002470-bff7-6226-5800-0ca1b3787b6f</td>\n",
              "      <td>5</td>\n",
              "    </tr>\n",
              "    <tr>\n",
              "      <th>3</th>\n",
              "      <td>000095de-8e2b-82f1-32a7-c222ba3d5682</td>\n",
              "      <td>1</td>\n",
              "    </tr>\n",
              "    <tr>\n",
              "      <th>4</th>\n",
              "      <td>0000d497-c93a-eea3-eeb0-a943dfb4f71e</td>\n",
              "      <td>2</td>\n",
              "    </tr>\n",
              "  </tbody>\n",
              "</table>\n",
              "</div>"
            ],
            "text/plain": [
              "                               org_uuid  num_funding_rounds\n",
              "0  00000aa4-ba42-9b68-a9c3-040c9f3bf9b9                   1\n",
              "1  000014da-0c46-b9cb-0941-3a93c027b119                   7\n",
              "2  00002470-bff7-6226-5800-0ca1b3787b6f                   5\n",
              "3  000095de-8e2b-82f1-32a7-c222ba3d5682                   1\n",
              "4  0000d497-c93a-eea3-eeb0-a943dfb4f71e                   2"
            ]
          },
          "metadata": {
            "tags": []
          },
          "execution_count": 11
        }
      ]
    },
    {
      "cell_type": "code",
      "metadata": {
        "id": "4VHISpGkXWQY",
        "colab_type": "code",
        "colab": {
          "base_uri": "https://localhost:8080/",
          "height": 227
        },
        "outputId": "16ca1d29-eafc-44b8-eebd-3c2aaef32763"
      },
      "source": [
        "avg_funding_amt_usd = funding_df.groupby(\"org_uuid\", as_index=\"False\").mean(numeric_only=True)[[\"raised_amount_usd\"]].dropna(how=\"all\", subset=[\"raised_amount_usd\"])\n",
        "avg_funding_amt_usd.head()"
      ],
      "execution_count": null,
      "outputs": [
        {
          "output_type": "execute_result",
          "data": {
            "text/html": [
              "<div>\n",
              "<style scoped>\n",
              "    .dataframe tbody tr th:only-of-type {\n",
              "        vertical-align: middle;\n",
              "    }\n",
              "\n",
              "    .dataframe tbody tr th {\n",
              "        vertical-align: top;\n",
              "    }\n",
              "\n",
              "    .dataframe thead th {\n",
              "        text-align: right;\n",
              "    }\n",
              "</style>\n",
              "<table border=\"1\" class=\"dataframe\">\n",
              "  <thead>\n",
              "    <tr style=\"text-align: right;\">\n",
              "      <th></th>\n",
              "      <th>raised_amount_usd</th>\n",
              "    </tr>\n",
              "    <tr>\n",
              "      <th>org_uuid</th>\n",
              "      <th></th>\n",
              "    </tr>\n",
              "  </thead>\n",
              "  <tbody>\n",
              "    <tr>\n",
              "      <th>00000aa4-ba42-9b68-a9c3-040c9f3bf9b9</th>\n",
              "      <td>8.260736e+07</td>\n",
              "    </tr>\n",
              "    <tr>\n",
              "      <th>00002470-bff7-6226-5800-0ca1b3787b6f</th>\n",
              "      <td>1.133333e+06</td>\n",
              "    </tr>\n",
              "    <tr>\n",
              "      <th>000095de-8e2b-82f1-32a7-c222ba3d5682</th>\n",
              "      <td>9.500000e+06</td>\n",
              "    </tr>\n",
              "    <tr>\n",
              "      <th>0000d497-c93a-eea3-eeb0-a943dfb4f71e</th>\n",
              "      <td>4.315760e+05</td>\n",
              "    </tr>\n",
              "    <tr>\n",
              "      <th>0001a8cc-0cdc-4a30-b4d3-da1b425069e1</th>\n",
              "      <td>1.500000e+06</td>\n",
              "    </tr>\n",
              "  </tbody>\n",
              "</table>\n",
              "</div>"
            ],
            "text/plain": [
              "                                      raised_amount_usd\n",
              "org_uuid                                               \n",
              "00000aa4-ba42-9b68-a9c3-040c9f3bf9b9       8.260736e+07\n",
              "00002470-bff7-6226-5800-0ca1b3787b6f       1.133333e+06\n",
              "000095de-8e2b-82f1-32a7-c222ba3d5682       9.500000e+06\n",
              "0000d497-c93a-eea3-eeb0-a943dfb4f71e       4.315760e+05\n",
              "0001a8cc-0cdc-4a30-b4d3-da1b425069e1       1.500000e+06"
            ]
          },
          "metadata": {
            "tags": []
          },
          "execution_count": 21
        }
      ]
    },
    {
      "cell_type": "code",
      "metadata": {
        "id": "GXDqYv-QYQc3",
        "colab_type": "code",
        "colab": {
          "base_uri": "https://localhost:8080/",
          "height": 406
        },
        "outputId": "ce22ab17-288b-46c5-8fb6-1a545547097b"
      },
      "source": [
        "funding_features = num_funding_rounds.join(avg_funding_amt_usd, on=\"org_uuid\")\n",
        "funding_features[:100]"
      ],
      "execution_count": null,
      "outputs": [
        {
          "output_type": "execute_result",
          "data": {
            "text/html": [
              "<div>\n",
              "<style scoped>\n",
              "    .dataframe tbody tr th:only-of-type {\n",
              "        vertical-align: middle;\n",
              "    }\n",
              "\n",
              "    .dataframe tbody tr th {\n",
              "        vertical-align: top;\n",
              "    }\n",
              "\n",
              "    .dataframe thead th {\n",
              "        text-align: right;\n",
              "    }\n",
              "</style>\n",
              "<table border=\"1\" class=\"dataframe\">\n",
              "  <thead>\n",
              "    <tr style=\"text-align: right;\">\n",
              "      <th></th>\n",
              "      <th>org_uuid</th>\n",
              "      <th>num_funding_rounds</th>\n",
              "      <th>raised_amount_usd</th>\n",
              "    </tr>\n",
              "  </thead>\n",
              "  <tbody>\n",
              "    <tr>\n",
              "      <th>0</th>\n",
              "      <td>00000aa4-ba42-9b68-a9c3-040c9f3bf9b9</td>\n",
              "      <td>1</td>\n",
              "      <td>8.260736e+07</td>\n",
              "    </tr>\n",
              "    <tr>\n",
              "      <th>1</th>\n",
              "      <td>000014da-0c46-b9cb-0941-3a93c027b119</td>\n",
              "      <td>7</td>\n",
              "      <td>NaN</td>\n",
              "    </tr>\n",
              "    <tr>\n",
              "      <th>2</th>\n",
              "      <td>00002470-bff7-6226-5800-0ca1b3787b6f</td>\n",
              "      <td>5</td>\n",
              "      <td>1.133333e+06</td>\n",
              "    </tr>\n",
              "    <tr>\n",
              "      <th>3</th>\n",
              "      <td>000095de-8e2b-82f1-32a7-c222ba3d5682</td>\n",
              "      <td>1</td>\n",
              "      <td>9.500000e+06</td>\n",
              "    </tr>\n",
              "    <tr>\n",
              "      <th>4</th>\n",
              "      <td>0000d497-c93a-eea3-eeb0-a943dfb4f71e</td>\n",
              "      <td>2</td>\n",
              "      <td>4.315760e+05</td>\n",
              "    </tr>\n",
              "    <tr>\n",
              "      <th>...</th>\n",
              "      <td>...</td>\n",
              "      <td>...</td>\n",
              "      <td>...</td>\n",
              "    </tr>\n",
              "    <tr>\n",
              "      <th>95</th>\n",
              "      <td>00295b25-f235-462c-a096-90eee885b296</td>\n",
              "      <td>1</td>\n",
              "      <td>NaN</td>\n",
              "    </tr>\n",
              "    <tr>\n",
              "      <th>96</th>\n",
              "      <td>002aac96-79d4-a8f3-8ef0-d44fb240951d</td>\n",
              "      <td>1</td>\n",
              "      <td>3.000000e+06</td>\n",
              "    </tr>\n",
              "    <tr>\n",
              "      <th>97</th>\n",
              "      <td>002ad549-e548-4dcd-9eb6-1029c7590c4b</td>\n",
              "      <td>1</td>\n",
              "      <td>2.236403e+06</td>\n",
              "    </tr>\n",
              "    <tr>\n",
              "      <th>98</th>\n",
              "      <td>002b904e-7583-3ab0-3151-d130e0db7561</td>\n",
              "      <td>1</td>\n",
              "      <td>1.000000e+03</td>\n",
              "    </tr>\n",
              "    <tr>\n",
              "      <th>99</th>\n",
              "      <td>002b9a46-8b9c-4706-ab13-405be3c0d0ad</td>\n",
              "      <td>1</td>\n",
              "      <td>NaN</td>\n",
              "    </tr>\n",
              "  </tbody>\n",
              "</table>\n",
              "<p>100 rows × 3 columns</p>\n",
              "</div>"
            ],
            "text/plain": [
              "                                org_uuid  num_funding_rounds  raised_amount_usd\n",
              "0   00000aa4-ba42-9b68-a9c3-040c9f3bf9b9                   1       8.260736e+07\n",
              "1   000014da-0c46-b9cb-0941-3a93c027b119                   7                NaN\n",
              "2   00002470-bff7-6226-5800-0ca1b3787b6f                   5       1.133333e+06\n",
              "3   000095de-8e2b-82f1-32a7-c222ba3d5682                   1       9.500000e+06\n",
              "4   0000d497-c93a-eea3-eeb0-a943dfb4f71e                   2       4.315760e+05\n",
              "..                                   ...                 ...                ...\n",
              "95  00295b25-f235-462c-a096-90eee885b296                   1                NaN\n",
              "96  002aac96-79d4-a8f3-8ef0-d44fb240951d                   1       3.000000e+06\n",
              "97  002ad549-e548-4dcd-9eb6-1029c7590c4b                   1       2.236403e+06\n",
              "98  002b904e-7583-3ab0-3151-d130e0db7561                   1       1.000000e+03\n",
              "99  002b9a46-8b9c-4706-ab13-405be3c0d0ad                   1                NaN\n",
              "\n",
              "[100 rows x 3 columns]"
            ]
          },
          "metadata": {
            "tags": []
          },
          "execution_count": 25
        }
      ]
    },
    {
      "cell_type": "code",
      "metadata": {
        "id": "_eD3RmChZWid",
        "colab_type": "code",
        "colab": {
          "base_uri": "https://localhost:8080/",
          "height": 16
        },
        "outputId": "7ae61afd-a920-4143-e3f3-6cc9ee3297e0"
      },
      "source": [
        "from google.colab import files\n",
        "\n",
        "# export features to csv\n",
        "funding_features.to_csv('funding_features.csv', columns = [\"org_uuid\", \"num_funding_rounds\", \"raised_amount_usd\"], index=False) \n",
        "files.download('funding_features.csv')"
      ],
      "execution_count": null,
      "outputs": [
        {
          "output_type": "display_data",
          "data": {
            "application/javascript": [
              "\n",
              "    async function download(id, filename, size) {\n",
              "      if (!google.colab.kernel.accessAllowed) {\n",
              "        return;\n",
              "      }\n",
              "      const div = document.createElement('div');\n",
              "      const label = document.createElement('label');\n",
              "      label.textContent = `Downloading \"${filename}\": `;\n",
              "      div.appendChild(label);\n",
              "      const progress = document.createElement('progress');\n",
              "      progress.max = size;\n",
              "      div.appendChild(progress);\n",
              "      document.body.appendChild(div);\n",
              "\n",
              "      const buffers = [];\n",
              "      let downloaded = 0;\n",
              "\n",
              "      const channel = await google.colab.kernel.comms.open(id);\n",
              "      // Send a message to notify the kernel that we're ready.\n",
              "      channel.send({})\n",
              "\n",
              "      for await (const message of channel.messages) {\n",
              "        // Send a message to notify the kernel that we're ready.\n",
              "        channel.send({})\n",
              "        if (message.buffers) {\n",
              "          for (const buffer of message.buffers) {\n",
              "            buffers.push(buffer);\n",
              "            downloaded += buffer.byteLength;\n",
              "            progress.value = downloaded;\n",
              "          }\n",
              "        }\n",
              "      }\n",
              "      const blob = new Blob(buffers, {type: 'application/binary'});\n",
              "      const a = document.createElement('a');\n",
              "      a.href = window.URL.createObjectURL(blob);\n",
              "      a.download = filename;\n",
              "      div.appendChild(a);\n",
              "      a.click();\n",
              "      div.remove();\n",
              "    }\n",
              "  "
            ],
            "text/plain": [
              "<IPython.core.display.Javascript object>"
            ]
          },
          "metadata": {
            "tags": []
          }
        },
        {
          "output_type": "display_data",
          "data": {
            "application/javascript": [
              "download(\"download_014b7af2-a620-411b-a871-328addc03b97\", \"funding_features.csv\", 8315527)"
            ],
            "text/plain": [
              "<IPython.core.display.Javascript object>"
            ]
          },
          "metadata": {
            "tags": []
          }
        }
      ]
    },
    {
      "cell_type": "markdown",
      "metadata": {
        "id": "20b-PujbX_lv",
        "colab_type": "text"
      },
      "source": [
        "Time-variant regression features"
      ]
    },
    {
      "cell_type": "code",
      "metadata": {
        "id": "amN7fQIbWGhj",
        "colab_type": "code",
        "colab": {
          "base_uri": "https://localhost:8080/",
          "height": 107
        },
        "outputId": "73ac3145-25e6-4728-f291-c4dd180bc553"
      },
      "source": [
        "acquisitions_df = pd.read_csv(\"/content/gdrive/My Drive/vc_modeling/data/crunchbase_bulk_export/acquisitions.csv\")\n",
        "ipos_df = pd.read_csv(\"/content/gdrive/My Drive/vc_modeling/data/crunchbase_bulk_export/ipos.csv\")\n",
        "\n",
        "\n",
        "funding_data = funding_df[['org_uuid', 'announced_on', 'post_money_valuation_usd']].rename(columns={\"announced_on\": \"date\", \"post_money_valuation_usd\": \"valuation\"})\n",
        "acquisitions_data = acquisitions_df[['acquiree_uuid', 'acquired_on', 'price_usd']].rename(columns={\"acquiree_uuid\": \"org_uuid\", \"acquired_on\": \"date\", \"price_usd\": \"valuation\"})\n",
        "ipos_data = ipos_df[['org_uuid', 'went_public_on', 'valuation_price_usd']].rename(columns={\"went_public_on\": \"date\", \"valuation_price_usd\": \"valuation\"})\n",
        "\n",
        "types = acquisitions_df[['type']].values\n",
        "acquisition_types = acquisitions_df[['acquisition_type']].values\n",
        "acquisitions_data['event'] = [types[x][0] if not isinstance(acquisition_types[x][0], str) \n",
        "                              else acquisition_types[x][0] for x in range(len(acquisitions_data))]\n",
        "funding_data['event'] = pd.Series([x[0] for x in funding_df['name'].str.split(\" - \")])\n",
        "ipos_data['event'] = ipos_df['stock_exchange_symbol']\n",
        "\n",
        "timelines = pd.concat([funding_data, acquisitions_data, ipos_data])\n",
        "\n",
        "# Normalize dates\n",
        "\n",
        "timelines.sort_values(by=['org_uuid', 'date'], inplace=True)\n",
        "timelines.reset_index(inplace=True, drop=True)\n",
        "timelines = timelines[timelines['valuation'].notnull()]  # We only care about times at which there is a valuation of the company.\n",
        "timelines.set_index(['org_uuid'])\n",
        "grouped_timelines = timelines.groupby(['org_uuid'])\n",
        "timeline_counts = grouped_timelines.count().reset_index()\n",
        "orgs_with_2plus_vals = timeline_counts[timeline_counts['date']>1].org_uuid.unique()  # at least 2 valuations\n",
        "timelines = timelines[timelines['org_uuid'].isin(orgs_with_2plus_vals)]\n",
        "\n",
        "milli_per_day = 86400  # Used for converting Unix time\n",
        "\n",
        "regression_df = pd.DataFrame()\n",
        "for company_id in timelines.org_uuid.unique():\n",
        "  timeline = grouped_timelines.get_group(company_id).copy()\n",
        "  timeline.reset_index(inplace=True, drop=True)\n",
        "  if timeline.empty:\n",
        "    continue\n",
        "\n",
        "  # print(timeline['date'])\n",
        "  day_zero = datetime.datetime.strptime(timeline['date'].iloc[0], '%Y-%m-%d').timestamp()\n",
        "  parsed_dates = pd.Series([datetime.datetime.strptime(x, '%Y-%m-%d').timestamp() for x in timeline['date']])\n",
        "  norm_dates = (parsed_dates - day_zero)/milli_per_day\n",
        "  timeline['norm_dates'] = norm_dates\n",
        "  regression_df = regression_df.append(timeline)\n",
        "\n",
        "regression_df.head(2)"
      ],
      "execution_count": 26,
      "outputs": [
        {
          "output_type": "execute_result",
          "data": {
            "text/html": [
              "<div>\n",
              "<style scoped>\n",
              "    .dataframe tbody tr th:only-of-type {\n",
              "        vertical-align: middle;\n",
              "    }\n",
              "\n",
              "    .dataframe tbody tr th {\n",
              "        vertical-align: top;\n",
              "    }\n",
              "\n",
              "    .dataframe thead th {\n",
              "        text-align: right;\n",
              "    }\n",
              "</style>\n",
              "<table border=\"1\" class=\"dataframe\">\n",
              "  <thead>\n",
              "    <tr style=\"text-align: right;\">\n",
              "      <th></th>\n",
              "      <th>org_uuid</th>\n",
              "      <th>date</th>\n",
              "      <th>valuation</th>\n",
              "      <th>event</th>\n",
              "      <th>norm_dates</th>\n",
              "    </tr>\n",
              "  </thead>\n",
              "  <tbody>\n",
              "    <tr>\n",
              "      <th>0</th>\n",
              "      <td>0070da44-2860-2901-9ace-4c633fb657b2</td>\n",
              "      <td>1996-09-13</td>\n",
              "      <td>7.000000e+09</td>\n",
              "      <td>acquisition</td>\n",
              "      <td>0.0</td>\n",
              "    </tr>\n",
              "    <tr>\n",
              "      <th>1</th>\n",
              "      <td>0070da44-2860-2901-9ace-4c633fb657b2</td>\n",
              "      <td>2014-11-13</td>\n",
              "      <td>4.700000e+09</td>\n",
              "      <td>acquisition</td>\n",
              "      <td>6635.0</td>\n",
              "    </tr>\n",
              "  </tbody>\n",
              "</table>\n",
              "</div>"
            ],
            "text/plain": [
              "                               org_uuid        date  ...        event norm_dates\n",
              "0  0070da44-2860-2901-9ace-4c633fb657b2  1996-09-13  ...  acquisition        0.0\n",
              "1  0070da44-2860-2901-9ace-4c633fb657b2  2014-11-13  ...  acquisition     6635.0\n",
              "\n",
              "[2 rows x 5 columns]"
            ]
          },
          "metadata": {
            "tags": []
          },
          "execution_count": 26
        }
      ]
    },
    {
      "cell_type": "code",
      "metadata": {
        "id": "wMIvYVgRYWoB",
        "colab_type": "code",
        "colab": {}
      },
      "source": [
        "org_launches = regression_df.groupby('org_uuid').min().reset_index()[['org_uuid', 'date']]\n",
        "org_launch_dict = dict(zip(org_launches.org_uuid.values, org_launches.date.values))"
      ],
      "execution_count": 27,
      "outputs": []
    },
    {
      "cell_type": "code",
      "metadata": {
        "id": "ds9M7duUYL4-",
        "colab_type": "code",
        "colab": {}
      },
      "source": [
        "def get_org_funding_features(org_uuid, days_forward):\n",
        "\n",
        "  org_launch_date = org_launch_dict[org_uuid]\n",
        "  days_forward_date = arrow.get(org_launch_date).shift(days=days_forward).format('YYYY-MM-DD')\n",
        "  df = funding_df[(funding_df['org_uuid'] == org_uuid) & (funding_df['announced_on'] <= days_forward_date)]\n",
        "  \n",
        "  # num funding rounds\n",
        "  num_funding_rounds = df.groupby(\"org_uuid\", as_index=\"False\").size().reset_index(name=\"num_funding_rounds\")\n",
        "\n",
        "  # funding amount usd\n",
        "  avg_funding_amt_usd = df.groupby(\"org_uuid\", as_index=\"False\").mean(numeric_only=True)[[\"raised_amount_usd\"]].dropna(how=\"all\", subset=[\"raised_amount_usd\"])\n",
        "  \n",
        "  return num_funding_rounds.merge(avg_funding_amt_usd, on=['org_uuid'])\n",
        "  "
      ],
      "execution_count": 43,
      "outputs": []
    },
    {
      "cell_type": "code",
      "metadata": {
        "id": "180By4hDY7-o",
        "colab_type": "code",
        "colab": {
          "base_uri": "https://localhost:8080/",
          "height": 77
        },
        "outputId": "36d1354a-5395-4e16-e35e-29f997b70476"
      },
      "source": [
        "org_uuid = 'df662812-7f97-0b43-9d3e-12f64f504fbb'  # facebook\n",
        "days_forward = 200\n",
        "\n",
        "get_org_funding_features(org_uuid, days_forward)"
      ],
      "execution_count": 45,
      "outputs": [
        {
          "output_type": "execute_result",
          "data": {
            "text/html": [
              "<div>\n",
              "<style scoped>\n",
              "    .dataframe tbody tr th:only-of-type {\n",
              "        vertical-align: middle;\n",
              "    }\n",
              "\n",
              "    .dataframe tbody tr th {\n",
              "        vertical-align: top;\n",
              "    }\n",
              "\n",
              "    .dataframe thead th {\n",
              "        text-align: right;\n",
              "    }\n",
              "</style>\n",
              "<table border=\"1\" class=\"dataframe\">\n",
              "  <thead>\n",
              "    <tr style=\"text-align: right;\">\n",
              "      <th></th>\n",
              "      <th>org_uuid</th>\n",
              "      <th>num_funding_rounds</th>\n",
              "      <th>raised_amount_usd</th>\n",
              "    </tr>\n",
              "  </thead>\n",
              "  <tbody>\n",
              "    <tr>\n",
              "      <th>0</th>\n",
              "      <td>df662812-7f97-0b43-9d3e-12f64f504fbb</td>\n",
              "      <td>2</td>\n",
              "      <td>6600000.0</td>\n",
              "    </tr>\n",
              "  </tbody>\n",
              "</table>\n",
              "</div>"
            ],
            "text/plain": [
              "                               org_uuid  num_funding_rounds  raised_amount_usd\n",
              "0  df662812-7f97-0b43-9d3e-12f64f504fbb                   2          6600000.0"
            ]
          },
          "metadata": {
            "tags": []
          },
          "execution_count": 45
        }
      ]
    },
    {
      "cell_type": "code",
      "metadata": {
        "id": "3czzXYBdWClr",
        "colab_type": "code",
        "colab": {
          "base_uri": "https://localhost:8080/",
          "height": 347
        },
        "outputId": "edad3d9b-de05-41d9-a82b-0ba80d031087"
      },
      "source": [
        "DAYS_FORWARD_OPTIONS = [200, 500, 1000, 2000]\n",
        "\n",
        "features_by_days_forward = pd.DataFrame()\n",
        "\n",
        "for org_uuid in regression_df.org_uuid.unique():\n",
        "  for days_forward in DAYS_FORWARD_OPTIONS:\n",
        "    org_features = get_org_funding_features(org_uuid, days_forward)\n",
        "    org_features['days_forward'] = days_forward\n",
        "    features_by_days_forward = features_by_days_forward.append(org_features)\n",
        "\n",
        "features_by_days_forward.to_csv(\"/content/gdrive/My Drive/vc_modeling/data/funding_features_for_regression.csv\", index=False)\n",
        "features_by_days_forward.head(10)"
      ],
      "execution_count": 49,
      "outputs": [
        {
          "output_type": "execute_result",
          "data": {
            "text/html": [
              "<div>\n",
              "<style scoped>\n",
              "    .dataframe tbody tr th:only-of-type {\n",
              "        vertical-align: middle;\n",
              "    }\n",
              "\n",
              "    .dataframe tbody tr th {\n",
              "        vertical-align: top;\n",
              "    }\n",
              "\n",
              "    .dataframe thead th {\n",
              "        text-align: right;\n",
              "    }\n",
              "</style>\n",
              "<table border=\"1\" class=\"dataframe\">\n",
              "  <thead>\n",
              "    <tr style=\"text-align: right;\">\n",
              "      <th></th>\n",
              "      <th>org_uuid</th>\n",
              "      <th>num_funding_rounds</th>\n",
              "      <th>raised_amount_usd</th>\n",
              "      <th>days_forward</th>\n",
              "    </tr>\n",
              "  </thead>\n",
              "  <tbody>\n",
              "    <tr>\n",
              "      <th>0</th>\n",
              "      <td>007bfe46-e02c-00b3-51ad-3a25e8d64851</td>\n",
              "      <td>1</td>\n",
              "      <td>2.458700e+05</td>\n",
              "      <td>200</td>\n",
              "    </tr>\n",
              "    <tr>\n",
              "      <th>0</th>\n",
              "      <td>007bfe46-e02c-00b3-51ad-3a25e8d64851</td>\n",
              "      <td>3</td>\n",
              "      <td>8.766840e+05</td>\n",
              "      <td>500</td>\n",
              "    </tr>\n",
              "    <tr>\n",
              "      <th>0</th>\n",
              "      <td>007bfe46-e02c-00b3-51ad-3a25e8d64851</td>\n",
              "      <td>4</td>\n",
              "      <td>1.155582e+06</td>\n",
              "      <td>1000</td>\n",
              "    </tr>\n",
              "    <tr>\n",
              "      <th>0</th>\n",
              "      <td>007bfe46-e02c-00b3-51ad-3a25e8d64851</td>\n",
              "      <td>5</td>\n",
              "      <td>1.140286e+06</td>\n",
              "      <td>2000</td>\n",
              "    </tr>\n",
              "    <tr>\n",
              "      <th>0</th>\n",
              "      <td>009ae60e-6dec-7a8c-8382-2edccb0f9cce</td>\n",
              "      <td>1</td>\n",
              "      <td>6.411100e+04</td>\n",
              "      <td>200</td>\n",
              "    </tr>\n",
              "    <tr>\n",
              "      <th>0</th>\n",
              "      <td>009ae60e-6dec-7a8c-8382-2edccb0f9cce</td>\n",
              "      <td>3</td>\n",
              "      <td>1.090555e+05</td>\n",
              "      <td>500</td>\n",
              "    </tr>\n",
              "    <tr>\n",
              "      <th>0</th>\n",
              "      <td>009ae60e-6dec-7a8c-8382-2edccb0f9cce</td>\n",
              "      <td>4</td>\n",
              "      <td>1.118563e+05</td>\n",
              "      <td>1000</td>\n",
              "    </tr>\n",
              "    <tr>\n",
              "      <th>0</th>\n",
              "      <td>009ae60e-6dec-7a8c-8382-2edccb0f9cce</td>\n",
              "      <td>4</td>\n",
              "      <td>1.118563e+05</td>\n",
              "      <td>2000</td>\n",
              "    </tr>\n",
              "    <tr>\n",
              "      <th>0</th>\n",
              "      <td>00bf570a-fca7-47bc-97c3-578f1be0069e</td>\n",
              "      <td>1</td>\n",
              "      <td>6.500000e+05</td>\n",
              "      <td>200</td>\n",
              "    </tr>\n",
              "    <tr>\n",
              "      <th>0</th>\n",
              "      <td>00bf570a-fca7-47bc-97c3-578f1be0069e</td>\n",
              "      <td>1</td>\n",
              "      <td>6.500000e+05</td>\n",
              "      <td>500</td>\n",
              "    </tr>\n",
              "  </tbody>\n",
              "</table>\n",
              "</div>"
            ],
            "text/plain": [
              "                               org_uuid  ...  days_forward\n",
              "0  007bfe46-e02c-00b3-51ad-3a25e8d64851  ...           200\n",
              "0  007bfe46-e02c-00b3-51ad-3a25e8d64851  ...           500\n",
              "0  007bfe46-e02c-00b3-51ad-3a25e8d64851  ...          1000\n",
              "0  007bfe46-e02c-00b3-51ad-3a25e8d64851  ...          2000\n",
              "0  009ae60e-6dec-7a8c-8382-2edccb0f9cce  ...           200\n",
              "0  009ae60e-6dec-7a8c-8382-2edccb0f9cce  ...           500\n",
              "0  009ae60e-6dec-7a8c-8382-2edccb0f9cce  ...          1000\n",
              "0  009ae60e-6dec-7a8c-8382-2edccb0f9cce  ...          2000\n",
              "0  00bf570a-fca7-47bc-97c3-578f1be0069e  ...           200\n",
              "0  00bf570a-fca7-47bc-97c3-578f1be0069e  ...           500\n",
              "\n",
              "[10 rows x 4 columns]"
            ]
          },
          "metadata": {
            "tags": []
          },
          "execution_count": 49
        }
      ]
    },
    {
      "cell_type": "code",
      "metadata": {
        "id": "mVnQso_DaLn9",
        "colab_type": "code",
        "colab": {}
      },
      "source": [
        ""
      ],
      "execution_count": null,
      "outputs": []
    }
  ]
}